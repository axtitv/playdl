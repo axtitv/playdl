{
 "cells": [
  {
   "cell_type": "markdown",
   "metadata": {},
   "source": [
    "# Collaborative filtering\n",
    "\n",
    "To learn more about collaborative filtering and PyTorch, I'm going to derive an implementation based upon the ideas in [fastai book chapter 8](https://github.com/fastai/fastbook/blob/master/08_collab.ipynb) for user-movie-ratings from [MovieLens](https://grouplens.org/datasets/movielens/)."
   ]
  },
  {
   "cell_type": "markdown",
   "metadata": {},
   "source": [
    "## Get some movie reviews\n",
    "\n",
    "I will grab [a small subset](http://files.grouplens.org/datasets/movielens/ml-latest-small.zip) and put into `data` subdir:\n",
    "\n",
    "```\n",
    "data/ml-latest-small\n",
    "├── README.txt\n",
    "├── links.csv\n",
    "├── movies.csv\n",
    "├── ratings.csv\n",
    "└── tags.csv\n",
    "```\n",
    "\n",
    "\"*Ratings are made on a 5-star scale, with half-star increments (0.5 stars - 5.0 stars).*\" The `ratings.csv` file looks like:\n",
    "\n",
    "```\n",
    "userId,movieId,rating,timestamp\n",
    "1,1,4.0,964982703\n",
    "1,3,4.0,964981247\n",
    "1,6,4.0,964982224\n",
    "1,47,5.0,964983815\n",
    "...\n",
    "```\n",
    "\n",
    "And, in case we are curious, `movies.csv` has:\n",
    "\n",
    "```\n",
    "movieId,title,genres\n",
    "1,Toy Story (1995),Adventure|Animation|Children|Comedy|Fantasy\n",
    "2,Jumanji (1995),Adventure|Children|Fantasy\n",
    "3,Grumpier Old Men (1995),Comedy|Romance\n",
    "...\n",
    "```"
   ]
  },
  {
   "cell_type": "code",
   "execution_count": 584,
   "metadata": {},
   "outputs": [],
   "source": [
    "import pandas as pd\n",
    "import torch  # Let's try this with PyTorch not numpy\n",
    "# import numpy as np\n",
    "import re\n",
    "# np.set_printoptions(precision=2, suppress=True, linewidth=3000, threshold=20000)\n",
    "\n",
    "def load(n = 10):\n",
    "    df_ratings = pd.read_csv('data/ml-latest-small/ratings.csv')\n",
    "    df_ratings = df_ratings.drop('timestamp', axis=1)\n",
    "    df_ratings = df_ratings.sample(n=n).reset_index(drop=True)\n",
    "    # Merge in the title and genres\n",
    "    df_movies = pd.read_csv('data/ml-latest-small/movies.csv')\n",
    "    df = df_ratings.merge(df_movies, on='movieId')\n",
    "    # Strip the \"(1999)\" dates from the titles\n",
    "    p = re.compile(r'[()0-9]+$')\n",
    "    df['title'] = df['title'].map(lambda x: p.sub('', x).strip())\n",
    "    return df\n",
    "\n",
    "def compress_cats(df, colname):\n",
    "    df[colname] = df[colname].astype('category').cat.as_ordered()\n",
    "    df[colname] = df[colname].cat.codes # encode 0..n-1  NB: Different than I usually do (1..n)!!!!\n",
    "    df[colname] = df[colname].astype(int)"
   ]
  },
  {
   "cell_type": "markdown",
   "metadata": {},
   "source": [
    "## Matrix of user x movie with ratings as elements"
   ]
  },
  {
   "cell_type": "markdown",
   "metadata": {},
   "source": [
    "Let's create a matrix that maps user and movie to a rating. Most of the entries will be zero because not all users have seen all movies. We can start with just a few records so that we can see the entire matrix at once. Zeros in the matrix indicate that the user has not rated that movie. $R_{u,m}$ is rating for user $u$ and movie $m$."
   ]
  },
  {
   "cell_type": "code",
   "execution_count": 585,
   "metadata": {},
   "outputs": [
    {
     "data": {
      "text/html": [
       "<div>\n",
       "<style scoped>\n",
       "    .dataframe tbody tr th:only-of-type {\n",
       "        vertical-align: middle;\n",
       "    }\n",
       "\n",
       "    .dataframe tbody tr th {\n",
       "        vertical-align: top;\n",
       "    }\n",
       "\n",
       "    .dataframe thead th {\n",
       "        text-align: right;\n",
       "    }\n",
       "</style>\n",
       "<table border=\"1\" class=\"dataframe\">\n",
       "  <thead>\n",
       "    <tr style=\"text-align: right;\">\n",
       "      <th></th>\n",
       "      <th>userId</th>\n",
       "      <th>movieId</th>\n",
       "      <th>rating</th>\n",
       "      <th>title</th>\n",
       "      <th>genres</th>\n",
       "    </tr>\n",
       "  </thead>\n",
       "  <tbody>\n",
       "    <tr>\n",
       "      <td>0</td>\n",
       "      <td>3</td>\n",
       "      <td>1</td>\n",
       "      <td>3.0</td>\n",
       "      <td>Striptease</td>\n",
       "      <td>Comedy|Crime</td>\n",
       "    </tr>\n",
       "    <tr>\n",
       "      <td>1</td>\n",
       "      <td>4</td>\n",
       "      <td>3</td>\n",
       "      <td>2.5</td>\n",
       "      <td>Family Stone, The</td>\n",
       "      <td>Comedy|Drama|Romance</td>\n",
       "    </tr>\n",
       "    <tr>\n",
       "      <td>2</td>\n",
       "      <td>0</td>\n",
       "      <td>4</td>\n",
       "      <td>4.0</td>\n",
       "      <td>Skyfall</td>\n",
       "      <td>Action|Adventure|Thriller|IMAX</td>\n",
       "    </tr>\n",
       "    <tr>\n",
       "      <td>3</td>\n",
       "      <td>1</td>\n",
       "      <td>2</td>\n",
       "      <td>2.0</td>\n",
       "      <td>Very Brady Sequel, A</td>\n",
       "      <td>Comedy</td>\n",
       "    </tr>\n",
       "    <tr>\n",
       "      <td>4</td>\n",
       "      <td>5</td>\n",
       "      <td>5</td>\n",
       "      <td>3.5</td>\n",
       "      <td>Star Trek Into Darkness</td>\n",
       "      <td>Action|Adventure|Sci-Fi|IMAX</td>\n",
       "    </tr>\n",
       "    <tr>\n",
       "      <td>5</td>\n",
       "      <td>2</td>\n",
       "      <td>0</td>\n",
       "      <td>3.0</td>\n",
       "      <td>Judge Dredd</td>\n",
       "      <td>Action|Crime|Sci-Fi</td>\n",
       "    </tr>\n",
       "  </tbody>\n",
       "</table>\n",
       "</div>"
      ],
      "text/plain": [
       "   userId  movieId  rating                    title  \\\n",
       "0       3        1     3.0               Striptease   \n",
       "1       4        3     2.5        Family Stone, The   \n",
       "2       0        4     4.0                  Skyfall   \n",
       "3       1        2     2.0     Very Brady Sequel, A   \n",
       "4       5        5     3.5  Star Trek Into Darkness   \n",
       "5       2        0     3.0              Judge Dredd   \n",
       "\n",
       "                           genres  \n",
       "0                    Comedy|Crime  \n",
       "1            Comedy|Drama|Romance  \n",
       "2  Action|Adventure|Thriller|IMAX  \n",
       "3                          Comedy  \n",
       "4    Action|Adventure|Sci-Fi|IMAX  \n",
       "5             Action|Crime|Sci-Fi  "
      ]
     },
     "execution_count": 585,
     "metadata": {},
     "output_type": "execute_result"
    }
   ],
   "source": [
    "df = load(n=6)\n",
    "nmovies = len(df.groupby('movieId').count())\n",
    "nusers = len(df.groupby('movieId').count())\n",
    "compress_cats(df, 'movieId') # make IDs 1..nmovies\n",
    "compress_cats(df, 'userId')\n",
    "df"
   ]
  },
  {
   "cell_type": "code",
   "execution_count": 586,
   "metadata": {},
   "outputs": [
    {
     "data": {
      "text/plain": [
       "tensor([[0.0000, 0.0000, 0.0000, 0.0000, 4.0000, 0.0000],\n",
       "        [0.0000, 0.0000, 2.0000, 0.0000, 0.0000, 0.0000],\n",
       "        [3.0000, 0.0000, 0.0000, 0.0000, 0.0000, 0.0000],\n",
       "        [0.0000, 3.0000, 0.0000, 0.0000, 0.0000, 0.0000],\n",
       "        [0.0000, 0.0000, 0.0000, 2.5000, 0.0000, 0.0000],\n",
       "        [0.0000, 0.0000, 0.0000, 0.0000, 0.0000, 3.5000]])"
      ]
     },
     "execution_count": 586,
     "metadata": {},
     "output_type": "execute_result"
    }
   ],
   "source": [
    "dtype = torch.float\n",
    "device = torch.device(\"cpu\")\n",
    "\n",
    "def R_matrix(df):\n",
    "    nmovies = len(df.groupby('movieId').count())\n",
    "    nusers = len(df.groupby('movieId').count())\n",
    "    R = torch.zeros(nusers, nmovies, device=device, dtype=dtype)\n",
    "    for u,m,r,_,_ in df.values:\n",
    "        R[u,m] = r  # user u and movie m get rating r\n",
    "    return R\n",
    "\n",
    "R = R_matrix(df)\n",
    "R"
   ]
  },
  {
   "cell_type": "markdown",
   "metadata": {},
   "source": [
    "## Latent factors == dense embedding vectors\n",
    "\n",
    "The goal is to replace the 0s with a predicted rating, just as I did when [creating the embeddings](catvar-embeddings-split-homebrew.ipynb), but this time we will do it with (probabilistic) matrix factorization. The idea is to conjure up two matrices whose matrix multiplication is our ratings matrix.  In other words, $U M^T = R$ for user matrix $U$ and movie matrix $M$. Let's say that we want 4 latent factors for each user and each movie, meaning that the dense embedding vectors are 4 dimensional. $U$ would then be nusers x 4 and $M$ would be nmovies x 4.  For the ith user and jth movie, $U_i \\cdot M_j$ would represent the rating at $R_{i,j}$.\n",
    "\n",
    "We initialize the user and movie embedding matrices randomly:"
   ]
  },
  {
   "cell_type": "code",
   "execution_count": 587,
   "metadata": {},
   "outputs": [
    {
     "data": {
      "text/plain": [
       "tensor([[ 0.4236, -0.4858,  0.2487,  0.2278],\n",
       "        [ 2.0137, -1.6656, -0.6889,  1.4415],\n",
       "        [ 0.1962,  0.5229,  1.5709,  0.4040],\n",
       "        [-0.9362, -0.4825,  0.4526, -0.8281],\n",
       "        [-1.6636, -0.1970,  1.7001,  1.1022],\n",
       "        [-1.2504,  0.7320,  0.6381, -0.2940]])"
      ]
     },
     "execution_count": 587,
     "metadata": {},
     "output_type": "execute_result"
    }
   ],
   "source": [
    "nfactors = 4\n",
    "U = torch.randn(nusers,  nfactors, device=device, dtype=dtype)\n",
    "M = torch.randn(nmovies, nfactors, device=device, dtype=dtype)\n",
    "U"
   ]
  },
  {
   "cell_type": "markdown",
   "metadata": {},
   "source": [
    "Our first prediction is garbage but this explains the operation we want to perform to get a predicted $R$ matrix:"
   ]
  },
  {
   "cell_type": "code",
   "execution_count": 588,
   "metadata": {},
   "outputs": [
    {
     "data": {
      "text/plain": [
       "tensor([[ 0.2422,  0.0285,  1.7851, -1.2399, -1.1216,  1.4413],\n",
       "        [ 0.5705, -0.1849,  4.5424, -5.3993, -4.9497,  2.9422],\n",
       "        [ 0.3263,  0.6471,  1.5914,  1.0213,  0.5636,  3.1397],\n",
       "        [ 0.3272,  0.4509,  0.8770,  0.4854,  0.4970,  0.0158],\n",
       "        [ 2.3970,  5.0960,  4.2168,  1.7958, -0.5820,  4.4406],\n",
       "        [ 0.3153,  1.3308, -1.1212,  2.8132,  2.0106, -0.3120]])"
      ]
     },
     "execution_count": 588,
     "metadata": {},
     "output_type": "execute_result"
    }
   ],
   "source": [
    "R_pred = U.mm(M.T)\n",
    "R_pred"
   ]
  },
  {
   "cell_type": "markdown",
   "metadata": {},
   "source": [
    "## Objective (loss) function\n",
    "\n",
    "So those user and movie matrices are random and of course the resulting ratings are useless.  Understanding how good or bad they are is useful metric and of course what we will optimize to construct proper user and movie matrices. As a starting point, let's just look at the MSE:"
   ]
  },
  {
   "cell_type": "code",
   "execution_count": 589,
   "metadata": {},
   "outputs": [
    {
     "data": {
      "text/plain": [
       "tensor(6.4185)"
      ]
     },
     "execution_count": 589,
     "metadata": {},
     "output_type": "execute_result"
    }
   ],
   "source": [
    "loss = torch.mean( (R - R_pred).pow(2) )\n",
    "loss"
   ]
  },
  {
   "cell_type": "markdown",
   "metadata": {},
   "source": [
    "## Minimizing the loss function (gradient descent with momentum)\n",
    "\n",
    "Let's do this using autograd and simple gradient descent (with momentum)."
   ]
  },
  {
   "cell_type": "code",
   "execution_count": 590,
   "metadata": {},
   "outputs": [],
   "source": [
    "df = load(n=10_000)\n",
    "compress_cats(df, 'movieId') # make IDs 0..nmovies-1\n",
    "compress_cats(df, 'userId')\n",
    "\n",
    "nmovies = len(df.groupby('movieId').count())\n",
    "nusers = len(df.groupby('movieId').count())\n",
    "nfactors = 4\n",
    "\n",
    "R = R_matrix(df)\n",
    "\n",
    "U = torch.randn(nusers,  nfactors, device=device, dtype=dtype, requires_grad=True)  # <-- track for autograd\n",
    "M = torch.randn(nmovies, nfactors, device=device, dtype=dtype, requires_grad=True)"
   ]
  },
  {
   "cell_type": "code",
   "execution_count": 8,
   "metadata": {},
   "outputs": [
    {
     "name": "stdout",
     "output_type": "stream",
     "text": [
      "Epoch   0 loss         4.10\n",
      "Epoch  10 loss         1.47\n",
      "Epoch  20 loss         0.67\n",
      "Epoch  30 loss         0.35\n",
      "Epoch  40 loss         0.19\n",
      "Epoch  50 loss         0.12\n",
      "Epoch  60 loss         0.07\n",
      "Epoch  70 loss         0.05\n",
      "Epoch  80 loss         0.03\n",
      "Epoch  90 loss         0.03\n"
     ]
    }
   ],
   "source": [
    "learning_rate = 35\n",
    "momentum = .01\n",
    "for t in range(100):\n",
    "    R_pred = U.mm(M.T) # predict ratings\n",
    "    \n",
    "    loss = torch.mean( (R - R_pred).pow(2) ) # compute objective function\n",
    "    if t % 10 == 0:\n",
    "        print(f\"Epoch {t:3d} loss {loss:12.2f}\")\n",
    "\n",
    "    loss.backward() # autograd\n",
    "\n",
    "    # Update weights; weights have requires_grad=True but we don't need to track these updates\n",
    "    with torch.no_grad():\n",
    "        U -= (momentum*U + learning_rate * U.grad)\n",
    "        M -= (momentum*M + learning_rate * M.grad)\n",
    "\n",
    "        U.grad.zero_() # reset gradients\n",
    "        M.grad.zero_()"
   ]
  },
  {
   "cell_type": "markdown",
   "metadata": {},
   "source": [
    "That says that the accuracy is very good so let's check it out."
   ]
  },
  {
   "cell_type": "markdown",
   "metadata": {},
   "source": [
    "## Check accuracy of embeddings via RF"
   ]
  },
  {
   "cell_type": "code",
   "execution_count": 591,
   "metadata": {},
   "outputs": [],
   "source": [
    "import numpy as np\n",
    "from sklearn.model_selection import train_test_split\n",
    "from sklearn.model_selection import cross_val_score\n",
    "from sklearn.ensemble import RandomForestClassifier, RandomForestRegressor\n",
    "\n",
    "def RF_onehot(df, movie_embeddings, user_embeddings):\n",
    "    X = df[['movieId','userId']]\n",
    "    y = df['rating']\n",
    "    X_emb = np.concatenate([movie_embeddings[X['movieId']],user_embeddings[X['userId']]], axis=1)\n",
    "#     X_train, X_test, y_train, y_test = train_test_split(X_emb, y, test_size=0.2)\n",
    "\n",
    "    rf = RandomForestRegressor(n_estimators=100, n_jobs=-1, oob_score=True)\n",
    "    rf.fit(X_emb, y)\n",
    "    print(f\"OOB R^2 {rf.oob_score_:.3f}\")\n",
    "    print(f\"Train R^2 {rf.score(X_emb, y):.3f}\")\n",
    "    # OOB seems close enough and much faster\n",
    "#     scores = cross_val_score(rf, X_emb, y, cv=5)\n",
    "#     print(f\"5-fold valid R^2 {np.mean(scores):.3f}\")"
   ]
  },
  {
   "cell_type": "code",
   "execution_count": 10,
   "metadata": {},
   "outputs": [
    {
     "name": "stdout",
     "output_type": "stream",
     "text": [
      "OOB R^2 0.099\n",
      "Train R^2 0.876\n"
     ]
    }
   ],
   "source": [
    "RF_onehot(df, M.detach().numpy(), U.detach().numpy())"
   ]
  },
  {
   "cell_type": "markdown",
   "metadata": {},
   "source": [
    "Ok, so that accuracy is terrible, barely above guessing the average. What is going on?"
   ]
  },
  {
   "cell_type": "markdown",
   "metadata": {},
   "source": [
    "## Loss should only consider nonzero ratings\n",
    "\n",
    "Well, it seems that the matrix multiplication is the problem because $R$ it is mostly zeros. That means that we are training the vectors to get zeros in the missing spots, which is not what we want. Instead, the loss function needs to consider only the nonzero records. So rather than create $R$, let's just walk through the training records, which are the only non-zero values in the user x movie matrix. I asked [Yannet](https://www.usfca.edu/faculty/yannet-interian) and she confirmed for me that you want to avoid computing the loss on the zeros, which is also very expensive anyway. She said to focus just on the training records."
   ]
  },
  {
   "cell_type": "code",
   "execution_count": 592,
   "metadata": {},
   "outputs": [],
   "source": [
    "np.random.seed(1) # keep same records\n",
    "df = load(n=10)\n",
    "compress_cats(df, 'movieId') # make IDs 0..nmovies-1\n",
    "compress_cats(df, 'userId')\n",
    "\n",
    "nmovies = len(df.groupby('movieId').count())\n",
    "nusers = len(df.groupby('movieId').count())\n",
    "nfactors = 4\n",
    "\n",
    "U = torch.randn(nusers,  nfactors, device=device, dtype=dtype, requires_grad=True)  # <-- track for autograd\n",
    "M = torch.randn(nmovies, nfactors, device=device, dtype=dtype, requires_grad=True)"
   ]
  },
  {
   "cell_type": "code",
   "execution_count": 593,
   "metadata": {},
   "outputs": [
    {
     "data": {
      "text/plain": [
       "tensor([[-0.0985,  0.6870, -0.2290, -1.8410],\n",
       "        [-0.4292, -0.3519,  1.0014,  0.3728],\n",
       "        [ 0.3800,  0.7052,  0.2102, -0.5960],\n",
       "        [-0.5230,  1.5371, -0.6531, -0.4914],\n",
       "        [-0.8278,  1.0043,  0.9227, -0.6723],\n",
       "        [-0.0315, -0.4485, -1.5330, -1.0298],\n",
       "        [ 0.8280, -0.9104,  0.5094,  1.7486],\n",
       "        [ 1.3916,  0.5207,  0.6048,  0.2066],\n",
       "        [ 2.6810,  1.7623,  1.1367, -0.3638],\n",
       "        [-0.9293, -0.5485, -1.6888, -0.1234]], requires_grad=True)"
      ]
     },
     "execution_count": 593,
     "metadata": {},
     "output_type": "execute_result"
    }
   ],
   "source": [
    "U"
   ]
  },
  {
   "cell_type": "code",
   "execution_count": 594,
   "metadata": {},
   "outputs": [
    {
     "data": {
      "text/plain": [
       "tensor([[-0.1796, -1.0056, -3.2447,  0.4901],\n",
       "        [-0.4167, -1.1020, -0.1877,  1.8485],\n",
       "        [-0.4388,  0.4643,  0.2410,  0.2840],\n",
       "        [-0.3753,  0.4645, -0.2782, -0.3845],\n",
       "        [ 0.2190, -0.8852, -1.4734, -0.0677],\n",
       "        [-0.2747, -0.5073,  0.3125, -1.1674],\n",
       "        [-0.7374, -0.4854, -0.1630, -2.7020],\n",
       "        [ 0.6257, -0.1730,  1.8938, -2.3752],\n",
       "        [-0.3818, -0.5324,  0.7060, -0.7370],\n",
       "        [-0.6825,  0.0999,  0.1789, -0.6361]], requires_grad=True)"
      ]
     },
     "execution_count": 594,
     "metadata": {},
     "output_type": "execute_result"
    }
   ],
   "source": [
    "M"
   ]
  },
  {
   "cell_type": "code",
   "execution_count": 595,
   "metadata": {},
   "outputs": [
    {
     "data": {
      "text/html": [
       "<div>\n",
       "<style scoped>\n",
       "    .dataframe tbody tr th:only-of-type {\n",
       "        vertical-align: middle;\n",
       "    }\n",
       "\n",
       "    .dataframe tbody tr th {\n",
       "        vertical-align: top;\n",
       "    }\n",
       "\n",
       "    .dataframe thead th {\n",
       "        text-align: right;\n",
       "    }\n",
       "</style>\n",
       "<table border=\"1\" class=\"dataframe\">\n",
       "  <thead>\n",
       "    <tr style=\"text-align: right;\">\n",
       "      <th></th>\n",
       "      <th>userId</th>\n",
       "      <th>movieId</th>\n",
       "      <th>rating</th>\n",
       "      <th>title</th>\n",
       "      <th>genres</th>\n",
       "    </tr>\n",
       "  </thead>\n",
       "  <tbody>\n",
       "    <tr>\n",
       "      <td>0</td>\n",
       "      <td>4</td>\n",
       "      <td>1</td>\n",
       "      <td>3.0</td>\n",
       "      <td>True Lies</td>\n",
       "      <td>Action|Adventure|Comedy|Romance|Thriller</td>\n",
       "    </tr>\n",
       "    <tr>\n",
       "      <td>1</td>\n",
       "      <td>8</td>\n",
       "      <td>8</td>\n",
       "      <td>5.0</td>\n",
       "      <td>Conjuring, The</td>\n",
       "      <td>Horror|Thriller</td>\n",
       "    </tr>\n",
       "  </tbody>\n",
       "</table>\n",
       "</div>"
      ],
      "text/plain": [
       "   userId  movieId  rating           title  \\\n",
       "0       4        1     3.0       True Lies   \n",
       "1       8        8     5.0  Conjuring, The   \n",
       "\n",
       "                                     genres  \n",
       "0  Action|Adventure|Comedy|Romance|Thriller  \n",
       "1                           Horror|Thriller  "
      ]
     },
     "execution_count": 595,
     "metadata": {},
     "output_type": "execute_result"
    }
   ],
   "source": [
    "df.head(2)"
   ]
  },
  {
   "cell_type": "markdown",
   "metadata": {},
   "source": [
    "Looking at the first record, we see user 4 and movie 1, which we can use to select from the user and move the embeddings matrices:"
   ]
  },
  {
   "cell_type": "code",
   "execution_count": 596,
   "metadata": {},
   "outputs": [
    {
     "data": {
      "text/plain": [
       "(tensor([-0.8278,  1.0043,  0.9227, -0.6723], grad_fn=<SelectBackward>),\n",
       " tensor([-0.4167, -1.1020, -0.1877,  1.8485], grad_fn=<SelectBackward>))"
      ]
     },
     "execution_count": 596,
     "metadata": {},
     "output_type": "execute_result"
    }
   ],
   "source": [
    "U[4], M[1]"
   ]
  },
  {
   "cell_type": "markdown",
   "metadata": {},
   "source": [
    "Using those two vectors, their dot product is our predicted rating:"
   ]
  },
  {
   "cell_type": "code",
   "execution_count": 597,
   "metadata": {},
   "outputs": [
    {
     "data": {
      "text/plain": [
       "tensor(-2.1777, grad_fn=<DotBackward>)"
      ]
     },
     "execution_count": 597,
     "metadata": {},
     "output_type": "execute_result"
    }
   ],
   "source": [
    "r_pred = U[4].dot(M[1])\n",
    "r_pred"
   ]
  },
  {
   "cell_type": "markdown",
   "metadata": {},
   "source": [
    "The loss associated with this one record is not good as we would expect given the random embeddings:"
   ]
  },
  {
   "cell_type": "code",
   "execution_count": 598,
   "metadata": {},
   "outputs": [
    {
     "data": {
      "text/plain": [
       "tensor(26.8085, grad_fn=<PowBackward0>)"
      ]
     },
     "execution_count": 598,
     "metadata": {},
     "output_type": "execute_result"
    }
   ],
   "source": [
    "(df.iloc[0]['rating'] - r_pred).pow(2)"
   ]
  },
  {
   "cell_type": "markdown",
   "metadata": {},
   "source": [
    "If we want to do this with the first two records, we can use a list of user and movie IDs.For example, here are the user embeddings for the first two training records:"
   ]
  },
  {
   "cell_type": "code",
   "execution_count": 599,
   "metadata": {},
   "outputs": [
    {
     "data": {
      "text/plain": [
       "tensor([[-0.8278,  1.0043,  0.9227, -0.6723],\n",
       "        [ 2.6810,  1.7623,  1.1367, -0.3638]], grad_fn=<IndexBackward>)"
      ]
     },
     "execution_count": 599,
     "metadata": {},
     "output_type": "execute_result"
    }
   ],
   "source": [
    "U[[4,8]]"
   ]
  },
  {
   "cell_type": "markdown",
   "metadata": {},
   "source": [
    "Now, we need the dot product for each vector in `U[[4,8]]` and `M[[1,8]]`, which is element-wise modification followed by a some, for for each record. We should get to numbers out of this:"
   ]
  },
  {
   "cell_type": "code",
   "execution_count": 600,
   "metadata": {},
   "outputs": [
    {
     "data": {
      "text/plain": [
       "tensor([[ 0.3450, -1.1068, -0.1732, -1.2427],\n",
       "        [-1.0235, -0.9384,  0.8026,  0.2681]], grad_fn=<MulBackward0>)"
      ]
     },
     "execution_count": 600,
     "metadata": {},
     "output_type": "execute_result"
    }
   ],
   "source": [
    "U[[4,8]] * M[[1,8]]"
   ]
  },
  {
   "cell_type": "code",
   "execution_count": 601,
   "metadata": {},
   "outputs": [
    {
     "data": {
      "text/plain": [
       "tensor([-2.1777, -0.8912], grad_fn=<SumBackward1>)"
      ]
     },
     "execution_count": 601,
     "metadata": {},
     "output_type": "execute_result"
    }
   ],
   "source": [
    "(U[[4,8]] * M[[1,8]]).sum(axis=1)"
   ]
  },
  {
   "cell_type": "markdown",
   "metadata": {},
   "source": [
    "The MSE is just the average squared difference of those two from the known rating:"
   ]
  },
  {
   "cell_type": "code",
   "execution_count": 602,
   "metadata": {},
   "outputs": [
    {
     "data": {
      "text/plain": [
       "tensor(30.7571, grad_fn=<MeanBackward0>)"
      ]
     },
     "execution_count": 602,
     "metadata": {},
     "output_type": "execute_result"
    }
   ],
   "source": [
    "diff = (U[[4,8]] * M[[1,8]]).sum(axis=1) - torch.tensor([3.0,5.0])\n",
    "loss = torch.mean( diff.pow(2) )\n",
    "loss"
   ]
  },
  {
   "cell_type": "markdown",
   "metadata": {},
   "source": [
    "We could walk with a loop through the training values like this:"
   ]
  },
  {
   "cell_type": "code",
   "execution_count": 603,
   "metadata": {},
   "outputs": [
    {
     "name": "stdout",
     "output_type": "stream",
     "text": [
      "tensor(5.4046, grad_fn=<PowBackward0>)\n",
      "tensor(45.1332, grad_fn=<PowBackward0>)\n",
      "tensor(2.7935, grad_fn=<PowBackward0>)\n",
      "tensor(17.3523, grad_fn=<PowBackward0>)\n",
      "tensor(28.1451, grad_fn=<PowBackward0>)\n"
     ]
    }
   ],
   "source": [
    "# slow\n",
    "for u,m,r,_,_ in df.values[:5]:\n",
    "    loss = (U[u].dot(U[m]) - r).pow(2)\n",
    "    print(loss)"
   ]
  },
  {
   "cell_type": "markdown",
   "metadata": {},
   "source": [
    "But, the cool kids would vectorized this:"
   ]
  },
  {
   "cell_type": "code",
   "execution_count": 604,
   "metadata": {},
   "outputs": [
    {
     "data": {
      "text/plain": [
       "tensor(-0.1861, grad_fn=<MeanBackward0>)"
      ]
     },
     "execution_count": 604,
     "metadata": {},
     "output_type": "execute_result"
    }
   ],
   "source": [
    "loss = torch.mean( (U[df['userId']] * M[df['movieId']]).sum(axis=1) )\n",
    "loss"
   ]
  },
  {
   "cell_type": "markdown",
   "metadata": {},
   "source": [
    "### Minimize loss just on training samples (new gradient descent)"
   ]
  },
  {
   "cell_type": "code",
   "execution_count": 605,
   "metadata": {},
   "outputs": [],
   "source": [
    "df = load(n=20_000)\n",
    "compress_cats(df, 'movieId') # make IDs 0..nmovies-1\n",
    "compress_cats(df, 'userId')\n",
    "\n",
    "nmovies = len(df.groupby('movieId').count())\n",
    "nusers = len(df.groupby('movieId').count())"
   ]
  },
  {
   "cell_type": "code",
   "execution_count": 606,
   "metadata": {},
   "outputs": [
    {
     "name": "stdout",
     "output_type": "stream",
     "text": [
      "Epoch   0 loss        17.32\n",
      "Epoch  10 loss         8.82\n",
      "Epoch  20 loss         3.59\n",
      "Epoch  30 loss         1.56\n",
      "Epoch  40 loss         1.26\n",
      "Epoch  50 loss         0.89\n",
      "Epoch  60 loss         0.93\n",
      "Epoch  70 loss         0.91\n",
      "Epoch  80 loss         0.91\n",
      "Epoch  90 loss         0.88\n",
      "CPU times: user 26.3 s, sys: 121 ms, total: 26.4 s\n",
      "Wall time: 26.5 s\n"
     ]
    }
   ],
   "source": [
    "%%time\n",
    "U = torch.randn(nusers,  nfactors, device=device, dtype=dtype, requires_grad=True)  # <-- track for autograd\n",
    "M = torch.randn(nmovies, nfactors, device=device, dtype=dtype, requires_grad=True)\n",
    "\n",
    "nfactors = 4\n",
    "learning_rate = 45\n",
    "momentum = .015\n",
    "for t in range(100):\n",
    "    diff = (U[df['userId']] * M[df['movieId']]).sum(axis=1) - torch.tensor(df['rating'])\n",
    "    loss = torch.mean( diff.pow(2) )\n",
    "    if t % 10 == 0:\n",
    "        print(f\"Epoch {t:3d} loss {loss:12.2f}\")\n",
    "\n",
    "    loss.backward() # autograd computes U.grad and M.grad\n",
    "\n",
    "    # Update weights; weights have requires_grad=True but we don't need to track these updates\n",
    "    with torch.no_grad():\n",
    "        U -= (momentum*U + learning_rate * U.grad)\n",
    "        M -= (momentum*M + learning_rate * M.grad)\n",
    "\n",
    "        U.grad.zero_() # reset gradients\n",
    "        M.grad.zero_()"
   ]
  },
  {
   "cell_type": "code",
   "execution_count": 26,
   "metadata": {},
   "outputs": [
    {
     "name": "stdout",
     "output_type": "stream",
     "text": [
      "OOB R^2 0.470\n",
      "Train R^2 0.927\n"
     ]
    }
   ],
   "source": [
    "RF_onehot(df, M.detach().numpy(), U.detach().numpy())"
   ]
  },
  {
   "cell_type": "code",
   "execution_count": 27,
   "metadata": {},
   "outputs": [],
   "source": [
    "from sklearn.decomposition import PCA\n",
    "import matplotlib.pyplot as plt\n",
    "\n",
    "def plot_comedy_drama_embeddings(df, movie_embeddings, xrange=(-.3,.3), yrange=(-.15,.15)):\n",
    "    # get unique movie ID and title and genres\n",
    "    df_movies = df.sort_values('movieId')[['movieId','title','genres']]\n",
    "    df_movies = df_movies.drop_duplicates()\n",
    "    df_movies = df_movies[(df_movies['genres']=='Comedy')|(df_movies['genres']=='Drama')]\n",
    "    movie_embeddings = movie_embeddings[df_movies['movieId']]\n",
    "    \n",
    "    plt.figure(figsize=(5,5))\n",
    "    movieIds = df_movies['movieId'].values\n",
    "    genres = df_movies['genres'].values\n",
    "    titles = df_movies['title'].values\n",
    "    pca = PCA(n_components=2)\n",
    "    vecs2D = pca.fit_transform(movie_embeddings)\n",
    "    c = [('k' if genres[i]=='Comedy' else 'r') for i in range(len(vecs2D))]\n",
    "    plt.scatter(vecs2D[:,0], vecs2D[:,1], c=c, s=5, alpha=.5)\n",
    "    plt.xlim(*xrange)\n",
    "    plt.ylim(*yrange)\n",
    "    plt.show()\n",
    "    return df_movies, vecs2D"
   ]
  },
  {
   "cell_type": "code",
   "execution_count": 28,
   "metadata": {},
   "outputs": [
    {
     "data": {
      "image/png": "[encoded data removed]",
      "text/plain": [
       "<Figure size 360x360 with 1 Axes>"
      ]
     },
     "metadata": {
      "needs_background": "light"
     },
     "output_type": "display_data"
    }
   ],
   "source": [
    "df_movies, vecs2D = plot_comedy_drama_embeddings(df, M.detach().numpy(), xrange=(-2,2), yrange=(-1.5,1.5))"
   ]
  },
  {
   "cell_type": "markdown",
   "metadata": {},
   "source": [
    "### Learn to use bokeh\n",
    "\n",
    "Derived from [Collaborative Filtering and Embeddings — Part 2 by Shikhar Gupta](https://towardsdatascience.com/collaborative-filtering-and-embeddings-part-2-919da17ecefb), alumnus of USFCA MSDS. :)  This pops up another window and hover shows title/genre."
   ]
  },
  {
   "cell_type": "code",
   "execution_count": 608,
   "metadata": {},
   "outputs": [
    {
     "data": {
      "text/html": [
       "\n",
       "    <div class=\"bk-root\">\n",
       "        <a href=\"https://bokeh.pydata.org\" target=\"_blank\" class=\"bk-logo bk-logo-small bk-logo-notebook\"></a>\n",
       "        <span id=\"2434\">Loading BokehJS ...</span>\n",
       "    </div>"
      ]
     },
     "metadata": {},
     "output_type": "display_data"
    },
    {
     "data": {
      "application/javascript": [
       "\n",
       "(function(root) {\n",
       "  function now() {\n",
       "    return new Date();\n",
       "  }\n",
       "\n",
       "  var force = true;\n",
       "\n",
       "  if (typeof root._bokeh_onload_callbacks === \"undefined\" || force === true) {\n",
       "    root._bokeh_onload_callbacks = [];\n",
       "    root._bokeh_is_loading = undefined;\n",
       "  }\n",
       "\n",
       "  var JS_MIME_TYPE = 'application/javascript';\n",
       "  var HTML_MIME_TYPE = 'text/html';\n",
       "  var EXEC_MIME_TYPE = 'application/vnd.bokehjs_exec.v0+json';\n",
       "  var CLASS_NAME = 'output_bokeh rendered_html';\n",
       "\n",
       "  /**\n",
       "   * Render data to the DOM node\n",
       "   */\n",
       "  function render(props, node) {\n",
       "    var script = document.createElement(\"script\");\n",
       "    node.appendChild(script);\n",
       "  }\n",
       "\n",
       "  /**\n",
       "   * Handle when an output is cleared or removed\n",
       "   */\n",
       "  function handleClearOutput(event, handle) {\n",
       "    var cell = handle.cell;\n",
       "\n",
       "    var id = cell.output_area._bokeh_element_id;\n",
       "    var server_id = cell.output_area._bokeh_server_id;\n",
       "    // Clean up Bokeh references\n",
       "    if (id != null && id in Bokeh.index) {\n",
       "      Bokeh.index[id].model.document.clear();\n",
       "      delete Bokeh.index[id];\n",
       "    }\n",
       "\n",
       "    if (server_id !== undefined) {\n",
       "      // Clean up Bokeh references\n",
       "      var cmd = \"from bokeh.io.state import curstate; print(curstate().uuid_to_server['\" + server_id + \"'].get_sessions()[0].document.roots[0]._id)\";\n",
       "      cell.notebook.kernel.execute(cmd, {\n",
       "        iopub: {\n",
       "          output: function(msg) {\n",
       "            var id = msg.content.text.trim();\n",
       "            if (id in Bokeh.index) {\n",
       "              Bokeh.index[id].model.document.clear();\n",
       "              delete Bokeh.index[id];\n",
       "            }\n",
       "          }\n",
       "        }\n",
       "      });\n",
       "      // Destroy server and session\n",
       "      var cmd = \"import bokeh.io.notebook as ion; ion.destroy_server('\" + server_id + \"')\";\n",
       "      cell.notebook.kernel.execute(cmd);\n",
       "    }\n",
       "  }\n",
       "\n",
       "  /**\n",
       "   * Handle when a new output is added\n",
       "   */\n",
       "  function handleAddOutput(event, handle) {\n",
       "    var output_area = handle.output_area;\n",
       "    var output = handle.output;\n",
       "\n",
       "    // limit handleAddOutput to display_data with EXEC_MIME_TYPE content only\n",
       "    if ((output.output_type != \"display_data\") || (!output.data.hasOwnProperty(EXEC_MIME_TYPE))) {\n",
       "      return\n",
       "    }\n",
       "\n",
       "    var toinsert = output_area.element.find(\".\" + CLASS_NAME.split(' ')[0]);\n",
       "\n",
       "    if (output.metadata[EXEC_MIME_TYPE][\"id\"] !== undefined) {\n",
       "      toinsert[toinsert.length - 1].firstChild.textContent = output.data[JS_MIME_TYPE];\n",
       "      // store reference to embed id on output_area\n",
       "      output_area._bokeh_element_id = output.metadata[EXEC_MIME_TYPE][\"id\"];\n",
       "    }\n",
       "    if (output.metadata[EXEC_MIME_TYPE][\"server_id\"] !== undefined) {\n",
       "      var bk_div = document.createElement(\"div\");\n",
       "      bk_div.innerHTML = output.data[HTML_MIME_TYPE];\n",
       "      var script_attrs = bk_div.children[0].attributes;\n",
       "      for (var i = 0; i < script_attrs.length; i++) {\n",
       "        toinsert[toinsert.length - 1].firstChild.setAttribute(script_attrs[i].name, script_attrs[i].value);\n",
       "      }\n",
       "      // store reference to server id on output_area\n",
       "      output_area._bokeh_server_id = output.metadata[EXEC_MIME_TYPE][\"server_id\"];\n",
       "    }\n",
       "  }\n",
       "\n",
       "  function register_renderer(events, OutputArea) {\n",
       "\n",
       "    function append_mime(data, metadata, element) {\n",
       "      // create a DOM node to render to\n",
       "      var toinsert = this.create_output_subarea(\n",
       "        metadata,\n",
       "        CLASS_NAME,\n",
       "        EXEC_MIME_TYPE\n",
       "      );\n",
       "      this.keyboard_manager.register_events(toinsert);\n",
       "      // Render to node\n",
       "      var props = {data: data, metadata: metadata[EXEC_MIME_TYPE]};\n",
       "      render(props, toinsert[toinsert.length - 1]);\n",
       "      element.append(toinsert);\n",
       "      return toinsert\n",
       "    }\n",
       "\n",
       "    /* Handle when an output is cleared or removed */\n",
       "    events.on('clear_output.CodeCell', handleClearOutput);\n",
       "    events.on('delete.Cell', handleClearOutput);\n",
       "\n",
       "    /* Handle when a new output is added */\n",
       "    events.on('output_added.OutputArea', handleAddOutput);\n",
       "\n",
       "    /**\n",
       "     * Register the mime type and append_mime function with output_area\n",
       "     */\n",
       "    OutputArea.prototype.register_mime_type(EXEC_MIME_TYPE, append_mime, {\n",
       "      /* Is output safe? */\n",
       "      safe: true,\n",
       "      /* Index of renderer in `output_area.display_order` */\n",
       "      index: 0\n",
       "    });\n",
       "  }\n",
       "\n",
       "  // register the mime type if in Jupyter Notebook environment and previously unregistered\n",
       "  if (root.Jupyter !== undefined) {\n",
       "    var events = require('base/js/events');\n",
       "    var OutputArea = require('notebook/js/outputarea').OutputArea;\n",
       "\n",
       "    if (OutputArea.prototype.mime_types().indexOf(EXEC_MIME_TYPE) == -1) {\n",
       "      register_renderer(events, OutputArea);\n",
       "    }\n",
       "  }\n",
       "\n",
       "  \n",
       "  if (typeof (root._bokeh_timeout) === \"undefined\" || force === true) {\n",
       "    root._bokeh_timeout = Date.now() + 5000;\n",
       "    root._bokeh_failed_load = false;\n",
       "  }\n",
       "\n",
       "  var NB_LOAD_WARNING = {'data': {'text/html':\n",
       "     \"<div style='background-color: #fdd'>\\n\"+\n",
       "     \"<p>\\n\"+\n",
       "     \"BokehJS does not appear to have successfully loaded. If loading BokehJS from CDN, this \\n\"+\n",
       "     \"may be due to a slow or bad network connection. Possible fixes:\\n\"+\n",
       "     \"</p>\\n\"+\n",
       "     \"<ul>\\n\"+\n",
       "     \"<li>re-rerun `output_notebook()` to attempt to load from CDN again, or</li>\\n\"+\n",
       "     \"<li>use INLINE resources instead, as so:</li>\\n\"+\n",
       "     \"</ul>\\n\"+\n",
       "     \"<code>\\n\"+\n",
       "     \"from bokeh.resources import INLINE\\n\"+\n",
       "     \"output_notebook(resources=INLINE)\\n\"+\n",
       "     \"</code>\\n\"+\n",
       "     \"</div>\"}};\n",
       "\n",
       "  function display_loaded() {\n",
       "    var el = document.getElementById(\"2434\");\n",
       "    if (el != null) {\n",
       "      el.textContent = \"BokehJS is loading...\";\n",
       "    }\n",
       "    if (root.Bokeh !== undefined) {\n",
       "      if (el != null) {\n",
       "        el.textContent = \"BokehJS \" + root.Bokeh.version + \" successfully loaded.\";\n",
       "      }\n",
       "    } else if (Date.now() < root._bokeh_timeout) {\n",
       "      setTimeout(display_loaded, 100)\n",
       "    }\n",
       "  }\n",
       "\n",
       "\n",
       "  function run_callbacks() {\n",
       "    try {\n",
       "      root._bokeh_onload_callbacks.forEach(function(callback) {\n",
       "        if (callback != null)\n",
       "          callback();\n",
       "      });\n",
       "    } finally {\n",
       "      delete root._bokeh_onload_callbacks\n",
       "    }\n",
       "    console.debug(\"Bokeh: all callbacks have finished\");\n",
       "  }\n",
       "\n",
       "  function load_libs(css_urls, js_urls, callback) {\n",
       "    if (css_urls == null) css_urls = [];\n",
       "    if (js_urls == null) js_urls = [];\n",
       "\n",
       "    root._bokeh_onload_callbacks.push(callback);\n",
       "    if (root._bokeh_is_loading > 0) {\n",
       "      console.debug(\"Bokeh: BokehJS is being loaded, scheduling callback at\", now());\n",
       "      return null;\n",
       "    }\n",
       "    if (js_urls == null || js_urls.length === 0) {\n",
       "      run_callbacks();\n",
       "      return null;\n",
       "    }\n",
       "    console.debug(\"Bokeh: BokehJS not loaded, scheduling load and callback at\", now());\n",
       "    root._bokeh_is_loading = css_urls.length + js_urls.length;\n",
       "\n",
       "    function on_load() {\n",
       "      root._bokeh_is_loading--;\n",
       "      if (root._bokeh_is_loading === 0) {\n",
       "        console.debug(\"Bokeh: all BokehJS libraries/stylesheets loaded\");\n",
       "        run_callbacks()\n",
       "      }\n",
       "    }\n",
       "\n",
       "    function on_error() {\n",
       "      console.error(\"failed to load \" + url);\n",
       "    }\n",
       "\n",
       "    for (var i = 0; i < css_urls.length; i++) {\n",
       "      var url = css_urls[i];\n",
       "      const element = document.createElement(\"link\");\n",
       "      element.onload = on_load;\n",
       "      element.onerror = on_error;\n",
       "      element.rel = \"stylesheet\";\n",
       "      element.type = \"text/css\";\n",
       "      element.href = url;\n",
       "      console.debug(\"Bokeh: injecting link tag for BokehJS stylesheet: \", url);\n",
       "      document.body.appendChild(element);\n",
       "    }\n",
       "\n",
       "    for (var i = 0; i < js_urls.length; i++) {\n",
       "      var url = js_urls[i];\n",
       "      var element = document.createElement('script');\n",
       "      element.onload = on_load;\n",
       "      element.onerror = on_error;\n",
       "      element.async = false;\n",
       "      element.src = url;\n",
       "      console.debug(\"Bokeh: injecting script tag for BokehJS library: \", url);\n",
       "      document.head.appendChild(element);\n",
       "    }\n",
       "  };var element = document.getElementById(\"2434\");\n",
       "  if (element == null) {\n",
       "    console.error(\"Bokeh: ERROR: autoload.js configured with elementid '2434' but no matching script tag was found. \")\n",
       "    return false;\n",
       "  }\n",
       "\n",
       "  function inject_raw_css(css) {\n",
       "    const element = document.createElement(\"style\");\n",
       "    element.appendChild(document.createTextNode(css));\n",
       "    document.body.appendChild(element);\n",
       "  }\n",
       "\n",
       "  var js_urls = [\"https://cdn.pydata.org/bokeh/release/bokeh-1.3.4.min.js\", \"https://cdn.pydata.org/bokeh/release/bokeh-widgets-1.3.4.min.js\", \"https://cdn.pydata.org/bokeh/release/bokeh-tables-1.3.4.min.js\", \"https://cdn.pydata.org/bokeh/release/bokeh-gl-1.3.4.min.js\"];\n",
       "  var css_urls = [];\n",
       "\n",
       "  var inline_js = [\n",
       "    function(Bokeh) {\n",
       "      Bokeh.set_log_level(\"info\");\n",
       "    },\n",
       "    \n",
       "    function(Bokeh) {\n",
       "      \n",
       "    },\n",
       "    function(Bokeh) {} // ensure no trailing comma for IE\n",
       "  ];\n",
       "\n",
       "  function run_inline_js() {\n",
       "    \n",
       "    if ((root.Bokeh !== undefined) || (force === true)) {\n",
       "      for (var i = 0; i < inline_js.length; i++) {\n",
       "        inline_js[i].call(root, root.Bokeh);\n",
       "      }if (force === true) {\n",
       "        display_loaded();\n",
       "      }} else if (Date.now() < root._bokeh_timeout) {\n",
       "      setTimeout(run_inline_js, 100);\n",
       "    } else if (!root._bokeh_failed_load) {\n",
       "      console.log(\"Bokeh: BokehJS failed to load within specified timeout.\");\n",
       "      root._bokeh_failed_load = true;\n",
       "    } else if (force !== true) {\n",
       "      var cell = $(document.getElementById(\"2434\")).parents('.cell').data().cell;\n",
       "      cell.output_area.append_execute_result(NB_LOAD_WARNING)\n",
       "    }\n",
       "\n",
       "  }\n",
       "\n",
       "  if (root._bokeh_is_loading === 0) {\n",
       "    console.debug(\"Bokeh: BokehJS loaded, going straight to plotting\");\n",
       "    run_inline_js();\n",
       "  } else {\n",
       "    load_libs(css_urls, js_urls, function() {\n",
       "      console.debug(\"Bokeh: BokehJS plotting callback run at\", now());\n",
       "      run_inline_js();\n",
       "    });\n",
       "  }\n",
       "}(window));"
      ],
      "application/vnd.bokehjs_load.v0+json": "\n(function(root) {\n  function now() {\n    return new Date();\n  }\n\n  var force = true;\n\n  if (typeof root._bokeh_onload_callbacks === \"undefined\" || force === true) {\n    root._bokeh_onload_callbacks = [];\n    root._bokeh_is_loading = undefined;\n  }\n\n  \n\n  \n  if (typeof (root._bokeh_timeout) === \"undefined\" || force === true) {\n    root._bokeh_timeout = Date.now() + 5000;\n    root._bokeh_failed_load = false;\n  }\n\n  var NB_LOAD_WARNING = {'data': {'text/html':\n     \"<div style='background-color: #fdd'>\\n\"+\n     \"<p>\\n\"+\n     \"BokehJS does not appear to have successfully loaded. If loading BokehJS from CDN, this \\n\"+\n     \"may be due to a slow or bad network connection. Possible fixes:\\n\"+\n     \"</p>\\n\"+\n     \"<ul>\\n\"+\n     \"<li>re-rerun `output_notebook()` to attempt to load from CDN again, or</li>\\n\"+\n     \"<li>use INLINE resources instead, as so:</li>\\n\"+\n     \"</ul>\\n\"+\n     \"<code>\\n\"+\n     \"from bokeh.resources import INLINE\\n\"+\n     \"output_notebook(resources=INLINE)\\n\"+\n     \"</code>\\n\"+\n     \"</div>\"}};\n\n  function display_loaded() {\n    var el = document.getElementById(\"2434\");\n    if (el != null) {\n      el.textContent = \"BokehJS is loading...\";\n    }\n    if (root.Bokeh !== undefined) {\n      if (el != null) {\n        el.textContent = \"BokehJS \" + root.Bokeh.version + \" successfully loaded.\";\n      }\n    } else if (Date.now() < root._bokeh_timeout) {\n      setTimeout(display_loaded, 100)\n    }\n  }\n\n\n  function run_callbacks() {\n    try {\n      root._bokeh_onload_callbacks.forEach(function(callback) {\n        if (callback != null)\n          callback();\n      });\n    } finally {\n      delete root._bokeh_onload_callbacks\n    }\n    console.debug(\"Bokeh: all callbacks have finished\");\n  }\n\n  function load_libs(css_urls, js_urls, callback) {\n    if (css_urls == null) css_urls = [];\n    if (js_urls == null) js_urls = [];\n\n    root._bokeh_onload_callbacks.push(callback);\n    if (root._bokeh_is_loading > 0) {\n      console.debug(\"Bokeh: BokehJS is being loaded, scheduling callback at\", now());\n      return null;\n    }\n    if (js_urls == null || js_urls.length === 0) {\n      run_callbacks();\n      return null;\n    }\n    console.debug(\"Bokeh: BokehJS not loaded, scheduling load and callback at\", now());\n    root._bokeh_is_loading = css_urls.length + js_urls.length;\n\n    function on_load() {\n      root._bokeh_is_loading--;\n      if (root._bokeh_is_loading === 0) {\n        console.debug(\"Bokeh: all BokehJS libraries/stylesheets loaded\");\n        run_callbacks()\n      }\n    }\n\n    function on_error() {\n      console.error(\"failed to load \" + url);\n    }\n\n    for (var i = 0; i < css_urls.length; i++) {\n      var url = css_urls[i];\n      const element = document.createElement(\"link\");\n      element.onload = on_load;\n      element.onerror = on_error;\n      element.rel = \"stylesheet\";\n      element.type = \"text/css\";\n      element.href = url;\n      console.debug(\"Bokeh: injecting link tag for BokehJS stylesheet: \", url);\n      document.body.appendChild(element);\n    }\n\n    for (var i = 0; i < js_urls.length; i++) {\n      var url = js_urls[i];\n      var element = document.createElement('script');\n      element.onload = on_load;\n      element.onerror = on_error;\n      element.async = false;\n      element.src = url;\n      console.debug(\"Bokeh: injecting script tag for BokehJS library: \", url);\n      document.head.appendChild(element);\n    }\n  };var element = document.getElementById(\"2434\");\n  if (element == null) {\n    console.error(\"Bokeh: ERROR: autoload.js configured with elementid '2434' but no matching script tag was found. \")\n    return false;\n  }\n\n  function inject_raw_css(css) {\n    const element = document.createElement(\"style\");\n    element.appendChild(document.createTextNode(css));\n    document.body.appendChild(element);\n  }\n\n  var js_urls = [\"https://cdn.pydata.org/bokeh/release/bokeh-1.3.4.min.js\", \"https://cdn.pydata.org/bokeh/release/bokeh-widgets-1.3.4.min.js\", \"https://cdn.pydata.org/bokeh/release/bokeh-tables-1.3.4.min.js\", \"https://cdn.pydata.org/bokeh/release/bokeh-gl-1.3.4.min.js\"];\n  var css_urls = [];\n\n  var inline_js = [\n    function(Bokeh) {\n      Bokeh.set_log_level(\"info\");\n    },\n    \n    function(Bokeh) {\n      \n    },\n    function(Bokeh) {} // ensure no trailing comma for IE\n  ];\n\n  function run_inline_js() {\n    \n    if ((root.Bokeh !== undefined) || (force === true)) {\n      for (var i = 0; i < inline_js.length; i++) {\n        inline_js[i].call(root, root.Bokeh);\n      }if (force === true) {\n        display_loaded();\n      }} else if (Date.now() < root._bokeh_timeout) {\n      setTimeout(run_inline_js, 100);\n    } else if (!root._bokeh_failed_load) {\n      console.log(\"Bokeh: BokehJS failed to load within specified timeout.\");\n      root._bokeh_failed_load = true;\n    } else if (force !== true) {\n      var cell = $(document.getElementById(\"2434\")).parents('.cell').data().cell;\n      cell.output_area.append_execute_result(NB_LOAD_WARNING)\n    }\n\n  }\n\n  if (root._bokeh_is_loading === 0) {\n    console.debug(\"Bokeh: BokehJS loaded, going straight to plotting\");\n    run_inline_js();\n  } else {\n    load_libs(css_urls, js_urls, function() {\n      console.debug(\"Bokeh: BokehJS plotting callback run at\", now());\n      run_inline_js();\n    });\n  }\n}(window));"
     },
     "metadata": {},
     "output_type": "display_data"
    }
   ],
   "source": [
    "from bokeh.plotting import figure, show, output_notebook, save\n",
    "from bokeh.models import HoverTool, value, LabelSet, Legend, ColumnDataSource\n",
    "\n",
    "output_notebook() # send to notebook not tab"
   ]
  },
  {
   "cell_type": "code",
   "execution_count": 609,
   "metadata": {},
   "outputs": [
    {
     "data": {
      "text/html": [
       "\n",
       "\n",
       "\n",
       "\n",
       "\n",
       "\n",
       "  <div class=\"bk-root\" id=\"6689e44c-0de6-4a1b-824a-6c78e8df73de\" data-root-id=\"2436\"></div>\n"
      ]
     },
     "metadata": {},
     "output_type": "display_data"
    },
    {
     "data": {
      "application/javascript": [
       "(function(root) {\n",
       "  function embed_document(root) {\n",
       "    \n",
       "  var docs_json = {\"0feeab09-8680-4e13-8f18-64ef8bd5d7d1\":{\"roots\":{\"references\":[{\"attributes\":{\"min_border\":1,\"plot_width\":1000,\"renderers\":[{\"id\":\"2463\",\"type\":\"GlyphRenderer\"}],\"title\":{\"id\":\"2437\",\"type\":\"Title\"},\"toolbar\":{\"id\":\"2453\",\"type\":\"Toolbar\"},\"x_range\":{\"id\":\"2439\",\"type\":\"DataRange1d\"},\"x_scale\":{\"id\":\"2443\",\"type\":\"LinearScale\"},\"y_range\":{\"id\":\"2441\",\"type\":\"DataRange1d\"},\"y_scale\":{\"id\":\"2445\",\"type\":\"LinearScale\"}},\"id\":\"2436\",\"subtype\":\"Figure\",\"type\":\"Plot\"},{\"attributes\":{\"active_drag\":\"auto\",\"active_inspect\":\"auto\",\"active_multi\":null,\"active_scroll\":\"auto\",\"active_tap\":\"auto\",\"tools\":[{\"id\":\"2447\",\"type\":\"PanTool\"},{\"id\":\"2448\",\"type\":\"WheelZoomTool\"},{\"id\":\"2449\",\"type\":\"ZoomInTool\"},{\"id\":\"2450\",\"type\":\"BoxZoomTool\"},{\"id\":\"2451\",\"type\":\"ResetTool\"},{\"id\":\"2452\",\"type\":\"HoverTool\"}]},\"id\":\"2453\",\"type\":\"Toolbar\"},{\"attributes\":{},\"id\":\"2447\",\"type\":\"PanTool\"},{\"attributes\":{},\"id\":\"2448\",\"type\":\"WheelZoomTool\"},{\"attributes\":{\"callback\":null,\"tooltips\":[[\"content\",\"@title (@genre)\"]]},\"id\":\"2452\",\"type\":\"HoverTool\"},{\"attributes\":{},\"id\":\"2449\",\"type\":\"ZoomInTool\"},{\"attributes\":{\"fill_alpha\":{\"value\":0.4},\"fill_color\":{\"field\":\"colors\"},\"line_color\":{\"value\":\"#1f77b4\"},\"size\":{\"units\":\"screen\",\"value\":10},\"x\":{\"field\":\"x\"},\"y\":{\"field\":\"y\"}},\"id\":\"2461\",\"type\":\"Scatter\"},{\"attributes\":{\"callback\":null,\"data\":{\"colors\":[\"black\",\"red\",\"black\",\"black\",\"red\",\"red\",\"red\",\"red\",\"black\",\"black\",\"black\",\"black\",\"black\",\"black\",\"red\",\"black\",\"black\",\"black\",\"black\",\"red\",\"red\",\"black\",\"red\",\"black\",\"black\",\"red\",\"black\",\"red\",\"red\",\"black\",\"black\",\"black\",\"red\",\"black\",\"black\",\"black\",\"red\",\"black\",\"red\",\"black\",\"red\",\"black\",\"red\",\"red\",\"red\",\"red\",\"black\",\"red\",\"red\",\"black\",\"red\",\"black\",\"red\",\"red\",\"black\",\"black\",\"black\",\"red\",\"red\",\"red\",\"red\",\"red\",\"black\",\"black\",\"red\",\"black\",\"red\",\"black\",\"black\",\"black\",\"black\",\"black\",\"black\",\"black\",\"black\",\"red\",\"black\",\"red\",\"red\",\"black\",\"red\",\"black\",\"black\",\"black\",\"red\",\"red\",\"red\",\"red\",\"red\",\"red\",\"red\",\"black\",\"black\",\"black\",\"black\",\"red\",\"black\",\"red\",\"black\",\"red\",\"red\",\"red\",\"black\",\"black\",\"black\",\"black\",\"red\",\"black\",\"black\",\"red\",\"red\",\"red\",\"black\",\"red\",\"black\",\"black\",\"red\",\"red\",\"red\",\"red\",\"red\",\"red\",\"red\",\"red\",\"black\",\"red\",\"red\",\"red\",\"black\",\"black\",\"red\",\"red\",\"red\",\"red\",\"red\",\"red\",\"red\",\"red\",\"black\",\"red\",\"red\",\"black\",\"red\",\"red\",\"red\",\"red\",\"red\",\"black\",\"red\",\"red\",\"red\",\"red\",\"red\",\"red\",\"black\",\"red\",\"red\",\"red\",\"black\",\"black\",\"red\",\"black\",\"red\",\"red\",\"black\",\"black\",\"red\",\"red\",\"black\",\"red\",\"red\",\"black\",\"red\",\"red\",\"black\",\"black\",\"black\",\"black\",\"black\",\"black\",\"black\",\"red\",\"black\",\"red\",\"red\",\"red\",\"black\",\"red\",\"red\",\"red\",\"black\",\"red\",\"red\",\"black\",\"black\",\"black\",\"black\",\"black\",\"red\",\"black\",\"red\",\"black\",\"red\",\"red\",\"red\",\"red\",\"red\",\"red\",\"red\",\"red\",\"red\",\"red\",\"black\",\"black\",\"red\",\"black\",\"red\",\"black\",\"black\",\"black\",\"black\",\"red\",\"red\",\"red\",\"black\",\"black\",\"red\",\"red\",\"black\",\"black\",\"red\",\"black\",\"black\",\"black\",\"black\",\"red\",\"red\",\"red\",\"red\",\"black\",\"red\",\"black\",\"red\",\"red\",\"red\",\"black\",\"red\",\"black\",\"red\",\"black\",\"black\",\"black\",\"black\",\"red\",\"black\",\"red\",\"red\",\"red\",\"red\",\"black\",\"black\",\"red\",\"red\",\"red\",\"black\",\"red\",\"black\",\"red\",\"black\",\"red\",\"black\",\"black\",\"black\",\"black\",\"black\",\"red\",\"red\",\"red\",\"black\",\"black\",\"red\",\"black\",\"black\",\"red\",\"red\",\"black\",\"black\",\"red\",\"black\",\"red\",\"black\",\"black\",\"black\",\"black\",\"black\",\"black\",\"black\",\"black\",\"black\",\"red\",\"black\",\"black\",\"red\",\"black\",\"black\",\"red\",\"red\",\"red\",\"red\",\"red\",\"black\",\"red\",\"black\",\"black\",\"black\",\"black\",\"black\",\"red\",\"red\",\"red\",\"red\",\"red\",\"red\",\"red\",\"red\",\"black\",\"red\",\"red\",\"red\",\"red\",\"black\",\"red\",\"red\",\"red\",\"red\",\"red\",\"red\",\"red\",\"red\",\"red\",\"black\",\"red\",\"black\",\"red\",\"red\",\"black\",\"black\",\"red\",\"red\",\"red\",\"black\",\"black\",\"black\",\"red\",\"red\",\"red\",\"black\",\"black\",\"black\",\"red\",\"red\",\"black\",\"red\",\"red\",\"red\",\"black\",\"red\",\"red\",\"black\",\"red\",\"red\",\"black\",\"black\",\"red\",\"red\",\"black\",\"black\",\"black\",\"black\",\"black\",\"black\",\"red\",\"black\",\"red\",\"red\",\"black\",\"black\",\"black\",\"red\",\"red\",\"black\",\"black\",\"red\",\"black\",\"black\",\"black\",\"red\",\"black\",\"black\",\"black\",\"black\",\"black\",\"red\",\"red\",\"black\",\"red\",\"red\",\"black\",\"black\",\"black\",\"red\",\"red\",\"black\",\"red\",\"black\",\"red\",\"black\",\"red\",\"red\",\"black\",\"red\",\"red\",\"black\",\"red\",\"red\",\"red\",\"red\",\"black\",\"red\",\"black\",\"black\",\"black\",\"red\",\"red\",\"black\",\"red\",\"red\",\"red\",\"red\",\"black\",\"red\",\"black\",\"black\",\"black\",\"black\",\"black\",\"black\",\"black\",\"black\",\"red\",\"black\",\"black\",\"black\",\"red\",\"red\",\"red\",\"red\",\"red\",\"black\",\"black\",\"black\",\"red\",\"black\",\"red\",\"red\",\"red\",\"red\",\"black\",\"red\",\"black\",\"red\",\"black\",\"black\",\"red\",\"red\",\"black\",\"black\",\"red\",\"black\",\"black\",\"black\",\"black\",\"black\",\"black\",\"black\",\"black\",\"black\",\"red\",\"black\",\"black\",\"red\",\"red\",\"red\",\"red\",\"red\",\"black\",\"red\",\"red\",\"black\",\"red\",\"red\",\"black\",\"red\",\"black\",\"red\",\"red\",\"red\",\"red\",\"black\",\"red\",\"black\",\"black\",\"black\",\"black\",\"black\",\"red\",\"red\",\"red\",\"black\",\"black\",\"black\",\"red\",\"black\",\"red\",\"black\",\"black\",\"red\",\"black\",\"black\",\"black\",\"red\",\"black\",\"black\",\"black\",\"black\",\"black\",\"red\",\"red\",\"red\",\"red\",\"black\",\"red\",\"black\",\"black\",\"black\",\"red\",\"red\",\"red\",\"black\",\"red\",\"red\",\"black\",\"red\",\"red\",\"red\",\"red\",\"black\",\"red\",\"red\",\"red\",\"black\",\"black\",\"black\",\"black\",\"black\",\"black\",\"red\",\"red\",\"red\",\"red\",\"red\",\"black\",\"black\",\"black\",\"black\",\"red\",\"red\",\"red\",\"red\",\"black\",\"red\",\"black\",\"red\",\"red\",\"red\",\"black\",\"red\",\"red\",\"black\",\"black\",\"red\",\"red\",\"black\",\"red\",\"red\",\"black\",\"red\",\"black\",\"black\",\"red\",\"red\",\"black\",\"black\",\"red\",\"black\",\"black\",\"red\",\"red\",\"red\",\"black\",\"black\",\"red\",\"black\",\"red\",\"red\",\"red\",\"black\",\"red\",\"red\",\"red\",\"red\",\"red\",\"black\",\"black\",\"red\",\"red\",\"red\",\"red\",\"red\",\"red\",\"black\",\"black\",\"black\",\"red\",\"red\",\"black\",\"red\",\"black\",\"red\",\"red\",\"red\",\"red\",\"red\",\"black\",\"black\",\"black\",\"black\",\"red\",\"black\",\"red\",\"red\",\"red\",\"black\",\"black\",\"red\",\"black\",\"red\",\"red\",\"red\",\"black\",\"red\",\"red\",\"black\",\"red\",\"black\",\"red\",\"black\",\"black\",\"red\",\"black\",\"red\",\"red\",\"black\",\"red\",\"red\",\"black\",\"red\",\"red\",\"red\",\"red\",\"red\",\"black\",\"red\",\"black\",\"black\",\"red\",\"red\",\"red\",\"black\",\"red\",\"red\",\"black\",\"red\",\"black\",\"red\",\"red\",\"black\",\"black\",\"red\",\"red\",\"red\",\"black\",\"black\",\"red\",\"black\",\"black\",\"red\",\"black\",\"red\",\"red\",\"red\",\"black\",\"red\",\"black\",\"red\",\"red\",\"red\",\"red\",\"black\",\"black\",\"red\",\"red\",\"red\",\"red\",\"red\",\"black\",\"red\",\"red\",\"red\",\"black\",\"red\",\"red\",\"black\",\"black\",\"black\",\"black\",\"black\",\"black\",\"black\",\"red\",\"red\",\"black\",\"black\",\"red\",\"black\",\"red\",\"black\",\"red\",\"black\",\"red\",\"black\",\"black\",\"red\",\"red\",\"black\",\"black\",\"black\",\"black\",\"black\",\"black\",\"black\",\"red\",\"black\",\"red\",\"black\",\"red\",\"black\",\"red\",\"black\",\"red\",\"red\",\"red\",\"black\",\"black\",\"red\",\"black\",\"black\",\"black\",\"black\",\"black\",\"black\",\"black\",\"black\",\"red\",\"red\",\"red\",\"red\",\"red\",\"red\",\"black\",\"red\",\"black\",\"red\",\"black\",\"black\",\"red\",\"red\",\"black\",\"red\",\"red\",\"red\",\"red\",\"black\",\"black\",\"black\",\"black\",\"black\",\"black\",\"black\",\"black\",\"black\",\"black\",\"black\",\"black\",\"red\",\"black\",\"red\",\"red\",\"red\",\"red\",\"black\",\"red\",\"red\",\"black\",\"black\",\"black\",\"black\",\"black\",\"black\",\"black\",\"black\",\"black\",\"black\",\"black\",\"red\",\"red\",\"black\",\"black\",\"red\",\"black\",\"black\",\"black\",\"red\",\"black\",\"red\",\"black\",\"red\",\"black\",\"red\",\"black\",\"red\",\"black\",\"red\",\"black\",\"black\",\"red\",\"black\",\"black\",\"red\",\"black\",\"red\",\"black\",\"red\",\"red\",\"black\",\"red\",\"black\",\"red\",\"red\",\"red\",\"black\",\"black\",\"red\",\"black\",\"black\",\"black\",\"red\",\"black\",\"red\",\"red\",\"black\",\"black\",\"black\",\"red\",\"black\",\"black\",\"black\",\"red\",\"red\",\"red\",\"black\",\"black\",\"red\",\"red\",\"red\",\"red\",\"red\",\"black\",\"black\",\"black\",\"red\",\"black\",\"red\",\"red\",\"black\",\"red\",\"red\",\"black\",\"black\",\"black\",\"red\",\"black\",\"red\",\"black\",\"black\",\"black\",\"red\",\"black\",\"black\",\"black\",\"red\",\"red\",\"red\",\"red\",\"black\",\"black\",\"red\",\"black\",\"black\",\"red\",\"red\",\"red\",\"red\",\"black\",\"black\",\"black\",\"black\",\"black\",\"red\",\"black\",\"red\",\"red\",\"black\",\"black\",\"black\",\"red\",\"black\"],\"genre\":[\"Comedy\",\"Drama\",\"Comedy\",\"Comedy\",\"Drama\",\"Drama\",\"Drama\",\"Drama\",\"Comedy\",\"Comedy\",\"Comedy\",\"Comedy\",\"Comedy\",\"Comedy\",\"Drama\",\"Comedy\",\"Comedy\",\"Comedy\",\"Comedy\",\"Drama\",\"Drama\",\"Comedy\",\"Drama\",\"Comedy\",\"Comedy\",\"Drama\",\"Comedy\",\"Drama\",\"Drama\",\"Comedy\",\"Comedy\",\"Comedy\",\"Drama\",\"Comedy\",\"Comedy\",\"Comedy\",\"Drama\",\"Comedy\",\"Drama\",\"Comedy\",\"Drama\",\"Comedy\",\"Drama\",\"Drama\",\"Drama\",\"Drama\",\"Comedy\",\"Drama\",\"Drama\",\"Comedy\",\"Drama\",\"Comedy\",\"Drama\",\"Drama\",\"Comedy\",\"Comedy\",\"Comedy\",\"Drama\",\"Drama\",\"Drama\",\"Drama\",\"Drama\",\"Comedy\",\"Comedy\",\"Drama\",\"Comedy\",\"Drama\",\"Comedy\",\"Comedy\",\"Comedy\",\"Comedy\",\"Comedy\",\"Comedy\",\"Comedy\",\"Comedy\",\"Drama\",\"Comedy\",\"Drama\",\"Drama\",\"Comedy\",\"Drama\",\"Comedy\",\"Comedy\",\"Comedy\",\"Drama\",\"Drama\",\"Drama\",\"Drama\",\"Drama\",\"Drama\",\"Drama\",\"Comedy\",\"Comedy\",\"Comedy\",\"Comedy\",\"Drama\",\"Comedy\",\"Drama\",\"Comedy\",\"Drama\",\"Drama\",\"Drama\",\"Comedy\",\"Comedy\",\"Comedy\",\"Comedy\",\"Drama\",\"Comedy\",\"Comedy\",\"Drama\",\"Drama\",\"Drama\",\"Comedy\",\"Drama\",\"Comedy\",\"Comedy\",\"Drama\",\"Drama\",\"Drama\",\"Drama\",\"Drama\",\"Drama\",\"Drama\",\"Drama\",\"Comedy\",\"Drama\",\"Drama\",\"Drama\",\"Comedy\",\"Comedy\",\"Drama\",\"Drama\",\"Drama\",\"Drama\",\"Drama\",\"Drama\",\"Drama\",\"Drama\",\"Comedy\",\"Drama\",\"Drama\",\"Comedy\",\"Drama\",\"Drama\",\"Drama\",\"Drama\",\"Drama\",\"Comedy\",\"Drama\",\"Drama\",\"Drama\",\"Drama\",\"Drama\",\"Drama\",\"Comedy\",\"Drama\",\"Drama\",\"Drama\",\"Comedy\",\"Comedy\",\"Drama\",\"Comedy\",\"Drama\",\"Drama\",\"Comedy\",\"Comedy\",\"Drama\",\"Drama\",\"Comedy\",\"Drama\",\"Drama\",\"Comedy\",\"Drama\",\"Drama\",\"Comedy\",\"Comedy\",\"Comedy\",\"Comedy\",\"Comedy\",\"Comedy\",\"Comedy\",\"Drama\",\"Comedy\",\"Drama\",\"Drama\",\"Drama\",\"Comedy\",\"Drama\",\"Drama\",\"Drama\",\"Comedy\",\"Drama\",\"Drama\",\"Comedy\",\"Comedy\",\"Comedy\",\"Comedy\",\"Comedy\",\"Drama\",\"Comedy\",\"Drama\",\"Comedy\",\"Drama\",\"Drama\",\"Drama\",\"Drama\",\"Drama\",\"Drama\",\"Drama\",\"Drama\",\"Drama\",\"Drama\",\"Comedy\",\"Comedy\",\"Drama\",\"Comedy\",\"Drama\",\"Comedy\",\"Comedy\",\"Comedy\",\"Comedy\",\"Drama\",\"Drama\",\"Drama\",\"Comedy\",\"Comedy\",\"Drama\",\"Drama\",\"Comedy\",\"Comedy\",\"Drama\",\"Comedy\",\"Comedy\",\"Comedy\",\"Comedy\",\"Drama\",\"Drama\",\"Drama\",\"Drama\",\"Comedy\",\"Drama\",\"Comedy\",\"Drama\",\"Drama\",\"Drama\",\"Comedy\",\"Drama\",\"Comedy\",\"Drama\",\"Comedy\",\"Comedy\",\"Comedy\",\"Comedy\",\"Drama\",\"Comedy\",\"Drama\",\"Drama\",\"Drama\",\"Drama\",\"Comedy\",\"Comedy\",\"Drama\",\"Drama\",\"Drama\",\"Comedy\",\"Drama\",\"Comedy\",\"Drama\",\"Comedy\",\"Drama\",\"Comedy\",\"Comedy\",\"Comedy\",\"Comedy\",\"Comedy\",\"Drama\",\"Drama\",\"Drama\",\"Comedy\",\"Comedy\",\"Drama\",\"Comedy\",\"Comedy\",\"Drama\",\"Drama\",\"Comedy\",\"Comedy\",\"Drama\",\"Comedy\",\"Drama\",\"Comedy\",\"Comedy\",\"Comedy\",\"Comedy\",\"Comedy\",\"Comedy\",\"Comedy\",\"Comedy\",\"Comedy\",\"Drama\",\"Comedy\",\"Comedy\",\"Drama\",\"Comedy\",\"Comedy\",\"Drama\",\"Drama\",\"Drama\",\"Drama\",\"Drama\",\"Comedy\",\"Drama\",\"Comedy\",\"Comedy\",\"Comedy\",\"Comedy\",\"Comedy\",\"Drama\",\"Drama\",\"Drama\",\"Drama\",\"Drama\",\"Drama\",\"Drama\",\"Drama\",\"Comedy\",\"Drama\",\"Drama\",\"Drama\",\"Drama\",\"Comedy\",\"Drama\",\"Drama\",\"Drama\",\"Drama\",\"Drama\",\"Drama\",\"Drama\",\"Drama\",\"Drama\",\"Comedy\",\"Drama\",\"Comedy\",\"Drama\",\"Drama\",\"Comedy\",\"Comedy\",\"Drama\",\"Drama\",\"Drama\",\"Comedy\",\"Comedy\",\"Comedy\",\"Drama\",\"Drama\",\"Drama\",\"Comedy\",\"Comedy\",\"Comedy\",\"Drama\",\"Drama\",\"Comedy\",\"Drama\",\"Drama\",\"Drama\",\"Comedy\",\"Drama\",\"Drama\",\"Comedy\",\"Drama\",\"Drama\",\"Comedy\",\"Comedy\",\"Drama\",\"Drama\",\"Comedy\",\"Comedy\",\"Comedy\",\"Comedy\",\"Comedy\",\"Comedy\",\"Drama\",\"Comedy\",\"Drama\",\"Drama\",\"Comedy\",\"Comedy\",\"Comedy\",\"Drama\",\"Drama\",\"Comedy\",\"Comedy\",\"Drama\",\"Comedy\",\"Comedy\",\"Comedy\",\"Drama\",\"Comedy\",\"Comedy\",\"Comedy\",\"Comedy\",\"Comedy\",\"Drama\",\"Drama\",\"Comedy\",\"Drama\",\"Drama\",\"Comedy\",\"Comedy\",\"Comedy\",\"Drama\",\"Drama\",\"Comedy\",\"Drama\",\"Comedy\",\"Drama\",\"Comedy\",\"Drama\",\"Drama\",\"Comedy\",\"Drama\",\"Drama\",\"Comedy\",\"Drama\",\"Drama\",\"Drama\",\"Drama\",\"Comedy\",\"Drama\",\"Comedy\",\"Comedy\",\"Comedy\",\"Drama\",\"Drama\",\"Comedy\",\"Drama\",\"Drama\",\"Drama\",\"Drama\",\"Comedy\",\"Drama\",\"Comedy\",\"Comedy\",\"Comedy\",\"Comedy\",\"Comedy\",\"Comedy\",\"Comedy\",\"Comedy\",\"Drama\",\"Comedy\",\"Comedy\",\"Comedy\",\"Drama\",\"Drama\",\"Drama\",\"Drama\",\"Drama\",\"Comedy\",\"Comedy\",\"Comedy\",\"Drama\",\"Comedy\",\"Drama\",\"Drama\",\"Drama\",\"Drama\",\"Comedy\",\"Drama\",\"Comedy\",\"Drama\",\"Comedy\",\"Comedy\",\"Drama\",\"Drama\",\"Comedy\",\"Comedy\",\"Drama\",\"Comedy\",\"Comedy\",\"Comedy\",\"Comedy\",\"Comedy\",\"Comedy\",\"Comedy\",\"Comedy\",\"Comedy\",\"Drama\",\"Comedy\",\"Comedy\",\"Drama\",\"Drama\",\"Drama\",\"Drama\",\"Drama\",\"Comedy\",\"Drama\",\"Drama\",\"Comedy\",\"Drama\",\"Drama\",\"Comedy\",\"Drama\",\"Comedy\",\"Drama\",\"Drama\",\"Drama\",\"Drama\",\"Comedy\",\"Drama\",\"Comedy\",\"Comedy\",\"Comedy\",\"Comedy\",\"Comedy\",\"Drama\",\"Drama\",\"Drama\",\"Comedy\",\"Comedy\",\"Comedy\",\"Drama\",\"Comedy\",\"Drama\",\"Comedy\",\"Comedy\",\"Drama\",\"Comedy\",\"Comedy\",\"Comedy\",\"Drama\",\"Comedy\",\"Comedy\",\"Comedy\",\"Comedy\",\"Comedy\",\"Drama\",\"Drama\",\"Drama\",\"Drama\",\"Comedy\",\"Drama\",\"Comedy\",\"Comedy\",\"Comedy\",\"Drama\",\"Drama\",\"Drama\",\"Comedy\",\"Drama\",\"Drama\",\"Comedy\",\"Drama\",\"Drama\",\"Drama\",\"Drama\",\"Comedy\",\"Drama\",\"Drama\",\"Drama\",\"Comedy\",\"Comedy\",\"Comedy\",\"Comedy\",\"Comedy\",\"Comedy\",\"Drama\",\"Drama\",\"Drama\",\"Drama\",\"Drama\",\"Comedy\",\"Comedy\",\"Comedy\",\"Comedy\",\"Drama\",\"Drama\",\"Drama\",\"Drama\",\"Comedy\",\"Drama\",\"Comedy\",\"Drama\",\"Drama\",\"Drama\",\"Comedy\",\"Drama\",\"Drama\",\"Comedy\",\"Comedy\",\"Drama\",\"Drama\",\"Comedy\",\"Drama\",\"Drama\",\"Comedy\",\"Drama\",\"Comedy\",\"Comedy\",\"Drama\",\"Drama\",\"Comedy\",\"Comedy\",\"Drama\",\"Comedy\",\"Comedy\",\"Drama\",\"Drama\",\"Drama\",\"Comedy\",\"Comedy\",\"Drama\",\"Comedy\",\"Drama\",\"Drama\",\"Drama\",\"Comedy\",\"Drama\",\"Drama\",\"Drama\",\"Drama\",\"Drama\",\"Comedy\",\"Comedy\",\"Drama\",\"Drama\",\"Drama\",\"Drama\",\"Drama\",\"Drama\",\"Comedy\",\"Comedy\",\"Comedy\",\"Drama\",\"Drama\",\"Comedy\",\"Drama\",\"Comedy\",\"Drama\",\"Drama\",\"Drama\",\"Drama\",\"Drama\",\"Comedy\",\"Comedy\",\"Comedy\",\"Comedy\",\"Drama\",\"Comedy\",\"Drama\",\"Drama\",\"Drama\",\"Comedy\",\"Comedy\",\"Drama\",\"Comedy\",\"Drama\",\"Drama\",\"Drama\",\"Comedy\",\"Drama\",\"Drama\",\"Comedy\",\"Drama\",\"Comedy\",\"Drama\",\"Comedy\",\"Comedy\",\"Drama\",\"Comedy\",\"Drama\",\"Drama\",\"Comedy\",\"Drama\",\"Drama\",\"Comedy\",\"Drama\",\"Drama\",\"Drama\",\"Drama\",\"Drama\",\"Comedy\",\"Drama\",\"Comedy\",\"Comedy\",\"Drama\",\"Drama\",\"Drama\",\"Comedy\",\"Drama\",\"Drama\",\"Comedy\",\"Drama\",\"Comedy\",\"Drama\",\"Drama\",\"Comedy\",\"Comedy\",\"Drama\",\"Drama\",\"Drama\",\"Comedy\",\"Comedy\",\"Drama\",\"Comedy\",\"Comedy\",\"Drama\",\"Comedy\",\"Drama\",\"Drama\",\"Drama\",\"Comedy\",\"Drama\",\"Comedy\",\"Drama\",\"Drama\",\"Drama\",\"Drama\",\"Comedy\",\"Comedy\",\"Drama\",\"Drama\",\"Drama\",\"Drama\",\"Drama\",\"Comedy\",\"Drama\",\"Drama\",\"Drama\",\"Comedy\",\"Drama\",\"Drama\",\"Comedy\",\"Comedy\",\"Comedy\",\"Comedy\",\"Comedy\",\"Comedy\",\"Comedy\",\"Drama\",\"Drama\",\"Comedy\",\"Comedy\",\"Drama\",\"Comedy\",\"Drama\",\"Comedy\",\"Drama\",\"Comedy\",\"Drama\",\"Comedy\",\"Comedy\",\"Drama\",\"Drama\",\"Comedy\",\"Comedy\",\"Comedy\",\"Comedy\",\"Comedy\",\"Comedy\",\"Comedy\",\"Drama\",\"Comedy\",\"Drama\",\"Comedy\",\"Drama\",\"Comedy\",\"Drama\",\"Comedy\",\"Drama\",\"Drama\",\"Drama\",\"Comedy\",\"Comedy\",\"Drama\",\"Comedy\",\"Comedy\",\"Comedy\",\"Comedy\",\"Comedy\",\"Comedy\",\"Comedy\",\"Comedy\",\"Drama\",\"Drama\",\"Drama\",\"Drama\",\"Drama\",\"Drama\",\"Comedy\",\"Drama\",\"Comedy\",\"Drama\",\"Comedy\",\"Comedy\",\"Drama\",\"Drama\",\"Comedy\",\"Drama\",\"Drama\",\"Drama\",\"Drama\",\"Comedy\",\"Comedy\",\"Comedy\",\"Comedy\",\"Comedy\",\"Comedy\",\"Comedy\",\"Comedy\",\"Comedy\",\"Comedy\",\"Comedy\",\"Comedy\",\"Drama\",\"Comedy\",\"Drama\",\"Drama\",\"Drama\",\"Drama\",\"Comedy\",\"Drama\",\"Drama\",\"Comedy\",\"Comedy\",\"Comedy\",\"Comedy\",\"Comedy\",\"Comedy\",\"Comedy\",\"Comedy\",\"Comedy\",\"Comedy\",\"Comedy\",\"Drama\",\"Drama\",\"Comedy\",\"Comedy\",\"Drama\",\"Comedy\",\"Comedy\",\"Comedy\",\"Drama\",\"Comedy\",\"Drama\",\"Comedy\",\"Drama\",\"Comedy\",\"Drama\",\"Comedy\",\"Drama\",\"Comedy\",\"Drama\",\"Comedy\",\"Comedy\",\"Drama\",\"Comedy\",\"Comedy\",\"Drama\",\"Comedy\",\"Drama\",\"Comedy\",\"Drama\",\"Drama\",\"Comedy\",\"Drama\",\"Comedy\",\"Drama\",\"Drama\",\"Drama\",\"Comedy\",\"Comedy\",\"Drama\",\"Comedy\",\"Comedy\",\"Comedy\",\"Drama\",\"Comedy\",\"Drama\",\"Drama\",\"Comedy\",\"Comedy\",\"Comedy\",\"Drama\",\"Comedy\",\"Comedy\",\"Comedy\",\"Drama\",\"Drama\",\"Drama\",\"Comedy\",\"Comedy\",\"Drama\",\"Drama\",\"Drama\",\"Drama\",\"Drama\",\"Comedy\",\"Comedy\",\"Comedy\",\"Drama\",\"Comedy\",\"Drama\",\"Drama\",\"Comedy\",\"Drama\",\"Drama\",\"Comedy\",\"Comedy\",\"Comedy\",\"Drama\",\"Comedy\",\"Drama\",\"Comedy\",\"Comedy\",\"Comedy\",\"Drama\",\"Comedy\",\"Comedy\",\"Comedy\",\"Drama\",\"Drama\",\"Drama\",\"Drama\",\"Comedy\",\"Comedy\",\"Drama\",\"Comedy\",\"Comedy\",\"Drama\",\"Drama\",\"Drama\",\"Drama\",\"Comedy\",\"Comedy\",\"Comedy\",\"Comedy\",\"Comedy\",\"Drama\",\"Comedy\",\"Drama\",\"Drama\",\"Comedy\",\"Comedy\",\"Comedy\",\"Drama\",\"Comedy\"],\"title\":[\"Father of the Bride Part II\",\"Nixon\",\"Four Rooms\",\"Ace Ventura: When Nature Calls\",\"Othello\",\"Dangerous Minds\",\"Home for the Holidays\",\"Mr. Holland's Opus\",\"Bio-Dome\",\"Friday\",\"Black Sheep\",\"Mr. Wrong\",\"Happy Gilmore\",\"Steal Big, Steal Little\",\"Boys of St. Vincent, The\",\"Flirting With Disaster\",\"Down Periscope\",\"Birdcage, The\",\"Brothers McMullen, The\",\"Basketball Diaries, The\",\"Beauty of the Day (Belle de jour)\",\"Jury Duty\",\"Kids\",\"Living in Oblivion\",\"Party Girl\",\"Showgirls\",\"To Wong Foo, Thanks for Everything! Julie Newmar\",\"Browning Version, The\",\"Burnt by the Sun (Utomlyonnye solntsem)\",\"Billy Madison\",\"Clerks\",\"Destiny Turns on the Radio\",\"Exotica\",\"Exit to Eden\",\"Houseguest\",\"Jerky Boys, The\",\"Little Women\",\"Major Payne\",\"Losing Isaiah\",\"Man of the House\",\"Miracle on 34th Street\",\"Miami Rhapsody\",\"Nell\",\"Pushing Hands (Tui shou)\",\"Priest\",\"Quiz Show\",\"Ready to Wear (Pret-A-Porter)\",\"Three Colors: Red (Trois couleurs: Rouge)\",\"Three Colors: Blue (Trois couleurs: Bleu)\",\"Stuart Saves His Family\",\"Strawberry and Chocolate (Fresa y chocolate)\",\"Tommy Boy\",\"What's Eating Gilbert Grape\",\"Double Happiness\",\"Muriel's Wedding\",\"Ace Ventura: Pet Detective\",\"Bullets Over Broadway\",\"Higher Learning\",\"S.F.W.\",\"Federal Hill\",\"8 Seconds\",\"Age of Innocence, The\",\"Airheads\",\"Air Up There, The\",\"Being Human\",\"Beverly Hillbillies, The\",\"Bronx Tale, A\",\"Cabin Boy\",\"Clean Slate\",\"Cops and Robbersons\",\"Dazed and Confused\",\"Fatal Instinct\",\"Getting Even with Dad\",\"House Party 3\",\"Hudsucker Proxy, The\",\"In the Name of the Father\",\"Made in America\",\"Man Without a Face, The\",\"Naked\",\"North\",\"Philadelphia\",\"Ref, The\",\"Road to Wellville, The\",\"Robin Hood: Men in Tights\",\"Ruby in Paradise\",\"Rudy\",\"Savage Nights (Nuits fauves, Les)\",\"Searching for Bobby Fischer\",\"Short Cuts\",\"Sirens\",\"Six Degrees of Separation\",\"Brady Bunch Movie, The\",\"Pallbearer, The\",\"Ed\",\"Denise Calls Up\",\"Frisk\",\"Sgt. Bilko\",\"Moll Flanders\",\"Kids in the Hall: Brain Candy\",\"World of Apu, The (Apur Sansar)\",\"Run of the Country, The\",\"Boys\",\"Celtic Pride\",\"Multiplicity\",\"Cold Comfort Farm\",\"Spy Hard\",\"I Shot Andy Warhol\",\"Kingpin\",\"Larger Than Life\",\"Collector, The (La collectionneuse)\",\"Foxfire\",\"Basquiat\",\"My Favorite Year\",\"All About Eve\",\"Women, The\",\"Father of the Bride\",\"Lost Horizon\",\"East of Eden\",\"Mr. Smith Goes to Washington\",\"Little Lord Fauntleroy\",\"Cat on a Hot Tin Roof\",\"Dangerous Ground\",\"Michael Collins\",\"Chamber, The\",\"Cool Runnings\",\"Secrets & Lies\",\"Trees Lounge\",\"Jude\",\"Monty Python's Life of Brian\",\"Weekend at Bernie's\",\"Doors, The\",\"Glengarry Glen Ross\",\"Sophie's Choice\",\"Rebel Without a Cause\",\"Streetcar Named Desire, A\",\"Drunks\",\"On Golden Pond\",\"Manon of the Spring (Manon des sources)\",\"Private Benjamin\",\"Children Are Watching Us, The (Bambini ci guardano, I)\",\"Mina Tannenbaum\",\"Bob Roberts\",\"Cinema Paradiso (Nuovo cinema Paradiso)\",\"My Left Foot\",\"Sex, Lies, and Videotape\",\"Passion Fish\",\"One Flew Over the Cuckoo's Nest\",\"Withnail & I\",\"12 Angry Men\",\"To Kill a Mockingbird\",\"Amadeus\",\"Raging Bull\",\"Right Stuff, The\",\"Seventh Seal, The (Sjunde inseglet, Det)\",\"Local Hero\",\"Dead Poets Society\",\"Cool Hand Luke\",\"Raise the Red Lantern (Da hong deng long gao gao gua)\",\"Heathers\",\"This Is Spinal Tap\",\"Gandhi\",\"Real Genius\",\"Sling Blade\",\"Crucible, The\",\"My Fellow Americans\",\"Raising Arizona\",\"Bastard Out of Carolina\",\"Ghosts of Mississippi\",\"Mother\",\"Portrait of a Lady, The\",\"Hearts and Minds\",\"Fierce Creatures\",\"Cement Garden, The\",\"Prefontaine\",\"Waiting for Guffman\",\"Vegas Vacation (National Lampoon's Las Vegas Vacation)\",\"Liar Liar\",\"8 Heads in a Duffel Bag\",\"Romy and Michele's High School Reunion\",\"Fathers' Day\",\"Out to Sea\",\"Star Maps\",\"In & Out\",\"Ulee's Gold\",\"Ice Storm, The\",\"Hurricane Streets\",\"Bean\",\"Rainmaker, The\",\"Boogie Nights\",\"Apostle, The\",\"For Richer or Poorer\",\"Sweet Hereafter, The\",\"Kundun\",\"Mr. Magoo\",\"Wag the Dog\",\"Spice World\",\"Welcome to Woop-Woop\",\"Krippendorf's Tribe\",\"Character (Karakter)\",\"Major League: Back to the Minors\",\"Beyond Silence (Jenseits der Stille)\",\"Dr. Dolittle\",\"Whatever\",\"Hamlet\",\"Midnight Cowboy\",\"Rocky\",\"Kramer vs. Kramer\",\"Ordinary People\",\"Chariots of Fire\",\"Last Emperor, The\",\"Rain Man\",\"Driving Miss Daisy\",\"Metropolitan\",\"Polish Wedding\",\"Last Temptation of Christ, The\",\"BASEketball\",\"Trip to Bountiful, The\",\"'burbs, The\",\"Fandango\",\"Jerk, The\",\"Man with Two Brains, The\",\"Outsiders, The\",\"Autumn Sonata (H\\u00f6stsonaten)\",\"Who's Afraid of Virginia Woolf?\",\"Gods Must Be Crazy II, The\",\"Dead Man on Campus\",\"Rounders\",\"Simon Birch\",\"Married to the Mob\",\"Young Doctors in Love\",\"One True Thing\",\"Fiendish Plot of Dr. Fu Manchu, The\",\"Night at the Roxbury, A\",\"Producers, The\",\"My Cousin Vinny\",\"Mighty, The\",\"Children of a Lesser God\",\"Elephant Man, The\",\"Beloved\",\"Orgazmo\",\"Gods and Monsters\",\"Waterboy, The\",\"Elizabeth\",\"Velvet Goldmine\",\"Central Station (Central do Brasil)\",\"Waking Ned Devine (a.k.a. Waking Ned)\",\"Celebration, The (Festen)\",\"Pink Flamingos\",\"Glen or Glenda\",\"Fletch Lives\",\"Money Pit, The\",\"Back to School\",\"Nothing in Common\",\"Karate Kid, The\",\"Christmas Vacation (National Lampoon's Christmas Vacation)\",\"Civil Action, A\",\"Affliction\",\"Hilary and Jackie\",\"At First Sight\",\"Ruthless People\",\"Soul Man\",\"Color of Money, The\",\"October Sky\",\"Ballad of Narayama, The (Narayama bushiko)\",\"Night Shift\",\"Airport '77\",\"Analyze This\",\"Cruel Intentions\",\"Baby Geniuses\",\"Dangerous Beauty\",\"EDtv\",\"Out-of-Towners, The\",\"Monster, The (Mostro, Il)\",\"Pushing Tin\",\"Election\",\"Besieged (a.k.a. L' Assedio)\",\"Mommie Dearest\",\"Limbo\",\"Big Daddy\",\"Dinner Game, The (D\\u00eener de cons, Le)\",\"Summer of Sam\",\"Drop Dead Gorgeous\",\"Brighton Beach Memoirs\",\"Color Purple, The\",\"Mission, The\",\"Dick\",\"Bowfinger\",\"Brokedown Palace\",\"Detroit Rock City\",\"Head On\",\"Heaven Can Wait\",\"Monty Python's And Now for Something Completely Different\",\"Airplane!\",\"Airplane II: The Sequel\",\"National Lampoon's Vacation\",\"Problem Child 2\",\"Outside Providence\",\"Blue Streak\",\"Sugar Town\",\"Buddy Holly Story, The\",\"Barefoot in the Park\",\"Superstar\",\"Boys Don't Cry\",\"Risky Business\",\"Ferris Bueller's Day Off\",\"Conformist, The (Conformista, Il)\",\"Bringing Out the Dead\",\"Melvin and Howard\",\"Music of the Heart\",\"They Shoot Horses, Don't They?\",\"Repossessed\",\"Face in the Crowd, A\",\"Trading Places\",\"Meatballs\",\"Meatballs Part II\",\"Where's Marlowe?\",\"Irma la Douce\",\"All About My Mother (Todo sobre mi madre)\",\"Bicycle Thieves (a.k.a. The Bicycle Thief) (a.k.a. The Bicycle Thieves) (Ladri di biciclette)\",\"Matewan\",\"Natural, The\",\"River Runs Through It, A\",\"'night Mother\",\"Great Santini, The\",\"Cradle Will Rock\",\"Deuce Bigalow: Male Gigolo\",\"Cider House Rules, The\",\"Emperor and the Assassin, The (Jing ke ci qin wang)\",\"Magnolia\",\"Any Given Sunday\",\"Next Friday\",\"Hurricane, The\",\"Angela's Ashes\",\"Girl, Interrupted\",\"Five Easy Pieces\",\"American Flyers\",\"Star Is Born, A\",\"Draughtsman's Contract, The\",\"Zed & Two Noughts, A\",\"Woman in the Dunes (Suna no onna)\",\"Encino Man\",\"Malcolm X\",\"Sister Act 2: Back in the Habit\",\"Alive\",\"Scent of a Woman\",\"Wayne's World\",\"Wayne's World 2\",\"Howards End\",\"Of Mice and Men\",\"To Sir with Love\",\"Beautiful People\",\"Circus, The\",\"Drowning Mona\",\"Raisin in the Sun, A\",\"Ogre, The (Unhold, Der)\",\"On the Beach\",\"Volunteers\",\"She-Devil\",\"Nadine\",\"Erin Brockovich\",\"Mirror, The (Zerkalo)\",\"Animal House\",\"School Daze\",\"Do the Right Thing\",\"Good Earth, The\",\"Grumpy Old Men\",\"Guess Who's Coming to Dinner\",\"Hustler, The\",\"Jonah Who Will Be 25 in the Year 2000 (Jonas qui aura 25 ans en l'an 2000)\",\"Bamba, La\",\"Midnight Express\",\"Odd Couple, The\",\"Ready to Rumble\",\"Joe Gould's Secret\",\"28 Days\",\"East is East\",\"Shakes the Clown\",\"Caddyshack\",\"Road Trip\",\"8 \\u00bd Women (a.k.a. 8 1/2 Women) (a.k.a. Eight and a Half Women)\",\"Big Momma's House\",\"American Gigolo\",\"Porky's II: The Next Day\",\"Paper Chase, The\",\"Golden Bowl, The\",\"Kentucky Fried Movie, The\",\"But I'm a Cheerleader\",\"Shower (Xizao)\",\"Footloose\",\"Five Senses, The\",\"What About Bob?\",\"Everything You Always Wanted to Know About Sex * But Were Afraid to Ask\",\"Interiors\",\"Love and Death\",\"Nutty Professor II: The Klumps\",\"Saving Grace\",\"Steel Magnolias\",\"Tao of Steve, The\",\"Cecil B. DeMented\",\"Replacements, The\",\"Naked Gun 2 1/2: The Smell of Fear, The\",\"Bring It On\",\"Solas\",\"Almost Famous\",\"Best in Show\",\"Girlfight\",\"Remember the Titans\",\"Bank Dick, The\",\"Bamboozled\",\"Meet the Parents\",\"Requiem for a Dream\",\"Tigerland\",\"Ladies Man, The\",\"Billy Elliot\",\"Bedazzled\",\"Pay It Forward\",\"Little Nicky\",\"Men of Honor\",\"Proof of Life\",\"Planes, Trains & Automobiles\",\"Wall Street\",\"Talk Radio\",\"Brewster's Millions\",\"Pollock\",\"Finding Forrester\",\"Before Night Falls\",\"Cast Away\",\"Don't Tell Mom the Babysitter's Dead\",\"Friendly Persuasion\",\"Sugar & Spice\",\"Baby Boom\",\"Back to the Beach\",\"Glass Menagerie, The\",\"Hope and Glory\",\"Ishtar\",\"Less Than Zero\",\"Vatel\",\"Caveman's Valentine, The\",\"Of Mice and Men\",\"Tapeheads\",\"Reversal of Fortune\",\"Revenge of the Nerds\",\"Revenge of the Nerds II: Nerds in Paradise\",\"Girls Just Want to Have Fun\",\"Necessary Roughness\",\"Dish, The\",\"Tomcats\",\"Josie and the Pussycats\",\"Freddy Got Fingered\",\"Center of the World, The\",\"One Night at McCool's\",\"Lost in America\",\"Summer Rental\",\"Man Who Cried, The\",\"Ice Castles\",\"Eight Men Out\",\"Yi Yi\",\"Anniversary Party, The\",\"Dr. Dolittle 2\",\"Pootie Tang\",\"Closet, The (Placard, Le)\",\"Lumumba\",\"Scary Movie 2\",\"Lost and Delirious\",\"Garden of the Finzi-Continis, The (Giardino dei Finzi-Contini, Il)\",\"Lion in Winter, The\",\"Christiane F. (a.k.a. We Children from Bahnhof Zoo) (Christiane F. - Wir Kinder vom Bahnhof Zoo)\",\"Big Business\",\"Bright Lights, Big City\",\"Dirty Rotten Scoundrels\",\"Gorillas in the Mist\",\"Great Outdoors, The\",\"Moon Over Parador\",\"Running on Empty\",\"Tucker: The Man and His Dream\",\"Twins\",\"Dream Team, The\",\"Lean on Me\",\"Loverboy\",\"Major League\",\"Wet Hot American Summer\",\"She's Out of Control\",\"Troop Beverly Hills\",\"UHF\",\"Uncle Buck\",\"Billy Liar\",\"American Pie 2\",\"Deep End, The\",\"Rat Race\",\"Bubble Boy\",\"O\",\"L.I.E.\",\"French Lieutenant's Woman, The\",\"Silkwood\",\"Hearts in Atlantis\",\"Zoolander\",\"Coal Miner's Daughter\",\"Life as a House\",\"Out Cold\",\"In the Bedroom\",\"That Obscure Object of Desire (Cet obscur objet du d\\u00e9sir)\",\"Toy, The\",\"Affair of the Necklace, The\",\"Party, The\",\"Ali\",\"I Am Sam\",\"Shipping News, The\",\"Waterdance, The\",\"Orange County\",\"Son's Room, The (Stanza del figlio, La)\",\"Waydowntown\",\"Bad News Bears, The\",\"Hopscotch\",\"Oh, God! Book II\",\"Road to Morocco\",\"Taps\",\"Return of the Secaucus 7\",\"George Washington\",\"National Lampoon's Van Wilder\",\"Three Men and a Baby\",\"Triumph of Love, The\",\"World Traveler\",\"Delirious\",\"Triumph of the Spirit\",\"New Guy, The\",\"Undercover Brother\",\"Dangerous Lives of Altar Boys, The\",\"Caveman\",\"Austin Powers in Goldmember\",\"Who Is Cletis Tout?\",\"Red Beard (Akahige)\",\"Top Secret!\",\"Down and Out in Beverly Hills\",\"Johnny Dangerously\",\"Barbershop\",\"Ernest Scared Stupid\",\"Invincible\",\"Bloody Sunday\",\"Heaven\",\"Pride of the Yankees, The\",\"Strange Brew\",\"White Oleander\",\"Banana Joe\",\"Neighbors\",\"Polyester\",\"All or Nothing\",\"8 Mile\",\"Madame Bovary\",\"Take This Job and Shove It\",\"The Emperor's Club\",\"Personal Velocity\",\"Hot Chick, The\",\"Morvern Callar\",\"Fat City\",\"Quicksilver\",\"American Me\",\"CB4 - The Movie\",\"Ethan Frome\",\"Sugar Hill\",\"Tokyo Decadence (Top\\u00e2zu)\",\"Monty Python Live at the Hollywood Bowl\",\"Dennis the Menace\",\"Thrill of It All, The\",\"Old School\",\"Life Stinks\",\"Bringing Down the House\",\"Laurel Canyon\",\"Nowhere in Africa (Nirgendwo in Afrika)\",\"Safety of Objects, The\",\"Prozac Nation\",\"Salaam Bombay!\",\"Anger Management\",\"Sibling Rivalry\",\"Wildcats\",\"Scenes from a Mall\",\"Together (Han ni Zai Yiki)\",\"Whale Rider\",\"Trial, The (Proc\\u00e8s, Le)\",\"Jubilee\",\"Dumb and Dumberer: When Harry Met Lloyd\",\"Seabiscuit\",\"American Wedding (American Pie 3)\",\"Magdalene Sisters, The\",\"Tokyo Story (T\\u00f4ky\\u00f4 monogatari)\",\"Ikiru\",\"Dickie Roberts: Former Child Star\",\"Judgment at Nuremberg\",\"Babette's Feast (Babettes g\\u00e6stebud)\",\"Monty Python's The Meaning of Life\",\"It's Pat\",\"Elephant\",\"Unvanquished, The (Aparajito)\",\"Father of the Bride\",\"Passion of Joan of Arc, The (Passion de Jeanne d'Arc, La)\",\"Salo, or The 120 Days of Sodom (Sal\\u00f2 o le 120 giornate di Sodoma)\",\"Summer School\",\"Radio Flyer\",\"What's New, Pussycat\",\"Life with Father\",\"Macbeth (a.k.a. Tragedy of Macbeth, The)\",\"Jezebel\",\"Front Page, The\",\"Madhouse\",\"Summer Place, A\",\"Stuck on You\",\"Calendar Girls\",\"House of Sand and Fog\",\"Osama\",\"Great Gatsby, The\",\"Mon Oncle (My Uncle)\",\"M. Hulot\\u2019s Holiday (Mr. Hulot's Holiday) (Vacances de Monsieur Hulot, Les)\",\"Strada, La\",\"Barbershop 2: Back in Business\",\"Miracle\",\"Dreamers, The\",\"Thirteen\",\"Welcome to Mooseport\",\"Monsieur Ibrahim (Monsieur Ibrahim et les fleurs du Coran)\",\"Passion of the Christ, The\",\"Persona\",\"Broken Wings (Knafayim Shvurot)\",\"Scenes From a Marriage (Scener ur ett \\u00e4ktenskap)\",\"Envy\",\"Mean Girls\",\"Mudge Boy, The\",\"Fountainhead, The\",\"Chaplin\",\"Miracle Worker, The\",\"School Ties\",\"Bang, Bang, You're Dead\",\"Highway 61\",\"Gidget\",\"Zelig\",\"Silence, The (Tystnaden)\",\"Through a Glass Darkly (S\\u00e5som i en spegel)\",\"Broadway Danny Rose\",\"Spring, Summer, Fall, Winter... and Spring (Bom yeoreum gaeul gyeoul geurigo bom)\",\"Seducing Doctor Lewis (Grande s\\u00e9duction, La)\",\"Au revoir les enfants\",\"Dolce Vita, La\",\"Sansho the Bailiff (Sansh\\u00f4 day\\u00fb)\",\"Black Narcissus\",\"Baadasssss! (How to Get the Man's Foot Outta Your Ass)\",\"Napoleon Dynamite\",\"Dodgeball: A True Underdog Story\",\"Farmer's Daughter, The\",\"Anchorman: The Legend of Ron Burgundy\",\"Long Day's Journey Into Night\",\"Bachelor and the Bobby-Soxer, The\",\"Snake Pit, The\",\"Story of Women (Affaire de femmes, Une)\",\"We Don't Live Here Anymore\",\"Without a Paddle\",\"I Heart Huckabees\",\"Stage Beauty\",\"Surviving Christmas\",\"Ray\",\"Kinsey\",\"Finding Neverland\",\"Unfaithfully Yours\",\"The Wild One\",\"Advise and Consent\",\"Play Time (a.k.a. Playtime)\",\"Boy Meets Girl\",\"Club Paradise\",\"Sacrifice, The (Offret - Sacraficatio)\",\"Life Is a Long Quiet River (La vie est un long fleuve tranquille)\",\"Almost an Angel\",\"Ju Dou\",\"Ladybugs\",\"Bad Boy Bubby\",\"Barbarians at the Gate\",\"Late Shift, The\",\"Gummo\",\"Dog Days (Hundstage)\",\"Comic Book: The Movie\",\"Sea Inside, The (Mar adentro)\",\"Chorus, The (Choristes, Les)\",\"Return, The (Vozvrashcheniye)\",\"Million Dollar Baby\",\"Aviator, The\",\"Meet the Fockers\",\"Love Song for Bobby Long, A\",\"Sweet Liberty\",\"Uncle Nino\",\"Julia\",\"Milk and Honey\",\"Ballad of Jack and Rose, The\",\"National Lampoon's Lady Killers (National Lampoon's Gold Diggers)\",\"Dear Wendy\",\"Last Days\",\"Georgy Girl\",\"Proof\",\"Waiting...\",\"Greatest Game Ever Played, The\",\"Manderlay\",\"Ringer, The\",\"Grandma's Boy\",\"World's Fastest Indian, The\",\"London\",\"Take the Lead\",\"Benchwarmers, The\",\"Stick It\",\"Peaceful Warrior\",\"Nacho Libre\",\"Clerks II\",\"Stoned\",\"Little Man\",\"World Trade Center\",\"Pursuit of Happyness, The\",\"Half Nelson\",\"Accepted\",\"The Queen\",\"Beerfest\",\"Invincible\",\"SherryBaby\",\"Land of Plenty (Angst and Alienation in America)\",\"All the King's Men\",\"Borat: Cultural Learnings of America for Make Benefit Glorious Nation of Kazakhstan\",\"Employee of the Month\",\"Infamous\",\"Bobby\",\"Fast Food Nation\",\"We Are Marshall\",\"Notes on a Scandal\",\"Reno 911!: Miami\",\"Black Snake Moan\",\"My Father and My Son (Babam ve oglum)\",\"Reign Over Me\",\"Mr. Bean's Holiday\",\"This Is England\",\"Away from Her\",\"Death at a Funeral\",\"Hot Rod\",\"Superbad\",\"Brice Man, The (Brice de Nice)\",\"Sydney White\",\"Brothers Solomon, The\",\"Ten, The\",\"4 Months, 3 Weeks and 2 Days (4 luni, 3 saptam\\u00e2ni si 2 zile)\",\"Interview\",\"Game Plan, The\",\"Comebacks, The\",\"Control\",\"King of California\",\"Diving Bell and the Butterfly, The (Scaphandre et le papillon, Le)\",\"Be Kind Rewind\",\"Kite Runner, The\",\"Drained (O cheiro do Ralo)\",\"Like Stars on Earth (Taare Zameen Par)\",\"Meet the Spartans\",\"Semi-Pro\",\"Snow Angels\",\"Class, The (Klass)\",\"Baby Mama\",\"American Pie Presents Beta House (American Pie 6: Beta House)\",\"You Don't Mess with the Zohan\",\"Young People Fucking (a.k.a. YPF)\",\"Step Brothers\",\"House Bunny, The\",\"Rocker, The\",\"John Adams\",\"How to Lose Friends & Alienate People\",\"W.\",\"Role Models\",\"Tokyo!\",\"Sex Drive\",\"Milk\",\"Four Christmases\",\"Frost/Nixon\",\"Seven Pounds\",\"Wrestler, The\",\"Yes Man\",\"Blackadder's Christmas Carol\",\"Departures (Okuribito)\",\"I Love You, Man\",\"Big Stan\",\"In the Loop\",\"Br\\u00fcno (Bruno)\",\"Humpday\",\"Goods: Live Hard, Sell Hard, The\",\"Extract\",\"Invention of Lying, The\",\"Coco Before Chanel (Coco avant Chanel)\",\"Precious\",\"Garage\",\"Blind Side, The\",\"Invictus\",\"Temple Grandin\",\"Slammin' Salmon, The\",\"Disgrace\",\"Get Him to the Greek\",\"Endgame\",\"Grown Ups\",\"Dinner for Schmucks\",\"Social Network, The\",\"Luck by Chance\",\"Due Date\",\"King's Speech, The\",\"Fighter, The\",\"Trash Humpers\",\"Rabbit Hole\",\"Little Fockers\",\"Hall Pass\",\"Playing the Victim (Izobrazhaya zhertvu)\",\"Arthur\",\"Louis C.K.: Hilarious\",\"Louis C.K.: Chewed Up\",\"Louis C.K.: Shameless\",\"Bridesmaids\",\"Hangover Part II, The\",\"Mr. Popper's Penguins\",\"Bad Teacher\",\"Change-Up, The\",\"Help, The\",\"Very Harold & Kumar 3D Christmas, A\",\"Moneyball\",\"Neds\",\"Warrior\",\"Ides of March, The\",\"Gigi\",\"Puncture\",\"J. Edgar\",\"Jack and Jill\",\"Sitter, The\",\"Friends with Kids\",\"Louis C.K.: Live at the Beacon Theater\",\"Project X\",\"Big Year, The\",\"American Reunion (American Pie 4)\",\"Three Stooges, The\",\"Dictator, The\",\"Wanderlust\",\"Campaign, The\",\"Master, The\",\"Flight\",\"Jim Jefferies: Fully Functional (EPIX)\",\"Incredible Burt Wonderstone, The\",\"Great Gatsby, The\",\"Mimino\",\"Hangover Part III, The\",\"Kings of Summer, The\",\"Blue Jasmine\",\"Louis C.K.: Oh My God\",\"Jobs\",\"In a World...\",\"Short Term 12\",\"To Do List, The\",\"12 Years a Slave\",\"Jackass Presents: Bad Grandpa\",\"Dallas Buyers Club\",\"Delivery Man\",\"Inside Llewyn Davis\",\"Bad Words\",\"Ocho apellidos vascos\",\"Locke\",\"Neighbors\",\"G.B.F.\",\"Boyhood\",\"Tammy\",\"Whiplash\",\"Sex Tape\",\"If I Stay\",\"The Skeleton Twins\",\"Too Many Cooks\",\"Still Alice\",\"National Lampoon's Bag Boy\",\"Mommy\",\"Wild\",\"Cake\",\"Kevin Smith: Too Fat For 40\",\"The DUFF\",\"Me and Earl and the Dying Girl\",\"Jim Norton: American Degenerate\",\"Jim Jefferies: BARE\",\"Patton Oswalt: Tragedy Plus Comedy Equals Time\",\"I'm Here\",\"Chris Rock: Bigger & Blacker\",\"Legend No. 17\",\"Woman in Gold\",\"Iliza Shlesinger: Freezing Hot\",\"Radio Day\",\"Elections Day\",\"Youth\",\"George Carlin: Back in Town\",\"George Carlin: You Are All Diseased\",\"Jeff Dunham: All Over the Map\",\"Steve Jobs\",\"The Face of an Angel\",\"13 Hours\",\"Joe Dirt 2: Beautiful Loser\",\"The Intern\",\"Room\",\"Straight Outta Compton\",\"Suffragette\",\"War Room\",\"The Danish Girl\",\"Old Men: Robbers\",\"It Can't Be!\",\"Oscar\",\"Demolition\",\"The Night Before\",\"Pawn Sacrifice\",\"Burnt\",\"Hail, Caesar!\",\"Creed\",\"Big Short, The\",\"John Mulaney: The Comeback Kid\",\"Daddy's Home\",\"Moonwalkers\",\"Exposed\",\"Dad's Army\",\"The Wait\",\"Fraktus\",\"Me Him Her\",\"Everybody Wants Some\",\"Sing Street\",\"Neighbors 2: Sorority Rising\",\"The Boss\",\"World of Glory\",\"Captain Fantastic\",\"The Fundamentals of Caring\",\"Goat\",\"Sully\",\"War Dogs\",\"Tom Segura: Mostly Stories\",\"Deepwater Horizon\",\"Comedy Central Roast of David Hasselhoff\",\"Joe Rogan: Triggered\",\"Flowers for Algernon\",\"Manchester by the Sea\",\"Hidden Figures\",\"The Founder\",\"Why Him?\",\"Dave Chappelle: Deep in the Heart of Texas\",\"Late Night with Conan O'Brien: The Best of Triumph the Insult Comic Dog\",\"The House\",\"Lady Bird\",\"I, Tonya\",\"A Bad Moms Christmas\",\"Molly's Game\",\"The Greatest Showman\",\"The Clapper\",\"When We First Met\",\"Tag\",\"Flint\",\"Andrew Dice Clay: Dice Rules\"],\"x\":{\"__ndarray__\":\"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\",\"dtype\":\"float32\",\"shape\":[947]},\"y\":{\"__ndarray__\":\"KcTfv/yMZb7Y4xDA2/cEv89/nL/iRXK/ILVZPyt26r0YggG/mAmyv862JkA97pa/40FEPQtwYj7IyifAXWz1v1nMLL70ypW9eZwDwD4ZNUDRJJe/mII9vqr0+L6jXee/5JgCwLs3mD/Cjw+/r2iSPgd1vz8y99m/k4YPvxxpxz/9q02+BPlNv3JGRD9kslK+wlRBvjQKFr+mzF+/MSfiv64fjT/Dx1U/B72HP/j9wT8QOEK+A1CnP86j676fokVA0oOgQLiXXkCJPZc/xbyfv9IU8r4pDUo/6AMgvxfPUz3c/mm/Lo+4P7s7MT+Qj5c/cr3FvxXLej8cwj8/4lnPP3wUOsBOO8m+Rgc/v40+Vb85P5g/JfPCvqNZEL/K8no/2sekvo2FGz+53M89toXcv4MwIj8kZLu/XI5zP/3A3b6cMho/zNYIv4U5ZT+4pqq/cOjRP9Qaob9BeQu/4PemPd67YL8gTaG+d7buv4xKfj6Sr50/+eNNP3h8IkBgQqc/A3pyv+3ouz9y/C7ASI3/vliThL6MfsE+CpEzv81oLT8zmVHAS5ukPviOKj9UFPq+kpEbwC6YX8Bemli/RWmAPonXoD/Gez4/RiBKPgsHrr9jqZ0/QZ/0Pt8Djj9jtRdAHNYawLowgD8JOkZAGzwEP1cxw74KeZi/3Vz4PoCKiD+ynpg9Ff41P6/zhTz/6Xq8Q50WQBX+PEDC6eE+b9nbv1xvqb290v++8axWP975GED3uJA/K/Tlvtd7OMCFC26/j97jP044K7/7dta98nuRv3LDir69qgK/BmuovzeAVb6SYwJAPdKxP3ivdsBolSu/lx8+wM6QvT6WUM6+6Yt3vrX88b4JKKM/genrv3t1Db6CImS9H7CBPxurd7+MmVzAzSl3vtKkU0Bdutm/RBIXvzgJLL4yaKI+pFJ2Pp/RKb2d+xG/MJ7IPTUrU7+SOZa/bJyZv8idq7+ygCE/vyqbP5TycT5WgQq/84mHv+Dn2b4i4zG+JJvpviCgsb8GDuW+EGS0vVWMvb/I5Nk9o++ZPwuU0T9O6iNA6gcFwIDGlz4Lt7A/6tXCvl70qr/RI/G+TNb9P+2Lcr8uJaI97T4ewIdRe0DL1qs/7KTjvgO7JT9VWhXASuo8vt29M0DWGJe/5MjtP9TXP7/I5aS/HuUvv9hBRb82ryjAvcQTwGuy5D/2hiJA61Jcv9GUkL4rDEw+TXQKwNf3LD8VOoy/dy3gv/vclz+6Av4+SQ59vnu5CD9kHVk/HEJcvuR9tL7qRxg+yLoGwMjcHr8Copm/Z1jHvw53uj8MnpW/JaGkv0Imnb9i2IA/lQy8v8ntTb2Rxrm+I16EP/DLiT2Jli7AiPhnPzLR6j0f5Z2/RDauPpgmgD9QprG+DqV7PF6cnL8iXWi//cUev6YqXsCfvQi/JdJ9vsaVYL8FoP0/4JM9QKJc8D70TxhAqT/AvxPeQryE2Lc/gtw9QFMTjbwxFBy/EPh7Pk3Ihr6466m/kMKdvUhujT5Xb9u/AvaSP90VPz7mSVq/ImKwP34H9b9xPfe+J/aDv32THr/tPBnACcgav7a4dEATfwhAFbWVv7bTvL9xEaW9fZXZPpdIlz8ULdY+962VvpbLD7/eCP++1SR9wBVT6L/mgWe/LoUhP6VBlb7PU7W/bdVZP8DCJ0Dp6qe/PPXxvu0yQD56iVy/4l/8v2ZG0b/FCMO8INhVvwCAn76/Oxi/oM+JPpl0/r8vNw4/4hX5vrcBCr9nNba/ECuJv82shT9o8uM9vY8PP/tGfb+1y9e/AdfSPxEhKkA8WQTAC1/dv8Qu7T8SHbO/zIO2P41e7T+mXDQ9jtBwvUxsuz5OjKY+nQCSvoZwIT+ZBc8/SAQVQMVvP0CWiLM+qMqFP3saKkBXhP4+C1Uevw1Iub5agSO/IFkwwBhKqb+Opg3AylT6vTw7jD+uxg+/gaA/QIRAKMD9va2/vnOMP38Zu76N6HA/2cldv8xGpb6sQSq/g+9+PzQilD36qSO/vhC1PUvQGr8fNzE/hyZePnuq4T6NrQxAHLT9Py8bBMDpzYC/jGI3v1tm276gIOY/6431vuT2Bb+8UYM/RWpfPhKhLkA810u/Ie/oPlHnVz8xl8e/bW6rvpoWTr1nhvm+SGdiPuv7rL8fViC/nY1EvbSsF7+jdRnA6s/vP/0sEr/XFoq/Z333P5lIVD99KHi+EvkbPtioIz426oK/fFe8P5kQQ78kqgq+GCravlD0xj3LYyK/ykxavmjHQr/4JTO/yAvqPuAOGr0LELw/jyGTvzXS1D/+RLI/YnT3PuvKC0DiJiS/UbsQP0BVor+LnsA/MaSHPws8q70eVxu+2taMP8Us2j7YFdG/87lHP+z2AsCiq3G/bFPRvsAOYUCOjSy9HvtTv2Koqj6+Tgq/Ph8aP3Yzdb9OrUe+DGVwPxsQtb+9LoK+U8oEPu9/yj+Pux0/wKLaP4wJOsBynTbANrTxP9L3R7/FPzo/tfkTwH7g1TzHm1o/A9g2wAawjj8ZTH+/BoCIP9GhyT60oes7P2CqPvvxxb+4642/nwHwP7AkqT+sm3XA5Nk8PysTBcAwHjRA0ZkYvviUjD/jJv4/3klgvqVNJr8Qz42/0VkEwL71U79AkpE82sokv7EtIkBtLa8+bTBaQHupCkDem7I+u7MQQHcnwj8B4RQ/MyxIP3MDkz5qgxA/ViMTvfdWEz95KAI+Chztv80dS79qXcy/dtQev5THgT//yGs/Qry6vyL/3T7FWSc/eFwev7lVc789yRxA6RwcP2nHHD+f1so/EaJiQL0CxD++nZw+KV1+Pv0Njr7YUxO/aPyjv1TZmr3EyBlATiDSPWFwYr+DsbK/QosSQDtQaT+/+xBARnglQInn274Ye5o/IpnSv0oQfT8BTSjA7uSGvgGqgL9Pt1M+84Q8P1RD0D/SWzE/KHObv6K24D9ppL0/XnwDwNuVfj4WkuK+YLmRvOrfHkBH+yS9Y4GHP5VEuT/wh4G/alSKPozUnj/KvXS/HZPJvgQ9Mj/GgZe/CdsYQBoQ3j4lZ6Y9AWR0vxqywD85JqU+0KaYP+FZYsArFgg/fLWBvoD6UkD3Ss+/0qywPodOX7+yEKS+ZTKRQL6DjL/cZ8m9bZe0v1qFS78HYCS/pcfBPxvCzr/oBrc+2liAPcBeRcAtXvQ9+TZwvqCbgj8DrnS/swgJQL91lr5NCfK/nNNIQL9kQb8XA1vAd4bHvzvvTL9wNxs/GiPwP1+Mgb+sm34/tWQ9wGjX5D/KBf0/TDMHwEgzVT7ULMy+TbiAPy/Vqb+XVts/zU5wu2n5BEBD8lu/cxIIv/gosT6FBYlALb+av+YdMMA6pDO/qJLZvakPuT6EwBU+34+VP7Ccqz/Tp7c/TPBSvwQuJj/vKPC/bmI7PzdExT8Q0dq777odwA3CHD4Y9gG/0QSQP3PhWL9NwVM/3R94P6LgRkAnV6U+gYyvv2urpL+0152/HdDBP/Z5LUD4pQi8oavSv9/jyz5Wm5u/D5+PP/+vU8A4edg8VgoSwMLh5D9DuMI/4UqyPuExtT8IFuY/2u8pvxlEzb/OtRBAXcREPhhBmj5NZCnA+I1Zvg6JJb/4sN2/UmLuvoMXGD7/ugK+n/Knv6Xghj8oFgm/QVc7P5j6qz8As10/HsF3PxWEb79o7Yy/FCP0O2n7PD8SvBFAV41Jv5b9ob/S+X+/WfrNP2yHYz9TZl7Af/OIP47H1L6BUNG+bzCaP8rZCsA3qxk//RZEwLEnnD+A0xjAjm6BP6hGb79RJuA/LzJ9QD3ICUB3wfg+qhgKQB/tyr+Mvzy9HuGrP56w2D9y0wO/kM96wFwFDUDk2iVAAF2HPmn4873lNW++bEO0P35Ohr41moI94ujdvjzDcsDGDSm/QCQav/2oML8MBA+/v4zAvg6yqz6A8W6/hV0sQAHEgT9e34m+eM5Lvhi3Cr8amCm/TX3+Pgn3sj4cyiO/E9/oPrdJGEByiUvAMysJwHXtQj+hQE5AirYCwP9YLsDxuVw/VGk3QDzFjj6+J7g/j5rdP0DJOEBPAu4/+t4OPb72Yb/6RA2/uUsVwLftcrzA2NO/CxUPQHUduL69QpG/SkbKvefzU78uu1TA9uJxQIy/hr/dOMI+ADUNP9HsYcBQga6/pprBP85m5L+7L4a+WXdLvy70Iz9Vnk+/re3yPja3b7+6ffy/rYZRQFSTW78LkFvAjUy2v86ixz/uBXLAN3HNPiZ68r+NAe++2EWfPdxVhb7OCBs/W7ZRQA6SqL9hzM++/6Gnv2wZSb8Tf0RAEJQhwBTG3UCCwEJAjD/rv1092j7lWCFAw/GyP9QTxL88FVZAltBev1xmEj+5Q4q/eFExvtxcBcA7OqQ/Eq0Zv6cIB0CyTYg/H+uMP5tj5b7kpOy/zJMLQAQtgz/qRf2+mTt9PwJ4570lZiw++1oGQF/eE73GPNQ/oV+pvYhsFUDyTL6/KaAmP/v3qz9BRYxACu6PQPibxr/z/+6/zezAvTGakz8csIC+Oo7Pv2zcTL5PdE5AnU4Vv5BQJL40B9+/v3eaP78c6z9E5B9ADsU+v8pIfz4Z66O+CTqMP0EbcT99cBXAvLUIwPhxWD/eRr2/AjQSwFRFA0CWXfq7BQzGPQp7h76xClQ/hlxHP5BWYT74jn6/rnE0Pvv8Ub8DEgzAna7wPpk2qr7PN/2/JZgMwFWaR8B+sfC/XSPbv121uD+afBc/TJ4Rv4qZT8DdGHA96YSRvj5ll74Ul6C/oiv9PsWGr77V+RhAqkvmv2Ek179TkA7AcQ9ZwHBx/D8Jouw/+2CVvdOMgL8qckRAtSH/vkvf1T15MSa/fLGNv839mj6uK7G/OIq5PzOsgED+u5C/MGL2viR+579XYJO/ieH1P9PZkr7k7/Q/8dnXv0oDzr+Cct48ffTGP7j5D0Dti1W/t0oSwIW95T/khzk/PGulv5Xg2L049RRAn4KqvvgBD8Cl9my/9fcyQEoYH0CyLsI+t/EWPx9ckz4K0+G/Ncg4v5Huuj+qjzXAna4kQFOuXL8=\",\"dtype\":\"float32\",\"shape\":[947]}},\"selected\":{\"id\":\"2467\",\"type\":\"Selection\"},\"selection_policy\":{\"id\":\"2468\",\"type\":\"UnionRenderers\"}},\"id\":\"2435\",\"type\":\"ColumnDataSource\"},{\"attributes\":{\"overlay\":{\"id\":\"2466\",\"type\":\"BoxAnnotation\"}},\"id\":\"2450\",\"type\":\"BoxZoomTool\"},{\"attributes\":{},\"id\":\"2451\",\"type\":\"ResetTool\"},{\"attributes\":{},\"id\":\"2443\",\"type\":\"LinearScale\"},{\"attributes\":{\"data_source\":{\"id\":\"2435\",\"type\":\"ColumnDataSource\"},\"glyph\":{\"id\":\"2461\",\"type\":\"Scatter\"},\"hover_glyph\":null,\"muted_glyph\":null,\"nonselection_glyph\":{\"id\":\"2462\",\"type\":\"Scatter\"},\"selection_glyph\":null,\"view\":{\"id\":\"2464\",\"type\":\"CDSView\"}},\"id\":\"2463\",\"type\":\"GlyphRenderer\"},{\"attributes\":{\"callback\":null},\"id\":\"2439\",\"type\":\"DataRange1d\"},{\"attributes\":{\"text\":\"Movie embeddings projected with PCA\"},\"id\":\"2437\",\"type\":\"Title\"},{\"attributes\":{\"fill_alpha\":{\"value\":0.1},\"fill_color\":{\"value\":\"#1f77b4\"},\"line_alpha\":{\"value\":0.1},\"line_color\":{\"value\":\"#1f77b4\"},\"size\":{\"units\":\"screen\",\"value\":10},\"x\":{\"field\":\"x\"},\"y\":{\"field\":\"y\"}},\"id\":\"2462\",\"type\":\"Scatter\"},{\"attributes\":{\"bottom_units\":\"screen\",\"fill_alpha\":{\"value\":0.5},\"fill_color\":{\"value\":\"lightgrey\"},\"left_units\":\"screen\",\"level\":\"overlay\",\"line_alpha\":{\"value\":1.0},\"line_color\":{\"value\":\"black\"},\"line_dash\":[4,4],\"line_width\":{\"value\":2},\"render_mode\":\"css\",\"right_units\":\"screen\",\"top_units\":\"screen\"},\"id\":\"2466\",\"type\":\"BoxAnnotation\"},{\"attributes\":{\"callback\":null},\"id\":\"2441\",\"type\":\"DataRange1d\"},{\"attributes\":{\"source\":{\"id\":\"2435\",\"type\":\"ColumnDataSource\"}},\"id\":\"2464\",\"type\":\"CDSView\"},{\"attributes\":{},\"id\":\"2467\",\"type\":\"Selection\"},{\"attributes\":{},\"id\":\"2445\",\"type\":\"LinearScale\"},{\"attributes\":{},\"id\":\"2468\",\"type\":\"UnionRenderers\"}],\"root_ids\":[\"2436\"]},\"title\":\"Bokeh Application\",\"version\":\"1.3.4\"}};\n",
       "  var render_items = [{\"docid\":\"0feeab09-8680-4e13-8f18-64ef8bd5d7d1\",\"roots\":{\"2436\":\"6689e44c-0de6-4a1b-824a-6c78e8df73de\"}}];\n",
       "  root.Bokeh.embed.embed_items_notebook(docs_json, render_items);\n",
       "\n",
       "  }\n",
       "  if (root.Bokeh !== undefined) {\n",
       "    embed_document(root);\n",
       "  } else {\n",
       "    var attempts = 0;\n",
       "    var timer = setInterval(function(root) {\n",
       "      if (root.Bokeh !== undefined) {\n",
       "        embed_document(root);\n",
       "        clearInterval(timer);\n",
       "      }\n",
       "      attempts++;\n",
       "      if (attempts > 100) {\n",
       "        console.log(\"Bokeh: ERROR: Unable to run BokehJS code because BokehJS library is missing\");\n",
       "        clearInterval(timer);\n",
       "      }\n",
       "    }, 10, root)\n",
       "  }\n",
       "})(window);"
      ],
      "application/vnd.bokehjs_exec.v0+json": ""
     },
     "metadata": {
      "application/vnd.bokehjs_exec.v0+json": {
       "id": "2436"
      }
     },
     "output_type": "display_data"
    }
   ],
   "source": [
    "data = dict(\n",
    "    x=vecs2D[:,0],\n",
    "    y=vecs2D[:,1],\n",
    "    title = df_movies['title'],\n",
    "    genre = df_movies['genres'],\n",
    "    colors = [('black' if df_movies['genres'].iloc[i]=='Comedy' else 'red') for i in range(len(vecs2D))]\n",
    ")\n",
    "source = ColumnDataSource(data)\n",
    "\n",
    "fig = figure(plot_width=1000, plot_height=600,\n",
    "             title=\"Movie embeddings projected with PCA\",\n",
    "             tools=\"pan,wheel_zoom,zoom_in,box_zoom,reset,hover\",\n",
    "             x_axis_type=None, y_axis_type=None, min_border=1)\n",
    "\n",
    "fig.scatter(x='x', y='y',source=source, fill_alpha=0.4, size=10, fill_color='colors')\n",
    "\n",
    "# hover tools\n",
    "hover = fig.select(dict(type=HoverTool))\n",
    "hover.tooltips = {\"content\": \"@title (@genre)\"}\n",
    "\n",
    "show(fig)"
   ]
  },
  {
   "cell_type": "markdown",
   "metadata": {},
   "source": [
    "## Try with AdaGrad minimizer\n"
   ]
  },
  {
   "cell_type": "code",
   "execution_count": 39,
   "metadata": {},
   "outputs": [],
   "source": [
    "df = load(n=20_000)\n",
    "compress_cats(df, 'movieId') # make IDs 0..nmovies-1\n",
    "compress_cats(df, 'userId')\n",
    "\n",
    "nmovies = len(df.groupby('movieId').count())\n",
    "nusers = len(df.groupby('movieId').count())"
   ]
  },
  {
   "cell_type": "code",
   "execution_count": 31,
   "metadata": {},
   "outputs": [
    {
     "name": "stdout",
     "output_type": "stream",
     "text": [
      "Epoch   0 loss        17.47\n",
      "Epoch  10 loss         0.86\n",
      "Epoch  20 loss         0.67\n",
      "Epoch  30 loss         0.33\n",
      "Epoch  40 loss         0.26\n"
     ]
    }
   ],
   "source": [
    "nfactors = 4\n",
    "\n",
    "U = torch.randn(nusers,  nfactors, device=device, dtype=dtype, requires_grad=True)  # <-- track for autograd\n",
    "M = torch.randn(nmovies, nfactors, device=device, dtype=dtype, requires_grad=True)\n",
    "\n",
    "learning_rate = 1.8\n",
    "e = 0.0000001  # avoid division by zero when scaling learning rate\n",
    "\n",
    "hU = torch.zeros(size=(nusers,nfactors))\n",
    "hM = torch.zeros(size=(nmovies, nfactors))\n",
    "for t in range(50):\n",
    "    r_pred = (U[df['userId']] * M[df['movieId']]).sum(axis=1)\n",
    "    diff = r_pred - torch.tensor(df['rating'])\n",
    "    loss = torch.mean( diff.pow(2) )\n",
    "    if t % 10 == 0:\n",
    "        print(f\"Epoch {t:3d} loss {loss:12.2f}\")\n",
    "\n",
    "    loss.backward() # autograd computes U.grad and M.grad\n",
    "\n",
    "    # Update weights; weights have requires_grad=True but we don't need to track these updates\n",
    "    with torch.no_grad():\n",
    "        hU += U.grad * U.grad\n",
    "        hM += M.grad * M.grad\n",
    "        U -= learning_rate * U.grad / (torch.sqrt(hU)+e)\n",
    "        M -= learning_rate * M.grad / (torch.sqrt(hM)+e)\n",
    "\n",
    "        U.grad.zero_() # reset gradients\n",
    "        M.grad.zero_()"
   ]
  },
  {
   "cell_type": "code",
   "execution_count": 32,
   "metadata": {},
   "outputs": [
    {
     "name": "stdout",
     "output_type": "stream",
     "text": [
      "OOB R^2 0.532\n",
      "Train R^2 0.936\n"
     ]
    }
   ],
   "source": [
    "RF_onehot(df, M.detach().numpy(), U.detach().numpy())"
   ]
  },
  {
   "cell_type": "code",
   "execution_count": 33,
   "metadata": {},
   "outputs": [
    {
     "data": {
      "image/png": "[encoded data removed]",
      "text/plain": [
       "<Figure size 360x360 with 1 Axes>"
      ]
     },
     "metadata": {
      "needs_background": "light"
     },
     "output_type": "display_data"
    }
   ],
   "source": [
    "df_movies, vecs2D = plot_comedy_drama_embeddings(df, M.detach().numpy(), xrange=(-5,5), yrange=(-5,5))"
   ]
  },
  {
   "cell_type": "markdown",
   "metadata": {},
   "source": [
    "## Let's add bias to embeddings"
   ]
  },
  {
   "cell_type": "code",
   "execution_count": 34,
   "metadata": {},
   "outputs": [],
   "source": [
    "df = load(n=20_000)\n",
    "compress_cats(df, 'movieId') # make IDs 0..nmovies-1\n",
    "compress_cats(df, 'userId')\n",
    "\n",
    "nmovies = len(df.groupby('movieId').count())\n",
    "nusers = len(df.groupby('movieId').count())"
   ]
  },
  {
   "cell_type": "code",
   "execution_count": 35,
   "metadata": {},
   "outputs": [
    {
     "name": "stdout",
     "output_type": "stream",
     "text": [
      "Epoch   0 loss        18.64\n",
      "Epoch   1 loss        24.82\n",
      "Epoch   2 loss         8.53\n",
      "Epoch   3 loss         2.99\n",
      "Epoch   4 loss         1.63\n",
      "Epoch   5 loss         1.29\n",
      "Epoch   6 loss         1.20\n",
      "Epoch   7 loss         1.16\n",
      "Epoch   8 loss         1.14\n",
      "Epoch   9 loss         1.13\n"
     ]
    }
   ],
   "source": [
    "nfactors = 4\n",
    "\n",
    "U      = torch.randn(nusers,  nfactors, device=device, dtype=dtype, requires_grad=True)\n",
    "U_bias = torch.randn(nusers,  1,        device=device, dtype=dtype, requires_grad=True)\n",
    "M      = torch.randn(nmovies, nfactors, device=device, dtype=dtype, requires_grad=True)\n",
    "M_bias = torch.randn(nmovies, 1,        device=device, dtype=dtype, requires_grad=True)\n",
    "\n",
    "learning_rate = 1.8\n",
    "e = 0.0000001  # avoid division by zero when scaling learning rate\n",
    "\n",
    "# track gradient history\n",
    "hU = torch.zeros(size=(nusers,  nfactors))\n",
    "hM = torch.zeros(size=(nmovies, nfactors))\n",
    "hU_bias = torch.zeros(size=(nusers,  1))\n",
    "hM_bias = torch.zeros(size=(nmovies, 1))\n",
    "for t in range(10):\n",
    "    r_pred = (U[df['userId']] * M[df['movieId']]).sum(axis=1, keepdim=True) # keepdim says keep as shape (20_000,1) not (20_000,)\n",
    "    r_pred += (U_bias[df['userId']] + M_bias[df['movieId']])\n",
    "    diff = r_pred - torch.tensor(df['rating'])\n",
    "    loss = torch.mean( diff.pow(2) )\n",
    "    if t % 1 == 0:\n",
    "        print(f\"Epoch {t:3d} loss {loss:12.2f}\")\n",
    "\n",
    "    loss.backward() # autograd computes U.grad and M.grad\n",
    "\n",
    "    # Update weights; weights have requires_grad=True but we don't need to track these updates\n",
    "    with torch.no_grad():\n",
    "        hU += U.grad * U.grad\n",
    "        hM += M.grad * M.grad\n",
    "        hU_bias += U_bias.grad * U_bias.grad\n",
    "        hM_bias += M_bias.grad * M_bias.grad\n",
    "        U -= learning_rate * U.grad / (torch.sqrt(hU)+e)\n",
    "        M -= learning_rate * M.grad / (torch.sqrt(hM)+e)\n",
    "        U_bias -= learning_rate * U_bias.grad / (torch.sqrt(hU_bias)+e)\n",
    "        M_bias -= learning_rate * M_bias.grad / (torch.sqrt(hM_bias)+e)\n",
    "\n",
    "        U.grad.zero_() # reset gradients\n",
    "        M.grad.zero_()\n",
    "        U_bias.grad.zero_() # reset gradients\n",
    "        M_bias.grad.zero_()"
   ]
  },
  {
   "cell_type": "code",
   "execution_count": 36,
   "metadata": {},
   "outputs": [
    {
     "name": "stdout",
     "output_type": "stream",
     "text": [
      "OOB R^2 0.138\n",
      "Train R^2 0.882\n"
     ]
    }
   ],
   "source": [
    "RF_onehot(df, M.detach().numpy(), U.detach().numpy())"
   ]
  },
  {
   "cell_type": "code",
   "execution_count": 37,
   "metadata": {},
   "outputs": [
    {
     "data": {
      "image/png": "[encoded data removed]",
      "text/plain": [
       "<Figure size 360x360 with 1 Axes>"
      ]
     },
     "metadata": {
      "needs_background": "light"
     },
     "output_type": "display_data"
    }
   ],
   "source": [
    "df_movies, vecs2D = plot_comedy_drama_embeddings(df, M.detach().numpy(), xrange=(-5,5), yrange=(-5,5))"
   ]
  },
  {
   "cell_type": "code",
   "execution_count": null,
   "metadata": {},
   "outputs": [],
   "source": []
  }
 ],
 "metadata": {
  "kernelspec": {
   "display_name": "Python 3",
   "language": "python",
   "name": "python3"
  },
  "language_info": {
   "codemirror_mode": {
    "name": "ipython",
    "version": 3
   },
   "file_extension": ".py",
   "mimetype": "text/x-python",
   "name": "python",
   "nbconvert_exporter": "python",
   "pygments_lexer": "ipython3",
   "version": "3.7.4"
  }
 },
 "nbformat": 4,
 "nbformat_minor": 4
}
