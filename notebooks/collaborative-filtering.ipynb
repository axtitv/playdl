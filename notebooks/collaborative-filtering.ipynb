{
 "cells": [
  {
   "cell_type": "markdown",
   "metadata": {},
   "source": [
    "# Collaborative filtering\n",
    "\n",
    "To learn more about collaborative filtering and PyTorch, I'm going to derive an implementation based upon the ideas in [fastai book chapter 8](https://github.com/fastai/fastbook/blob/master/08_collab.ipynb) for user-movie-ratings from [MovieLens](https://grouplens.org/datasets/movielens/)."
   ]
  },
  {
   "cell_type": "markdown",
   "metadata": {},
   "source": [
    "## Get some movie reviews\n",
    "\n",
    "I will grab [a small subset](http://files.grouplens.org/datasets/movielens/ml-latest-small.zip) and put into `data` subdir:\n",
    "\n",
    "```\n",
    "data/ml-latest-small\n",
    "├── README.txt\n",
    "├── links.csv\n",
    "├── movies.csv\n",
    "├── ratings.csv\n",
    "└── tags.csv\n",
    "```\n",
    "\n",
    "\"*Ratings are made on a 5-star scale, with half-star increments (0.5 stars - 5.0 stars).*\" The `ratings.csv` file looks like:\n",
    "\n",
    "```\n",
    "userId,movieId,rating,timestamp\n",
    "1,1,4.0,964982703\n",
    "1,3,4.0,964981247\n",
    "1,6,4.0,964982224\n",
    "1,47,5.0,964983815\n",
    "...\n",
    "```\n",
    "\n",
    "And, in case we are curious, `movies.csv` has:\n",
    "\n",
    "```\n",
    "movieId,title,genres\n",
    "1,Toy Story (1995),Adventure|Animation|Children|Comedy|Fantasy\n",
    "2,Jumanji (1995),Adventure|Children|Fantasy\n",
    "3,Grumpier Old Men (1995),Comedy|Romance\n",
    "...\n",
    "```"
   ]
  },
  {
   "cell_type": "code",
   "execution_count": 1,
   "metadata": {},
   "outputs": [],
   "source": [
    "import pandas as pd\n",
    "import torch  # Let's try this with PyTorch not numpy\n",
    "# import numpy as np\n",
    "import re\n",
    "# np.set_printoptions(precision=2, suppress=True, linewidth=3000, threshold=20000)\n",
    "\n",
    "def load(n = 10):\n",
    "    df_ratings = pd.read_csv('data/ml-latest-small/ratings.csv')\n",
    "    df_ratings = df_ratings.drop('timestamp', axis=1)\n",
    "    df_ratings = df_ratings.sample(n=n).reset_index(drop=True)\n",
    "    # Merge in the title and genres\n",
    "    df_movies = pd.read_csv('data/ml-latest-small/movies.csv')\n",
    "    df = df_ratings.merge(df_movies, on='movieId')\n",
    "    # Strip the \"(1999)\" dates from the titles\n",
    "    p = re.compile(r'[()0-9]+$')\n",
    "    df['title'] = df['title'].map(lambda x: p.sub('', x).strip())\n",
    "    return df\n",
    "\n",
    "def compress_cats(df, colname):\n",
    "    df[colname] = df[colname].astype('category').cat.as_ordered()\n",
    "    df[colname] = df[colname].cat.codes # encode 0..n-1  NB: Different than I usually do (1..n)!!!!\n",
    "    df[colname] = df[colname].astype(int)\n",
    "    \n",
    "def normal_transform(x, mean=0.0, std=0.01):\n",
    "    \"Convert x to have mean and std\"\n",
    "    return x*std + mean\n",
    "\n",
    "def randn(n1, n2, device, dtype, mean=0.0, std=0.01, requires_grad=False):\n",
    "    x = torch.randn(n1, n2, device=device, dtype=dtype)\n",
    "    x = normal_transform(x, mean=mean, std=std)\n",
    "    x.requires_grad=requires_grad\n",
    "    return x"
   ]
  },
  {
   "cell_type": "markdown",
   "metadata": {},
   "source": [
    "## Matrix of user x movie with ratings as elements"
   ]
  },
  {
   "cell_type": "markdown",
   "metadata": {},
   "source": [
    "Let's create a matrix that maps user and movie to a rating. Most of the entries will be zero because not all users have seen all movies. We can start with just a few records so that we can see the entire matrix at once. Zeros in the matrix indicate that the user has not rated that movie. $R_{u,m}$ is rating for user $u$ and movie $m$."
   ]
  },
  {
   "cell_type": "code",
   "execution_count": 2,
   "metadata": {},
   "outputs": [
    {
     "data": {
      "text/html": [
       "<div>\n",
       "<style scoped>\n",
       "    .dataframe tbody tr th:only-of-type {\n",
       "        vertical-align: middle;\n",
       "    }\n",
       "\n",
       "    .dataframe tbody tr th {\n",
       "        vertical-align: top;\n",
       "    }\n",
       "\n",
       "    .dataframe thead th {\n",
       "        text-align: right;\n",
       "    }\n",
       "</style>\n",
       "<table border=\"1\" class=\"dataframe\">\n",
       "  <thead>\n",
       "    <tr style=\"text-align: right;\">\n",
       "      <th></th>\n",
       "      <th>userId</th>\n",
       "      <th>movieId</th>\n",
       "      <th>rating</th>\n",
       "      <th>title</th>\n",
       "      <th>genres</th>\n",
       "    </tr>\n",
       "  </thead>\n",
       "  <tbody>\n",
       "    <tr>\n",
       "      <th>0</th>\n",
       "      <td>4</td>\n",
       "      <td>5</td>\n",
       "      <td>3.0</td>\n",
       "      <td>No. 1 Ladies' Detective Agency, The</td>\n",
       "      <td>Comedy|Crime|Mystery</td>\n",
       "    </tr>\n",
       "    <tr>\n",
       "      <th>1</th>\n",
       "      <td>5</td>\n",
       "      <td>0</td>\n",
       "      <td>3.0</td>\n",
       "      <td>Léon: The Professional (a.k.a. The Professiona...</td>\n",
       "      <td>Action|Crime|Drama|Thriller</td>\n",
       "    </tr>\n",
       "    <tr>\n",
       "      <th>2</th>\n",
       "      <td>1</td>\n",
       "      <td>4</td>\n",
       "      <td>4.5</td>\n",
       "      <td>Couples Retreat</td>\n",
       "      <td>Comedy|Romance</td>\n",
       "    </tr>\n",
       "    <tr>\n",
       "      <th>3</th>\n",
       "      <td>3</td>\n",
       "      <td>3</td>\n",
       "      <td>2.5</td>\n",
       "      <td>Paris, I Love You (Paris, je t'aime)</td>\n",
       "      <td>Romance</td>\n",
       "    </tr>\n",
       "    <tr>\n",
       "      <th>4</th>\n",
       "      <td>2</td>\n",
       "      <td>1</td>\n",
       "      <td>5.0</td>\n",
       "      <td>Producers, The</td>\n",
       "      <td>Comedy</td>\n",
       "    </tr>\n",
       "    <tr>\n",
       "      <th>5</th>\n",
       "      <td>0</td>\n",
       "      <td>2</td>\n",
       "      <td>3.5</td>\n",
       "      <td>The Count of Monte Cristo</td>\n",
       "      <td>Action|Adventure|Drama|Thriller</td>\n",
       "    </tr>\n",
       "  </tbody>\n",
       "</table>\n",
       "</div>"
      ],
      "text/plain": [
       "   userId  movieId  rating                                              title  \\\n",
       "0       4        5     3.0                No. 1 Ladies' Detective Agency, The   \n",
       "1       5        0     3.0  Léon: The Professional (a.k.a. The Professiona...   \n",
       "2       1        4     4.5                                    Couples Retreat   \n",
       "3       3        3     2.5               Paris, I Love You (Paris, je t'aime)   \n",
       "4       2        1     5.0                                     Producers, The   \n",
       "5       0        2     3.5                          The Count of Monte Cristo   \n",
       "\n",
       "                            genres  \n",
       "0             Comedy|Crime|Mystery  \n",
       "1      Action|Crime|Drama|Thriller  \n",
       "2                   Comedy|Romance  \n",
       "3                          Romance  \n",
       "4                           Comedy  \n",
       "5  Action|Adventure|Drama|Thriller  "
      ]
     },
     "execution_count": 2,
     "metadata": {},
     "output_type": "execute_result"
    }
   ],
   "source": [
    "df = load(n=6)\n",
    "nmovies = len(df.groupby('movieId').count())\n",
    "nusers = len(df.groupby('userId').count())\n",
    "compress_cats(df, 'movieId') # make IDs 0..nmovies-1\n",
    "compress_cats(df, 'userId')\n",
    "df"
   ]
  },
  {
   "cell_type": "code",
   "execution_count": 3,
   "metadata": {},
   "outputs": [],
   "source": [
    "dtype = torch.float\n",
    "device = torch.device('cuda:0' if torch.cuda.is_available() else 'cpu')"
   ]
  },
  {
   "cell_type": "code",
   "execution_count": 4,
   "metadata": {},
   "outputs": [
    {
     "data": {
      "text/plain": [
       "tensor([[0.0000, 0.0000, 3.5000, 0.0000, 0.0000, 0.0000],\n",
       "        [0.0000, 0.0000, 0.0000, 0.0000, 4.5000, 0.0000],\n",
       "        [0.0000, 5.0000, 0.0000, 0.0000, 0.0000, 0.0000],\n",
       "        [0.0000, 0.0000, 0.0000, 2.5000, 0.0000, 0.0000],\n",
       "        [0.0000, 0.0000, 0.0000, 0.0000, 0.0000, 3.0000],\n",
       "        [3.0000, 0.0000, 0.0000, 0.0000, 0.0000, 0.0000]], device='cuda:0')"
      ]
     },
     "execution_count": 4,
     "metadata": {},
     "output_type": "execute_result"
    }
   ],
   "source": [
    "def R_matrix(df):\n",
    "    nmovies = len(df.groupby('movieId').count())\n",
    "    nusers = len(df.groupby('userId').count())\n",
    "    R = torch.zeros(nusers, nmovies, device=device, dtype=dtype)\n",
    "    for u,m,r,_,_ in df.values:\n",
    "        R[u,m] = r  # user u and movie m get rating r\n",
    "    return R\n",
    "\n",
    "R = R_matrix(df)\n",
    "R"
   ]
  },
  {
   "cell_type": "markdown",
   "metadata": {},
   "source": [
    "## Latent factors == dense embedding vectors\n",
    "\n",
    "The goal is to replace the 0s with a predicted rating, just as I did when [creating the embeddings](catvar-embeddings-split-homebrew.ipynb), but this time we will do it with (probabilistic) matrix factorization. The idea is to conjure up two matrices whose matrix multiplication is our ratings matrix.  In other words, $U M^T = R$ for user matrix $U$ and movie matrix $M$. Let's say that we want 4 latent factors for each user and each movie, meaning that the dense embedding vectors are 4 dimensional. $U$ would then be nusers x 4 and $M$ would be nmovies x 4.  For the ith user and jth movie, $U_i \\cdot M_j$ would represent the rating at $R_{i,j}$.\n",
    "\n",
    "We initialize the user and movie embedding matrices randomly:"
   ]
  },
  {
   "cell_type": "code",
   "execution_count": 5,
   "metadata": {},
   "outputs": [
    {
     "data": {
      "text/plain": [
       "tensor([[ 0.0120, -0.0051, -0.0050,  0.0069],\n",
       "        [-0.0008,  0.0115, -0.0207,  0.0146],\n",
       "        [-0.0142,  0.0039,  0.0006,  0.0028],\n",
       "        [-0.0159, -0.0056,  0.0107, -0.0085],\n",
       "        [-0.0012,  0.0200,  0.0017,  0.0066],\n",
       "        [-0.0250, -0.0084,  0.0148,  0.0012]], device='cuda:0')"
      ]
     },
     "execution_count": 5,
     "metadata": {},
     "output_type": "execute_result"
    }
   ],
   "source": [
    "nfactors = 4\n",
    "U = randn(nusers,  nfactors, device=device, dtype=dtype)\n",
    "M = randn(nmovies, nfactors, device=device, dtype=dtype)\n",
    "U"
   ]
  },
  {
   "cell_type": "markdown",
   "metadata": {},
   "source": [
    "Our first prediction is garbage but this explains the operation we want to perform to get a predicted $R$ matrix:"
   ]
  },
  {
   "cell_type": "code",
   "execution_count": 6,
   "metadata": {},
   "outputs": [
    {
     "data": {
      "text/plain": [
       "tensor([[-1.2926e-04, -3.4657e-05, -4.9852e-05,  2.2227e-04, -2.5469e-04,\n",
       "         -2.4167e-04],\n",
       "        [-4.5816e-04,  2.3424e-04, -3.2207e-04, -2.0926e-04, -6.5099e-04,\n",
       "          6.5784e-05],\n",
       "        [-3.6481e-06, -4.2695e-05, -8.8758e-05, -2.1768e-04,  1.5623e-04,\n",
       "          1.9727e-04],\n",
       "        [ 2.3774e-04, -1.6871e-04,  6.5009e-05, -1.5152e-04,  6.7952e-04,\n",
       "          1.9141e-04],\n",
       "        [ 9.7424e-06,  1.5835e-04,  5.2653e-05, -9.8577e-05, -5.7652e-04,\n",
       "          1.3516e-04],\n",
       "        [ 2.6007e-04, -3.9718e-04, -1.7386e-05, -1.4568e-04,  8.2772e-04,\n",
       "          1.9245e-04]], device='cuda:0')"
      ]
     },
     "execution_count": 6,
     "metadata": {},
     "output_type": "execute_result"
    }
   ],
   "source": [
    "R_pred = U.mm(M.T)\n",
    "R_pred"
   ]
  },
  {
   "cell_type": "markdown",
   "metadata": {},
   "source": [
    "## Objective (loss) function\n",
    "\n",
    "So those user and movie matrices are random and of course the resulting ratings are useless.  Understanding how good or bad they are is useful metric and of course what we will optimize to construct proper user and movie matrices. As a starting point, let's just look at the MSE:"
   ]
  },
  {
   "cell_type": "code",
   "execution_count": 7,
   "metadata": {},
   "outputs": [
    {
     "data": {
      "text/plain": [
       "tensor(2.2710, device='cuda:0')"
      ]
     },
     "execution_count": 7,
     "metadata": {},
     "output_type": "execute_result"
    }
   ],
   "source": [
    "loss = torch.mean( (R - R_pred).pow(2) )\n",
    "loss"
   ]
  },
  {
   "cell_type": "markdown",
   "metadata": {},
   "source": [
    "## Minimizing the loss function (gradient descent with momentum)\n",
    "\n",
    "Let's do this using autograd and simple gradient descent (with momentum)."
   ]
  },
  {
   "cell_type": "code",
   "execution_count": 8,
   "metadata": {},
   "outputs": [],
   "source": [
    "df = load(n=10_000)\n",
    "compress_cats(df, 'movieId') # make IDs 0..nmovies-1\n",
    "compress_cats(df, 'userId')\n",
    "\n",
    "nmovies = len(df.groupby('movieId').count())\n",
    "nusers = len(df.groupby('userId').count())\n",
    "nfactors = 4\n",
    "\n",
    "R = R_matrix(df)\n",
    "\n",
    "U = randn(nusers,  nfactors, device=device, dtype=dtype, requires_grad=True)  # <-- track for autograd\n",
    "M = randn(nmovies, nfactors, device=device, dtype=dtype, requires_grad=True)"
   ]
  },
  {
   "cell_type": "code",
   "execution_count": 9,
   "metadata": {},
   "outputs": [
    {
     "name": "stdout",
     "output_type": "stream",
     "text": [
      "Epoch   0 loss         0.06\n",
      "Epoch  10 loss         0.06\n",
      "Epoch  20 loss         0.06\n",
      "Epoch  30 loss         0.06\n",
      "Epoch  40 loss         0.06\n",
      "Epoch  50 loss         0.06\n",
      "Epoch  60 loss         0.06\n",
      "Epoch  70 loss         0.06\n",
      "Epoch  80 loss         0.06\n",
      "Epoch  90 loss         0.06\n"
     ]
    }
   ],
   "source": [
    "learning_rate = 35\n",
    "momentum = .01\n",
    "for t in range(100):\n",
    "    R_pred = U.mm(M.T) # predict ratings\n",
    "    \n",
    "    loss = torch.mean( (R - R_pred).pow(2) ) # compute objective function\n",
    "    if t % 10 == 0:\n",
    "        print(f\"Epoch {t:3d} loss {loss:12.2f}\")\n",
    "\n",
    "    loss.backward() # autograd\n",
    "\n",
    "    # Update weights; weights have requires_grad=True but we don't need to track these updates\n",
    "    with torch.no_grad():\n",
    "        U -= (momentum*U + learning_rate * U.grad)\n",
    "        M -= (momentum*M + learning_rate * M.grad)\n",
    "\n",
    "        U.grad.zero_() # reset gradients\n",
    "        M.grad.zero_()"
   ]
  },
  {
   "cell_type": "markdown",
   "metadata": {},
   "source": [
    "That says that the accuracy is very good so let's check it out."
   ]
  },
  {
   "cell_type": "markdown",
   "metadata": {},
   "source": [
    "## Check accuracy of embeddings via RF"
   ]
  },
  {
   "cell_type": "code",
   "execution_count": 10,
   "metadata": {},
   "outputs": [],
   "source": [
    "import numpy as np\n",
    "from sklearn.model_selection import train_test_split\n",
    "from sklearn.model_selection import cross_val_score\n",
    "from sklearn.ensemble import RandomForestClassifier, RandomForestRegressor\n",
    "\n",
    "def RF_onehot(df, movie_embeddings, user_embeddings):\n",
    "    X = df[['movieId','userId']]\n",
    "    y = df['rating']\n",
    "    X_emb = np.concatenate([movie_embeddings[X['movieId']],user_embeddings[X['userId']]], axis=1)\n",
    "#     X_train, X_test, y_train, y_test = train_test_split(X_emb, y, test_size=0.2)\n",
    "\n",
    "    rf = RandomForestRegressor(n_estimators=100, n_jobs=-1, oob_score=True)\n",
    "    rf.fit(X_emb, y)\n",
    "    print(f\"OOB R^2 {rf.oob_score_:.3f}\")\n",
    "    print(f\"Train R^2 {rf.score(X_emb, y):.3f}\")\n",
    "    # OOB seems close enough and much faster\n",
    "#     scores = cross_val_score(rf, X_emb, y, cv=5)\n",
    "#     print(f\"5-fold valid R^2 {np.mean(scores):.3f}\")"
   ]
  },
  {
   "cell_type": "code",
   "execution_count": 11,
   "metadata": {},
   "outputs": [
    {
     "name": "stdout",
     "output_type": "stream",
     "text": [
      "OOB R^2 0.086\n",
      "Train R^2 0.874\n"
     ]
    }
   ],
   "source": [
    "RF_onehot(df, M.cpu().detach().numpy(), U.cpu().detach().numpy())\n",
    "#torch.cuda.is_available()"
   ]
  },
  {
   "cell_type": "markdown",
   "metadata": {},
   "source": [
    "Ok, so that accuracy is terrible, barely above guessing the average. What is going on?"
   ]
  },
  {
   "cell_type": "markdown",
   "metadata": {},
   "source": [
    "## Loss should only consider nonzero ratings\n",
    "\n",
    "Well, it seems that the matrix multiplication is the problem because $R$ it is mostly zeros. That means that we are training the vectors to get zeros in the missing spots, which is not what we want. Instead, the loss function needs to consider only the nonzero records. So rather than create $R$, let's just walk through the training records, which are the only non-zero values in the user x movie matrix. I asked [Yannet](https://www.usfca.edu/faculty/yannet-interian) and she confirmed for me that you want to avoid computing the loss on the zeros, which is also very expensive anyway. She said to focus just on the training records."
   ]
  },
  {
   "cell_type": "code",
   "execution_count": 12,
   "metadata": {},
   "outputs": [],
   "source": [
    "np.random.seed(1) # keep same records\n",
    "df = load(n=10)\n",
    "compress_cats(df, 'movieId') # make IDs 0..nmovies-1\n",
    "compress_cats(df, 'userId')\n",
    "\n",
    "nmovies = len(df.groupby('movieId').count())\n",
    "nusers = len(df.groupby('userId').count())\n",
    "nfactors = 4\n",
    "\n",
    "U = randn(nusers,  nfactors, device=device, dtype=dtype, requires_grad=True)  # <-- track for autograd\n",
    "M = randn(nmovies, nfactors, device=device, dtype=dtype, requires_grad=True)"
   ]
  },
  {
   "cell_type": "code",
   "execution_count": 13,
   "metadata": {},
   "outputs": [
    {
     "data": {
      "text/plain": [
       "tensor([[ 0.0005, -0.0078,  0.0109,  0.0065],\n",
       "        [ 0.0110, -0.0148,  0.0051,  0.0129],\n",
       "        [ 0.0199, -0.0061, -0.0108, -0.0203],\n",
       "        [ 0.0011,  0.0015, -0.0002, -0.0104],\n",
       "        [ 0.0081,  0.0067,  0.0143,  0.0009],\n",
       "        [-0.0035,  0.0090,  0.0038, -0.0128],\n",
       "        [ 0.0018, -0.0012,  0.0057, -0.0146],\n",
       "        [ 0.0102,  0.0069, -0.0029,  0.0290],\n",
       "        [ 0.0001, -0.0076, -0.0164,  0.0063],\n",
       "        [-0.0116, -0.0175,  0.0087,  0.0004]], device='cuda:0',\n",
       "       requires_grad=True)"
      ]
     },
     "execution_count": 13,
     "metadata": {},
     "output_type": "execute_result"
    }
   ],
   "source": [
    "U"
   ]
  },
  {
   "cell_type": "code",
   "execution_count": 14,
   "metadata": {},
   "outputs": [
    {
     "data": {
      "text/plain": [
       "tensor([[ 2.5760e-03,  1.9597e-03,  1.6345e-02,  1.2949e-02],\n",
       "        [-1.1703e-03, -1.7760e-02,  3.0185e-03,  4.3748e-03],\n",
       "        [-7.2257e-03,  2.7235e-03,  3.3684e-03, -2.0186e-03],\n",
       "        [-9.1769e-03, -9.5161e-04,  1.0402e-02,  7.1008e-04],\n",
       "        [ 2.2378e-03,  1.7578e-03, -3.4040e-03, -1.6663e-03],\n",
       "        [ 5.2857e-03,  1.7193e-02,  2.9893e-03,  1.1353e-02],\n",
       "        [ 7.0735e-03, -3.9242e-03,  1.4038e-02, -3.1308e-03],\n",
       "        [-8.8216e-03, -6.9309e-03, -4.8633e-05, -1.4001e-02],\n",
       "        [ 1.5138e-03, -7.9545e-04,  1.3443e-02, -6.4674e-03],\n",
       "        [-4.4454e-03,  1.9103e-02,  2.0392e-03, -2.0167e-03]], device='cuda:0',\n",
       "       requires_grad=True)"
      ]
     },
     "execution_count": 14,
     "metadata": {},
     "output_type": "execute_result"
    }
   ],
   "source": [
    "M"
   ]
  },
  {
   "cell_type": "code",
   "execution_count": 15,
   "metadata": {},
   "outputs": [
    {
     "data": {
      "text/html": [
       "<div>\n",
       "<style scoped>\n",
       "    .dataframe tbody tr th:only-of-type {\n",
       "        vertical-align: middle;\n",
       "    }\n",
       "\n",
       "    .dataframe tbody tr th {\n",
       "        vertical-align: top;\n",
       "    }\n",
       "\n",
       "    .dataframe thead th {\n",
       "        text-align: right;\n",
       "    }\n",
       "</style>\n",
       "<table border=\"1\" class=\"dataframe\">\n",
       "  <thead>\n",
       "    <tr style=\"text-align: right;\">\n",
       "      <th></th>\n",
       "      <th>userId</th>\n",
       "      <th>movieId</th>\n",
       "      <th>rating</th>\n",
       "      <th>title</th>\n",
       "      <th>genres</th>\n",
       "    </tr>\n",
       "  </thead>\n",
       "  <tbody>\n",
       "    <tr>\n",
       "      <th>0</th>\n",
       "      <td>4</td>\n",
       "      <td>1</td>\n",
       "      <td>3.0</td>\n",
       "      <td>True Lies</td>\n",
       "      <td>Action|Adventure|Comedy|Romance|Thriller</td>\n",
       "    </tr>\n",
       "    <tr>\n",
       "      <th>1</th>\n",
       "      <td>8</td>\n",
       "      <td>8</td>\n",
       "      <td>5.0</td>\n",
       "      <td>Conjuring, The</td>\n",
       "      <td>Horror|Thriller</td>\n",
       "    </tr>\n",
       "  </tbody>\n",
       "</table>\n",
       "</div>"
      ],
      "text/plain": [
       "   userId  movieId  rating           title  \\\n",
       "0       4        1     3.0       True Lies   \n",
       "1       8        8     5.0  Conjuring, The   \n",
       "\n",
       "                                     genres  \n",
       "0  Action|Adventure|Comedy|Romance|Thriller  \n",
       "1                           Horror|Thriller  "
      ]
     },
     "execution_count": 15,
     "metadata": {},
     "output_type": "execute_result"
    }
   ],
   "source": [
    "df.head(2)"
   ]
  },
  {
   "cell_type": "markdown",
   "metadata": {},
   "source": [
    "Looking at the first record, we see user 4 and movie 1, which we can use to select from the user and move the embeddings matrices:"
   ]
  },
  {
   "cell_type": "code",
   "execution_count": 16,
   "metadata": {},
   "outputs": [
    {
     "data": {
      "text/plain": [
       "(tensor([0.0081, 0.0067, 0.0143, 0.0009], device='cuda:0',\n",
       "        grad_fn=<SelectBackward>),\n",
       " tensor([-0.0012, -0.0178,  0.0030,  0.0044], device='cuda:0',\n",
       "        grad_fn=<SelectBackward>))"
      ]
     },
     "execution_count": 16,
     "metadata": {},
     "output_type": "execute_result"
    }
   ],
   "source": [
    "U[4], M[1]"
   ]
  },
  {
   "cell_type": "markdown",
   "metadata": {},
   "source": [
    "Using those two vectors, their dot product is our predicted rating:"
   ]
  },
  {
   "cell_type": "code",
   "execution_count": 17,
   "metadata": {},
   "outputs": [
    {
     "data": {
      "text/plain": [
       "tensor(-8.1425e-05, device='cuda:0', grad_fn=<DotBackward>)"
      ]
     },
     "execution_count": 17,
     "metadata": {},
     "output_type": "execute_result"
    }
   ],
   "source": [
    "r_pred = U[4].dot(M[1])\n",
    "r_pred"
   ]
  },
  {
   "cell_type": "markdown",
   "metadata": {},
   "source": [
    "The loss associated with this one record is not good as we would expect given the random embeddings:"
   ]
  },
  {
   "cell_type": "code",
   "execution_count": 18,
   "metadata": {},
   "outputs": [
    {
     "data": {
      "text/plain": [
       "tensor(9.0005, device='cuda:0', grad_fn=<PowBackward0>)"
      ]
     },
     "execution_count": 18,
     "metadata": {},
     "output_type": "execute_result"
    }
   ],
   "source": [
    "(df.iloc[0]['rating'] - r_pred).pow(2)"
   ]
  },
  {
   "cell_type": "markdown",
   "metadata": {},
   "source": [
    "If we want to do this with the first two records, we can use a list of user and movie IDs.For example, here are the user embeddings for the first two training records:"
   ]
  },
  {
   "cell_type": "code",
   "execution_count": 19,
   "metadata": {},
   "outputs": [
    {
     "data": {
      "text/plain": [
       "tensor([[ 0.0081,  0.0067,  0.0143,  0.0009],\n",
       "        [ 0.0001, -0.0076, -0.0164,  0.0063]], device='cuda:0',\n",
       "       grad_fn=<IndexBackward>)"
      ]
     },
     "execution_count": 19,
     "metadata": {},
     "output_type": "execute_result"
    }
   ],
   "source": [
    "U[[4,8]]"
   ]
  },
  {
   "cell_type": "markdown",
   "metadata": {},
   "source": [
    "Now, we need the dot product for each vector in `U[[4,8]]` and `M[[1,8]]`, which is element-wise modification followed by a some, for for each record. We should get to numbers out of this:"
   ]
  },
  {
   "cell_type": "code",
   "execution_count": 20,
   "metadata": {},
   "outputs": [
    {
     "data": {
      "text/plain": [
       "tensor([[-9.4300e-06, -1.1919e-04,  4.3134e-05,  4.0629e-06],\n",
       "        [ 1.8217e-07,  6.0800e-06, -2.2070e-04, -4.0885e-05]], device='cuda:0',\n",
       "       grad_fn=<MulBackward0>)"
      ]
     },
     "execution_count": 20,
     "metadata": {},
     "output_type": "execute_result"
    }
   ],
   "source": [
    "U[[4,8]] * M[[1,8]]"
   ]
  },
  {
   "cell_type": "code",
   "execution_count": 21,
   "metadata": {},
   "outputs": [
    {
     "data": {
      "text/plain": [
       "tensor([-8.1425e-05, -2.5533e-04], device='cuda:0', grad_fn=<SumBackward1>)"
      ]
     },
     "execution_count": 21,
     "metadata": {},
     "output_type": "execute_result"
    }
   ],
   "source": [
    "(U[[4,8]] * M[[1,8]]).sum(axis=1)"
   ]
  },
  {
   "cell_type": "markdown",
   "metadata": {},
   "source": [
    "The MSE is just the average squared difference of those two from the known rating:"
   ]
  },
  {
   "cell_type": "code",
   "execution_count": 22,
   "metadata": {},
   "outputs": [
    {
     "data": {
      "text/plain": [
       "tensor(17.0015, device='cuda:0', grad_fn=<MeanBackward0>)"
      ]
     },
     "execution_count": 22,
     "metadata": {},
     "output_type": "execute_result"
    }
   ],
   "source": [
    "diff = (U[[4,8]] * M[[1,8]]).sum(axis=1) - torch.tensor([3.0,5.0], device=device)\n",
    "loss = torch.mean( diff.pow(2) )\n",
    "loss"
   ]
  },
  {
   "cell_type": "markdown",
   "metadata": {},
   "source": [
    "We could walk with a loop through the training values like this:"
   ]
  },
  {
   "cell_type": "code",
   "execution_count": 23,
   "metadata": {},
   "outputs": [
    {
     "name": "stdout",
     "output_type": "stream",
     "text": [
      "tensor(8.9996, device='cuda:0', grad_fn=<PowBackward0>)\n",
      "tensor(24.9963, device='cuda:0', grad_fn=<PowBackward0>)\n",
      "tensor(3.9991, device='cuda:0', grad_fn=<PowBackward0>)\n",
      "tensor(24.9986, device='cuda:0', grad_fn=<PowBackward0>)\n",
      "tensor(8.9995, device='cuda:0', grad_fn=<PowBackward0>)\n"
     ]
    }
   ],
   "source": [
    "# slow\n",
    "for u,m,r,_,_ in df.values[:5]:\n",
    "    loss = (U[u].dot(U[m]) - r).pow(2)\n",
    "    print(loss)"
   ]
  },
  {
   "cell_type": "markdown",
   "metadata": {},
   "source": [
    "But, the cool kids would vectorized this:"
   ]
  },
  {
   "cell_type": "code",
   "execution_count": 24,
   "metadata": {},
   "outputs": [
    {
     "data": {
      "text/plain": [
       "tensor(-6.5723e-05, device='cuda:0', grad_fn=<MeanBackward0>)"
      ]
     },
     "execution_count": 24,
     "metadata": {},
     "output_type": "execute_result"
    }
   ],
   "source": [
    "loss = torch.mean( (U[df['userId']] * M[df['movieId']]).sum(axis=1) )\n",
    "loss"
   ]
  },
  {
   "cell_type": "markdown",
   "metadata": {},
   "source": [
    "### Minimize loss just on training samples (new gradient descent)"
   ]
  },
  {
   "cell_type": "code",
   "execution_count": 25,
   "metadata": {},
   "outputs": [],
   "source": [
    "df = load(n=20_000)\n",
    "compress_cats(df, 'movieId') # make IDs 0..nmovies-1\n",
    "compress_cats(df, 'userId')\n",
    "\n",
    "nmovies = len(df.groupby('movieId').count())\n",
    "nusers = len(df.groupby('userId').count())"
   ]
  },
  {
   "cell_type": "code",
   "execution_count": 26,
   "metadata": {},
   "outputs": [
    {
     "name": "stdout",
     "output_type": "stream",
     "text": [
      "Epoch   0 loss        13.35\n",
      "Epoch  10 loss        13.34\n",
      "Epoch  20 loss         7.34\n",
      "Epoch  30 loss         2.11\n",
      "Epoch  40 loss         1.21\n",
      "Epoch  50 loss         0.92\n",
      "Epoch  60 loss         0.97\n",
      "Epoch  70 loss         1.16\n",
      "Epoch  80 loss         1.11\n",
      "Epoch  90 loss         1.10\n"
     ]
    },
    {
     "name": "stderr",
     "output_type": "stream",
     "text": [
      "/home/ubuntu/anaconda3/envs/pytorch_latest_p36/lib/python3.6/site-packages/ipykernel_launcher.py:11: UserWarning: To copy construct from a tensor, it is recommended to use sourceTensor.clone().detach() or sourceTensor.clone().detach().requires_grad_(True), rather than torch.tensor(sourceTensor).\n",
      "  # This is added back by InteractiveShellApp.init_path()\n"
     ]
    }
   ],
   "source": [
    "U = randn(nusers,  nfactors, device=device, dtype=dtype, requires_grad=True)  # <-- track for autograd\n",
    "M = randn(nmovies, nfactors, device=device, dtype=dtype, requires_grad=True)\n",
    "\n",
    "nfactors = 4\n",
    "learning_rate = 45\n",
    "momentum = .015\n",
    "for t in range(100):\n",
    "    userIds = torch.tensor(df['userId'].values, device=device)\n",
    "    movieIds = torch.tensor(df['movieId'].values, device=device)\n",
    "    ratings = torch.tensor(df['rating'].values, device=device)\n",
    "    diff = (U[userIds] * M[movieIds]).sum(axis=1) - torch.tensor(ratings)\n",
    "    loss = torch.mean( diff.pow(2) )\n",
    "    if t % 10 == 0:\n",
    "        print(f\"Epoch {t:3d} loss {loss:12.2f}\")\n",
    "\n",
    "    loss.backward() # autograd computes U.grad and M.grad\n",
    "\n",
    "    # Update weights; weights have requires_grad=True but we don't need to track these updates\n",
    "    with torch.no_grad():\n",
    "        U -= (momentum*U + learning_rate * U.grad)\n",
    "        M -= (momentum*M + learning_rate * M.grad)\n",
    "\n",
    "        U.grad.zero_() # reset gradients\n",
    "        M.grad.zero_()"
   ]
  },
  {
   "cell_type": "code",
   "execution_count": 27,
   "metadata": {},
   "outputs": [
    {
     "name": "stdout",
     "output_type": "stream",
     "text": [
      "OOB R^2 0.525\n",
      "Train R^2 0.934\n"
     ]
    }
   ],
   "source": [
    "RF_onehot(df, M.detach().cpu(), U.detach().cpu())"
   ]
  },
  {
   "cell_type": "code",
   "execution_count": 28,
   "metadata": {},
   "outputs": [],
   "source": [
    "from sklearn.decomposition import PCA\n",
    "import matplotlib.pyplot as plt\n",
    "\n",
    "def plot_comedy_drama_embeddings(df, movie_embeddings, xrange=(-.3,.3), yrange=(-.15,.15)):\n",
    "    # get unique movie ID and title and genres\n",
    "    df_movies = df.sort_values('movieId')[['movieId','title','genres']]\n",
    "    df_movies = df_movies.drop_duplicates()\n",
    "    df_movies = df_movies[(df_movies['genres']=='Comedy')|(df_movies['genres']=='Drama')]\n",
    "    movie_embeddings = movie_embeddings[df_movies['movieId']]\n",
    "    \n",
    "    plt.figure(figsize=(5,5))\n",
    "    movieIds = df_movies['movieId'].values\n",
    "    genres = df_movies['genres'].values\n",
    "    titles = df_movies['title'].values\n",
    "    pca = PCA(n_components=2)\n",
    "    vecs2D = pca.fit_transform(movie_embeddings)\n",
    "    c = [('k' if genres[i]=='Comedy' else 'r') for i in range(len(vecs2D))]\n",
    "    plt.scatter(vecs2D[:,0], vecs2D[:,1], c=c, s=5, alpha=.5)\n",
    "    plt.xlim(*xrange)\n",
    "    plt.ylim(*yrange)\n",
    "    plt.show()\n",
    "    return df_movies, vecs2D"
   ]
  },
  {
   "cell_type": "code",
   "execution_count": 29,
   "metadata": {},
   "outputs": [
    {
     "data": {
      "image/png": "[encoded data removed]",
      "text/plain": [
       "<Figure size 360x360 with 1 Axes>"
      ]
     },
     "metadata": {
      "needs_background": "light"
     },
     "output_type": "display_data"
    }
   ],
   "source": [
    "df_movies, vecs2D = plot_comedy_drama_embeddings(df, M.cpu().detach().numpy(), xrange=(-1,1), yrange=(-1.,1.))"
   ]
  },
  {
   "cell_type": "markdown",
   "metadata": {},
   "source": [
    "### Learn to use bokeh\n",
    "\n",
    "Derived from [Collaborative Filtering and Embeddings — Part 2 by Shikhar Gupta](https://towardsdatascience.com/collaborative-filtering-and-embeddings-part-2-919da17ecefb), alumnus of USFCA MSDS. :)  This pops up another window and hover shows title/genre."
   ]
  },
  {
   "cell_type": "code",
   "execution_count": 30,
   "metadata": {},
   "outputs": [
    {
     "data": {
      "text/html": [
       "\n",
       "    <div class=\"bk-root\">\n",
       "        <a href=\"https://bokeh.org\" target=\"_blank\" class=\"bk-logo bk-logo-small bk-logo-notebook\"></a>\n",
       "        <span id=\"1001\">Loading BokehJS ...</span>\n",
       "    </div>"
      ]
     },
     "metadata": {},
     "output_type": "display_data"
    },
    {
     "data": {
      "application/javascript": [
       "\n",
       "(function(root) {\n",
       "  function now() {\n",
       "    return new Date();\n",
       "  }\n",
       "\n",
       "  var force = true;\n",
       "\n",
       "  if (typeof root._bokeh_onload_callbacks === \"undefined\" || force === true) {\n",
       "    root._bokeh_onload_callbacks = [];\n",
       "    root._bokeh_is_loading = undefined;\n",
       "  }\n",
       "\n",
       "  var JS_MIME_TYPE = 'application/javascript';\n",
       "  var HTML_MIME_TYPE = 'text/html';\n",
       "  var EXEC_MIME_TYPE = 'application/vnd.bokehjs_exec.v0+json';\n",
       "  var CLASS_NAME = 'output_bokeh rendered_html';\n",
       "\n",
       "  /**\n",
       "   * Render data to the DOM node\n",
       "   */\n",
       "  function render(props, node) {\n",
       "    var script = document.createElement(\"script\");\n",
       "    node.appendChild(script);\n",
       "  }\n",
       "\n",
       "  /**\n",
       "   * Handle when an output is cleared or removed\n",
       "   */\n",
       "  function handleClearOutput(event, handle) {\n",
       "    var cell = handle.cell;\n",
       "\n",
       "    var id = cell.output_area._bokeh_element_id;\n",
       "    var server_id = cell.output_area._bokeh_server_id;\n",
       "    // Clean up Bokeh references\n",
       "    if (id != null && id in Bokeh.index) {\n",
       "      Bokeh.index[id].model.document.clear();\n",
       "      delete Bokeh.index[id];\n",
       "    }\n",
       "\n",
       "    if (server_id !== undefined) {\n",
       "      // Clean up Bokeh references\n",
       "      var cmd = \"from bokeh.io.state import curstate; print(curstate().uuid_to_server['\" + server_id + \"'].get_sessions()[0].document.roots[0]._id)\";\n",
       "      cell.notebook.kernel.execute(cmd, {\n",
       "        iopub: {\n",
       "          output: function(msg) {\n",
       "            var id = msg.content.text.trim();\n",
       "            if (id in Bokeh.index) {\n",
       "              Bokeh.index[id].model.document.clear();\n",
       "              delete Bokeh.index[id];\n",
       "            }\n",
       "          }\n",
       "        }\n",
       "      });\n",
       "      // Destroy server and session\n",
       "      var cmd = \"import bokeh.io.notebook as ion; ion.destroy_server('\" + server_id + \"')\";\n",
       "      cell.notebook.kernel.execute(cmd);\n",
       "    }\n",
       "  }\n",
       "\n",
       "  /**\n",
       "   * Handle when a new output is added\n",
       "   */\n",
       "  function handleAddOutput(event, handle) {\n",
       "    var output_area = handle.output_area;\n",
       "    var output = handle.output;\n",
       "\n",
       "    // limit handleAddOutput to display_data with EXEC_MIME_TYPE content only\n",
       "    if ((output.output_type != \"display_data\") || (!output.data.hasOwnProperty(EXEC_MIME_TYPE))) {\n",
       "      return\n",
       "    }\n",
       "\n",
       "    var toinsert = output_area.element.find(\".\" + CLASS_NAME.split(' ')[0]);\n",
       "\n",
       "    if (output.metadata[EXEC_MIME_TYPE][\"id\"] !== undefined) {\n",
       "      toinsert[toinsert.length - 1].firstChild.textContent = output.data[JS_MIME_TYPE];\n",
       "      // store reference to embed id on output_area\n",
       "      output_area._bokeh_element_id = output.metadata[EXEC_MIME_TYPE][\"id\"];\n",
       "    }\n",
       "    if (output.metadata[EXEC_MIME_TYPE][\"server_id\"] !== undefined) {\n",
       "      var bk_div = document.createElement(\"div\");\n",
       "      bk_div.innerHTML = output.data[HTML_MIME_TYPE];\n",
       "      var script_attrs = bk_div.children[0].attributes;\n",
       "      for (var i = 0; i < script_attrs.length; i++) {\n",
       "        toinsert[toinsert.length - 1].firstChild.setAttribute(script_attrs[i].name, script_attrs[i].value);\n",
       "        toinsert[toinsert.length - 1].firstChild.textContent = bk_div.children[0].textContent\n",
       "      }\n",
       "      // store reference to server id on output_area\n",
       "      output_area._bokeh_server_id = output.metadata[EXEC_MIME_TYPE][\"server_id\"];\n",
       "    }\n",
       "  }\n",
       "\n",
       "  function register_renderer(events, OutputArea) {\n",
       "\n",
       "    function append_mime(data, metadata, element) {\n",
       "      // create a DOM node to render to\n",
       "      var toinsert = this.create_output_subarea(\n",
       "        metadata,\n",
       "        CLASS_NAME,\n",
       "        EXEC_MIME_TYPE\n",
       "      );\n",
       "      this.keyboard_manager.register_events(toinsert);\n",
       "      // Render to node\n",
       "      var props = {data: data, metadata: metadata[EXEC_MIME_TYPE]};\n",
       "      render(props, toinsert[toinsert.length - 1]);\n",
       "      element.append(toinsert);\n",
       "      return toinsert\n",
       "    }\n",
       "\n",
       "    /* Handle when an output is cleared or removed */\n",
       "    events.on('clear_output.CodeCell', handleClearOutput);\n",
       "    events.on('delete.Cell', handleClearOutput);\n",
       "\n",
       "    /* Handle when a new output is added */\n",
       "    events.on('output_added.OutputArea', handleAddOutput);\n",
       "\n",
       "    /**\n",
       "     * Register the mime type and append_mime function with output_area\n",
       "     */\n",
       "    OutputArea.prototype.register_mime_type(EXEC_MIME_TYPE, append_mime, {\n",
       "      /* Is output safe? */\n",
       "      safe: true,\n",
       "      /* Index of renderer in `output_area.display_order` */\n",
       "      index: 0\n",
       "    });\n",
       "  }\n",
       "\n",
       "  // register the mime type if in Jupyter Notebook environment and previously unregistered\n",
       "  if (root.Jupyter !== undefined) {\n",
       "    var events = require('base/js/events');\n",
       "    var OutputArea = require('notebook/js/outputarea').OutputArea;\n",
       "\n",
       "    if (OutputArea.prototype.mime_types().indexOf(EXEC_MIME_TYPE) == -1) {\n",
       "      register_renderer(events, OutputArea);\n",
       "    }\n",
       "  }\n",
       "\n",
       "  \n",
       "  if (typeof (root._bokeh_timeout) === \"undefined\" || force === true) {\n",
       "    root._bokeh_timeout = Date.now() + 5000;\n",
       "    root._bokeh_failed_load = false;\n",
       "  }\n",
       "\n",
       "  var NB_LOAD_WARNING = {'data': {'text/html':\n",
       "     \"<div style='background-color: #fdd'>\\n\"+\n",
       "     \"<p>\\n\"+\n",
       "     \"BokehJS does not appear to have successfully loaded. If loading BokehJS from CDN, this \\n\"+\n",
       "     \"may be due to a slow or bad network connection. Possible fixes:\\n\"+\n",
       "     \"</p>\\n\"+\n",
       "     \"<ul>\\n\"+\n",
       "     \"<li>re-rerun `output_notebook()` to attempt to load from CDN again, or</li>\\n\"+\n",
       "     \"<li>use INLINE resources instead, as so:</li>\\n\"+\n",
       "     \"</ul>\\n\"+\n",
       "     \"<code>\\n\"+\n",
       "     \"from bokeh.resources import INLINE\\n\"+\n",
       "     \"output_notebook(resources=INLINE)\\n\"+\n",
       "     \"</code>\\n\"+\n",
       "     \"</div>\"}};\n",
       "\n",
       "  function display_loaded() {\n",
       "    var el = document.getElementById(\"1001\");\n",
       "    if (el != null) {\n",
       "      el.textContent = \"BokehJS is loading...\";\n",
       "    }\n",
       "    if (root.Bokeh !== undefined) {\n",
       "      if (el != null) {\n",
       "        el.textContent = \"BokehJS \" + root.Bokeh.version + \" successfully loaded.\";\n",
       "      }\n",
       "    } else if (Date.now() < root._bokeh_timeout) {\n",
       "      setTimeout(display_loaded, 100)\n",
       "    }\n",
       "  }\n",
       "\n",
       "\n",
       "  function run_callbacks() {\n",
       "    try {\n",
       "      root._bokeh_onload_callbacks.forEach(function(callback) {\n",
       "        if (callback != null)\n",
       "          callback();\n",
       "      });\n",
       "    } finally {\n",
       "      delete root._bokeh_onload_callbacks\n",
       "    }\n",
       "    console.debug(\"Bokeh: all callbacks have finished\");\n",
       "  }\n",
       "\n",
       "  function load_libs(css_urls, js_urls, callback) {\n",
       "    if (css_urls == null) css_urls = [];\n",
       "    if (js_urls == null) js_urls = [];\n",
       "\n",
       "    root._bokeh_onload_callbacks.push(callback);\n",
       "    if (root._bokeh_is_loading > 0) {\n",
       "      console.debug(\"Bokeh: BokehJS is being loaded, scheduling callback at\", now());\n",
       "      return null;\n",
       "    }\n",
       "    if (js_urls == null || js_urls.length === 0) {\n",
       "      run_callbacks();\n",
       "      return null;\n",
       "    }\n",
       "    console.debug(\"Bokeh: BokehJS not loaded, scheduling load and callback at\", now());\n",
       "    root._bokeh_is_loading = css_urls.length + js_urls.length;\n",
       "\n",
       "    function on_load() {\n",
       "      root._bokeh_is_loading--;\n",
       "      if (root._bokeh_is_loading === 0) {\n",
       "        console.debug(\"Bokeh: all BokehJS libraries/stylesheets loaded\");\n",
       "        run_callbacks()\n",
       "      }\n",
       "    }\n",
       "\n",
       "    function on_error() {\n",
       "      console.error(\"failed to load \" + url);\n",
       "    }\n",
       "\n",
       "    for (var i = 0; i < css_urls.length; i++) {\n",
       "      var url = css_urls[i];\n",
       "      const element = document.createElement(\"link\");\n",
       "      element.onload = on_load;\n",
       "      element.onerror = on_error;\n",
       "      element.rel = \"stylesheet\";\n",
       "      element.type = \"text/css\";\n",
       "      element.href = url;\n",
       "      console.debug(\"Bokeh: injecting link tag for BokehJS stylesheet: \", url);\n",
       "      document.body.appendChild(element);\n",
       "    }\n",
       "\n",
       "    const hashes = {\"https://cdn.bokeh.org/bokeh/release/bokeh-2.0.1.min.js\": \"JpP8FXbgAZLkfur7LiK3j9AGBhHNIvF742meBJrjO2ShJDhCG2I1uVvW+0DUtrmc\", \"https://cdn.bokeh.org/bokeh/release/bokeh-widgets-2.0.1.min.js\": \"xZlADit0Q04ISQEdKg2k3L4W9AwQBAuDs9nJL9fM/WwzL1tEU9VPNezOFX0nLEAz\", \"https://cdn.bokeh.org/bokeh/release/bokeh-tables-2.0.1.min.js\": \"4BuPRZkdMKSnj3zoxiNrQ86XgNw0rYmBOxe7nshquXwwcauupgBF2DHLVG1WuZlV\", \"https://cdn.bokeh.org/bokeh/release/bokeh-gl-2.0.1.min.js\": \"Dv1SQ87hmDqK6S5OhBf0bCuwAEvL5QYL0PuR/F1SPVhCS/r/abjkbpKDYL2zeM19\"};\n",
       "\n",
       "    for (var i = 0; i < js_urls.length; i++) {\n",
       "      var url = js_urls[i];\n",
       "      var element = document.createElement('script');\n",
       "      element.onload = on_load;\n",
       "      element.onerror = on_error;\n",
       "      element.async = false;\n",
       "      element.src = url;\n",
       "      if (url in hashes) {\n",
       "        element.crossOrigin = \"anonymous\";\n",
       "        element.integrity = \"sha384-\" + hashes[url];\n",
       "      }\n",
       "      console.debug(\"Bokeh: injecting script tag for BokehJS library: \", url);\n",
       "      document.head.appendChild(element);\n",
       "    }\n",
       "  };var element = document.getElementById(\"1001\");\n",
       "  if (element == null) {\n",
       "    console.error(\"Bokeh: ERROR: autoload.js configured with elementid '1001' but no matching script tag was found. \")\n",
       "    return false;\n",
       "  }\n",
       "\n",
       "  function inject_raw_css(css) {\n",
       "    const element = document.createElement(\"style\");\n",
       "    element.appendChild(document.createTextNode(css));\n",
       "    document.body.appendChild(element);\n",
       "  }\n",
       "\n",
       "  \n",
       "  var js_urls = [\"https://cdn.bokeh.org/bokeh/release/bokeh-2.0.1.min.js\", \"https://cdn.bokeh.org/bokeh/release/bokeh-widgets-2.0.1.min.js\", \"https://cdn.bokeh.org/bokeh/release/bokeh-tables-2.0.1.min.js\", \"https://cdn.bokeh.org/bokeh/release/bokeh-gl-2.0.1.min.js\"];\n",
       "  var css_urls = [];\n",
       "  \n",
       "\n",
       "  var inline_js = [\n",
       "    function(Bokeh) {\n",
       "      Bokeh.set_log_level(\"info\");\n",
       "    },\n",
       "    function(Bokeh) {\n",
       "    \n",
       "    \n",
       "    }\n",
       "  ];\n",
       "\n",
       "  function run_inline_js() {\n",
       "    \n",
       "    if (root.Bokeh !== undefined || force === true) {\n",
       "      \n",
       "    for (var i = 0; i < inline_js.length; i++) {\n",
       "      inline_js[i].call(root, root.Bokeh);\n",
       "    }\n",
       "    if (force === true) {\n",
       "        display_loaded();\n",
       "      }} else if (Date.now() < root._bokeh_timeout) {\n",
       "      setTimeout(run_inline_js, 100);\n",
       "    } else if (!root._bokeh_failed_load) {\n",
       "      console.log(\"Bokeh: BokehJS failed to load within specified timeout.\");\n",
       "      root._bokeh_failed_load = true;\n",
       "    } else if (force !== true) {\n",
       "      var cell = $(document.getElementById(\"1001\")).parents('.cell').data().cell;\n",
       "      cell.output_area.append_execute_result(NB_LOAD_WARNING)\n",
       "    }\n",
       "\n",
       "  }\n",
       "\n",
       "  if (root._bokeh_is_loading === 0) {\n",
       "    console.debug(\"Bokeh: BokehJS loaded, going straight to plotting\");\n",
       "    run_inline_js();\n",
       "  } else {\n",
       "    load_libs(css_urls, js_urls, function() {\n",
       "      console.debug(\"Bokeh: BokehJS plotting callback run at\", now());\n",
       "      run_inline_js();\n",
       "    });\n",
       "  }\n",
       "}(window));"
      ],
      "application/vnd.bokehjs_load.v0+json": "\n(function(root) {\n  function now() {\n    return new Date();\n  }\n\n  var force = true;\n\n  if (typeof root._bokeh_onload_callbacks === \"undefined\" || force === true) {\n    root._bokeh_onload_callbacks = [];\n    root._bokeh_is_loading = undefined;\n  }\n\n  \n\n  \n  if (typeof (root._bokeh_timeout) === \"undefined\" || force === true) {\n    root._bokeh_timeout = Date.now() + 5000;\n    root._bokeh_failed_load = false;\n  }\n\n  var NB_LOAD_WARNING = {'data': {'text/html':\n     \"<div style='background-color: #fdd'>\\n\"+\n     \"<p>\\n\"+\n     \"BokehJS does not appear to have successfully loaded. If loading BokehJS from CDN, this \\n\"+\n     \"may be due to a slow or bad network connection. Possible fixes:\\n\"+\n     \"</p>\\n\"+\n     \"<ul>\\n\"+\n     \"<li>re-rerun `output_notebook()` to attempt to load from CDN again, or</li>\\n\"+\n     \"<li>use INLINE resources instead, as so:</li>\\n\"+\n     \"</ul>\\n\"+\n     \"<code>\\n\"+\n     \"from bokeh.resources import INLINE\\n\"+\n     \"output_notebook(resources=INLINE)\\n\"+\n     \"</code>\\n\"+\n     \"</div>\"}};\n\n  function display_loaded() {\n    var el = document.getElementById(\"1001\");\n    if (el != null) {\n      el.textContent = \"BokehJS is loading...\";\n    }\n    if (root.Bokeh !== undefined) {\n      if (el != null) {\n        el.textContent = \"BokehJS \" + root.Bokeh.version + \" successfully loaded.\";\n      }\n    } else if (Date.now() < root._bokeh_timeout) {\n      setTimeout(display_loaded, 100)\n    }\n  }\n\n\n  function run_callbacks() {\n    try {\n      root._bokeh_onload_callbacks.forEach(function(callback) {\n        if (callback != null)\n          callback();\n      });\n    } finally {\n      delete root._bokeh_onload_callbacks\n    }\n    console.debug(\"Bokeh: all callbacks have finished\");\n  }\n\n  function load_libs(css_urls, js_urls, callback) {\n    if (css_urls == null) css_urls = [];\n    if (js_urls == null) js_urls = [];\n\n    root._bokeh_onload_callbacks.push(callback);\n    if (root._bokeh_is_loading > 0) {\n      console.debug(\"Bokeh: BokehJS is being loaded, scheduling callback at\", now());\n      return null;\n    }\n    if (js_urls == null || js_urls.length === 0) {\n      run_callbacks();\n      return null;\n    }\n    console.debug(\"Bokeh: BokehJS not loaded, scheduling load and callback at\", now());\n    root._bokeh_is_loading = css_urls.length + js_urls.length;\n\n    function on_load() {\n      root._bokeh_is_loading--;\n      if (root._bokeh_is_loading === 0) {\n        console.debug(\"Bokeh: all BokehJS libraries/stylesheets loaded\");\n        run_callbacks()\n      }\n    }\n\n    function on_error() {\n      console.error(\"failed to load \" + url);\n    }\n\n    for (var i = 0; i < css_urls.length; i++) {\n      var url = css_urls[i];\n      const element = document.createElement(\"link\");\n      element.onload = on_load;\n      element.onerror = on_error;\n      element.rel = \"stylesheet\";\n      element.type = \"text/css\";\n      element.href = url;\n      console.debug(\"Bokeh: injecting link tag for BokehJS stylesheet: \", url);\n      document.body.appendChild(element);\n    }\n\n    const hashes = {\"https://cdn.bokeh.org/bokeh/release/bokeh-2.0.1.min.js\": \"JpP8FXbgAZLkfur7LiK3j9AGBhHNIvF742meBJrjO2ShJDhCG2I1uVvW+0DUtrmc\", \"https://cdn.bokeh.org/bokeh/release/bokeh-widgets-2.0.1.min.js\": \"xZlADit0Q04ISQEdKg2k3L4W9AwQBAuDs9nJL9fM/WwzL1tEU9VPNezOFX0nLEAz\", \"https://cdn.bokeh.org/bokeh/release/bokeh-tables-2.0.1.min.js\": \"4BuPRZkdMKSnj3zoxiNrQ86XgNw0rYmBOxe7nshquXwwcauupgBF2DHLVG1WuZlV\", \"https://cdn.bokeh.org/bokeh/release/bokeh-gl-2.0.1.min.js\": \"Dv1SQ87hmDqK6S5OhBf0bCuwAEvL5QYL0PuR/F1SPVhCS/r/abjkbpKDYL2zeM19\"};\n\n    for (var i = 0; i < js_urls.length; i++) {\n      var url = js_urls[i];\n      var element = document.createElement('script');\n      element.onload = on_load;\n      element.onerror = on_error;\n      element.async = false;\n      element.src = url;\n      if (url in hashes) {\n        element.crossOrigin = \"anonymous\";\n        element.integrity = \"sha384-\" + hashes[url];\n      }\n      console.debug(\"Bokeh: injecting script tag for BokehJS library: \", url);\n      document.head.appendChild(element);\n    }\n  };var element = document.getElementById(\"1001\");\n  if (element == null) {\n    console.error(\"Bokeh: ERROR: autoload.js configured with elementid '1001' but no matching script tag was found. \")\n    return false;\n  }\n\n  function inject_raw_css(css) {\n    const element = document.createElement(\"style\");\n    element.appendChild(document.createTextNode(css));\n    document.body.appendChild(element);\n  }\n\n  \n  var js_urls = [\"https://cdn.bokeh.org/bokeh/release/bokeh-2.0.1.min.js\", \"https://cdn.bokeh.org/bokeh/release/bokeh-widgets-2.0.1.min.js\", \"https://cdn.bokeh.org/bokeh/release/bokeh-tables-2.0.1.min.js\", \"https://cdn.bokeh.org/bokeh/release/bokeh-gl-2.0.1.min.js\"];\n  var css_urls = [];\n  \n\n  var inline_js = [\n    function(Bokeh) {\n      Bokeh.set_log_level(\"info\");\n    },\n    function(Bokeh) {\n    \n    \n    }\n  ];\n\n  function run_inline_js() {\n    \n    if (root.Bokeh !== undefined || force === true) {\n      \n    for (var i = 0; i < inline_js.length; i++) {\n      inline_js[i].call(root, root.Bokeh);\n    }\n    if (force === true) {\n        display_loaded();\n      }} else if (Date.now() < root._bokeh_timeout) {\n      setTimeout(run_inline_js, 100);\n    } else if (!root._bokeh_failed_load) {\n      console.log(\"Bokeh: BokehJS failed to load within specified timeout.\");\n      root._bokeh_failed_load = true;\n    } else if (force !== true) {\n      var cell = $(document.getElementById(\"1001\")).parents('.cell').data().cell;\n      cell.output_area.append_execute_result(NB_LOAD_WARNING)\n    }\n\n  }\n\n  if (root._bokeh_is_loading === 0) {\n    console.debug(\"Bokeh: BokehJS loaded, going straight to plotting\");\n    run_inline_js();\n  } else {\n    load_libs(css_urls, js_urls, function() {\n      console.debug(\"Bokeh: BokehJS plotting callback run at\", now());\n      run_inline_js();\n    });\n  }\n}(window));"
     },
     "metadata": {},
     "output_type": "display_data"
    }
   ],
   "source": [
    "from bokeh.plotting import figure, show, output_notebook, save\n",
    "from bokeh.models import HoverTool, value, LabelSet, Legend, ColumnDataSource\n",
    "\n",
    "output_notebook() # send to notebook not tab"
   ]
  },
  {
   "cell_type": "code",
   "execution_count": 31,
   "metadata": {},
   "outputs": [
    {
     "data": {
      "text/html": [
       "\n",
       "\n",
       "\n",
       "\n",
       "\n",
       "\n",
       "  <div class=\"bk-root\" id=\"248a8803-7024-4aa2-832e-dcc3ed343a46\" data-root-id=\"1003\"></div>\n"
      ]
     },
     "metadata": {},
     "output_type": "display_data"
    },
    {
     "data": {
      "application/javascript": [
       "(function(root) {\n",
       "  function embed_document(root) {\n",
       "    \n",
       "  var docs_json = {\"76c8da50-1506-4672-91b0-734c748a0976\":{\"roots\":{\"references\":[{\"attributes\":{\"min_border\":1,\"plot_width\":1000,\"renderers\":[{\"id\":\"1031\"}],\"title\":{\"id\":\"1004\"},\"toolbar\":{\"id\":\"1021\"},\"x_range\":{\"id\":\"1006\"},\"x_scale\":{\"id\":\"1010\"},\"y_range\":{\"id\":\"1008\"},\"y_scale\":{\"id\":\"1012\"}},\"id\":\"1003\",\"subtype\":\"Figure\",\"type\":\"Plot\"},{\"attributes\":{},\"id\":\"1010\",\"type\":\"LinearScale\"},{\"attributes\":{},\"id\":\"1012\",\"type\":\"LinearScale\"},{\"attributes\":{\"data_source\":{\"id\":\"1002\"},\"glyph\":{\"id\":\"1029\"},\"hover_glyph\":null,\"muted_glyph\":null,\"nonselection_glyph\":{\"id\":\"1030\"},\"selection_glyph\":null,\"view\":{\"id\":\"1032\"}},\"id\":\"1031\",\"type\":\"GlyphRenderer\"},{\"attributes\":{\"source\":{\"id\":\"1002\"}},\"id\":\"1032\",\"type\":\"CDSView\"},{\"attributes\":{\"fill_alpha\":{\"value\":0.4},\"fill_color\":{\"field\":\"colors\"},\"line_color\":{\"value\":\"#1f77b4\"},\"size\":{\"units\":\"screen\",\"value\":10},\"x\":{\"field\":\"x\"},\"y\":{\"field\":\"y\"}},\"id\":\"1029\",\"type\":\"Scatter\"},{\"attributes\":{\"fill_alpha\":{\"value\":0.1},\"fill_color\":{\"field\":\"colors\"},\"line_alpha\":{\"value\":0.1},\"line_color\":{\"value\":\"#1f77b4\"},\"size\":{\"units\":\"screen\",\"value\":10},\"x\":{\"field\":\"x\"},\"y\":{\"field\":\"y\"}},\"id\":\"1030\",\"type\":\"Scatter\"},{\"attributes\":{},\"id\":\"1014\",\"type\":\"PanTool\"},{\"attributes\":{},\"id\":\"1035\",\"type\":\"Selection\"},{\"attributes\":{},\"id\":\"1036\",\"type\":\"UnionRenderers\"},{\"attributes\":{},\"id\":\"1015\",\"type\":\"WheelZoomTool\"},{\"attributes\":{\"text\":\"Movie embeddings projected with PCA\"},\"id\":\"1004\",\"type\":\"Title\"},{\"attributes\":{},\"id\":\"1016\",\"type\":\"ZoomInTool\"},{\"attributes\":{\"overlay\":{\"id\":\"1020\"}},\"id\":\"1017\",\"type\":\"BoxZoomTool\"},{\"attributes\":{\"data\":{\"colors\":[\"black\",\"red\",\"black\",\"black\",\"red\",\"red\",\"red\",\"red\",\"red\",\"red\",\"black\",\"black\",\"black\",\"black\",\"black\",\"black\",\"black\",\"black\",\"black\",\"black\",\"red\",\"red\",\"red\",\"black\",\"red\",\"black\",\"black\",\"red\",\"black\",\"red\",\"red\",\"red\",\"black\",\"black\",\"red\",\"black\",\"black\",\"red\",\"black\",\"red\",\"black\",\"black\",\"red\",\"red\",\"red\",\"red\",\"black\",\"red\",\"red\",\"black\",\"black\",\"black\",\"red\",\"red\",\"black\",\"black\",\"black\",\"red\",\"red\",\"red\",\"red\",\"black\",\"black\",\"black\",\"red\",\"black\",\"black\",\"black\",\"black\",\"black\",\"red\",\"red\",\"black\",\"black\",\"red\",\"black\",\"black\",\"red\",\"red\",\"black\",\"red\",\"black\",\"black\",\"black\",\"red\",\"red\",\"red\",\"red\",\"red\",\"red\",\"black\",\"black\",\"black\",\"black\",\"black\",\"black\",\"black\",\"red\",\"black\",\"black\",\"black\",\"black\",\"black\",\"black\",\"red\",\"red\",\"red\",\"black\",\"red\",\"red\",\"black\",\"black\",\"black\",\"black\",\"red\",\"red\",\"red\",\"red\",\"black\",\"red\",\"black\",\"red\",\"red\",\"red\",\"red\",\"red\",\"red\",\"red\",\"red\",\"black\",\"red\",\"red\",\"red\",\"black\",\"black\",\"red\",\"red\",\"red\",\"red\",\"red\",\"black\",\"red\",\"red\",\"black\",\"black\",\"red\",\"red\",\"red\",\"red\",\"red\",\"black\",\"black\",\"red\",\"red\",\"red\",\"red\",\"red\",\"red\",\"black\",\"red\",\"red\",\"red\",\"black\",\"black\",\"red\",\"red\",\"black\",\"red\",\"red\",\"black\",\"black\",\"red\",\"red\",\"black\",\"red\",\"black\",\"red\",\"black\",\"red\",\"black\",\"black\",\"black\",\"black\",\"black\",\"black\",\"red\",\"red\",\"black\",\"red\",\"red\",\"red\",\"black\",\"red\",\"red\",\"red\",\"red\",\"black\",\"red\",\"red\",\"black\",\"black\",\"black\",\"black\",\"black\",\"red\",\"black\",\"red\",\"black\",\"black\",\"black\",\"red\",\"red\",\"red\",\"red\",\"red\",\"red\",\"red\",\"red\",\"red\",\"red\",\"black\",\"black\",\"red\",\"black\",\"red\",\"black\",\"black\",\"black\",\"red\",\"red\",\"red\",\"black\",\"black\",\"red\",\"red\",\"red\",\"black\",\"black\",\"black\",\"black\",\"black\",\"black\",\"black\",\"red\",\"red\",\"red\",\"black\",\"red\",\"black\",\"red\",\"red\",\"red\",\"black\",\"red\",\"black\",\"red\",\"black\",\"red\",\"black\",\"black\",\"black\",\"black\",\"red\",\"black\",\"red\",\"red\",\"red\",\"black\",\"black\",\"black\",\"red\",\"black\",\"red\",\"black\",\"red\",\"red\",\"black\",\"black\",\"red\",\"black\",\"black\",\"red\",\"black\",\"red\",\"black\",\"red\",\"black\",\"red\",\"red\",\"black\",\"black\",\"red\",\"black\",\"black\",\"black\",\"black\",\"black\",\"black\",\"black\",\"black\",\"black\",\"red\",\"black\",\"red\",\"black\",\"red\",\"black\",\"black\",\"red\",\"red\",\"red\",\"red\",\"red\",\"black\",\"red\",\"black\",\"black\",\"black\",\"black\",\"red\",\"red\",\"red\",\"black\",\"red\",\"red\",\"red\",\"red\",\"red\",\"red\",\"red\",\"black\",\"red\",\"red\",\"red\",\"red\",\"black\",\"red\",\"red\",\"red\",\"red\",\"black\",\"black\",\"black\",\"black\",\"red\",\"red\",\"black\",\"black\",\"red\",\"red\",\"black\",\"black\",\"black\",\"black\",\"red\",\"red\",\"black\",\"black\",\"red\",\"red\",\"black\",\"red\",\"red\",\"black\",\"red\",\"red\",\"red\",\"red\",\"red\",\"red\",\"black\",\"black\",\"red\",\"black\",\"black\",\"red\",\"black\",\"black\",\"black\",\"red\",\"black\",\"red\",\"black\",\"black\",\"red\",\"red\",\"red\",\"red\",\"red\",\"red\",\"black\",\"black\",\"red\",\"black\",\"black\",\"black\",\"red\",\"black\",\"black\",\"black\",\"black\",\"black\",\"red\",\"black\",\"red\",\"black\",\"red\",\"red\",\"red\",\"black\",\"red\",\"red\",\"black\",\"red\",\"black\",\"red\",\"black\",\"red\",\"red\",\"black\",\"black\",\"red\",\"black\",\"red\",\"red\",\"red\",\"black\",\"black\",\"black\",\"red\",\"red\",\"red\",\"red\",\"red\",\"black\",\"black\",\"black\",\"black\",\"black\",\"black\",\"black\",\"black\",\"black\",\"red\",\"black\",\"red\",\"black\",\"red\",\"red\",\"red\",\"red\",\"black\",\"red\",\"black\",\"black\",\"black\",\"black\",\"red\",\"black\",\"red\",\"red\",\"red\",\"black\",\"black\",\"red\",\"black\",\"black\",\"black\",\"black\",\"red\",\"red\",\"black\",\"black\",\"black\",\"black\",\"black\",\"black\",\"black\",\"black\",\"black\",\"black\",\"red\",\"red\",\"red\",\"red\",\"black\",\"red\",\"red\",\"red\",\"red\",\"black\",\"red\",\"red\",\"black\",\"black\",\"red\",\"black\",\"black\",\"red\",\"red\",\"red\",\"red\",\"black\",\"red\",\"black\",\"black\",\"black\",\"red\",\"black\",\"red\",\"red\",\"red\",\"black\",\"red\",\"red\",\"black\",\"black\",\"black\",\"black\",\"red\",\"black\",\"red\",\"black\",\"red\",\"red\",\"black\",\"black\",\"black\",\"red\",\"black\",\"black\",\"red\",\"black\",\"red\",\"black\",\"black\",\"red\",\"red\",\"red\",\"black\",\"red\",\"black\",\"red\",\"black\",\"red\",\"black\",\"red\",\"red\",\"red\",\"red\",\"red\",\"black\",\"red\",\"black\",\"black\",\"black\",\"black\",\"black\",\"black\",\"red\",\"red\",\"red\",\"red\",\"red\",\"black\",\"black\",\"black\",\"red\",\"black\",\"red\",\"red\",\"red\",\"red\",\"black\",\"red\",\"red\",\"red\",\"black\",\"black\",\"red\",\"black\",\"red\",\"red\",\"black\",\"black\",\"red\",\"red\",\"red\",\"black\",\"red\",\"red\",\"red\",\"red\",\"black\",\"red\",\"red\",\"black\",\"red\",\"red\",\"red\",\"black\",\"black\",\"black\",\"black\",\"red\",\"red\",\"black\",\"red\",\"red\",\"red\",\"black\",\"red\",\"black\",\"red\",\"red\",\"red\",\"black\",\"black\",\"red\",\"red\",\"red\",\"black\",\"red\",\"red\",\"red\",\"red\",\"black\",\"black\",\"red\",\"black\",\"red\",\"red\",\"red\",\"red\",\"red\",\"red\",\"red\",\"black\",\"red\",\"red\",\"black\",\"red\",\"black\",\"black\",\"black\",\"black\",\"red\",\"black\",\"red\",\"black\",\"red\",\"black\",\"red\",\"red\",\"red\",\"red\",\"red\",\"red\",\"red\",\"black\",\"red\",\"red\",\"red\",\"red\",\"black\",\"black\",\"red\",\"black\",\"black\",\"red\",\"black\",\"black\",\"red\",\"red\",\"red\",\"red\",\"black\",\"red\",\"red\",\"red\",\"black\",\"red\",\"red\",\"black\",\"black\",\"black\",\"black\",\"black\",\"red\",\"black\",\"red\",\"red\",\"red\",\"red\",\"red\",\"black\",\"black\",\"red\",\"black\",\"red\",\"black\",\"black\",\"black\",\"black\",\"red\",\"red\",\"red\",\"red\",\"black\",\"red\",\"black\",\"red\",\"red\",\"black\",\"black\",\"black\",\"red\",\"red\",\"red\",\"black\",\"red\",\"black\",\"red\",\"red\",\"black\",\"black\",\"black\",\"black\",\"black\",\"red\",\"red\",\"black\",\"black\",\"black\",\"black\",\"black\",\"black\",\"black\",\"black\",\"black\",\"black\",\"black\",\"black\",\"black\",\"black\",\"black\",\"black\",\"black\",\"red\",\"black\",\"black\",\"red\",\"black\",\"red\",\"red\",\"red\",\"black\",\"red\",\"red\",\"black\",\"black\",\"black\",\"red\",\"black\",\"red\",\"black\",\"black\",\"black\",\"black\",\"black\",\"red\",\"red\",\"red\",\"red\",\"black\",\"black\",\"black\",\"red\",\"black\",\"black\",\"black\",\"black\",\"black\",\"black\",\"black\",\"red\",\"black\",\"red\",\"red\",\"red\",\"black\",\"black\",\"black\",\"black\",\"red\",\"black\",\"black\",\"black\",\"black\",\"black\",\"black\",\"black\",\"black\",\"black\",\"red\",\"red\",\"red\",\"red\",\"red\",\"red\",\"black\",\"black\",\"black\",\"red\",\"black\",\"red\",\"black\",\"red\",\"black\",\"black\",\"black\",\"black\",\"red\",\"black\",\"black\",\"red\",\"black\",\"red\",\"red\",\"red\",\"red\",\"black\",\"black\",\"red\",\"black\",\"red\",\"black\",\"black\",\"black\",\"red\",\"red\",\"black\",\"black\",\"black\",\"black\",\"black\",\"red\",\"black\",\"red\",\"red\",\"black\",\"red\",\"red\",\"red\",\"black\",\"red\",\"black\",\"black\",\"black\",\"red\",\"red\",\"black\",\"red\",\"red\",\"red\",\"red\",\"black\",\"red\",\"black\",\"red\",\"black\",\"black\",\"black\",\"black\",\"red\",\"red\",\"red\",\"black\",\"red\",\"black\",\"black\",\"black\",\"red\",\"black\",\"red\",\"black\",\"black\",\"black\",\"black\",\"black\",\"black\",\"black\",\"black\",\"black\",\"red\",\"black\",\"black\",\"red\",\"black\",\"black\",\"black\",\"red\",\"black\",\"red\",\"black\",\"black\",\"black\",\"red\",\"red\",\"red\",\"red\",\"black\",\"black\",\"black\",\"black\",\"black\",\"black\",\"black\",\"red\",\"black\",\"red\",\"black\",\"black\",\"red\",\"black\",\"black\",\"red\",\"black\",\"red\",\"black\",\"red\",\"black\",\"black\",\"red\",\"black\",\"black\",\"red\",\"red\",\"red\",\"black\",\"black\",\"red\",\"black\",\"black\",\"black\",\"black\",\"black\",\"red\",\"black\",\"red\",\"black\",\"black\",\"black\",\"red\"],\"genre\":[\"Comedy\",\"Drama\",\"Comedy\",\"Comedy\",\"Drama\",\"Drama\",\"Drama\",\"Drama\",\"Drama\",\"Drama\",\"Comedy\",\"Comedy\",\"Comedy\",\"Comedy\",\"Comedy\",\"Comedy\",\"Comedy\",\"Comedy\",\"Comedy\",\"Comedy\",\"Drama\",\"Drama\",\"Drama\",\"Comedy\",\"Drama\",\"Comedy\",\"Comedy\",\"Drama\",\"Comedy\",\"Drama\",\"Drama\",\"Drama\",\"Comedy\",\"Comedy\",\"Drama\",\"Comedy\",\"Comedy\",\"Drama\",\"Comedy\",\"Drama\",\"Comedy\",\"Comedy\",\"Drama\",\"Drama\",\"Drama\",\"Drama\",\"Comedy\",\"Drama\",\"Drama\",\"Comedy\",\"Comedy\",\"Comedy\",\"Drama\",\"Drama\",\"Comedy\",\"Comedy\",\"Comedy\",\"Drama\",\"Drama\",\"Drama\",\"Drama\",\"Comedy\",\"Comedy\",\"Comedy\",\"Drama\",\"Comedy\",\"Comedy\",\"Comedy\",\"Comedy\",\"Comedy\",\"Drama\",\"Drama\",\"Comedy\",\"Comedy\",\"Drama\",\"Comedy\",\"Comedy\",\"Drama\",\"Drama\",\"Comedy\",\"Drama\",\"Comedy\",\"Comedy\",\"Comedy\",\"Drama\",\"Drama\",\"Drama\",\"Drama\",\"Drama\",\"Drama\",\"Comedy\",\"Comedy\",\"Comedy\",\"Comedy\",\"Comedy\",\"Comedy\",\"Comedy\",\"Drama\",\"Comedy\",\"Comedy\",\"Comedy\",\"Comedy\",\"Comedy\",\"Comedy\",\"Drama\",\"Drama\",\"Drama\",\"Comedy\",\"Drama\",\"Drama\",\"Comedy\",\"Comedy\",\"Comedy\",\"Comedy\",\"Drama\",\"Drama\",\"Drama\",\"Drama\",\"Comedy\",\"Drama\",\"Comedy\",\"Drama\",\"Drama\",\"Drama\",\"Drama\",\"Drama\",\"Drama\",\"Drama\",\"Drama\",\"Comedy\",\"Drama\",\"Drama\",\"Drama\",\"Comedy\",\"Comedy\",\"Drama\",\"Drama\",\"Drama\",\"Drama\",\"Drama\",\"Comedy\",\"Drama\",\"Drama\",\"Comedy\",\"Comedy\",\"Drama\",\"Drama\",\"Drama\",\"Drama\",\"Drama\",\"Comedy\",\"Comedy\",\"Drama\",\"Drama\",\"Drama\",\"Drama\",\"Drama\",\"Drama\",\"Comedy\",\"Drama\",\"Drama\",\"Drama\",\"Comedy\",\"Comedy\",\"Drama\",\"Drama\",\"Comedy\",\"Drama\",\"Drama\",\"Comedy\",\"Comedy\",\"Drama\",\"Drama\",\"Comedy\",\"Drama\",\"Comedy\",\"Drama\",\"Comedy\",\"Drama\",\"Comedy\",\"Comedy\",\"Comedy\",\"Comedy\",\"Comedy\",\"Comedy\",\"Drama\",\"Drama\",\"Comedy\",\"Drama\",\"Drama\",\"Drama\",\"Comedy\",\"Drama\",\"Drama\",\"Drama\",\"Drama\",\"Comedy\",\"Drama\",\"Drama\",\"Comedy\",\"Comedy\",\"Comedy\",\"Comedy\",\"Comedy\",\"Drama\",\"Comedy\",\"Drama\",\"Comedy\",\"Comedy\",\"Comedy\",\"Drama\",\"Drama\",\"Drama\",\"Drama\",\"Drama\",\"Drama\",\"Drama\",\"Drama\",\"Drama\",\"Drama\",\"Comedy\",\"Comedy\",\"Drama\",\"Comedy\",\"Drama\",\"Comedy\",\"Comedy\",\"Comedy\",\"Drama\",\"Drama\",\"Drama\",\"Comedy\",\"Comedy\",\"Drama\",\"Drama\",\"Drama\",\"Comedy\",\"Comedy\",\"Comedy\",\"Comedy\",\"Comedy\",\"Comedy\",\"Comedy\",\"Drama\",\"Drama\",\"Drama\",\"Comedy\",\"Drama\",\"Comedy\",\"Drama\",\"Drama\",\"Drama\",\"Comedy\",\"Drama\",\"Comedy\",\"Drama\",\"Comedy\",\"Drama\",\"Comedy\",\"Comedy\",\"Comedy\",\"Comedy\",\"Drama\",\"Comedy\",\"Drama\",\"Drama\",\"Drama\",\"Comedy\",\"Comedy\",\"Comedy\",\"Drama\",\"Comedy\",\"Drama\",\"Comedy\",\"Drama\",\"Drama\",\"Comedy\",\"Comedy\",\"Drama\",\"Comedy\",\"Comedy\",\"Drama\",\"Comedy\",\"Drama\",\"Comedy\",\"Drama\",\"Comedy\",\"Drama\",\"Drama\",\"Comedy\",\"Comedy\",\"Drama\",\"Comedy\",\"Comedy\",\"Comedy\",\"Comedy\",\"Comedy\",\"Comedy\",\"Comedy\",\"Comedy\",\"Comedy\",\"Drama\",\"Comedy\",\"Drama\",\"Comedy\",\"Drama\",\"Comedy\",\"Comedy\",\"Drama\",\"Drama\",\"Drama\",\"Drama\",\"Drama\",\"Comedy\",\"Drama\",\"Comedy\",\"Comedy\",\"Comedy\",\"Comedy\",\"Drama\",\"Drama\",\"Drama\",\"Comedy\",\"Drama\",\"Drama\",\"Drama\",\"Drama\",\"Drama\",\"Drama\",\"Drama\",\"Comedy\",\"Drama\",\"Drama\",\"Drama\",\"Drama\",\"Comedy\",\"Drama\",\"Drama\",\"Drama\",\"Drama\",\"Comedy\",\"Comedy\",\"Comedy\",\"Comedy\",\"Drama\",\"Drama\",\"Comedy\",\"Comedy\",\"Drama\",\"Drama\",\"Comedy\",\"Comedy\",\"Comedy\",\"Comedy\",\"Drama\",\"Drama\",\"Comedy\",\"Comedy\",\"Drama\",\"Drama\",\"Comedy\",\"Drama\",\"Drama\",\"Comedy\",\"Drama\",\"Drama\",\"Drama\",\"Drama\",\"Drama\",\"Drama\",\"Comedy\",\"Comedy\",\"Drama\",\"Comedy\",\"Comedy\",\"Drama\",\"Comedy\",\"Comedy\",\"Comedy\",\"Drama\",\"Comedy\",\"Drama\",\"Comedy\",\"Comedy\",\"Drama\",\"Drama\",\"Drama\",\"Drama\",\"Drama\",\"Drama\",\"Comedy\",\"Comedy\",\"Drama\",\"Comedy\",\"Comedy\",\"Comedy\",\"Drama\",\"Comedy\",\"Comedy\",\"Comedy\",\"Comedy\",\"Comedy\",\"Drama\",\"Comedy\",\"Drama\",\"Comedy\",\"Drama\",\"Drama\",\"Drama\",\"Comedy\",\"Drama\",\"Drama\",\"Comedy\",\"Drama\",\"Comedy\",\"Drama\",\"Comedy\",\"Drama\",\"Drama\",\"Comedy\",\"Comedy\",\"Drama\",\"Comedy\",\"Drama\",\"Drama\",\"Drama\",\"Comedy\",\"Comedy\",\"Comedy\",\"Drama\",\"Drama\",\"Drama\",\"Drama\",\"Drama\",\"Comedy\",\"Comedy\",\"Comedy\",\"Comedy\",\"Comedy\",\"Comedy\",\"Comedy\",\"Comedy\",\"Comedy\",\"Drama\",\"Comedy\",\"Drama\",\"Comedy\",\"Drama\",\"Drama\",\"Drama\",\"Drama\",\"Comedy\",\"Drama\",\"Comedy\",\"Comedy\",\"Comedy\",\"Comedy\",\"Drama\",\"Comedy\",\"Drama\",\"Drama\",\"Drama\",\"Comedy\",\"Comedy\",\"Drama\",\"Comedy\",\"Comedy\",\"Comedy\",\"Comedy\",\"Drama\",\"Drama\",\"Comedy\",\"Comedy\",\"Comedy\",\"Comedy\",\"Comedy\",\"Comedy\",\"Comedy\",\"Comedy\",\"Comedy\",\"Comedy\",\"Drama\",\"Drama\",\"Drama\",\"Drama\",\"Comedy\",\"Drama\",\"Drama\",\"Drama\",\"Drama\",\"Comedy\",\"Drama\",\"Drama\",\"Comedy\",\"Comedy\",\"Drama\",\"Comedy\",\"Comedy\",\"Drama\",\"Drama\",\"Drama\",\"Drama\",\"Comedy\",\"Drama\",\"Comedy\",\"Comedy\",\"Comedy\",\"Drama\",\"Comedy\",\"Drama\",\"Drama\",\"Drama\",\"Comedy\",\"Drama\",\"Drama\",\"Comedy\",\"Comedy\",\"Comedy\",\"Comedy\",\"Drama\",\"Comedy\",\"Drama\",\"Comedy\",\"Drama\",\"Drama\",\"Comedy\",\"Comedy\",\"Comedy\",\"Drama\",\"Comedy\",\"Comedy\",\"Drama\",\"Comedy\",\"Drama\",\"Comedy\",\"Comedy\",\"Drama\",\"Drama\",\"Drama\",\"Comedy\",\"Drama\",\"Comedy\",\"Drama\",\"Comedy\",\"Drama\",\"Comedy\",\"Drama\",\"Drama\",\"Drama\",\"Drama\",\"Drama\",\"Comedy\",\"Drama\",\"Comedy\",\"Comedy\",\"Comedy\",\"Comedy\",\"Comedy\",\"Comedy\",\"Drama\",\"Drama\",\"Drama\",\"Drama\",\"Drama\",\"Comedy\",\"Comedy\",\"Comedy\",\"Drama\",\"Comedy\",\"Drama\",\"Drama\",\"Drama\",\"Drama\",\"Comedy\",\"Drama\",\"Drama\",\"Drama\",\"Comedy\",\"Comedy\",\"Drama\",\"Comedy\",\"Drama\",\"Drama\",\"Comedy\",\"Comedy\",\"Drama\",\"Drama\",\"Drama\",\"Comedy\",\"Drama\",\"Drama\",\"Drama\",\"Drama\",\"Comedy\",\"Drama\",\"Drama\",\"Comedy\",\"Drama\",\"Drama\",\"Drama\",\"Comedy\",\"Comedy\",\"Comedy\",\"Comedy\",\"Drama\",\"Drama\",\"Comedy\",\"Drama\",\"Drama\",\"Drama\",\"Comedy\",\"Drama\",\"Comedy\",\"Drama\",\"Drama\",\"Drama\",\"Comedy\",\"Comedy\",\"Drama\",\"Drama\",\"Drama\",\"Comedy\",\"Drama\",\"Drama\",\"Drama\",\"Drama\",\"Comedy\",\"Comedy\",\"Drama\",\"Comedy\",\"Drama\",\"Drama\",\"Drama\",\"Drama\",\"Drama\",\"Drama\",\"Drama\",\"Comedy\",\"Drama\",\"Drama\",\"Comedy\",\"Drama\",\"Comedy\",\"Comedy\",\"Comedy\",\"Comedy\",\"Drama\",\"Comedy\",\"Drama\",\"Comedy\",\"Drama\",\"Comedy\",\"Drama\",\"Drama\",\"Drama\",\"Drama\",\"Drama\",\"Drama\",\"Drama\",\"Comedy\",\"Drama\",\"Drama\",\"Drama\",\"Drama\",\"Comedy\",\"Comedy\",\"Drama\",\"Comedy\",\"Comedy\",\"Drama\",\"Comedy\",\"Comedy\",\"Drama\",\"Drama\",\"Drama\",\"Drama\",\"Comedy\",\"Drama\",\"Drama\",\"Drama\",\"Comedy\",\"Drama\",\"Drama\",\"Comedy\",\"Comedy\",\"Comedy\",\"Comedy\",\"Comedy\",\"Drama\",\"Comedy\",\"Drama\",\"Drama\",\"Drama\",\"Drama\",\"Drama\",\"Comedy\",\"Comedy\",\"Drama\",\"Comedy\",\"Drama\",\"Comedy\",\"Comedy\",\"Comedy\",\"Comedy\",\"Drama\",\"Drama\",\"Drama\",\"Drama\",\"Comedy\",\"Drama\",\"Comedy\",\"Drama\",\"Drama\",\"Comedy\",\"Comedy\",\"Comedy\",\"Drama\",\"Drama\",\"Drama\",\"Comedy\",\"Drama\",\"Comedy\",\"Drama\",\"Drama\",\"Comedy\",\"Comedy\",\"Comedy\",\"Comedy\",\"Comedy\",\"Drama\",\"Drama\",\"Comedy\",\"Comedy\",\"Comedy\",\"Comedy\",\"Comedy\",\"Comedy\",\"Comedy\",\"Comedy\",\"Comedy\",\"Comedy\",\"Comedy\",\"Comedy\",\"Comedy\",\"Comedy\",\"Comedy\",\"Comedy\",\"Comedy\",\"Drama\",\"Comedy\",\"Comedy\",\"Drama\",\"Comedy\",\"Drama\",\"Drama\",\"Drama\",\"Comedy\",\"Drama\",\"Drama\",\"Comedy\",\"Comedy\",\"Comedy\",\"Drama\",\"Comedy\",\"Drama\",\"Comedy\",\"Comedy\",\"Comedy\",\"Comedy\",\"Comedy\",\"Drama\",\"Drama\",\"Drama\",\"Drama\",\"Comedy\",\"Comedy\",\"Comedy\",\"Drama\",\"Comedy\",\"Comedy\",\"Comedy\",\"Comedy\",\"Comedy\",\"Comedy\",\"Comedy\",\"Drama\",\"Comedy\",\"Drama\",\"Drama\",\"Drama\",\"Comedy\",\"Comedy\",\"Comedy\",\"Comedy\",\"Drama\",\"Comedy\",\"Comedy\",\"Comedy\",\"Comedy\",\"Comedy\",\"Comedy\",\"Comedy\",\"Comedy\",\"Comedy\",\"Drama\",\"Drama\",\"Drama\",\"Drama\",\"Drama\",\"Drama\",\"Comedy\",\"Comedy\",\"Comedy\",\"Drama\",\"Comedy\",\"Drama\",\"Comedy\",\"Drama\",\"Comedy\",\"Comedy\",\"Comedy\",\"Comedy\",\"Drama\",\"Comedy\",\"Comedy\",\"Drama\",\"Comedy\",\"Drama\",\"Drama\",\"Drama\",\"Drama\",\"Comedy\",\"Comedy\",\"Drama\",\"Comedy\",\"Drama\",\"Comedy\",\"Comedy\",\"Comedy\",\"Drama\",\"Drama\",\"Comedy\",\"Comedy\",\"Comedy\",\"Comedy\",\"Comedy\",\"Drama\",\"Comedy\",\"Drama\",\"Drama\",\"Comedy\",\"Drama\",\"Drama\",\"Drama\",\"Comedy\",\"Drama\",\"Comedy\",\"Comedy\",\"Comedy\",\"Drama\",\"Drama\",\"Comedy\",\"Drama\",\"Drama\",\"Drama\",\"Drama\",\"Comedy\",\"Drama\",\"Comedy\",\"Drama\",\"Comedy\",\"Comedy\",\"Comedy\",\"Comedy\",\"Drama\",\"Drama\",\"Drama\",\"Comedy\",\"Drama\",\"Comedy\",\"Comedy\",\"Comedy\",\"Drama\",\"Comedy\",\"Drama\",\"Comedy\",\"Comedy\",\"Comedy\",\"Comedy\",\"Comedy\",\"Comedy\",\"Comedy\",\"Comedy\",\"Comedy\",\"Drama\",\"Comedy\",\"Comedy\",\"Drama\",\"Comedy\",\"Comedy\",\"Comedy\",\"Drama\",\"Comedy\",\"Drama\",\"Comedy\",\"Comedy\",\"Comedy\",\"Drama\",\"Drama\",\"Drama\",\"Drama\",\"Comedy\",\"Comedy\",\"Comedy\",\"Comedy\",\"Comedy\",\"Comedy\",\"Comedy\",\"Drama\",\"Comedy\",\"Drama\",\"Comedy\",\"Comedy\",\"Drama\",\"Comedy\",\"Comedy\",\"Drama\",\"Comedy\",\"Drama\",\"Comedy\",\"Drama\",\"Comedy\",\"Comedy\",\"Drama\",\"Comedy\",\"Comedy\",\"Drama\",\"Drama\",\"Drama\",\"Comedy\",\"Comedy\",\"Drama\",\"Comedy\",\"Comedy\",\"Comedy\",\"Comedy\",\"Comedy\",\"Drama\",\"Comedy\",\"Drama\",\"Comedy\",\"Comedy\",\"Comedy\",\"Drama\"],\"title\":[\"Father of the Bride Part II\",\"Nixon\",\"Four Rooms\",\"Ace Ventura: When Nature Calls\",\"Othello\",\"Dangerous Minds\",\"Cry, the Beloved Country\",\"Restoration\",\"Home for the Holidays\",\"Mr. Holland's Opus\",\"Bio-Dome\",\"Friday\",\"Black Sheep\",\"Mr. Wrong\",\"Happy Gilmore\",\"Steal Big, Steal Little\",\"Flirting With Disaster\",\"Down Periscope\",\"Birdcage, The\",\"Brothers McMullen, The\",\"Basketball Diaries, The\",\"Awfully Big Adventure, An\",\"Beauty of the Day (Belle de jour)\",\"Jury Duty\",\"Kids\",\"Living in Oblivion\",\"Party Girl\",\"Showgirls\",\"To Wong Foo, Thanks for Everything! Julie Newmar\",\"White Man's Burden\",\"Browning Version, The\",\"Burnt by the Sun (Utomlyonnye solntsem)\",\"Billy Madison\",\"Clerks\",\"Exotica\",\"Exit to Eden\",\"Houseguest\",\"Jefferson in Paris\",\"Jerky Boys, The\",\"Little Women\",\"Major Payne\",\"Mixed Nuts\",\"Miracle on 34th Street\",\"My Family\",\"Nell\",\"Quiz Show\",\"Ready to Wear (Pret-A-Porter)\",\"Three Colors: Red (Trois couleurs: Rouge)\",\"Three Colors: Blue (Trois couleurs: Bleu)\",\"Stuart Saves His Family\",\"National Lampoon's Senior Trip\",\"Tommy Boy\",\"What's Eating Gilbert Grape\",\"Double Happiness\",\"Muriel's Wedding\",\"Ace Ventura: Pet Detective\",\"Bullets Over Broadway\",\"Cobb\",\"Higher Learning\",\"Little Buddha\",\"Age of Innocence, The\",\"Airheads\",\"Air Up There, The\",\"Beverly Hillbillies, The\",\"Bronx Tale, A\",\"Cabin Boy\",\"Clean Slate\",\"Cops and Robbersons\",\"Dazed and Confused\",\"Fatal Instinct\",\"Fearless\",\"Widows' Peak\",\"Getting Even with Dad\",\"Hudsucker Proxy, The\",\"In the Name of the Father\",\"Life with Mikey\",\"Made in America\",\"Man Without a Face, The\",\"Naked\",\"North\",\"Philadelphia\",\"Ref, The\",\"Road to Wellville, The\",\"Robin Hood: Men in Tights\",\"Rudy\",\"Searching for Bobby Fischer\",\"Short Cuts\",\"Sirens\",\"Six Degrees of Separation\",\"Princess Caraboo\",\"Brady Bunch Movie, The\",\"Pallbearer, The\",\"Ed\",\"Denise Calls Up\",\"Theodore Rex\",\"Sgt. Bilko\",\"Kids in the Hall: Brain Candy\",\"World of Apu, The (Apur Sansar)\",\"Angus\",\"Celtic Pride\",\"Multiplicity\",\"Cold Comfort Farm\",\"Spy Hard\",\"Stupids, The\",\"Ashes of Time (Dung che sai duk)\",\"I Shot Andy Warhol\",\"Stealing Beauty\",\"Kingpin\",\"Unforgettable Summer, An (Un \\u00e9t\\u00e9 inoubliable)\",\"Somebody to Love\",\"Larger Than Life\",\"Very Brady Sequel, A\",\"First Wives Club, The\",\"High School High\",\"Foxfire\",\"Spitfire Grill, The\",\"Basquiat\",\"Wild Reeds (Les roseaux sauvages)\",\"My Favorite Year\",\"All About Eve\",\"Father of the Bride\",\"East of Eden\",\"Mr. Smith Goes to Washington\",\"Cat on a Hot Tin Roof\",\"Dangerous Ground\",\"Picnic\",\"Michael Collins\",\"Infinity\",\"Chamber, The\",\"Cool Runnings\",\"Secrets & Lies\",\"Trees Lounge\",\"Jude\",\"Monty Python's Life of Brian\",\"Weekend at Bernie's\",\"Doors, The\",\"Glengarry Glen Ross\",\"Sophie's Choice\",\"Rebel Without a Cause\",\"Streetcar Named Desire, A\",\"Loser\",\"On Golden Pond\",\"Manon of the Spring (Manon des sources)\",\"Private Benjamin\",\"Bob Roberts\",\"Cinema Paradiso (Nuovo cinema Paradiso)\",\"My Left Foot\",\"Sex, Lies, and Videotape\",\"Passion Fish\",\"One Flew Over the Cuckoo's Nest\",\"Cheech and Chong's Up in Smoke\",\"Withnail & I\",\"12 Angry Men\",\"To Kill a Mockingbird\",\"Amadeus\",\"Raging Bull\",\"Right Stuff, The\",\"Seventh Seal, The (Sjunde inseglet, Det)\",\"Local Hero\",\"Dead Poets Society\",\"Cool Hand Luke\",\"Raise the Red Lantern (Da hong deng long gao gao gua)\",\"Heathers\",\"This Is Spinal Tap\",\"Gandhi\",\"Unbearable Lightness of Being, The\",\"Real Genius\",\"Sling Blade\",\"Preacher's Wife, The\",\"My Fellow Americans\",\"Raising Arizona\",\"Bastard Out of Carolina\",\"Ghosts of Mississippi\",\"Mother\",\"Portrait of a Lady, The\",\"Fierce Creatures\",\"Angel Baby\",\"Meet Wally Sparks\",\"Prefontaine\",\"Waiting for Guffman\",\"Vegas Vacation (National Lampoon's Las Vegas Vacation)\",\"Liar Liar\",\"8 Heads in a Duffel Bag\",\"Romy and Michele's High School Reunion\",\"Fathers' Day\",\"Promise, The (La promesse)\",\"Contempt (M\\u00e9pris, Le)\",\"In & Out\",\"Thousand Acres, A\",\"Ice Storm, The\",\"Hurricane Streets\",\"Bean\",\"Rainmaker, The\",\"Boogie Nights\",\"Apostle, The\",\"Artemisia\",\"For Richer or Poorer\",\"Sweet Hereafter, The\",\"Kundun\",\"Mr. Magoo\",\"Wag the Dog\",\"Half Baked\",\"Spice World\",\"Odd Couple II, The\",\"He Got Game\",\"Krippendorf's Tribe\",\"Character (Karakter)\",\"Major League: Back to the Minors\",\"Clockwatchers\",\"Dr. Dolittle\",\"Whatever\",\"Lost Weekend, The\",\"Midnight Cowboy\",\"Rocky\",\"Kramer vs. Kramer\",\"Ordinary People\",\"Chariots of Fire\",\"Last Emperor, The\",\"Rain Man\",\"Driving Miss Daisy\",\"Metropolitan\",\"Polish Wedding\",\"Last Temptation of Christ, The\",\"BASEketball\",\"And the Band Played On\",\"'burbs, The\",\"Jerk, The\",\"Man with Two Brains, The\",\"Outsiders, The\",\"Autumn Sonata (H\\u00f6stsonaten)\",\"Who's Afraid of Virginia Woolf?\",\"Dead Man on Campus\",\"Dirty Work\",\"Rounders\",\"Simon Birch\",\"My Bodyguard\",\"Class\",\"My Blue Heaven\",\"One Crazy Summer\",\"Impostors, The\",\"Producers, The\",\"My Cousin Vinny\",\"Holy Man\",\"Mighty, The\",\"Children of a Lesser God\",\"Elephant Man, The\",\"Orgazmo\",\"Gods and Monsters\",\"Waterboy, The\",\"Elizabeth\",\"Velvet Goldmine\",\"Sid and Nancy\",\"Celebrity\",\"Central Station (Central do Brasil)\",\"Waking Ned Devine (a.k.a. Waking Ned)\",\"Celebration, The (Festen)\",\"Pink Flamingos\",\"Glen or Glenda\",\"Fletch Lives\",\"Money Pit, The\",\"Little Voice\",\"Back to School\",\"Karate Kid, The\",\"Christmas Vacation (National Lampoon's Christmas Vacation)\",\"Stepmom\",\"Civil Action, A\",\"At First Sight\",\"Ruthless People\",\"Soul Man\",\"Jawbreaker\",\"October Sky\",\"Night Shift\",\"Airport\",\"Analyze This\",\"Cruel Intentions\",\"Deep End of the Ocean, The\",\"EDtv\",\"Out-of-Towners, The\",\"Dreamlife of Angels, The (Vie r\\u00eav\\u00e9e des anges, La)\",\"Pushing Tin\",\"Election\",\"Winslow Boy, The\",\"Castle, The\",\"Mommie Dearest\",\"Big Daddy\",\"Summer of Sam\",\"Drop Dead Gorgeous\",\"Color Purple, The\",\"Mission, The\",\"Dick\",\"Bowfinger\",\"Brokedown Palace\",\"Detroit Rock City\",\"Heaven Can Wait\",\"Monty Python's And Now for Something Completely Different\",\"Airplane!\",\"Airplane II: The Sequel\",\"National Lampoon's Vacation\",\"Muse, The\",\"Outside Providence\",\"Blue Streak\",\"Buddy Holly Story, The\",\"Barefoot in the Park\",\"Jakob the Liar\",\"Superstar\",\"Boys Don't Cry\",\"Risky Business\",\"Ferris Bueller's Day Off\",\"Conformist, The (Conformista, Il)\",\"Julien Donkey-Boy\",\"Bringing Out the Dead\",\"Melvin and Howard\",\"Rosetta\",\"Repossessed\",\"Face in the Crowd, A\",\"Trading Places\",\"Meatballs\",\"Meatballs Part II\",\"Under the Rainbow\",\"Liberty Heights\",\"All About My Mother (Todo sobre mi madre)\",\"Bicycle Thieves (a.k.a. The Bicycle Thief) (a.k.a. The Bicycle Thieves) (Ladri di biciclette)\",\"My Man Godfrey\",\"Natural, The\",\"River Runs Through It, A\",\"Places in the Heart\",\"Flawless\",\"Great Santini, The\",\"Two Jakes, The\",\"Cradle Will Rock\",\"Deuce Bigalow: Male Gigolo\",\"Cider House Rules, The\",\"Emperor and the Assassin, The (Jing ke ci qin wang)\",\"Magnolia\",\"Any Given Sunday\",\"Next Friday\",\"Hurricane, The\",\"Titus\",\"Girl, Interrupted\",\"Woman in the Dunes (Suna no onna)\",\"Big Tease, The\",\"Cup, The (Ph\\u00f6rpa)\",\"Encino Man\",\"Sister Act 2: Back in the Habit\",\"Alive\",\"Scent of a Woman\",\"Wayne's World\",\"Wayne's World 2\",\"Of Mice and Men\",\"To Sir with Love\",\"Beautiful People\",\"Circus, The\",\"Class Reunion\",\"Drowning Mona\",\"My Tutor\",\"Daughters of the Dust\",\"Volunteers\",\"She-Devil\",\"Erin Brockovich\",\"Mirror, The (Zerkalo)\",\"Animal House\",\"Do the Right Thing\",\"Good Earth, The\",\"Grumpy Old Men\",\"Guess Who's Coming to Dinner\",\"Hustler, The\",\"Inherit the Wind\",\"Bamba, La\",\"Madame Sousatzka\",\"Midnight Express\",\"Odd Couple, The\",\"Bachelor Party\",\"28 Days\",\"Shakes the Clown\",\"Caddyshack\",\"Up at the Villa\",\"Whipped\",\"Road Trip\",\"8 \\u00bd Women (a.k.a. 8 1/2 Women) (a.k.a. Eight and a Half Women)\",\"Woman of Paris, A\",\"Big Momma's House\",\"American Gigolo\",\"Porky's\",\"Porky's II: The Next Day\",\"Paper Chase, The\",\"Butterfly (La lengua de las mariposas)\",\"Jesus' Son\",\"Golden Bowl, The\",\"Footloose\",\"Five Senses, The\",\"What About Bob?\",\"Everything You Always Wanted to Know About Sex * But Were Afraid to Ask\",\"Interiors\",\"Love and Death\",\"Tampopo\",\"Nutty Professor II: The Klumps\",\"Steel Magnolias\",\"Easy Money\",\"Tao of Steve, The\",\"Cecil B. DeMented\",\"Replacements, The\",\"Naked Gun 2 1/2: The Smell of Fear, The\",\"Our Town\",\"Bring It On\",\"Almost Famous\",\"Best in Show\",\"Broken Hearts Club, The\",\"Girlfight\",\"Remember the Titans\",\"Meet the Parents\",\"Requiem for a Dream\",\"Tigerland\",\"Ladies Man, The\",\"Billy Elliot\",\"Bedazzled\",\"Pay It Forward\",\"Little Nicky\",\"Men of Honor\",\"Proof of Life\",\"Planes, Trains & Automobiles\",\"She's Having a Baby\",\"Wall Street\",\"Brewster's Millions\",\"Pollock\",\"Finding Forrester\",\"Cast Away\",\"Don't Tell Mom the Babysitter's Dead\",\"Sugar & Spice\",\"Born in East L.A.\",\"Hope and Glory\",\"Less Than Zero\",\"Vatel\",\"Caveman's Valentine, The\",\"Reversal of Fortune\",\"Revenge of the Nerds\",\"Revenge of the Nerds II: Nerds in Paradise\",\"Girls Just Want to Have Fun\",\"Longest Yard, The\",\"Necessary Roughness\",\"Dish, The\",\"Tomcats\",\"Josie and the Pussycats\",\"Freddy Got Fingered\",\"Center of the World, The\",\"Frankie and Johnny\",\"Norma Rae\",\"Summer Rental\",\"Pelle the Conqueror (Pelle erobreren)\",\"Man Who Cried, The\",\"Eight Men Out\",\"Yi Yi\",\"Animal, The\",\"Anniversary Party, The\",\"Seven Year Itch, The\",\"Dr. Dolittle 2\",\"Pootie Tang\",\"Closet, The (Placard, Le)\",\"Lumumba\",\"Scary Movie 2\",\"Cries and Whispers (Viskningar och rop)\",\"Lion in Winter, The\",\"Moby Dick\",\"Made\",\"Dirty Rotten Scoundrels\",\"Gorillas in the Mist\",\"Johnny Be Good\",\"License to Drive\",\"Twins\",\"Dream Team, The\",\"Great Balls of Fire!\",\"Jesus of Montreal (J\\u00e9sus de Montr\\u00e9al)\",\"Major League\",\"Wet Hot American Summer\",\"Troop Beverly Hills\",\"UHF\",\"Uncle Buck\",\"Any Which Way You Can\",\"American Pie 2\",\"Rat Race\",\"Bubble Boy\",\"Curse of the Jade Scorpion, The\",\"O\",\"L.I.E.\",\"Hardball\",\"Dinner Rush\",\"Haiku Tunnel\",\"Liam\",\"French Lieutenant's Woman, The\",\"Little Man Tate\",\"Little Foxes, The\",\"Zoolander\",\"Not Without My Daughter\",\"Life as a House\",\"Out Cold\",\"Not Another Teen Movie\",\"Kandahar (Safar e Ghandehar)\",\"How High\",\"Party, The\",\"Ali\",\"I Am Sam\",\"Shipping News, The\",\"Waterdance, The\",\"Orange County\",\"Son's Room, The (Stanza del figlio, La)\",\"Baby's Day Out\",\"Designing Woman\",\"Bad News Bears, The\",\"Wild Strawberries (Smultronst\\u00e4llet)\",\"Hopscotch\",\"Little Darlings\",\"Mon oncle d'Am\\u00e9rique\",\"Return of the Secaucus 7\",\"Stir Crazy\",\"Rookie, The\",\"Boxcar Bertha\",\"National Lampoon's Van Wilder\",\"Slap Shot\",\"Three Men and a Baby\",\"Triumph of Love, The\",\"Lenny\",\"New Guy, The\",\"Believer, The\",\"Every Which Way But Loose\",\"CQ\",\"Requiem for a Heavyweight\",\"Undercover Brother\",\"Emperor's New Clothes, The\",\"Cheech & Chong's The Corsican Brothers\",\"Sunshine State\",\"Austin Powers in Goldmember\",\"Who Is Cletis Tout?\",\"Red Beard (Akahige)\",\"Top Secret!\",\"Undisputed\",\"Johnny Dangerously\",\"Barbershop\",\"Bloody Sunday\",\"Heaven\",\"Pride of the Yankees, The\",\"Strange Brew\",\"White Oleander\",\"World of Henry Orient, The\",\"8 Mile\",\"Friday After Next\",\"Personal Velocity\",\"Hot Chick, The\",\"Morvern Callar\",\"Antwone Fisher\",\"Children's Hour, The\",\"Quicksilver\",\"Love Liza\",\"CB4 - The Movie\",\"Amen.\",\"Kiss Me Goodbye\",\"Monty Python Live at the Hollywood Bowl\",\"Dennis the Menace\",\"Old School\",\"Life Stinks\",\"Bringing Down the House\",\"Laurel Canyon\",\"Nowhere in Africa (Nirgendwo in Afrika)\",\"Prozac Nation\",\"Salaam Bombay!\",\"Talent for the Game\",\"Boat Trip\",\"Anger Management\",\"In-Laws, The\",\"Whale Rider\",\"6th Man, The (Sixth Man, The)\",\"From the Terrace\",\"Trial, The (Proc\\u00e8s, Le)\",\"Anastasia\",\"Babe, The\",\"Legally Blonde 2: Red, White & Blonde\",\"Embalmer, The (Imbalsamatore, L')\",\"Seabiscuit\",\"Mondays in the Sun (Lunes al sol, Los)\",\"Kiss Me, Stupid\",\"American Wedding (American Pie 3)\",\"Magdalene Sisters, The\",\"Uptown Girls\",\"Tokyo Story (T\\u00f4ky\\u00f4 monogatari)\",\"Ikiru\",\"Comic Book Villains\",\"Dickie Roberts: Former Child Star\",\"Luther\",\"Judgment at Nuremberg\",\"Babette's Feast (Babettes g\\u00e6stebud)\",\"Monty Python's The Meaning of Life\",\"Radio\",\"Elephant\",\"Sweet Sixteen\",\"Unvanquished, The (Aparajito)\",\"Father of the Bride\",\"Passion of Joan of Arc, The (Passion de Jeanne d'Arc, La)\",\"Lorenzo's Oil\",\"Summer School\",\"Little Women\",\"Macbeth (a.k.a. Tragedy of Macbeth, The)\",\"Jezebel\",\"Horse Feathers\",\"Madhouse\",\"Stuck on You\",\"Calendar Girls\",\"House of Sand and Fog\",\"Ship of Fools\",\"Mon Oncle (My Uncle)\",\"They Drive by Night\",\"Strada, La\",\"Where the Day Takes You\",\"Barbershop 2: Back in Business\",\"Dreamers, The\",\"Welcome to Mooseport\",\"Diary of a Country Priest (Journal d'un cur\\u00e9 de campagne)\",\"Passion of the Christ, The\",\"Persona\",\"Envy\",\"Mean Girls\",\"Wit\",\"Miracle Worker, The\",\"School Ties\",\"Noises Off...\",\"Bells of St. Mary's, The\",\"Tuesdays with Morrie\",\"Best of Youth, The (La meglio giovent\\u00f9)\",\"11'09\\\"01 - September 11\",\"Gidget\",\"Zelig\",\"Through a Glass Darkly (S\\u00e5som i en spegel)\",\"Broadway Danny Rose\",\"Spring, Summer, Fall, Winter... and Spring (Bom yeoreum gaeul gyeoul geurigo bom)\",\"The Thief\",\"Sweet Bird of Youth\",\"Crossroads\",\"Lola Mont\\u00e8s\",\"Dolce Vita, La\",\"Sansho the Bailiff (Sansh\\u00f4 day\\u00fb)\",\"Zazie dans le m\\u00e9tro\",\"Black Narcissus\",\"Baadasssss! (How to Get the Man's Foot Outta Your Ass)\",\"Napoleon Dynamite\",\"Executive Suite\",\"Dodgeball: A True Underdog Story\",\"Our Hospitality\",\"Secret Society\",\"Anchorman: The Legend of Ron Burgundy\",\"Snake Pit, The\",\"Yesterday, Today and Tomorrow (Ieri, oggi, domani)\",\"Story of Women (Affaire de femmes, Une)\",\"Without a Paddle\",\"Mask\",\"I Heart Huckabees\",\"Stage Beauty\",\"Vera Drake\",\"Ray\",\"Kinsey\",\"Finding Neverland\",\"Stage Door\",\"Great Expectations\",\"Unfaithfully Yours\",\"The Wild One\",\"Harakiri (Seppuku)\",\"Holy Mountain, The (Monta\\u00f1a sagrada, La)\",\"White Nights\",\"Dutch\",\"Ladybugs\",\"Bad Boy Bubby\",\"Major League II\",\"Late Shift, The\",\"Gummo\",\"Late Night Shopping\",\"Ali G Indahouse\",\"Sea Inside, The (Mar adentro)\",\"Chorus, The (Choristes, Les)\",\"Million Dollar Baby\",\"Aviator, The\",\"Meet the Fockers\",\"Love Song for Bobby Long, A\",\"Merchant of Venice, The\",\"Coach Carter\",\"Uncle Nino\",\"Agony and the Ecstasy, The\",\"Ballad of Jack and Rose, The\",\"Kicking & Screaming\",\"Divorce - Italian Style (Divorzio all'italiana)\",\"Eddie Izzard: Dress to Kill\",\"Calcium Kid, The\",\"Private Resort\",\"Proof\",\"Waiting...\",\"Unfinished Life, An\",\"Greatest Game Ever Played, The\",\"North Country\",\"Manderlay\",\"C.R.A.Z.Y.\",\"Ringer, The\",\"Grandma's Boy\",\"Glory Road\",\"Last Holiday\",\"Akeelah and the Bee\",\"Benchwarmers, The\",\"Stick It\",\"Nacho Libre\",\"Clerks II\",\"Stoned\",\"Orchestra Rehearsal (Prova d'orchestra)\",\"World Trade Center\",\"Pursuit of Happyness, The\",\"Accepted\",\"The Queen\",\"Beerfest\",\"Invincible\",\"All the King's Men\",\"Borat: Cultural Learnings of America for Make Benefit Glorious Nation of Kazakhstan\",\"Employee of the Month\",\"For Your Consideration\",\"Nativity Story, The\",\"Notes on a Scandal\",\"Astronaut Farmer, The\",\"Reno 911!: Miami\",\"Reign Over Me\",\"Mr. Bean's Holiday\",\"This Is England\",\"Away from Her\",\"Bring It On: All or Nothing\",\"Death at a Funeral\",\"Hot Rod\",\"Superbad\",\"Balls of Fury\",\"4 Months, 3 Weeks and 2 Days (4 luni, 3 saptam\\u00e2ni si 2 zile)\",\"Interview\",\"Mr. Woodcock\",\"Game Plan, The\",\"Comebacks, The\",\"King of California\",\"Be Kind Rewind\",\"Meet the Spartans\",\"Semi-Pro\",\"Love Guru, The\",\"Zebraman\",\"99 francs\",\"Baby Mama\",\"You Don't Mess with the Zohan\",\"Welcome to the Sticks (Bienvenue chez les Ch'tis)\",\"Step Brothers\",\"House Bunny, The\",\"Rocker, The\",\"How to Lose Friends & Alienate People\",\"Wave, The (Welle, Die)\",\"Role Models\",\"Sex Drive\",\"Class, The (Entre les murs)\",\"Four Christmases\",\"Frost/Nixon\",\"Seven Pounds\",\"Wrestler, The\",\"Yes Man\",\"Ben X\",\"Departures (Okuribito)\",\"I Love You, Man\",\"Big Stan\",\"In the Loop\",\"Damned United, The\",\"Great Buck Howard, The\",\"Powder Blue\",\"Fired Up\",\"Br\\u00fcno (Bruno)\",\"Humpday\",\"Goods: Live Hard, Sell Hard, The\",\"Miss March\",\"If These Walls Could Talk\",\"Misfortunates, The (De helaasheid der dingen)\",\"Garage\",\"Blind Side, The\",\"Old Dogs\",\"American Pie Presents: The Book of Love (American Pie 7: The Book of Love)\",\"Dennis the Menace Christmas, A\",\"Temple Grandin\",\"Motherhood\",\"Mike Bassett: England Manager\",\"She's Out of My League\",\"Slammin' Salmon, The\",\"Ricky Gervais Live: Animals\",\"Grown Ups\",\"Dinner for Schmucks\",\"Social Network, The\",\"Due Date\",\"King's Speech, The\",\"Fighter, The\",\"Barney's Version\",\"Little Fockers\",\"Girls About Town\",\"Pekka ja P\\u00e4tk\\u00e4 salapoliiseina\",\"Hall Pass\",\"Sunset Limited, The\",\"Arthur\",\"Louis C.K.: Hilarious\",\"Louis C.K.: Shameless\",\"Bridesmaids\",\"Hangover Part II, The\",\"Nothing to Declare (Rien \\u00e0 d\\u00e9clarer)\",\"Elektra Luxx\",\"Bad Teacher\",\"Zookeeper\",\"Help, The\",\"Skin I Live In, The (La piel que habito)\",\"Moneyball\",\"Warrior\",\"Ides of March, The\",\"Margaret\",\"Jack and Jill\",\"Sitter, The\",\"Friends with Kids\",\"Sacrifice (Zhao shi gu er)\",\"Contact High\",\"Einstein and Eddington\",\"Louis C.K.: Live at the Beacon Theater\",\"Prayers for Bobby\",\"Project X\",\"Big Year, The\",\"American Reunion (American Pie 4)\",\"Three Stooges, The\",\"Lucky One, The\",\"Wanderlust\",\"2 Days in New York\",\"Sidewalls (Medianeras)\",\"Campaign, The\",\"Broken\",\"Master, The\",\"Hunt, The (Jagten)\",\"Flight\",\"Nature Calls\",\"Fantastic Fear of Everything, A\",\"Hitchcock\",\"Guilt Trip, The\",\"This Is 40\",\"Parental Guidance\",\"Fish Story (Fisshu sut\\u00f4r\\u00ee)\",\"Incredible Burt Wonderstone, The\",\"Phil Spector\",\"Great Gatsby, The\",\"Internship, The\",\"Hangover Part III, The\",\"Rink, The\",\"Class Act\",\"Grown Ups 2\",\"Jobs\",\"In a World...\",\"Short Term 12\",\"12 Years a Slave\",\"Jackass Presents: Bad Grandpa\",\"Dallas Buyers Club\",\"Inside Llewyn Davis\",\"Mandela: Long Walk to Freedom\",\"Anchorman 2: The Legend Continues\",\"Venus in Fur (La V\\u00e9nus \\u00e0 la fourrure)\",\"Neighbors\",\"Chef\",\"Blended\",\"Boyhood\",\"Whiplash\",\"Inbetweeners 2, The\",\"Camp X-Ray\",\"Cesar Chavez\",\"Leviathan\",\"Tangerines\",\"Dumb and Dumber To\",\"Miss Meadows\",\"Hello Ladies: The Movie\",\"Still Alice\",\"Bring It On: In It To Win It\",\"Fans\",\"National Lampoon's Bag Boy\",\"Dave Chappelle: For What it's Worth\",\"Mommy\",\"Wild\",\"Big Eyes\",\"John Mulaney: New In Town\",\"The Duke of Burgundy\",\"Bill Burr: Why Do I Do This?\",\"The DUFF\",\"Louis C.K.: Live at The Comedy Store\",\"Experimenter\",\"Mistress America\",\"Me and Earl and the Dying Girl\",\"The Overnight\",\"Jim Jefferies: BARE\",\"Chris Rock: Bigger & Blacker\",\"Eddie Izzard: Glorious\",\"George Carlin: It's Bad for Ya!\",\"La v\\u00e9rit\\u00e9 si je mens !\",\"The Malibu Bikini Shop\",\"Pitch Perfect 2\",\"Elections Day\",\"Youth\",\"The Taming of the Scoundrel\",\"Ghost Graduation\",\"Love & Mercy\",\"Ted 2\",\"George Carlin: Back in Town\",\"George Carlin: You Are All Diseased\",\"Steve Jobs\",\"Search Party\",\"April Morning\",\"7 Days in Hell\",\"The Opposite Sex\",\"The Intern\",\"Room\",\"The Runner\",\"Straight Outta Compton\",\"The Danish Girl\",\"It Can't Be!\",\"Oscar\",\"The Night Before\",\"If I Were a Rich Man\",\"Bros Before Hos\",\"Rock the Kasbah\",\"Blue Mountain State: The Rise of Thadland\",\"Big Short, The\",\"John Mulaney: The Comeback Kid\",\"Exposed\",\"Dad's Army\",\"Everybody Wants Some\",\"Sing Street\",\"Neighbors 2: Sorority Rising\",\"The Boss\",\"Captain Fantastic\",\"Popstar: Never Stop Never Stopping\",\"Pel\\u00e9: Birth of a Legend\",\"Mike & Dave Need Wedding Dates\",\"Sully\",\"War Dogs\",\"David Cross: Making America Great Again\",\"London Town\",\"Keeping Up with the Joneses\",\"Office Christmas Party\",\"Hidden Figures\",\"Fences\",\"The Founder\",\"Why Him?\",\"Dave Chappelle: Deep in the Heart of Texas\",\"Gifted\",\"Saved by the Bell: Hawaiian Style\",\"The Night Before\",\"The Meyerowitz Stories\",\"Don Camillo in Moscow\",\"Rory Scovel Tries Stand-Up for the First Time\",\"The Greatest Showman\",\"Jack Whitehall: At Large\",\"The Purple Sea\",\"The Clapper\",\"When We First Met\",\"Fred Armisen: Standup for Drummers\",\"John From\"],\"x\":{\"__ndarray__\":\"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\",\"dtype\":\"float32\",\"shape\":[954]},\"y\":{\"__ndarray__\":\"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\",\"dtype\":\"float32\",\"shape\":[954]}},\"selected\":{\"id\":\"1035\"},\"selection_policy\":{\"id\":\"1036\"}},\"id\":\"1002\",\"type\":\"ColumnDataSource\"},{\"attributes\":{},\"id\":\"1018\",\"type\":\"ResetTool\"},{\"attributes\":{\"callback\":null,\"tooltips\":[[\"content\",\"@title (@genre)\"]]},\"id\":\"1019\",\"type\":\"HoverTool\"},{\"attributes\":{\"active_drag\":\"auto\",\"active_inspect\":\"auto\",\"active_multi\":null,\"active_scroll\":\"auto\",\"active_tap\":\"auto\",\"tools\":[{\"id\":\"1014\"},{\"id\":\"1015\"},{\"id\":\"1016\"},{\"id\":\"1017\"},{\"id\":\"1018\"},{\"id\":\"1019\"}]},\"id\":\"1021\",\"type\":\"Toolbar\"},{\"attributes\":{},\"id\":\"1006\",\"type\":\"DataRange1d\"},{\"attributes\":{},\"id\":\"1008\",\"type\":\"DataRange1d\"},{\"attributes\":{\"bottom_units\":\"screen\",\"fill_alpha\":0.5,\"fill_color\":\"lightgrey\",\"left_units\":\"screen\",\"level\":\"overlay\",\"line_alpha\":1.0,\"line_color\":\"black\",\"line_dash\":[4,4],\"line_width\":2,\"render_mode\":\"css\",\"right_units\":\"screen\",\"top_units\":\"screen\"},\"id\":\"1020\",\"type\":\"BoxAnnotation\"}],\"root_ids\":[\"1003\"]},\"title\":\"Bokeh Application\",\"version\":\"2.0.1\"}};\n",
       "  var render_items = [{\"docid\":\"76c8da50-1506-4672-91b0-734c748a0976\",\"root_ids\":[\"1003\"],\"roots\":{\"1003\":\"248a8803-7024-4aa2-832e-dcc3ed343a46\"}}];\n",
       "  root.Bokeh.embed.embed_items_notebook(docs_json, render_items);\n",
       "\n",
       "  }\n",
       "  if (root.Bokeh !== undefined) {\n",
       "    embed_document(root);\n",
       "  } else {\n",
       "    var attempts = 0;\n",
       "    var timer = setInterval(function(root) {\n",
       "      if (root.Bokeh !== undefined) {\n",
       "        clearInterval(timer);\n",
       "        embed_document(root);\n",
       "      } else {\n",
       "        attempts++;\n",
       "        if (attempts > 100) {\n",
       "          clearInterval(timer);\n",
       "          console.log(\"Bokeh: ERROR: Unable to run BokehJS code because BokehJS library is missing\");\n",
       "        }\n",
       "      }\n",
       "    }, 10, root)\n",
       "  }\n",
       "})(window);"
      ],
      "application/vnd.bokehjs_exec.v0+json": ""
     },
     "metadata": {
      "application/vnd.bokehjs_exec.v0+json": {
       "id": "1003"
      }
     },
     "output_type": "display_data"
    }
   ],
   "source": [
    "data = dict(\n",
    "    x=vecs2D[:,0],\n",
    "    y=vecs2D[:,1],\n",
    "    title = df_movies['title'],\n",
    "    genre = df_movies['genres'],\n",
    "    colors = [('black' if df_movies['genres'].iloc[i]=='Comedy' else 'red') for i in range(len(vecs2D))]\n",
    ")\n",
    "source = ColumnDataSource(data)\n",
    "\n",
    "fig = figure(plot_width=1000, plot_height=600,\n",
    "             title=\"Movie embeddings projected with PCA\",\n",
    "             tools=\"pan,wheel_zoom,zoom_in,box_zoom,reset,hover\",\n",
    "             x_axis_type=None, y_axis_type=None, min_border=1)\n",
    "\n",
    "fig.scatter(x='x', y='y',source=source, fill_alpha=0.4, size=10, fill_color='colors')\n",
    "\n",
    "# hover tools\n",
    "hover = fig.select(dict(type=HoverTool))\n",
    "hover.tooltips = {\"content\": \"@title (@genre)\"}\n",
    "\n",
    "show(fig)"
   ]
  },
  {
   "cell_type": "markdown",
   "metadata": {},
   "source": [
    "### Try limiting output to range 0..5"
   ]
  },
  {
   "cell_type": "code",
   "execution_count": 32,
   "metadata": {},
   "outputs": [],
   "source": [
    "df = load(n=20_000)\n",
    "compress_cats(df, 'movieId') # make IDs 0..nmovies-1\n",
    "compress_cats(df, 'userId')\n",
    "\n",
    "nmovies = len(df.groupby('movieId').count())\n",
    "nusers = len(df.groupby('userId').count())"
   ]
  },
  {
   "cell_type": "code",
   "execution_count": 33,
   "metadata": {},
   "outputs": [
    {
     "name": "stderr",
     "output_type": "stream",
     "text": [
      "/home/ubuntu/anaconda3/envs/pytorch_latest_p36/lib/python3.6/site-packages/ipykernel_launcher.py:13: UserWarning: To copy construct from a tensor, it is recommended to use sourceTensor.clone().detach() or sourceTensor.clone().detach().requires_grad_(True), rather than torch.tensor(sourceTensor).\n",
      "  del sys.path[0]\n"
     ]
    },
    {
     "name": "stdout",
     "output_type": "stream",
     "text": [
      "Epoch   0 loss         2.11\n",
      "Epoch  30 loss         0.35\n",
      "Epoch  60 loss         0.25\n",
      "Epoch  90 loss         0.22\n",
      "Epoch 120 loss         0.21\n",
      "Epoch 150 loss         0.20\n",
      "Epoch 180 loss         0.20\n",
      "Epoch 210 loss         0.19\n",
      "Epoch 240 loss         0.19\n",
      "Epoch 270 loss         0.19\n",
      "Epoch 300 loss         0.19\n",
      "Epoch 330 loss         0.19\n",
      "Epoch 360 loss         0.19\n",
      "Epoch 390 loss         0.18\n",
      "Epoch 420 loss         0.18\n",
      "Epoch 450 loss         0.18\n",
      "Epoch 480 loss         0.18\n"
     ]
    }
   ],
   "source": [
    "U = randn(nusers,  nfactors, device=device, dtype=dtype, requires_grad=True)  # <-- track for autograd\n",
    "M = randn(nmovies, nfactors, device=device, dtype=dtype, requires_grad=True)\n",
    "\n",
    "nfactors = 4\n",
    "learning_rate = 200\n",
    "momentum = .01\n",
    "for t in range(500):\n",
    "    userIds = torch.tensor(df['userId'].values, device=device)\n",
    "    movieIds = torch.tensor(df['movieId'].values, device=device)\n",
    "    ratings = torch.tensor(df['rating'].values, device=device)\n",
    "    r_pred = (U[userIds] * M[movieIds]).sum(axis=1)\n",
    "    r_pred = torch.sigmoid(r_pred) * 5  # limit to 0..5\n",
    "    diff = r_pred - torch.tensor(ratings)\n",
    "    loss = torch.mean( diff.pow(2) )\n",
    "    if t % 30 == 0:\n",
    "        print(f\"Epoch {t:3d} loss {loss:12.2f}\")\n",
    "\n",
    "    loss.backward() # autograd computes U.grad and M.grad\n",
    "\n",
    "    # Update weights; weights have requires_grad=True but we don't need to track these updates\n",
    "    with torch.no_grad():\n",
    "        U -= (momentum*U + learning_rate * U.grad)\n",
    "        M -= (momentum*M + learning_rate * M.grad)\n",
    "\n",
    "        U.grad.zero_() # reset gradients\n",
    "        M.grad.zero_()"
   ]
  },
  {
   "cell_type": "code",
   "execution_count": 34,
   "metadata": {},
   "outputs": [
    {
     "name": "stdout",
     "output_type": "stream",
     "text": [
      "OOB R^2 0.654\n",
      "Train R^2 0.952\n"
     ]
    }
   ],
   "source": [
    "#RF_onehot(df, M.detach().numpy(), U.detach().numpy())\n",
    "RF_onehot(df, M.detach().cpu(), U.detach().cpu())"
   ]
  },
  {
   "cell_type": "markdown",
   "metadata": {},
   "source": [
    "Seems to help a bit. 0.57 to 0.59 OOB R^2. Cool. increasing iterations to 500 and lr=50, moves to 0.64 OOB.\n",
    "\n",
    "lr=200 and momentum=.01 gets 0.71 OOB R^2."
   ]
  },
  {
   "cell_type": "markdown",
   "metadata": {},
   "source": [
    "## Try with AdaGrad minimizer\n"
   ]
  },
  {
   "cell_type": "code",
   "execution_count": 35,
   "metadata": {},
   "outputs": [],
   "source": [
    "df = load(n=20_000)\n",
    "compress_cats(df, 'movieId') # make IDs 0..nmovies-1\n",
    "compress_cats(df, 'userId')\n",
    "\n",
    "nmovies = len(df.groupby('movieId').count())\n",
    "nusers = len(df.groupby('userId').count())"
   ]
  },
  {
   "cell_type": "code",
   "execution_count": 36,
   "metadata": {},
   "outputs": [
    {
     "name": "stderr",
     "output_type": "stream",
     "text": [
      "/home/ubuntu/anaconda3/envs/pytorch_latest_p36/lib/python3.6/site-packages/ipykernel_launcher.py:17: UserWarning: To copy construct from a tensor, it is recommended to use sourceTensor.clone().detach() or sourceTensor.clone().detach().requires_grad_(True), rather than torch.tensor(sourceTensor).\n"
     ]
    },
    {
     "name": "stdout",
     "output_type": "stream",
     "text": [
      "Epoch   0 loss         2.09\n",
      "Epoch  50 loss         0.10\n",
      "Epoch 100 loss         0.05\n",
      "Epoch 150 loss         0.03\n",
      "Epoch 200 loss         0.02\n",
      "Epoch 250 loss         0.02\n",
      "Epoch 300 loss         0.01\n",
      "Epoch 350 loss         0.01\n",
      "Epoch 400 loss         0.01\n",
      "Epoch 450 loss         0.01\n",
      "Epoch 500 loss         0.01\n",
      "Epoch 550 loss         0.01\n",
      "Epoch 600 loss         0.01\n",
      "Epoch 650 loss         0.01\n",
      "Epoch 700 loss         0.01\n",
      "Epoch 750 loss         0.01\n"
     ]
    }
   ],
   "source": [
    "nfactors = 16\n",
    "\n",
    "U = randn(nusers,  nfactors, device=device, dtype=dtype, requires_grad=True)  # <-- track for autograd\n",
    "M = randn(nmovies, nfactors, device=device, dtype=dtype, requires_grad=True)\n",
    "\n",
    "learning_rate = .05\n",
    "e = 0.0000001  # avoid division by zero when scaling learning rate\n",
    "\n",
    "hU = torch.zeros(size=(nusers, nfactors),  device=device, dtype=dtype)\n",
    "hM = torch.zeros(size=(nmovies, nfactors), device=device, dtype=dtype)\n",
    "for t in range(800):\n",
    "    userIds = torch.tensor(df['userId'].values, device=device)\n",
    "    movieIds = torch.tensor(df['movieId'].values, device=device)\n",
    "    ratings = torch.tensor(df['rating'].values, device=device)\n",
    "    r_pred = (U[userIds] * M[movieIds]).sum(axis=1)\n",
    "    r_pred = torch.sigmoid(r_pred) * 5  # limit to 0..5\n",
    "    diff = r_pred - torch.tensor(ratings)\n",
    "    loss = torch.mean( diff.pow(2) )\n",
    "    if t % 50 == 0:\n",
    "        print(f\"Epoch {t:3d} loss {loss:12.2f}\")\n",
    "\n",
    "    loss.backward() # autograd computes U.grad and M.grad\n",
    "\n",
    "    # Update weights; weights have requires_grad=True but we don't need to track these updates\n",
    "    with torch.no_grad():\n",
    "        hU += U.grad * U.grad\n",
    "        hM += M.grad * M.grad\n",
    "        U -= learning_rate * U.grad / (torch.sqrt(hU)+e)\n",
    "        M -= learning_rate * M.grad / (torch.sqrt(hM)+e)\n",
    "\n",
    "        U.grad.zero_() # reset gradients\n",
    "        M.grad.zero_()"
   ]
  },
  {
   "cell_type": "code",
   "execution_count": 37,
   "metadata": {},
   "outputs": [
    {
     "name": "stdout",
     "output_type": "stream",
     "text": [
      "OOB R^2 0.560\n",
      "Train R^2 0.939\n"
     ]
    }
   ],
   "source": [
    "RF_onehot(df, M.cpu().detach().numpy(), U.cpu().detach().numpy())"
   ]
  },
  {
   "cell_type": "markdown",
   "metadata": {},
   "source": [
    "This is very strange because the loss seems to go very very low and yet my random forest out of bag error is lower than when the loss is an order of magnitude bigger during training. hmm..."
   ]
  },
  {
   "cell_type": "code",
   "execution_count": 38,
   "metadata": {},
   "outputs": [
    {
     "data": {
      "image/png": "[encoded data removed]",
      "text/plain": [
       "<Figure size 360x360 with 1 Axes>"
      ]
     },
     "metadata": {
      "needs_background": "light"
     },
     "output_type": "display_data"
    }
   ],
   "source": [
    "df_movies, vecs2D = plot_comedy_drama_embeddings(df, M.cpu().detach().numpy(), xrange=(-2,2), yrange=(-2,2))"
   ]
  },
  {
   "cell_type": "markdown",
   "metadata": {},
   "source": [
    "## Let's add bias to embeddings\n",
    "\n",
    "Much much slower, even on GPU. Still much faster than GPU though."
   ]
  },
  {
   "cell_type": "code",
   "execution_count": 39,
   "metadata": {},
   "outputs": [],
   "source": [
    "# if you run out of memory\n",
    "torch.cuda.empty_cache()"
   ]
  },
  {
   "cell_type": "code",
   "execution_count": 40,
   "metadata": {},
   "outputs": [],
   "source": [
    "df = load(n=15_000)\n",
    "compress_cats(df, 'movieId') # make IDs 0..nmovies-1\n",
    "compress_cats(df, 'userId')\n",
    "\n",
    "nmovies = len(df.groupby('movieId').count())\n",
    "nusers = len(df.groupby('userId').count())"
   ]
  },
  {
   "cell_type": "code",
   "execution_count": 41,
   "metadata": {},
   "outputs": [
    {
     "name": "stderr",
     "output_type": "stream",
     "text": [
      "/home/ubuntu/anaconda3/envs/pytorch_latest_p36/lib/python3.6/site-packages/ipykernel_launcher.py:23: UserWarning: To copy construct from a tensor, it is recommended to use sourceTensor.clone().detach() or sourceTensor.clone().detach().requires_grad_(True), rather than torch.tensor(sourceTensor).\n"
     ]
    },
    {
     "name": "stdout",
     "output_type": "stream",
     "text": [
      "Epoch   0 loss         2.08\n",
      "Epoch   5 loss         1.92\n",
      "Epoch  10 loss         1.83\n",
      "Epoch  15 loss         1.76\n",
      "Epoch  20 loss         1.69\n",
      "Epoch  25 loss         1.64\n",
      "Epoch  30 loss         1.59\n",
      "Epoch  35 loss         1.55\n",
      "Epoch  40 loss         1.51\n",
      "Epoch  45 loss         1.47\n",
      "CPU times: user 23.7 s, sys: 473 ms, total: 24.2 s\n",
      "Wall time: 24.1 s\n"
     ]
    }
   ],
   "source": [
    "%%time\n",
    "nfactors = 4\n",
    "\n",
    "U      = randn(nusers,  nfactors, device=device, dtype=dtype, requires_grad=True)\n",
    "U_bias = randn(nusers,  1,        device=device, dtype=dtype, requires_grad=True)\n",
    "M      = randn(nmovies, nfactors, device=device, dtype=dtype, requires_grad=True)\n",
    "M_bias = randn(nmovies, 1,        device=device, dtype=dtype, requires_grad=True)\n",
    "\n",
    "learning_rate = .01\n",
    "e = 0.0000001  # avoid division by zero when scaling learning rate\n",
    "\n",
    "# track gradient history\n",
    "hU = torch.zeros(size=(nusers,  nfactors), device=device, dtype=dtype)\n",
    "hM = torch.zeros(size=(nmovies, nfactors), device=device, dtype=dtype)\n",
    "hU_bias = torch.zeros(size=(nusers,  1),   device=device, dtype=dtype)\n",
    "hM_bias = torch.zeros(size=(nmovies, 1),   device=device, dtype=dtype)\n",
    "for t in range(50):\n",
    "    userIds = torch.tensor(df['userId'].values, device=device)\n",
    "    movieIds = torch.tensor(df['movieId'].values, device=device)\n",
    "    ratings = torch.tensor(df['rating'].values, device=device)\n",
    "    r_pred = (U[userIds] * M[movieIds]).sum(axis=1, keepdim=True)  # keepdim says keep as shape (20_000,1) not (20_000,)\n",
    "    r_pred += (U_bias[df['userId']] + M_bias[df['movieId']])\n",
    "    r_pred = torch.sigmoid(r_pred) * 5  # limit to 0..5\n",
    "    diff = r_pred - torch.tensor(ratings)\n",
    "    loss = torch.mean( diff.pow(2) )\n",
    "    if t % 5 == 0:\n",
    "        print(f\"Epoch {t:3d} loss {loss:12.2f}\")\n",
    "\n",
    "    loss.backward() # autograd computes U.grad and M.grad\n",
    "\n",
    "    # Update weights; weights have requires_grad=True but we don't need to track these updates\n",
    "    with torch.no_grad():\n",
    "        hU += U.grad * U.grad\n",
    "        hM += M.grad * M.grad\n",
    "        hU_bias += U_bias.grad * U_bias.grad\n",
    "        hM_bias += M_bias.grad * M_bias.grad\n",
    "        U -= learning_rate * U.grad / (torch.sqrt(hU)+e)\n",
    "        M -= learning_rate * M.grad / (torch.sqrt(hM)+e)\n",
    "        U_bias -= learning_rate * U_bias.grad / (torch.sqrt(hU_bias)+e)\n",
    "        M_bias -= learning_rate * M_bias.grad / (torch.sqrt(hM_bias)+e)\n",
    "\n",
    "        U.grad.zero_() # reset gradients\n",
    "        M.grad.zero_()\n",
    "        U_bias.grad.zero_() # reset gradients\n",
    "        M_bias.grad.zero_()"
   ]
  },
  {
   "cell_type": "code",
   "execution_count": 42,
   "metadata": {},
   "outputs": [
    {
     "name": "stdout",
     "output_type": "stream",
     "text": [
      "OOB R^2 0.123\n",
      "Train R^2 0.879\n"
     ]
    }
   ],
   "source": [
    "RF_onehot(df, M.cpu().detach().numpy(), U.cpu().detach().numpy())"
   ]
  },
  {
   "cell_type": "markdown",
   "metadata": {},
   "source": [
    "## Simple momentum but add bias, properly initializing weights\n",
    "\n",
    "Faster than full AdaGrad.  Also drop to 10k records for speed. Ok, still bad with bias. Yannet suggests better initialization.\n",
    "\n",
    "### Initializing weights\n",
    "\n",
    "See [Initializing neural networks](https://www.deeplearning.ai/ai-notes/initialization/). Let's say we have user 4 and movie 1.  The resulting rating prediction is the dot product of the two embedding vectors:"
   ]
  },
  {
   "cell_type": "code",
   "execution_count": 82,
   "metadata": {},
   "outputs": [],
   "source": [
    "df = load(n=10_000)\n",
    "compress_cats(df, 'movieId') # make IDs 0..nmovies-1\n",
    "compress_cats(df, 'userId')\n",
    "\n",
    "nmovies = len(df.groupby('movieId').count())\n",
    "nusers = len(df.groupby('userId').count())"
   ]
  },
  {
   "cell_type": "code",
   "execution_count": 83,
   "metadata": {},
   "outputs": [
    {
     "data": {
      "text/plain": [
       "(tensor([-0.0073, -0.0122,  0.0020,  0.0160], device='cuda:0',\n",
       "        grad_fn=<SelectBackward>),\n",
       " tensor([ 0.0148, -0.0172,  0.0087, -0.0065], device='cuda:0',\n",
       "        grad_fn=<SelectBackward>))"
      ]
     },
     "execution_count": 83,
     "metadata": {},
     "output_type": "execute_result"
    }
   ],
   "source": [
    "nfactors = 4\n",
    "U      = randn(nusers,  nfactors, device=device, dtype=dtype, requires_grad=True)\n",
    "M      = randn(nmovies, nfactors, device=device, dtype=dtype, requires_grad=True)\n",
    "U[4], M[1]"
   ]
  },
  {
   "cell_type": "markdown",
   "metadata": {},
   "source": [
    "Yannet says we want that average value for the dot product to be about 2.5 (roughly halfway between 0 and 5). The dot product is $\\sum_{i=1}^{nfactors} U_i M_i$. In this case we are using nfactors=4, which means we are adding the multi-location of 4 pairs of numbers. We want that some of products to centered around 2.5. We have chosen the random numbers to be centered at 0 (with standard deviation 0.01) by default. From [these notes](https://www.kellogg.northwestern.edu/faculty/weber/emp/_session_0/Probability.pdf), the expected value of a+b is the expected value of a plus the expected value of b;  the expected value of a x b is the expected value of a times the expected value of b **if** a and b our independent, which they are.  So each element (product) of the summation needs to be about 2.5/nfactors on average so that the sum is 2.5. Each operand of the product a x b must be sqrt(2.5/nfactors) on average, which is about 0.55."
   ]
  },
  {
   "cell_type": "code",
   "execution_count": 99,
   "metadata": {},
   "outputs": [],
   "source": [
    "import math\n",
    "U      = randn(nusers,  nfactors, device=device, dtype=dtype, requires_grad=True, mean=math.sqrt(2.5/nfactors))\n",
    "M      = randn(nmovies, nfactors, device=device, dtype=dtype, requires_grad=True, mean=math.sqrt(2.5/nfactors))"
   ]
  },
  {
   "cell_type": "code",
   "execution_count": 100,
   "metadata": {},
   "outputs": [
    {
     "data": {
      "text/plain": [
       "(torch.Size([593, 8]), torch.Size([3601, 8]), 593, 3601)"
      ]
     },
     "execution_count": 100,
     "metadata": {},
     "output_type": "execute_result"
    }
   ],
   "source": [
    "U.shape, M.shape, nusers, nmovies"
   ]
  },
  {
   "cell_type": "code",
   "execution_count": 101,
   "metadata": {},
   "outputs": [
    {
     "name": "stdout",
     "output_type": "stream",
     "text": [
      "Mean of prediction from random user and movie matrices is 2.4993679523468018\n"
     ]
    },
    {
     "data": {
      "image/png": "[encoded data removed]",
      "text/plain": [
       "<Figure size 432x288 with 1 Axes>"
      ]
     },
     "metadata": {
      "needs_background": "light"
     },
     "output_type": "display_data"
    }
   ],
   "source": [
    "userIds = torch.tensor(df['userId'].values, device=device)\n",
    "movieIds = torch.tensor(df['movieId'].values, device=device)\n",
    "ratings = torch.tensor(df['rating'].values, device=device)\n",
    "r_pred = (U[userIds] * M[movieIds]).sum(axis=1, keepdim=True)\n",
    "print(f\"Mean of prediction from random user and movie matrices is {torch.mean(r_pred)}\")\n",
    "r_pred = r_pred.cpu().detach().numpy()\n",
    "plt.hist(r_pred, bins=50)\n",
    "plt.show()"
   ]
  },
  {
   "cell_type": "markdown",
   "metadata": {},
   "source": [
    "For the bias, we need the average value of the sum of biases to be about 2.5, so we should use 2.5/nfactors for the average during initialization of biases."
   ]
  },
  {
   "cell_type": "markdown",
   "metadata": {},
   "source": [
    "### Momentum model with mean shifted for initialization"
   ]
  },
  {
   "cell_type": "code",
   "execution_count": null,
   "metadata": {},
   "outputs": [
    {
     "name": "stderr",
     "output_type": "stream",
     "text": [
      "/home/ubuntu/anaconda3/envs/pytorch_latest_p36/lib/python3.6/site-packages/ipykernel_launcher.py:17: UserWarning: To copy construct from a tensor, it is recommended to use sourceTensor.clone().detach() or sourceTensor.clone().detach().requires_grad_(True), rather than torch.tensor(sourceTensor).\n"
     ]
    },
    {
     "name": "stdout",
     "output_type": "stream",
     "text": [
      "Epoch   0 loss         6.74\n",
      "Epoch   5 loss         5.84\n",
      "Epoch  10 loss         5.13\n",
      "Epoch  15 loss         4.58\n",
      "Epoch  20 loss         4.15\n",
      "Epoch  25 loss         3.80\n",
      "Epoch  30 loss         3.51\n",
      "Epoch  35 loss         3.27\n",
      "Epoch  40 loss         3.07\n",
      "Epoch  45 loss         2.89\n",
      "Epoch  50 loss         2.74\n",
      "Epoch  55 loss         2.62\n",
      "Epoch  60 loss         2.50\n",
      "Epoch  65 loss         2.40\n",
      "Epoch  70 loss         2.32\n",
      "Epoch  75 loss         2.24\n",
      "Epoch  80 loss         2.17\n",
      "Epoch  85 loss         2.10\n",
      "Epoch  90 loss         2.05\n",
      "Epoch  95 loss         2.00\n",
      "Epoch 100 loss         1.95\n",
      "Epoch 105 loss         1.91\n",
      "Epoch 110 loss         1.87\n",
      "Epoch 115 loss         1.83\n",
      "Epoch 120 loss         1.80\n",
      "Epoch 125 loss         1.77\n",
      "Epoch 130 loss         1.74\n",
      "Epoch 135 loss         1.72\n",
      "Epoch 140 loss         1.70\n",
      "Epoch 145 loss         1.67\n",
      "Epoch 150 loss         1.65\n",
      "Epoch 155 loss         1.63\n",
      "Epoch 160 loss         1.62\n"
     ]
    }
   ],
   "source": [
    "nfactors = 4\n",
    "\n",
    "U      = randn(nusers,  nfactors, device=device, dtype=dtype, requires_grad=True, mean=math.sqrt(2.5/nfactors))\n",
    "U_bias = randn(nusers,  1,        device=device, dtype=dtype, requires_grad=True, mean=2.5/nfactors)\n",
    "M      = randn(nmovies, nfactors, device=device, dtype=dtype, requires_grad=True, mean=math.sqrt(2.5/nfactors))\n",
    "M_bias = randn(nmovies, 1,        device=device, dtype=dtype, requires_grad=True, mean=2.5/nfactors)\n",
    "\n",
    "learning_rate = 1\n",
    "momentum = .0\n",
    "for t in range(200):\n",
    "    userIds = torch.tensor(df['userId'].values, device=device)\n",
    "    movieIds = torch.tensor(df['movieId'].values, device=device)\n",
    "    ratings = torch.tensor(df['rating'].values, device=device)\n",
    "    r_pred = (U[userIds] * M[movieIds]).sum(axis=1, keepdim=True)\n",
    "    r_pred = torch.sigmoid(r_pred) * 5  # limit to 0..5\n",
    "    r_pred += (U_bias[df['userId']] + M_bias[df['movieId']])\n",
    "    diff = r_pred - torch.tensor(ratings)\n",
    "    loss = torch.mean( diff.pow(2) )\n",
    "    if t % 5 == 0:\n",
    "        print(f\"Epoch {t:3d} loss {loss:12.2f}\")\n",
    "\n",
    "    loss.backward() # autograd computes U.grad and M.grad\n",
    "\n",
    "    # Update weights; weights have requires_grad=True but we don't need to track these updates\n",
    "    with torch.no_grad():\n",
    "        U -= (momentum*U + learning_rate * U.grad)\n",
    "        M -= (momentum*M + learning_rate * M.grad)\n",
    "        U_bias -= (momentum*U_bias + learning_rate * U_bias.grad)\n",
    "        M_bias -= (momentum*M_bias + learning_rate * M_bias.grad)\n",
    "\n",
    "        U.grad.zero_() # reset gradients\n",
    "        M.grad.zero_()\n",
    "        U_bias.grad.zero_() # reset gradients\n",
    "        M_bias.grad.zero_()        "
   ]
  },
  {
   "cell_type": "code",
   "execution_count": null,
   "metadata": {},
   "outputs": [],
   "source": [
    "#RF_onehot(df, M.detach().numpy(), U.detach().numpy())\n",
    "RF_onehot(df, M.detach().cpu(), U.detach().cpu())"
   ]
  },
  {
   "cell_type": "code",
   "execution_count": null,
   "metadata": {},
   "outputs": [],
   "source": [
    "df_movies, vecs2D = plot_comedy_drama_embeddings(df, M.cpu().detach().numpy(), xrange=(-.25,.25), yrange=(-.1,.1))"
   ]
  },
  {
   "cell_type": "code",
   "execution_count": null,
   "metadata": {},
   "outputs": [],
   "source": []
  }
 ],
 "metadata": {
  "kernelspec": {
   "display_name": "Python 3",
   "language": "python",
   "name": "python3"
  },
  "language_info": {
   "codemirror_mode": {
    "name": "ipython",
    "version": 3
   },
   "file_extension": ".py",
   "mimetype": "text/x-python",
   "name": "python",
   "nbconvert_exporter": "python",
   "pygments_lexer": "ipython3",
   "version": "3.6.10"
  }
 },
 "nbformat": 4,
 "nbformat_minor": 4
}
