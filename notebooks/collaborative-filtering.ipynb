{
 "cells": [
  {
   "cell_type": "markdown",
   "metadata": {},
   "source": [
    "# Collaborative filtering\n",
    "\n",
    "To learn more about collaborative filtering and PyTorch, I'm going to derive an implementation based upon the ideas in [fastai book chapter 8](https://github.com/fastai/fastbook/blob/master/08_collab.ipynb) for user-movie-ratings from [MovieLens](https://grouplens.org/datasets/movielens/)."
   ]
  },
  {
   "cell_type": "markdown",
   "metadata": {},
   "source": [
    "## Get some movie reviews\n",
    "\n",
    "I will grab [a small subset](http://files.grouplens.org/datasets/movielens/ml-latest-small.zip) and put into `data` subdir:\n",
    "\n",
    "```\n",
    "data/ml-latest-small\n",
    "├── README.txt\n",
    "├── links.csv\n",
    "├── movies.csv\n",
    "├── ratings.csv\n",
    "└── tags.csv\n",
    "```\n",
    "\n",
    "\"*Ratings are made on a 5-star scale, with half-star increments (0.5 stars - 5.0 stars).*\" The `ratings.csv` file looks like:\n",
    "\n",
    "```\n",
    "userId,movieId,rating,timestamp\n",
    "1,1,4.0,964982703\n",
    "1,3,4.0,964981247\n",
    "1,6,4.0,964982224\n",
    "1,47,5.0,964983815\n",
    "...\n",
    "```\n",
    "\n",
    "And, in case we are curious, `movies.csv` has:\n",
    "\n",
    "```\n",
    "movieId,title,genres\n",
    "1,Toy Story (1995),Adventure|Animation|Children|Comedy|Fantasy\n",
    "2,Jumanji (1995),Adventure|Children|Fantasy\n",
    "3,Grumpier Old Men (1995),Comedy|Romance\n",
    "...\n",
    "```"
   ]
  },
  {
   "cell_type": "code",
   "execution_count": 610,
   "metadata": {},
   "outputs": [],
   "source": [
    "import pandas as pd\n",
    "import torch  # Let's try this with PyTorch not numpy\n",
    "# import numpy as np\n",
    "import re\n",
    "# np.set_printoptions(precision=2, suppress=True, linewidth=3000, threshold=20000)\n",
    "\n",
    "def load(n = 10):\n",
    "    df_ratings = pd.read_csv('data/ml-latest-small/ratings.csv')\n",
    "    df_ratings = df_ratings.drop('timestamp', axis=1)\n",
    "    df_ratings = df_ratings.sample(n=n).reset_index(drop=True)\n",
    "    # Merge in the title and genres\n",
    "    df_movies = pd.read_csv('data/ml-latest-small/movies.csv')\n",
    "    df = df_ratings.merge(df_movies, on='movieId')\n",
    "    # Strip the \"(1999)\" dates from the titles\n",
    "    p = re.compile(r'[()0-9]+$')\n",
    "    df['title'] = df['title'].map(lambda x: p.sub('', x).strip())\n",
    "    return df\n",
    "\n",
    "def compress_cats(df, colname):\n",
    "    df[colname] = df[colname].astype('category').cat.as_ordered()\n",
    "    df[colname] = df[colname].cat.codes # encode 0..n-1  NB: Different than I usually do (1..n)!!!!\n",
    "    df[colname] = df[colname].astype(int)"
   ]
  },
  {
   "cell_type": "markdown",
   "metadata": {},
   "source": [
    "## Matrix of user x movie with ratings as elements"
   ]
  },
  {
   "cell_type": "markdown",
   "metadata": {},
   "source": [
    "Let's create a matrix that maps user and movie to a rating. Most of the entries will be zero because not all users have seen all movies. We can start with just a few records so that we can see the entire matrix at once. Zeros in the matrix indicate that the user has not rated that movie. $R_{u,m}$ is rating for user $u$ and movie $m$."
   ]
  },
  {
   "cell_type": "code",
   "execution_count": 611,
   "metadata": {},
   "outputs": [
    {
     "data": {
      "text/html": [
       "<div>\n",
       "<style scoped>\n",
       "    .dataframe tbody tr th:only-of-type {\n",
       "        vertical-align: middle;\n",
       "    }\n",
       "\n",
       "    .dataframe tbody tr th {\n",
       "        vertical-align: top;\n",
       "    }\n",
       "\n",
       "    .dataframe thead th {\n",
       "        text-align: right;\n",
       "    }\n",
       "</style>\n",
       "<table border=\"1\" class=\"dataframe\">\n",
       "  <thead>\n",
       "    <tr style=\"text-align: right;\">\n",
       "      <th></th>\n",
       "      <th>userId</th>\n",
       "      <th>movieId</th>\n",
       "      <th>rating</th>\n",
       "      <th>title</th>\n",
       "      <th>genres</th>\n",
       "    </tr>\n",
       "  </thead>\n",
       "  <tbody>\n",
       "    <tr>\n",
       "      <td>0</td>\n",
       "      <td>0</td>\n",
       "      <td>4</td>\n",
       "      <td>4.5</td>\n",
       "      <td>Harold and Kumar Go to White Castle</td>\n",
       "      <td>Adventure|Comedy</td>\n",
       "    </tr>\n",
       "    <tr>\n",
       "      <td>1</td>\n",
       "      <td>3</td>\n",
       "      <td>2</td>\n",
       "      <td>4.0</td>\n",
       "      <td>Night of the Living Dead</td>\n",
       "      <td>Horror|Sci-Fi|Thriller</td>\n",
       "    </tr>\n",
       "    <tr>\n",
       "      <td>2</td>\n",
       "      <td>5</td>\n",
       "      <td>5</td>\n",
       "      <td>2.5</td>\n",
       "      <td>Purge, The</td>\n",
       "      <td>Crime|Horror|Thriller</td>\n",
       "    </tr>\n",
       "    <tr>\n",
       "      <td>3</td>\n",
       "      <td>1</td>\n",
       "      <td>0</td>\n",
       "      <td>3.0</td>\n",
       "      <td>Clerks</td>\n",
       "      <td>Comedy</td>\n",
       "    </tr>\n",
       "    <tr>\n",
       "      <td>4</td>\n",
       "      <td>4</td>\n",
       "      <td>3</td>\n",
       "      <td>3.5</td>\n",
       "      <td>Simone (S1m0ne)</td>\n",
       "      <td>Comedy|Drama|Fantasy|Sci-Fi</td>\n",
       "    </tr>\n",
       "    <tr>\n",
       "      <td>5</td>\n",
       "      <td>2</td>\n",
       "      <td>1</td>\n",
       "      <td>4.0</td>\n",
       "      <td>Silence of the Lambs, The</td>\n",
       "      <td>Crime|Horror|Thriller</td>\n",
       "    </tr>\n",
       "  </tbody>\n",
       "</table>\n",
       "</div>"
      ],
      "text/plain": [
       "   userId  movieId  rating                                title  \\\n",
       "0       0        4     4.5  Harold and Kumar Go to White Castle   \n",
       "1       3        2     4.0             Night of the Living Dead   \n",
       "2       5        5     2.5                           Purge, The   \n",
       "3       1        0     3.0                               Clerks   \n",
       "4       4        3     3.5                      Simone (S1m0ne)   \n",
       "5       2        1     4.0            Silence of the Lambs, The   \n",
       "\n",
       "                        genres  \n",
       "0             Adventure|Comedy  \n",
       "1       Horror|Sci-Fi|Thriller  \n",
       "2        Crime|Horror|Thriller  \n",
       "3                       Comedy  \n",
       "4  Comedy|Drama|Fantasy|Sci-Fi  \n",
       "5        Crime|Horror|Thriller  "
      ]
     },
     "execution_count": 611,
     "metadata": {},
     "output_type": "execute_result"
    }
   ],
   "source": [
    "df = load(n=6)\n",
    "nmovies = len(df.groupby('movieId').count())\n",
    "nusers = len(df.groupby('movieId').count())\n",
    "compress_cats(df, 'movieId') # make IDs 0..nmovies-1\n",
    "compress_cats(df, 'userId')\n",
    "df"
   ]
  },
  {
   "cell_type": "code",
   "execution_count": 612,
   "metadata": {},
   "outputs": [],
   "source": [
    "dtype = torch.float\n",
    "device = torch.device('cuda:0' if torch.cuda.is_available() else 'cpu')"
   ]
  },
  {
   "cell_type": "code",
   "execution_count": 613,
   "metadata": {},
   "outputs": [
    {
     "data": {
      "text/plain": [
       "tensor([[0.0000, 0.0000, 0.0000, 0.0000, 4.5000, 0.0000],\n",
       "        [3.0000, 0.0000, 0.0000, 0.0000, 0.0000, 0.0000],\n",
       "        [0.0000, 4.0000, 0.0000, 0.0000, 0.0000, 0.0000],\n",
       "        [0.0000, 0.0000, 4.0000, 0.0000, 0.0000, 0.0000],\n",
       "        [0.0000, 0.0000, 0.0000, 3.5000, 0.0000, 0.0000],\n",
       "        [0.0000, 0.0000, 0.0000, 0.0000, 0.0000, 2.5000]])"
      ]
     },
     "execution_count": 613,
     "metadata": {},
     "output_type": "execute_result"
    }
   ],
   "source": [
    "def R_matrix(df):\n",
    "    nmovies = len(df.groupby('movieId').count())\n",
    "    nusers = len(df.groupby('movieId').count())\n",
    "    R = torch.zeros(nusers, nmovies, device=device, dtype=dtype)\n",
    "    for u,m,r,_,_ in df.values:\n",
    "        R[u,m] = r  # user u and movie m get rating r\n",
    "    return R\n",
    "\n",
    "R = R_matrix(df)\n",
    "R"
   ]
  },
  {
   "cell_type": "markdown",
   "metadata": {},
   "source": [
    "## Latent factors == dense embedding vectors\n",
    "\n",
    "The goal is to replace the 0s with a predicted rating, just as I did when [creating the embeddings](catvar-embeddings-split-homebrew.ipynb), but this time we will do it with (probabilistic) matrix factorization. The idea is to conjure up two matrices whose matrix multiplication is our ratings matrix.  In other words, $U M^T = R$ for user matrix $U$ and movie matrix $M$. Let's say that we want 4 latent factors for each user and each movie, meaning that the dense embedding vectors are 4 dimensional. $U$ would then be nusers x 4 and $M$ would be nmovies x 4.  For the ith user and jth movie, $U_i \\cdot M_j$ would represent the rating at $R_{i,j}$.\n",
    "\n",
    "We initialize the user and movie embedding matrices randomly:"
   ]
  },
  {
   "cell_type": "code",
   "execution_count": 614,
   "metadata": {},
   "outputs": [
    {
     "data": {
      "text/plain": [
       "tensor([[-2.3567,  0.4806, -0.9142,  0.0654],\n",
       "        [ 1.2760,  1.2665,  1.3291, -1.1186],\n",
       "        [-0.1946, -0.4975,  0.0156,  0.1286],\n",
       "        [ 1.2433, -0.6091,  0.5410, -1.2932],\n",
       "        [ 0.9676,  0.4322,  1.2252,  0.1432],\n",
       "        [ 0.2706,  0.4472,  1.0533,  0.5597]])"
      ]
     },
     "execution_count": 614,
     "metadata": {},
     "output_type": "execute_result"
    }
   ],
   "source": [
    "nfactors = 4\n",
    "U = torch.randn(nusers,  nfactors, device=device, dtype=dtype)\n",
    "M = torch.randn(nmovies, nfactors, device=device, dtype=dtype)\n",
    "U"
   ]
  },
  {
   "cell_type": "markdown",
   "metadata": {},
   "source": [
    "Our first prediction is garbage but this explains the operation we want to perform to get a predicted $R$ matrix:"
   ]
  },
  {
   "cell_type": "code",
   "execution_count": 615,
   "metadata": {},
   "outputs": [
    {
     "data": {
      "text/plain": [
       "tensor([[-9.4883e-01, -2.3369e+00, -4.4979e+00,  4.6588e+00,  1.1498e+00,\n",
       "          6.1324e+00],\n",
       "        [ 5.6312e-01,  2.5805e+00,  2.1102e+00, -3.4640e+00, -3.3757e+00,\n",
       "         -2.0747e-01],\n",
       "        [-4.5606e-01,  1.1930e-01,  7.6294e-04,  1.1464e-01,  5.2494e-01,\n",
       "         -4.9249e-01],\n",
       "        [ 2.0399e-01,  8.1933e-01,  2.2545e+00, -4.4447e+00, -3.2551e+00,\n",
       "         -3.7696e+00],\n",
       "        [-2.9857e-02,  2.9612e+00,  2.3110e+00, -1.8014e+00, -2.2356e-01,\n",
       "         -1.1981e+00],\n",
       "        [-4.5691e-01,  2.6921e+00,  1.2342e+00, -4.1265e-02,  1.0288e+00,\n",
       "          3.5872e-01]])"
      ]
     },
     "execution_count": 615,
     "metadata": {},
     "output_type": "execute_result"
    }
   ],
   "source": [
    "R_pred = U.mm(M.T)\n",
    "R_pred"
   ]
  },
  {
   "cell_type": "markdown",
   "metadata": {},
   "source": [
    "## Objective (loss) function\n",
    "\n",
    "So those user and movie matrices are random and of course the resulting ratings are useless.  Understanding how good or bad they are is useful metric and of course what we will optimize to construct proper user and movie matrices. As a starting point, let's just look at the MSE:"
   ]
  },
  {
   "cell_type": "code",
   "execution_count": 616,
   "metadata": {},
   "outputs": [
    {
     "data": {
      "text/plain": [
       "tensor(7.2239)"
      ]
     },
     "execution_count": 616,
     "metadata": {},
     "output_type": "execute_result"
    }
   ],
   "source": [
    "loss = torch.mean( (R - R_pred).pow(2) )\n",
    "loss"
   ]
  },
  {
   "cell_type": "markdown",
   "metadata": {},
   "source": [
    "## Minimizing the loss function (gradient descent with momentum)\n",
    "\n",
    "Let's do this using autograd and simple gradient descent (with momentum)."
   ]
  },
  {
   "cell_type": "code",
   "execution_count": 617,
   "metadata": {},
   "outputs": [],
   "source": [
    "df = load(n=10_000)\n",
    "compress_cats(df, 'movieId') # make IDs 0..nmovies-1\n",
    "compress_cats(df, 'userId')\n",
    "\n",
    "nmovies = len(df.groupby('movieId').count())\n",
    "nusers = len(df.groupby('movieId').count())\n",
    "nfactors = 4\n",
    "\n",
    "R = R_matrix(df)\n",
    "\n",
    "U = torch.randn(nusers,  nfactors, device=device, dtype=dtype, requires_grad=True)  # <-- track for autograd\n",
    "M = torch.randn(nmovies, nfactors, device=device, dtype=dtype, requires_grad=True)"
   ]
  },
  {
   "cell_type": "code",
   "execution_count": 618,
   "metadata": {},
   "outputs": [
    {
     "name": "stdout",
     "output_type": "stream",
     "text": [
      "Epoch   0 loss         4.00\n",
      "Epoch  10 loss         1.45\n",
      "Epoch  20 loss         0.66\n",
      "Epoch  30 loss         0.34\n",
      "Epoch  40 loss         0.19\n",
      "Epoch  50 loss         0.12\n",
      "Epoch  60 loss         0.07\n",
      "Epoch  70 loss         0.05\n",
      "Epoch  80 loss         0.03\n",
      "Epoch  90 loss         0.03\n"
     ]
    }
   ],
   "source": [
    "learning_rate = 35\n",
    "momentum = .01\n",
    "for t in range(100):\n",
    "    R_pred = U.mm(M.T) # predict ratings\n",
    "    \n",
    "    loss = torch.mean( (R - R_pred).pow(2) ) # compute objective function\n",
    "    if t % 10 == 0:\n",
    "        print(f\"Epoch {t:3d} loss {loss:12.2f}\")\n",
    "\n",
    "    loss.backward() # autograd\n",
    "\n",
    "    # Update weights; weights have requires_grad=True but we don't need to track these updates\n",
    "    with torch.no_grad():\n",
    "        U -= (momentum*U + learning_rate * U.grad)\n",
    "        M -= (momentum*M + learning_rate * M.grad)\n",
    "\n",
    "        U.grad.zero_() # reset gradients\n",
    "        M.grad.zero_()"
   ]
  },
  {
   "cell_type": "markdown",
   "metadata": {},
   "source": [
    "That says that the accuracy is very good so let's check it out."
   ]
  },
  {
   "cell_type": "markdown",
   "metadata": {},
   "source": [
    "## Check accuracy of embeddings via RF"
   ]
  },
  {
   "cell_type": "code",
   "execution_count": 619,
   "metadata": {},
   "outputs": [],
   "source": [
    "import numpy as np\n",
    "from sklearn.model_selection import train_test_split\n",
    "from sklearn.model_selection import cross_val_score\n",
    "from sklearn.ensemble import RandomForestClassifier, RandomForestRegressor\n",
    "\n",
    "def RF_onehot(df, movie_embeddings, user_embeddings):\n",
    "    X = df[['movieId','userId']]\n",
    "    y = df['rating']\n",
    "    X_emb = np.concatenate([movie_embeddings[X['movieId']],user_embeddings[X['userId']]], axis=1)\n",
    "#     X_train, X_test, y_train, y_test = train_test_split(X_emb, y, test_size=0.2)\n",
    "\n",
    "    rf = RandomForestRegressor(n_estimators=100, n_jobs=-1, oob_score=True)\n",
    "    rf.fit(X_emb, y)\n",
    "    print(f\"OOB R^2 {rf.oob_score_:.3f}\")\n",
    "    print(f\"Train R^2 {rf.score(X_emb, y):.3f}\")\n",
    "    # OOB seems close enough and much faster\n",
    "#     scores = cross_val_score(rf, X_emb, y, cv=5)\n",
    "#     print(f\"5-fold valid R^2 {np.mean(scores):.3f}\")"
   ]
  },
  {
   "cell_type": "code",
   "execution_count": 620,
   "metadata": {},
   "outputs": [
    {
     "name": "stdout",
     "output_type": "stream",
     "text": [
      "OOB R^2 0.087\n",
      "Train R^2 0.874\n"
     ]
    }
   ],
   "source": [
    "RF_onehot(df, M.cpu().detach().numpy(), U.cpu().detach().numpy())\n",
    "#torch.cuda.is_available()"
   ]
  },
  {
   "cell_type": "markdown",
   "metadata": {},
   "source": [
    "Ok, so that accuracy is terrible, barely above guessing the average. What is going on?"
   ]
  },
  {
   "cell_type": "markdown",
   "metadata": {},
   "source": [
    "## Loss should only consider nonzero ratings\n",
    "\n",
    "Well, it seems that the matrix multiplication is the problem because $R$ it is mostly zeros. That means that we are training the vectors to get zeros in the missing spots, which is not what we want. Instead, the loss function needs to consider only the nonzero records. So rather than create $R$, let's just walk through the training records, which are the only non-zero values in the user x movie matrix. I asked [Yannet](https://www.usfca.edu/faculty/yannet-interian) and she confirmed for me that you want to avoid computing the loss on the zeros, which is also very expensive anyway. She said to focus just on the training records."
   ]
  },
  {
   "cell_type": "code",
   "execution_count": 621,
   "metadata": {},
   "outputs": [],
   "source": [
    "np.random.seed(1) # keep same records\n",
    "df = load(n=10)\n",
    "compress_cats(df, 'movieId') # make IDs 0..nmovies-1\n",
    "compress_cats(df, 'userId')\n",
    "\n",
    "nmovies = len(df.groupby('movieId').count())\n",
    "nusers = len(df.groupby('movieId').count())\n",
    "nfactors = 4\n",
    "\n",
    "U = torch.randn(nusers,  nfactors, device=device, dtype=dtype, requires_grad=True)  # <-- track for autograd\n",
    "M = torch.randn(nmovies, nfactors, device=device, dtype=dtype, requires_grad=True)"
   ]
  },
  {
   "cell_type": "code",
   "execution_count": 622,
   "metadata": {},
   "outputs": [
    {
     "data": {
      "text/plain": [
       "tensor([[-0.7677,  0.6254,  0.1668, -0.2537],\n",
       "        [-2.1686, -0.4216,  1.1956,  0.1408],\n",
       "        [-0.2830,  0.6639, -0.1253, -0.5233],\n",
       "        [ 0.1065,  0.5178,  1.2483,  0.1965],\n",
       "        [ 1.1581,  0.3224,  0.9753, -0.3149],\n",
       "        [-0.1190, -1.4994, -1.0066,  0.3455],\n",
       "        [-1.1671, -0.9641, -0.6436, -1.1704],\n",
       "        [ 0.1138,  1.7726, -0.5785, -0.2846],\n",
       "        [-0.6599, -0.3149,  0.2906, -1.7122],\n",
       "        [ 0.7733, -0.3311,  0.4448,  0.1473]], requires_grad=True)"
      ]
     },
     "execution_count": 622,
     "metadata": {},
     "output_type": "execute_result"
    }
   ],
   "source": [
    "U"
   ]
  },
  {
   "cell_type": "code",
   "execution_count": 623,
   "metadata": {},
   "outputs": [
    {
     "data": {
      "text/plain": [
       "tensor([[ 1.6013, -0.4835,  0.9654, -0.4232],\n",
       "        [ 0.8355, -0.4418, -1.0150,  0.9663],\n",
       "        [-0.7201,  0.7213,  1.5216,  2.4536],\n",
       "        [-1.4362, -0.1996, -0.6390,  0.6027],\n",
       "        [ 0.2211, -1.4621,  0.4398, -1.3325],\n",
       "        [-1.5834, -1.6886,  1.6308,  1.0498],\n",
       "        [ 0.8548,  0.7392, -1.0434,  1.3631],\n",
       "        [ 1.2798, -0.7727, -0.3548,  0.0755],\n",
       "        [ 0.1606, -0.3656,  1.4010, -0.5119],\n",
       "        [ 0.2149,  0.8761,  1.9132,  0.0103]], requires_grad=True)"
      ]
     },
     "execution_count": 623,
     "metadata": {},
     "output_type": "execute_result"
    }
   ],
   "source": [
    "M"
   ]
  },
  {
   "cell_type": "code",
   "execution_count": 624,
   "metadata": {},
   "outputs": [
    {
     "data": {
      "text/html": [
       "<div>\n",
       "<style scoped>\n",
       "    .dataframe tbody tr th:only-of-type {\n",
       "        vertical-align: middle;\n",
       "    }\n",
       "\n",
       "    .dataframe tbody tr th {\n",
       "        vertical-align: top;\n",
       "    }\n",
       "\n",
       "    .dataframe thead th {\n",
       "        text-align: right;\n",
       "    }\n",
       "</style>\n",
       "<table border=\"1\" class=\"dataframe\">\n",
       "  <thead>\n",
       "    <tr style=\"text-align: right;\">\n",
       "      <th></th>\n",
       "      <th>userId</th>\n",
       "      <th>movieId</th>\n",
       "      <th>rating</th>\n",
       "      <th>title</th>\n",
       "      <th>genres</th>\n",
       "    </tr>\n",
       "  </thead>\n",
       "  <tbody>\n",
       "    <tr>\n",
       "      <td>0</td>\n",
       "      <td>4</td>\n",
       "      <td>1</td>\n",
       "      <td>3.0</td>\n",
       "      <td>True Lies</td>\n",
       "      <td>Action|Adventure|Comedy|Romance|Thriller</td>\n",
       "    </tr>\n",
       "    <tr>\n",
       "      <td>1</td>\n",
       "      <td>8</td>\n",
       "      <td>8</td>\n",
       "      <td>5.0</td>\n",
       "      <td>Conjuring, The</td>\n",
       "      <td>Horror|Thriller</td>\n",
       "    </tr>\n",
       "  </tbody>\n",
       "</table>\n",
       "</div>"
      ],
      "text/plain": [
       "   userId  movieId  rating           title  \\\n",
       "0       4        1     3.0       True Lies   \n",
       "1       8        8     5.0  Conjuring, The   \n",
       "\n",
       "                                     genres  \n",
       "0  Action|Adventure|Comedy|Romance|Thriller  \n",
       "1                           Horror|Thriller  "
      ]
     },
     "execution_count": 624,
     "metadata": {},
     "output_type": "execute_result"
    }
   ],
   "source": [
    "df.head(2)"
   ]
  },
  {
   "cell_type": "markdown",
   "metadata": {},
   "source": [
    "Looking at the first record, we see user 4 and movie 1, which we can use to select from the user and move the embeddings matrices:"
   ]
  },
  {
   "cell_type": "code",
   "execution_count": 625,
   "metadata": {},
   "outputs": [
    {
     "data": {
      "text/plain": [
       "(tensor([ 1.1581,  0.3224,  0.9753, -0.3149], grad_fn=<SelectBackward>),\n",
       " tensor([ 0.8355, -0.4418, -1.0150,  0.9663], grad_fn=<SelectBackward>))"
      ]
     },
     "execution_count": 625,
     "metadata": {},
     "output_type": "execute_result"
    }
   ],
   "source": [
    "U[4], M[1]"
   ]
  },
  {
   "cell_type": "markdown",
   "metadata": {},
   "source": [
    "Using those two vectors, their dot product is our predicted rating:"
   ]
  },
  {
   "cell_type": "code",
   "execution_count": 626,
   "metadata": {},
   "outputs": [
    {
     "data": {
      "text/plain": [
       "tensor(-0.4690, grad_fn=<DotBackward>)"
      ]
     },
     "execution_count": 626,
     "metadata": {},
     "output_type": "execute_result"
    }
   ],
   "source": [
    "r_pred = U[4].dot(M[1])\n",
    "r_pred"
   ]
  },
  {
   "cell_type": "markdown",
   "metadata": {},
   "source": [
    "The loss associated with this one record is not good as we would expect given the random embeddings:"
   ]
  },
  {
   "cell_type": "code",
   "execution_count": 627,
   "metadata": {},
   "outputs": [
    {
     "data": {
      "text/plain": [
       "tensor(12.0343, grad_fn=<PowBackward0>)"
      ]
     },
     "execution_count": 627,
     "metadata": {},
     "output_type": "execute_result"
    }
   ],
   "source": [
    "(df.iloc[0]['rating'] - r_pred).pow(2)"
   ]
  },
  {
   "cell_type": "markdown",
   "metadata": {},
   "source": [
    "If we want to do this with the first two records, we can use a list of user and movie IDs.For example, here are the user embeddings for the first two training records:"
   ]
  },
  {
   "cell_type": "code",
   "execution_count": 628,
   "metadata": {},
   "outputs": [
    {
     "data": {
      "text/plain": [
       "tensor([[ 1.1581,  0.3224,  0.9753, -0.3149],\n",
       "        [-0.6599, -0.3149,  0.2906, -1.7122]], grad_fn=<IndexBackward>)"
      ]
     },
     "execution_count": 628,
     "metadata": {},
     "output_type": "execute_result"
    }
   ],
   "source": [
    "U[[4,8]]"
   ]
  },
  {
   "cell_type": "markdown",
   "metadata": {},
   "source": [
    "Now, we need the dot product for each vector in `U[[4,8]]` and `M[[1,8]]`, which is element-wise modification followed by a some, for for each record. We should get to numbers out of this:"
   ]
  },
  {
   "cell_type": "code",
   "execution_count": 629,
   "metadata": {},
   "outputs": [
    {
     "data": {
      "text/plain": [
       "tensor([[ 0.9676, -0.1424, -0.9899, -0.3043],\n",
       "        [-0.1060,  0.1151,  0.4072,  0.8764]], grad_fn=<MulBackward0>)"
      ]
     },
     "execution_count": 629,
     "metadata": {},
     "output_type": "execute_result"
    }
   ],
   "source": [
    "U[[4,8]] * M[[1,8]]"
   ]
  },
  {
   "cell_type": "code",
   "execution_count": 630,
   "metadata": {},
   "outputs": [
    {
     "data": {
      "text/plain": [
       "tensor([-0.4690,  1.2927], grad_fn=<SumBackward1>)"
      ]
     },
     "execution_count": 630,
     "metadata": {},
     "output_type": "execute_result"
    }
   ],
   "source": [
    "(U[[4,8]] * M[[1,8]]).sum(axis=1)"
   ]
  },
  {
   "cell_type": "markdown",
   "metadata": {},
   "source": [
    "The MSE is just the average squared difference of those two from the known rating:"
   ]
  },
  {
   "cell_type": "code",
   "execution_count": 631,
   "metadata": {},
   "outputs": [
    {
     "data": {
      "text/plain": [
       "tensor(12.8892, grad_fn=<MeanBackward0>)"
      ]
     },
     "execution_count": 631,
     "metadata": {},
     "output_type": "execute_result"
    }
   ],
   "source": [
    "diff = (U[[4,8]] * M[[1,8]]).sum(axis=1) - torch.tensor([3.0,5.0], device=device)\n",
    "loss = torch.mean( diff.pow(2) )\n",
    "loss"
   ]
  },
  {
   "cell_type": "markdown",
   "metadata": {},
   "source": [
    "We could walk with a loop through the training values like this:"
   ]
  },
  {
   "cell_type": "code",
   "execution_count": 632,
   "metadata": {},
   "outputs": [
    {
     "name": "stdout",
     "output_type": "stream",
     "text": [
      "tensor(20.4831, grad_fn=<PowBackward0>)\n",
      "tensor(2.1004, grad_fn=<PowBackward0>)\n",
      "tensor(7.6390, grad_fn=<PowBackward0>)\n",
      "tensor(48.6873, grad_fn=<PowBackward0>)\n",
      "tensor(24.2220, grad_fn=<PowBackward0>)\n"
     ]
    }
   ],
   "source": [
    "# slow\n",
    "for u,m,r,_,_ in df.values[:5]:\n",
    "    loss = (U[u].dot(U[m]) - r).pow(2)\n",
    "    print(loss)"
   ]
  },
  {
   "cell_type": "markdown",
   "metadata": {},
   "source": [
    "But, the cool kids would vectorized this:"
   ]
  },
  {
   "cell_type": "code",
   "execution_count": 633,
   "metadata": {},
   "outputs": [
    {
     "data": {
      "text/plain": [
       "tensor(0.3166, grad_fn=<MeanBackward0>)"
      ]
     },
     "execution_count": 633,
     "metadata": {},
     "output_type": "execute_result"
    }
   ],
   "source": [
    "loss = torch.mean( (U[df['userId']] * M[df['movieId']]).sum(axis=1) )\n",
    "loss"
   ]
  },
  {
   "cell_type": "markdown",
   "metadata": {},
   "source": [
    "### Minimize loss just on training samples (new gradient descent)"
   ]
  },
  {
   "cell_type": "code",
   "execution_count": 634,
   "metadata": {},
   "outputs": [],
   "source": [
    "df = load(n=20_000)\n",
    "compress_cats(df, 'movieId') # make IDs 0..nmovies-1\n",
    "compress_cats(df, 'userId')\n",
    "\n",
    "nmovies = len(df.groupby('movieId').count())\n",
    "nusers = len(df.groupby('movieId').count())"
   ]
  },
  {
   "cell_type": "code",
   "execution_count": 638,
   "metadata": {},
   "outputs": [
    {
     "name": "stderr",
     "output_type": "stream",
     "text": [
      "/Users/parrt/opt/anaconda3/lib/python3.7/site-packages/ipykernel_launcher.py:11: UserWarning: To copy construct from a tensor, it is recommended to use sourceTensor.clone().detach() or sourceTensor.clone().detach().requires_grad_(True), rather than torch.tensor(sourceTensor).\n",
      "  # This is added back by InteractiveShellApp.init_path()\n"
     ]
    },
    {
     "name": "stdout",
     "output_type": "stream",
     "text": [
      "Epoch   0 loss        17.94\n",
      "Epoch  10 loss         8.12\n",
      "Epoch  20 loss         3.12\n",
      "Epoch  30 loss         1.60\n",
      "Epoch  40 loss         1.05\n",
      "Epoch  50 loss         0.95\n",
      "Epoch  60 loss         0.88\n",
      "Epoch  70 loss         0.90\n",
      "Epoch  80 loss         0.84\n",
      "Epoch  90 loss         0.81\n"
     ]
    }
   ],
   "source": [
    "U = torch.randn(nusers,  nfactors, device=device, dtype=dtype, requires_grad=True)  # <-- track for autograd\n",
    "M = torch.randn(nmovies, nfactors, device=device, dtype=dtype, requires_grad=True)\n",
    "\n",
    "nfactors = 4\n",
    "learning_rate = 45\n",
    "momentum = .015\n",
    "for t in range(100):\n",
    "    userIds = torch.tensor(df['userId'].values, device=device)\n",
    "    movieIds = torch.tensor(df['movieId'].values, device=device)\n",
    "    ratings = torch.tensor(df['rating'].values, device=device)\n",
    "    diff = (U[userIds] * M[movieIds]).sum(axis=1) - torch.tensor(ratings)\n",
    "    loss = torch.mean( diff.pow(2) )\n",
    "    if t % 10 == 0:\n",
    "        print(f\"Epoch {t:3d} loss {loss:12.2f}\")\n",
    "\n",
    "    loss.backward() # autograd computes U.grad and M.grad\n",
    "\n",
    "    # Update weights; weights have requires_grad=True but we don't need to track these updates\n",
    "    with torch.no_grad():\n",
    "        U -= (momentum*U + learning_rate * U.grad)\n",
    "        M -= (momentum*M + learning_rate * M.grad)\n",
    "\n",
    "        U.grad.zero_() # reset gradients\n",
    "        M.grad.zero_()"
   ]
  },
  {
   "cell_type": "code",
   "execution_count": 639,
   "metadata": {},
   "outputs": [
    {
     "name": "stdout",
     "output_type": "stream",
     "text": [
      "OOB R^2 0.489\n",
      "Train R^2 0.930\n"
     ]
    }
   ],
   "source": [
    "#RF_onehot(df, M.detach().numpy(), U.detach().numpy())\n",
    "RF_onehot(df, M.detach().cpu(), U.detach().cpu())"
   ]
  },
  {
   "cell_type": "code",
   "execution_count": 640,
   "metadata": {},
   "outputs": [],
   "source": [
    "from sklearn.decomposition import PCA\n",
    "import matplotlib.pyplot as plt\n",
    "\n",
    "def plot_comedy_drama_embeddings(df, movie_embeddings, xrange=(-.3,.3), yrange=(-.15,.15)):\n",
    "    # get unique movie ID and title and genres\n",
    "    df_movies = df.sort_values('movieId')[['movieId','title','genres']]\n",
    "    df_movies = df_movies.drop_duplicates()\n",
    "    df_movies = df_movies[(df_movies['genres']=='Comedy')|(df_movies['genres']=='Drama')]\n",
    "    movie_embeddings = movie_embeddings[df_movies['movieId']]\n",
    "    \n",
    "    plt.figure(figsize=(5,5))\n",
    "    movieIds = df_movies['movieId'].values\n",
    "    genres = df_movies['genres'].values\n",
    "    titles = df_movies['title'].values\n",
    "    pca = PCA(n_components=2)\n",
    "    vecs2D = pca.fit_transform(movie_embeddings)\n",
    "    c = [('k' if genres[i]=='Comedy' else 'r') for i in range(len(vecs2D))]\n",
    "    plt.scatter(vecs2D[:,0], vecs2D[:,1], c=c, s=5, alpha=.5)\n",
    "    plt.xlim(*xrange)\n",
    "    plt.ylim(*yrange)\n",
    "    plt.show()\n",
    "    return df_movies, vecs2D"
   ]
  },
  {
   "cell_type": "code",
   "execution_count": 641,
   "metadata": {},
   "outputs": [
    {
     "data": {
      "image/png": "[encoded data removed]",
      "text/plain": [
       "<Figure size 360x360 with 1 Axes>"
      ]
     },
     "metadata": {
      "needs_background": "light"
     },
     "output_type": "display_data"
    }
   ],
   "source": [
    "df_movies, vecs2D = plot_comedy_drama_embeddings(df, M.cpu().detach().numpy(), xrange=(-2,2), yrange=(-1.5,1.5))"
   ]
  },
  {
   "cell_type": "markdown",
   "metadata": {},
   "source": [
    "### Learn to use bokeh\n",
    "\n",
    "Derived from [Collaborative Filtering and Embeddings — Part 2 by Shikhar Gupta](https://towardsdatascience.com/collaborative-filtering-and-embeddings-part-2-919da17ecefb), alumnus of USFCA MSDS. :)  This pops up another window and hover shows title/genre."
   ]
  },
  {
   "cell_type": "code",
   "execution_count": 642,
   "metadata": {},
   "outputs": [
    {
     "data": {
      "text/html": [
       "\n",
       "    <div class=\"bk-root\">\n",
       "        <a href=\"https://bokeh.pydata.org\" target=\"_blank\" class=\"bk-logo bk-logo-small bk-logo-notebook\"></a>\n",
       "        <span id=\"2501\">Loading BokehJS ...</span>\n",
       "    </div>"
      ]
     },
     "metadata": {},
     "output_type": "display_data"
    },
    {
     "data": {
      "application/javascript": [
       "\n",
       "(function(root) {\n",
       "  function now() {\n",
       "    return new Date();\n",
       "  }\n",
       "\n",
       "  var force = true;\n",
       "\n",
       "  if (typeof root._bokeh_onload_callbacks === \"undefined\" || force === true) {\n",
       "    root._bokeh_onload_callbacks = [];\n",
       "    root._bokeh_is_loading = undefined;\n",
       "  }\n",
       "\n",
       "  var JS_MIME_TYPE = 'application/javascript';\n",
       "  var HTML_MIME_TYPE = 'text/html';\n",
       "  var EXEC_MIME_TYPE = 'application/vnd.bokehjs_exec.v0+json';\n",
       "  var CLASS_NAME = 'output_bokeh rendered_html';\n",
       "\n",
       "  /**\n",
       "   * Render data to the DOM node\n",
       "   */\n",
       "  function render(props, node) {\n",
       "    var script = document.createElement(\"script\");\n",
       "    node.appendChild(script);\n",
       "  }\n",
       "\n",
       "  /**\n",
       "   * Handle when an output is cleared or removed\n",
       "   */\n",
       "  function handleClearOutput(event, handle) {\n",
       "    var cell = handle.cell;\n",
       "\n",
       "    var id = cell.output_area._bokeh_element_id;\n",
       "    var server_id = cell.output_area._bokeh_server_id;\n",
       "    // Clean up Bokeh references\n",
       "    if (id != null && id in Bokeh.index) {\n",
       "      Bokeh.index[id].model.document.clear();\n",
       "      delete Bokeh.index[id];\n",
       "    }\n",
       "\n",
       "    if (server_id !== undefined) {\n",
       "      // Clean up Bokeh references\n",
       "      var cmd = \"from bokeh.io.state import curstate; print(curstate().uuid_to_server['\" + server_id + \"'].get_sessions()[0].document.roots[0]._id)\";\n",
       "      cell.notebook.kernel.execute(cmd, {\n",
       "        iopub: {\n",
       "          output: function(msg) {\n",
       "            var id = msg.content.text.trim();\n",
       "            if (id in Bokeh.index) {\n",
       "              Bokeh.index[id].model.document.clear();\n",
       "              delete Bokeh.index[id];\n",
       "            }\n",
       "          }\n",
       "        }\n",
       "      });\n",
       "      // Destroy server and session\n",
       "      var cmd = \"import bokeh.io.notebook as ion; ion.destroy_server('\" + server_id + \"')\";\n",
       "      cell.notebook.kernel.execute(cmd);\n",
       "    }\n",
       "  }\n",
       "\n",
       "  /**\n",
       "   * Handle when a new output is added\n",
       "   */\n",
       "  function handleAddOutput(event, handle) {\n",
       "    var output_area = handle.output_area;\n",
       "    var output = handle.output;\n",
       "\n",
       "    // limit handleAddOutput to display_data with EXEC_MIME_TYPE content only\n",
       "    if ((output.output_type != \"display_data\") || (!output.data.hasOwnProperty(EXEC_MIME_TYPE))) {\n",
       "      return\n",
       "    }\n",
       "\n",
       "    var toinsert = output_area.element.find(\".\" + CLASS_NAME.split(' ')[0]);\n",
       "\n",
       "    if (output.metadata[EXEC_MIME_TYPE][\"id\"] !== undefined) {\n",
       "      toinsert[toinsert.length - 1].firstChild.textContent = output.data[JS_MIME_TYPE];\n",
       "      // store reference to embed id on output_area\n",
       "      output_area._bokeh_element_id = output.metadata[EXEC_MIME_TYPE][\"id\"];\n",
       "    }\n",
       "    if (output.metadata[EXEC_MIME_TYPE][\"server_id\"] !== undefined) {\n",
       "      var bk_div = document.createElement(\"div\");\n",
       "      bk_div.innerHTML = output.data[HTML_MIME_TYPE];\n",
       "      var script_attrs = bk_div.children[0].attributes;\n",
       "      for (var i = 0; i < script_attrs.length; i++) {\n",
       "        toinsert[toinsert.length - 1].firstChild.setAttribute(script_attrs[i].name, script_attrs[i].value);\n",
       "      }\n",
       "      // store reference to server id on output_area\n",
       "      output_area._bokeh_server_id = output.metadata[EXEC_MIME_TYPE][\"server_id\"];\n",
       "    }\n",
       "  }\n",
       "\n",
       "  function register_renderer(events, OutputArea) {\n",
       "\n",
       "    function append_mime(data, metadata, element) {\n",
       "      // create a DOM node to render to\n",
       "      var toinsert = this.create_output_subarea(\n",
       "        metadata,\n",
       "        CLASS_NAME,\n",
       "        EXEC_MIME_TYPE\n",
       "      );\n",
       "      this.keyboard_manager.register_events(toinsert);\n",
       "      // Render to node\n",
       "      var props = {data: data, metadata: metadata[EXEC_MIME_TYPE]};\n",
       "      render(props, toinsert[toinsert.length - 1]);\n",
       "      element.append(toinsert);\n",
       "      return toinsert\n",
       "    }\n",
       "\n",
       "    /* Handle when an output is cleared or removed */\n",
       "    events.on('clear_output.CodeCell', handleClearOutput);\n",
       "    events.on('delete.Cell', handleClearOutput);\n",
       "\n",
       "    /* Handle when a new output is added */\n",
       "    events.on('output_added.OutputArea', handleAddOutput);\n",
       "\n",
       "    /**\n",
       "     * Register the mime type and append_mime function with output_area\n",
       "     */\n",
       "    OutputArea.prototype.register_mime_type(EXEC_MIME_TYPE, append_mime, {\n",
       "      /* Is output safe? */\n",
       "      safe: true,\n",
       "      /* Index of renderer in `output_area.display_order` */\n",
       "      index: 0\n",
       "    });\n",
       "  }\n",
       "\n",
       "  // register the mime type if in Jupyter Notebook environment and previously unregistered\n",
       "  if (root.Jupyter !== undefined) {\n",
       "    var events = require('base/js/events');\n",
       "    var OutputArea = require('notebook/js/outputarea').OutputArea;\n",
       "\n",
       "    if (OutputArea.prototype.mime_types().indexOf(EXEC_MIME_TYPE) == -1) {\n",
       "      register_renderer(events, OutputArea);\n",
       "    }\n",
       "  }\n",
       "\n",
       "  \n",
       "  if (typeof (root._bokeh_timeout) === \"undefined\" || force === true) {\n",
       "    root._bokeh_timeout = Date.now() + 5000;\n",
       "    root._bokeh_failed_load = false;\n",
       "  }\n",
       "\n",
       "  var NB_LOAD_WARNING = {'data': {'text/html':\n",
       "     \"<div style='background-color: #fdd'>\\n\"+\n",
       "     \"<p>\\n\"+\n",
       "     \"BokehJS does not appear to have successfully loaded. If loading BokehJS from CDN, this \\n\"+\n",
       "     \"may be due to a slow or bad network connection. Possible fixes:\\n\"+\n",
       "     \"</p>\\n\"+\n",
       "     \"<ul>\\n\"+\n",
       "     \"<li>re-rerun `output_notebook()` to attempt to load from CDN again, or</li>\\n\"+\n",
       "     \"<li>use INLINE resources instead, as so:</li>\\n\"+\n",
       "     \"</ul>\\n\"+\n",
       "     \"<code>\\n\"+\n",
       "     \"from bokeh.resources import INLINE\\n\"+\n",
       "     \"output_notebook(resources=INLINE)\\n\"+\n",
       "     \"</code>\\n\"+\n",
       "     \"</div>\"}};\n",
       "\n",
       "  function display_loaded() {\n",
       "    var el = document.getElementById(\"2501\");\n",
       "    if (el != null) {\n",
       "      el.textContent = \"BokehJS is loading...\";\n",
       "    }\n",
       "    if (root.Bokeh !== undefined) {\n",
       "      if (el != null) {\n",
       "        el.textContent = \"BokehJS \" + root.Bokeh.version + \" successfully loaded.\";\n",
       "      }\n",
       "    } else if (Date.now() < root._bokeh_timeout) {\n",
       "      setTimeout(display_loaded, 100)\n",
       "    }\n",
       "  }\n",
       "\n",
       "\n",
       "  function run_callbacks() {\n",
       "    try {\n",
       "      root._bokeh_onload_callbacks.forEach(function(callback) {\n",
       "        if (callback != null)\n",
       "          callback();\n",
       "      });\n",
       "    } finally {\n",
       "      delete root._bokeh_onload_callbacks\n",
       "    }\n",
       "    console.debug(\"Bokeh: all callbacks have finished\");\n",
       "  }\n",
       "\n",
       "  function load_libs(css_urls, js_urls, callback) {\n",
       "    if (css_urls == null) css_urls = [];\n",
       "    if (js_urls == null) js_urls = [];\n",
       "\n",
       "    root._bokeh_onload_callbacks.push(callback);\n",
       "    if (root._bokeh_is_loading > 0) {\n",
       "      console.debug(\"Bokeh: BokehJS is being loaded, scheduling callback at\", now());\n",
       "      return null;\n",
       "    }\n",
       "    if (js_urls == null || js_urls.length === 0) {\n",
       "      run_callbacks();\n",
       "      return null;\n",
       "    }\n",
       "    console.debug(\"Bokeh: BokehJS not loaded, scheduling load and callback at\", now());\n",
       "    root._bokeh_is_loading = css_urls.length + js_urls.length;\n",
       "\n",
       "    function on_load() {\n",
       "      root._bokeh_is_loading--;\n",
       "      if (root._bokeh_is_loading === 0) {\n",
       "        console.debug(\"Bokeh: all BokehJS libraries/stylesheets loaded\");\n",
       "        run_callbacks()\n",
       "      }\n",
       "    }\n",
       "\n",
       "    function on_error() {\n",
       "      console.error(\"failed to load \" + url);\n",
       "    }\n",
       "\n",
       "    for (var i = 0; i < css_urls.length; i++) {\n",
       "      var url = css_urls[i];\n",
       "      const element = document.createElement(\"link\");\n",
       "      element.onload = on_load;\n",
       "      element.onerror = on_error;\n",
       "      element.rel = \"stylesheet\";\n",
       "      element.type = \"text/css\";\n",
       "      element.href = url;\n",
       "      console.debug(\"Bokeh: injecting link tag for BokehJS stylesheet: \", url);\n",
       "      document.body.appendChild(element);\n",
       "    }\n",
       "\n",
       "    for (var i = 0; i < js_urls.length; i++) {\n",
       "      var url = js_urls[i];\n",
       "      var element = document.createElement('script');\n",
       "      element.onload = on_load;\n",
       "      element.onerror = on_error;\n",
       "      element.async = false;\n",
       "      element.src = url;\n",
       "      console.debug(\"Bokeh: injecting script tag for BokehJS library: \", url);\n",
       "      document.head.appendChild(element);\n",
       "    }\n",
       "  };var element = document.getElementById(\"2501\");\n",
       "  if (element == null) {\n",
       "    console.error(\"Bokeh: ERROR: autoload.js configured with elementid '2501' but no matching script tag was found. \")\n",
       "    return false;\n",
       "  }\n",
       "\n",
       "  function inject_raw_css(css) {\n",
       "    const element = document.createElement(\"style\");\n",
       "    element.appendChild(document.createTextNode(css));\n",
       "    document.body.appendChild(element);\n",
       "  }\n",
       "\n",
       "  var js_urls = [\"https://cdn.pydata.org/bokeh/release/bokeh-1.3.4.min.js\", \"https://cdn.pydata.org/bokeh/release/bokeh-widgets-1.3.4.min.js\", \"https://cdn.pydata.org/bokeh/release/bokeh-tables-1.3.4.min.js\", \"https://cdn.pydata.org/bokeh/release/bokeh-gl-1.3.4.min.js\"];\n",
       "  var css_urls = [];\n",
       "\n",
       "  var inline_js = [\n",
       "    function(Bokeh) {\n",
       "      Bokeh.set_log_level(\"info\");\n",
       "    },\n",
       "    \n",
       "    function(Bokeh) {\n",
       "      \n",
       "    },\n",
       "    function(Bokeh) {} // ensure no trailing comma for IE\n",
       "  ];\n",
       "\n",
       "  function run_inline_js() {\n",
       "    \n",
       "    if ((root.Bokeh !== undefined) || (force === true)) {\n",
       "      for (var i = 0; i < inline_js.length; i++) {\n",
       "        inline_js[i].call(root, root.Bokeh);\n",
       "      }if (force === true) {\n",
       "        display_loaded();\n",
       "      }} else if (Date.now() < root._bokeh_timeout) {\n",
       "      setTimeout(run_inline_js, 100);\n",
       "    } else if (!root._bokeh_failed_load) {\n",
       "      console.log(\"Bokeh: BokehJS failed to load within specified timeout.\");\n",
       "      root._bokeh_failed_load = true;\n",
       "    } else if (force !== true) {\n",
       "      var cell = $(document.getElementById(\"2501\")).parents('.cell').data().cell;\n",
       "      cell.output_area.append_execute_result(NB_LOAD_WARNING)\n",
       "    }\n",
       "\n",
       "  }\n",
       "\n",
       "  if (root._bokeh_is_loading === 0) {\n",
       "    console.debug(\"Bokeh: BokehJS loaded, going straight to plotting\");\n",
       "    run_inline_js();\n",
       "  } else {\n",
       "    load_libs(css_urls, js_urls, function() {\n",
       "      console.debug(\"Bokeh: BokehJS plotting callback run at\", now());\n",
       "      run_inline_js();\n",
       "    });\n",
       "  }\n",
       "}(window));"
      ],
      "application/vnd.bokehjs_load.v0+json": "\n(function(root) {\n  function now() {\n    return new Date();\n  }\n\n  var force = true;\n\n  if (typeof root._bokeh_onload_callbacks === \"undefined\" || force === true) {\n    root._bokeh_onload_callbacks = [];\n    root._bokeh_is_loading = undefined;\n  }\n\n  \n\n  \n  if (typeof (root._bokeh_timeout) === \"undefined\" || force === true) {\n    root._bokeh_timeout = Date.now() + 5000;\n    root._bokeh_failed_load = false;\n  }\n\n  var NB_LOAD_WARNING = {'data': {'text/html':\n     \"<div style='background-color: #fdd'>\\n\"+\n     \"<p>\\n\"+\n     \"BokehJS does not appear to have successfully loaded. If loading BokehJS from CDN, this \\n\"+\n     \"may be due to a slow or bad network connection. Possible fixes:\\n\"+\n     \"</p>\\n\"+\n     \"<ul>\\n\"+\n     \"<li>re-rerun `output_notebook()` to attempt to load from CDN again, or</li>\\n\"+\n     \"<li>use INLINE resources instead, as so:</li>\\n\"+\n     \"</ul>\\n\"+\n     \"<code>\\n\"+\n     \"from bokeh.resources import INLINE\\n\"+\n     \"output_notebook(resources=INLINE)\\n\"+\n     \"</code>\\n\"+\n     \"</div>\"}};\n\n  function display_loaded() {\n    var el = document.getElementById(\"2501\");\n    if (el != null) {\n      el.textContent = \"BokehJS is loading...\";\n    }\n    if (root.Bokeh !== undefined) {\n      if (el != null) {\n        el.textContent = \"BokehJS \" + root.Bokeh.version + \" successfully loaded.\";\n      }\n    } else if (Date.now() < root._bokeh_timeout) {\n      setTimeout(display_loaded, 100)\n    }\n  }\n\n\n  function run_callbacks() {\n    try {\n      root._bokeh_onload_callbacks.forEach(function(callback) {\n        if (callback != null)\n          callback();\n      });\n    } finally {\n      delete root._bokeh_onload_callbacks\n    }\n    console.debug(\"Bokeh: all callbacks have finished\");\n  }\n\n  function load_libs(css_urls, js_urls, callback) {\n    if (css_urls == null) css_urls = [];\n    if (js_urls == null) js_urls = [];\n\n    root._bokeh_onload_callbacks.push(callback);\n    if (root._bokeh_is_loading > 0) {\n      console.debug(\"Bokeh: BokehJS is being loaded, scheduling callback at\", now());\n      return null;\n    }\n    if (js_urls == null || js_urls.length === 0) {\n      run_callbacks();\n      return null;\n    }\n    console.debug(\"Bokeh: BokehJS not loaded, scheduling load and callback at\", now());\n    root._bokeh_is_loading = css_urls.length + js_urls.length;\n\n    function on_load() {\n      root._bokeh_is_loading--;\n      if (root._bokeh_is_loading === 0) {\n        console.debug(\"Bokeh: all BokehJS libraries/stylesheets loaded\");\n        run_callbacks()\n      }\n    }\n\n    function on_error() {\n      console.error(\"failed to load \" + url);\n    }\n\n    for (var i = 0; i < css_urls.length; i++) {\n      var url = css_urls[i];\n      const element = document.createElement(\"link\");\n      element.onload = on_load;\n      element.onerror = on_error;\n      element.rel = \"stylesheet\";\n      element.type = \"text/css\";\n      element.href = url;\n      console.debug(\"Bokeh: injecting link tag for BokehJS stylesheet: \", url);\n      document.body.appendChild(element);\n    }\n\n    for (var i = 0; i < js_urls.length; i++) {\n      var url = js_urls[i];\n      var element = document.createElement('script');\n      element.onload = on_load;\n      element.onerror = on_error;\n      element.async = false;\n      element.src = url;\n      console.debug(\"Bokeh: injecting script tag for BokehJS library: \", url);\n      document.head.appendChild(element);\n    }\n  };var element = document.getElementById(\"2501\");\n  if (element == null) {\n    console.error(\"Bokeh: ERROR: autoload.js configured with elementid '2501' but no matching script tag was found. \")\n    return false;\n  }\n\n  function inject_raw_css(css) {\n    const element = document.createElement(\"style\");\n    element.appendChild(document.createTextNode(css));\n    document.body.appendChild(element);\n  }\n\n  var js_urls = [\"https://cdn.pydata.org/bokeh/release/bokeh-1.3.4.min.js\", \"https://cdn.pydata.org/bokeh/release/bokeh-widgets-1.3.4.min.js\", \"https://cdn.pydata.org/bokeh/release/bokeh-tables-1.3.4.min.js\", \"https://cdn.pydata.org/bokeh/release/bokeh-gl-1.3.4.min.js\"];\n  var css_urls = [];\n\n  var inline_js = [\n    function(Bokeh) {\n      Bokeh.set_log_level(\"info\");\n    },\n    \n    function(Bokeh) {\n      \n    },\n    function(Bokeh) {} // ensure no trailing comma for IE\n  ];\n\n  function run_inline_js() {\n    \n    if ((root.Bokeh !== undefined) || (force === true)) {\n      for (var i = 0; i < inline_js.length; i++) {\n        inline_js[i].call(root, root.Bokeh);\n      }if (force === true) {\n        display_loaded();\n      }} else if (Date.now() < root._bokeh_timeout) {\n      setTimeout(run_inline_js, 100);\n    } else if (!root._bokeh_failed_load) {\n      console.log(\"Bokeh: BokehJS failed to load within specified timeout.\");\n      root._bokeh_failed_load = true;\n    } else if (force !== true) {\n      var cell = $(document.getElementById(\"2501\")).parents('.cell').data().cell;\n      cell.output_area.append_execute_result(NB_LOAD_WARNING)\n    }\n\n  }\n\n  if (root._bokeh_is_loading === 0) {\n    console.debug(\"Bokeh: BokehJS loaded, going straight to plotting\");\n    run_inline_js();\n  } else {\n    load_libs(css_urls, js_urls, function() {\n      console.debug(\"Bokeh: BokehJS plotting callback run at\", now());\n      run_inline_js();\n    });\n  }\n}(window));"
     },
     "metadata": {},
     "output_type": "display_data"
    }
   ],
   "source": [
    "from bokeh.plotting import figure, show, output_notebook, save\n",
    "from bokeh.models import HoverTool, value, LabelSet, Legend, ColumnDataSource\n",
    "\n",
    "output_notebook() # send to notebook not tab"
   ]
  },
  {
   "cell_type": "code",
   "execution_count": 643,
   "metadata": {},
   "outputs": [
    {
     "data": {
      "text/html": [
       "\n",
       "\n",
       "\n",
       "\n",
       "\n",
       "\n",
       "  <div class=\"bk-root\" id=\"0a0bd241-5b4f-4e3f-8230-20a922179d42\" data-root-id=\"2503\"></div>\n"
      ]
     },
     "metadata": {},
     "output_type": "display_data"
    },
    {
     "data": {
      "application/javascript": [
       "(function(root) {\n",
       "  function embed_document(root) {\n",
       "    \n",
       "  var docs_json = {\"f85f8e76-3dde-4b76-8aef-b30f4d8610a3\":{\"roots\":{\"references\":[{\"attributes\":{\"min_border\":1,\"plot_width\":1000,\"renderers\":[{\"id\":\"2530\",\"type\":\"GlyphRenderer\"}],\"title\":{\"id\":\"2504\",\"type\":\"Title\"},\"toolbar\":{\"id\":\"2520\",\"type\":\"Toolbar\"},\"x_range\":{\"id\":\"2506\",\"type\":\"DataRange1d\"},\"x_scale\":{\"id\":\"2510\",\"type\":\"LinearScale\"},\"y_range\":{\"id\":\"2508\",\"type\":\"DataRange1d\"},\"y_scale\":{\"id\":\"2512\",\"type\":\"LinearScale\"}},\"id\":\"2503\",\"subtype\":\"Figure\",\"type\":\"Plot\"},{\"attributes\":{\"active_drag\":\"auto\",\"active_inspect\":\"auto\",\"active_multi\":null,\"active_scroll\":\"auto\",\"active_tap\":\"auto\",\"tools\":[{\"id\":\"2514\",\"type\":\"PanTool\"},{\"id\":\"2515\",\"type\":\"WheelZoomTool\"},{\"id\":\"2516\",\"type\":\"ZoomInTool\"},{\"id\":\"2517\",\"type\":\"BoxZoomTool\"},{\"id\":\"2518\",\"type\":\"ResetTool\"},{\"id\":\"2519\",\"type\":\"HoverTool\"}]},\"id\":\"2520\",\"type\":\"Toolbar\"},{\"attributes\":{\"callback\":null},\"id\":\"2506\",\"type\":\"DataRange1d\"},{\"attributes\":{\"callback\":null,\"tooltips\":[[\"content\",\"@title (@genre)\"]]},\"id\":\"2519\",\"type\":\"HoverTool\"},{\"attributes\":{\"data_source\":{\"id\":\"2502\",\"type\":\"ColumnDataSource\"},\"glyph\":{\"id\":\"2528\",\"type\":\"Scatter\"},\"hover_glyph\":null,\"muted_glyph\":null,\"nonselection_glyph\":{\"id\":\"2529\",\"type\":\"Scatter\"},\"selection_glyph\":null,\"view\":{\"id\":\"2531\",\"type\":\"CDSView\"}},\"id\":\"2530\",\"type\":\"GlyphRenderer\"},{\"attributes\":{},\"id\":\"2518\",\"type\":\"ResetTool\"},{\"attributes\":{\"callback\":null},\"id\":\"2508\",\"type\":\"DataRange1d\"},{\"attributes\":{},\"id\":\"2515\",\"type\":\"WheelZoomTool\"},{\"attributes\":{\"source\":{\"id\":\"2502\",\"type\":\"ColumnDataSource\"}},\"id\":\"2531\",\"type\":\"CDSView\"},{\"attributes\":{},\"id\":\"2514\",\"type\":\"PanTool\"},{\"attributes\":{\"overlay\":{\"id\":\"2533\",\"type\":\"BoxAnnotation\"}},\"id\":\"2517\",\"type\":\"BoxZoomTool\"},{\"attributes\":{\"callback\":null,\"data\":{\"colors\":[\"black\",\"red\",\"black\",\"black\",\"red\",\"red\",\"red\",\"red\",\"red\",\"red\",\"black\",\"black\",\"black\",\"black\",\"black\",\"black\",\"black\",\"black\",\"black\",\"black\",\"red\",\"red\",\"red\",\"black\",\"red\",\"black\",\"black\",\"red\",\"black\",\"red\",\"red\",\"red\",\"black\",\"black\",\"red\",\"black\",\"black\",\"red\",\"black\",\"red\",\"black\",\"black\",\"red\",\"red\",\"red\",\"red\",\"black\",\"red\",\"red\",\"black\",\"black\",\"black\",\"red\",\"red\",\"black\",\"black\",\"black\",\"red\",\"red\",\"red\",\"red\",\"black\",\"black\",\"black\",\"red\",\"black\",\"black\",\"black\",\"black\",\"black\",\"red\",\"red\",\"black\",\"black\",\"red\",\"black\",\"black\",\"red\",\"red\",\"black\",\"red\",\"black\",\"black\",\"black\",\"red\",\"red\",\"red\",\"red\",\"red\",\"red\",\"black\",\"black\",\"black\",\"black\",\"black\",\"black\",\"black\",\"red\",\"black\",\"black\",\"black\",\"black\",\"black\",\"black\",\"red\",\"red\",\"red\",\"black\",\"red\",\"red\",\"black\",\"black\",\"black\",\"black\",\"red\",\"red\",\"red\",\"red\",\"black\",\"red\",\"black\",\"red\",\"red\",\"red\",\"red\",\"red\",\"red\",\"red\",\"red\",\"black\",\"red\",\"red\",\"red\",\"black\",\"black\",\"red\",\"red\",\"red\",\"red\",\"red\",\"black\",\"red\",\"red\",\"black\",\"black\",\"red\",\"red\",\"red\",\"red\",\"red\",\"black\",\"black\",\"red\",\"red\",\"red\",\"red\",\"red\",\"red\",\"black\",\"red\",\"red\",\"red\",\"black\",\"black\",\"red\",\"red\",\"black\",\"red\",\"red\",\"black\",\"black\",\"red\",\"red\",\"black\",\"red\",\"black\",\"red\",\"black\",\"red\",\"black\",\"black\",\"black\",\"black\",\"black\",\"black\",\"red\",\"red\",\"black\",\"red\",\"red\",\"red\",\"black\",\"red\",\"red\",\"red\",\"red\",\"black\",\"red\",\"red\",\"black\",\"black\",\"black\",\"black\",\"black\",\"red\",\"black\",\"red\",\"black\",\"black\",\"black\",\"red\",\"red\",\"red\",\"red\",\"red\",\"red\",\"red\",\"red\",\"red\",\"red\",\"black\",\"black\",\"red\",\"black\",\"red\",\"black\",\"black\",\"black\",\"red\",\"red\",\"red\",\"black\",\"black\",\"red\",\"red\",\"red\",\"black\",\"black\",\"black\",\"black\",\"black\",\"black\",\"black\",\"red\",\"red\",\"red\",\"black\",\"red\",\"black\",\"red\",\"red\",\"red\",\"black\",\"red\",\"black\",\"red\",\"black\",\"red\",\"black\",\"black\",\"black\",\"black\",\"red\",\"black\",\"red\",\"red\",\"red\",\"black\",\"black\",\"black\",\"red\",\"black\",\"red\",\"black\",\"red\",\"red\",\"black\",\"black\",\"red\",\"black\",\"black\",\"red\",\"black\",\"red\",\"black\",\"red\",\"black\",\"red\",\"red\",\"black\",\"black\",\"red\",\"black\",\"black\",\"black\",\"black\",\"black\",\"black\",\"black\",\"black\",\"black\",\"red\",\"black\",\"red\",\"black\",\"red\",\"black\",\"black\",\"red\",\"red\",\"red\",\"red\",\"red\",\"black\",\"red\",\"black\",\"black\",\"black\",\"black\",\"red\",\"red\",\"red\",\"black\",\"red\",\"red\",\"red\",\"red\",\"red\",\"red\",\"red\",\"black\",\"red\",\"red\",\"red\",\"red\",\"black\",\"red\",\"red\",\"red\",\"red\",\"black\",\"black\",\"black\",\"black\",\"red\",\"red\",\"black\",\"black\",\"red\",\"red\",\"black\",\"black\",\"black\",\"black\",\"red\",\"red\",\"black\",\"black\",\"red\",\"red\",\"black\",\"red\",\"red\",\"black\",\"red\",\"red\",\"red\",\"red\",\"red\",\"red\",\"black\",\"black\",\"red\",\"black\",\"black\",\"red\",\"black\",\"black\",\"black\",\"red\",\"black\",\"red\",\"black\",\"black\",\"red\",\"red\",\"red\",\"red\",\"red\",\"red\",\"black\",\"black\",\"red\",\"black\",\"black\",\"black\",\"red\",\"black\",\"black\",\"black\",\"black\",\"black\",\"red\",\"black\",\"red\",\"black\",\"red\",\"red\",\"red\",\"black\",\"red\",\"red\",\"black\",\"red\",\"black\",\"red\",\"black\",\"red\",\"red\",\"black\",\"black\",\"red\",\"black\",\"red\",\"red\",\"red\",\"black\",\"black\",\"black\",\"red\",\"red\",\"red\",\"red\",\"red\",\"black\",\"black\",\"black\",\"black\",\"black\",\"black\",\"black\",\"black\",\"black\",\"red\",\"black\",\"red\",\"black\",\"red\",\"red\",\"red\",\"red\",\"black\",\"red\",\"black\",\"black\",\"black\",\"black\",\"red\",\"black\",\"red\",\"red\",\"red\",\"black\",\"black\",\"red\",\"black\",\"black\",\"black\",\"black\",\"red\",\"red\",\"black\",\"black\",\"black\",\"black\",\"black\",\"black\",\"black\",\"black\",\"black\",\"black\",\"red\",\"red\",\"red\",\"red\",\"black\",\"red\",\"red\",\"red\",\"red\",\"black\",\"red\",\"red\",\"black\",\"black\",\"red\",\"black\",\"black\",\"red\",\"red\",\"red\",\"red\",\"black\",\"red\",\"black\",\"black\",\"black\",\"red\",\"black\",\"red\",\"red\",\"red\",\"black\",\"red\",\"red\",\"black\",\"black\",\"black\",\"black\",\"red\",\"black\",\"red\",\"black\",\"red\",\"red\",\"black\",\"black\",\"black\",\"red\",\"black\",\"black\",\"red\",\"black\",\"red\",\"black\",\"black\",\"red\",\"red\",\"red\",\"black\",\"red\",\"black\",\"red\",\"black\",\"red\",\"black\",\"red\",\"red\",\"red\",\"red\",\"red\",\"black\",\"red\",\"black\",\"black\",\"black\",\"black\",\"black\",\"black\",\"red\",\"red\",\"red\",\"red\",\"red\",\"black\",\"black\",\"black\",\"red\",\"black\",\"red\",\"red\",\"red\",\"red\",\"black\",\"red\",\"red\",\"red\",\"black\",\"black\",\"red\",\"black\",\"red\",\"red\",\"black\",\"black\",\"red\",\"red\",\"red\",\"black\",\"red\",\"red\",\"red\",\"red\",\"black\",\"red\",\"red\",\"black\",\"red\",\"red\",\"red\",\"black\",\"black\",\"black\",\"black\",\"red\",\"red\",\"black\",\"red\",\"red\",\"red\",\"black\",\"red\",\"black\",\"red\",\"red\",\"red\",\"black\",\"black\",\"red\",\"red\",\"red\",\"black\",\"red\",\"red\",\"red\",\"red\",\"black\",\"black\",\"red\",\"black\",\"red\",\"red\",\"red\",\"red\",\"red\",\"red\",\"red\",\"black\",\"red\",\"red\",\"black\",\"red\",\"black\",\"black\",\"black\",\"black\",\"red\",\"black\",\"red\",\"black\",\"red\",\"black\",\"red\",\"red\",\"red\",\"red\",\"red\",\"red\",\"red\",\"black\",\"red\",\"red\",\"red\",\"red\",\"black\",\"black\",\"red\",\"black\",\"black\",\"red\",\"black\",\"black\",\"red\",\"red\",\"red\",\"red\",\"black\",\"red\",\"red\",\"red\",\"black\",\"red\",\"red\",\"black\",\"black\",\"black\",\"black\",\"black\",\"red\",\"black\",\"red\",\"red\",\"red\",\"red\",\"red\",\"black\",\"black\",\"red\",\"black\",\"red\",\"black\",\"black\",\"black\",\"black\",\"red\",\"red\",\"red\",\"red\",\"black\",\"red\",\"black\",\"red\",\"red\",\"black\",\"black\",\"black\",\"red\",\"red\",\"red\",\"black\",\"red\",\"black\",\"red\",\"red\",\"black\",\"black\",\"black\",\"black\",\"black\",\"red\",\"red\",\"black\",\"black\",\"black\",\"black\",\"black\",\"black\",\"black\",\"black\",\"black\",\"black\",\"black\",\"black\",\"black\",\"black\",\"black\",\"black\",\"black\",\"red\",\"black\",\"black\",\"red\",\"black\",\"red\",\"red\",\"red\",\"black\",\"red\",\"red\",\"black\",\"black\",\"black\",\"red\",\"black\",\"red\",\"black\",\"black\",\"black\",\"black\",\"black\",\"red\",\"red\",\"red\",\"red\",\"black\",\"black\",\"black\",\"red\",\"black\",\"black\",\"black\",\"black\",\"black\",\"black\",\"black\",\"red\",\"black\",\"red\",\"red\",\"red\",\"black\",\"black\",\"black\",\"black\",\"red\",\"black\",\"black\",\"black\",\"black\",\"black\",\"black\",\"black\",\"black\",\"black\",\"red\",\"red\",\"red\",\"red\",\"red\",\"red\",\"black\",\"black\",\"black\",\"red\",\"black\",\"red\",\"black\",\"red\",\"black\",\"black\",\"black\",\"black\",\"red\",\"black\",\"black\",\"red\",\"black\",\"red\",\"red\",\"red\",\"red\",\"black\",\"black\",\"red\",\"black\",\"red\",\"black\",\"black\",\"black\",\"red\",\"red\",\"black\",\"black\",\"black\",\"black\",\"black\",\"red\",\"black\",\"red\",\"red\",\"black\",\"red\",\"red\",\"red\",\"black\",\"red\",\"black\",\"black\",\"black\",\"red\",\"red\",\"black\",\"red\",\"red\",\"red\",\"red\",\"black\",\"red\",\"black\",\"red\",\"black\",\"black\",\"black\",\"black\",\"red\",\"red\",\"red\",\"black\",\"red\",\"black\",\"black\",\"black\",\"red\",\"black\",\"red\",\"black\",\"black\",\"black\",\"black\",\"black\",\"black\",\"black\",\"black\",\"black\",\"red\",\"black\",\"black\",\"red\",\"black\",\"black\",\"black\",\"red\",\"black\",\"red\",\"black\",\"black\",\"black\",\"red\",\"red\",\"red\",\"red\",\"black\",\"black\",\"black\",\"black\",\"black\",\"black\",\"black\",\"red\",\"black\",\"red\",\"black\",\"black\",\"red\",\"black\",\"black\",\"red\",\"black\",\"red\",\"black\",\"red\",\"black\",\"black\",\"red\",\"black\",\"black\",\"red\",\"red\",\"red\",\"black\",\"black\",\"red\",\"black\",\"black\",\"black\",\"black\",\"black\",\"red\",\"black\",\"red\",\"black\",\"black\",\"black\",\"red\"],\"genre\":[\"Comedy\",\"Drama\",\"Comedy\",\"Comedy\",\"Drama\",\"Drama\",\"Drama\",\"Drama\",\"Drama\",\"Drama\",\"Comedy\",\"Comedy\",\"Comedy\",\"Comedy\",\"Comedy\",\"Comedy\",\"Comedy\",\"Comedy\",\"Comedy\",\"Comedy\",\"Drama\",\"Drama\",\"Drama\",\"Comedy\",\"Drama\",\"Comedy\",\"Comedy\",\"Drama\",\"Comedy\",\"Drama\",\"Drama\",\"Drama\",\"Comedy\",\"Comedy\",\"Drama\",\"Comedy\",\"Comedy\",\"Drama\",\"Comedy\",\"Drama\",\"Comedy\",\"Comedy\",\"Drama\",\"Drama\",\"Drama\",\"Drama\",\"Comedy\",\"Drama\",\"Drama\",\"Comedy\",\"Comedy\",\"Comedy\",\"Drama\",\"Drama\",\"Comedy\",\"Comedy\",\"Comedy\",\"Drama\",\"Drama\",\"Drama\",\"Drama\",\"Comedy\",\"Comedy\",\"Comedy\",\"Drama\",\"Comedy\",\"Comedy\",\"Comedy\",\"Comedy\",\"Comedy\",\"Drama\",\"Drama\",\"Comedy\",\"Comedy\",\"Drama\",\"Comedy\",\"Comedy\",\"Drama\",\"Drama\",\"Comedy\",\"Drama\",\"Comedy\",\"Comedy\",\"Comedy\",\"Drama\",\"Drama\",\"Drama\",\"Drama\",\"Drama\",\"Drama\",\"Comedy\",\"Comedy\",\"Comedy\",\"Comedy\",\"Comedy\",\"Comedy\",\"Comedy\",\"Drama\",\"Comedy\",\"Comedy\",\"Comedy\",\"Comedy\",\"Comedy\",\"Comedy\",\"Drama\",\"Drama\",\"Drama\",\"Comedy\",\"Drama\",\"Drama\",\"Comedy\",\"Comedy\",\"Comedy\",\"Comedy\",\"Drama\",\"Drama\",\"Drama\",\"Drama\",\"Comedy\",\"Drama\",\"Comedy\",\"Drama\",\"Drama\",\"Drama\",\"Drama\",\"Drama\",\"Drama\",\"Drama\",\"Drama\",\"Comedy\",\"Drama\",\"Drama\",\"Drama\",\"Comedy\",\"Comedy\",\"Drama\",\"Drama\",\"Drama\",\"Drama\",\"Drama\",\"Comedy\",\"Drama\",\"Drama\",\"Comedy\",\"Comedy\",\"Drama\",\"Drama\",\"Drama\",\"Drama\",\"Drama\",\"Comedy\",\"Comedy\",\"Drama\",\"Drama\",\"Drama\",\"Drama\",\"Drama\",\"Drama\",\"Comedy\",\"Drama\",\"Drama\",\"Drama\",\"Comedy\",\"Comedy\",\"Drama\",\"Drama\",\"Comedy\",\"Drama\",\"Drama\",\"Comedy\",\"Comedy\",\"Drama\",\"Drama\",\"Comedy\",\"Drama\",\"Comedy\",\"Drama\",\"Comedy\",\"Drama\",\"Comedy\",\"Comedy\",\"Comedy\",\"Comedy\",\"Comedy\",\"Comedy\",\"Drama\",\"Drama\",\"Comedy\",\"Drama\",\"Drama\",\"Drama\",\"Comedy\",\"Drama\",\"Drama\",\"Drama\",\"Drama\",\"Comedy\",\"Drama\",\"Drama\",\"Comedy\",\"Comedy\",\"Comedy\",\"Comedy\",\"Comedy\",\"Drama\",\"Comedy\",\"Drama\",\"Comedy\",\"Comedy\",\"Comedy\",\"Drama\",\"Drama\",\"Drama\",\"Drama\",\"Drama\",\"Drama\",\"Drama\",\"Drama\",\"Drama\",\"Drama\",\"Comedy\",\"Comedy\",\"Drama\",\"Comedy\",\"Drama\",\"Comedy\",\"Comedy\",\"Comedy\",\"Drama\",\"Drama\",\"Drama\",\"Comedy\",\"Comedy\",\"Drama\",\"Drama\",\"Drama\",\"Comedy\",\"Comedy\",\"Comedy\",\"Comedy\",\"Comedy\",\"Comedy\",\"Comedy\",\"Drama\",\"Drama\",\"Drama\",\"Comedy\",\"Drama\",\"Comedy\",\"Drama\",\"Drama\",\"Drama\",\"Comedy\",\"Drama\",\"Comedy\",\"Drama\",\"Comedy\",\"Drama\",\"Comedy\",\"Comedy\",\"Comedy\",\"Comedy\",\"Drama\",\"Comedy\",\"Drama\",\"Drama\",\"Drama\",\"Comedy\",\"Comedy\",\"Comedy\",\"Drama\",\"Comedy\",\"Drama\",\"Comedy\",\"Drama\",\"Drama\",\"Comedy\",\"Comedy\",\"Drama\",\"Comedy\",\"Comedy\",\"Drama\",\"Comedy\",\"Drama\",\"Comedy\",\"Drama\",\"Comedy\",\"Drama\",\"Drama\",\"Comedy\",\"Comedy\",\"Drama\",\"Comedy\",\"Comedy\",\"Comedy\",\"Comedy\",\"Comedy\",\"Comedy\",\"Comedy\",\"Comedy\",\"Comedy\",\"Drama\",\"Comedy\",\"Drama\",\"Comedy\",\"Drama\",\"Comedy\",\"Comedy\",\"Drama\",\"Drama\",\"Drama\",\"Drama\",\"Drama\",\"Comedy\",\"Drama\",\"Comedy\",\"Comedy\",\"Comedy\",\"Comedy\",\"Drama\",\"Drama\",\"Drama\",\"Comedy\",\"Drama\",\"Drama\",\"Drama\",\"Drama\",\"Drama\",\"Drama\",\"Drama\",\"Comedy\",\"Drama\",\"Drama\",\"Drama\",\"Drama\",\"Comedy\",\"Drama\",\"Drama\",\"Drama\",\"Drama\",\"Comedy\",\"Comedy\",\"Comedy\",\"Comedy\",\"Drama\",\"Drama\",\"Comedy\",\"Comedy\",\"Drama\",\"Drama\",\"Comedy\",\"Comedy\",\"Comedy\",\"Comedy\",\"Drama\",\"Drama\",\"Comedy\",\"Comedy\",\"Drama\",\"Drama\",\"Comedy\",\"Drama\",\"Drama\",\"Comedy\",\"Drama\",\"Drama\",\"Drama\",\"Drama\",\"Drama\",\"Drama\",\"Comedy\",\"Comedy\",\"Drama\",\"Comedy\",\"Comedy\",\"Drama\",\"Comedy\",\"Comedy\",\"Comedy\",\"Drama\",\"Comedy\",\"Drama\",\"Comedy\",\"Comedy\",\"Drama\",\"Drama\",\"Drama\",\"Drama\",\"Drama\",\"Drama\",\"Comedy\",\"Comedy\",\"Drama\",\"Comedy\",\"Comedy\",\"Comedy\",\"Drama\",\"Comedy\",\"Comedy\",\"Comedy\",\"Comedy\",\"Comedy\",\"Drama\",\"Comedy\",\"Drama\",\"Comedy\",\"Drama\",\"Drama\",\"Drama\",\"Comedy\",\"Drama\",\"Drama\",\"Comedy\",\"Drama\",\"Comedy\",\"Drama\",\"Comedy\",\"Drama\",\"Drama\",\"Comedy\",\"Comedy\",\"Drama\",\"Comedy\",\"Drama\",\"Drama\",\"Drama\",\"Comedy\",\"Comedy\",\"Comedy\",\"Drama\",\"Drama\",\"Drama\",\"Drama\",\"Drama\",\"Comedy\",\"Comedy\",\"Comedy\",\"Comedy\",\"Comedy\",\"Comedy\",\"Comedy\",\"Comedy\",\"Comedy\",\"Drama\",\"Comedy\",\"Drama\",\"Comedy\",\"Drama\",\"Drama\",\"Drama\",\"Drama\",\"Comedy\",\"Drama\",\"Comedy\",\"Comedy\",\"Comedy\",\"Comedy\",\"Drama\",\"Comedy\",\"Drama\",\"Drama\",\"Drama\",\"Comedy\",\"Comedy\",\"Drama\",\"Comedy\",\"Comedy\",\"Comedy\",\"Comedy\",\"Drama\",\"Drama\",\"Comedy\",\"Comedy\",\"Comedy\",\"Comedy\",\"Comedy\",\"Comedy\",\"Comedy\",\"Comedy\",\"Comedy\",\"Comedy\",\"Drama\",\"Drama\",\"Drama\",\"Drama\",\"Comedy\",\"Drama\",\"Drama\",\"Drama\",\"Drama\",\"Comedy\",\"Drama\",\"Drama\",\"Comedy\",\"Comedy\",\"Drama\",\"Comedy\",\"Comedy\",\"Drama\",\"Drama\",\"Drama\",\"Drama\",\"Comedy\",\"Drama\",\"Comedy\",\"Comedy\",\"Comedy\",\"Drama\",\"Comedy\",\"Drama\",\"Drama\",\"Drama\",\"Comedy\",\"Drama\",\"Drama\",\"Comedy\",\"Comedy\",\"Comedy\",\"Comedy\",\"Drama\",\"Comedy\",\"Drama\",\"Comedy\",\"Drama\",\"Drama\",\"Comedy\",\"Comedy\",\"Comedy\",\"Drama\",\"Comedy\",\"Comedy\",\"Drama\",\"Comedy\",\"Drama\",\"Comedy\",\"Comedy\",\"Drama\",\"Drama\",\"Drama\",\"Comedy\",\"Drama\",\"Comedy\",\"Drama\",\"Comedy\",\"Drama\",\"Comedy\",\"Drama\",\"Drama\",\"Drama\",\"Drama\",\"Drama\",\"Comedy\",\"Drama\",\"Comedy\",\"Comedy\",\"Comedy\",\"Comedy\",\"Comedy\",\"Comedy\",\"Drama\",\"Drama\",\"Drama\",\"Drama\",\"Drama\",\"Comedy\",\"Comedy\",\"Comedy\",\"Drama\",\"Comedy\",\"Drama\",\"Drama\",\"Drama\",\"Drama\",\"Comedy\",\"Drama\",\"Drama\",\"Drama\",\"Comedy\",\"Comedy\",\"Drama\",\"Comedy\",\"Drama\",\"Drama\",\"Comedy\",\"Comedy\",\"Drama\",\"Drama\",\"Drama\",\"Comedy\",\"Drama\",\"Drama\",\"Drama\",\"Drama\",\"Comedy\",\"Drama\",\"Drama\",\"Comedy\",\"Drama\",\"Drama\",\"Drama\",\"Comedy\",\"Comedy\",\"Comedy\",\"Comedy\",\"Drama\",\"Drama\",\"Comedy\",\"Drama\",\"Drama\",\"Drama\",\"Comedy\",\"Drama\",\"Comedy\",\"Drama\",\"Drama\",\"Drama\",\"Comedy\",\"Comedy\",\"Drama\",\"Drama\",\"Drama\",\"Comedy\",\"Drama\",\"Drama\",\"Drama\",\"Drama\",\"Comedy\",\"Comedy\",\"Drama\",\"Comedy\",\"Drama\",\"Drama\",\"Drama\",\"Drama\",\"Drama\",\"Drama\",\"Drama\",\"Comedy\",\"Drama\",\"Drama\",\"Comedy\",\"Drama\",\"Comedy\",\"Comedy\",\"Comedy\",\"Comedy\",\"Drama\",\"Comedy\",\"Drama\",\"Comedy\",\"Drama\",\"Comedy\",\"Drama\",\"Drama\",\"Drama\",\"Drama\",\"Drama\",\"Drama\",\"Drama\",\"Comedy\",\"Drama\",\"Drama\",\"Drama\",\"Drama\",\"Comedy\",\"Comedy\",\"Drama\",\"Comedy\",\"Comedy\",\"Drama\",\"Comedy\",\"Comedy\",\"Drama\",\"Drama\",\"Drama\",\"Drama\",\"Comedy\",\"Drama\",\"Drama\",\"Drama\",\"Comedy\",\"Drama\",\"Drama\",\"Comedy\",\"Comedy\",\"Comedy\",\"Comedy\",\"Comedy\",\"Drama\",\"Comedy\",\"Drama\",\"Drama\",\"Drama\",\"Drama\",\"Drama\",\"Comedy\",\"Comedy\",\"Drama\",\"Comedy\",\"Drama\",\"Comedy\",\"Comedy\",\"Comedy\",\"Comedy\",\"Drama\",\"Drama\",\"Drama\",\"Drama\",\"Comedy\",\"Drama\",\"Comedy\",\"Drama\",\"Drama\",\"Comedy\",\"Comedy\",\"Comedy\",\"Drama\",\"Drama\",\"Drama\",\"Comedy\",\"Drama\",\"Comedy\",\"Drama\",\"Drama\",\"Comedy\",\"Comedy\",\"Comedy\",\"Comedy\",\"Comedy\",\"Drama\",\"Drama\",\"Comedy\",\"Comedy\",\"Comedy\",\"Comedy\",\"Comedy\",\"Comedy\",\"Comedy\",\"Comedy\",\"Comedy\",\"Comedy\",\"Comedy\",\"Comedy\",\"Comedy\",\"Comedy\",\"Comedy\",\"Comedy\",\"Comedy\",\"Drama\",\"Comedy\",\"Comedy\",\"Drama\",\"Comedy\",\"Drama\",\"Drama\",\"Drama\",\"Comedy\",\"Drama\",\"Drama\",\"Comedy\",\"Comedy\",\"Comedy\",\"Drama\",\"Comedy\",\"Drama\",\"Comedy\",\"Comedy\",\"Comedy\",\"Comedy\",\"Comedy\",\"Drama\",\"Drama\",\"Drama\",\"Drama\",\"Comedy\",\"Comedy\",\"Comedy\",\"Drama\",\"Comedy\",\"Comedy\",\"Comedy\",\"Comedy\",\"Comedy\",\"Comedy\",\"Comedy\",\"Drama\",\"Comedy\",\"Drama\",\"Drama\",\"Drama\",\"Comedy\",\"Comedy\",\"Comedy\",\"Comedy\",\"Drama\",\"Comedy\",\"Comedy\",\"Comedy\",\"Comedy\",\"Comedy\",\"Comedy\",\"Comedy\",\"Comedy\",\"Comedy\",\"Drama\",\"Drama\",\"Drama\",\"Drama\",\"Drama\",\"Drama\",\"Comedy\",\"Comedy\",\"Comedy\",\"Drama\",\"Comedy\",\"Drama\",\"Comedy\",\"Drama\",\"Comedy\",\"Comedy\",\"Comedy\",\"Comedy\",\"Drama\",\"Comedy\",\"Comedy\",\"Drama\",\"Comedy\",\"Drama\",\"Drama\",\"Drama\",\"Drama\",\"Comedy\",\"Comedy\",\"Drama\",\"Comedy\",\"Drama\",\"Comedy\",\"Comedy\",\"Comedy\",\"Drama\",\"Drama\",\"Comedy\",\"Comedy\",\"Comedy\",\"Comedy\",\"Comedy\",\"Drama\",\"Comedy\",\"Drama\",\"Drama\",\"Comedy\",\"Drama\",\"Drama\",\"Drama\",\"Comedy\",\"Drama\",\"Comedy\",\"Comedy\",\"Comedy\",\"Drama\",\"Drama\",\"Comedy\",\"Drama\",\"Drama\",\"Drama\",\"Drama\",\"Comedy\",\"Drama\",\"Comedy\",\"Drama\",\"Comedy\",\"Comedy\",\"Comedy\",\"Comedy\",\"Drama\",\"Drama\",\"Drama\",\"Comedy\",\"Drama\",\"Comedy\",\"Comedy\",\"Comedy\",\"Drama\",\"Comedy\",\"Drama\",\"Comedy\",\"Comedy\",\"Comedy\",\"Comedy\",\"Comedy\",\"Comedy\",\"Comedy\",\"Comedy\",\"Comedy\",\"Drama\",\"Comedy\",\"Comedy\",\"Drama\",\"Comedy\",\"Comedy\",\"Comedy\",\"Drama\",\"Comedy\",\"Drama\",\"Comedy\",\"Comedy\",\"Comedy\",\"Drama\",\"Drama\",\"Drama\",\"Drama\",\"Comedy\",\"Comedy\",\"Comedy\",\"Comedy\",\"Comedy\",\"Comedy\",\"Comedy\",\"Drama\",\"Comedy\",\"Drama\",\"Comedy\",\"Comedy\",\"Drama\",\"Comedy\",\"Comedy\",\"Drama\",\"Comedy\",\"Drama\",\"Comedy\",\"Drama\",\"Comedy\",\"Comedy\",\"Drama\",\"Comedy\",\"Comedy\",\"Drama\",\"Drama\",\"Drama\",\"Comedy\",\"Comedy\",\"Drama\",\"Comedy\",\"Comedy\",\"Comedy\",\"Comedy\",\"Comedy\",\"Drama\",\"Comedy\",\"Drama\",\"Comedy\",\"Comedy\",\"Comedy\",\"Drama\"],\"title\":[\"Father of the Bride Part II\",\"Nixon\",\"Four Rooms\",\"Ace Ventura: When Nature Calls\",\"Othello\",\"Dangerous Minds\",\"Cry, the Beloved Country\",\"Restoration\",\"Home for the Holidays\",\"Mr. Holland's Opus\",\"Bio-Dome\",\"Friday\",\"Black Sheep\",\"Mr. Wrong\",\"Happy Gilmore\",\"Steal Big, Steal Little\",\"Flirting With Disaster\",\"Down Periscope\",\"Birdcage, The\",\"Brothers McMullen, The\",\"Basketball Diaries, The\",\"Awfully Big Adventure, An\",\"Beauty of the Day (Belle de jour)\",\"Jury Duty\",\"Kids\",\"Living in Oblivion\",\"Party Girl\",\"Showgirls\",\"To Wong Foo, Thanks for Everything! Julie Newmar\",\"White Man's Burden\",\"Browning Version, The\",\"Burnt by the Sun (Utomlyonnye solntsem)\",\"Billy Madison\",\"Clerks\",\"Exotica\",\"Exit to Eden\",\"Houseguest\",\"Jefferson in Paris\",\"Jerky Boys, The\",\"Little Women\",\"Major Payne\",\"Mixed Nuts\",\"Miracle on 34th Street\",\"My Family\",\"Nell\",\"Quiz Show\",\"Ready to Wear (Pret-A-Porter)\",\"Three Colors: Red (Trois couleurs: Rouge)\",\"Three Colors: Blue (Trois couleurs: Bleu)\",\"Stuart Saves His Family\",\"National Lampoon's Senior Trip\",\"Tommy Boy\",\"What's Eating Gilbert Grape\",\"Double Happiness\",\"Muriel's Wedding\",\"Ace Ventura: Pet Detective\",\"Bullets Over Broadway\",\"Cobb\",\"Higher Learning\",\"Little Buddha\",\"Age of Innocence, The\",\"Airheads\",\"Air Up There, The\",\"Beverly Hillbillies, The\",\"Bronx Tale, A\",\"Cabin Boy\",\"Clean Slate\",\"Cops and Robbersons\",\"Dazed and Confused\",\"Fatal Instinct\",\"Fearless\",\"Widows' Peak\",\"Getting Even with Dad\",\"Hudsucker Proxy, The\",\"In the Name of the Father\",\"Life with Mikey\",\"Made in America\",\"Man Without a Face, The\",\"Naked\",\"North\",\"Philadelphia\",\"Ref, The\",\"Road to Wellville, The\",\"Robin Hood: Men in Tights\",\"Rudy\",\"Searching for Bobby Fischer\",\"Short Cuts\",\"Sirens\",\"Six Degrees of Separation\",\"Princess Caraboo\",\"Brady Bunch Movie, The\",\"Pallbearer, The\",\"Ed\",\"Denise Calls Up\",\"Theodore Rex\",\"Sgt. Bilko\",\"Kids in the Hall: Brain Candy\",\"World of Apu, The (Apur Sansar)\",\"Angus\",\"Celtic Pride\",\"Multiplicity\",\"Cold Comfort Farm\",\"Spy Hard\",\"Stupids, The\",\"Ashes of Time (Dung che sai duk)\",\"I Shot Andy Warhol\",\"Stealing Beauty\",\"Kingpin\",\"Unforgettable Summer, An (Un \\u00e9t\\u00e9 inoubliable)\",\"Somebody to Love\",\"Larger Than Life\",\"Very Brady Sequel, A\",\"First Wives Club, The\",\"High School High\",\"Foxfire\",\"Spitfire Grill, The\",\"Basquiat\",\"Wild Reeds (Les roseaux sauvages)\",\"My Favorite Year\",\"All About Eve\",\"Father of the Bride\",\"East of Eden\",\"Mr. Smith Goes to Washington\",\"Cat on a Hot Tin Roof\",\"Dangerous Ground\",\"Picnic\",\"Michael Collins\",\"Infinity\",\"Chamber, The\",\"Cool Runnings\",\"Secrets & Lies\",\"Trees Lounge\",\"Jude\",\"Monty Python's Life of Brian\",\"Weekend at Bernie's\",\"Doors, The\",\"Glengarry Glen Ross\",\"Sophie's Choice\",\"Rebel Without a Cause\",\"Streetcar Named Desire, A\",\"Loser\",\"On Golden Pond\",\"Manon of the Spring (Manon des sources)\",\"Private Benjamin\",\"Bob Roberts\",\"Cinema Paradiso (Nuovo cinema Paradiso)\",\"My Left Foot\",\"Sex, Lies, and Videotape\",\"Passion Fish\",\"One Flew Over the Cuckoo's Nest\",\"Cheech and Chong's Up in Smoke\",\"Withnail & I\",\"12 Angry Men\",\"To Kill a Mockingbird\",\"Amadeus\",\"Raging Bull\",\"Right Stuff, The\",\"Seventh Seal, The (Sjunde inseglet, Det)\",\"Local Hero\",\"Dead Poets Society\",\"Cool Hand Luke\",\"Raise the Red Lantern (Da hong deng long gao gao gua)\",\"Heathers\",\"This Is Spinal Tap\",\"Gandhi\",\"Unbearable Lightness of Being, The\",\"Real Genius\",\"Sling Blade\",\"Preacher's Wife, The\",\"My Fellow Americans\",\"Raising Arizona\",\"Bastard Out of Carolina\",\"Ghosts of Mississippi\",\"Mother\",\"Portrait of a Lady, The\",\"Fierce Creatures\",\"Angel Baby\",\"Meet Wally Sparks\",\"Prefontaine\",\"Waiting for Guffman\",\"Vegas Vacation (National Lampoon's Las Vegas Vacation)\",\"Liar Liar\",\"8 Heads in a Duffel Bag\",\"Romy and Michele's High School Reunion\",\"Fathers' Day\",\"Promise, The (La promesse)\",\"Contempt (M\\u00e9pris, Le)\",\"In & Out\",\"Thousand Acres, A\",\"Ice Storm, The\",\"Hurricane Streets\",\"Bean\",\"Rainmaker, The\",\"Boogie Nights\",\"Apostle, The\",\"Artemisia\",\"For Richer or Poorer\",\"Sweet Hereafter, The\",\"Kundun\",\"Mr. Magoo\",\"Wag the Dog\",\"Half Baked\",\"Spice World\",\"Odd Couple II, The\",\"He Got Game\",\"Krippendorf's Tribe\",\"Character (Karakter)\",\"Major League: Back to the Minors\",\"Clockwatchers\",\"Dr. Dolittle\",\"Whatever\",\"Lost Weekend, The\",\"Midnight Cowboy\",\"Rocky\",\"Kramer vs. Kramer\",\"Ordinary People\",\"Chariots of Fire\",\"Last Emperor, The\",\"Rain Man\",\"Driving Miss Daisy\",\"Metropolitan\",\"Polish Wedding\",\"Last Temptation of Christ, The\",\"BASEketball\",\"And the Band Played On\",\"'burbs, The\",\"Jerk, The\",\"Man with Two Brains, The\",\"Outsiders, The\",\"Autumn Sonata (H\\u00f6stsonaten)\",\"Who's Afraid of Virginia Woolf?\",\"Dead Man on Campus\",\"Dirty Work\",\"Rounders\",\"Simon Birch\",\"My Bodyguard\",\"Class\",\"My Blue Heaven\",\"One Crazy Summer\",\"Impostors, The\",\"Producers, The\",\"My Cousin Vinny\",\"Holy Man\",\"Mighty, The\",\"Children of a Lesser God\",\"Elephant Man, The\",\"Orgazmo\",\"Gods and Monsters\",\"Waterboy, The\",\"Elizabeth\",\"Velvet Goldmine\",\"Sid and Nancy\",\"Celebrity\",\"Central Station (Central do Brasil)\",\"Waking Ned Devine (a.k.a. Waking Ned)\",\"Celebration, The (Festen)\",\"Pink Flamingos\",\"Glen or Glenda\",\"Fletch Lives\",\"Money Pit, The\",\"Little Voice\",\"Back to School\",\"Karate Kid, The\",\"Christmas Vacation (National Lampoon's Christmas Vacation)\",\"Stepmom\",\"Civil Action, A\",\"At First Sight\",\"Ruthless People\",\"Soul Man\",\"Jawbreaker\",\"October Sky\",\"Night Shift\",\"Airport\",\"Analyze This\",\"Cruel Intentions\",\"Deep End of the Ocean, The\",\"EDtv\",\"Out-of-Towners, The\",\"Dreamlife of Angels, The (Vie r\\u00eav\\u00e9e des anges, La)\",\"Pushing Tin\",\"Election\",\"Winslow Boy, The\",\"Castle, The\",\"Mommie Dearest\",\"Big Daddy\",\"Summer of Sam\",\"Drop Dead Gorgeous\",\"Color Purple, The\",\"Mission, The\",\"Dick\",\"Bowfinger\",\"Brokedown Palace\",\"Detroit Rock City\",\"Heaven Can Wait\",\"Monty Python's And Now for Something Completely Different\",\"Airplane!\",\"Airplane II: The Sequel\",\"National Lampoon's Vacation\",\"Muse, The\",\"Outside Providence\",\"Blue Streak\",\"Buddy Holly Story, The\",\"Barefoot in the Park\",\"Jakob the Liar\",\"Superstar\",\"Boys Don't Cry\",\"Risky Business\",\"Ferris Bueller's Day Off\",\"Conformist, The (Conformista, Il)\",\"Julien Donkey-Boy\",\"Bringing Out the Dead\",\"Melvin and Howard\",\"Rosetta\",\"Repossessed\",\"Face in the Crowd, A\",\"Trading Places\",\"Meatballs\",\"Meatballs Part II\",\"Under the Rainbow\",\"Liberty Heights\",\"All About My Mother (Todo sobre mi madre)\",\"Bicycle Thieves (a.k.a. The Bicycle Thief) (a.k.a. The Bicycle Thieves) (Ladri di biciclette)\",\"My Man Godfrey\",\"Natural, The\",\"River Runs Through It, A\",\"Places in the Heart\",\"Flawless\",\"Great Santini, The\",\"Two Jakes, The\",\"Cradle Will Rock\",\"Deuce Bigalow: Male Gigolo\",\"Cider House Rules, The\",\"Emperor and the Assassin, The (Jing ke ci qin wang)\",\"Magnolia\",\"Any Given Sunday\",\"Next Friday\",\"Hurricane, The\",\"Titus\",\"Girl, Interrupted\",\"Woman in the Dunes (Suna no onna)\",\"Big Tease, The\",\"Cup, The (Ph\\u00f6rpa)\",\"Encino Man\",\"Sister Act 2: Back in the Habit\",\"Alive\",\"Scent of a Woman\",\"Wayne's World\",\"Wayne's World 2\",\"Of Mice and Men\",\"To Sir with Love\",\"Beautiful People\",\"Circus, The\",\"Class Reunion\",\"Drowning Mona\",\"My Tutor\",\"Daughters of the Dust\",\"Volunteers\",\"She-Devil\",\"Erin Brockovich\",\"Mirror, The (Zerkalo)\",\"Animal House\",\"Do the Right Thing\",\"Good Earth, The\",\"Grumpy Old Men\",\"Guess Who's Coming to Dinner\",\"Hustler, The\",\"Inherit the Wind\",\"Bamba, La\",\"Madame Sousatzka\",\"Midnight Express\",\"Odd Couple, The\",\"Bachelor Party\",\"28 Days\",\"Shakes the Clown\",\"Caddyshack\",\"Up at the Villa\",\"Whipped\",\"Road Trip\",\"8 \\u00bd Women (a.k.a. 8 1/2 Women) (a.k.a. Eight and a Half Women)\",\"Woman of Paris, A\",\"Big Momma's House\",\"American Gigolo\",\"Porky's\",\"Porky's II: The Next Day\",\"Paper Chase, The\",\"Butterfly (La lengua de las mariposas)\",\"Jesus' Son\",\"Golden Bowl, The\",\"Footloose\",\"Five Senses, The\",\"What About Bob?\",\"Everything You Always Wanted to Know About Sex * But Were Afraid to Ask\",\"Interiors\",\"Love and Death\",\"Tampopo\",\"Nutty Professor II: The Klumps\",\"Steel Magnolias\",\"Easy Money\",\"Tao of Steve, The\",\"Cecil B. DeMented\",\"Replacements, The\",\"Naked Gun 2 1/2: The Smell of Fear, The\",\"Our Town\",\"Bring It On\",\"Almost Famous\",\"Best in Show\",\"Broken Hearts Club, The\",\"Girlfight\",\"Remember the Titans\",\"Meet the Parents\",\"Requiem for a Dream\",\"Tigerland\",\"Ladies Man, The\",\"Billy Elliot\",\"Bedazzled\",\"Pay It Forward\",\"Little Nicky\",\"Men of Honor\",\"Proof of Life\",\"Planes, Trains & Automobiles\",\"She's Having a Baby\",\"Wall Street\",\"Brewster's Millions\",\"Pollock\",\"Finding Forrester\",\"Cast Away\",\"Don't Tell Mom the Babysitter's Dead\",\"Sugar & Spice\",\"Born in East L.A.\",\"Hope and Glory\",\"Less Than Zero\",\"Vatel\",\"Caveman's Valentine, The\",\"Reversal of Fortune\",\"Revenge of the Nerds\",\"Revenge of the Nerds II: Nerds in Paradise\",\"Girls Just Want to Have Fun\",\"Longest Yard, The\",\"Necessary Roughness\",\"Dish, The\",\"Tomcats\",\"Josie and the Pussycats\",\"Freddy Got Fingered\",\"Center of the World, The\",\"Frankie and Johnny\",\"Norma Rae\",\"Summer Rental\",\"Pelle the Conqueror (Pelle erobreren)\",\"Man Who Cried, The\",\"Eight Men Out\",\"Yi Yi\",\"Animal, The\",\"Anniversary Party, The\",\"Seven Year Itch, The\",\"Dr. Dolittle 2\",\"Pootie Tang\",\"Closet, The (Placard, Le)\",\"Lumumba\",\"Scary Movie 2\",\"Cries and Whispers (Viskningar och rop)\",\"Lion in Winter, The\",\"Moby Dick\",\"Made\",\"Dirty Rotten Scoundrels\",\"Gorillas in the Mist\",\"Johnny Be Good\",\"License to Drive\",\"Twins\",\"Dream Team, The\",\"Great Balls of Fire!\",\"Jesus of Montreal (J\\u00e9sus de Montr\\u00e9al)\",\"Major League\",\"Wet Hot American Summer\",\"Troop Beverly Hills\",\"UHF\",\"Uncle Buck\",\"Any Which Way You Can\",\"American Pie 2\",\"Rat Race\",\"Bubble Boy\",\"Curse of the Jade Scorpion, The\",\"O\",\"L.I.E.\",\"Hardball\",\"Dinner Rush\",\"Haiku Tunnel\",\"Liam\",\"French Lieutenant's Woman, The\",\"Little Man Tate\",\"Little Foxes, The\",\"Zoolander\",\"Not Without My Daughter\",\"Life as a House\",\"Out Cold\",\"Not Another Teen Movie\",\"Kandahar (Safar e Ghandehar)\",\"How High\",\"Party, The\",\"Ali\",\"I Am Sam\",\"Shipping News, The\",\"Waterdance, The\",\"Orange County\",\"Son's Room, The (Stanza del figlio, La)\",\"Baby's Day Out\",\"Designing Woman\",\"Bad News Bears, The\",\"Wild Strawberries (Smultronst\\u00e4llet)\",\"Hopscotch\",\"Little Darlings\",\"Mon oncle d'Am\\u00e9rique\",\"Return of the Secaucus 7\",\"Stir Crazy\",\"Rookie, The\",\"Boxcar Bertha\",\"National Lampoon's Van Wilder\",\"Slap Shot\",\"Three Men and a Baby\",\"Triumph of Love, The\",\"Lenny\",\"New Guy, The\",\"Believer, The\",\"Every Which Way But Loose\",\"CQ\",\"Requiem for a Heavyweight\",\"Undercover Brother\",\"Emperor's New Clothes, The\",\"Cheech & Chong's The Corsican Brothers\",\"Sunshine State\",\"Austin Powers in Goldmember\",\"Who Is Cletis Tout?\",\"Red Beard (Akahige)\",\"Top Secret!\",\"Undisputed\",\"Johnny Dangerously\",\"Barbershop\",\"Bloody Sunday\",\"Heaven\",\"Pride of the Yankees, The\",\"Strange Brew\",\"White Oleander\",\"World of Henry Orient, The\",\"8 Mile\",\"Friday After Next\",\"Personal Velocity\",\"Hot Chick, The\",\"Morvern Callar\",\"Antwone Fisher\",\"Children's Hour, The\",\"Quicksilver\",\"Love Liza\",\"CB4 - The Movie\",\"Amen.\",\"Kiss Me Goodbye\",\"Monty Python Live at the Hollywood Bowl\",\"Dennis the Menace\",\"Old School\",\"Life Stinks\",\"Bringing Down the House\",\"Laurel Canyon\",\"Nowhere in Africa (Nirgendwo in Afrika)\",\"Prozac Nation\",\"Salaam Bombay!\",\"Talent for the Game\",\"Boat Trip\",\"Anger Management\",\"In-Laws, The\",\"Whale Rider\",\"6th Man, The (Sixth Man, The)\",\"From the Terrace\",\"Trial, The (Proc\\u00e8s, Le)\",\"Anastasia\",\"Babe, The\",\"Legally Blonde 2: Red, White & Blonde\",\"Embalmer, The (Imbalsamatore, L')\",\"Seabiscuit\",\"Mondays in the Sun (Lunes al sol, Los)\",\"Kiss Me, Stupid\",\"American Wedding (American Pie 3)\",\"Magdalene Sisters, The\",\"Uptown Girls\",\"Tokyo Story (T\\u00f4ky\\u00f4 monogatari)\",\"Ikiru\",\"Comic Book Villains\",\"Dickie Roberts: Former Child Star\",\"Luther\",\"Judgment at Nuremberg\",\"Babette's Feast (Babettes g\\u00e6stebud)\",\"Monty Python's The Meaning of Life\",\"Radio\",\"Elephant\",\"Sweet Sixteen\",\"Unvanquished, The (Aparajito)\",\"Father of the Bride\",\"Passion of Joan of Arc, The (Passion de Jeanne d'Arc, La)\",\"Lorenzo's Oil\",\"Summer School\",\"Little Women\",\"Macbeth (a.k.a. Tragedy of Macbeth, The)\",\"Jezebel\",\"Horse Feathers\",\"Madhouse\",\"Stuck on You\",\"Calendar Girls\",\"House of Sand and Fog\",\"Ship of Fools\",\"Mon Oncle (My Uncle)\",\"They Drive by Night\",\"Strada, La\",\"Where the Day Takes You\",\"Barbershop 2: Back in Business\",\"Dreamers, The\",\"Welcome to Mooseport\",\"Diary of a Country Priest (Journal d'un cur\\u00e9 de campagne)\",\"Passion of the Christ, The\",\"Persona\",\"Envy\",\"Mean Girls\",\"Wit\",\"Miracle Worker, The\",\"School Ties\",\"Noises Off...\",\"Bells of St. Mary's, The\",\"Tuesdays with Morrie\",\"Best of Youth, The (La meglio giovent\\u00f9)\",\"11'09\\\"01 - September 11\",\"Gidget\",\"Zelig\",\"Through a Glass Darkly (S\\u00e5som i en spegel)\",\"Broadway Danny Rose\",\"Spring, Summer, Fall, Winter... and Spring (Bom yeoreum gaeul gyeoul geurigo bom)\",\"The Thief\",\"Sweet Bird of Youth\",\"Crossroads\",\"Lola Mont\\u00e8s\",\"Dolce Vita, La\",\"Sansho the Bailiff (Sansh\\u00f4 day\\u00fb)\",\"Zazie dans le m\\u00e9tro\",\"Black Narcissus\",\"Baadasssss! (How to Get the Man's Foot Outta Your Ass)\",\"Napoleon Dynamite\",\"Executive Suite\",\"Dodgeball: A True Underdog Story\",\"Our Hospitality\",\"Secret Society\",\"Anchorman: The Legend of Ron Burgundy\",\"Snake Pit, The\",\"Yesterday, Today and Tomorrow (Ieri, oggi, domani)\",\"Story of Women (Affaire de femmes, Une)\",\"Without a Paddle\",\"Mask\",\"I Heart Huckabees\",\"Stage Beauty\",\"Vera Drake\",\"Ray\",\"Kinsey\",\"Finding Neverland\",\"Stage Door\",\"Great Expectations\",\"Unfaithfully Yours\",\"The Wild One\",\"Harakiri (Seppuku)\",\"Holy Mountain, The (Monta\\u00f1a sagrada, La)\",\"White Nights\",\"Dutch\",\"Ladybugs\",\"Bad Boy Bubby\",\"Major League II\",\"Late Shift, The\",\"Gummo\",\"Late Night Shopping\",\"Ali G Indahouse\",\"Sea Inside, The (Mar adentro)\",\"Chorus, The (Choristes, Les)\",\"Million Dollar Baby\",\"Aviator, The\",\"Meet the Fockers\",\"Love Song for Bobby Long, A\",\"Merchant of Venice, The\",\"Coach Carter\",\"Uncle Nino\",\"Agony and the Ecstasy, The\",\"Ballad of Jack and Rose, The\",\"Kicking & Screaming\",\"Divorce - Italian Style (Divorzio all'italiana)\",\"Eddie Izzard: Dress to Kill\",\"Calcium Kid, The\",\"Private Resort\",\"Proof\",\"Waiting...\",\"Unfinished Life, An\",\"Greatest Game Ever Played, The\",\"North Country\",\"Manderlay\",\"C.R.A.Z.Y.\",\"Ringer, The\",\"Grandma's Boy\",\"Glory Road\",\"Last Holiday\",\"Akeelah and the Bee\",\"Benchwarmers, The\",\"Stick It\",\"Nacho Libre\",\"Clerks II\",\"Stoned\",\"Orchestra Rehearsal (Prova d'orchestra)\",\"World Trade Center\",\"Pursuit of Happyness, The\",\"Accepted\",\"The Queen\",\"Beerfest\",\"Invincible\",\"All the King's Men\",\"Borat: Cultural Learnings of America for Make Benefit Glorious Nation of Kazakhstan\",\"Employee of the Month\",\"For Your Consideration\",\"Nativity Story, The\",\"Notes on a Scandal\",\"Astronaut Farmer, The\",\"Reno 911!: Miami\",\"Reign Over Me\",\"Mr. Bean's Holiday\",\"This Is England\",\"Away from Her\",\"Bring It On: All or Nothing\",\"Death at a Funeral\",\"Hot Rod\",\"Superbad\",\"Balls of Fury\",\"4 Months, 3 Weeks and 2 Days (4 luni, 3 saptam\\u00e2ni si 2 zile)\",\"Interview\",\"Mr. Woodcock\",\"Game Plan, The\",\"Comebacks, The\",\"King of California\",\"Be Kind Rewind\",\"Meet the Spartans\",\"Semi-Pro\",\"Love Guru, The\",\"Zebraman\",\"99 francs\",\"Baby Mama\",\"You Don't Mess with the Zohan\",\"Welcome to the Sticks (Bienvenue chez les Ch'tis)\",\"Step Brothers\",\"House Bunny, The\",\"Rocker, The\",\"How to Lose Friends & Alienate People\",\"Wave, The (Welle, Die)\",\"Role Models\",\"Sex Drive\",\"Class, The (Entre les murs)\",\"Four Christmases\",\"Frost/Nixon\",\"Seven Pounds\",\"Wrestler, The\",\"Yes Man\",\"Ben X\",\"Departures (Okuribito)\",\"I Love You, Man\",\"Big Stan\",\"In the Loop\",\"Damned United, The\",\"Great Buck Howard, The\",\"Powder Blue\",\"Fired Up\",\"Br\\u00fcno (Bruno)\",\"Humpday\",\"Goods: Live Hard, Sell Hard, The\",\"Miss March\",\"If These Walls Could Talk\",\"Misfortunates, The (De helaasheid der dingen)\",\"Garage\",\"Blind Side, The\",\"Old Dogs\",\"American Pie Presents: The Book of Love (American Pie 7: The Book of Love)\",\"Dennis the Menace Christmas, A\",\"Temple Grandin\",\"Motherhood\",\"Mike Bassett: England Manager\",\"She's Out of My League\",\"Slammin' Salmon, The\",\"Ricky Gervais Live: Animals\",\"Grown Ups\",\"Dinner for Schmucks\",\"Social Network, The\",\"Due Date\",\"King's Speech, The\",\"Fighter, The\",\"Barney's Version\",\"Little Fockers\",\"Girls About Town\",\"Pekka ja P\\u00e4tk\\u00e4 salapoliiseina\",\"Hall Pass\",\"Sunset Limited, The\",\"Arthur\",\"Louis C.K.: Hilarious\",\"Louis C.K.: Shameless\",\"Bridesmaids\",\"Hangover Part II, The\",\"Nothing to Declare (Rien \\u00e0 d\\u00e9clarer)\",\"Elektra Luxx\",\"Bad Teacher\",\"Zookeeper\",\"Help, The\",\"Skin I Live In, The (La piel que habito)\",\"Moneyball\",\"Warrior\",\"Ides of March, The\",\"Margaret\",\"Jack and Jill\",\"Sitter, The\",\"Friends with Kids\",\"Sacrifice (Zhao shi gu er)\",\"Contact High\",\"Einstein and Eddington\",\"Louis C.K.: Live at the Beacon Theater\",\"Prayers for Bobby\",\"Project X\",\"Big Year, The\",\"American Reunion (American Pie 4)\",\"Three Stooges, The\",\"Lucky One, The\",\"Wanderlust\",\"2 Days in New York\",\"Sidewalls (Medianeras)\",\"Campaign, The\",\"Broken\",\"Master, The\",\"Hunt, The (Jagten)\",\"Flight\",\"Nature Calls\",\"Fantastic Fear of Everything, A\",\"Hitchcock\",\"Guilt Trip, The\",\"This Is 40\",\"Parental Guidance\",\"Fish Story (Fisshu sut\\u00f4r\\u00ee)\",\"Incredible Burt Wonderstone, The\",\"Phil Spector\",\"Great Gatsby, The\",\"Internship, The\",\"Hangover Part III, The\",\"Rink, The\",\"Class Act\",\"Grown Ups 2\",\"Jobs\",\"In a World...\",\"Short Term 12\",\"12 Years a Slave\",\"Jackass Presents: Bad Grandpa\",\"Dallas Buyers Club\",\"Inside Llewyn Davis\",\"Mandela: Long Walk to Freedom\",\"Anchorman 2: The Legend Continues\",\"Venus in Fur (La V\\u00e9nus \\u00e0 la fourrure)\",\"Neighbors\",\"Chef\",\"Blended\",\"Boyhood\",\"Whiplash\",\"Inbetweeners 2, The\",\"Camp X-Ray\",\"Cesar Chavez\",\"Leviathan\",\"Tangerines\",\"Dumb and Dumber To\",\"Miss Meadows\",\"Hello Ladies: The Movie\",\"Still Alice\",\"Bring It On: In It To Win It\",\"Fans\",\"National Lampoon's Bag Boy\",\"Dave Chappelle: For What it's Worth\",\"Mommy\",\"Wild\",\"Big Eyes\",\"John Mulaney: New In Town\",\"The Duke of Burgundy\",\"Bill Burr: Why Do I Do This?\",\"The DUFF\",\"Louis C.K.: Live at The Comedy Store\",\"Experimenter\",\"Mistress America\",\"Me and Earl and the Dying Girl\",\"The Overnight\",\"Jim Jefferies: BARE\",\"Chris Rock: Bigger & Blacker\",\"Eddie Izzard: Glorious\",\"George Carlin: It's Bad for Ya!\",\"La v\\u00e9rit\\u00e9 si je mens !\",\"The Malibu Bikini Shop\",\"Pitch Perfect 2\",\"Elections Day\",\"Youth\",\"The Taming of the Scoundrel\",\"Ghost Graduation\",\"Love & Mercy\",\"Ted 2\",\"George Carlin: Back in Town\",\"George Carlin: You Are All Diseased\",\"Steve Jobs\",\"Search Party\",\"April Morning\",\"7 Days in Hell\",\"The Opposite Sex\",\"The Intern\",\"Room\",\"The Runner\",\"Straight Outta Compton\",\"The Danish Girl\",\"It Can't Be!\",\"Oscar\",\"The Night Before\",\"If I Were a Rich Man\",\"Bros Before Hos\",\"Rock the Kasbah\",\"Blue Mountain State: The Rise of Thadland\",\"Big Short, The\",\"John Mulaney: The Comeback Kid\",\"Exposed\",\"Dad's Army\",\"Everybody Wants Some\",\"Sing Street\",\"Neighbors 2: Sorority Rising\",\"The Boss\",\"Captain Fantastic\",\"Popstar: Never Stop Never Stopping\",\"Pel\\u00e9: Birth of a Legend\",\"Mike & Dave Need Wedding Dates\",\"Sully\",\"War Dogs\",\"David Cross: Making America Great Again\",\"London Town\",\"Keeping Up with the Joneses\",\"Office Christmas Party\",\"Hidden Figures\",\"Fences\",\"The Founder\",\"Why Him?\",\"Dave Chappelle: Deep in the Heart of Texas\",\"Gifted\",\"Saved by the Bell: Hawaiian Style\",\"The Night Before\",\"The Meyerowitz Stories\",\"Don Camillo in Moscow\",\"Rory Scovel Tries Stand-Up for the First Time\",\"The Greatest Showman\",\"Jack Whitehall: At Large\",\"The Purple Sea\",\"The Clapper\",\"When We First Met\",\"Fred Armisen: Standup for Drummers\",\"John From\"],\"x\":{\"__ndarray__\":\"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\",\"dtype\":\"float32\",\"shape\":[954]},\"y\":{\"__ndarray__\":\"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\",\"dtype\":\"float32\",\"shape\":[954]}},\"selected\":{\"id\":\"2534\",\"type\":\"Selection\"},\"selection_policy\":{\"id\":\"2535\",\"type\":\"UnionRenderers\"}},\"id\":\"2502\",\"type\":\"ColumnDataSource\"},{\"attributes\":{},\"id\":\"2535\",\"type\":\"UnionRenderers\"},{\"attributes\":{\"text\":\"Movie embeddings projected with PCA\"},\"id\":\"2504\",\"type\":\"Title\"},{\"attributes\":{\"bottom_units\":\"screen\",\"fill_alpha\":{\"value\":0.5},\"fill_color\":{\"value\":\"lightgrey\"},\"left_units\":\"screen\",\"level\":\"overlay\",\"line_alpha\":{\"value\":1.0},\"line_color\":{\"value\":\"black\"},\"line_dash\":[4,4],\"line_width\":{\"value\":2},\"render_mode\":\"css\",\"right_units\":\"screen\",\"top_units\":\"screen\"},\"id\":\"2533\",\"type\":\"BoxAnnotation\"},{\"attributes\":{},\"id\":\"2534\",\"type\":\"Selection\"},{\"attributes\":{},\"id\":\"2510\",\"type\":\"LinearScale\"},{\"attributes\":{\"fill_alpha\":{\"value\":0.1},\"fill_color\":{\"value\":\"#1f77b4\"},\"line_alpha\":{\"value\":0.1},\"line_color\":{\"value\":\"#1f77b4\"},\"size\":{\"units\":\"screen\",\"value\":10},\"x\":{\"field\":\"x\"},\"y\":{\"field\":\"y\"}},\"id\":\"2529\",\"type\":\"Scatter\"},{\"attributes\":{},\"id\":\"2512\",\"type\":\"LinearScale\"},{\"attributes\":{},\"id\":\"2516\",\"type\":\"ZoomInTool\"},{\"attributes\":{\"fill_alpha\":{\"value\":0.4},\"fill_color\":{\"field\":\"colors\"},\"line_color\":{\"value\":\"#1f77b4\"},\"size\":{\"units\":\"screen\",\"value\":10},\"x\":{\"field\":\"x\"},\"y\":{\"field\":\"y\"}},\"id\":\"2528\",\"type\":\"Scatter\"}],\"root_ids\":[\"2503\"]},\"title\":\"Bokeh Application\",\"version\":\"1.3.4\"}};\n",
       "  var render_items = [{\"docid\":\"f85f8e76-3dde-4b76-8aef-b30f4d8610a3\",\"roots\":{\"2503\":\"0a0bd241-5b4f-4e3f-8230-20a922179d42\"}}];\n",
       "  root.Bokeh.embed.embed_items_notebook(docs_json, render_items);\n",
       "\n",
       "  }\n",
       "  if (root.Bokeh !== undefined) {\n",
       "    embed_document(root);\n",
       "  } else {\n",
       "    var attempts = 0;\n",
       "    var timer = setInterval(function(root) {\n",
       "      if (root.Bokeh !== undefined) {\n",
       "        embed_document(root);\n",
       "        clearInterval(timer);\n",
       "      }\n",
       "      attempts++;\n",
       "      if (attempts > 100) {\n",
       "        console.log(\"Bokeh: ERROR: Unable to run BokehJS code because BokehJS library is missing\");\n",
       "        clearInterval(timer);\n",
       "      }\n",
       "    }, 10, root)\n",
       "  }\n",
       "})(window);"
      ],
      "application/vnd.bokehjs_exec.v0+json": ""
     },
     "metadata": {
      "application/vnd.bokehjs_exec.v0+json": {
       "id": "2503"
      }
     },
     "output_type": "display_data"
    }
   ],
   "source": [
    "data = dict(\n",
    "    x=vecs2D[:,0],\n",
    "    y=vecs2D[:,1],\n",
    "    title = df_movies['title'],\n",
    "    genre = df_movies['genres'],\n",
    "    colors = [('black' if df_movies['genres'].iloc[i]=='Comedy' else 'red') for i in range(len(vecs2D))]\n",
    ")\n",
    "source = ColumnDataSource(data)\n",
    "\n",
    "fig = figure(plot_width=1000, plot_height=600,\n",
    "             title=\"Movie embeddings projected with PCA\",\n",
    "             tools=\"pan,wheel_zoom,zoom_in,box_zoom,reset,hover\",\n",
    "             x_axis_type=None, y_axis_type=None, min_border=1)\n",
    "\n",
    "fig.scatter(x='x', y='y',source=source, fill_alpha=0.4, size=10, fill_color='colors')\n",
    "\n",
    "# hover tools\n",
    "hover = fig.select(dict(type=HoverTool))\n",
    "hover.tooltips = {\"content\": \"@title (@genre)\"}\n",
    "\n",
    "show(fig)"
   ]
  },
  {
   "cell_type": "markdown",
   "metadata": {},
   "source": [
    "### Try limiting output to range 0..5"
   ]
  },
  {
   "cell_type": "code",
   "execution_count": 644,
   "metadata": {},
   "outputs": [],
   "source": [
    "df = load(n=20_000)\n",
    "compress_cats(df, 'movieId') # make IDs 0..nmovies-1\n",
    "compress_cats(df, 'userId')\n",
    "\n",
    "nmovies = len(df.groupby('movieId').count())\n",
    "nusers = len(df.groupby('movieId').count())"
   ]
  },
  {
   "cell_type": "code",
   "execution_count": 645,
   "metadata": {},
   "outputs": [
    {
     "name": "stderr",
     "output_type": "stream",
     "text": [
      "/Users/parrt/opt/anaconda3/lib/python3.7/site-packages/ipykernel_launcher.py:13: UserWarning: To copy construct from a tensor, it is recommended to use sourceTensor.clone().detach() or sourceTensor.clone().detach().requires_grad_(True), rather than torch.tensor(sourceTensor).\n",
      "  del sys.path[0]\n"
     ]
    },
    {
     "name": "stdout",
     "output_type": "stream",
     "text": [
      "Epoch   0 loss         4.43\n",
      "Epoch  30 loss         0.57\n",
      "Epoch  60 loss         0.30\n",
      "Epoch  90 loss         0.24\n",
      "Epoch 120 loss         0.23\n",
      "Epoch 150 loss         0.22\n",
      "Epoch 180 loss         0.21\n",
      "Epoch 210 loss         0.20\n",
      "Epoch 240 loss         0.20\n",
      "Epoch 270 loss         0.20\n",
      "Epoch 300 loss         0.20\n",
      "Epoch 330 loss         0.19\n",
      "Epoch 360 loss         0.19\n",
      "Epoch 390 loss         0.19\n",
      "Epoch 420 loss         0.19\n",
      "Epoch 450 loss         0.19\n",
      "Epoch 480 loss         0.19\n"
     ]
    }
   ],
   "source": [
    "U = torch.randn(nusers,  nfactors, device=device, dtype=dtype, requires_grad=True)  # <-- track for autograd\n",
    "M = torch.randn(nmovies, nfactors, device=device, dtype=dtype, requires_grad=True)\n",
    "\n",
    "nfactors = 4\n",
    "learning_rate = 200\n",
    "momentum = .01\n",
    "for t in range(500):\n",
    "    userIds = torch.tensor(df['userId'].values, device=device)\n",
    "    movieIds = torch.tensor(df['movieId'].values, device=device)\n",
    "    ratings = torch.tensor(df['rating'].values, device=device)\n",
    "    r_pred = (U[userIds] * M[movieIds]).sum(axis=1)\n",
    "    r_pred = torch.sigmoid(r_pred) * 5  # limit to 0..5\n",
    "    diff = r_pred - torch.tensor(ratings)\n",
    "    loss = torch.mean( diff.pow(2) )\n",
    "    if t % 30 == 0:\n",
    "        print(f\"Epoch {t:3d} loss {loss:12.2f}\")\n",
    "\n",
    "    loss.backward() # autograd computes U.grad and M.grad\n",
    "\n",
    "    # Update weights; weights have requires_grad=True but we don't need to track these updates\n",
    "    with torch.no_grad():\n",
    "        U -= (momentum*U + learning_rate * U.grad)\n",
    "        M -= (momentum*M + learning_rate * M.grad)\n",
    "\n",
    "        U.grad.zero_() # reset gradients\n",
    "        M.grad.zero_()"
   ]
  },
  {
   "cell_type": "code",
   "execution_count": 646,
   "metadata": {},
   "outputs": [
    {
     "name": "stdout",
     "output_type": "stream",
     "text": [
      "OOB R^2 0.678\n",
      "Train R^2 0.956\n"
     ]
    }
   ],
   "source": [
    "#RF_onehot(df, M.detach().numpy(), U.detach().numpy())\n",
    "RF_onehot(df, M.detach().cpu(), U.detach().cpu())"
   ]
  },
  {
   "cell_type": "markdown",
   "metadata": {},
   "source": [
    "Seems to help a bit. 0.57 to 0.59 OOB R^2. Cool. increasing iterations to 500 and lr=50, moves to 0.64 OOB.\n",
    "\n",
    "lr=200 and momentum=.01 gets 0.7 OOB R^2."
   ]
  },
  {
   "cell_type": "markdown",
   "metadata": {},
   "source": [
    "## Try with AdaGrad minimizer\n"
   ]
  },
  {
   "cell_type": "code",
   "execution_count": 647,
   "metadata": {},
   "outputs": [],
   "source": [
    "df = load(n=20_000)\n",
    "compress_cats(df, 'movieId') # make IDs 0..nmovies-1\n",
    "compress_cats(df, 'userId')\n",
    "\n",
    "nmovies = len(df.groupby('movieId').count())\n",
    "nusers = len(df.groupby('movieId').count())"
   ]
  },
  {
   "cell_type": "code",
   "execution_count": 657,
   "metadata": {},
   "outputs": [
    {
     "name": "stderr",
     "output_type": "stream",
     "text": [
      "/Users/parrt/opt/anaconda3/lib/python3.7/site-packages/ipykernel_launcher.py:17: UserWarning: To copy construct from a tensor, it is recommended to use sourceTensor.clone().detach() or sourceTensor.clone().detach().requires_grad_(True), rather than torch.tensor(sourceTensor).\n"
     ]
    },
    {
     "name": "stdout",
     "output_type": "stream",
     "text": [
      "Epoch   0 loss         4.27\n",
      "Epoch  50 loss         1.36\n",
      "Epoch 100 loss         0.53\n",
      "Epoch 150 loss         0.35\n",
      "Epoch 200 loss         0.26\n",
      "Epoch 250 loss         0.22\n",
      "Epoch 300 loss         0.19\n",
      "Epoch 350 loss         0.18\n",
      "Epoch 400 loss         0.17\n",
      "Epoch 450 loss         0.16\n"
     ]
    }
   ],
   "source": [
    "nfactors = 4\n",
    "\n",
    "U = torch.randn(nusers,  nfactors, device=device, dtype=dtype, requires_grad=True)  # <-- track for autograd\n",
    "M = torch.randn(nmovies, nfactors, device=device, dtype=dtype, requires_grad=True)\n",
    "\n",
    "learning_rate = 2.4\n",
    "e = 0.0000001  # avoid division by zero when scaling learning rate\n",
    "\n",
    "hU = torch.zeros(size=(nusers, nfactors),  device=device, dtype=dtype)\n",
    "hM = torch.zeros(size=(nmovies, nfactors), device=device, dtype=dtype)\n",
    "for t in range(500):\n",
    "    userIds = torch.tensor(df['userId'].values, device=device)\n",
    "    movieIds = torch.tensor(df['movieId'].values, device=device)\n",
    "    ratings = torch.tensor(df['rating'].values, device=device)\n",
    "    r_pred = (U[userIds] * M[movieIds]).sum(axis=1)\n",
    "    r_pred = torch.sigmoid(r_pred) * 5  # limit to 0..5\n",
    "    diff = r_pred - torch.tensor(ratings)\n",
    "    loss = torch.mean( diff.pow(2) )\n",
    "    if t % 50 == 0:\n",
    "        print(f\"Epoch {t:3d} loss {loss:12.2f}\")\n",
    "\n",
    "    loss.backward() # autograd computes U.grad and M.grad\n",
    "\n",
    "    # Update weights; weights have requires_grad=True but we don't need to track these updates\n",
    "    with torch.no_grad():\n",
    "        hU += U.grad * U.grad\n",
    "        hM += M.grad * M.grad\n",
    "        U -= learning_rate * U.grad / (torch.sqrt(hU)+e)\n",
    "        M -= learning_rate * M.grad / (torch.sqrt(hM)+e)\n",
    "\n",
    "        U.grad.zero_() # reset gradients\n",
    "        M.grad.zero_()"
   ]
  },
  {
   "cell_type": "code",
   "execution_count": 649,
   "metadata": {},
   "outputs": [
    {
     "name": "stdout",
     "output_type": "stream",
     "text": [
      "OOB R^2 0.589\n",
      "Train R^2 0.943\n"
     ]
    }
   ],
   "source": [
    "RF_onehot(df, M.cpu().detach().numpy(), U.cpu().detach().numpy())"
   ]
  },
  {
   "cell_type": "code",
   "execution_count": 650,
   "metadata": {},
   "outputs": [
    {
     "data": {
      "image/png": "[encoded data removed]",
      "text/plain": [
       "<Figure size 360x360 with 1 Axes>"
      ]
     },
     "metadata": {
      "needs_background": "light"
     },
     "output_type": "display_data"
    }
   ],
   "source": [
    "df_movies, vecs2D = plot_comedy_drama_embeddings(df, M.cpu().detach().numpy(), xrange=(-5,5), yrange=(-5,5))"
   ]
  },
  {
   "cell_type": "markdown",
   "metadata": {},
   "source": [
    "## Let's add bias to embeddings\n",
    "\n",
    "Much much slower, even on GPU. Still much faster than GPU though."
   ]
  },
  {
   "cell_type": "code",
   "execution_count": 651,
   "metadata": {},
   "outputs": [],
   "source": [
    "# if you run out of memory\n",
    "torch.cuda.empty_cache()"
   ]
  },
  {
   "cell_type": "code",
   "execution_count": 652,
   "metadata": {},
   "outputs": [],
   "source": [
    "df = load(n=15_000)\n",
    "compress_cats(df, 'movieId') # make IDs 0..nmovies-1\n",
    "compress_cats(df, 'userId')\n",
    "\n",
    "nmovies = len(df.groupby('movieId').count())\n",
    "nusers = len(df.groupby('movieId').count())"
   ]
  },
  {
   "cell_type": "code",
   "execution_count": 658,
   "metadata": {},
   "outputs": [
    {
     "name": "stderr",
     "output_type": "stream",
     "text": [
      "/Users/parrt/opt/anaconda3/lib/python3.7/site-packages/ipykernel_launcher.py:23: UserWarning: To copy construct from a tensor, it is recommended to use sourceTensor.clone().detach() or sourceTensor.clone().detach().requires_grad_(True), rather than torch.tensor(sourceTensor).\n"
     ]
    },
    {
     "name": "stdout",
     "output_type": "stream",
     "text": [
      "Epoch   0 loss         4.99\n",
      "Epoch   1 loss         6.71\n",
      "Epoch   2 loss         6.07\n",
      "Epoch   3 loss         5.53\n",
      "Epoch   4 loss         5.04\n",
      "CPU times: user 19.6 s, sys: 22.3 s, total: 41.9 s\n",
      "Wall time: 44.9 s\n"
     ]
    }
   ],
   "source": [
    "%%time # takes Wall time: 44.9s on CPU, 2.6s on p3 AWS GPU\n",
    "nfactors = 4\n",
    "\n",
    "U      = torch.randn(nusers,  nfactors, device=device, dtype=dtype, requires_grad=True)\n",
    "U_bias = torch.randn(nusers,  1,        device=device, dtype=dtype, requires_grad=True)\n",
    "M      = torch.randn(nmovies, nfactors, device=device, dtype=dtype, requires_grad=True)\n",
    "M_bias = torch.randn(nmovies, 1,        device=device, dtype=dtype, requires_grad=True)\n",
    "\n",
    "learning_rate = 3\n",
    "e = 0.0000001  # avoid division by zero when scaling learning rate\n",
    "\n",
    "# track gradient history\n",
    "hU = torch.zeros(size=(nusers,  nfactors), device=device, dtype=dtype)\n",
    "hM = torch.zeros(size=(nmovies, nfactors), device=device, dtype=dtype)\n",
    "hU_bias = torch.zeros(size=(nusers,  1),   device=device, dtype=dtype)\n",
    "hM_bias = torch.zeros(size=(nmovies, 1),   device=device, dtype=dtype)\n",
    "for t in range(5):\n",
    "    userIds = torch.tensor(df['userId'].values, device=device)\n",
    "    movieIds = torch.tensor(df['movieId'].values, device=device)\n",
    "    ratings = torch.tensor(df['rating'].values, device=device)\n",
    "    r_pred = (U[userIds] * M[movieIds]).sum(axis=1, keepdim=True)  # keepdim says keep as shape (20_000,1) not (20_000,)\n",
    "    r_pred += (U_bias[df['userId']] + M_bias[df['movieId']])\n",
    "    r_pred = torch.sigmoid(r_pred) * 5  # limit to 0..5\n",
    "    diff = r_pred - torch.tensor(ratings)\n",
    "    loss = torch.mean( diff.pow(2) )\n",
    "    if t % 1 == 0:\n",
    "        print(f\"Epoch {t:3d} loss {loss:12.2f}\")\n",
    "\n",
    "    loss.backward() # autograd computes U.grad and M.grad\n",
    "\n",
    "    # Update weights; weights have requires_grad=True but we don't need to track these updates\n",
    "    with torch.no_grad():\n",
    "        hU += U.grad * U.grad\n",
    "        hM += M.grad * M.grad\n",
    "        hU_bias += U_bias.grad * U_bias.grad\n",
    "        hM_bias += M_bias.grad * M_bias.grad\n",
    "        U -= learning_rate * U.grad / (torch.sqrt(hU)+e)\n",
    "        M -= learning_rate * M.grad / (torch.sqrt(hM)+e)\n",
    "        U_bias -= learning_rate * U_bias.grad / (torch.sqrt(hU_bias)+e)\n",
    "        M_bias -= learning_rate * M_bias.grad / (torch.sqrt(hM_bias)+e)\n",
    "\n",
    "        U.grad.zero_() # reset gradients\n",
    "        M.grad.zero_()\n",
    "        U_bias.grad.zero_() # reset gradients\n",
    "        M_bias.grad.zero_()"
   ]
  },
  {
   "cell_type": "code",
   "execution_count": 655,
   "metadata": {},
   "outputs": [
    {
     "name": "stdout",
     "output_type": "stream",
     "text": [
      "OOB R^2 0.123\n",
      "Train R^2 0.880\n"
     ]
    }
   ],
   "source": [
    "RF_onehot(df, M.cpu().detach().numpy(), U.cpu().detach().numpy())"
   ]
  },
  {
   "cell_type": "code",
   "execution_count": 656,
   "metadata": {},
   "outputs": [
    {
     "data": {
      "image/png": "[encoded data removed]",
      "text/plain": [
       "<Figure size 360x360 with 1 Axes>"
      ]
     },
     "metadata": {
      "needs_background": "light"
     },
     "output_type": "display_data"
    }
   ],
   "source": [
    "df_movies, vecs2D = plot_comedy_drama_embeddings(df, M.cpu().detach().numpy(), xrange=(-8,8), yrange=(-8,8))"
   ]
  }
 ],
 "metadata": {
  "kernelspec": {
   "display_name": "Python 3",
   "language": "python",
   "name": "python3"
  },
  "language_info": {
   "codemirror_mode": {
    "name": "ipython",
    "version": 3
   },
   "file_extension": ".py",
   "mimetype": "text/x-python",
   "name": "python",
   "nbconvert_exporter": "python",
   "pygments_lexer": "ipython3",
   "version": "3.7.4"
  }
 },
 "nbformat": 4,
 "nbformat_minor": 4
}
