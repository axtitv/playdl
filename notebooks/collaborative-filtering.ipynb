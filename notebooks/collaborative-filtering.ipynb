{
 "cells": [
  {
   "cell_type": "markdown",
   "metadata": {},
   "source": [
    "# Collaborative filtering\n",
    "\n",
    "To learn more about collaborative filtering and PyTorch, I'm going to derive an implementation based upon the ideas in [fastai book chapter 8](https://github.com/fastai/fastbook/blob/master/08_collab.ipynb) for user-movie-ratings from [MovieLens](https://grouplens.org/datasets/movielens/)."
   ]
  },
  {
   "cell_type": "markdown",
   "metadata": {},
   "source": [
    "## Get some movie reviews\n",
    "\n",
    "I will grab [a small subset](http://files.grouplens.org/datasets/movielens/ml-latest-small.zip) and put into `data` subdir:\n",
    "\n",
    "```\n",
    "data/ml-latest-small\n",
    "├── README.txt\n",
    "├── links.csv\n",
    "├── movies.csv\n",
    "├── ratings.csv\n",
    "└── tags.csv\n",
    "```\n",
    "\n",
    "\"*Ratings are made on a 5-star scale, with half-star increments (0.5 stars - 5.0 stars).*\" The `ratings.csv` file looks like:\n",
    "\n",
    "```\n",
    "userId,movieId,rating,timestamp\n",
    "1,1,4.0,964982703\n",
    "1,3,4.0,964981247\n",
    "1,6,4.0,964982224\n",
    "1,47,5.0,964983815\n",
    "...\n",
    "```\n",
    "\n",
    "And, in case we are curious, `movies.csv` has:\n",
    "\n",
    "```\n",
    "movieId,title,genres\n",
    "1,Toy Story (1995),Adventure|Animation|Children|Comedy|Fantasy\n",
    "2,Jumanji (1995),Adventure|Children|Fantasy\n",
    "3,Grumpier Old Men (1995),Comedy|Romance\n",
    "...\n",
    "```"
   ]
  },
  {
   "cell_type": "code",
   "execution_count": 1,
   "metadata": {},
   "outputs": [],
   "source": [
    "import pandas as pd\n",
    "import torch  # Let's try this with PyTorch not numpy\n",
    "# import numpy as np\n",
    "import re\n",
    "# np.set_printoptions(precision=2, suppress=True, linewidth=3000, threshold=20000)\n",
    "\n",
    "def load(n = 10):\n",
    "    df_ratings = pd.read_csv('data/ml-latest-small/ratings.csv')\n",
    "    df_ratings = df_ratings.drop('timestamp', axis=1)\n",
    "    df_ratings = df_ratings.sample(n=n).reset_index(drop=True)\n",
    "    # Merge in the title and genres\n",
    "    df_movies = pd.read_csv('data/ml-latest-small/movies.csv')\n",
    "    df = df_ratings.merge(df_movies, on='movieId')\n",
    "    # Strip the \"(1999)\" dates from the titles\n",
    "    p = re.compile(r'[()0-9]+$')\n",
    "    df['title'] = df['title'].map(lambda x: p.sub('', x).strip())\n",
    "    return df\n",
    "\n",
    "def compress_cats(df, colname):\n",
    "    df[colname] = df[colname].astype('category').cat.as_ordered()\n",
    "    df[colname] = df[colname].cat.codes # encode 0..n-1  NB: Different than I usually do (1..n)!!!!\n",
    "    df[colname] = df[colname].astype(int)"
   ]
  },
  {
   "cell_type": "markdown",
   "metadata": {},
   "source": [
    "## Matrix of user x movie with ratings as elements"
   ]
  },
  {
   "cell_type": "markdown",
   "metadata": {},
   "source": [
    "Let's create a matrix that maps user and movie to a rating. Most of the entries will be zero because not all users have seen all movies. We can start with just a few records so that we can see the entire matrix at once. Zeros in the matrix indicate that the user has not rated that movie. $R_{u,m}$ is rating for user $u$ and movie $m$."
   ]
  },
  {
   "cell_type": "code",
   "execution_count": 2,
   "metadata": {},
   "outputs": [
    {
     "data": {
      "text/html": [
       "<div>\n",
       "<style scoped>\n",
       "    .dataframe tbody tr th:only-of-type {\n",
       "        vertical-align: middle;\n",
       "    }\n",
       "\n",
       "    .dataframe tbody tr th {\n",
       "        vertical-align: top;\n",
       "    }\n",
       "\n",
       "    .dataframe thead th {\n",
       "        text-align: right;\n",
       "    }\n",
       "</style>\n",
       "<table border=\"1\" class=\"dataframe\">\n",
       "  <thead>\n",
       "    <tr style=\"text-align: right;\">\n",
       "      <th></th>\n",
       "      <th>userId</th>\n",
       "      <th>movieId</th>\n",
       "      <th>rating</th>\n",
       "      <th>title</th>\n",
       "      <th>genres</th>\n",
       "    </tr>\n",
       "  </thead>\n",
       "  <tbody>\n",
       "    <tr>\n",
       "      <th>0</th>\n",
       "      <td>3</td>\n",
       "      <td>4</td>\n",
       "      <td>4.0</td>\n",
       "      <td>Insider, The</td>\n",
       "      <td>Drama|Thriller</td>\n",
       "    </tr>\n",
       "    <tr>\n",
       "      <th>1</th>\n",
       "      <td>4</td>\n",
       "      <td>5</td>\n",
       "      <td>0.5</td>\n",
       "      <td>Noah</td>\n",
       "      <td>Adventure|Drama|IMAX</td>\n",
       "    </tr>\n",
       "    <tr>\n",
       "      <th>2</th>\n",
       "      <td>5</td>\n",
       "      <td>3</td>\n",
       "      <td>2.0</td>\n",
       "      <td>Idle Hands</td>\n",
       "      <td>Comedy|Horror</td>\n",
       "    </tr>\n",
       "    <tr>\n",
       "      <th>3</th>\n",
       "      <td>0</td>\n",
       "      <td>1</td>\n",
       "      <td>5.0</td>\n",
       "      <td>Saint, The</td>\n",
       "      <td>Action|Romance|Sci-Fi|Thriller</td>\n",
       "    </tr>\n",
       "    <tr>\n",
       "      <th>4</th>\n",
       "      <td>2</td>\n",
       "      <td>2</td>\n",
       "      <td>2.0</td>\n",
       "      <td>Karate Kid, The</td>\n",
       "      <td>Drama</td>\n",
       "    </tr>\n",
       "    <tr>\n",
       "      <th>5</th>\n",
       "      <td>1</td>\n",
       "      <td>0</td>\n",
       "      <td>4.0</td>\n",
       "      <td>Lost Highway</td>\n",
       "      <td>Crime|Drama|Fantasy|Film-Noir|Mystery|Romance</td>\n",
       "    </tr>\n",
       "  </tbody>\n",
       "</table>\n",
       "</div>"
      ],
      "text/plain": [
       "   userId  movieId  rating            title  \\\n",
       "0       3        4     4.0     Insider, The   \n",
       "1       4        5     0.5             Noah   \n",
       "2       5        3     2.0       Idle Hands   \n",
       "3       0        1     5.0       Saint, The   \n",
       "4       2        2     2.0  Karate Kid, The   \n",
       "5       1        0     4.0     Lost Highway   \n",
       "\n",
       "                                          genres  \n",
       "0                                 Drama|Thriller  \n",
       "1                           Adventure|Drama|IMAX  \n",
       "2                                  Comedy|Horror  \n",
       "3                 Action|Romance|Sci-Fi|Thriller  \n",
       "4                                          Drama  \n",
       "5  Crime|Drama|Fantasy|Film-Noir|Mystery|Romance  "
      ]
     },
     "execution_count": 2,
     "metadata": {},
     "output_type": "execute_result"
    }
   ],
   "source": [
    "df = load(n=6)\n",
    "nmovies = len(df.groupby('movieId').count())\n",
    "nusers = len(df.groupby('movieId').count())\n",
    "compress_cats(df, 'movieId') # make IDs 0..nmovies-1\n",
    "compress_cats(df, 'userId')\n",
    "df"
   ]
  },
  {
   "cell_type": "code",
   "execution_count": 3,
   "metadata": {},
   "outputs": [],
   "source": [
    "dtype = torch.float\n",
    "device = torch.device('cuda:0' if torch.cuda.is_available() else 'cpu')"
   ]
  },
  {
   "cell_type": "code",
   "execution_count": 4,
   "metadata": {},
   "outputs": [
    {
     "data": {
      "text/plain": [
       "tensor([[0.0000, 5.0000, 0.0000, 0.0000, 0.0000, 0.0000],\n",
       "        [4.0000, 0.0000, 0.0000, 0.0000, 0.0000, 0.0000],\n",
       "        [0.0000, 0.0000, 2.0000, 0.0000, 0.0000, 0.0000],\n",
       "        [0.0000, 0.0000, 0.0000, 0.0000, 4.0000, 0.0000],\n",
       "        [0.0000, 0.0000, 0.0000, 0.0000, 0.0000, 0.5000],\n",
       "        [0.0000, 0.0000, 0.0000, 2.0000, 0.0000, 0.0000]], device='cuda:0')"
      ]
     },
     "execution_count": 4,
     "metadata": {},
     "output_type": "execute_result"
    }
   ],
   "source": [
    "def R_matrix(df):\n",
    "    nmovies = len(df.groupby('movieId').count())\n",
    "    nusers = len(df.groupby('movieId').count())\n",
    "    R = torch.zeros(nusers, nmovies, device=device, dtype=dtype)\n",
    "    for u,m,r,_,_ in df.values:\n",
    "        R[u,m] = r  # user u and movie m get rating r\n",
    "    return R\n",
    "\n",
    "R = R_matrix(df)\n",
    "R"
   ]
  },
  {
   "cell_type": "markdown",
   "metadata": {},
   "source": [
    "## Latent factors == dense embedding vectors\n",
    "\n",
    "The goal is to replace the 0s with a predicted rating, just as I did when [creating the embeddings](catvar-embeddings-split-homebrew.ipynb), but this time we will do it with (probabilistic) matrix factorization. The idea is to conjure up two matrices whose matrix multiplication is our ratings matrix.  In other words, $U M^T = R$ for user matrix $U$ and movie matrix $M$. Let's say that we want 4 latent factors for each user and each movie, meaning that the dense embedding vectors are 4 dimensional. $U$ would then be nusers x 4 and $M$ would be nmovies x 4.  For the ith user and jth movie, $U_i \\cdot M_j$ would represent the rating at $R_{i,j}$.\n",
    "\n",
    "We initialize the user and movie embedding matrices randomly:"
   ]
  },
  {
   "cell_type": "code",
   "execution_count": 5,
   "metadata": {},
   "outputs": [
    {
     "data": {
      "text/plain": [
       "tensor([[-1.1317e+00,  2.3950e+00,  8.9069e-02, -1.2368e+00],\n",
       "        [-6.7226e-01, -5.4066e-01, -2.4177e-01,  1.0862e-03],\n",
       "        [-1.7553e-01,  4.5295e-01, -7.1541e-01,  9.2131e-01],\n",
       "        [ 7.8430e-02, -2.3885e+00, -3.0591e-01,  7.1547e-01],\n",
       "        [ 8.3830e-01, -6.0925e-01,  8.7113e-02,  3.9136e-01],\n",
       "        [-1.7425e+00,  1.6218e+00,  1.4196e+00, -2.6106e-01]], device='cuda:0')"
      ]
     },
     "execution_count": 5,
     "metadata": {},
     "output_type": "execute_result"
    }
   ],
   "source": [
    "nfactors = 4\n",
    "U = torch.randn(nusers,  nfactors, device=device, dtype=dtype)\n",
    "M = torch.randn(nmovies, nfactors, device=device, dtype=dtype)\n",
    "U"
   ]
  },
  {
   "cell_type": "markdown",
   "metadata": {},
   "source": [
    "Our first prediction is garbage but this explains the operation we want to perform to get a predicted $R$ matrix:"
   ]
  },
  {
   "cell_type": "code",
   "execution_count": 6,
   "metadata": {},
   "outputs": [
    {
     "data": {
      "text/plain": [
       "tensor([[ 3.2580, -0.7800,  2.5715, -3.0779,  3.2228, -2.9482],\n",
       "        [-0.9900, -1.6482,  0.8451,  1.4297,  0.9466, -0.8403],\n",
       "        [-1.5326, -0.4230, -0.9230,  0.9590, -0.8134, -0.4292],\n",
       "        [-3.2240, -1.3135, -0.7058,  3.7090, -1.0210,  1.1910],\n",
       "        [-0.5679,  1.2363, -1.3916,  0.2957, -1.6622,  1.6117],\n",
       "        [ 1.8464, -0.7611,  2.1014, -2.0291,  1.6485, -2.8055]],\n",
       "       device='cuda:0')"
      ]
     },
     "execution_count": 6,
     "metadata": {},
     "output_type": "execute_result"
    }
   ],
   "source": [
    "R_pred = U.mm(M.T)\n",
    "R_pred"
   ]
  },
  {
   "cell_type": "markdown",
   "metadata": {},
   "source": [
    "## Objective (loss) function\n",
    "\n",
    "So those user and movie matrices are random and of course the resulting ratings are useless.  Understanding how good or bad they are is useful metric and of course what we will optimize to construct proper user and movie matrices. As a starting point, let's just look at the MSE:"
   ]
  },
  {
   "cell_type": "code",
   "execution_count": 7,
   "metadata": {},
   "outputs": [
    {
     "data": {
      "text/plain": [
       "tensor(6.1140, device='cuda:0')"
      ]
     },
     "execution_count": 7,
     "metadata": {},
     "output_type": "execute_result"
    }
   ],
   "source": [
    "loss = torch.mean( (R - R_pred).pow(2) )\n",
    "loss"
   ]
  },
  {
   "cell_type": "markdown",
   "metadata": {},
   "source": [
    "## Minimizing the loss function (gradient descent with momentum)\n",
    "\n",
    "Let's do this using autograd and simple gradient descent (with momentum)."
   ]
  },
  {
   "cell_type": "code",
   "execution_count": 8,
   "metadata": {},
   "outputs": [],
   "source": [
    "df = load(n=10_000)\n",
    "compress_cats(df, 'movieId') # make IDs 0..nmovies-1\n",
    "compress_cats(df, 'userId')\n",
    "\n",
    "nmovies = len(df.groupby('movieId').count())\n",
    "nusers = len(df.groupby('movieId').count())\n",
    "nfactors = 4\n",
    "\n",
    "R = R_matrix(df)\n",
    "\n",
    "U = torch.randn(nusers,  nfactors, device=device, dtype=dtype, requires_grad=True)  # <-- track for autograd\n",
    "M = torch.randn(nmovies, nfactors, device=device, dtype=dtype, requires_grad=True)"
   ]
  },
  {
   "cell_type": "code",
   "execution_count": 9,
   "metadata": {},
   "outputs": [
    {
     "name": "stdout",
     "output_type": "stream",
     "text": [
      "Epoch   0 loss         4.05\n",
      "Epoch  10 loss         1.46\n",
      "Epoch  20 loss         0.67\n",
      "Epoch  30 loss         0.34\n",
      "Epoch  40 loss         0.19\n",
      "Epoch  50 loss         0.12\n",
      "Epoch  60 loss         0.07\n",
      "Epoch  70 loss         0.05\n",
      "Epoch  80 loss         0.03\n",
      "Epoch  90 loss         0.03\n"
     ]
    }
   ],
   "source": [
    "learning_rate = 35\n",
    "momentum = .01\n",
    "for t in range(100):\n",
    "    R_pred = U.mm(M.T) # predict ratings\n",
    "    \n",
    "    loss = torch.mean( (R - R_pred).pow(2) ) # compute objective function\n",
    "    if t % 10 == 0:\n",
    "        print(f\"Epoch {t:3d} loss {loss:12.2f}\")\n",
    "\n",
    "    loss.backward() # autograd\n",
    "\n",
    "    # Update weights; weights have requires_grad=True but we don't need to track these updates\n",
    "    with torch.no_grad():\n",
    "        U -= (momentum*U + learning_rate * U.grad)\n",
    "        M -= (momentum*M + learning_rate * M.grad)\n",
    "\n",
    "        U.grad.zero_() # reset gradients\n",
    "        M.grad.zero_()"
   ]
  },
  {
   "cell_type": "markdown",
   "metadata": {},
   "source": [
    "That says that the accuracy is very good so let's check it out."
   ]
  },
  {
   "cell_type": "markdown",
   "metadata": {},
   "source": [
    "## Check accuracy of embeddings via RF"
   ]
  },
  {
   "cell_type": "code",
   "execution_count": 10,
   "metadata": {},
   "outputs": [],
   "source": [
    "import numpy as np\n",
    "from sklearn.model_selection import train_test_split\n",
    "from sklearn.model_selection import cross_val_score\n",
    "from sklearn.ensemble import RandomForestClassifier, RandomForestRegressor\n",
    "\n",
    "def RF_onehot(df, movie_embeddings, user_embeddings):\n",
    "    X = df[['movieId','userId']]\n",
    "    y = df['rating']\n",
    "    X_emb = np.concatenate([movie_embeddings[X['movieId']],user_embeddings[X['userId']]], axis=1)\n",
    "#     X_train, X_test, y_train, y_test = train_test_split(X_emb, y, test_size=0.2)\n",
    "\n",
    "    rf = RandomForestRegressor(n_estimators=100, n_jobs=-1, oob_score=True)\n",
    "    rf.fit(X_emb, y)\n",
    "    print(f\"OOB R^2 {rf.oob_score_:.3f}\")\n",
    "    print(f\"Train R^2 {rf.score(X_emb, y):.3f}\")\n",
    "    # OOB seems close enough and much faster\n",
    "#     scores = cross_val_score(rf, X_emb, y, cv=5)\n",
    "#     print(f\"5-fold valid R^2 {np.mean(scores):.3f}\")"
   ]
  },
  {
   "cell_type": "code",
   "execution_count": 11,
   "metadata": {},
   "outputs": [
    {
     "name": "stdout",
     "output_type": "stream",
     "text": [
      "OOB R^2 0.094\n",
      "Train R^2 0.876\n"
     ]
    }
   ],
   "source": [
    "RF_onehot(df, M.cpu().detach().numpy(), U.cpu().detach().numpy())\n",
    "#torch.cuda.is_available()"
   ]
  },
  {
   "cell_type": "markdown",
   "metadata": {},
   "source": [
    "Ok, so that accuracy is terrible, barely above guessing the average. What is going on?"
   ]
  },
  {
   "cell_type": "markdown",
   "metadata": {},
   "source": [
    "## Loss should only consider nonzero ratings\n",
    "\n",
    "Well, it seems that the matrix multiplication is the problem because $R$ it is mostly zeros. That means that we are training the vectors to get zeros in the missing spots, which is not what we want. Instead, the loss function needs to consider only the nonzero records. So rather than create $R$, let's just walk through the training records, which are the only non-zero values in the user x movie matrix. I asked [Yannet](https://www.usfca.edu/faculty/yannet-interian) and she confirmed for me that you want to avoid computing the loss on the zeros, which is also very expensive anyway. She said to focus just on the training records."
   ]
  },
  {
   "cell_type": "code",
   "execution_count": 12,
   "metadata": {},
   "outputs": [],
   "source": [
    "np.random.seed(1) # keep same records\n",
    "df = load(n=10)\n",
    "compress_cats(df, 'movieId') # make IDs 0..nmovies-1\n",
    "compress_cats(df, 'userId')\n",
    "\n",
    "nmovies = len(df.groupby('movieId').count())\n",
    "nusers = len(df.groupby('movieId').count())\n",
    "nfactors = 4\n",
    "\n",
    "U = torch.randn(nusers,  nfactors, device=device, dtype=dtype, requires_grad=True)  # <-- track for autograd\n",
    "M = torch.randn(nmovies, nfactors, device=device, dtype=dtype, requires_grad=True)"
   ]
  },
  {
   "cell_type": "code",
   "execution_count": 13,
   "metadata": {},
   "outputs": [
    {
     "data": {
      "text/plain": [
       "tensor([[ 1.9028,  0.5525,  0.0779,  0.8313],\n",
       "        [-0.2777, -1.1174,  0.9686, -1.1505],\n",
       "        [ 0.8511,  0.2461, -0.3194,  1.5738],\n",
       "        [ 0.4501,  0.6138, -0.8221, -0.7562],\n",
       "        [-1.3358,  0.5537,  0.9422,  1.4836],\n",
       "        [-0.0784,  1.1220,  0.4792,  0.0748],\n",
       "        [-0.4087,  0.7368, -0.8786,  1.0214],\n",
       "        [-1.4415,  0.7816, -0.2600,  0.8550],\n",
       "        [ 1.4539,  1.0538, -0.6498, -1.2985],\n",
       "        [-0.8166,  0.1118, -0.9879, -0.3635]], device='cuda:0',\n",
       "       requires_grad=True)"
      ]
     },
     "execution_count": 13,
     "metadata": {},
     "output_type": "execute_result"
    }
   ],
   "source": [
    "U"
   ]
  },
  {
   "cell_type": "code",
   "execution_count": 14,
   "metadata": {},
   "outputs": [
    {
     "data": {
      "text/plain": [
       "tensor([[-0.2558, -2.1026,  0.9904, -0.1019],\n",
       "        [-0.1693, -1.4414, -0.2542,  1.1010],\n",
       "        [ 0.3973,  1.9972,  0.2627, -1.4195],\n",
       "        [-1.1525,  0.5537, -0.1386,  0.8897],\n",
       "        [-3.8398,  1.2641, -0.6713,  0.8208],\n",
       "        [-0.2358,  0.0156, -0.9525,  0.7067],\n",
       "        [-1.5354, -1.3991, -0.9068,  0.0693],\n",
       "        [-1.1845, -0.8873, -0.0870,  1.1350],\n",
       "        [-1.8553,  0.7087, -1.2856, -2.3041],\n",
       "        [ 0.0302,  0.0785, -0.5835,  0.1717]], device='cuda:0',\n",
       "       requires_grad=True)"
      ]
     },
     "execution_count": 14,
     "metadata": {},
     "output_type": "execute_result"
    }
   ],
   "source": [
    "M"
   ]
  },
  {
   "cell_type": "code",
   "execution_count": 15,
   "metadata": {},
   "outputs": [
    {
     "data": {
      "text/html": [
       "<div>\n",
       "<style scoped>\n",
       "    .dataframe tbody tr th:only-of-type {\n",
       "        vertical-align: middle;\n",
       "    }\n",
       "\n",
       "    .dataframe tbody tr th {\n",
       "        vertical-align: top;\n",
       "    }\n",
       "\n",
       "    .dataframe thead th {\n",
       "        text-align: right;\n",
       "    }\n",
       "</style>\n",
       "<table border=\"1\" class=\"dataframe\">\n",
       "  <thead>\n",
       "    <tr style=\"text-align: right;\">\n",
       "      <th></th>\n",
       "      <th>userId</th>\n",
       "      <th>movieId</th>\n",
       "      <th>rating</th>\n",
       "      <th>title</th>\n",
       "      <th>genres</th>\n",
       "    </tr>\n",
       "  </thead>\n",
       "  <tbody>\n",
       "    <tr>\n",
       "      <th>0</th>\n",
       "      <td>4</td>\n",
       "      <td>1</td>\n",
       "      <td>3.0</td>\n",
       "      <td>True Lies</td>\n",
       "      <td>Action|Adventure|Comedy|Romance|Thriller</td>\n",
       "    </tr>\n",
       "    <tr>\n",
       "      <th>1</th>\n",
       "      <td>8</td>\n",
       "      <td>8</td>\n",
       "      <td>5.0</td>\n",
       "      <td>Conjuring, The</td>\n",
       "      <td>Horror|Thriller</td>\n",
       "    </tr>\n",
       "  </tbody>\n",
       "</table>\n",
       "</div>"
      ],
      "text/plain": [
       "   userId  movieId  rating           title  \\\n",
       "0       4        1     3.0       True Lies   \n",
       "1       8        8     5.0  Conjuring, The   \n",
       "\n",
       "                                     genres  \n",
       "0  Action|Adventure|Comedy|Romance|Thriller  \n",
       "1                           Horror|Thriller  "
      ]
     },
     "execution_count": 15,
     "metadata": {},
     "output_type": "execute_result"
    }
   ],
   "source": [
    "df.head(2)"
   ]
  },
  {
   "cell_type": "markdown",
   "metadata": {},
   "source": [
    "Looking at the first record, we see user 4 and movie 1, which we can use to select from the user and move the embeddings matrices:"
   ]
  },
  {
   "cell_type": "code",
   "execution_count": 16,
   "metadata": {},
   "outputs": [
    {
     "data": {
      "text/plain": [
       "(tensor([-1.3358,  0.5537,  0.9422,  1.4836], device='cuda:0',\n",
       "        grad_fn=<SelectBackward>),\n",
       " tensor([-0.1693, -1.4414, -0.2542,  1.1010], device='cuda:0',\n",
       "        grad_fn=<SelectBackward>))"
      ]
     },
     "execution_count": 16,
     "metadata": {},
     "output_type": "execute_result"
    }
   ],
   "source": [
    "U[4], M[1]"
   ]
  },
  {
   "cell_type": "markdown",
   "metadata": {},
   "source": [
    "Using those two vectors, their dot product is our predicted rating:"
   ]
  },
  {
   "cell_type": "code",
   "execution_count": 17,
   "metadata": {},
   "outputs": [
    {
     "data": {
      "text/plain": [
       "tensor(0.8221, device='cuda:0', grad_fn=<DotBackward>)"
      ]
     },
     "execution_count": 17,
     "metadata": {},
     "output_type": "execute_result"
    }
   ],
   "source": [
    "r_pred = U[4].dot(M[1])\n",
    "r_pred"
   ]
  },
  {
   "cell_type": "markdown",
   "metadata": {},
   "source": [
    "The loss associated with this one record is not good as we would expect given the random embeddings:"
   ]
  },
  {
   "cell_type": "code",
   "execution_count": 18,
   "metadata": {},
   "outputs": [
    {
     "data": {
      "text/plain": [
       "tensor(4.7431, device='cuda:0', grad_fn=<PowBackward0>)"
      ]
     },
     "execution_count": 18,
     "metadata": {},
     "output_type": "execute_result"
    }
   ],
   "source": [
    "(df.iloc[0]['rating'] - r_pred).pow(2)"
   ]
  },
  {
   "cell_type": "markdown",
   "metadata": {},
   "source": [
    "If we want to do this with the first two records, we can use a list of user and movie IDs.For example, here are the user embeddings for the first two training records:"
   ]
  },
  {
   "cell_type": "code",
   "execution_count": 19,
   "metadata": {},
   "outputs": [
    {
     "data": {
      "text/plain": [
       "tensor([[-1.3358,  0.5537,  0.9422,  1.4836],\n",
       "        [ 1.4539,  1.0538, -0.6498, -1.2985]], device='cuda:0',\n",
       "       grad_fn=<IndexBackward>)"
      ]
     },
     "execution_count": 19,
     "metadata": {},
     "output_type": "execute_result"
    }
   ],
   "source": [
    "U[[4,8]]"
   ]
  },
  {
   "cell_type": "markdown",
   "metadata": {},
   "source": [
    "Now, we need the dot product for each vector in `U[[4,8]]` and `M[[1,8]]`, which is element-wise modification followed by a some, for for each record. We should get to numbers out of this:"
   ]
  },
  {
   "cell_type": "code",
   "execution_count": 20,
   "metadata": {},
   "outputs": [
    {
     "data": {
      "text/plain": [
       "tensor([[ 0.2261, -0.7980, -0.2395,  1.6335],\n",
       "        [-2.6973,  0.7468,  0.8354,  2.9920]], device='cuda:0',\n",
       "       grad_fn=<MulBackward0>)"
      ]
     },
     "execution_count": 20,
     "metadata": {},
     "output_type": "execute_result"
    }
   ],
   "source": [
    "U[[4,8]] * M[[1,8]]"
   ]
  },
  {
   "cell_type": "code",
   "execution_count": 21,
   "metadata": {},
   "outputs": [
    {
     "data": {
      "text/plain": [
       "tensor([0.8221, 1.8769], device='cuda:0', grad_fn=<SumBackward1>)"
      ]
     },
     "execution_count": 21,
     "metadata": {},
     "output_type": "execute_result"
    }
   ],
   "source": [
    "(U[[4,8]] * M[[1,8]]).sum(axis=1)"
   ]
  },
  {
   "cell_type": "markdown",
   "metadata": {},
   "source": [
    "The MSE is just the average squared difference of those two from the known rating:"
   ]
  },
  {
   "cell_type": "code",
   "execution_count": 23,
   "metadata": {},
   "outputs": [
    {
     "data": {
      "text/plain": [
       "tensor(7.2483, device='cuda:0', grad_fn=<MeanBackward0>)"
      ]
     },
     "execution_count": 23,
     "metadata": {},
     "output_type": "execute_result"
    }
   ],
   "source": [
    "diff = (U[[4,8]] * M[[1,8]]).sum(axis=1) - torch.tensor([3.0,5.0], device=device)\n",
    "loss = torch.mean( diff.pow(2) )\n",
    "loss"
   ]
  },
  {
   "cell_type": "markdown",
   "metadata": {},
   "source": [
    "We could walk with a loop through the training values like this:"
   ]
  },
  {
   "cell_type": "code",
   "execution_count": 24,
   "metadata": {},
   "outputs": [
    {
     "name": "stdout",
     "output_type": "stream",
     "text": [
      "tensor(16.3383, device='cuda:0', grad_fn=<PowBackward0>)\n",
      "tensor(0.1107, device='cuda:0', grad_fn=<PowBackward0>)\n",
      "tensor(14.9857, device='cuda:0', grad_fn=<PowBackward0>)\n",
      "tensor(23.0122, device='cuda:0', grad_fn=<PowBackward0>)\n",
      "tensor(1.8457, device='cuda:0', grad_fn=<PowBackward0>)\n"
     ]
    }
   ],
   "source": [
    "# slow\n",
    "for u,m,r,_,_ in df.values[:5]:\n",
    "    loss = (U[u].dot(U[m]) - r).pow(2)\n",
    "    print(loss)"
   ]
  },
  {
   "cell_type": "markdown",
   "metadata": {},
   "source": [
    "But, the cool kids would vectorized this:"
   ]
  },
  {
   "cell_type": "code",
   "execution_count": 25,
   "metadata": {},
   "outputs": [
    {
     "data": {
      "text/plain": [
       "tensor(1.2097, device='cuda:0', grad_fn=<MeanBackward0>)"
      ]
     },
     "execution_count": 25,
     "metadata": {},
     "output_type": "execute_result"
    }
   ],
   "source": [
    "loss = torch.mean( (U[df['userId']] * M[df['movieId']]).sum(axis=1) )\n",
    "loss"
   ]
  },
  {
   "cell_type": "markdown",
   "metadata": {},
   "source": [
    "### Minimize loss just on training samples (new gradient descent)"
   ]
  },
  {
   "cell_type": "code",
   "execution_count": 26,
   "metadata": {},
   "outputs": [],
   "source": [
    "df = load(n=20_000)\n",
    "compress_cats(df, 'movieId') # make IDs 0..nmovies-1\n",
    "compress_cats(df, 'userId')\n",
    "\n",
    "nmovies = len(df.groupby('movieId').count())\n",
    "nusers = len(df.groupby('movieId').count())"
   ]
  },
  {
   "cell_type": "code",
   "execution_count": 27,
   "metadata": {},
   "outputs": [
    {
     "name": "stdout",
     "output_type": "stream",
     "text": [
      "Epoch   0 loss        17.29\n",
      "Epoch  10 loss        10.35\n",
      "Epoch  20 loss         3.62\n",
      "Epoch  30 loss         1.67\n",
      "Epoch  40 loss         1.13\n",
      "Epoch  50 loss         0.87\n",
      "Epoch  60 loss         0.77\n",
      "Epoch  70 loss         0.91\n",
      "Epoch  80 loss         0.81\n",
      "Epoch  90 loss         0.79\n"
     ]
    },
    {
     "name": "stderr",
     "output_type": "stream",
     "text": [
      "/home/ubuntu/anaconda3/envs/pytorch_latest_p36/lib/python3.6/site-packages/ipykernel_launcher.py:12: UserWarning: To copy construct from a tensor, it is recommended to use sourceTensor.clone().detach() or sourceTensor.clone().detach().requires_grad_(True), rather than torch.tensor(sourceTensor).\n",
      "  if sys.path[0] == '':\n"
     ]
    }
   ],
   "source": [
    "#%%time about 26s on my machine and too fast to measure with stopwatch on GPU p3.2xlarge instance\n",
    "U = torch.randn(nusers,  nfactors, device=device, dtype=dtype, requires_grad=True)  # <-- track for autograd\n",
    "M = torch.randn(nmovies, nfactors, device=device, dtype=dtype, requires_grad=True)\n",
    "\n",
    "nfactors = 4\n",
    "learning_rate = 45\n",
    "momentum = .015\n",
    "for t in range(100):\n",
    "    userIds = torch.tensor(df['userId'].values).cuda()\n",
    "    movieIds = torch.tensor(df['movieId'].values).cuda()\n",
    "    ratings = torch.tensor(df['rating'].values).cuda()\n",
    "    diff = (U[userIds] * M[movieIds]).sum(axis=1) - torch.tensor(ratings)\n",
    "    loss = torch.mean( diff.pow(2) )\n",
    "    if t % 10 == 0:\n",
    "        print(f\"Epoch {t:3d} loss {loss:12.2f}\")\n",
    "\n",
    "    loss.backward() # autograd computes U.grad and M.grad\n",
    "\n",
    "    # Update weights; weights have requires_grad=True but we don't need to track these updates\n",
    "    with torch.no_grad():\n",
    "        U -= (momentum*U + learning_rate * U.grad)\n",
    "        M -= (momentum*M + learning_rate * M.grad)\n",
    "\n",
    "        U.grad.zero_() # reset gradients\n",
    "        M.grad.zero_()"
   ]
  },
  {
   "cell_type": "code",
   "execution_count": 28,
   "metadata": {},
   "outputs": [
    {
     "name": "stdout",
     "output_type": "stream",
     "text": [
      "OOB R^2 0.489\n",
      "Train R^2 0.930\n"
     ]
    }
   ],
   "source": [
    "#RF_onehot(df, M.detach().numpy(), U.detach().numpy())\n",
    "RF_onehot(df, M.detach().cpu(), U.detach().cpu())"
   ]
  },
  {
   "cell_type": "code",
   "execution_count": 29,
   "metadata": {},
   "outputs": [],
   "source": [
    "from sklearn.decomposition import PCA\n",
    "import matplotlib.pyplot as plt\n",
    "\n",
    "def plot_comedy_drama_embeddings(df, movie_embeddings, xrange=(-.3,.3), yrange=(-.15,.15)):\n",
    "    # get unique movie ID and title and genres\n",
    "    df_movies = df.sort_values('movieId')[['movieId','title','genres']]\n",
    "    df_movies = df_movies.drop_duplicates()\n",
    "    df_movies = df_movies[(df_movies['genres']=='Comedy')|(df_movies['genres']=='Drama')]\n",
    "    movie_embeddings = movie_embeddings[df_movies['movieId']]\n",
    "    \n",
    "    plt.figure(figsize=(5,5))\n",
    "    movieIds = df_movies['movieId'].values\n",
    "    genres = df_movies['genres'].values\n",
    "    titles = df_movies['title'].values\n",
    "    pca = PCA(n_components=2)\n",
    "    vecs2D = pca.fit_transform(movie_embeddings)\n",
    "    c = [('k' if genres[i]=='Comedy' else 'r') for i in range(len(vecs2D))]\n",
    "    plt.scatter(vecs2D[:,0], vecs2D[:,1], c=c, s=5, alpha=.5)\n",
    "    plt.xlim(*xrange)\n",
    "    plt.ylim(*yrange)\n",
    "    plt.show()\n",
    "    return df_movies, vecs2D"
   ]
  },
  {
   "cell_type": "code",
   "execution_count": 30,
   "metadata": {},
   "outputs": [
    {
     "data": {
      "image/png": "[encoded data removed]",
      "text/plain": [
       "<Figure size 360x360 with 1 Axes>"
      ]
     },
     "metadata": {
      "needs_background": "light"
     },
     "output_type": "display_data"
    }
   ],
   "source": [
    "df_movies, vecs2D = plot_comedy_drama_embeddings(df, M.cpu().detach().numpy(), xrange=(-2,2), yrange=(-1.5,1.5))"
   ]
  },
  {
   "cell_type": "markdown",
   "metadata": {},
   "source": [
    "### Learn to use bokeh\n",
    "\n",
    "Derived from [Collaborative Filtering and Embeddings — Part 2 by Shikhar Gupta](https://towardsdatascience.com/collaborative-filtering-and-embeddings-part-2-919da17ecefb), alumnus of USFCA MSDS. :)  This pops up another window and hover shows title/genre."
   ]
  },
  {
   "cell_type": "code",
   "execution_count": 31,
   "metadata": {},
   "outputs": [
    {
     "data": {
      "text/html": [
       "\n",
       "    <div class=\"bk-root\">\n",
       "        <a href=\"https://bokeh.org\" target=\"_blank\" class=\"bk-logo bk-logo-small bk-logo-notebook\"></a>\n",
       "        <span id=\"1001\">Loading BokehJS ...</span>\n",
       "    </div>"
      ]
     },
     "metadata": {},
     "output_type": "display_data"
    },
    {
     "data": {
      "application/javascript": [
       "\n",
       "(function(root) {\n",
       "  function now() {\n",
       "    return new Date();\n",
       "  }\n",
       "\n",
       "  var force = true;\n",
       "\n",
       "  if (typeof root._bokeh_onload_callbacks === \"undefined\" || force === true) {\n",
       "    root._bokeh_onload_callbacks = [];\n",
       "    root._bokeh_is_loading = undefined;\n",
       "  }\n",
       "\n",
       "  var JS_MIME_TYPE = 'application/javascript';\n",
       "  var HTML_MIME_TYPE = 'text/html';\n",
       "  var EXEC_MIME_TYPE = 'application/vnd.bokehjs_exec.v0+json';\n",
       "  var CLASS_NAME = 'output_bokeh rendered_html';\n",
       "\n",
       "  /**\n",
       "   * Render data to the DOM node\n",
       "   */\n",
       "  function render(props, node) {\n",
       "    var script = document.createElement(\"script\");\n",
       "    node.appendChild(script);\n",
       "  }\n",
       "\n",
       "  /**\n",
       "   * Handle when an output is cleared or removed\n",
       "   */\n",
       "  function handleClearOutput(event, handle) {\n",
       "    var cell = handle.cell;\n",
       "\n",
       "    var id = cell.output_area._bokeh_element_id;\n",
       "    var server_id = cell.output_area._bokeh_server_id;\n",
       "    // Clean up Bokeh references\n",
       "    if (id != null && id in Bokeh.index) {\n",
       "      Bokeh.index[id].model.document.clear();\n",
       "      delete Bokeh.index[id];\n",
       "    }\n",
       "\n",
       "    if (server_id !== undefined) {\n",
       "      // Clean up Bokeh references\n",
       "      var cmd = \"from bokeh.io.state import curstate; print(curstate().uuid_to_server['\" + server_id + \"'].get_sessions()[0].document.roots[0]._id)\";\n",
       "      cell.notebook.kernel.execute(cmd, {\n",
       "        iopub: {\n",
       "          output: function(msg) {\n",
       "            var id = msg.content.text.trim();\n",
       "            if (id in Bokeh.index) {\n",
       "              Bokeh.index[id].model.document.clear();\n",
       "              delete Bokeh.index[id];\n",
       "            }\n",
       "          }\n",
       "        }\n",
       "      });\n",
       "      // Destroy server and session\n",
       "      var cmd = \"import bokeh.io.notebook as ion; ion.destroy_server('\" + server_id + \"')\";\n",
       "      cell.notebook.kernel.execute(cmd);\n",
       "    }\n",
       "  }\n",
       "\n",
       "  /**\n",
       "   * Handle when a new output is added\n",
       "   */\n",
       "  function handleAddOutput(event, handle) {\n",
       "    var output_area = handle.output_area;\n",
       "    var output = handle.output;\n",
       "\n",
       "    // limit handleAddOutput to display_data with EXEC_MIME_TYPE content only\n",
       "    if ((output.output_type != \"display_data\") || (!output.data.hasOwnProperty(EXEC_MIME_TYPE))) {\n",
       "      return\n",
       "    }\n",
       "\n",
       "    var toinsert = output_area.element.find(\".\" + CLASS_NAME.split(' ')[0]);\n",
       "\n",
       "    if (output.metadata[EXEC_MIME_TYPE][\"id\"] !== undefined) {\n",
       "      toinsert[toinsert.length - 1].firstChild.textContent = output.data[JS_MIME_TYPE];\n",
       "      // store reference to embed id on output_area\n",
       "      output_area._bokeh_element_id = output.metadata[EXEC_MIME_TYPE][\"id\"];\n",
       "    }\n",
       "    if (output.metadata[EXEC_MIME_TYPE][\"server_id\"] !== undefined) {\n",
       "      var bk_div = document.createElement(\"div\");\n",
       "      bk_div.innerHTML = output.data[HTML_MIME_TYPE];\n",
       "      var script_attrs = bk_div.children[0].attributes;\n",
       "      for (var i = 0; i < script_attrs.length; i++) {\n",
       "        toinsert[toinsert.length - 1].firstChild.setAttribute(script_attrs[i].name, script_attrs[i].value);\n",
       "        toinsert[toinsert.length - 1].firstChild.textContent = bk_div.children[0].textContent\n",
       "      }\n",
       "      // store reference to server id on output_area\n",
       "      output_area._bokeh_server_id = output.metadata[EXEC_MIME_TYPE][\"server_id\"];\n",
       "    }\n",
       "  }\n",
       "\n",
       "  function register_renderer(events, OutputArea) {\n",
       "\n",
       "    function append_mime(data, metadata, element) {\n",
       "      // create a DOM node to render to\n",
       "      var toinsert = this.create_output_subarea(\n",
       "        metadata,\n",
       "        CLASS_NAME,\n",
       "        EXEC_MIME_TYPE\n",
       "      );\n",
       "      this.keyboard_manager.register_events(toinsert);\n",
       "      // Render to node\n",
       "      var props = {data: data, metadata: metadata[EXEC_MIME_TYPE]};\n",
       "      render(props, toinsert[toinsert.length - 1]);\n",
       "      element.append(toinsert);\n",
       "      return toinsert\n",
       "    }\n",
       "\n",
       "    /* Handle when an output is cleared or removed */\n",
       "    events.on('clear_output.CodeCell', handleClearOutput);\n",
       "    events.on('delete.Cell', handleClearOutput);\n",
       "\n",
       "    /* Handle when a new output is added */\n",
       "    events.on('output_added.OutputArea', handleAddOutput);\n",
       "\n",
       "    /**\n",
       "     * Register the mime type and append_mime function with output_area\n",
       "     */\n",
       "    OutputArea.prototype.register_mime_type(EXEC_MIME_TYPE, append_mime, {\n",
       "      /* Is output safe? */\n",
       "      safe: true,\n",
       "      /* Index of renderer in `output_area.display_order` */\n",
       "      index: 0\n",
       "    });\n",
       "  }\n",
       "\n",
       "  // register the mime type if in Jupyter Notebook environment and previously unregistered\n",
       "  if (root.Jupyter !== undefined) {\n",
       "    var events = require('base/js/events');\n",
       "    var OutputArea = require('notebook/js/outputarea').OutputArea;\n",
       "\n",
       "    if (OutputArea.prototype.mime_types().indexOf(EXEC_MIME_TYPE) == -1) {\n",
       "      register_renderer(events, OutputArea);\n",
       "    }\n",
       "  }\n",
       "\n",
       "  \n",
       "  if (typeof (root._bokeh_timeout) === \"undefined\" || force === true) {\n",
       "    root._bokeh_timeout = Date.now() + 5000;\n",
       "    root._bokeh_failed_load = false;\n",
       "  }\n",
       "\n",
       "  var NB_LOAD_WARNING = {'data': {'text/html':\n",
       "     \"<div style='background-color: #fdd'>\\n\"+\n",
       "     \"<p>\\n\"+\n",
       "     \"BokehJS does not appear to have successfully loaded. If loading BokehJS from CDN, this \\n\"+\n",
       "     \"may be due to a slow or bad network connection. Possible fixes:\\n\"+\n",
       "     \"</p>\\n\"+\n",
       "     \"<ul>\\n\"+\n",
       "     \"<li>re-rerun `output_notebook()` to attempt to load from CDN again, or</li>\\n\"+\n",
       "     \"<li>use INLINE resources instead, as so:</li>\\n\"+\n",
       "     \"</ul>\\n\"+\n",
       "     \"<code>\\n\"+\n",
       "     \"from bokeh.resources import INLINE\\n\"+\n",
       "     \"output_notebook(resources=INLINE)\\n\"+\n",
       "     \"</code>\\n\"+\n",
       "     \"</div>\"}};\n",
       "\n",
       "  function display_loaded() {\n",
       "    var el = document.getElementById(\"1001\");\n",
       "    if (el != null) {\n",
       "      el.textContent = \"BokehJS is loading...\";\n",
       "    }\n",
       "    if (root.Bokeh !== undefined) {\n",
       "      if (el != null) {\n",
       "        el.textContent = \"BokehJS \" + root.Bokeh.version + \" successfully loaded.\";\n",
       "      }\n",
       "    } else if (Date.now() < root._bokeh_timeout) {\n",
       "      setTimeout(display_loaded, 100)\n",
       "    }\n",
       "  }\n",
       "\n",
       "\n",
       "  function run_callbacks() {\n",
       "    try {\n",
       "      root._bokeh_onload_callbacks.forEach(function(callback) {\n",
       "        if (callback != null)\n",
       "          callback();\n",
       "      });\n",
       "    } finally {\n",
       "      delete root._bokeh_onload_callbacks\n",
       "    }\n",
       "    console.debug(\"Bokeh: all callbacks have finished\");\n",
       "  }\n",
       "\n",
       "  function load_libs(css_urls, js_urls, callback) {\n",
       "    if (css_urls == null) css_urls = [];\n",
       "    if (js_urls == null) js_urls = [];\n",
       "\n",
       "    root._bokeh_onload_callbacks.push(callback);\n",
       "    if (root._bokeh_is_loading > 0) {\n",
       "      console.debug(\"Bokeh: BokehJS is being loaded, scheduling callback at\", now());\n",
       "      return null;\n",
       "    }\n",
       "    if (js_urls == null || js_urls.length === 0) {\n",
       "      run_callbacks();\n",
       "      return null;\n",
       "    }\n",
       "    console.debug(\"Bokeh: BokehJS not loaded, scheduling load and callback at\", now());\n",
       "    root._bokeh_is_loading = css_urls.length + js_urls.length;\n",
       "\n",
       "    function on_load() {\n",
       "      root._bokeh_is_loading--;\n",
       "      if (root._bokeh_is_loading === 0) {\n",
       "        console.debug(\"Bokeh: all BokehJS libraries/stylesheets loaded\");\n",
       "        run_callbacks()\n",
       "      }\n",
       "    }\n",
       "\n",
       "    function on_error() {\n",
       "      console.error(\"failed to load \" + url);\n",
       "    }\n",
       "\n",
       "    for (var i = 0; i < css_urls.length; i++) {\n",
       "      var url = css_urls[i];\n",
       "      const element = document.createElement(\"link\");\n",
       "      element.onload = on_load;\n",
       "      element.onerror = on_error;\n",
       "      element.rel = \"stylesheet\";\n",
       "      element.type = \"text/css\";\n",
       "      element.href = url;\n",
       "      console.debug(\"Bokeh: injecting link tag for BokehJS stylesheet: \", url);\n",
       "      document.body.appendChild(element);\n",
       "    }\n",
       "\n",
       "    const hashes = {\"https://cdn.bokeh.org/bokeh/release/bokeh-2.0.1.min.js\": \"JpP8FXbgAZLkfur7LiK3j9AGBhHNIvF742meBJrjO2ShJDhCG2I1uVvW+0DUtrmc\", \"https://cdn.bokeh.org/bokeh/release/bokeh-widgets-2.0.1.min.js\": \"xZlADit0Q04ISQEdKg2k3L4W9AwQBAuDs9nJL9fM/WwzL1tEU9VPNezOFX0nLEAz\", \"https://cdn.bokeh.org/bokeh/release/bokeh-tables-2.0.1.min.js\": \"4BuPRZkdMKSnj3zoxiNrQ86XgNw0rYmBOxe7nshquXwwcauupgBF2DHLVG1WuZlV\", \"https://cdn.bokeh.org/bokeh/release/bokeh-gl-2.0.1.min.js\": \"Dv1SQ87hmDqK6S5OhBf0bCuwAEvL5QYL0PuR/F1SPVhCS/r/abjkbpKDYL2zeM19\"};\n",
       "\n",
       "    for (var i = 0; i < js_urls.length; i++) {\n",
       "      var url = js_urls[i];\n",
       "      var element = document.createElement('script');\n",
       "      element.onload = on_load;\n",
       "      element.onerror = on_error;\n",
       "      element.async = false;\n",
       "      element.src = url;\n",
       "      if (url in hashes) {\n",
       "        element.crossOrigin = \"anonymous\";\n",
       "        element.integrity = \"sha384-\" + hashes[url];\n",
       "      }\n",
       "      console.debug(\"Bokeh: injecting script tag for BokehJS library: \", url);\n",
       "      document.head.appendChild(element);\n",
       "    }\n",
       "  };var element = document.getElementById(\"1001\");\n",
       "  if (element == null) {\n",
       "    console.error(\"Bokeh: ERROR: autoload.js configured with elementid '1001' but no matching script tag was found. \")\n",
       "    return false;\n",
       "  }\n",
       "\n",
       "  function inject_raw_css(css) {\n",
       "    const element = document.createElement(\"style\");\n",
       "    element.appendChild(document.createTextNode(css));\n",
       "    document.body.appendChild(element);\n",
       "  }\n",
       "\n",
       "  \n",
       "  var js_urls = [\"https://cdn.bokeh.org/bokeh/release/bokeh-2.0.1.min.js\", \"https://cdn.bokeh.org/bokeh/release/bokeh-widgets-2.0.1.min.js\", \"https://cdn.bokeh.org/bokeh/release/bokeh-tables-2.0.1.min.js\", \"https://cdn.bokeh.org/bokeh/release/bokeh-gl-2.0.1.min.js\"];\n",
       "  var css_urls = [];\n",
       "  \n",
       "\n",
       "  var inline_js = [\n",
       "    function(Bokeh) {\n",
       "      Bokeh.set_log_level(\"info\");\n",
       "    },\n",
       "    function(Bokeh) {\n",
       "    \n",
       "    \n",
       "    }\n",
       "  ];\n",
       "\n",
       "  function run_inline_js() {\n",
       "    \n",
       "    if (root.Bokeh !== undefined || force === true) {\n",
       "      \n",
       "    for (var i = 0; i < inline_js.length; i++) {\n",
       "      inline_js[i].call(root, root.Bokeh);\n",
       "    }\n",
       "    if (force === true) {\n",
       "        display_loaded();\n",
       "      }} else if (Date.now() < root._bokeh_timeout) {\n",
       "      setTimeout(run_inline_js, 100);\n",
       "    } else if (!root._bokeh_failed_load) {\n",
       "      console.log(\"Bokeh: BokehJS failed to load within specified timeout.\");\n",
       "      root._bokeh_failed_load = true;\n",
       "    } else if (force !== true) {\n",
       "      var cell = $(document.getElementById(\"1001\")).parents('.cell').data().cell;\n",
       "      cell.output_area.append_execute_result(NB_LOAD_WARNING)\n",
       "    }\n",
       "\n",
       "  }\n",
       "\n",
       "  if (root._bokeh_is_loading === 0) {\n",
       "    console.debug(\"Bokeh: BokehJS loaded, going straight to plotting\");\n",
       "    run_inline_js();\n",
       "  } else {\n",
       "    load_libs(css_urls, js_urls, function() {\n",
       "      console.debug(\"Bokeh: BokehJS plotting callback run at\", now());\n",
       "      run_inline_js();\n",
       "    });\n",
       "  }\n",
       "}(window));"
      ],
      "application/vnd.bokehjs_load.v0+json": "\n(function(root) {\n  function now() {\n    return new Date();\n  }\n\n  var force = true;\n\n  if (typeof root._bokeh_onload_callbacks === \"undefined\" || force === true) {\n    root._bokeh_onload_callbacks = [];\n    root._bokeh_is_loading = undefined;\n  }\n\n  \n\n  \n  if (typeof (root._bokeh_timeout) === \"undefined\" || force === true) {\n    root._bokeh_timeout = Date.now() + 5000;\n    root._bokeh_failed_load = false;\n  }\n\n  var NB_LOAD_WARNING = {'data': {'text/html':\n     \"<div style='background-color: #fdd'>\\n\"+\n     \"<p>\\n\"+\n     \"BokehJS does not appear to have successfully loaded. If loading BokehJS from CDN, this \\n\"+\n     \"may be due to a slow or bad network connection. Possible fixes:\\n\"+\n     \"</p>\\n\"+\n     \"<ul>\\n\"+\n     \"<li>re-rerun `output_notebook()` to attempt to load from CDN again, or</li>\\n\"+\n     \"<li>use INLINE resources instead, as so:</li>\\n\"+\n     \"</ul>\\n\"+\n     \"<code>\\n\"+\n     \"from bokeh.resources import INLINE\\n\"+\n     \"output_notebook(resources=INLINE)\\n\"+\n     \"</code>\\n\"+\n     \"</div>\"}};\n\n  function display_loaded() {\n    var el = document.getElementById(\"1001\");\n    if (el != null) {\n      el.textContent = \"BokehJS is loading...\";\n    }\n    if (root.Bokeh !== undefined) {\n      if (el != null) {\n        el.textContent = \"BokehJS \" + root.Bokeh.version + \" successfully loaded.\";\n      }\n    } else if (Date.now() < root._bokeh_timeout) {\n      setTimeout(display_loaded, 100)\n    }\n  }\n\n\n  function run_callbacks() {\n    try {\n      root._bokeh_onload_callbacks.forEach(function(callback) {\n        if (callback != null)\n          callback();\n      });\n    } finally {\n      delete root._bokeh_onload_callbacks\n    }\n    console.debug(\"Bokeh: all callbacks have finished\");\n  }\n\n  function load_libs(css_urls, js_urls, callback) {\n    if (css_urls == null) css_urls = [];\n    if (js_urls == null) js_urls = [];\n\n    root._bokeh_onload_callbacks.push(callback);\n    if (root._bokeh_is_loading > 0) {\n      console.debug(\"Bokeh: BokehJS is being loaded, scheduling callback at\", now());\n      return null;\n    }\n    if (js_urls == null || js_urls.length === 0) {\n      run_callbacks();\n      return null;\n    }\n    console.debug(\"Bokeh: BokehJS not loaded, scheduling load and callback at\", now());\n    root._bokeh_is_loading = css_urls.length + js_urls.length;\n\n    function on_load() {\n      root._bokeh_is_loading--;\n      if (root._bokeh_is_loading === 0) {\n        console.debug(\"Bokeh: all BokehJS libraries/stylesheets loaded\");\n        run_callbacks()\n      }\n    }\n\n    function on_error() {\n      console.error(\"failed to load \" + url);\n    }\n\n    for (var i = 0; i < css_urls.length; i++) {\n      var url = css_urls[i];\n      const element = document.createElement(\"link\");\n      element.onload = on_load;\n      element.onerror = on_error;\n      element.rel = \"stylesheet\";\n      element.type = \"text/css\";\n      element.href = url;\n      console.debug(\"Bokeh: injecting link tag for BokehJS stylesheet: \", url);\n      document.body.appendChild(element);\n    }\n\n    const hashes = {\"https://cdn.bokeh.org/bokeh/release/bokeh-2.0.1.min.js\": \"JpP8FXbgAZLkfur7LiK3j9AGBhHNIvF742meBJrjO2ShJDhCG2I1uVvW+0DUtrmc\", \"https://cdn.bokeh.org/bokeh/release/bokeh-widgets-2.0.1.min.js\": \"xZlADit0Q04ISQEdKg2k3L4W9AwQBAuDs9nJL9fM/WwzL1tEU9VPNezOFX0nLEAz\", \"https://cdn.bokeh.org/bokeh/release/bokeh-tables-2.0.1.min.js\": \"4BuPRZkdMKSnj3zoxiNrQ86XgNw0rYmBOxe7nshquXwwcauupgBF2DHLVG1WuZlV\", \"https://cdn.bokeh.org/bokeh/release/bokeh-gl-2.0.1.min.js\": \"Dv1SQ87hmDqK6S5OhBf0bCuwAEvL5QYL0PuR/F1SPVhCS/r/abjkbpKDYL2zeM19\"};\n\n    for (var i = 0; i < js_urls.length; i++) {\n      var url = js_urls[i];\n      var element = document.createElement('script');\n      element.onload = on_load;\n      element.onerror = on_error;\n      element.async = false;\n      element.src = url;\n      if (url in hashes) {\n        element.crossOrigin = \"anonymous\";\n        element.integrity = \"sha384-\" + hashes[url];\n      }\n      console.debug(\"Bokeh: injecting script tag for BokehJS library: \", url);\n      document.head.appendChild(element);\n    }\n  };var element = document.getElementById(\"1001\");\n  if (element == null) {\n    console.error(\"Bokeh: ERROR: autoload.js configured with elementid '1001' but no matching script tag was found. \")\n    return false;\n  }\n\n  function inject_raw_css(css) {\n    const element = document.createElement(\"style\");\n    element.appendChild(document.createTextNode(css));\n    document.body.appendChild(element);\n  }\n\n  \n  var js_urls = [\"https://cdn.bokeh.org/bokeh/release/bokeh-2.0.1.min.js\", \"https://cdn.bokeh.org/bokeh/release/bokeh-widgets-2.0.1.min.js\", \"https://cdn.bokeh.org/bokeh/release/bokeh-tables-2.0.1.min.js\", \"https://cdn.bokeh.org/bokeh/release/bokeh-gl-2.0.1.min.js\"];\n  var css_urls = [];\n  \n\n  var inline_js = [\n    function(Bokeh) {\n      Bokeh.set_log_level(\"info\");\n    },\n    function(Bokeh) {\n    \n    \n    }\n  ];\n\n  function run_inline_js() {\n    \n    if (root.Bokeh !== undefined || force === true) {\n      \n    for (var i = 0; i < inline_js.length; i++) {\n      inline_js[i].call(root, root.Bokeh);\n    }\n    if (force === true) {\n        display_loaded();\n      }} else if (Date.now() < root._bokeh_timeout) {\n      setTimeout(run_inline_js, 100);\n    } else if (!root._bokeh_failed_load) {\n      console.log(\"Bokeh: BokehJS failed to load within specified timeout.\");\n      root._bokeh_failed_load = true;\n    } else if (force !== true) {\n      var cell = $(document.getElementById(\"1001\")).parents('.cell').data().cell;\n      cell.output_area.append_execute_result(NB_LOAD_WARNING)\n    }\n\n  }\n\n  if (root._bokeh_is_loading === 0) {\n    console.debug(\"Bokeh: BokehJS loaded, going straight to plotting\");\n    run_inline_js();\n  } else {\n    load_libs(css_urls, js_urls, function() {\n      console.debug(\"Bokeh: BokehJS plotting callback run at\", now());\n      run_inline_js();\n    });\n  }\n}(window));"
     },
     "metadata": {},
     "output_type": "display_data"
    }
   ],
   "source": [
    "from bokeh.plotting import figure, show, output_notebook, save\n",
    "from bokeh.models import HoverTool, value, LabelSet, Legend, ColumnDataSource\n",
    "\n",
    "output_notebook() # send to notebook not tab"
   ]
  },
  {
   "cell_type": "code",
   "execution_count": 32,
   "metadata": {},
   "outputs": [
    {
     "data": {
      "text/html": [
       "\n",
       "\n",
       "\n",
       "\n",
       "\n",
       "\n",
       "  <div class=\"bk-root\" id=\"a72f3925-fd16-48bc-86ca-62cd9acead6d\" data-root-id=\"1003\"></div>\n"
      ]
     },
     "metadata": {},
     "output_type": "display_data"
    },
    {
     "data": {
      "application/javascript": [
       "(function(root) {\n",
       "  function embed_document(root) {\n",
       "    \n",
       "  var docs_json = {\"1e4c649f-e8dc-4397-a3f7-579015425011\":{\"roots\":{\"references\":[{\"attributes\":{\"min_border\":1,\"plot_width\":1000,\"renderers\":[{\"id\":\"1031\"}],\"title\":{\"id\":\"1004\"},\"toolbar\":{\"id\":\"1021\"},\"x_range\":{\"id\":\"1006\"},\"x_scale\":{\"id\":\"1010\"},\"y_range\":{\"id\":\"1008\"},\"y_scale\":{\"id\":\"1012\"}},\"id\":\"1003\",\"subtype\":\"Figure\",\"type\":\"Plot\"},{\"attributes\":{},\"id\":\"1008\",\"type\":\"DataRange1d\"},{\"attributes\":{\"bottom_units\":\"screen\",\"fill_alpha\":0.5,\"fill_color\":\"lightgrey\",\"left_units\":\"screen\",\"level\":\"overlay\",\"line_alpha\":1.0,\"line_color\":\"black\",\"line_dash\":[4,4],\"line_width\":2,\"render_mode\":\"css\",\"right_units\":\"screen\",\"top_units\":\"screen\"},\"id\":\"1020\",\"type\":\"BoxAnnotation\"},{\"attributes\":{\"data_source\":{\"id\":\"1002\"},\"glyph\":{\"id\":\"1029\"},\"hover_glyph\":null,\"muted_glyph\":null,\"nonselection_glyph\":{\"id\":\"1030\"},\"selection_glyph\":null,\"view\":{\"id\":\"1032\"}},\"id\":\"1031\",\"type\":\"GlyphRenderer\"},{\"attributes\":{\"fill_alpha\":{\"value\":0.4},\"fill_color\":{\"field\":\"colors\"},\"line_color\":{\"value\":\"#1f77b4\"},\"size\":{\"units\":\"screen\",\"value\":10},\"x\":{\"field\":\"x\"},\"y\":{\"field\":\"y\"}},\"id\":\"1029\",\"type\":\"Scatter\"},{\"attributes\":{\"text\":\"Movie embeddings projected with PCA\"},\"id\":\"1004\",\"type\":\"Title\"},{\"attributes\":{},\"id\":\"1010\",\"type\":\"LinearScale\"},{\"attributes\":{\"fill_alpha\":{\"value\":0.1},\"fill_color\":{\"field\":\"colors\"},\"line_alpha\":{\"value\":0.1},\"line_color\":{\"value\":\"#1f77b4\"},\"size\":{\"units\":\"screen\",\"value\":10},\"x\":{\"field\":\"x\"},\"y\":{\"field\":\"y\"}},\"id\":\"1030\",\"type\":\"Scatter\"},{\"attributes\":{},\"id\":\"1012\",\"type\":\"LinearScale\"},{\"attributes\":{},\"id\":\"1035\",\"type\":\"Selection\"},{\"attributes\":{\"source\":{\"id\":\"1002\"}},\"id\":\"1032\",\"type\":\"CDSView\"},{\"attributes\":{},\"id\":\"1014\",\"type\":\"PanTool\"},{\"attributes\":{},\"id\":\"1015\",\"type\":\"WheelZoomTool\"},{\"attributes\":{},\"id\":\"1016\",\"type\":\"ZoomInTool\"},{\"attributes\":{},\"id\":\"1034\",\"type\":\"UnionRenderers\"},{\"attributes\":{\"overlay\":{\"id\":\"1020\"}},\"id\":\"1017\",\"type\":\"BoxZoomTool\"},{\"attributes\":{},\"id\":\"1018\",\"type\":\"ResetTool\"},{\"attributes\":{\"callback\":null,\"tooltips\":[[\"content\",\"@title (@genre)\"]]},\"id\":\"1019\",\"type\":\"HoverTool\"},{\"attributes\":{\"data\":{\"colors\":[\"black\",\"red\",\"black\",\"black\",\"red\",\"red\",\"red\",\"red\",\"red\",\"red\",\"black\",\"black\",\"black\",\"black\",\"black\",\"black\",\"black\",\"black\",\"black\",\"black\",\"red\",\"red\",\"red\",\"black\",\"red\",\"black\",\"black\",\"red\",\"black\",\"red\",\"red\",\"red\",\"black\",\"black\",\"red\",\"black\",\"black\",\"red\",\"black\",\"red\",\"black\",\"black\",\"red\",\"red\",\"red\",\"red\",\"black\",\"red\",\"red\",\"black\",\"black\",\"black\",\"red\",\"red\",\"black\",\"black\",\"black\",\"red\",\"red\",\"red\",\"red\",\"black\",\"black\",\"black\",\"red\",\"black\",\"black\",\"black\",\"black\",\"black\",\"red\",\"red\",\"black\",\"black\",\"red\",\"black\",\"black\",\"red\",\"red\",\"black\",\"red\",\"black\",\"black\",\"black\",\"red\",\"red\",\"red\",\"red\",\"red\",\"red\",\"black\",\"black\",\"black\",\"black\",\"black\",\"black\",\"black\",\"red\",\"black\",\"black\",\"black\",\"black\",\"black\",\"black\",\"red\",\"red\",\"red\",\"black\",\"red\",\"red\",\"black\",\"black\",\"black\",\"black\",\"red\",\"red\",\"red\",\"red\",\"black\",\"red\",\"black\",\"red\",\"red\",\"red\",\"red\",\"red\",\"red\",\"red\",\"red\",\"black\",\"red\",\"red\",\"red\",\"black\",\"black\",\"red\",\"red\",\"red\",\"red\",\"red\",\"black\",\"red\",\"red\",\"black\",\"black\",\"red\",\"red\",\"red\",\"red\",\"red\",\"black\",\"black\",\"red\",\"red\",\"red\",\"red\",\"red\",\"red\",\"black\",\"red\",\"red\",\"red\",\"black\",\"black\",\"red\",\"red\",\"black\",\"red\",\"red\",\"black\",\"black\",\"red\",\"red\",\"black\",\"red\",\"black\",\"red\",\"black\",\"red\",\"black\",\"black\",\"black\",\"black\",\"black\",\"black\",\"red\",\"red\",\"black\",\"red\",\"red\",\"red\",\"black\",\"red\",\"red\",\"red\",\"red\",\"black\",\"red\",\"red\",\"black\",\"black\",\"black\",\"black\",\"black\",\"red\",\"black\",\"red\",\"black\",\"black\",\"black\",\"red\",\"red\",\"red\",\"red\",\"red\",\"red\",\"red\",\"red\",\"red\",\"red\",\"black\",\"black\",\"red\",\"black\",\"red\",\"black\",\"black\",\"black\",\"red\",\"red\",\"red\",\"black\",\"black\",\"red\",\"red\",\"red\",\"black\",\"black\",\"black\",\"black\",\"black\",\"black\",\"black\",\"red\",\"red\",\"red\",\"black\",\"red\",\"black\",\"red\",\"red\",\"red\",\"black\",\"red\",\"black\",\"red\",\"black\",\"red\",\"black\",\"black\",\"black\",\"black\",\"red\",\"black\",\"red\",\"red\",\"red\",\"black\",\"black\",\"black\",\"red\",\"black\",\"red\",\"black\",\"red\",\"red\",\"black\",\"black\",\"red\",\"black\",\"black\",\"red\",\"black\",\"red\",\"black\",\"red\",\"black\",\"red\",\"red\",\"black\",\"black\",\"red\",\"black\",\"black\",\"black\",\"black\",\"black\",\"black\",\"black\",\"black\",\"black\",\"red\",\"black\",\"red\",\"black\",\"red\",\"black\",\"black\",\"red\",\"red\",\"red\",\"red\",\"red\",\"black\",\"red\",\"black\",\"black\",\"black\",\"black\",\"red\",\"red\",\"red\",\"black\",\"red\",\"red\",\"red\",\"red\",\"red\",\"red\",\"red\",\"black\",\"red\",\"red\",\"red\",\"red\",\"black\",\"red\",\"red\",\"red\",\"red\",\"black\",\"black\",\"black\",\"black\",\"red\",\"red\",\"black\",\"black\",\"red\",\"red\",\"black\",\"black\",\"black\",\"black\",\"red\",\"red\",\"black\",\"black\",\"red\",\"red\",\"black\",\"red\",\"red\",\"black\",\"red\",\"red\",\"red\",\"red\",\"red\",\"red\",\"black\",\"black\",\"red\",\"black\",\"black\",\"red\",\"black\",\"black\",\"black\",\"red\",\"black\",\"red\",\"black\",\"black\",\"red\",\"red\",\"red\",\"red\",\"red\",\"red\",\"black\",\"black\",\"red\",\"black\",\"black\",\"black\",\"red\",\"black\",\"black\",\"black\",\"black\",\"black\",\"red\",\"black\",\"red\",\"black\",\"red\",\"red\",\"red\",\"black\",\"red\",\"red\",\"black\",\"red\",\"black\",\"red\",\"black\",\"red\",\"red\",\"black\",\"black\",\"red\",\"black\",\"red\",\"red\",\"red\",\"black\",\"black\",\"black\",\"red\",\"red\",\"red\",\"red\",\"red\",\"black\",\"black\",\"black\",\"black\",\"black\",\"black\",\"black\",\"black\",\"black\",\"red\",\"black\",\"red\",\"black\",\"red\",\"red\",\"red\",\"red\",\"black\",\"red\",\"black\",\"black\",\"black\",\"black\",\"red\",\"black\",\"red\",\"red\",\"red\",\"black\",\"black\",\"red\",\"black\",\"black\",\"black\",\"black\",\"red\",\"red\",\"black\",\"black\",\"black\",\"black\",\"black\",\"black\",\"black\",\"black\",\"black\",\"black\",\"red\",\"red\",\"red\",\"red\",\"black\",\"red\",\"red\",\"red\",\"red\",\"black\",\"red\",\"red\",\"black\",\"black\",\"red\",\"black\",\"black\",\"red\",\"red\",\"red\",\"red\",\"black\",\"red\",\"black\",\"black\",\"black\",\"red\",\"black\",\"red\",\"red\",\"red\",\"black\",\"red\",\"red\",\"black\",\"black\",\"black\",\"black\",\"red\",\"black\",\"red\",\"black\",\"red\",\"red\",\"black\",\"black\",\"black\",\"red\",\"black\",\"black\",\"red\",\"black\",\"red\",\"black\",\"black\",\"red\",\"red\",\"red\",\"black\",\"red\",\"black\",\"red\",\"black\",\"red\",\"black\",\"red\",\"red\",\"red\",\"red\",\"red\",\"black\",\"red\",\"black\",\"black\",\"black\",\"black\",\"black\",\"black\",\"red\",\"red\",\"red\",\"red\",\"red\",\"black\",\"black\",\"black\",\"red\",\"black\",\"red\",\"red\",\"red\",\"red\",\"black\",\"red\",\"red\",\"red\",\"black\",\"black\",\"red\",\"black\",\"red\",\"red\",\"black\",\"black\",\"red\",\"red\",\"red\",\"black\",\"red\",\"red\",\"red\",\"red\",\"black\",\"red\",\"red\",\"black\",\"red\",\"red\",\"red\",\"black\",\"black\",\"black\",\"black\",\"red\",\"red\",\"black\",\"red\",\"red\",\"red\",\"black\",\"red\",\"black\",\"red\",\"red\",\"red\",\"black\",\"black\",\"red\",\"red\",\"red\",\"black\",\"red\",\"red\",\"red\",\"red\",\"black\",\"black\",\"red\",\"black\",\"red\",\"red\",\"red\",\"red\",\"red\",\"red\",\"red\",\"black\",\"red\",\"red\",\"black\",\"red\",\"black\",\"black\",\"black\",\"black\",\"red\",\"black\",\"red\",\"black\",\"red\",\"black\",\"red\",\"red\",\"red\",\"red\",\"red\",\"red\",\"red\",\"black\",\"red\",\"red\",\"red\",\"red\",\"black\",\"black\",\"red\",\"black\",\"black\",\"red\",\"black\",\"black\",\"red\",\"red\",\"red\",\"red\",\"black\",\"red\",\"red\",\"red\",\"black\",\"red\",\"red\",\"black\",\"black\",\"black\",\"black\",\"black\",\"red\",\"black\",\"red\",\"red\",\"red\",\"red\",\"red\",\"black\",\"black\",\"red\",\"black\",\"red\",\"black\",\"black\",\"black\",\"black\",\"red\",\"red\",\"red\",\"red\",\"black\",\"red\",\"black\",\"red\",\"red\",\"black\",\"black\",\"black\",\"red\",\"red\",\"red\",\"black\",\"red\",\"black\",\"red\",\"red\",\"black\",\"black\",\"black\",\"black\",\"black\",\"red\",\"red\",\"black\",\"black\",\"black\",\"black\",\"black\",\"black\",\"black\",\"black\",\"black\",\"black\",\"black\",\"black\",\"black\",\"black\",\"black\",\"black\",\"black\",\"red\",\"black\",\"black\",\"red\",\"black\",\"red\",\"red\",\"red\",\"black\",\"red\",\"red\",\"black\",\"black\",\"black\",\"red\",\"black\",\"red\",\"black\",\"black\",\"black\",\"black\",\"black\",\"red\",\"red\",\"red\",\"red\",\"black\",\"black\",\"black\",\"red\",\"black\",\"black\",\"black\",\"black\",\"black\",\"black\",\"black\",\"red\",\"black\",\"red\",\"red\",\"red\",\"black\",\"black\",\"black\",\"black\",\"red\",\"black\",\"black\",\"black\",\"black\",\"black\",\"black\",\"black\",\"black\",\"black\",\"red\",\"red\",\"red\",\"red\",\"red\",\"red\",\"black\",\"black\",\"black\",\"red\",\"black\",\"red\",\"black\",\"red\",\"black\",\"black\",\"black\",\"black\",\"red\",\"black\",\"black\",\"red\",\"black\",\"red\",\"red\",\"red\",\"red\",\"black\",\"black\",\"red\",\"black\",\"red\",\"black\",\"black\",\"black\",\"red\",\"red\",\"black\",\"black\",\"black\",\"black\",\"black\",\"red\",\"black\",\"red\",\"red\",\"black\",\"red\",\"red\",\"red\",\"black\",\"red\",\"black\",\"black\",\"black\",\"red\",\"red\",\"black\",\"red\",\"red\",\"red\",\"red\",\"black\",\"red\",\"black\",\"red\",\"black\",\"black\",\"black\",\"black\",\"red\",\"red\",\"red\",\"black\",\"red\",\"black\",\"black\",\"black\",\"red\",\"black\",\"red\",\"black\",\"black\",\"black\",\"black\",\"black\",\"black\",\"black\",\"black\",\"black\",\"red\",\"black\",\"black\",\"red\",\"black\",\"black\",\"black\",\"red\",\"black\",\"red\",\"black\",\"black\",\"black\",\"red\",\"red\",\"red\",\"red\",\"black\",\"black\",\"black\",\"black\",\"black\",\"black\",\"black\",\"red\",\"black\",\"red\",\"black\",\"black\",\"red\",\"black\",\"black\",\"red\",\"black\",\"red\",\"black\",\"red\",\"black\",\"black\",\"red\",\"black\",\"black\",\"red\",\"red\",\"red\",\"black\",\"black\",\"red\",\"black\",\"black\",\"black\",\"black\",\"black\",\"red\",\"black\",\"red\",\"black\",\"black\",\"black\",\"red\"],\"genre\":[\"Comedy\",\"Drama\",\"Comedy\",\"Comedy\",\"Drama\",\"Drama\",\"Drama\",\"Drama\",\"Drama\",\"Drama\",\"Comedy\",\"Comedy\",\"Comedy\",\"Comedy\",\"Comedy\",\"Comedy\",\"Comedy\",\"Comedy\",\"Comedy\",\"Comedy\",\"Drama\",\"Drama\",\"Drama\",\"Comedy\",\"Drama\",\"Comedy\",\"Comedy\",\"Drama\",\"Comedy\",\"Drama\",\"Drama\",\"Drama\",\"Comedy\",\"Comedy\",\"Drama\",\"Comedy\",\"Comedy\",\"Drama\",\"Comedy\",\"Drama\",\"Comedy\",\"Comedy\",\"Drama\",\"Drama\",\"Drama\",\"Drama\",\"Comedy\",\"Drama\",\"Drama\",\"Comedy\",\"Comedy\",\"Comedy\",\"Drama\",\"Drama\",\"Comedy\",\"Comedy\",\"Comedy\",\"Drama\",\"Drama\",\"Drama\",\"Drama\",\"Comedy\",\"Comedy\",\"Comedy\",\"Drama\",\"Comedy\",\"Comedy\",\"Comedy\",\"Comedy\",\"Comedy\",\"Drama\",\"Drama\",\"Comedy\",\"Comedy\",\"Drama\",\"Comedy\",\"Comedy\",\"Drama\",\"Drama\",\"Comedy\",\"Drama\",\"Comedy\",\"Comedy\",\"Comedy\",\"Drama\",\"Drama\",\"Drama\",\"Drama\",\"Drama\",\"Drama\",\"Comedy\",\"Comedy\",\"Comedy\",\"Comedy\",\"Comedy\",\"Comedy\",\"Comedy\",\"Drama\",\"Comedy\",\"Comedy\",\"Comedy\",\"Comedy\",\"Comedy\",\"Comedy\",\"Drama\",\"Drama\",\"Drama\",\"Comedy\",\"Drama\",\"Drama\",\"Comedy\",\"Comedy\",\"Comedy\",\"Comedy\",\"Drama\",\"Drama\",\"Drama\",\"Drama\",\"Comedy\",\"Drama\",\"Comedy\",\"Drama\",\"Drama\",\"Drama\",\"Drama\",\"Drama\",\"Drama\",\"Drama\",\"Drama\",\"Comedy\",\"Drama\",\"Drama\",\"Drama\",\"Comedy\",\"Comedy\",\"Drama\",\"Drama\",\"Drama\",\"Drama\",\"Drama\",\"Comedy\",\"Drama\",\"Drama\",\"Comedy\",\"Comedy\",\"Drama\",\"Drama\",\"Drama\",\"Drama\",\"Drama\",\"Comedy\",\"Comedy\",\"Drama\",\"Drama\",\"Drama\",\"Drama\",\"Drama\",\"Drama\",\"Comedy\",\"Drama\",\"Drama\",\"Drama\",\"Comedy\",\"Comedy\",\"Drama\",\"Drama\",\"Comedy\",\"Drama\",\"Drama\",\"Comedy\",\"Comedy\",\"Drama\",\"Drama\",\"Comedy\",\"Drama\",\"Comedy\",\"Drama\",\"Comedy\",\"Drama\",\"Comedy\",\"Comedy\",\"Comedy\",\"Comedy\",\"Comedy\",\"Comedy\",\"Drama\",\"Drama\",\"Comedy\",\"Drama\",\"Drama\",\"Drama\",\"Comedy\",\"Drama\",\"Drama\",\"Drama\",\"Drama\",\"Comedy\",\"Drama\",\"Drama\",\"Comedy\",\"Comedy\",\"Comedy\",\"Comedy\",\"Comedy\",\"Drama\",\"Comedy\",\"Drama\",\"Comedy\",\"Comedy\",\"Comedy\",\"Drama\",\"Drama\",\"Drama\",\"Drama\",\"Drama\",\"Drama\",\"Drama\",\"Drama\",\"Drama\",\"Drama\",\"Comedy\",\"Comedy\",\"Drama\",\"Comedy\",\"Drama\",\"Comedy\",\"Comedy\",\"Comedy\",\"Drama\",\"Drama\",\"Drama\",\"Comedy\",\"Comedy\",\"Drama\",\"Drama\",\"Drama\",\"Comedy\",\"Comedy\",\"Comedy\",\"Comedy\",\"Comedy\",\"Comedy\",\"Comedy\",\"Drama\",\"Drama\",\"Drama\",\"Comedy\",\"Drama\",\"Comedy\",\"Drama\",\"Drama\",\"Drama\",\"Comedy\",\"Drama\",\"Comedy\",\"Drama\",\"Comedy\",\"Drama\",\"Comedy\",\"Comedy\",\"Comedy\",\"Comedy\",\"Drama\",\"Comedy\",\"Drama\",\"Drama\",\"Drama\",\"Comedy\",\"Comedy\",\"Comedy\",\"Drama\",\"Comedy\",\"Drama\",\"Comedy\",\"Drama\",\"Drama\",\"Comedy\",\"Comedy\",\"Drama\",\"Comedy\",\"Comedy\",\"Drama\",\"Comedy\",\"Drama\",\"Comedy\",\"Drama\",\"Comedy\",\"Drama\",\"Drama\",\"Comedy\",\"Comedy\",\"Drama\",\"Comedy\",\"Comedy\",\"Comedy\",\"Comedy\",\"Comedy\",\"Comedy\",\"Comedy\",\"Comedy\",\"Comedy\",\"Drama\",\"Comedy\",\"Drama\",\"Comedy\",\"Drama\",\"Comedy\",\"Comedy\",\"Drama\",\"Drama\",\"Drama\",\"Drama\",\"Drama\",\"Comedy\",\"Drama\",\"Comedy\",\"Comedy\",\"Comedy\",\"Comedy\",\"Drama\",\"Drama\",\"Drama\",\"Comedy\",\"Drama\",\"Drama\",\"Drama\",\"Drama\",\"Drama\",\"Drama\",\"Drama\",\"Comedy\",\"Drama\",\"Drama\",\"Drama\",\"Drama\",\"Comedy\",\"Drama\",\"Drama\",\"Drama\",\"Drama\",\"Comedy\",\"Comedy\",\"Comedy\",\"Comedy\",\"Drama\",\"Drama\",\"Comedy\",\"Comedy\",\"Drama\",\"Drama\",\"Comedy\",\"Comedy\",\"Comedy\",\"Comedy\",\"Drama\",\"Drama\",\"Comedy\",\"Comedy\",\"Drama\",\"Drama\",\"Comedy\",\"Drama\",\"Drama\",\"Comedy\",\"Drama\",\"Drama\",\"Drama\",\"Drama\",\"Drama\",\"Drama\",\"Comedy\",\"Comedy\",\"Drama\",\"Comedy\",\"Comedy\",\"Drama\",\"Comedy\",\"Comedy\",\"Comedy\",\"Drama\",\"Comedy\",\"Drama\",\"Comedy\",\"Comedy\",\"Drama\",\"Drama\",\"Drama\",\"Drama\",\"Drama\",\"Drama\",\"Comedy\",\"Comedy\",\"Drama\",\"Comedy\",\"Comedy\",\"Comedy\",\"Drama\",\"Comedy\",\"Comedy\",\"Comedy\",\"Comedy\",\"Comedy\",\"Drama\",\"Comedy\",\"Drama\",\"Comedy\",\"Drama\",\"Drama\",\"Drama\",\"Comedy\",\"Drama\",\"Drama\",\"Comedy\",\"Drama\",\"Comedy\",\"Drama\",\"Comedy\",\"Drama\",\"Drama\",\"Comedy\",\"Comedy\",\"Drama\",\"Comedy\",\"Drama\",\"Drama\",\"Drama\",\"Comedy\",\"Comedy\",\"Comedy\",\"Drama\",\"Drama\",\"Drama\",\"Drama\",\"Drama\",\"Comedy\",\"Comedy\",\"Comedy\",\"Comedy\",\"Comedy\",\"Comedy\",\"Comedy\",\"Comedy\",\"Comedy\",\"Drama\",\"Comedy\",\"Drama\",\"Comedy\",\"Drama\",\"Drama\",\"Drama\",\"Drama\",\"Comedy\",\"Drama\",\"Comedy\",\"Comedy\",\"Comedy\",\"Comedy\",\"Drama\",\"Comedy\",\"Drama\",\"Drama\",\"Drama\",\"Comedy\",\"Comedy\",\"Drama\",\"Comedy\",\"Comedy\",\"Comedy\",\"Comedy\",\"Drama\",\"Drama\",\"Comedy\",\"Comedy\",\"Comedy\",\"Comedy\",\"Comedy\",\"Comedy\",\"Comedy\",\"Comedy\",\"Comedy\",\"Comedy\",\"Drama\",\"Drama\",\"Drama\",\"Drama\",\"Comedy\",\"Drama\",\"Drama\",\"Drama\",\"Drama\",\"Comedy\",\"Drama\",\"Drama\",\"Comedy\",\"Comedy\",\"Drama\",\"Comedy\",\"Comedy\",\"Drama\",\"Drama\",\"Drama\",\"Drama\",\"Comedy\",\"Drama\",\"Comedy\",\"Comedy\",\"Comedy\",\"Drama\",\"Comedy\",\"Drama\",\"Drama\",\"Drama\",\"Comedy\",\"Drama\",\"Drama\",\"Comedy\",\"Comedy\",\"Comedy\",\"Comedy\",\"Drama\",\"Comedy\",\"Drama\",\"Comedy\",\"Drama\",\"Drama\",\"Comedy\",\"Comedy\",\"Comedy\",\"Drama\",\"Comedy\",\"Comedy\",\"Drama\",\"Comedy\",\"Drama\",\"Comedy\",\"Comedy\",\"Drama\",\"Drama\",\"Drama\",\"Comedy\",\"Drama\",\"Comedy\",\"Drama\",\"Comedy\",\"Drama\",\"Comedy\",\"Drama\",\"Drama\",\"Drama\",\"Drama\",\"Drama\",\"Comedy\",\"Drama\",\"Comedy\",\"Comedy\",\"Comedy\",\"Comedy\",\"Comedy\",\"Comedy\",\"Drama\",\"Drama\",\"Drama\",\"Drama\",\"Drama\",\"Comedy\",\"Comedy\",\"Comedy\",\"Drama\",\"Comedy\",\"Drama\",\"Drama\",\"Drama\",\"Drama\",\"Comedy\",\"Drama\",\"Drama\",\"Drama\",\"Comedy\",\"Comedy\",\"Drama\",\"Comedy\",\"Drama\",\"Drama\",\"Comedy\",\"Comedy\",\"Drama\",\"Drama\",\"Drama\",\"Comedy\",\"Drama\",\"Drama\",\"Drama\",\"Drama\",\"Comedy\",\"Drama\",\"Drama\",\"Comedy\",\"Drama\",\"Drama\",\"Drama\",\"Comedy\",\"Comedy\",\"Comedy\",\"Comedy\",\"Drama\",\"Drama\",\"Comedy\",\"Drama\",\"Drama\",\"Drama\",\"Comedy\",\"Drama\",\"Comedy\",\"Drama\",\"Drama\",\"Drama\",\"Comedy\",\"Comedy\",\"Drama\",\"Drama\",\"Drama\",\"Comedy\",\"Drama\",\"Drama\",\"Drama\",\"Drama\",\"Comedy\",\"Comedy\",\"Drama\",\"Comedy\",\"Drama\",\"Drama\",\"Drama\",\"Drama\",\"Drama\",\"Drama\",\"Drama\",\"Comedy\",\"Drama\",\"Drama\",\"Comedy\",\"Drama\",\"Comedy\",\"Comedy\",\"Comedy\",\"Comedy\",\"Drama\",\"Comedy\",\"Drama\",\"Comedy\",\"Drama\",\"Comedy\",\"Drama\",\"Drama\",\"Drama\",\"Drama\",\"Drama\",\"Drama\",\"Drama\",\"Comedy\",\"Drama\",\"Drama\",\"Drama\",\"Drama\",\"Comedy\",\"Comedy\",\"Drama\",\"Comedy\",\"Comedy\",\"Drama\",\"Comedy\",\"Comedy\",\"Drama\",\"Drama\",\"Drama\",\"Drama\",\"Comedy\",\"Drama\",\"Drama\",\"Drama\",\"Comedy\",\"Drama\",\"Drama\",\"Comedy\",\"Comedy\",\"Comedy\",\"Comedy\",\"Comedy\",\"Drama\",\"Comedy\",\"Drama\",\"Drama\",\"Drama\",\"Drama\",\"Drama\",\"Comedy\",\"Comedy\",\"Drama\",\"Comedy\",\"Drama\",\"Comedy\",\"Comedy\",\"Comedy\",\"Comedy\",\"Drama\",\"Drama\",\"Drama\",\"Drama\",\"Comedy\",\"Drama\",\"Comedy\",\"Drama\",\"Drama\",\"Comedy\",\"Comedy\",\"Comedy\",\"Drama\",\"Drama\",\"Drama\",\"Comedy\",\"Drama\",\"Comedy\",\"Drama\",\"Drama\",\"Comedy\",\"Comedy\",\"Comedy\",\"Comedy\",\"Comedy\",\"Drama\",\"Drama\",\"Comedy\",\"Comedy\",\"Comedy\",\"Comedy\",\"Comedy\",\"Comedy\",\"Comedy\",\"Comedy\",\"Comedy\",\"Comedy\",\"Comedy\",\"Comedy\",\"Comedy\",\"Comedy\",\"Comedy\",\"Comedy\",\"Comedy\",\"Drama\",\"Comedy\",\"Comedy\",\"Drama\",\"Comedy\",\"Drama\",\"Drama\",\"Drama\",\"Comedy\",\"Drama\",\"Drama\",\"Comedy\",\"Comedy\",\"Comedy\",\"Drama\",\"Comedy\",\"Drama\",\"Comedy\",\"Comedy\",\"Comedy\",\"Comedy\",\"Comedy\",\"Drama\",\"Drama\",\"Drama\",\"Drama\",\"Comedy\",\"Comedy\",\"Comedy\",\"Drama\",\"Comedy\",\"Comedy\",\"Comedy\",\"Comedy\",\"Comedy\",\"Comedy\",\"Comedy\",\"Drama\",\"Comedy\",\"Drama\",\"Drama\",\"Drama\",\"Comedy\",\"Comedy\",\"Comedy\",\"Comedy\",\"Drama\",\"Comedy\",\"Comedy\",\"Comedy\",\"Comedy\",\"Comedy\",\"Comedy\",\"Comedy\",\"Comedy\",\"Comedy\",\"Drama\",\"Drama\",\"Drama\",\"Drama\",\"Drama\",\"Drama\",\"Comedy\",\"Comedy\",\"Comedy\",\"Drama\",\"Comedy\",\"Drama\",\"Comedy\",\"Drama\",\"Comedy\",\"Comedy\",\"Comedy\",\"Comedy\",\"Drama\",\"Comedy\",\"Comedy\",\"Drama\",\"Comedy\",\"Drama\",\"Drama\",\"Drama\",\"Drama\",\"Comedy\",\"Comedy\",\"Drama\",\"Comedy\",\"Drama\",\"Comedy\",\"Comedy\",\"Comedy\",\"Drama\",\"Drama\",\"Comedy\",\"Comedy\",\"Comedy\",\"Comedy\",\"Comedy\",\"Drama\",\"Comedy\",\"Drama\",\"Drama\",\"Comedy\",\"Drama\",\"Drama\",\"Drama\",\"Comedy\",\"Drama\",\"Comedy\",\"Comedy\",\"Comedy\",\"Drama\",\"Drama\",\"Comedy\",\"Drama\",\"Drama\",\"Drama\",\"Drama\",\"Comedy\",\"Drama\",\"Comedy\",\"Drama\",\"Comedy\",\"Comedy\",\"Comedy\",\"Comedy\",\"Drama\",\"Drama\",\"Drama\",\"Comedy\",\"Drama\",\"Comedy\",\"Comedy\",\"Comedy\",\"Drama\",\"Comedy\",\"Drama\",\"Comedy\",\"Comedy\",\"Comedy\",\"Comedy\",\"Comedy\",\"Comedy\",\"Comedy\",\"Comedy\",\"Comedy\",\"Drama\",\"Comedy\",\"Comedy\",\"Drama\",\"Comedy\",\"Comedy\",\"Comedy\",\"Drama\",\"Comedy\",\"Drama\",\"Comedy\",\"Comedy\",\"Comedy\",\"Drama\",\"Drama\",\"Drama\",\"Drama\",\"Comedy\",\"Comedy\",\"Comedy\",\"Comedy\",\"Comedy\",\"Comedy\",\"Comedy\",\"Drama\",\"Comedy\",\"Drama\",\"Comedy\",\"Comedy\",\"Drama\",\"Comedy\",\"Comedy\",\"Drama\",\"Comedy\",\"Drama\",\"Comedy\",\"Drama\",\"Comedy\",\"Comedy\",\"Drama\",\"Comedy\",\"Comedy\",\"Drama\",\"Drama\",\"Drama\",\"Comedy\",\"Comedy\",\"Drama\",\"Comedy\",\"Comedy\",\"Comedy\",\"Comedy\",\"Comedy\",\"Drama\",\"Comedy\",\"Drama\",\"Comedy\",\"Comedy\",\"Comedy\",\"Drama\"],\"title\":[\"Father of the Bride Part II\",\"Nixon\",\"Four Rooms\",\"Ace Ventura: When Nature Calls\",\"Othello\",\"Dangerous Minds\",\"Cry, the Beloved Country\",\"Restoration\",\"Home for the Holidays\",\"Mr. Holland's Opus\",\"Bio-Dome\",\"Friday\",\"Black Sheep\",\"Mr. Wrong\",\"Happy Gilmore\",\"Steal Big, Steal Little\",\"Flirting With Disaster\",\"Down Periscope\",\"Birdcage, The\",\"Brothers McMullen, The\",\"Basketball Diaries, The\",\"Awfully Big Adventure, An\",\"Beauty of the Day (Belle de jour)\",\"Jury Duty\",\"Kids\",\"Living in Oblivion\",\"Party Girl\",\"Showgirls\",\"To Wong Foo, Thanks for Everything! Julie Newmar\",\"White Man's Burden\",\"Browning Version, The\",\"Burnt by the Sun (Utomlyonnye solntsem)\",\"Billy Madison\",\"Clerks\",\"Exotica\",\"Exit to Eden\",\"Houseguest\",\"Jefferson in Paris\",\"Jerky Boys, The\",\"Little Women\",\"Major Payne\",\"Mixed Nuts\",\"Miracle on 34th Street\",\"My Family\",\"Nell\",\"Quiz Show\",\"Ready to Wear (Pret-A-Porter)\",\"Three Colors: Red (Trois couleurs: Rouge)\",\"Three Colors: Blue (Trois couleurs: Bleu)\",\"Stuart Saves His Family\",\"National Lampoon's Senior Trip\",\"Tommy Boy\",\"What's Eating Gilbert Grape\",\"Double Happiness\",\"Muriel's Wedding\",\"Ace Ventura: Pet Detective\",\"Bullets Over Broadway\",\"Cobb\",\"Higher Learning\",\"Little Buddha\",\"Age of Innocence, The\",\"Airheads\",\"Air Up There, The\",\"Beverly Hillbillies, The\",\"Bronx Tale, A\",\"Cabin Boy\",\"Clean Slate\",\"Cops and Robbersons\",\"Dazed and Confused\",\"Fatal Instinct\",\"Fearless\",\"Widows' Peak\",\"Getting Even with Dad\",\"Hudsucker Proxy, The\",\"In the Name of the Father\",\"Life with Mikey\",\"Made in America\",\"Man Without a Face, The\",\"Naked\",\"North\",\"Philadelphia\",\"Ref, The\",\"Road to Wellville, The\",\"Robin Hood: Men in Tights\",\"Rudy\",\"Searching for Bobby Fischer\",\"Short Cuts\",\"Sirens\",\"Six Degrees of Separation\",\"Princess Caraboo\",\"Brady Bunch Movie, The\",\"Pallbearer, The\",\"Ed\",\"Denise Calls Up\",\"Theodore Rex\",\"Sgt. Bilko\",\"Kids in the Hall: Brain Candy\",\"World of Apu, The (Apur Sansar)\",\"Angus\",\"Celtic Pride\",\"Multiplicity\",\"Cold Comfort Farm\",\"Spy Hard\",\"Stupids, The\",\"Ashes of Time (Dung che sai duk)\",\"I Shot Andy Warhol\",\"Stealing Beauty\",\"Kingpin\",\"Unforgettable Summer, An (Un \\u00e9t\\u00e9 inoubliable)\",\"Somebody to Love\",\"Larger Than Life\",\"Very Brady Sequel, A\",\"First Wives Club, The\",\"High School High\",\"Foxfire\",\"Spitfire Grill, The\",\"Basquiat\",\"Wild Reeds (Les roseaux sauvages)\",\"My Favorite Year\",\"All About Eve\",\"Father of the Bride\",\"East of Eden\",\"Mr. Smith Goes to Washington\",\"Cat on a Hot Tin Roof\",\"Dangerous Ground\",\"Picnic\",\"Michael Collins\",\"Infinity\",\"Chamber, The\",\"Cool Runnings\",\"Secrets & Lies\",\"Trees Lounge\",\"Jude\",\"Monty Python's Life of Brian\",\"Weekend at Bernie's\",\"Doors, The\",\"Glengarry Glen Ross\",\"Sophie's Choice\",\"Rebel Without a Cause\",\"Streetcar Named Desire, A\",\"Loser\",\"On Golden Pond\",\"Manon of the Spring (Manon des sources)\",\"Private Benjamin\",\"Bob Roberts\",\"Cinema Paradiso (Nuovo cinema Paradiso)\",\"My Left Foot\",\"Sex, Lies, and Videotape\",\"Passion Fish\",\"One Flew Over the Cuckoo's Nest\",\"Cheech and Chong's Up in Smoke\",\"Withnail & I\",\"12 Angry Men\",\"To Kill a Mockingbird\",\"Amadeus\",\"Raging Bull\",\"Right Stuff, The\",\"Seventh Seal, The (Sjunde inseglet, Det)\",\"Local Hero\",\"Dead Poets Society\",\"Cool Hand Luke\",\"Raise the Red Lantern (Da hong deng long gao gao gua)\",\"Heathers\",\"This Is Spinal Tap\",\"Gandhi\",\"Unbearable Lightness of Being, The\",\"Real Genius\",\"Sling Blade\",\"Preacher's Wife, The\",\"My Fellow Americans\",\"Raising Arizona\",\"Bastard Out of Carolina\",\"Ghosts of Mississippi\",\"Mother\",\"Portrait of a Lady, The\",\"Fierce Creatures\",\"Angel Baby\",\"Meet Wally Sparks\",\"Prefontaine\",\"Waiting for Guffman\",\"Vegas Vacation (National Lampoon's Las Vegas Vacation)\",\"Liar Liar\",\"8 Heads in a Duffel Bag\",\"Romy and Michele's High School Reunion\",\"Fathers' Day\",\"Promise, The (La promesse)\",\"Contempt (M\\u00e9pris, Le)\",\"In & Out\",\"Thousand Acres, A\",\"Ice Storm, The\",\"Hurricane Streets\",\"Bean\",\"Rainmaker, The\",\"Boogie Nights\",\"Apostle, The\",\"Artemisia\",\"For Richer or Poorer\",\"Sweet Hereafter, The\",\"Kundun\",\"Mr. Magoo\",\"Wag the Dog\",\"Half Baked\",\"Spice World\",\"Odd Couple II, The\",\"He Got Game\",\"Krippendorf's Tribe\",\"Character (Karakter)\",\"Major League: Back to the Minors\",\"Clockwatchers\",\"Dr. Dolittle\",\"Whatever\",\"Lost Weekend, The\",\"Midnight Cowboy\",\"Rocky\",\"Kramer vs. Kramer\",\"Ordinary People\",\"Chariots of Fire\",\"Last Emperor, The\",\"Rain Man\",\"Driving Miss Daisy\",\"Metropolitan\",\"Polish Wedding\",\"Last Temptation of Christ, The\",\"BASEketball\",\"And the Band Played On\",\"'burbs, The\",\"Jerk, The\",\"Man with Two Brains, The\",\"Outsiders, The\",\"Autumn Sonata (H\\u00f6stsonaten)\",\"Who's Afraid of Virginia Woolf?\",\"Dead Man on Campus\",\"Dirty Work\",\"Rounders\",\"Simon Birch\",\"My Bodyguard\",\"Class\",\"My Blue Heaven\",\"One Crazy Summer\",\"Impostors, The\",\"Producers, The\",\"My Cousin Vinny\",\"Holy Man\",\"Mighty, The\",\"Children of a Lesser God\",\"Elephant Man, The\",\"Orgazmo\",\"Gods and Monsters\",\"Waterboy, The\",\"Elizabeth\",\"Velvet Goldmine\",\"Sid and Nancy\",\"Celebrity\",\"Central Station (Central do Brasil)\",\"Waking Ned Devine (a.k.a. Waking Ned)\",\"Celebration, The (Festen)\",\"Pink Flamingos\",\"Glen or Glenda\",\"Fletch Lives\",\"Money Pit, The\",\"Little Voice\",\"Back to School\",\"Karate Kid, The\",\"Christmas Vacation (National Lampoon's Christmas Vacation)\",\"Stepmom\",\"Civil Action, A\",\"At First Sight\",\"Ruthless People\",\"Soul Man\",\"Jawbreaker\",\"October Sky\",\"Night Shift\",\"Airport\",\"Analyze This\",\"Cruel Intentions\",\"Deep End of the Ocean, The\",\"EDtv\",\"Out-of-Towners, The\",\"Dreamlife of Angels, The (Vie r\\u00eav\\u00e9e des anges, La)\",\"Pushing Tin\",\"Election\",\"Winslow Boy, The\",\"Castle, The\",\"Mommie Dearest\",\"Big Daddy\",\"Summer of Sam\",\"Drop Dead Gorgeous\",\"Color Purple, The\",\"Mission, The\",\"Dick\",\"Bowfinger\",\"Brokedown Palace\",\"Detroit Rock City\",\"Heaven Can Wait\",\"Monty Python's And Now for Something Completely Different\",\"Airplane!\",\"Airplane II: The Sequel\",\"National Lampoon's Vacation\",\"Muse, The\",\"Outside Providence\",\"Blue Streak\",\"Buddy Holly Story, The\",\"Barefoot in the Park\",\"Jakob the Liar\",\"Superstar\",\"Boys Don't Cry\",\"Risky Business\",\"Ferris Bueller's Day Off\",\"Conformist, The (Conformista, Il)\",\"Julien Donkey-Boy\",\"Bringing Out the Dead\",\"Melvin and Howard\",\"Rosetta\",\"Repossessed\",\"Face in the Crowd, A\",\"Trading Places\",\"Meatballs\",\"Meatballs Part II\",\"Under the Rainbow\",\"Liberty Heights\",\"All About My Mother (Todo sobre mi madre)\",\"Bicycle Thieves (a.k.a. The Bicycle Thief) (a.k.a. The Bicycle Thieves) (Ladri di biciclette)\",\"My Man Godfrey\",\"Natural, The\",\"River Runs Through It, A\",\"Places in the Heart\",\"Flawless\",\"Great Santini, The\",\"Two Jakes, The\",\"Cradle Will Rock\",\"Deuce Bigalow: Male Gigolo\",\"Cider House Rules, The\",\"Emperor and the Assassin, The (Jing ke ci qin wang)\",\"Magnolia\",\"Any Given Sunday\",\"Next Friday\",\"Hurricane, The\",\"Titus\",\"Girl, Interrupted\",\"Woman in the Dunes (Suna no onna)\",\"Big Tease, The\",\"Cup, The (Ph\\u00f6rpa)\",\"Encino Man\",\"Sister Act 2: Back in the Habit\",\"Alive\",\"Scent of a Woman\",\"Wayne's World\",\"Wayne's World 2\",\"Of Mice and Men\",\"To Sir with Love\",\"Beautiful People\",\"Circus, The\",\"Class Reunion\",\"Drowning Mona\",\"My Tutor\",\"Daughters of the Dust\",\"Volunteers\",\"She-Devil\",\"Erin Brockovich\",\"Mirror, The (Zerkalo)\",\"Animal House\",\"Do the Right Thing\",\"Good Earth, The\",\"Grumpy Old Men\",\"Guess Who's Coming to Dinner\",\"Hustler, The\",\"Inherit the Wind\",\"Bamba, La\",\"Madame Sousatzka\",\"Midnight Express\",\"Odd Couple, The\",\"Bachelor Party\",\"28 Days\",\"Shakes the Clown\",\"Caddyshack\",\"Up at the Villa\",\"Whipped\",\"Road Trip\",\"8 \\u00bd Women (a.k.a. 8 1/2 Women) (a.k.a. Eight and a Half Women)\",\"Woman of Paris, A\",\"Big Momma's House\",\"American Gigolo\",\"Porky's\",\"Porky's II: The Next Day\",\"Paper Chase, The\",\"Butterfly (La lengua de las mariposas)\",\"Jesus' Son\",\"Golden Bowl, The\",\"Footloose\",\"Five Senses, The\",\"What About Bob?\",\"Everything You Always Wanted to Know About Sex * But Were Afraid to Ask\",\"Interiors\",\"Love and Death\",\"Tampopo\",\"Nutty Professor II: The Klumps\",\"Steel Magnolias\",\"Easy Money\",\"Tao of Steve, The\",\"Cecil B. DeMented\",\"Replacements, The\",\"Naked Gun 2 1/2: The Smell of Fear, The\",\"Our Town\",\"Bring It On\",\"Almost Famous\",\"Best in Show\",\"Broken Hearts Club, The\",\"Girlfight\",\"Remember the Titans\",\"Meet the Parents\",\"Requiem for a Dream\",\"Tigerland\",\"Ladies Man, The\",\"Billy Elliot\",\"Bedazzled\",\"Pay It Forward\",\"Little Nicky\",\"Men of Honor\",\"Proof of Life\",\"Planes, Trains & Automobiles\",\"She's Having a Baby\",\"Wall Street\",\"Brewster's Millions\",\"Pollock\",\"Finding Forrester\",\"Cast Away\",\"Don't Tell Mom the Babysitter's Dead\",\"Sugar & Spice\",\"Born in East L.A.\",\"Hope and Glory\",\"Less Than Zero\",\"Vatel\",\"Caveman's Valentine, The\",\"Reversal of Fortune\",\"Revenge of the Nerds\",\"Revenge of the Nerds II: Nerds in Paradise\",\"Girls Just Want to Have Fun\",\"Longest Yard, The\",\"Necessary Roughness\",\"Dish, The\",\"Tomcats\",\"Josie and the Pussycats\",\"Freddy Got Fingered\",\"Center of the World, The\",\"Frankie and Johnny\",\"Norma Rae\",\"Summer Rental\",\"Pelle the Conqueror (Pelle erobreren)\",\"Man Who Cried, The\",\"Eight Men Out\",\"Yi Yi\",\"Animal, The\",\"Anniversary Party, The\",\"Seven Year Itch, The\",\"Dr. Dolittle 2\",\"Pootie Tang\",\"Closet, The (Placard, Le)\",\"Lumumba\",\"Scary Movie 2\",\"Cries and Whispers (Viskningar och rop)\",\"Lion in Winter, The\",\"Moby Dick\",\"Made\",\"Dirty Rotten Scoundrels\",\"Gorillas in the Mist\",\"Johnny Be Good\",\"License to Drive\",\"Twins\",\"Dream Team, The\",\"Great Balls of Fire!\",\"Jesus of Montreal (J\\u00e9sus de Montr\\u00e9al)\",\"Major League\",\"Wet Hot American Summer\",\"Troop Beverly Hills\",\"UHF\",\"Uncle Buck\",\"Any Which Way You Can\",\"American Pie 2\",\"Rat Race\",\"Bubble Boy\",\"Curse of the Jade Scorpion, The\",\"O\",\"L.I.E.\",\"Hardball\",\"Dinner Rush\",\"Haiku Tunnel\",\"Liam\",\"French Lieutenant's Woman, The\",\"Little Man Tate\",\"Little Foxes, The\",\"Zoolander\",\"Not Without My Daughter\",\"Life as a House\",\"Out Cold\",\"Not Another Teen Movie\",\"Kandahar (Safar e Ghandehar)\",\"How High\",\"Party, The\",\"Ali\",\"I Am Sam\",\"Shipping News, The\",\"Waterdance, The\",\"Orange County\",\"Son's Room, The (Stanza del figlio, La)\",\"Baby's Day Out\",\"Designing Woman\",\"Bad News Bears, The\",\"Wild Strawberries (Smultronst\\u00e4llet)\",\"Hopscotch\",\"Little Darlings\",\"Mon oncle d'Am\\u00e9rique\",\"Return of the Secaucus 7\",\"Stir Crazy\",\"Rookie, The\",\"Boxcar Bertha\",\"National Lampoon's Van Wilder\",\"Slap Shot\",\"Three Men and a Baby\",\"Triumph of Love, The\",\"Lenny\",\"New Guy, The\",\"Believer, The\",\"Every Which Way But Loose\",\"CQ\",\"Requiem for a Heavyweight\",\"Undercover Brother\",\"Emperor's New Clothes, The\",\"Cheech & Chong's The Corsican Brothers\",\"Sunshine State\",\"Austin Powers in Goldmember\",\"Who Is Cletis Tout?\",\"Red Beard (Akahige)\",\"Top Secret!\",\"Undisputed\",\"Johnny Dangerously\",\"Barbershop\",\"Bloody Sunday\",\"Heaven\",\"Pride of the Yankees, The\",\"Strange Brew\",\"White Oleander\",\"World of Henry Orient, The\",\"8 Mile\",\"Friday After Next\",\"Personal Velocity\",\"Hot Chick, The\",\"Morvern Callar\",\"Antwone Fisher\",\"Children's Hour, The\",\"Quicksilver\",\"Love Liza\",\"CB4 - The Movie\",\"Amen.\",\"Kiss Me Goodbye\",\"Monty Python Live at the Hollywood Bowl\",\"Dennis the Menace\",\"Old School\",\"Life Stinks\",\"Bringing Down the House\",\"Laurel Canyon\",\"Nowhere in Africa (Nirgendwo in Afrika)\",\"Prozac Nation\",\"Salaam Bombay!\",\"Talent for the Game\",\"Boat Trip\",\"Anger Management\",\"In-Laws, The\",\"Whale Rider\",\"6th Man, The (Sixth Man, The)\",\"From the Terrace\",\"Trial, The (Proc\\u00e8s, Le)\",\"Anastasia\",\"Babe, The\",\"Legally Blonde 2: Red, White & Blonde\",\"Embalmer, The (Imbalsamatore, L')\",\"Seabiscuit\",\"Mondays in the Sun (Lunes al sol, Los)\",\"Kiss Me, Stupid\",\"American Wedding (American Pie 3)\",\"Magdalene Sisters, The\",\"Uptown Girls\",\"Tokyo Story (T\\u00f4ky\\u00f4 monogatari)\",\"Ikiru\",\"Comic Book Villains\",\"Dickie Roberts: Former Child Star\",\"Luther\",\"Judgment at Nuremberg\",\"Babette's Feast (Babettes g\\u00e6stebud)\",\"Monty Python's The Meaning of Life\",\"Radio\",\"Elephant\",\"Sweet Sixteen\",\"Unvanquished, The (Aparajito)\",\"Father of the Bride\",\"Passion of Joan of Arc, The (Passion de Jeanne d'Arc, La)\",\"Lorenzo's Oil\",\"Summer School\",\"Little Women\",\"Macbeth (a.k.a. Tragedy of Macbeth, The)\",\"Jezebel\",\"Horse Feathers\",\"Madhouse\",\"Stuck on You\",\"Calendar Girls\",\"House of Sand and Fog\",\"Ship of Fools\",\"Mon Oncle (My Uncle)\",\"They Drive by Night\",\"Strada, La\",\"Where the Day Takes You\",\"Barbershop 2: Back in Business\",\"Dreamers, The\",\"Welcome to Mooseport\",\"Diary of a Country Priest (Journal d'un cur\\u00e9 de campagne)\",\"Passion of the Christ, The\",\"Persona\",\"Envy\",\"Mean Girls\",\"Wit\",\"Miracle Worker, The\",\"School Ties\",\"Noises Off...\",\"Bells of St. Mary's, The\",\"Tuesdays with Morrie\",\"Best of Youth, The (La meglio giovent\\u00f9)\",\"11'09\\\"01 - September 11\",\"Gidget\",\"Zelig\",\"Through a Glass Darkly (S\\u00e5som i en spegel)\",\"Broadway Danny Rose\",\"Spring, Summer, Fall, Winter... and Spring (Bom yeoreum gaeul gyeoul geurigo bom)\",\"The Thief\",\"Sweet Bird of Youth\",\"Crossroads\",\"Lola Mont\\u00e8s\",\"Dolce Vita, La\",\"Sansho the Bailiff (Sansh\\u00f4 day\\u00fb)\",\"Zazie dans le m\\u00e9tro\",\"Black Narcissus\",\"Baadasssss! (How to Get the Man's Foot Outta Your Ass)\",\"Napoleon Dynamite\",\"Executive Suite\",\"Dodgeball: A True Underdog Story\",\"Our Hospitality\",\"Secret Society\",\"Anchorman: The Legend of Ron Burgundy\",\"Snake Pit, The\",\"Yesterday, Today and Tomorrow (Ieri, oggi, domani)\",\"Story of Women (Affaire de femmes, Une)\",\"Without a Paddle\",\"Mask\",\"I Heart Huckabees\",\"Stage Beauty\",\"Vera Drake\",\"Ray\",\"Kinsey\",\"Finding Neverland\",\"Stage Door\",\"Great Expectations\",\"Unfaithfully Yours\",\"The Wild One\",\"Harakiri (Seppuku)\",\"Holy Mountain, The (Monta\\u00f1a sagrada, La)\",\"White Nights\",\"Dutch\",\"Ladybugs\",\"Bad Boy Bubby\",\"Major League II\",\"Late Shift, The\",\"Gummo\",\"Late Night Shopping\",\"Ali G Indahouse\",\"Sea Inside, The (Mar adentro)\",\"Chorus, The (Choristes, Les)\",\"Million Dollar Baby\",\"Aviator, The\",\"Meet the Fockers\",\"Love Song for Bobby Long, A\",\"Merchant of Venice, The\",\"Coach Carter\",\"Uncle Nino\",\"Agony and the Ecstasy, The\",\"Ballad of Jack and Rose, The\",\"Kicking & Screaming\",\"Divorce - Italian Style (Divorzio all'italiana)\",\"Eddie Izzard: Dress to Kill\",\"Calcium Kid, The\",\"Private Resort\",\"Proof\",\"Waiting...\",\"Unfinished Life, An\",\"Greatest Game Ever Played, The\",\"North Country\",\"Manderlay\",\"C.R.A.Z.Y.\",\"Ringer, The\",\"Grandma's Boy\",\"Glory Road\",\"Last Holiday\",\"Akeelah and the Bee\",\"Benchwarmers, The\",\"Stick It\",\"Nacho Libre\",\"Clerks II\",\"Stoned\",\"Orchestra Rehearsal (Prova d'orchestra)\",\"World Trade Center\",\"Pursuit of Happyness, The\",\"Accepted\",\"The Queen\",\"Beerfest\",\"Invincible\",\"All the King's Men\",\"Borat: Cultural Learnings of America for Make Benefit Glorious Nation of Kazakhstan\",\"Employee of the Month\",\"For Your Consideration\",\"Nativity Story, The\",\"Notes on a Scandal\",\"Astronaut Farmer, The\",\"Reno 911!: Miami\",\"Reign Over Me\",\"Mr. Bean's Holiday\",\"This Is England\",\"Away from Her\",\"Bring It On: All or Nothing\",\"Death at a Funeral\",\"Hot Rod\",\"Superbad\",\"Balls of Fury\",\"4 Months, 3 Weeks and 2 Days (4 luni, 3 saptam\\u00e2ni si 2 zile)\",\"Interview\",\"Mr. Woodcock\",\"Game Plan, The\",\"Comebacks, The\",\"King of California\",\"Be Kind Rewind\",\"Meet the Spartans\",\"Semi-Pro\",\"Love Guru, The\",\"Zebraman\",\"99 francs\",\"Baby Mama\",\"You Don't Mess with the Zohan\",\"Welcome to the Sticks (Bienvenue chez les Ch'tis)\",\"Step Brothers\",\"House Bunny, The\",\"Rocker, The\",\"How to Lose Friends & Alienate People\",\"Wave, The (Welle, Die)\",\"Role Models\",\"Sex Drive\",\"Class, The (Entre les murs)\",\"Four Christmases\",\"Frost/Nixon\",\"Seven Pounds\",\"Wrestler, The\",\"Yes Man\",\"Ben X\",\"Departures (Okuribito)\",\"I Love You, Man\",\"Big Stan\",\"In the Loop\",\"Damned United, The\",\"Great Buck Howard, The\",\"Powder Blue\",\"Fired Up\",\"Br\\u00fcno (Bruno)\",\"Humpday\",\"Goods: Live Hard, Sell Hard, The\",\"Miss March\",\"If These Walls Could Talk\",\"Misfortunates, The (De helaasheid der dingen)\",\"Garage\",\"Blind Side, The\",\"Old Dogs\",\"American Pie Presents: The Book of Love (American Pie 7: The Book of Love)\",\"Dennis the Menace Christmas, A\",\"Temple Grandin\",\"Motherhood\",\"Mike Bassett: England Manager\",\"She's Out of My League\",\"Slammin' Salmon, The\",\"Ricky Gervais Live: Animals\",\"Grown Ups\",\"Dinner for Schmucks\",\"Social Network, The\",\"Due Date\",\"King's Speech, The\",\"Fighter, The\",\"Barney's Version\",\"Little Fockers\",\"Girls About Town\",\"Pekka ja P\\u00e4tk\\u00e4 salapoliiseina\",\"Hall Pass\",\"Sunset Limited, The\",\"Arthur\",\"Louis C.K.: Hilarious\",\"Louis C.K.: Shameless\",\"Bridesmaids\",\"Hangover Part II, The\",\"Nothing to Declare (Rien \\u00e0 d\\u00e9clarer)\",\"Elektra Luxx\",\"Bad Teacher\",\"Zookeeper\",\"Help, The\",\"Skin I Live In, The (La piel que habito)\",\"Moneyball\",\"Warrior\",\"Ides of March, The\",\"Margaret\",\"Jack and Jill\",\"Sitter, The\",\"Friends with Kids\",\"Sacrifice (Zhao shi gu er)\",\"Contact High\",\"Einstein and Eddington\",\"Louis C.K.: Live at the Beacon Theater\",\"Prayers for Bobby\",\"Project X\",\"Big Year, The\",\"American Reunion (American Pie 4)\",\"Three Stooges, The\",\"Lucky One, The\",\"Wanderlust\",\"2 Days in New York\",\"Sidewalls (Medianeras)\",\"Campaign, The\",\"Broken\",\"Master, The\",\"Hunt, The (Jagten)\",\"Flight\",\"Nature Calls\",\"Fantastic Fear of Everything, A\",\"Hitchcock\",\"Guilt Trip, The\",\"This Is 40\",\"Parental Guidance\",\"Fish Story (Fisshu sut\\u00f4r\\u00ee)\",\"Incredible Burt Wonderstone, The\",\"Phil Spector\",\"Great Gatsby, The\",\"Internship, The\",\"Hangover Part III, The\",\"Rink, The\",\"Class Act\",\"Grown Ups 2\",\"Jobs\",\"In a World...\",\"Short Term 12\",\"12 Years a Slave\",\"Jackass Presents: Bad Grandpa\",\"Dallas Buyers Club\",\"Inside Llewyn Davis\",\"Mandela: Long Walk to Freedom\",\"Anchorman 2: The Legend Continues\",\"Venus in Fur (La V\\u00e9nus \\u00e0 la fourrure)\",\"Neighbors\",\"Chef\",\"Blended\",\"Boyhood\",\"Whiplash\",\"Inbetweeners 2, The\",\"Camp X-Ray\",\"Cesar Chavez\",\"Leviathan\",\"Tangerines\",\"Dumb and Dumber To\",\"Miss Meadows\",\"Hello Ladies: The Movie\",\"Still Alice\",\"Bring It On: In It To Win It\",\"Fans\",\"National Lampoon's Bag Boy\",\"Dave Chappelle: For What it's Worth\",\"Mommy\",\"Wild\",\"Big Eyes\",\"John Mulaney: New In Town\",\"The Duke of Burgundy\",\"Bill Burr: Why Do I Do This?\",\"The DUFF\",\"Louis C.K.: Live at The Comedy Store\",\"Experimenter\",\"Mistress America\",\"Me and Earl and the Dying Girl\",\"The Overnight\",\"Jim Jefferies: BARE\",\"Chris Rock: Bigger & Blacker\",\"Eddie Izzard: Glorious\",\"George Carlin: It's Bad for Ya!\",\"La v\\u00e9rit\\u00e9 si je mens !\",\"The Malibu Bikini Shop\",\"Pitch Perfect 2\",\"Elections Day\",\"Youth\",\"The Taming of the Scoundrel\",\"Ghost Graduation\",\"Love & Mercy\",\"Ted 2\",\"George Carlin: Back in Town\",\"George Carlin: You Are All Diseased\",\"Steve Jobs\",\"Search Party\",\"April Morning\",\"7 Days in Hell\",\"The Opposite Sex\",\"The Intern\",\"Room\",\"The Runner\",\"Straight Outta Compton\",\"The Danish Girl\",\"It Can't Be!\",\"Oscar\",\"The Night Before\",\"If I Were a Rich Man\",\"Bros Before Hos\",\"Rock the Kasbah\",\"Blue Mountain State: The Rise of Thadland\",\"Big Short, The\",\"John Mulaney: The Comeback Kid\",\"Exposed\",\"Dad's Army\",\"Everybody Wants Some\",\"Sing Street\",\"Neighbors 2: Sorority Rising\",\"The Boss\",\"Captain Fantastic\",\"Popstar: Never Stop Never Stopping\",\"Pel\\u00e9: Birth of a Legend\",\"Mike & Dave Need Wedding Dates\",\"Sully\",\"War Dogs\",\"David Cross: Making America Great Again\",\"London Town\",\"Keeping Up with the Joneses\",\"Office Christmas Party\",\"Hidden Figures\",\"Fences\",\"The Founder\",\"Why Him?\",\"Dave Chappelle: Deep in the Heart of Texas\",\"Gifted\",\"Saved by the Bell: Hawaiian Style\",\"The Night Before\",\"The Meyerowitz Stories\",\"Don Camillo in Moscow\",\"Rory Scovel Tries Stand-Up for the First Time\",\"The Greatest Showman\",\"Jack Whitehall: At Large\",\"The Purple Sea\",\"The Clapper\",\"When We First Met\",\"Fred Armisen: Standup for Drummers\",\"John From\"],\"x\":{\"__ndarray__\":\"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\",\"dtype\":\"float32\",\"shape\":[954]},\"y\":{\"__ndarray__\":\"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\",\"dtype\":\"float32\",\"shape\":[954]}},\"selected\":{\"id\":\"1035\"},\"selection_policy\":{\"id\":\"1034\"}},\"id\":\"1002\",\"type\":\"ColumnDataSource\"},{\"attributes\":{},\"id\":\"1006\",\"type\":\"DataRange1d\"},{\"attributes\":{\"active_drag\":\"auto\",\"active_inspect\":\"auto\",\"active_multi\":null,\"active_scroll\":\"auto\",\"active_tap\":\"auto\",\"tools\":[{\"id\":\"1014\"},{\"id\":\"1015\"},{\"id\":\"1016\"},{\"id\":\"1017\"},{\"id\":\"1018\"},{\"id\":\"1019\"}]},\"id\":\"1021\",\"type\":\"Toolbar\"}],\"root_ids\":[\"1003\"]},\"title\":\"Bokeh Application\",\"version\":\"2.0.1\"}};\n",
       "  var render_items = [{\"docid\":\"1e4c649f-e8dc-4397-a3f7-579015425011\",\"root_ids\":[\"1003\"],\"roots\":{\"1003\":\"a72f3925-fd16-48bc-86ca-62cd9acead6d\"}}];\n",
       "  root.Bokeh.embed.embed_items_notebook(docs_json, render_items);\n",
       "\n",
       "  }\n",
       "  if (root.Bokeh !== undefined) {\n",
       "    embed_document(root);\n",
       "  } else {\n",
       "    var attempts = 0;\n",
       "    var timer = setInterval(function(root) {\n",
       "      if (root.Bokeh !== undefined) {\n",
       "        clearInterval(timer);\n",
       "        embed_document(root);\n",
       "      } else {\n",
       "        attempts++;\n",
       "        if (attempts > 100) {\n",
       "          clearInterval(timer);\n",
       "          console.log(\"Bokeh: ERROR: Unable to run BokehJS code because BokehJS library is missing\");\n",
       "        }\n",
       "      }\n",
       "    }, 10, root)\n",
       "  }\n",
       "})(window);"
      ],
      "application/vnd.bokehjs_exec.v0+json": ""
     },
     "metadata": {
      "application/vnd.bokehjs_exec.v0+json": {
       "id": "1003"
      }
     },
     "output_type": "display_data"
    }
   ],
   "source": [
    "data = dict(\n",
    "    x=vecs2D[:,0],\n",
    "    y=vecs2D[:,1],\n",
    "    title = df_movies['title'],\n",
    "    genre = df_movies['genres'],\n",
    "    colors = [('black' if df_movies['genres'].iloc[i]=='Comedy' else 'red') for i in range(len(vecs2D))]\n",
    ")\n",
    "source = ColumnDataSource(data)\n",
    "\n",
    "fig = figure(plot_width=1000, plot_height=600,\n",
    "             title=\"Movie embeddings projected with PCA\",\n",
    "             tools=\"pan,wheel_zoom,zoom_in,box_zoom,reset,hover\",\n",
    "             x_axis_type=None, y_axis_type=None, min_border=1)\n",
    "\n",
    "fig.scatter(x='x', y='y',source=source, fill_alpha=0.4, size=10, fill_color='colors')\n",
    "\n",
    "# hover tools\n",
    "hover = fig.select(dict(type=HoverTool))\n",
    "hover.tooltips = {\"content\": \"@title (@genre)\"}\n",
    "\n",
    "show(fig)"
   ]
  },
  {
   "cell_type": "markdown",
   "metadata": {},
   "source": [
    "### Try limiting output to range 0..5"
   ]
  },
  {
   "cell_type": "code",
   "execution_count": 33,
   "metadata": {},
   "outputs": [],
   "source": [
    "df = load(n=20_000)\n",
    "compress_cats(df, 'movieId') # make IDs 0..nmovies-1\n",
    "compress_cats(df, 'userId')\n",
    "\n",
    "nmovies = len(df.groupby('movieId').count())\n",
    "nusers = len(df.groupby('movieId').count())"
   ]
  },
  {
   "cell_type": "code",
   "execution_count": 34,
   "metadata": {},
   "outputs": [
    {
     "name": "stderr",
     "output_type": "stream",
     "text": [
      "/home/ubuntu/anaconda3/envs/pytorch_latest_p36/lib/python3.6/site-packages/ipykernel_launcher.py:13: UserWarning: To copy construct from a tensor, it is recommended to use sourceTensor.clone().detach() or sourceTensor.clone().detach().requires_grad_(True), rather than torch.tensor(sourceTensor).\n",
      "  del sys.path[0]\n"
     ]
    },
    {
     "name": "stdout",
     "output_type": "stream",
     "text": [
      "Epoch   0 loss         4.16\n",
      "Epoch  30 loss         0.49\n",
      "Epoch  60 loss         0.29\n",
      "Epoch  90 loss         0.24\n",
      "Epoch 120 loss         0.22\n",
      "Epoch 150 loss         0.21\n",
      "Epoch 180 loss         0.20\n",
      "Epoch 210 loss         0.20\n",
      "Epoch 240 loss         0.20\n",
      "Epoch 270 loss         0.19\n",
      "Epoch 300 loss         0.19\n",
      "Epoch 330 loss         0.19\n",
      "Epoch 360 loss         0.19\n",
      "Epoch 390 loss         0.19\n",
      "Epoch 420 loss         0.19\n",
      "Epoch 450 loss         0.18\n",
      "Epoch 480 loss         0.18\n"
     ]
    }
   ],
   "source": [
    "U = torch.randn(nusers,  nfactors, device=device, dtype=dtype, requires_grad=True)  # <-- track for autograd\n",
    "M = torch.randn(nmovies, nfactors, device=device, dtype=dtype, requires_grad=True)\n",
    "\n",
    "nfactors = 4\n",
    "learning_rate = 200\n",
    "momentum = .01\n",
    "for t in range(500):\n",
    "    userIds = torch.tensor(df['userId'].values).cuda()\n",
    "    movieIds = torch.tensor(df['movieId'].values).cuda()\n",
    "    ratings = torch.tensor(df['rating'].values).cuda()\n",
    "    r_pred = (U[userIds] * M[movieIds]).sum(axis=1)\n",
    "    r_pred = torch.sigmoid(r_pred) * 5  # limit to 0..5\n",
    "    diff = r_pred - torch.tensor(ratings)\n",
    "    loss = torch.mean( diff.pow(2) )\n",
    "    if t % 30 == 0:\n",
    "        print(f\"Epoch {t:3d} loss {loss:12.2f}\")\n",
    "\n",
    "    loss.backward() # autograd computes U.grad and M.grad\n",
    "\n",
    "    # Update weights; weights have requires_grad=True but we don't need to track these updates\n",
    "    with torch.no_grad():\n",
    "        U -= (momentum*U + learning_rate * U.grad)\n",
    "        M -= (momentum*M + learning_rate * M.grad)\n",
    "\n",
    "        U.grad.zero_() # reset gradients\n",
    "        M.grad.zero_()"
   ]
  },
  {
   "cell_type": "code",
   "execution_count": 35,
   "metadata": {},
   "outputs": [
    {
     "name": "stdout",
     "output_type": "stream",
     "text": [
      "OOB R^2 0.679\n",
      "Train R^2 0.956\n"
     ]
    }
   ],
   "source": [
    "#RF_onehot(df, M.detach().numpy(), U.detach().numpy())\n",
    "RF_onehot(df, M.detach().cpu(), U.detach().cpu())"
   ]
  },
  {
   "cell_type": "markdown",
   "metadata": {},
   "source": [
    "Seems to help a bit. 0.57 to 0.59 OOB R^2. Cool. increasing iterations to 500 and lr=50, moves to 0.64 OOB.\n",
    "\n",
    "lr=200 and momentum=.01 gets 0.7 OOB R^2."
   ]
  },
  {
   "cell_type": "markdown",
   "metadata": {},
   "source": [
    "## Try with AdaGrad minimizer\n"
   ]
  },
  {
   "cell_type": "code",
   "execution_count": 36,
   "metadata": {},
   "outputs": [],
   "source": [
    "df = load(n=20_000)\n",
    "compress_cats(df, 'movieId') # make IDs 0..nmovies-1\n",
    "compress_cats(df, 'userId')\n",
    "\n",
    "nmovies = len(df.groupby('movieId').count())\n",
    "nusers = len(df.groupby('movieId').count())"
   ]
  },
  {
   "cell_type": "code",
   "execution_count": 37,
   "metadata": {},
   "outputs": [
    {
     "name": "stderr",
     "output_type": "stream",
     "text": [
      "/home/ubuntu/anaconda3/envs/pytorch_latest_p36/lib/python3.6/site-packages/ipykernel_launcher.py:17: UserWarning: To copy construct from a tensor, it is recommended to use sourceTensor.clone().detach() or sourceTensor.clone().detach().requires_grad_(True), rather than torch.tensor(sourceTensor).\n"
     ]
    },
    {
     "name": "stdout",
     "output_type": "stream",
     "text": [
      "Epoch   0 loss         4.35\n",
      "Epoch  50 loss         0.69\n",
      "Epoch 100 loss         0.35\n",
      "Epoch 150 loss         0.27\n",
      "Epoch 200 loss         0.23\n",
      "Epoch 250 loss         0.21\n",
      "Epoch 300 loss         0.20\n",
      "Epoch 350 loss         0.19\n",
      "Epoch 400 loss         0.19\n",
      "Epoch 450 loss         0.18\n"
     ]
    }
   ],
   "source": [
    "nfactors = 4\n",
    "\n",
    "U = torch.randn(nusers,  nfactors, device=device, dtype=dtype, requires_grad=True)  # <-- track for autograd\n",
    "M = torch.randn(nmovies, nfactors, device=device, dtype=dtype, requires_grad=True)\n",
    "\n",
    "learning_rate = 2.4\n",
    "e = 0.0000001  # avoid division by zero when scaling learning rate\n",
    "\n",
    "hU = torch.zeros(size=(nusers, nfactors),  device=device, dtype=dtype)\n",
    "hM = torch.zeros(size=(nmovies, nfactors), device=device, dtype=dtype)\n",
    "for t in range(500):\n",
    "    userIds = torch.tensor(df['userId'].values).cuda()\n",
    "    movieIds = torch.tensor(df['movieId'].values).cuda()\n",
    "    ratings = torch.tensor(df['rating'].values).cuda()\n",
    "    r_pred = (U[userIds] * M[movieIds]).sum(axis=1)\n",
    "    r_pred = torch.sigmoid(r_pred) * 5  # limit to 0..5\n",
    "    diff = r_pred - torch.tensor(ratings)\n",
    "    loss = torch.mean( diff.pow(2) )\n",
    "    if t % 50 == 0:\n",
    "        print(f\"Epoch {t:3d} loss {loss:12.2f}\")\n",
    "\n",
    "    loss.backward() # autograd computes U.grad and M.grad\n",
    "\n",
    "    # Update weights; weights have requires_grad=True but we don't need to track these updates\n",
    "    with torch.no_grad():\n",
    "        hU += U.grad * U.grad\n",
    "        hM += M.grad * M.grad\n",
    "        U -= learning_rate * U.grad / (torch.sqrt(hU)+e)\n",
    "        M -= learning_rate * M.grad / (torch.sqrt(hM)+e)\n",
    "\n",
    "        U.grad.zero_() # reset gradients\n",
    "        M.grad.zero_()"
   ]
  },
  {
   "cell_type": "code",
   "execution_count": 38,
   "metadata": {},
   "outputs": [
    {
     "name": "stdout",
     "output_type": "stream",
     "text": [
      "OOB R^2 0.582\n",
      "Train R^2 0.943\n"
     ]
    }
   ],
   "source": [
    "RF_onehot(df, M.cpu().detach().numpy(), U.cpu().detach().numpy())"
   ]
  },
  {
   "cell_type": "code",
   "execution_count": 39,
   "metadata": {},
   "outputs": [
    {
     "data": {
      "image/png": "[encoded data removed]",
      "text/plain": [
       "<Figure size 360x360 with 1 Axes>"
      ]
     },
     "metadata": {
      "needs_background": "light"
     },
     "output_type": "display_data"
    }
   ],
   "source": [
    "df_movies, vecs2D = plot_comedy_drama_embeddings(df, M.cpu().detach().numpy(), xrange=(-5,5), yrange=(-5,5))"
   ]
  },
  {
   "cell_type": "markdown",
   "metadata": {},
   "source": [
    "## Let's add bias to embeddings\n",
    "\n",
    "Much much slower, even on GPU. Still much faster than GPU though."
   ]
  },
  {
   "cell_type": "code",
   "execution_count": 50,
   "metadata": {},
   "outputs": [],
   "source": [
    "# if you run out of memory\n",
    "torch.cuda.empty_cache()"
   ]
  },
  {
   "cell_type": "code",
   "execution_count": 51,
   "metadata": {},
   "outputs": [],
   "source": [
    "df = load(n=15_000)\n",
    "compress_cats(df, 'movieId') # make IDs 0..nmovies-1\n",
    "compress_cats(df, 'userId')\n",
    "\n",
    "nmovies = len(df.groupby('movieId').count())\n",
    "nusers = len(df.groupby('movieId').count())"
   ]
  },
  {
   "cell_type": "code",
   "execution_count": 63,
   "metadata": {},
   "outputs": [
    {
     "name": "stderr",
     "output_type": "stream",
     "text": [
      "/home/ubuntu/anaconda3/envs/pytorch_latest_p36/lib/python3.6/site-packages/ipykernel_launcher.py:23: UserWarning: To copy construct from a tensor, it is recommended to use sourceTensor.clone().detach() or sourceTensor.clone().detach().requires_grad_(True), rather than torch.tensor(sourceTensor).\n"
     ]
    },
    {
     "name": "stdout",
     "output_type": "stream",
     "text": [
      "Epoch   0 loss         5.18\n",
      "Epoch   5 loss         4.86\n",
      "Epoch  10 loss         4.06\n",
      "Epoch  15 loss         3.81\n",
      "Epoch  20 loss         3.71\n",
      "Epoch  25 loss         3.64\n",
      "Epoch  30 loss         3.58\n",
      "Epoch  35 loss         3.55\n",
      "Epoch  40 loss         3.54\n",
      "Epoch  45 loss         3.53\n",
      "Epoch  50 loss         3.51\n",
      "Epoch  55 loss         3.50\n",
      "Epoch  60 loss         3.50\n",
      "Epoch  65 loss         3.48\n",
      "Epoch  70 loss         3.49\n",
      "Epoch  75 loss         3.47\n",
      "Epoch  80 loss         3.46\n",
      "Epoch  85 loss         3.46\n",
      "Epoch  90 loss         3.46\n",
      "Epoch  95 loss         3.45\n"
     ]
    }
   ],
   "source": [
    "nfactors = 4\n",
    "\n",
    "U      = torch.randn(nusers,  nfactors, device=device, dtype=dtype, requires_grad=True)\n",
    "U_bias = torch.randn(nusers,  1,        device=device, dtype=dtype, requires_grad=True)\n",
    "M      = torch.randn(nmovies, nfactors, device=device, dtype=dtype, requires_grad=True)\n",
    "M_bias = torch.randn(nmovies, 1,        device=device, dtype=dtype, requires_grad=True)\n",
    "\n",
    "learning_rate = 3\n",
    "e = 0.0000001  # avoid division by zero when scaling learning rate\n",
    "\n",
    "# track gradient history\n",
    "hU = torch.zeros(size=(nusers,  nfactors), device=device, dtype=dtype)\n",
    "hM = torch.zeros(size=(nmovies, nfactors), device=device, dtype=dtype)\n",
    "hU_bias = torch.zeros(size=(nusers,  1),   device=device, dtype=dtype)\n",
    "hM_bias = torch.zeros(size=(nmovies, 1),   device=device, dtype=dtype)\n",
    "for t in range(100):\n",
    "    userIds = torch.tensor(df['userId'].values).cuda()\n",
    "    movieIds = torch.tensor(df['movieId'].values).cuda()\n",
    "    ratings = torch.tensor(df['rating'].values).cuda()\n",
    "    r_pred = (U[userIds] * M[movieIds]).sum(axis=1, keepdim=True)  # keepdim says keep as shape (20_000,1) not (20_000,)\n",
    "    r_pred += (U_bias[df['userId']] + M_bias[df['movieId']])\n",
    "    r_pred = torch.sigmoid(r_pred) * 5  # limit to 0..5\n",
    "    diff = r_pred - torch.tensor(ratings)\n",
    "    loss = torch.mean( diff.pow(2) )\n",
    "    if t % 5 == 0:\n",
    "        print(f\"Epoch {t:3d} loss {loss:12.2f}\")\n",
    "\n",
    "    loss.backward() # autograd computes U.grad and M.grad\n",
    "\n",
    "    # Update weights; weights have requires_grad=True but we don't need to track these updates\n",
    "    with torch.no_grad():\n",
    "        hU += U.grad * U.grad\n",
    "        hM += M.grad * M.grad\n",
    "        hU_bias += U_bias.grad * U_bias.grad\n",
    "        hM_bias += M_bias.grad * M_bias.grad\n",
    "        U -= learning_rate * U.grad / (torch.sqrt(hU)+e)\n",
    "        M -= learning_rate * M.grad / (torch.sqrt(hM)+e)\n",
    "        U_bias -= learning_rate * U_bias.grad / (torch.sqrt(hU_bias)+e)\n",
    "        M_bias -= learning_rate * M_bias.grad / (torch.sqrt(hM_bias)+e)\n",
    "\n",
    "        U.grad.zero_() # reset gradients\n",
    "        M.grad.zero_()\n",
    "        U_bias.grad.zero_() # reset gradients\n",
    "        M_bias.grad.zero_()"
   ]
  },
  {
   "cell_type": "code",
   "execution_count": 64,
   "metadata": {},
   "outputs": [
    {
     "name": "stdout",
     "output_type": "stream",
     "text": [
      "OOB R^2 0.119\n",
      "Train R^2 0.879\n"
     ]
    }
   ],
   "source": [
    "RF_onehot(df, M.cpu().detach().numpy(), U.cpu().detach().numpy())"
   ]
  },
  {
   "cell_type": "code",
   "execution_count": 66,
   "metadata": {},
   "outputs": [
    {
     "data": {
      "image/png": "[encoded data removed]",
      "text/plain": [
       "<Figure size 360x360 with 1 Axes>"
      ]
     },
     "metadata": {
      "needs_background": "light"
     },
     "output_type": "display_data"
    }
   ],
   "source": [
    "df_movies, vecs2D = plot_comedy_drama_embeddings(df, M.cpu().detach().numpy(), xrange=(-8,8), yrange=(-8,8))"
   ]
  },
  {
   "cell_type": "code",
   "execution_count": null,
   "metadata": {},
   "outputs": [],
   "source": []
  }
 ],
 "metadata": {
  "kernelspec": {
   "display_name": "Python 3",
   "language": "python",
   "name": "python3"
  },
  "language_info": {
   "codemirror_mode": {
    "name": "ipython",
    "version": 3
   },
   "file_extension": ".py",
   "mimetype": "text/x-python",
   "name": "python",
   "nbconvert_exporter": "python",
   "pygments_lexer": "ipython3",
   "version": "3.6.10"
  }
 },
 "nbformat": 4,
 "nbformat_minor": 4
}
