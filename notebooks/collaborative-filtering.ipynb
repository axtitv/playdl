{
 "cells": [
  {
   "cell_type": "markdown",
   "metadata": {},
   "source": [
    "# Collaborative filtering\n",
    "\n",
    "To learn more about collaborative filtering and PyTorch, I'm going to derive an implementation based upon the ideas in [fastai book chapter 8](https://github.com/fastai/fastbook/blob/master/08_collab.ipynb) for user-movie-ratings from [MovieLens](https://grouplens.org/datasets/movielens/)."
   ]
  },
  {
   "cell_type": "markdown",
   "metadata": {},
   "source": [
    "## Get some movie reviews\n",
    "\n",
    "I will grab [a small subset](http://files.grouplens.org/datasets/movielens/ml-latest-small.zip) and put into `data` subdir:\n",
    "\n",
    "```\n",
    "data/ml-latest-small\n",
    "├── README.txt\n",
    "├── links.csv\n",
    "├── movies.csv\n",
    "├── ratings.csv\n",
    "└── tags.csv\n",
    "```\n",
    "\n",
    "\"*Ratings are made on a 5-star scale, with half-star increments (0.5 stars - 5.0 stars).*\" The `ratings.csv` file looks like:\n",
    "\n",
    "```\n",
    "userId,movieId,rating,timestamp\n",
    "1,1,4.0,964982703\n",
    "1,3,4.0,964981247\n",
    "1,6,4.0,964982224\n",
    "1,47,5.0,964983815\n",
    "...\n",
    "```\n",
    "\n",
    "And, in case we are curious, `movies.csv` has:\n",
    "\n",
    "```\n",
    "movieId,title,genres\n",
    "1,Toy Story (1995),Adventure|Animation|Children|Comedy|Fantasy\n",
    "2,Jumanji (1995),Adventure|Children|Fantasy\n",
    "3,Grumpier Old Men (1995),Comedy|Romance\n",
    "...\n",
    "```"
   ]
  },
  {
   "cell_type": "code",
   "execution_count": 383,
   "metadata": {},
   "outputs": [],
   "source": [
    "import pandas as pd\n",
    "import torch  # Let's try this with PyTorch not numpy\n",
    "# import numpy as np\n",
    "import re\n",
    "# np.set_printoptions(precision=2, suppress=True, linewidth=3000, threshold=20000)\n",
    "\n",
    "def load(n = 10):\n",
    "    df_ratings = pd.read_csv('data/ml-latest-small/ratings.csv')\n",
    "    df_ratings = df_ratings.drop('timestamp', axis=1)\n",
    "    df_ratings = df_ratings.sample(n=n).reset_index(drop=True)\n",
    "    # Merge in the title and genres\n",
    "    df_movies = pd.read_csv('data/ml-latest-small/movies.csv')\n",
    "    df = df_ratings.merge(df_movies, on='movieId')\n",
    "    # Strip the \"(1999)\" dates from the titles\n",
    "    p = re.compile(r'[()0-9]+$')\n",
    "    df['title'] = df['title'].map(lambda x: p.sub('', x).strip())\n",
    "    return df\n",
    "\n",
    "def compress_cats(df, colname):\n",
    "    df[colname] = df[colname].astype('category').cat.as_ordered()\n",
    "    df[colname] = df[colname].cat.codes # encode 0..n-1  NB: Different than I usually do (1..n)!!!!\n",
    "    df[colname] = df[colname].astype(int)"
   ]
  },
  {
   "cell_type": "markdown",
   "metadata": {},
   "source": [
    "## Matrix of user x movie with ratings as elements"
   ]
  },
  {
   "cell_type": "markdown",
   "metadata": {},
   "source": [
    "Let's create a matrix that maps user and movie to a rating. Most of the entries will be zero because not all users have seen all movies. We can start with just a few records so that we can see the entire matrix at once. Zeros in the matrix indicate that the user has not rated that movie. $R_{u,m}$ is rating for user $u$ and movie $m$."
   ]
  },
  {
   "cell_type": "code",
   "execution_count": 384,
   "metadata": {},
   "outputs": [
    {
     "data": {
      "text/html": [
       "<div>\n",
       "<style scoped>\n",
       "    .dataframe tbody tr th:only-of-type {\n",
       "        vertical-align: middle;\n",
       "    }\n",
       "\n",
       "    .dataframe tbody tr th {\n",
       "        vertical-align: top;\n",
       "    }\n",
       "\n",
       "    .dataframe thead th {\n",
       "        text-align: right;\n",
       "    }\n",
       "</style>\n",
       "<table border=\"1\" class=\"dataframe\">\n",
       "  <thead>\n",
       "    <tr style=\"text-align: right;\">\n",
       "      <th></th>\n",
       "      <th>userId</th>\n",
       "      <th>movieId</th>\n",
       "      <th>rating</th>\n",
       "      <th>title</th>\n",
       "      <th>genres</th>\n",
       "    </tr>\n",
       "  </thead>\n",
       "  <tbody>\n",
       "    <tr>\n",
       "      <td>0</td>\n",
       "      <td>1</td>\n",
       "      <td>1</td>\n",
       "      <td>3.0</td>\n",
       "      <td>Ridicule</td>\n",
       "      <td>Drama</td>\n",
       "    </tr>\n",
       "    <tr>\n",
       "      <td>1</td>\n",
       "      <td>3</td>\n",
       "      <td>2</td>\n",
       "      <td>4.0</td>\n",
       "      <td>Bug's Life, A</td>\n",
       "      <td>Adventure|Animation|Children|Comedy</td>\n",
       "    </tr>\n",
       "    <tr>\n",
       "      <td>2</td>\n",
       "      <td>0</td>\n",
       "      <td>0</td>\n",
       "      <td>3.0</td>\n",
       "      <td>Lord of Illusions</td>\n",
       "      <td>Horror</td>\n",
       "    </tr>\n",
       "    <tr>\n",
       "      <td>3</td>\n",
       "      <td>2</td>\n",
       "      <td>3</td>\n",
       "      <td>2.0</td>\n",
       "      <td>Shallow Hal</td>\n",
       "      <td>Comedy|Fantasy|Romance</td>\n",
       "    </tr>\n",
       "    <tr>\n",
       "      <td>4</td>\n",
       "      <td>3</td>\n",
       "      <td>4</td>\n",
       "      <td>5.0</td>\n",
       "      <td>Amelie (Fabuleux destin d'Amélie Poulain, Le)</td>\n",
       "      <td>Comedy|Romance</td>\n",
       "    </tr>\n",
       "    <tr>\n",
       "      <td>5</td>\n",
       "      <td>4</td>\n",
       "      <td>5</td>\n",
       "      <td>3.5</td>\n",
       "      <td>Charlie Bartlett</td>\n",
       "      <td>Comedy|Drama</td>\n",
       "    </tr>\n",
       "  </tbody>\n",
       "</table>\n",
       "</div>"
      ],
      "text/plain": [
       "   userId  movieId  rating                                          title  \\\n",
       "0       1        1     3.0                                       Ridicule   \n",
       "1       3        2     4.0                                  Bug's Life, A   \n",
       "2       0        0     3.0                              Lord of Illusions   \n",
       "3       2        3     2.0                                    Shallow Hal   \n",
       "4       3        4     5.0  Amelie (Fabuleux destin d'Amélie Poulain, Le)   \n",
       "5       4        5     3.5                               Charlie Bartlett   \n",
       "\n",
       "                                genres  \n",
       "0                                Drama  \n",
       "1  Adventure|Animation|Children|Comedy  \n",
       "2                               Horror  \n",
       "3               Comedy|Fantasy|Romance  \n",
       "4                       Comedy|Romance  \n",
       "5                         Comedy|Drama  "
      ]
     },
     "execution_count": 384,
     "metadata": {},
     "output_type": "execute_result"
    }
   ],
   "source": [
    "df = load(n=6)\n",
    "nmovies = len(df.groupby('movieId').count())\n",
    "nusers = len(df.groupby('movieId').count())\n",
    "compress_cats(df, 'movieId') # make IDs 1..nmovies\n",
    "compress_cats(df, 'userId')\n",
    "df"
   ]
  },
  {
   "cell_type": "code",
   "execution_count": 385,
   "metadata": {},
   "outputs": [
    {
     "data": {
      "text/plain": [
       "tensor([[3.0000, 0.0000, 0.0000, 0.0000, 0.0000, 0.0000],\n",
       "        [0.0000, 3.0000, 0.0000, 0.0000, 0.0000, 0.0000],\n",
       "        [0.0000, 0.0000, 0.0000, 2.0000, 0.0000, 0.0000],\n",
       "        [0.0000, 0.0000, 4.0000, 0.0000, 5.0000, 0.0000],\n",
       "        [0.0000, 0.0000, 0.0000, 0.0000, 0.0000, 3.5000],\n",
       "        [0.0000, 0.0000, 0.0000, 0.0000, 0.0000, 0.0000]])"
      ]
     },
     "execution_count": 385,
     "metadata": {},
     "output_type": "execute_result"
    }
   ],
   "source": [
    "dtype = torch.float\n",
    "device = torch.device(\"cpu\")\n",
    "\n",
    "def R_matrix(df):\n",
    "    nmovies = len(df.groupby('movieId').count())\n",
    "    nusers = len(df.groupby('movieId').count())\n",
    "    R = torch.zeros(nusers, nmovies, device=device, dtype=dtype)\n",
    "    for u,m,r,_,_ in df.values:\n",
    "        R[u,m] = r  # user u and movie m get rating r\n",
    "    return R\n",
    "\n",
    "R = R_matrix(df)\n",
    "R"
   ]
  },
  {
   "cell_type": "markdown",
   "metadata": {},
   "source": [
    "## Latent factors == dense embedding vectors\n",
    "\n",
    "The goal is to replace the 0s with a predicted rating, just as I did when [creating the embeddings](catvar-embeddings-split-homebrew.ipynb), but this time we will do it with (probabilistic) matrix factorization. The idea is to conjure up two matrices whose matrix multiplication is our ratings matrix.  In other words, $U M^T = R$ for user matrix $U$ and movie matrix $M$. Let's say that we want 4 latent factors for each user and each movie, meaning that the dense embedding vectors are 4 dimensional. $U$ would then be nusers x 4 and $M$ would be nmovies x 4.  For the ith user and jth movie, $U_i \\cdot M_j$ would represent the rating at $R_{i,j}$.\n",
    "\n",
    "We initialize the user and movie embedding matrices randomly:"
   ]
  },
  {
   "cell_type": "code",
   "execution_count": 386,
   "metadata": {},
   "outputs": [
    {
     "data": {
      "text/plain": [
       "tensor([[ 1.3238,  0.8057,  0.7769,  0.1464],\n",
       "        [-0.2096, -0.9855, -0.4810, -0.1975],\n",
       "        [ 0.9582, -1.3052,  1.1934, -0.2212],\n",
       "        [ 1.9654, -0.2113, -1.1392, -0.2422],\n",
       "        [ 0.2447,  0.1853,  1.4579, -0.0725],\n",
       "        [-0.0135, -0.0308,  0.7660, -1.6888]])"
      ]
     },
     "execution_count": 386,
     "metadata": {},
     "output_type": "execute_result"
    }
   ],
   "source": [
    "nfactors = 4\n",
    "U = torch.randn(nusers,  nfactors, device=device, dtype=dtype)\n",
    "M = torch.randn(nmovies, nfactors, device=device, dtype=dtype)\n",
    "U"
   ]
  },
  {
   "cell_type": "markdown",
   "metadata": {},
   "source": [
    "Our first prediction is garbage but this explains the operation we want to perform to get a predicted $R$ matrix:"
   ]
  },
  {
   "cell_type": "code",
   "execution_count": 387,
   "metadata": {},
   "outputs": [
    {
     "data": {
      "text/plain": [
       "tensor([[ 3.6342,  1.6377,  0.3009, -2.5046, -0.3011,  0.3709],\n",
       "        [-1.0437, -0.4913,  0.3514, -0.4929, -0.1354, -0.1147],\n",
       "        [ 3.4142, -0.0975, -0.2203, -3.2977, -0.8715,  1.6699],\n",
       "        [ 2.6334,  2.9458,  2.6539, -5.8071, -0.5098, -1.4531],\n",
       "        [ 2.6335, -0.4444, -1.2111, -0.0840, -0.3727,  1.3466],\n",
       "        [ 3.9840, -0.9887, -1.2012, -0.7268, -1.1711, -0.4609]])"
      ]
     },
     "execution_count": 387,
     "metadata": {},
     "output_type": "execute_result"
    }
   ],
   "source": [
    "R_pred = U.mm(M.T)\n",
    "R_pred"
   ]
  },
  {
   "cell_type": "markdown",
   "metadata": {},
   "source": [
    "## Objective (loss) function\n",
    "\n",
    "So those user and movie matrices are random and of course the resulting ratings are useless.  Understanding how good or bad they are is useful metric and of course what we will optimize to construct proper user and movie matrices. As a starting point, let's just look at the MSE:"
   ]
  },
  {
   "cell_type": "code",
   "execution_count": 388,
   "metadata": {},
   "outputs": [
    {
     "data": {
      "text/plain": [
       "tensor(5.1135)"
      ]
     },
     "execution_count": 388,
     "metadata": {},
     "output_type": "execute_result"
    }
   ],
   "source": [
    "loss = torch.mean( (R - R_pred).pow(2) )\n",
    "loss"
   ]
  },
  {
   "cell_type": "markdown",
   "metadata": {},
   "source": [
    "## Minimizing the loss function (gradient descent with momentum)\n",
    "\n",
    "Let's do this using autograd and simple gradient descent (with momentum)."
   ]
  },
  {
   "cell_type": "code",
   "execution_count": 389,
   "metadata": {},
   "outputs": [],
   "source": [
    "df = load(n=10_000)\n",
    "compress_cats(df, 'movieId') # make IDs 0..nmovies-1\n",
    "compress_cats(df, 'userId')\n",
    "\n",
    "nmovies = len(df.groupby('movieId').count())\n",
    "nusers = len(df.groupby('movieId').count())\n",
    "nfactors = 4\n",
    "\n",
    "R = R_matrix(df)\n",
    "\n",
    "U = torch.randn(nusers,  nfactors, device=device, dtype=dtype, requires_grad=True)  # <-- track for autograd\n",
    "M = torch.randn(nmovies, nfactors, device=device, dtype=dtype, requires_grad=True)"
   ]
  },
  {
   "cell_type": "code",
   "execution_count": 390,
   "metadata": {},
   "outputs": [
    {
     "name": "stdout",
     "output_type": "stream",
     "text": [
      "Epoch   0 loss         4.02\n",
      "Epoch  10 loss         1.44\n",
      "Epoch  20 loss         0.65\n",
      "Epoch  30 loss         0.34\n",
      "Epoch  40 loss         0.19\n",
      "Epoch  50 loss         0.11\n",
      "Epoch  60 loss         0.07\n",
      "Epoch  70 loss         0.05\n",
      "Epoch  80 loss         0.03\n",
      "Epoch  90 loss         0.03\n"
     ]
    }
   ],
   "source": [
    "learning_rate = 35\n",
    "momentum = .01\n",
    "for t in range(100):\n",
    "    R_pred = U.mm(M.T) # predict ratings\n",
    "    \n",
    "    loss = torch.mean( (R - R_pred).pow(2) ) # compute objective function\n",
    "    if t % 10 == 0:\n",
    "        print(f\"Epoch {t:3d} loss {loss:12.2f}\")\n",
    "\n",
    "    loss.backward() # autograd\n",
    "\n",
    "    # Update weights; weights have requires_grad=True but we don't need to track these updates\n",
    "    with torch.no_grad():\n",
    "        U -= (momentum*U + learning_rate * U.grad)\n",
    "        M -= (momentum*M + learning_rate * M.grad)\n",
    "\n",
    "        U.grad.zero_() # reset gradients\n",
    "        M.grad.zero_()"
   ]
  },
  {
   "cell_type": "markdown",
   "metadata": {},
   "source": [
    "That says that the accuracy is very good so let's check it out."
   ]
  },
  {
   "cell_type": "markdown",
   "metadata": {},
   "source": [
    "## Check accuracy of embeddings via RF"
   ]
  },
  {
   "cell_type": "code",
   "execution_count": 391,
   "metadata": {},
   "outputs": [],
   "source": [
    "import numpy as np\n",
    "from sklearn.model_selection import train_test_split\n",
    "from sklearn.model_selection import cross_val_score\n",
    "from sklearn.ensemble import RandomForestClassifier, RandomForestRegressor\n",
    "\n",
    "def RF_onehot(df, movie_embeddings, user_embeddings):\n",
    "    X = df[['movieId','userId']]\n",
    "    y = df['rating']\n",
    "    X_emb = np.concatenate([movie_embeddings[X['movieId']],user_embeddings[X['userId']]], axis=1)\n",
    "#     X_train, X_test, y_train, y_test = train_test_split(X_emb, y, test_size=0.2)\n",
    "\n",
    "    rf = RandomForestRegressor(n_estimators=100, n_jobs=-1, oob_score=True)\n",
    "    rf.fit(X_emb, y)\n",
    "    print(f\"OOB R^2 {rf.oob_score_:.3f}\")\n",
    "    print(f\"Train R^2 {rf.score(X_emb, y):.3f}\")\n",
    "    # OOB seems close enough and much faster\n",
    "#     scores = cross_val_score(rf, X_emb, y, cv=5)\n",
    "#     print(f\"5-fold valid R^2 {np.mean(scores):.3f}\")"
   ]
  },
  {
   "cell_type": "code",
   "execution_count": 392,
   "metadata": {},
   "outputs": [
    {
     "name": "stdout",
     "output_type": "stream",
     "text": [
      "OOB R^2 0.074\n",
      "Train R^2 0.872\n"
     ]
    }
   ],
   "source": [
    "RF_onehot(df, M.detach().numpy(), U.detach().numpy())"
   ]
  },
  {
   "cell_type": "markdown",
   "metadata": {},
   "source": [
    "Ok, so that accuracy is terrible, barely above guessing the average. What is going on?"
   ]
  },
  {
   "cell_type": "markdown",
   "metadata": {},
   "source": [
    "## Loss should only consider nonzero ratings\n",
    "\n",
    "Well, it seems that the matrix multiplication is the problem because $R$ it is mostly zeros. That means that we are training the vectors to get zeros in the missing spots, which is not what we want. Instead, the loss function needs to consider only the nonzero records. So rather than create $R$, let's just walk through the training records, which are the only non-zero values in the user x movie matrix. I asked [Yannet](https://www.usfca.edu/faculty/yannet-interian) and she confirmed for me that you want to avoid computing the loss on the zeros, which is also very expensive anyway. She said to focus just on the training records."
   ]
  },
  {
   "cell_type": "code",
   "execution_count": 393,
   "metadata": {},
   "outputs": [],
   "source": [
    "np.random.seed(1) # keep same records\n",
    "df = load(n=10)\n",
    "compress_cats(df, 'movieId') # make IDs 0..nmovies-1\n",
    "compress_cats(df, 'userId')\n",
    "\n",
    "nmovies = len(df.groupby('movieId').count())\n",
    "nusers = len(df.groupby('movieId').count())\n",
    "nfactors = 4\n",
    "\n",
    "U = torch.randn(nusers,  nfactors, device=device, dtype=dtype, requires_grad=True)  # <-- track for autograd\n",
    "M = torch.randn(nmovies, nfactors, device=device, dtype=dtype, requires_grad=True)"
   ]
  },
  {
   "cell_type": "code",
   "execution_count": 394,
   "metadata": {},
   "outputs": [
    {
     "data": {
      "text/plain": [
       "tensor([[-0.1965, -0.4708, -1.2097, -1.0950],\n",
       "        [ 0.8162,  2.4148,  0.8852, -1.6510],\n",
       "        [-1.1929,  1.8626, -0.2956, -1.3241],\n",
       "        [-0.3751,  1.1974, -0.0606,  1.3626],\n",
       "        [ 1.2981, -0.9792, -1.8210,  2.1409],\n",
       "        [-0.6112, -1.0856,  0.3408,  0.5862],\n",
       "        [-0.4574, -0.1005,  1.0322, -0.0633],\n",
       "        [ 0.1573,  0.0409, -1.8450,  1.2258],\n",
       "        [ 0.6016, -1.5138, -0.8151, -1.8697],\n",
       "        [ 0.6985,  0.3627,  0.8444,  0.1855]], requires_grad=True)"
      ]
     },
     "execution_count": 394,
     "metadata": {},
     "output_type": "execute_result"
    }
   ],
   "source": [
    "U"
   ]
  },
  {
   "cell_type": "code",
   "execution_count": 395,
   "metadata": {},
   "outputs": [
    {
     "data": {
      "text/plain": [
       "tensor([[ 0.1338,  0.5400,  2.9004, -0.4421],\n",
       "        [-0.8093, -0.6271,  0.2681,  0.1063],\n",
       "        [-0.5617,  0.4139, -0.6439, -0.2339],\n",
       "        [ 0.5771,  0.4923,  0.0052, -1.8369],\n",
       "        [-0.6151,  0.1741,  0.1407,  0.7620],\n",
       "        [-0.6880,  0.1338,  0.1474, -1.2825],\n",
       "        [ 0.4807, -1.4634, -0.5619, -1.5315],\n",
       "        [ 1.0332, -0.4027, -0.0073,  0.2492],\n",
       "        [-0.5762, -0.9816, -1.9029,  1.4133],\n",
       "        [ 2.0134, -1.5986,  1.1869,  2.2760]], requires_grad=True)"
      ]
     },
     "execution_count": 395,
     "metadata": {},
     "output_type": "execute_result"
    }
   ],
   "source": [
    "M"
   ]
  },
  {
   "cell_type": "code",
   "execution_count": 396,
   "metadata": {},
   "outputs": [
    {
     "data": {
      "text/html": [
       "<div>\n",
       "<style scoped>\n",
       "    .dataframe tbody tr th:only-of-type {\n",
       "        vertical-align: middle;\n",
       "    }\n",
       "\n",
       "    .dataframe tbody tr th {\n",
       "        vertical-align: top;\n",
       "    }\n",
       "\n",
       "    .dataframe thead th {\n",
       "        text-align: right;\n",
       "    }\n",
       "</style>\n",
       "<table border=\"1\" class=\"dataframe\">\n",
       "  <thead>\n",
       "    <tr style=\"text-align: right;\">\n",
       "      <th></th>\n",
       "      <th>userId</th>\n",
       "      <th>movieId</th>\n",
       "      <th>rating</th>\n",
       "      <th>title</th>\n",
       "      <th>genres</th>\n",
       "    </tr>\n",
       "  </thead>\n",
       "  <tbody>\n",
       "    <tr>\n",
       "      <td>0</td>\n",
       "      <td>4</td>\n",
       "      <td>1</td>\n",
       "      <td>3.0</td>\n",
       "      <td>True Lies</td>\n",
       "      <td>Action|Adventure|Comedy|Romance|Thriller</td>\n",
       "    </tr>\n",
       "    <tr>\n",
       "      <td>1</td>\n",
       "      <td>8</td>\n",
       "      <td>8</td>\n",
       "      <td>5.0</td>\n",
       "      <td>Conjuring, The</td>\n",
       "      <td>Horror|Thriller</td>\n",
       "    </tr>\n",
       "  </tbody>\n",
       "</table>\n",
       "</div>"
      ],
      "text/plain": [
       "   userId  movieId  rating           title  \\\n",
       "0       4        1     3.0       True Lies   \n",
       "1       8        8     5.0  Conjuring, The   \n",
       "\n",
       "                                     genres  \n",
       "0  Action|Adventure|Comedy|Romance|Thriller  \n",
       "1                           Horror|Thriller  "
      ]
     },
     "execution_count": 396,
     "metadata": {},
     "output_type": "execute_result"
    }
   ],
   "source": [
    "df.head(2)"
   ]
  },
  {
   "cell_type": "markdown",
   "metadata": {},
   "source": [
    "Looking at the first record, we see user 4 and movie 1, which we can use to select from the user and move the embeddings matrices:"
   ]
  },
  {
   "cell_type": "code",
   "execution_count": 397,
   "metadata": {},
   "outputs": [
    {
     "data": {
      "text/plain": [
       "(tensor([ 1.2981, -0.9792, -1.8210,  2.1409], grad_fn=<SelectBackward>),\n",
       " tensor([-0.8093, -0.6271,  0.2681,  0.1063], grad_fn=<SelectBackward>))"
      ]
     },
     "execution_count": 397,
     "metadata": {},
     "output_type": "execute_result"
    }
   ],
   "source": [
    "U[4], M[1]"
   ]
  },
  {
   "cell_type": "markdown",
   "metadata": {},
   "source": [
    "Using those two vectors, their dot product is our predicted rating:"
   ]
  },
  {
   "cell_type": "code",
   "execution_count": 398,
   "metadata": {},
   "outputs": [
    {
     "data": {
      "text/plain": [
       "tensor(-0.6971, grad_fn=<DotBackward>)"
      ]
     },
     "execution_count": 398,
     "metadata": {},
     "output_type": "execute_result"
    }
   ],
   "source": [
    "r_pred = U[4].dot(M[1])\n",
    "r_pred"
   ]
  },
  {
   "cell_type": "markdown",
   "metadata": {},
   "source": [
    "The loss associated with this one record is not good as we would expect given the random embeddings:"
   ]
  },
  {
   "cell_type": "code",
   "execution_count": 399,
   "metadata": {},
   "outputs": [
    {
     "data": {
      "text/plain": [
       "tensor(13.6685, grad_fn=<PowBackward0>)"
      ]
     },
     "execution_count": 399,
     "metadata": {},
     "output_type": "execute_result"
    }
   ],
   "source": [
    "(r - r_pred).pow(2)"
   ]
  },
  {
   "cell_type": "markdown",
   "metadata": {},
   "source": [
    "If we want to do this with the first two records, we can use a list of user and movie IDs.For example, here are the user embeddings for the first two training records:"
   ]
  },
  {
   "cell_type": "code",
   "execution_count": 400,
   "metadata": {},
   "outputs": [
    {
     "data": {
      "text/plain": [
       "tensor([[ 1.2981, -0.9792, -1.8210,  2.1409],\n",
       "        [ 0.6016, -1.5138, -0.8151, -1.8697]], grad_fn=<IndexBackward>)"
      ]
     },
     "execution_count": 400,
     "metadata": {},
     "output_type": "execute_result"
    }
   ],
   "source": [
    "U[[4,8]]"
   ]
  },
  {
   "cell_type": "markdown",
   "metadata": {},
   "source": [
    "Now, we need the dot product for each vector in `U[[4,8]]` and `M[[1,8]]`, which is element-wise modification followed by a some, for for each record. We should get to numbers out of this:"
   ]
  },
  {
   "cell_type": "code",
   "execution_count": 401,
   "metadata": {},
   "outputs": [
    {
     "data": {
      "text/plain": [
       "tensor([[-1.0506,  0.6140, -0.4883,  0.2277],\n",
       "        [-0.3466,  1.4860,  1.5511, -2.6424]], grad_fn=<MulBackward0>)"
      ]
     },
     "execution_count": 401,
     "metadata": {},
     "output_type": "execute_result"
    }
   ],
   "source": [
    "U[[4,8]] * M[[1,8]]"
   ]
  },
  {
   "cell_type": "code",
   "execution_count": 402,
   "metadata": {},
   "outputs": [
    {
     "data": {
      "text/plain": [
       "tensor([-0.6971,  0.0480], grad_fn=<SumBackward1>)"
      ]
     },
     "execution_count": 402,
     "metadata": {},
     "output_type": "execute_result"
    }
   ],
   "source": [
    "(U[[4,8]] * M[[1,8]]).sum(axis=1)"
   ]
  },
  {
   "cell_type": "markdown",
   "metadata": {},
   "source": [
    "The MSE is just the average squared difference of those two from the known rating:"
   ]
  },
  {
   "cell_type": "code",
   "execution_count": 403,
   "metadata": {},
   "outputs": [
    {
     "data": {
      "text/plain": [
       "tensor(19.0954, grad_fn=<MeanBackward0>)"
      ]
     },
     "execution_count": 403,
     "metadata": {},
     "output_type": "execute_result"
    }
   ],
   "source": [
    "diff = (U[[4,8]] * M[[1,8]]).sum(axis=1) - torch.tensor([3.0,5.0])\n",
    "loss = torch.mean( diff.pow(2) )\n",
    "loss"
   ]
  },
  {
   "cell_type": "markdown",
   "metadata": {},
   "source": [
    "We could walk with a loop through the training values like this:"
   ]
  },
  {
   "cell_type": "code",
   "execution_count": 404,
   "metadata": {},
   "outputs": [
    {
     "name": "stdout",
     "output_type": "stream",
     "text": [
      "tensor(89.3349, grad_fn=<PowBackward0>)\n",
      "tensor(3.2889, grad_fn=<PowBackward0>)\n",
      "tensor(12.4792, grad_fn=<PowBackward0>)\n",
      "tensor(28.0112, grad_fn=<PowBackward0>)\n",
      "tensor(30.3654, grad_fn=<PowBackward0>)\n"
     ]
    }
   ],
   "source": [
    "# slow\n",
    "for u,m,r,_,_ in df.values[:5]:\n",
    "    loss = (U[u].dot(U[m]) - r).pow(2)\n",
    "    print(loss)"
   ]
  },
  {
   "cell_type": "markdown",
   "metadata": {},
   "source": [
    "But, the cool kids would vectorized this:"
   ]
  },
  {
   "cell_type": "code",
   "execution_count": 405,
   "metadata": {},
   "outputs": [
    {
     "data": {
      "text/plain": [
       "tensor(-0.3919, grad_fn=<MeanBackward0>)"
      ]
     },
     "execution_count": 405,
     "metadata": {},
     "output_type": "execute_result"
    }
   ],
   "source": [
    "loss = torch.mean( (U[df['userId']] * M[df['movieId']]).sum(axis=1) )\n",
    "loss"
   ]
  },
  {
   "cell_type": "markdown",
   "metadata": {},
   "source": [
    "### New gradient descent minimizer"
   ]
  },
  {
   "cell_type": "code",
   "execution_count": 433,
   "metadata": {},
   "outputs": [],
   "source": [
    "df = load(n=20_000)\n",
    "compress_cats(df, 'movieId') # make IDs 0..nmovies-1\n",
    "compress_cats(df, 'userId')\n",
    "\n",
    "nmovies = len(df.groupby('movieId').count())\n",
    "nusers = len(df.groupby('movieId').count())"
   ]
  },
  {
   "cell_type": "code",
   "execution_count": 434,
   "metadata": {},
   "outputs": [
    {
     "name": "stdout",
     "output_type": "stream",
     "text": [
      "Epoch   0 loss        17.62\n",
      "Epoch  10 loss        10.77\n",
      "Epoch  20 loss         4.48\n",
      "Epoch  30 loss         2.38\n",
      "Epoch  40 loss         1.28\n",
      "Epoch  50 loss         0.89\n",
      "Epoch  60 loss         0.72\n",
      "Epoch  70 loss         0.64\n",
      "Epoch  80 loss         0.59\n",
      "Epoch  90 loss         0.55\n"
     ]
    }
   ],
   "source": [
    "U = torch.randn(nusers,  nfactors, device=device, dtype=dtype, requires_grad=True)  # <-- track for autograd\n",
    "M = torch.randn(nmovies, nfactors, device=device, dtype=dtype, requires_grad=True)\n",
    "\n",
    "nfactors = 4\n",
    "learning_rate = 40\n",
    "momentum = .01\n",
    "for t in range(100):\n",
    "    R_pred = U.mm(M.T) # predict ratings\n",
    "    \n",
    "    diff = (U[df['userId']] * M[df['movieId']]).sum(axis=1) - torch.tensor(df['rating'])\n",
    "    loss = torch.mean( diff.pow(2) )\n",
    "    if t % 10 == 0:\n",
    "        print(f\"Epoch {t:3d} loss {loss:12.2f}\")\n",
    "\n",
    "    loss.backward() # autograd computes U.grad and M.grad\n",
    "\n",
    "    # Update weights; weights have requires_grad=True but we don't need to track these updates\n",
    "    with torch.no_grad():\n",
    "        U -= (momentum*U + learning_rate * U.grad)\n",
    "        M -= (momentum*M + learning_rate * M.grad)\n",
    "\n",
    "        U.grad.zero_() # reset gradients\n",
    "        M.grad.zero_()"
   ]
  },
  {
   "cell_type": "code",
   "execution_count": 435,
   "metadata": {},
   "outputs": [
    {
     "name": "stdout",
     "output_type": "stream",
     "text": [
      "OOB R^2 0.465\n",
      "Train R^2 0.926\n"
     ]
    }
   ],
   "source": [
    "RF_onehot(df, M.detach().numpy(), U.detach().numpy())"
   ]
  },
  {
   "cell_type": "code",
   "execution_count": 473,
   "metadata": {},
   "outputs": [],
   "source": [
    "from sklearn.decomposition import PCA\n",
    "import matplotlib.pyplot as plt\n",
    "\n",
    "def plot_comedy_drama_embeddings(df, movie_embeddings, xrange=(-.3,.3), yrange=(-.15,.15)):\n",
    "    # get unique movie ID and title and genres\n",
    "    df_movies = df.sort_values('movieId')[['movieId','title','genres']]\n",
    "    df_movies = df_movies.drop_duplicates()\n",
    "    df_movies = df_movies[(df_movies['genres']=='Comedy')|(df_movies['genres']=='Drama')]\n",
    "    movie_embeddings = movie_embeddings[df_movies['movieId']]\n",
    "    print(len(movie_embeddings), len(df_movies))\n",
    "    \n",
    "    plt.figure(figsize=(5,5))\n",
    "    movieIds = df_movies['movieId'].values\n",
    "    genres = df_movies['genres'].values\n",
    "    titles = df_movies['title'].values\n",
    "    pca = PCA(n_components=2)\n",
    "    vecs2D = pca.fit_transform(movie_embeddings)\n",
    "    c = [('k' if genres[i]=='Comedy' else 'r') for i in range(len(vecs2D))]\n",
    "    plt.scatter(vecs2D[:,0], vecs2D[:,1], c=c, s=5, alpha=.5)\n",
    "    plt.xlim(*xrange)\n",
    "    plt.ylim(*yrange)\n",
    "    plt.show()"
   ]
  },
  {
   "cell_type": "code",
   "execution_count": 474,
   "metadata": {},
   "outputs": [
    {
     "name": "stdout",
     "output_type": "stream",
     "text": [
      "916 916\n"
     ]
    },
    {
     "data": {
      "image/png": "[encoded data removed]",
      "text/plain": [
       "<Figure size 360x360 with 1 Axes>"
      ]
     },
     "metadata": {
      "needs_background": "light"
     },
     "output_type": "display_data"
    }
   ],
   "source": [
    "plot_comedy_drama_embeddings(df, M.detach().numpy(), xrange=(-1.5,1.5), yrange=(-1.5,1.5))"
   ]
  },
  {
   "cell_type": "code",
   "execution_count": 483,
   "metadata": {},
   "outputs": [],
   "source": [
    "from bokeh.plotting import figure, show, output_notebook, save\n",
    "from bokeh.models import HoverTool, value, LabelSet, Legend, ColumnDataSource\n"
   ]
  },
  {
   "cell_type": "markdown",
   "metadata": {},
   "source": [
    "## Try with AdaGrad minimizer\n",
    "\n",
    "and try with larger data"
   ]
  },
  {
   "cell_type": "code",
   "execution_count": 475,
   "metadata": {},
   "outputs": [],
   "source": [
    "df = load(n=100_000)\n",
    "compress_cats(df, 'movieId') # make IDs 0..nmovies-1\n",
    "compress_cats(df, 'userId')\n",
    "\n",
    "nmovies = len(df.groupby('movieId').count())\n",
    "nusers = len(df.groupby('movieId').count())"
   ]
  },
  {
   "cell_type": "code",
   "execution_count": 480,
   "metadata": {},
   "outputs": [
    {
     "name": "stdout",
     "output_type": "stream",
     "text": [
      "Epoch   0 loss        17.56\n",
      "Epoch  10 loss         3.11\n",
      "Epoch  20 loss         0.83\n",
      "Epoch  30 loss         0.53\n",
      "Epoch  40 loss         0.49\n"
     ]
    }
   ],
   "source": [
    "U = torch.randn(nusers,  nfactors, device=device, dtype=dtype, requires_grad=True)  # <-- track for autograd\n",
    "M = torch.randn(nmovies, nfactors, device=device, dtype=dtype, requires_grad=True)\n",
    "\n",
    "nfactors = 4\n",
    "learning_rate = 1.8\n",
    "e = 0.0000001  # avoid division by zero when scaling learning rate\n",
    "\n",
    "hU = torch.zeros(size=(nusers,nfactors))\n",
    "hM = torch.zeros(size=(nmovies, nfactors))\n",
    "for t in range(50):\n",
    "    R_pred = U.mm(M.T) # predict ratings\n",
    "    \n",
    "    diff = (U[df['userId']] * M[df['movieId']]).sum(axis=1) - torch.tensor(df['rating'])\n",
    "    loss = torch.mean( diff.pow(2) )\n",
    "    if t % 10 == 0:\n",
    "        print(f\"Epoch {t:3d} loss {loss:12.2f}\")\n",
    "\n",
    "    loss.backward() # autograd computes U.grad and M.grad\n",
    "\n",
    "    # Update weights; weights have requires_grad=True but we don't need to track these updates\n",
    "    with torch.no_grad():\n",
    "        hU += U.grad * U.grad\n",
    "        hM += M.grad * M.grad\n",
    "        U -= learning_rate * U.grad / (torch.sqrt(hU)+e)\n",
    "        M -= learning_rate * M.grad / (torch.sqrt(hM)+e)\n",
    "\n",
    "        U.grad.zero_() # reset gradients\n",
    "        M.grad.zero_()"
   ]
  },
  {
   "cell_type": "code",
   "execution_count": 481,
   "metadata": {},
   "outputs": [
    {
     "name": "stdout",
     "output_type": "stream",
     "text": [
      "OOB R^2 0.461\n",
      "Train R^2 0.926\n"
     ]
    }
   ],
   "source": [
    "RF_onehot(df, M.detach().numpy(), U.detach().numpy())"
   ]
  },
  {
   "cell_type": "code",
   "execution_count": 482,
   "metadata": {},
   "outputs": [
    {
     "name": "stdout",
     "output_type": "stream",
     "text": [
      "1987 1987\n"
     ]
    },
    {
     "data": {
      "image/png": "[encoded data removed]",
      "text/plain": [
       "<Figure size 360x360 with 1 Axes>"
      ]
     },
     "metadata": {
      "needs_background": "light"
     },
     "output_type": "display_data"
    }
   ],
   "source": [
    "plot_comedy_drama_embeddings(df, M.detach().numpy(), xrange=(-5,5), yrange=(-5,5))"
   ]
  },
  {
   "cell_type": "code",
   "execution_count": null,
   "metadata": {},
   "outputs": [],
   "source": []
  }
 ],
 "metadata": {
  "kernelspec": {
   "display_name": "Python 3",
   "language": "python",
   "name": "python3"
  },
  "language_info": {
   "codemirror_mode": {
    "name": "ipython",
    "version": 3
   },
   "file_extension": ".py",
   "mimetype": "text/x-python",
   "name": "python",
   "nbconvert_exporter": "python",
   "pygments_lexer": "ipython3",
   "version": "3.7.4"
  }
 },
 "nbformat": 4,
 "nbformat_minor": 4
}
