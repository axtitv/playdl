{
 "cells": [
  {
   "cell_type": "markdown",
   "metadata": {},
   "source": [
    "# Embedding sparse vectors into lower-dimensional dense space\n",
    "\n",
    "[![Open In Colab](https://colab.research.google.com/assets/colab-badge.svg)](https://colab.research.google.com/github/parrt/playdl/blob/master/mnist/notebooks/catvar-embeddings-homebrew.ipynb)\n",
    "\n",
    "One-hot vectors are simple but the vocabulary size can make word vectors extremely long; high dimensionality. And they are very sparse, mostly zeros.\n",
    "\n",
    "Word embeddings, on the other hand, embed that massive dimensional space into a smaller, dense space. For example, [GloVE](https://nlp.stanford.edu/projects/glove/) has pre-trained word embeddings of various sizes such as 50 and 300 dimensions. Unlike word vectors, we need to do some training to compute embeddings. I've used pre-trained word-to-embedding dictionaries to good effect, but we can also train and embedding specific to our task as part of our model, using an embedding layer.\n",
    "\n",
    "In this notebook, I'm going to explore creating dense vectors for categorical variables."
   ]
  },
  {
   "cell_type": "markdown",
   "metadata": {},
   "source": [
    "## Setup (for use with AWS)"
   ]
  },
  {
   "cell_type": "markdown",
   "metadata": {},
   "source": [
    "Make sure to enable this to see progress bars:\n",
    "\n",
    "```\n",
    "$ conda install nodejs\n",
    "$ jupyter nbextension enable --py widgetsnbextension\n",
    "$ jupyter labextension install @jupyter-widgets/jupyterlab-manager\n",
    "```\n",
    "\n",
    "```\n",
    "pip install -U tensorflow\n",
    "pip install tqdm\n",
    "pip install tensorflow_addons\n",
    "```\n",
    "\n",
    "Start on AWS:\n",
    "\n",
    "```\n",
    "jupyter lab --no-browser --port=8888\n",
    "```\n",
    "\n",
    "Port tunneling to access jupyter on AWS from mac:\n",
    "\n",
    "```\n",
    "ssh -i ~/Dropbox/licenses/parrt.pem -L 8000:localhost:8888 ubuntu@54.151.101.201\n",
    "```\n",
    "\n",
    "Go to [http://localhost:8000?token=1d8158157...](http://localhost:8000) in mac browser"
   ]
  },
  {
   "cell_type": "markdown",
   "metadata": {},
   "source": [
    "## Load movie/user/rating data\n",
    "\n",
    "The [fastai book chapter 8](https://github.com/fastai/fastbook/blob/master/08_collab.ipynb) has an example using user-movie-ratings from [MovieLens](https://grouplens.org/datasets/movielens/) and [Kaggle](https://www.kaggle.com/colinmorris/embedding-layers#Building-a-rating-prediction-model-in-Keras) hasA discussion of how to create embeddings for that data.  I will grab [a small subset](http://files.grouplens.org/datasets/movielens/ml-latest-small.zip) and put into `data` subdir:\n",
    "\n",
    "```\n",
    "data/ml-latest-small\n",
    "├── README.txt\n",
    "├── links.csv\n",
    "├── movies.csv\n",
    "├── ratings.csv\n",
    "└── tags.csv\n",
    "```\n",
    "\n",
    "\"*Ratings are made on a 5-star scale, with half-star increments (0.5 stars - 5.0 stars).*\" The `ratings.csv` file looks like:\n",
    "\n",
    "```\n",
    "userId,movieId,rating,timestamp\n",
    "1,1,4.0,964982703\n",
    "1,3,4.0,964981247\n",
    "1,6,4.0,964982224\n",
    "1,47,5.0,964983815\n",
    "...\n",
    "```\n",
    "\n",
    "And, in case we are curious, `movies.csv` has:\n",
    "\n",
    "```\n",
    "movieId,title,genres\n",
    "1,Toy Story (1995),Adventure|Animation|Children|Comedy|Fantasy\n",
    "2,Jumanji (1995),Adventure|Children|Fantasy\n",
    "3,Grumpier Old Men (1995),Comedy|Romance\n",
    "...\n",
    "```"
   ]
  },
  {
   "cell_type": "code",
   "execution_count": 1,
   "metadata": {},
   "outputs": [
    {
     "data": {
      "text/html": [
       "<div>\n",
       "<style scoped>\n",
       "    .dataframe tbody tr th:only-of-type {\n",
       "        vertical-align: middle;\n",
       "    }\n",
       "\n",
       "    .dataframe tbody tr th {\n",
       "        vertical-align: top;\n",
       "    }\n",
       "\n",
       "    .dataframe thead th {\n",
       "        text-align: right;\n",
       "    }\n",
       "</style>\n",
       "<table border=\"1\" class=\"dataframe\">\n",
       "  <thead>\n",
       "    <tr style=\"text-align: right;\">\n",
       "      <th></th>\n",
       "      <th>userId</th>\n",
       "      <th>movieId</th>\n",
       "      <th>rating</th>\n",
       "      <th>title</th>\n",
       "      <th>genres</th>\n",
       "    </tr>\n",
       "  </thead>\n",
       "  <tbody>\n",
       "    <tr>\n",
       "      <td>0</td>\n",
       "      <td>232</td>\n",
       "      <td>5501</td>\n",
       "      <td>3.5</td>\n",
       "      <td>Master of Disguise, The</td>\n",
       "      <td>Comedy|Mystery</td>\n",
       "    </tr>\n",
       "    <tr>\n",
       "      <td>1</td>\n",
       "      <td>391</td>\n",
       "      <td>3717</td>\n",
       "      <td>2.0</td>\n",
       "      <td>Gone in 60 Seconds</td>\n",
       "      <td>Action|Crime</td>\n",
       "    </tr>\n",
       "    <tr>\n",
       "      <td>2</td>\n",
       "      <td>45</td>\n",
       "      <td>3717</td>\n",
       "      <td>5.0</td>\n",
       "      <td>Gone in 60 Seconds</td>\n",
       "      <td>Action|Crime</td>\n",
       "    </tr>\n",
       "    <tr>\n",
       "      <td>3</td>\n",
       "      <td>132</td>\n",
       "      <td>3717</td>\n",
       "      <td>2.0</td>\n",
       "      <td>Gone in 60 Seconds</td>\n",
       "      <td>Action|Crime</td>\n",
       "    </tr>\n",
       "    <tr>\n",
       "      <td>4</td>\n",
       "      <td>139</td>\n",
       "      <td>3717</td>\n",
       "      <td>1.5</td>\n",
       "      <td>Gone in 60 Seconds</td>\n",
       "      <td>Action|Crime</td>\n",
       "    </tr>\n",
       "  </tbody>\n",
       "</table>\n",
       "</div>"
      ],
      "text/plain": [
       "   userId  movieId  rating                    title          genres\n",
       "0     232     5501     3.5  Master of Disguise, The  Comedy|Mystery\n",
       "1     391     3717     2.0       Gone in 60 Seconds    Action|Crime\n",
       "2      45     3717     5.0       Gone in 60 Seconds    Action|Crime\n",
       "3     132     3717     2.0       Gone in 60 Seconds    Action|Crime\n",
       "4     139     3717     1.5       Gone in 60 Seconds    Action|Crime"
      ]
     },
     "execution_count": 1,
     "metadata": {},
     "output_type": "execute_result"
    }
   ],
   "source": [
    "import pandas as pd\n",
    "import numpy as np\n",
    "import re\n",
    "np.set_printoptions(precision=2, suppress=True, linewidth=3000, threshold=20000)\n",
    "\n",
    "def load(n = 10):\n",
    "    df_ratings = pd.read_csv('data/ml-latest-small/ratings.csv')\n",
    "    df_ratings = df_ratings.drop('timestamp', axis=1)\n",
    "    df_ratings = df_ratings.sample(n=n).reset_index(drop=True)\n",
    "    # Merge in the title and genres\n",
    "    df_movies = pd.read_csv('data/ml-latest-small/movies.csv')\n",
    "    df = df_ratings.merge(df_movies, on='movieId')\n",
    "    # Strip the \"(1999)\" dates from the titles\n",
    "    p = re.compile(r'[()0-9]+$')\n",
    "    df['title'] = df['title'].map(lambda x: p.sub('', x).strip())\n",
    "    return df\n",
    "\n",
    "df = load(n=20_000)\n",
    "df.head(5)"
   ]
  },
  {
   "cell_type": "markdown",
   "metadata": {},
   "source": [
    "Let's limit to just comedies and dramas that should be very different semantically"
   ]
  },
  {
   "cell_type": "code",
   "execution_count": 2,
   "metadata": {},
   "outputs": [
    {
     "name": "stdout",
     "output_type": "stream",
     "text": [
      "2637 movies that are Comedy or Drama\n"
     ]
    }
   ],
   "source": [
    "df = df[(df['genres']=='Comedy')|(df['genres']=='Drama')]\n",
    "print(len(df), 'movies that are Comedy or Drama')"
   ]
  },
  {
   "cell_type": "markdown",
   "metadata": {},
   "source": [
    "Rather than deal with arbitrarily large integers representing the various IDs, let's compress that down to unique but adjacent integers. This is also how I would handle string to integer encoding. That function compresses one column at a time and modifies the data frame in place. Compare the movie IDs with the values above. We convert `[3696,  281,  592, 1293, 4446]` to `[4, 1, 2, 3, 5]`:"
   ]
  },
  {
   "cell_type": "code",
   "execution_count": 3,
   "metadata": {},
   "outputs": [
    {
     "data": {
      "text/html": [
       "<div>\n",
       "<style scoped>\n",
       "    .dataframe tbody tr th:only-of-type {\n",
       "        vertical-align: middle;\n",
       "    }\n",
       "\n",
       "    .dataframe tbody tr th {\n",
       "        vertical-align: top;\n",
       "    }\n",
       "\n",
       "    .dataframe thead th {\n",
       "        text-align: right;\n",
       "    }\n",
       "</style>\n",
       "<table border=\"1\" class=\"dataframe\">\n",
       "  <thead>\n",
       "    <tr style=\"text-align: right;\">\n",
       "      <th></th>\n",
       "      <th>userId</th>\n",
       "      <th>movieId</th>\n",
       "      <th>rating</th>\n",
       "      <th>title</th>\n",
       "      <th>genres</th>\n",
       "    </tr>\n",
       "  </thead>\n",
       "  <tbody>\n",
       "    <tr>\n",
       "      <td>27</td>\n",
       "      <td>341</td>\n",
       "      <td>284</td>\n",
       "      <td>2.0</td>\n",
       "      <td>Pushing Tin</td>\n",
       "      <td>Comedy</td>\n",
       "    </tr>\n",
       "    <tr>\n",
       "      <td>28</td>\n",
       "      <td>306</td>\n",
       "      <td>284</td>\n",
       "      <td>3.0</td>\n",
       "      <td>Pushing Tin</td>\n",
       "      <td>Comedy</td>\n",
       "    </tr>\n",
       "    <tr>\n",
       "      <td>29</td>\n",
       "      <td>409</td>\n",
       "      <td>284</td>\n",
       "      <td>4.0</td>\n",
       "      <td>Pushing Tin</td>\n",
       "      <td>Comedy</td>\n",
       "    </tr>\n",
       "  </tbody>\n",
       "</table>\n",
       "</div>"
      ],
      "text/plain": [
       "    userId  movieId  rating        title  genres\n",
       "27     341      284     2.0  Pushing Tin  Comedy\n",
       "28     306      284     3.0  Pushing Tin  Comedy\n",
       "29     409      284     4.0  Pushing Tin  Comedy"
      ]
     },
     "execution_count": 3,
     "metadata": {},
     "output_type": "execute_result"
    }
   ],
   "source": [
    "def compress_cats(df, colname):\n",
    "    df[colname] = df[colname].astype('category').cat.as_ordered()\n",
    "    df[colname] = df[colname].cat.codes + 1 # encode 1..n\n",
    "    \n",
    "compress_cats(df, 'movieId')\n",
    "compress_cats(df, 'userId')\n",
    "df.head(3)"
   ]
  },
  {
   "cell_type": "code",
   "execution_count": 4,
   "metadata": {},
   "outputs": [
    {
     "data": {
      "text/plain": [
       "(953, 953)"
      ]
     },
     "execution_count": 4,
     "metadata": {},
     "output_type": "execute_result"
    }
   ],
   "source": [
    "len(np.unique(df['movieId'])), max(df['movieId'])"
   ]
  },
  {
   "cell_type": "code",
   "execution_count": 5,
   "metadata": {},
   "outputs": [
    {
     "name": "stdout",
     "output_type": "stream",
     "text": [
      "(953, 3)\n"
     ]
    },
    {
     "data": {
      "text/html": [
       "<div>\n",
       "<style scoped>\n",
       "    .dataframe tbody tr th:only-of-type {\n",
       "        vertical-align: middle;\n",
       "    }\n",
       "\n",
       "    .dataframe tbody tr th {\n",
       "        vertical-align: top;\n",
       "    }\n",
       "\n",
       "    .dataframe thead th {\n",
       "        text-align: right;\n",
       "    }\n",
       "</style>\n",
       "<table border=\"1\" class=\"dataframe\">\n",
       "  <thead>\n",
       "    <tr style=\"text-align: right;\">\n",
       "      <th></th>\n",
       "      <th>movieId</th>\n",
       "      <th>title</th>\n",
       "      <th>genres</th>\n",
       "    </tr>\n",
       "  </thead>\n",
       "  <tbody>\n",
       "    <tr>\n",
       "      <td>4173</td>\n",
       "      <td>1</td>\n",
       "      <td>Father of the Bride Part II</td>\n",
       "      <td>Comedy</td>\n",
       "    </tr>\n",
       "    <tr>\n",
       "      <td>18781</td>\n",
       "      <td>2</td>\n",
       "      <td>Nixon</td>\n",
       "      <td>Drama</td>\n",
       "    </tr>\n",
       "    <tr>\n",
       "      <td>13476</td>\n",
       "      <td>3</td>\n",
       "      <td>Four Rooms</td>\n",
       "      <td>Comedy</td>\n",
       "    </tr>\n",
       "  </tbody>\n",
       "</table>\n",
       "</div>"
      ],
      "text/plain": [
       "       movieId                        title  genres\n",
       "4173         1  Father of the Bride Part II  Comedy\n",
       "18781        2                        Nixon   Drama\n",
       "13476        3                   Four Rooms  Comedy"
      ]
     },
     "execution_count": 5,
     "metadata": {},
     "output_type": "execute_result"
    }
   ],
   "source": [
    "# get unique movie ID and title and genres\n",
    "df_movies = df.sort_values('movieId')[['movieId','title','genres']]\n",
    "df_movies = df_movies.drop_duplicates()\n",
    "print(df_movies.shape)\n",
    "df_movies.head(3)"
   ]
  },
  {
   "cell_type": "markdown",
   "metadata": {},
   "source": [
    "## RF baseline using labeling coded movie/user IDs\n",
    "\n",
    " A random forest is easily able to capture the structure in the training data, but not in a general way. The out of bag and validation R^2 scores are terrible, barely better than just guessing the average."
   ]
  },
  {
   "cell_type": "code",
   "execution_count": 6,
   "metadata": {},
   "outputs": [
    {
     "name": "stdout",
     "output_type": "stream",
     "text": [
      "OOB R^2 -0.040\n",
      "Train R^2 0.857\n",
      "Valid R^2 -0.060\n"
     ]
    }
   ],
   "source": [
    "from sklearn.model_selection import train_test_split\n",
    "from sklearn.ensemble import RandomForestClassifier, RandomForestRegressor\n",
    "\n",
    "X = df[['movieId','userId']]\n",
    "y = df['rating']\n",
    "\n",
    "X_train, X_test, y_train, y_test = train_test_split(X, y, test_size=0.2)\n",
    "\n",
    "rf = RandomForestRegressor(n_estimators=100, n_jobs=-1, oob_score=True)\n",
    "rf.fit(X_train, y_train)\n",
    "print(f\"OOB R^2 {rf.oob_score_:.3f}\")\n",
    "print(f\"Train R^2 {rf.score(X_train, y_train):.3f}\")\n",
    "print(f\"Valid R^2 {rf.score(X_test, y_test):.3f}\")"
   ]
  },
  {
   "cell_type": "markdown",
   "metadata": {},
   "source": [
    "## Getting movie ID dense vectors (embeddings)"
   ]
  },
  {
   "cell_type": "markdown",
   "metadata": {},
   "source": [
    "Ok, Let's try to map both the movie and the user to a rating."
   ]
  },
  {
   "cell_type": "code",
   "execution_count": 7,
   "metadata": {},
   "outputs": [
    {
     "data": {
      "text/plain": [
       "(2637, 438, 953)"
      ]
     },
     "execution_count": 7,
     "metadata": {},
     "output_type": "execute_result"
    }
   ],
   "source": [
    "n = len(df)\n",
    "nusers = len(df.groupby('userId').count())\n",
    "nmovies = len(df.groupby('movieId').count())\n",
    "n, nusers, nmovies"
   ]
  },
  {
   "cell_type": "markdown",
   "metadata": {},
   "source": [
    "The input to the neural network will be one hot encoded movie and user identifiers. The output will also be one hot encoded user IDs, but keras will handle that part for us (we can leave y as a list of integer user IDs)"
   ]
  },
  {
   "cell_type": "code",
   "execution_count": 8,
   "metadata": {},
   "outputs": [
    {
     "data": {
      "text/plain": [
       "((2637, 1391), (2637,))"
      ]
     },
     "execution_count": 8,
     "metadata": {},
     "output_type": "execute_result"
    }
   ],
   "source": [
    "X = pd.concat([pd.get_dummies(df['movieId']),\n",
    "               pd.get_dummies(df['userId'])], axis=1)\n",
    "y = df['rating'] #pd.get_dummies(df['userId'])\n",
    "X.shape, y.shape"
   ]
  },
  {
   "cell_type": "code",
   "execution_count": 9,
   "metadata": {},
   "outputs": [
    {
     "data": {
      "text/html": [
       "<div>\n",
       "<style scoped>\n",
       "    .dataframe tbody tr th:only-of-type {\n",
       "        vertical-align: middle;\n",
       "    }\n",
       "\n",
       "    .dataframe tbody tr th {\n",
       "        vertical-align: top;\n",
       "    }\n",
       "\n",
       "    .dataframe thead th {\n",
       "        text-align: right;\n",
       "    }\n",
       "</style>\n",
       "<table border=\"1\" class=\"dataframe\">\n",
       "  <thead>\n",
       "    <tr style=\"text-align: right;\">\n",
       "      <th></th>\n",
       "      <th>1</th>\n",
       "      <th>2</th>\n",
       "      <th>3</th>\n",
       "      <th>4</th>\n",
       "      <th>5</th>\n",
       "      <th>6</th>\n",
       "      <th>7</th>\n",
       "      <th>8</th>\n",
       "      <th>9</th>\n",
       "      <th>10</th>\n",
       "      <th>...</th>\n",
       "      <th>429</th>\n",
       "      <th>430</th>\n",
       "      <th>431</th>\n",
       "      <th>432</th>\n",
       "      <th>433</th>\n",
       "      <th>434</th>\n",
       "      <th>435</th>\n",
       "      <th>436</th>\n",
       "      <th>437</th>\n",
       "      <th>438</th>\n",
       "    </tr>\n",
       "  </thead>\n",
       "  <tbody>\n",
       "    <tr>\n",
       "      <td>27</td>\n",
       "      <td>0</td>\n",
       "      <td>0</td>\n",
       "      <td>0</td>\n",
       "      <td>0</td>\n",
       "      <td>0</td>\n",
       "      <td>0</td>\n",
       "      <td>0</td>\n",
       "      <td>0</td>\n",
       "      <td>0</td>\n",
       "      <td>0</td>\n",
       "      <td>...</td>\n",
       "      <td>0</td>\n",
       "      <td>0</td>\n",
       "      <td>0</td>\n",
       "      <td>0</td>\n",
       "      <td>0</td>\n",
       "      <td>0</td>\n",
       "      <td>0</td>\n",
       "      <td>0</td>\n",
       "      <td>0</td>\n",
       "      <td>0</td>\n",
       "    </tr>\n",
       "    <tr>\n",
       "      <td>28</td>\n",
       "      <td>0</td>\n",
       "      <td>0</td>\n",
       "      <td>0</td>\n",
       "      <td>0</td>\n",
       "      <td>0</td>\n",
       "      <td>0</td>\n",
       "      <td>0</td>\n",
       "      <td>0</td>\n",
       "      <td>0</td>\n",
       "      <td>0</td>\n",
       "      <td>...</td>\n",
       "      <td>0</td>\n",
       "      <td>0</td>\n",
       "      <td>0</td>\n",
       "      <td>0</td>\n",
       "      <td>0</td>\n",
       "      <td>0</td>\n",
       "      <td>0</td>\n",
       "      <td>0</td>\n",
       "      <td>0</td>\n",
       "      <td>0</td>\n",
       "    </tr>\n",
       "    <tr>\n",
       "      <td>29</td>\n",
       "      <td>0</td>\n",
       "      <td>0</td>\n",
       "      <td>0</td>\n",
       "      <td>0</td>\n",
       "      <td>0</td>\n",
       "      <td>0</td>\n",
       "      <td>0</td>\n",
       "      <td>0</td>\n",
       "      <td>0</td>\n",
       "      <td>0</td>\n",
       "      <td>...</td>\n",
       "      <td>0</td>\n",
       "      <td>0</td>\n",
       "      <td>0</td>\n",
       "      <td>0</td>\n",
       "      <td>0</td>\n",
       "      <td>0</td>\n",
       "      <td>0</td>\n",
       "      <td>0</td>\n",
       "      <td>0</td>\n",
       "      <td>0</td>\n",
       "    </tr>\n",
       "  </tbody>\n",
       "</table>\n",
       "<p>3 rows × 1391 columns</p>\n",
       "</div>"
      ],
      "text/plain": [
       "    1    2    3    4    5    6    7    8    9    10   ...  429  430  431  432  \\\n",
       "27    0    0    0    0    0    0    0    0    0    0  ...    0    0    0    0   \n",
       "28    0    0    0    0    0    0    0    0    0    0  ...    0    0    0    0   \n",
       "29    0    0    0    0    0    0    0    0    0    0  ...    0    0    0    0   \n",
       "\n",
       "    433  434  435  436  437  438  \n",
       "27    0    0    0    0    0    0  \n",
       "28    0    0    0    0    0    0  \n",
       "29    0    0    0    0    0    0  \n",
       "\n",
       "[3 rows x 1391 columns]"
      ]
     },
     "execution_count": 9,
     "metadata": {},
     "output_type": "execute_result"
    }
   ],
   "source": [
    "X.head(3)"
   ]
  },
  {
   "cell_type": "code",
   "execution_count": 10,
   "metadata": {},
   "outputs": [
    {
     "data": {
      "text/plain": [
       "array([2. , 3. , 4. , 4. , 3. , 3.5, 3.5, 5. , 3.5, 4. ])"
      ]
     },
     "execution_count": 10,
     "metadata": {},
     "output_type": "execute_result"
    }
   ],
   "source": [
    "y.values[0:10]"
   ]
  },
  {
   "cell_type": "markdown",
   "metadata": {},
   "source": [
    "### Training a simple pipeline network"
   ]
  },
  {
   "cell_type": "markdown",
   "metadata": {},
   "source": [
    "We are trying to map a sparse movie and user ID vector to a dense vector of say `dimensionality`=8, 10, or 20 dimensions. To do that, we use the first layer of a network that has `dimensionality` neurons. Each neuron will contribute a single dimension to each dense vector. The input X has, say, 10,000 rows, one for each one hot movie ID. It has nmovies columns. If there are 10 movies, there are 10 possible positions in the one hot encoding. The first layer is a transformation from nmovies+nusers space to `dimensionality` space. The key is that we want to choke that first layer into just a few neurons and then have a big layer afterwards that tries to make sense of those new compressed features. We don't care about the prediction at the end, we are just going to take the weights out of the first layer to get the embeddings."
   ]
  },
  {
   "cell_type": "code",
   "execution_count": 11,
   "metadata": {},
   "outputs": [],
   "source": [
    "from tensorflow.keras import models, layers, callbacks, optimizers\n",
    "import tensorflow_addons as tfa\n",
    "from sklearn.metrics import accuracy_score, r2_score, mean_absolute_error, mean_squared_error\n",
    "\n",
    "layer1 = dimensionality = 8\n",
    "layer2 = 100\n",
    "batch_size = 10\n",
    "model = models.Sequential()\n",
    "model.add(layers.Dense(layer1, input_dim=nmovies+nusers, activation='relu',\n",
    "                       name='embedding'))\n",
    "model.add(layers.Dense(layer2, activation='relu'))\n",
    "#model.add(layers.BatchNormalization())\n",
    "#model.add(layers.Dropout(0.5))\n",
    "\n",
    "model.add(layers.Dense(1))\n",
    "\n",
    "opt = optimizers.RMSprop()\n",
    "\n",
    "model.compile(loss='mean_squared_error',\n",
    "              optimizer=opt,\n",
    "              metrics=['mae'])\n",
    "#model.summary()"
   ]
  },
  {
   "cell_type": "code",
   "execution_count": 12,
   "metadata": {},
   "outputs": [
    {
     "data": {
      "application/vnd.jupyter.widget-view+json": {
       "model_id": "e8b8c6d70ba64f2e91ba543d6b53db3a",
       "version_major": 2,
       "version_minor": 0
      },
      "text/plain": [
       "HBox(children=(FloatProgress(value=0.0, description='Training', layout=Layout(flex='2'), max=20.0, style=Progr…"
      ]
     },
     "metadata": {},
     "output_type": "display_data"
    },
    {
     "name": "stdout",
     "output_type": "stream",
     "text": [
      "\n"
     ]
    }
   ],
   "source": [
    "history = model.fit(X, y,\n",
    "                    shuffle=True,\n",
    "                    epochs=20,\n",
    "                    validation_split=0.15,\n",
    "                    batch_size=batch_size,\n",
    "                    verbose=0,\n",
    "                    callbacks=[tfa.callbacks.TQDMProgressBar(show_epoch_progress=False)]\n",
    "                    )"
   ]
  },
  {
   "cell_type": "code",
   "execution_count": 13,
   "metadata": {},
   "outputs": [
    {
     "data": {
      "text/plain": [
       "<Figure size 350x300 with 1 Axes>"
      ]
     },
     "metadata": {},
     "output_type": "display_data"
    }
   ],
   "source": [
    "import matplotlib.pyplot as plt\n",
    "plt.figure(figsize=(3.5,3))\n",
    "plt.ylabel(\"Rating (0..5.0) MAE\")\n",
    "plt.xlabel(\"Epochs\")\n",
    "accur = history.history['mae']\n",
    "plt.plot(accur, label='train_mae')\n",
    "val_accur = history.history['val_mae']\n",
    "plt.plot(val_accur, label='val_mae')\n",
    "# plt.xlim(0, 200)\n",
    "plt.ylim(0.0, 1.00)\n",
    "plt.legend(loc='lower right')\n",
    "plt.show()"
   ]
  },
  {
   "cell_type": "markdown",
   "metadata": {},
   "source": [
    "Validation error is not good (.8 stars off out of 5), but [Oliver](http://www.zeigermann.eu/) says we care about training error for getting embeddings since we won't be using the predictions.  In his example, he only has about 10% accuracy so I'm going to consider this accuracy pretty good."
   ]
  },
  {
   "cell_type": "markdown",
   "metadata": {},
   "source": [
    "### Getting the embeddings out of the network\n",
    "\n",
    "\n",
    "[Here](https://djcordhose.github.io/ml-workshop/2019-embeddings.html#/17), Oliver explains how to get the embeddings out. These are the outputs from the first constrained layer. I'm going to simply ask for the weights and the biases then manually get the embedding vectors, rather than create a model just to get the output transformation:"
   ]
  },
  {
   "cell_type": "code",
   "execution_count": 14,
   "metadata": {},
   "outputs": [
    {
     "data": {
      "text/plain": [
       "((1391, 8), (8,))"
      ]
     },
     "execution_count": 14,
     "metadata": {},
     "output_type": "execute_result"
    }
   ],
   "source": [
    "embedding_layer = model.get_layer('embedding')\n",
    "w, b = embedding_layer.get_weights()\n",
    "w.shape, b.shape"
   ]
  },
  {
   "cell_type": "markdown",
   "metadata": {},
   "source": [
    "First, let's take a look at the shape of the matrix. The shape of the weight matrix is the transpose of what I would expect. For example, I like the convention of a row being the weights of a single neuron. Since I have `dimensionality` neurons, I would expect `dimensionality` rows, but still we can just reverse the operands of the dot product. We have a complication here in that the movie and user IDs were concatenated together. For example, we created one hot vectors for the movie and user IDs of each record.  Here is the code again and the shape of one record, `x`, from `X`:"
   ]
  },
  {
   "cell_type": "code",
   "execution_count": 15,
   "metadata": {},
   "outputs": [
    {
     "data": {
      "text/plain": [
       "(1391,)"
      ]
     },
     "execution_count": 15,
     "metadata": {},
     "output_type": "execute_result"
    }
   ],
   "source": [
    "X = pd.concat([pd.get_dummies(df['movieId']),\n",
    "               pd.get_dummies(df['userId'])], axis=1)\n",
    "x = X.iloc[99] # Grab some random record\n",
    "x.shape"
   ]
  },
  {
   "cell_type": "markdown",
   "metadata": {},
   "source": [
    "The following gives us the output of the embedding layer using the standard matrix notation for what a dense layer computes (without the ReLu activation function):"
   ]
  },
  {
   "cell_type": "code",
   "execution_count": 16,
   "metadata": {},
   "outputs": [
    {
     "data": {
      "text/plain": [
       "array([0.09, 0.  , 0.06, 0.16, 0.01, 0.18, 0.13, 0.12], dtype=float32)"
      ]
     },
     "execution_count": 16,
     "metadata": {},
     "output_type": "execute_result"
    }
   ],
   "source": [
    "np.dot(w.T,x) + b  # flip w so it is neurons x input dims (as I'm used to)\n",
    "np.dot(x,w) + b "
   ]
  },
  {
   "cell_type": "markdown",
   "metadata": {},
   "source": [
    "**Note**: The dot product is really just selecting the ith and jth row of w for one-hot turned on at positions i and j (for movie and user).  A row in w (in keras) is the set of weights across neurons for a particular feature, a (compressed) movie&user ID in our case. That gives us a vector in `dimensionality`-space where each dimension is some semantic meaning we got from a neuron. Because two of the input columns for a record will be turned on, that means the dot product is selecting two rows and adding them together. We should get the same answer by doing pulling the vectors out and adding the bias manually, which will be much faster:"
   ]
  },
  {
   "cell_type": "code",
   "execution_count": 17,
   "metadata": {},
   "outputs": [
    {
     "data": {
      "text/plain": [
       "array([ 723, 1276])"
      ]
     },
     "execution_count": 17,
     "metadata": {},
     "output_type": "execute_result"
    }
   ],
   "source": [
    "# Where are the one hots on?  It reminds me I need to add nmovies to get to the second one hot index\n",
    "np.where(x==1)[0]"
   ]
  },
  {
   "cell_type": "code",
   "execution_count": 18,
   "metadata": {},
   "outputs": [],
   "source": [
    "mi = df.iloc[99]['movieId']\n",
    "ui = df.iloc[99]['userId']\n",
    "mi = mi-1\n",
    "ui = nmovies+ui-1"
   ]
  },
  {
   "cell_type": "markdown",
   "metadata": {},
   "source": [
    "So the following demonstrates we can get the exact same embedding vector by selecting rows and adding the bias:"
   ]
  },
  {
   "cell_type": "code",
   "execution_count": 19,
   "metadata": {},
   "outputs": [
    {
     "data": {
      "text/plain": [
       "array([0.09, 0.  , 0.06, 0.16, 0.01, 0.18, 0.13, 0.12], dtype=float32)"
      ]
     },
     "execution_count": 19,
     "metadata": {},
     "output_type": "execute_result"
    }
   ],
   "source": [
    "w[mi] + w[ui] + b"
   ]
  },
  {
   "cell_type": "markdown",
   "metadata": {},
   "source": [
    "If we want just the embedding for a movie we will have to be satisfied with `w[mi]` or perhaps I can try `w[mi]+b`. To get all of the movie embeddings we get the first nmovies rows of the weight matrix:"
   ]
  },
  {
   "cell_type": "code",
   "execution_count": 20,
   "metadata": {},
   "outputs": [
    {
     "name": "stdout",
     "output_type": "stream",
     "text": [
      "For each of 953 movies we have a vector of size 8\n",
      "Example embedding: [0.050116338, -0.041654985, 0.048889507, 0.017900635, -0.008508413, 0.04744825, -0.03655487, -0.056993138]\n"
     ]
    }
   ],
   "source": [
    "movie_embeddings = w[0:nmovies]\n",
    "print(f\"For each of {movie_embeddings.shape[0]} movies we have a vector of size {movie_embeddings.shape[1]}\")\n",
    "print(f\"Example embedding: {list(movie_embeddings[0])}\")"
   ]
  },
  {
   "cell_type": "markdown",
   "metadata": {},
   "source": [
    "## PCA projection of comedy and drama"
   ]
  },
  {
   "cell_type": "code",
   "execution_count": 23,
   "metadata": {},
   "outputs": [],
   "source": [
    "from sklearn.decomposition import PCA\n",
    "\n",
    "def plot_embeddings(df_movies, movie_embeddings):\n",
    "    plt.figure(figsize=(5,5))\n",
    "    movieIds = df_movies['movieId'].values\n",
    "    genres = df_movies['genres'].values\n",
    "    titles = df_movies['title'].values\n",
    "    pca = PCA(n_components=2)\n",
    "    vecs2D = pca.fit_transform(movie_embeddings)\n",
    "    c = [('k' if 'Comedy' in genres[i] else 'r') for i in range(len(vecs2D))]\n",
    "    plt.scatter(vecs2D[:,0], vecs2D[:,1], c=c, s=5)\n",
    "    plt.xlim(-.3,.3)\n",
    "    plt.ylim(-.15,.15)\n",
    "    plt.show()"
   ]
  },
  {
   "cell_type": "code",
   "execution_count": 24,
   "metadata": {},
   "outputs": [
    {
     "data": {
      "image/png": "[encoded data removed]",
      "text/plain": [
       "<Figure size 360x360 with 1 Axes>"
      ]
     },
     "metadata": {
      "needs_background": "light"
     },
     "output_type": "display_data"
    }
   ],
   "source": [
    "plot_embeddings(df_movies, movie_embeddings)"
   ]
  },
  {
   "cell_type": "markdown",
   "metadata": {},
   "source": [
    "## RF accuracy with embeddings"
   ]
  },
  {
   "cell_type": "code",
   "execution_count": 27,
   "metadata": {},
   "outputs": [
    {
     "name": "stdout",
     "output_type": "stream",
     "text": [
      "OOB R^2 0.252\n",
      "Train R^2 0.897\n",
      "Valid R^2 0.269\n"
     ]
    }
   ],
   "source": [
    "X = df[['movieId','userId']]\n",
    "y = df['rating']\n",
    "X_emb = np.concatenate([movie_embeddings[X['movieId']-1],movie_embeddings[X['userId']-1]], axis=1)\n",
    "X_train, X_test, y_train, y_test = train_test_split(X_emb, y, test_size=0.2)\n",
    "\n",
    "rf = RandomForestRegressor(n_estimators=100, n_jobs=-1, oob_score=True)\n",
    "rf.fit(X_train, y_train)\n",
    "print(f\"OOB R^2 {rf.oob_score_:.3f}\")\n",
    "print(f\"Train R^2 {rf.score(X_train, y_train):.3f}\")\n",
    "print(f\"Valid R^2 {rf.score(X_test, y_test):.3f}\")"
   ]
  },
  {
   "cell_type": "markdown",
   "metadata": {},
   "source": [
    "*TODO mean center y*"
   ]
  },
  {
   "cell_type": "code",
   "execution_count": null,
   "metadata": {},
   "outputs": [],
   "source": []
  }
 ],
 "metadata": {
  "kernelspec": {
   "display_name": "Python 3",
   "language": "python",
   "name": "python3"
  },
  "language_info": {
   "codemirror_mode": {
    "name": "ipython",
    "version": 3
   },
   "file_extension": ".py",
   "mimetype": "text/x-python",
   "name": "python",
   "nbconvert_exporter": "python",
   "pygments_lexer": "ipython3",
   "version": "3.7.4"
  }
 },
 "nbformat": 4,
 "nbformat_minor": 4
}
