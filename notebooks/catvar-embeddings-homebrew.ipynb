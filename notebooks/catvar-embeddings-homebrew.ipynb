{
 "cells": [
  {
   "cell_type": "markdown",
   "metadata": {},
   "source": [
    "# Embedding sparse vectors into lower-dimensional dense space\n",
    "\n",
    "[![Open In Colab](https://colab.research.google.com/assets/colab-badge.svg)](https://colab.research.google.com/github/parrt/playdl/blob/master/mnist/notebooks/catvar-embeddings-homebrew.ipynb)\n",
    "\n",
    "One-hot vectors are simple but the vocabulary size can make word vectors extremely long; high dimensionality. And they are very sparse, mostly zeros.\n",
    "\n",
    "Word embeddings, on the other hand, embed that massive dimensional space into a smaller, dense space. For example, [GloVE](https://nlp.stanford.edu/projects/glove/) has pre-trained word embeddings of various sizes such as 50 and 300 dimensions. Unlike word vectors, we need to do some training to compute embeddings. I've used pre-trained word-to-embedding dictionaries to good effect, but we can also train and embedding specific to our task as part of our model, using an embedding layer.\n",
    "\n",
    "In this notebook, I'm going to explore creating dense vectors, first by playing around with random dense vectors for words and then move on to trying to create dense vectors for categorical variables."
   ]
  },
  {
   "cell_type": "markdown",
   "metadata": {},
   "source": [
    "## Setup (for use with AWS)"
   ]
  },
  {
   "cell_type": "markdown",
   "metadata": {},
   "source": [
    "Make sure to enable this to see progress bars:\n",
    "\n",
    "```\n",
    "$ conda install nodejs\n",
    "$ jupyter nbextension enable --py widgetsnbextension\n",
    "$ jupyter labextension install @jupyter-widgets/jupyterlab-manager\n",
    "```\n",
    "\n",
    "```\n",
    "pip install -U tensorflow\n",
    "pip install tqdm\n",
    "pip install tensorflow_addons\n",
    "```\n",
    "\n",
    "Start on AWS:\n",
    "\n",
    "```\n",
    "jupyter lab --no-browser --port=8888\n",
    "```\n",
    "\n",
    "Port tunneling to access jupyter on AWS from mac:\n",
    "\n",
    "```\n",
    "ssh -i ~/Dropbox/licenses/parrt.pem -L 8000:localhost:8888 ubuntu@54.151.101.201\n",
    "```\n",
    "\n",
    "Go to [http://localhost:8000?token=1d8158157...](http://localhost:8000) in mac browser"
   ]
  },
  {
   "cell_type": "markdown",
   "metadata": {},
   "source": [
    "## Getting random but dense not sparse vectors\n",
    "\n",
    "In [word-vectors](word-vectors.ipynb), we created sparse vectors representing words. When added together, these create bag of words (BOW) representations of documents. We can just turn on the particular position of a word in the vector if that word is present in the document. \n",
    "\n",
    "If we are passing words individually to a recurrent neural network (RNN), then these sparse vectors can get pretty big. If there are 20,000 words in the dictionary, we might have vectors of size 20,000. What we need is a dense representation that still gives us unique representations of each word.  (We also used to the hash trick also to try to shrink the size of the sparse vectors, but they are still sparse.)"
   ]
  },
  {
   "cell_type": "code",
   "execution_count": 1,
   "metadata": {},
   "outputs": [
    {
     "name": "stderr",
     "output_type": "stream",
     "text": [
      "Using TensorFlow backend.\n"
     ]
    }
   ],
   "source": [
    "import numpy as np\n",
    "from keras.preprocessing.text import Tokenizer"
   ]
  },
  {
   "cell_type": "code",
   "execution_count": 2,
   "metadata": {},
   "outputs": [],
   "source": [
    "# sample tweets from my twitter inbox with added text for experimentation\n",
    "samples = [\n",
    "    \"\"\"Tesla Motors has nothing to do with this tweet.\n",
    "    On those rare occasions when I really, really need to reduce the\n",
    "    size of a file I use \"xz -9\". Today I found out about the \"extreme\" setting\n",
    "    and \"xz -e9\" squeezed files down another 15% or so. It is not exactly quick,\n",
    "    but that doesn't really matter in such cases!\"\"\",\n",
    "    \n",
    "    \"\"\"Securities and exchange commission has nothing to do with this tweet.\n",
    "    Do grad students get paid a lot? No. But do we at least have solid\n",
    "    job security? Also, no. But are we at least ensured a stress-free work\n",
    "    environment with a healthy work-life balance? Still, also no.\"\"\",\n",
    "\n",
    "    \"\"\"A design process hyperfocused on A/B testing can result in dark patterns even\n",
    "    if that’s not the intent. That’s because most A/B tests are based on metrics\n",
    "    that are relevant to the company’s bottom line, even if they result in harm to users.\"\"\"\n",
    "]\n",
    "\n",
    "tokenizer = Tokenizer()\n",
    "tokenizer.fit_on_texts(samples)\n",
    "words = tokenizer.word_index.keys() # get tokenized words"
   ]
  },
  {
   "cell_type": "markdown",
   "metadata": {},
   "source": [
    "If we are not using a hash function but instead dense factors, we need a dictionary to keep track of the word to vector mapping. But, we can create vectors of any length and get very little chance of collision. For example, even with a single floating-point number between 0 and 1, with our 96 words in the vocabulary, there's almost no chance of collision"
   ]
  },
  {
   "cell_type": "code",
   "execution_count": 3,
   "metadata": {},
   "outputs": [],
   "source": [
    "def hashwords(words, dimensionality = 4):\n",
    "    return {w:np.random.random(size=dimensionality) for w in words}"
   ]
  },
  {
   "cell_type": "code",
   "execution_count": 4,
   "metadata": {},
   "outputs": [
    {
     "data": {
      "text/plain": [
       "[('a', array([0.92259217, 0.93322627, 0.70264113, 0.47005086])),\n",
       " ('to', array([0.28294353, 0.21913988, 0.09580777, 0.33727596])),\n",
       " ('do', array([0.72010097, 0.60786122, 0.34280747, 0.5833775 ])),\n",
       " ('the', array([0.7447743 , 0.0809862 , 0.08332257, 0.84698509])),\n",
       " ('with', array([0.69717663, 0.22051321, 0.69404683, 0.73924395])),\n",
       " ('on', array([0.82983993, 0.34783496, 0.51337093, 0.85120908])),\n",
       " ('i', array([0.02264442, 0.74829746, 0.90148056, 0.13410034])),\n",
       " ('really', array([0.02266943, 0.50599647, 0.88366767, 0.74873127])),\n",
       " ('but', array([0.83735836, 0.48054518, 0.87281952, 0.73167947])),\n",
       " ('in', array([0.10537281, 0.619593  , 0.16087866, 0.53607247]))]"
      ]
     },
     "execution_count": 4,
     "metadata": {},
     "output_type": "execute_result"
    }
   ],
   "source": [
    "index = hashwords(words, dimensionality=4)\n",
    "list(index.items())[:10]"
   ]
  },
  {
   "cell_type": "code",
   "execution_count": 5,
   "metadata": {},
   "outputs": [
    {
     "name": "stdout",
     "output_type": "stream",
     "text": [
      "There were 0 collisions between dense word vectors\n"
     ]
    }
   ],
   "source": [
    "ncollisions = len(index) - len(set([tuple(a) for a in index.values()]))\n",
    "print(f\"There were {ncollisions} collisions between dense word vectors\")"
   ]
  },
  {
   "cell_type": "markdown",
   "metadata": {},
   "source": [
    "Note that if we only use dimensionality=1, then we are right back to label encoding, just with a floating-point number instead of an integer. We need at least a dimensionality of two.\n",
    "\n",
    "What happens if we need to send an entire document not just a single word into a model? We need a continuous bag of words (CBOW), which is easy for one hot encoding.  We just turn on all relevant word-columns. For dense vectors, we either need to concatenate them together or sum or average them into a single vector. If documents are different length, then concatenating them doesn't work because models typically require fixed length input.\n",
    "\n",
    "Those vectors are dense but there is literally no meaning to the values in the vector positions. Two similar words are in no way similar in some kind of semantic space. We are not helping the model very much. "
   ]
  },
  {
   "cell_type": "markdown",
   "metadata": {},
   "source": [
    "## Getting movie ID dense vectors"
   ]
  },
  {
   "cell_type": "code",
   "execution_count": 6,
   "metadata": {},
   "outputs": [
    {
     "data": {
      "text/html": [
       "<div>\n",
       "<style scoped>\n",
       "    .dataframe tbody tr th:only-of-type {\n",
       "        vertical-align: middle;\n",
       "    }\n",
       "\n",
       "    .dataframe tbody tr th {\n",
       "        vertical-align: top;\n",
       "    }\n",
       "\n",
       "    .dataframe thead th {\n",
       "        text-align: right;\n",
       "    }\n",
       "</style>\n",
       "<table border=\"1\" class=\"dataframe\">\n",
       "  <thead>\n",
       "    <tr style=\"text-align: right;\">\n",
       "      <th></th>\n",
       "      <th>userId</th>\n",
       "      <th>movieId</th>\n",
       "      <th>rating</th>\n",
       "    </tr>\n",
       "  </thead>\n",
       "  <tbody>\n",
       "    <tr>\n",
       "      <th>0</th>\n",
       "      <td>555</td>\n",
       "      <td>1608</td>\n",
       "      <td>3.0</td>\n",
       "    </tr>\n",
       "    <tr>\n",
       "      <th>1</th>\n",
       "      <td>305</td>\n",
       "      <td>7153</td>\n",
       "      <td>5.0</td>\n",
       "    </tr>\n",
       "    <tr>\n",
       "      <th>2</th>\n",
       "      <td>265</td>\n",
       "      <td>316</td>\n",
       "      <td>5.0</td>\n",
       "    </tr>\n",
       "    <tr>\n",
       "      <th>3</th>\n",
       "      <td>599</td>\n",
       "      <td>55167</td>\n",
       "      <td>4.0</td>\n",
       "    </tr>\n",
       "    <tr>\n",
       "      <th>4</th>\n",
       "      <td>200</td>\n",
       "      <td>3255</td>\n",
       "      <td>5.0</td>\n",
       "    </tr>\n",
       "  </tbody>\n",
       "</table>\n",
       "</div>"
      ],
      "text/plain": [
       "   userId  movieId  rating\n",
       "0     555     1608     3.0\n",
       "1     305     7153     5.0\n",
       "2     265      316     5.0\n",
       "3     599    55167     4.0\n",
       "4     200     3255     5.0"
      ]
     },
     "execution_count": 6,
     "metadata": {},
     "output_type": "execute_result"
    }
   ],
   "source": [
    "import pandas as pd\n",
    "np.set_printoptions(precision=2, suppress=True, linewidth=3000, threshold=20000)\n",
    "\n",
    "def load(n = 10):\n",
    "    df_ratings = pd.read_csv('data/ml-latest-small/ratings.csv')\n",
    "    df_ratings = df_ratings.drop('timestamp', axis=1)\n",
    "    df_ratings = df_ratings.sample(n=n).reset_index(drop=True)\n",
    "    return df_ratings\n",
    "\n",
    "df_ratings = load(n=100_000)\n",
    "df_ratings.head(5)"
   ]
  },
  {
   "cell_type": "code",
   "execution_count": 7,
   "metadata": {},
   "outputs": [
    {
     "data": {
      "text/plain": [
       "array([ 1608,  7153,   316, 55167,  3255])"
      ]
     },
     "execution_count": 7,
     "metadata": {},
     "output_type": "execute_result"
    }
   ],
   "source": [
    "df_ratings['movieId'].head(5).values"
   ]
  },
  {
   "cell_type": "markdown",
   "metadata": {},
   "source": [
    "### Compressing arbitrarily large IDs to 1..n indexes"
   ]
  },
  {
   "cell_type": "markdown",
   "metadata": {},
   "source": [
    "Rather than deal with arbitrarily large integers representing the various IDs, let's compress that down to unique but adjacent integers. This is also how I would handle string to integer encoding."
   ]
  },
  {
   "cell_type": "code",
   "execution_count": 8,
   "metadata": {},
   "outputs": [],
   "source": [
    "catencoders = {} # convert real movie, user ID to compressed index value\n",
    "index_to_id = {} \n",
    "def compress_cats(df, colname):\n",
    "    df[colname] = df[colname].astype('category').cat.as_ordered()\n",
    "    catencoders[colname] = df[colname].cat.categories\n",
    "    index_to_id[colname] = df[colname].cat.categories.values\n",
    "    df[colname] = df[colname].cat.codes + 1 # encode 1..n"
   ]
  },
  {
   "cell_type": "markdown",
   "metadata": {},
   "source": [
    "That function compresses one column at a time and modifies the data frame in place. Compare the movie IDs with the values above. We have converted `[3696,  281,  592, 1293, 4446]` to `[4, 1, 2, 3, 5]`:"
   ]
  },
  {
   "cell_type": "code",
   "execution_count": 9,
   "metadata": {},
   "outputs": [
    {
     "data": {
      "text/html": [
       "<div>\n",
       "<style scoped>\n",
       "    .dataframe tbody tr th:only-of-type {\n",
       "        vertical-align: middle;\n",
       "    }\n",
       "\n",
       "    .dataframe tbody tr th {\n",
       "        vertical-align: top;\n",
       "    }\n",
       "\n",
       "    .dataframe thead th {\n",
       "        text-align: right;\n",
       "    }\n",
       "</style>\n",
       "<table border=\"1\" class=\"dataframe\">\n",
       "  <thead>\n",
       "    <tr style=\"text-align: right;\">\n",
       "      <th></th>\n",
       "      <th>userId</th>\n",
       "      <th>movieId</th>\n",
       "      <th>rating</th>\n",
       "    </tr>\n",
       "  </thead>\n",
       "  <tbody>\n",
       "    <tr>\n",
       "      <th>0</th>\n",
       "      <td>555</td>\n",
       "      <td>2</td>\n",
       "      <td>3.0</td>\n",
       "    </tr>\n",
       "    <tr>\n",
       "      <th>1</th>\n",
       "      <td>305</td>\n",
       "      <td>4</td>\n",
       "      <td>5.0</td>\n",
       "    </tr>\n",
       "    <tr>\n",
       "      <th>2</th>\n",
       "      <td>265</td>\n",
       "      <td>1</td>\n",
       "      <td>5.0</td>\n",
       "    </tr>\n",
       "    <tr>\n",
       "      <th>3</th>\n",
       "      <td>599</td>\n",
       "      <td>5</td>\n",
       "      <td>4.0</td>\n",
       "    </tr>\n",
       "    <tr>\n",
       "      <th>4</th>\n",
       "      <td>200</td>\n",
       "      <td>3</td>\n",
       "      <td>5.0</td>\n",
       "    </tr>\n",
       "  </tbody>\n",
       "</table>\n",
       "</div>"
      ],
      "text/plain": [
       "   userId  movieId  rating\n",
       "0     555        2     3.0\n",
       "1     305        4     5.0\n",
       "2     265        1     5.0\n",
       "3     599        5     4.0\n",
       "4     200        3     5.0"
      ]
     },
     "execution_count": 9,
     "metadata": {},
     "output_type": "execute_result"
    }
   ],
   "source": [
    "df_tiny = df_ratings.head(5).copy()\n",
    "compress_cats(df_tiny, \"movieId\")\n",
    "df_tiny"
   ]
  },
  {
   "cell_type": "markdown",
   "metadata": {},
   "source": [
    "We have also gotten a mapping from ID to the tiny index that we can use later:"
   ]
  },
  {
   "cell_type": "code",
   "execution_count": 10,
   "metadata": {},
   "outputs": [
    {
     "data": {
      "text/plain": [
       "Int64Index([316, 1608, 3255, 7153, 55167], dtype='int64')"
      ]
     },
     "execution_count": 10,
     "metadata": {},
     "output_type": "execute_result"
    }
   ],
   "source": [
    "catencoders['movieId']"
   ]
  },
  {
   "cell_type": "markdown",
   "metadata": {},
   "source": [
    "Later when we want to convert movie IDs to indexes, we can reuse the catencoders, but remember that pandas will display the values using the category \"ID names\" not the code unless we convert it to the \"code\":"
   ]
  },
  {
   "cell_type": "code",
   "execution_count": 11,
   "metadata": {},
   "outputs": [
    {
     "data": {
      "text/html": [
       "<div>\n",
       "<style scoped>\n",
       "    .dataframe tbody tr th:only-of-type {\n",
       "        vertical-align: middle;\n",
       "    }\n",
       "\n",
       "    .dataframe tbody tr th {\n",
       "        vertical-align: top;\n",
       "    }\n",
       "\n",
       "    .dataframe thead th {\n",
       "        text-align: right;\n",
       "    }\n",
       "</style>\n",
       "<table border=\"1\" class=\"dataframe\">\n",
       "  <thead>\n",
       "    <tr style=\"text-align: right;\">\n",
       "      <th></th>\n",
       "      <th>userId</th>\n",
       "      <th>movieId</th>\n",
       "      <th>rating</th>\n",
       "    </tr>\n",
       "  </thead>\n",
       "  <tbody>\n",
       "    <tr>\n",
       "      <th>0</th>\n",
       "      <td>555</td>\n",
       "      <td>2</td>\n",
       "      <td>3.0</td>\n",
       "    </tr>\n",
       "    <tr>\n",
       "      <th>1</th>\n",
       "      <td>305</td>\n",
       "      <td>4</td>\n",
       "      <td>5.0</td>\n",
       "    </tr>\n",
       "    <tr>\n",
       "      <th>2</th>\n",
       "      <td>265</td>\n",
       "      <td>1</td>\n",
       "      <td>5.0</td>\n",
       "    </tr>\n",
       "    <tr>\n",
       "      <th>3</th>\n",
       "      <td>599</td>\n",
       "      <td>5</td>\n",
       "      <td>4.0</td>\n",
       "    </tr>\n",
       "    <tr>\n",
       "      <th>4</th>\n",
       "      <td>200</td>\n",
       "      <td>3</td>\n",
       "      <td>5.0</td>\n",
       "    </tr>\n",
       "  </tbody>\n",
       "</table>\n",
       "</div>"
      ],
      "text/plain": [
       "   userId  movieId  rating\n",
       "0     555        2     3.0\n",
       "1     305        4     5.0\n",
       "2     265        1     5.0\n",
       "3     599        5     4.0\n",
       "4     200        3     5.0"
      ]
     },
     "execution_count": 11,
     "metadata": {},
     "output_type": "execute_result"
    }
   ],
   "source": [
    "df_tiny = df_ratings.head(5).copy()\n",
    "df_tiny['movieId'] = pd.Categorical(df_tiny['movieId'], categories=catencoders['movieId'], ordered=True)\n",
    "df_tiny['movieId'] = df_tiny['movieId'].cat.codes+1\n",
    "df_tiny"
   ]
  },
  {
   "cell_type": "markdown",
   "metadata": {},
   "source": [
    "### Create model that maps movie to user"
   ]
  },
  {
   "cell_type": "markdown",
   "metadata": {},
   "source": [
    "Let's try mapping users to movies with a neural network. Presumably people self filter the movies they watch and so there could be information that will tell us about users and/or movies.\n"
   ]
  },
  {
   "cell_type": "code",
   "execution_count": 12,
   "metadata": {},
   "outputs": [],
   "source": [
    "import tensorflow as tf\n",
    "import tensorflow_addons as tfa\n",
    "from keras.datasets import mnist\n",
    "from tensorflow.keras import models, layers, callbacks, optimizers\n",
    "import tqdm\n",
    "from tqdm.keras import TqdmCallback\n",
    "from sklearn.metrics import accuracy_score, r2_score, mean_absolute_error, mean_squared_error"
   ]
  },
  {
   "cell_type": "code",
   "execution_count": 13,
   "metadata": {},
   "outputs": [
    {
     "data": {
      "text/plain": [
       "(100000, 610, 9695)"
      ]
     },
     "execution_count": 13,
     "metadata": {},
     "output_type": "execute_result"
    }
   ],
   "source": [
    "compress_cats(df_ratings, \"userId\")\n",
    "compress_cats(df_ratings, \"movieId\")\n",
    "nusers = len(df_ratings.groupby('userId').count())\n",
    "nmovies = len(df_ratings.groupby('movieId').count())\n",
    "n = len(df_ratings)\n",
    "n, nusers, nmovies"
   ]
  },
  {
   "cell_type": "markdown",
   "metadata": {},
   "source": [
    "The input to the neural network will be one hot encoded movie identifiers. The output will also be one hot encoded user IDs, but keras will handle that part for us (we can leave y as a list of integer user IDs)"
   ]
  },
  {
   "cell_type": "code",
   "execution_count": 14,
   "metadata": {},
   "outputs": [
    {
     "data": {
      "text/plain": [
       "((100000, 9695), (100000,))"
      ]
     },
     "execution_count": 14,
     "metadata": {},
     "output_type": "execute_result"
    }
   ],
   "source": [
    "X = pd.get_dummies(df_ratings['movieId'])\n",
    "y = df_ratings['userId'] #pd.get_dummies(df_ratings['userId'])\n",
    "X.shape, y.shape"
   ]
  },
  {
   "cell_type": "code",
   "execution_count": 15,
   "metadata": {},
   "outputs": [
    {
     "data": {
      "text/html": [
       "<div>\n",
       "<style scoped>\n",
       "    .dataframe tbody tr th:only-of-type {\n",
       "        vertical-align: middle;\n",
       "    }\n",
       "\n",
       "    .dataframe tbody tr th {\n",
       "        vertical-align: top;\n",
       "    }\n",
       "\n",
       "    .dataframe thead th {\n",
       "        text-align: right;\n",
       "    }\n",
       "</style>\n",
       "<table border=\"1\" class=\"dataframe\">\n",
       "  <thead>\n",
       "    <tr style=\"text-align: right;\">\n",
       "      <th></th>\n",
       "      <th>1</th>\n",
       "      <th>2</th>\n",
       "      <th>3</th>\n",
       "      <th>4</th>\n",
       "      <th>5</th>\n",
       "      <th>6</th>\n",
       "      <th>7</th>\n",
       "      <th>8</th>\n",
       "      <th>9</th>\n",
       "      <th>10</th>\n",
       "      <th>...</th>\n",
       "      <th>9686</th>\n",
       "      <th>9687</th>\n",
       "      <th>9688</th>\n",
       "      <th>9689</th>\n",
       "      <th>9690</th>\n",
       "      <th>9691</th>\n",
       "      <th>9692</th>\n",
       "      <th>9693</th>\n",
       "      <th>9694</th>\n",
       "      <th>9695</th>\n",
       "    </tr>\n",
       "  </thead>\n",
       "  <tbody>\n",
       "    <tr>\n",
       "      <th>0</th>\n",
       "      <td>0</td>\n",
       "      <td>0</td>\n",
       "      <td>0</td>\n",
       "      <td>0</td>\n",
       "      <td>0</td>\n",
       "      <td>0</td>\n",
       "      <td>0</td>\n",
       "      <td>0</td>\n",
       "      <td>0</td>\n",
       "      <td>0</td>\n",
       "      <td>...</td>\n",
       "      <td>0</td>\n",
       "      <td>0</td>\n",
       "      <td>0</td>\n",
       "      <td>0</td>\n",
       "      <td>0</td>\n",
       "      <td>0</td>\n",
       "      <td>0</td>\n",
       "      <td>0</td>\n",
       "      <td>0</td>\n",
       "      <td>0</td>\n",
       "    </tr>\n",
       "    <tr>\n",
       "      <th>1</th>\n",
       "      <td>0</td>\n",
       "      <td>0</td>\n",
       "      <td>0</td>\n",
       "      <td>0</td>\n",
       "      <td>0</td>\n",
       "      <td>0</td>\n",
       "      <td>0</td>\n",
       "      <td>0</td>\n",
       "      <td>0</td>\n",
       "      <td>0</td>\n",
       "      <td>...</td>\n",
       "      <td>0</td>\n",
       "      <td>0</td>\n",
       "      <td>0</td>\n",
       "      <td>0</td>\n",
       "      <td>0</td>\n",
       "      <td>0</td>\n",
       "      <td>0</td>\n",
       "      <td>0</td>\n",
       "      <td>0</td>\n",
       "      <td>0</td>\n",
       "    </tr>\n",
       "    <tr>\n",
       "      <th>2</th>\n",
       "      <td>0</td>\n",
       "      <td>0</td>\n",
       "      <td>0</td>\n",
       "      <td>0</td>\n",
       "      <td>0</td>\n",
       "      <td>0</td>\n",
       "      <td>0</td>\n",
       "      <td>0</td>\n",
       "      <td>0</td>\n",
       "      <td>0</td>\n",
       "      <td>...</td>\n",
       "      <td>0</td>\n",
       "      <td>0</td>\n",
       "      <td>0</td>\n",
       "      <td>0</td>\n",
       "      <td>0</td>\n",
       "      <td>0</td>\n",
       "      <td>0</td>\n",
       "      <td>0</td>\n",
       "      <td>0</td>\n",
       "      <td>0</td>\n",
       "    </tr>\n",
       "  </tbody>\n",
       "</table>\n",
       "<p>3 rows × 9695 columns</p>\n",
       "</div>"
      ],
      "text/plain": [
       "   1     2     3     4     5     6     7     8     9     10    ...  9686  \\\n",
       "0     0     0     0     0     0     0     0     0     0     0  ...     0   \n",
       "1     0     0     0     0     0     0     0     0     0     0  ...     0   \n",
       "2     0     0     0     0     0     0     0     0     0     0  ...     0   \n",
       "\n",
       "   9687  9688  9689  9690  9691  9692  9693  9694  9695  \n",
       "0     0     0     0     0     0     0     0     0     0  \n",
       "1     0     0     0     0     0     0     0     0     0  \n",
       "2     0     0     0     0     0     0     0     0     0  \n",
       "\n",
       "[3 rows x 9695 columns]"
      ]
     },
     "execution_count": 15,
     "metadata": {},
     "output_type": "execute_result"
    }
   ],
   "source": [
    "X.head(3)"
   ]
  },
  {
   "cell_type": "code",
   "execution_count": 16,
   "metadata": {},
   "outputs": [
    {
     "data": {
      "text/plain": [
       "array([555, 305, 265, 599, 200, 305, 573, 217, 603, 599], dtype=int16)"
      ]
     },
     "execution_count": 16,
     "metadata": {},
     "output_type": "execute_result"
    }
   ],
   "source": [
    "y.values[0:10]"
   ]
  },
  {
   "cell_type": "markdown",
   "metadata": {},
   "source": [
    "We are trying to map a sparse movie ID vector to a dense vector of say 20 dimensions. To do that, we use the first layer of a network that has 20 neurons. Each neuron will contribute a single dimension to each dense vector. The input X has 10,000 rows, one for each one hot movie ID. It has nmovies columns. If there are 10 movies, there are 10 possible positions in the one hot encoding. The first layer is a transformation from nmovies space to 20 space. The key is that we want to choke that first layer into just a few neurons and then have a big layer afterwards that tries to make sense of those new compressed features. We don't care about the prediction at the end, we are just going to take the weights out of the first layer to get the embeddings."
   ]
  },
  {
   "cell_type": "code",
   "execution_count": 17,
   "metadata": {},
   "outputs": [],
   "source": [
    "layer1 = 2\n",
    "layer2 = 200\n",
    "batch_size = 75 # We want this small apparently (i've read and bigger values get crappy predictions)\n",
    "model = models.Sequential()\n",
    "model.add(layers.Dense(layer1, name='embedding', input_dim=nmovies, activation='relu')) # input_shape=(n,nmovies)\n",
    "model.add(layers.Dense(layer2, activation='relu'))\n",
    "model.add(layers.Dense(nusers+1, activation='softmax'))\n",
    "\n",
    "opt = optimizers.RMSprop()\n",
    "\n",
    "model.compile(loss=tf.keras.losses.sparse_categorical_crossentropy,\n",
    "              optimizer=opt,\n",
    "              metrics=['accuracy'])\n",
    "#model.summary()"
   ]
  },
  {
   "cell_type": "code",
   "execution_count": 18,
   "metadata": {},
   "outputs": [
    {
     "name": "stdout",
     "output_type": "stream",
     "text": [
      "Epoch 1/10\n",
      "1334/1334 [==============================] - 3s 2ms/step - loss: 5.7337 - accuracy: 0.0257\n",
      "Epoch 2/10\n",
      "1334/1334 [==============================] - 3s 2ms/step - loss: 5.6448 - accuracy: 0.0267\n",
      "Epoch 3/10\n",
      "1334/1334 [==============================] - 3s 2ms/step - loss: 5.6205 - accuracy: 0.0267\n",
      "Epoch 4/10\n",
      "1334/1334 [==============================] - 3s 2ms/step - loss: 5.6068 - accuracy: 0.0267\n",
      "Epoch 5/10\n",
      "1334/1334 [==============================] - 3s 2ms/step - loss: 5.5990 - accuracy: 0.0267\n",
      "Epoch 6/10\n",
      "1334/1334 [==============================] - 3s 2ms/step - loss: 5.5947 - accuracy: 0.0268\n",
      "Epoch 7/10\n",
      "1334/1334 [==============================] - 3s 2ms/step - loss: 5.5898 - accuracy: 0.0268\n",
      "Epoch 8/10\n",
      "1334/1334 [==============================] - 3s 2ms/step - loss: 5.5877 - accuracy: 0.0268\n",
      "Epoch 9/10\n",
      "1334/1334 [==============================] - 3s 2ms/step - loss: 5.5856 - accuracy: 0.0266\n",
      "Epoch 10/10\n",
      "1334/1334 [==============================] - 3s 2ms/step - loss: 5.5842 - accuracy: 0.0267\n"
     ]
    }
   ],
   "source": [
    "history = model.fit(X, y,\n",
    "                    shuffle=True,\n",
    "                    epochs=10,\n",
    "#                    validation_split=0.10, # don't care\n",
    "                    batch_size=batch_size,\n",
    "                    verbose=1,\n",
    "#                    callbacks=[tfa.callbacks.TQDMProgressBar(show_epoch_progress=False)]\n",
    "                    )"
   ]
  },
  {
   "cell_type": "code",
   "execution_count": 19,
   "metadata": {},
   "outputs": [
    {
     "name": "stdout",
     "output_type": "stream",
     "text": [
      "Keras validation accuracy 0.02711\n"
     ]
    },
    {
     "data": {
      "text/plain": [
       "<Figure size 640x480 with 1 Axes>"
      ]
     },
     "metadata": {},
     "output_type": "display_data"
    }
   ],
   "source": [
    "y_pred = model.predict(X.values.reshape(-1,nmovies))\n",
    "y_pred = np.argmax(y_pred, axis=1)\n",
    "val_accur = accuracy_score(y, y_pred)\n",
    "print(\"Keras validation accuracy\", val_accur)\n",
    "\n",
    "import matplotlib.pyplot as plt\n",
    "\n",
    "plt.ylabel(\"Accuracy\")\n",
    "plt.xlabel(\"Epochs\")\n",
    "\n",
    "accur = history.history['accuracy']\n",
    "plt.plot(accur, label='train_accuracy')\n",
    "# val_accur = history.history['val_accuracy']\n",
    "# plt.plot(val_accur, label='valid_accuracy')\n",
    "plt.legend(loc='lower right')\n",
    "plt.show()"
   ]
  },
  {
   "cell_type": "markdown",
   "metadata": {},
   "source": [
    "Validation error is terrible, but [Oliver](http://www.zeigermann.eu/) says we care about training error for getting embeddings since we won't be using the predictions.  In his example, he only has about 10% accuracy so I'm going to consider roughly 30% quite good. :)"
   ]
  },
  {
   "cell_type": "markdown",
   "metadata": {},
   "source": [
    "### Getting the embeddings out of the network\n",
    "\n",
    "\n",
    "[Here](https://djcordhose.github.io/ml-workshop/2019-embeddings.html#/17), Oliver explains how to get the embeddings out. These are the outputs from the first constrained layer. I'm going to simply ask for the weights and the biases then manually get the embedding vectors, rather than create a model just to get the output transformation:"
   ]
  },
  {
   "cell_type": "code",
   "execution_count": 20,
   "metadata": {},
   "outputs": [
    {
     "data": {
      "text/plain": [
       "((9696, 2), (2,))"
      ]
     },
     "execution_count": 20,
     "metadata": {},
     "output_type": "execute_result"
    }
   ],
   "source": [
    "embedding_layer = model.get_layer('embedding')\n",
    "w, b = embedding_layer.get_weights()\n",
    "w.shape, b.shape"
   ]
  },
  {
   "cell_type": "markdown",
   "metadata": {},
   "source": [
    "The shape of the weight matrix is the transpose of what I would expect. For example, I like the convention of a row being the weights of a single neuron. Since I have 20 neurons, I would expect 20 rows, but still we can just reverse the operands of the dot product. The following should give us the output of the embedding layer:  take the dot product of every input movie one-hot and multiply times the weight vector then add the bias. Note: The dot product is really just selecting the ith row of w for one-hot turned on at position i.  A row in w is the set of weights across neurons for a particular feature, a (compressed) movie ID in our case. That gives us a vector in 20-space where each dimension is some semantic meaning we got from a neuron.\n",
    "\n",
    "There are repeated movies in the data set so let's get the unique movie IDs and get a mapping from compressed movie ID to dense 20-vector."
   ]
  },
  {
   "cell_type": "code",
   "execution_count": 21,
   "metadata": {},
   "outputs": [
    {
     "data": {
      "text/plain": [
       "(9696, 9696)"
      ]
     },
     "execution_count": 21,
     "metadata": {},
     "output_type": "execute_result"
    }
   ],
   "source": [
    "uniq_movieIds = np.unique(df_ratings['movieId'])\n",
    "uniq_movieIds_onehot = pd.get_dummies(uniq_movieIds)\n",
    "uniq_movieIds_onehot.shape"
   ]
  },
  {
   "cell_type": "code",
   "execution_count": 22,
   "metadata": {},
   "outputs": [
    {
     "name": "stdout",
     "output_type": "stream",
     "text": [
      "For each of 9696 we have a vector of size 2\n",
      "Example embedding: [0.12640524, -0.008518964]\n"
     ]
    }
   ],
   "source": [
    "movie_embeddings = np.dot(uniq_movieIds_onehot, w) + b\n",
    "print(f\"For each of {movie_embeddings.shape[0]} we have a vector of size {movie_embeddings.shape[1]}\")\n",
    "print(f\"Example embedding: {list(movie_embeddings[0])}\")"
   ]
  },
  {
   "cell_type": "markdown",
   "metadata": {},
   "source": [
    "The dot product is equivalent to selecting a row of the weight matrix (where the columns are the weights for each neuron). For example, to get the first movie ID embedding, we can select the first row of `w` and add the bias `b`:"
   ]
  },
  {
   "cell_type": "code",
   "execution_count": 23,
   "metadata": {},
   "outputs": [
    {
     "data": {
      "text/plain": [
       "array([ 0.13, -0.01], dtype=float32)"
      ]
     },
     "execution_count": 23,
     "metadata": {},
     "output_type": "execute_result"
    }
   ],
   "source": [
    "w[0]+b"
   ]
  },
  {
   "cell_type": "markdown",
   "metadata": {},
   "source": [
    "That is the same value we got above so we can now get the matrix containing all of the embeddings just by doing this:"
   ]
  },
  {
   "cell_type": "code",
   "execution_count": 24,
   "metadata": {},
   "outputs": [
    {
     "data": {
      "text/plain": [
       "array([ 0.13, -0.01], dtype=float32)"
      ]
     },
     "execution_count": 24,
     "metadata": {},
     "output_type": "execute_result"
    }
   ],
   "source": [
    "movie_embeddings = w+b\n",
    "movie_embeddings[0]"
   ]
  },
  {
   "cell_type": "markdown",
   "metadata": {},
   "source": [
    "### Testing the movie embeddings\n",
    "\n",
    "To test our embeddings, let's project the dense vectors down to two-dimensional space and see who is close to who. If the similarities make sense to a human, we probably did a good job with the embedding.  First, let's get the movie titles:"
   ]
  },
  {
   "cell_type": "code",
   "execution_count": 25,
   "metadata": {},
   "outputs": [
    {
     "data": {
      "text/html": [
       "<div>\n",
       "<style scoped>\n",
       "    .dataframe tbody tr th:only-of-type {\n",
       "        vertical-align: middle;\n",
       "    }\n",
       "\n",
       "    .dataframe tbody tr th {\n",
       "        vertical-align: top;\n",
       "    }\n",
       "\n",
       "    .dataframe thead th {\n",
       "        text-align: right;\n",
       "    }\n",
       "</style>\n",
       "<table border=\"1\" class=\"dataframe\">\n",
       "  <thead>\n",
       "    <tr style=\"text-align: right;\">\n",
       "      <th></th>\n",
       "      <th>movieId</th>\n",
       "      <th>title</th>\n",
       "      <th>genres</th>\n",
       "    </tr>\n",
       "  </thead>\n",
       "  <tbody>\n",
       "    <tr>\n",
       "      <th>1000</th>\n",
       "      <td>1302</td>\n",
       "      <td>Field of Dreams (1989)</td>\n",
       "      <td>Children|Drama|Fantasy</td>\n",
       "    </tr>\n",
       "    <tr>\n",
       "      <th>1001</th>\n",
       "      <td>1303</td>\n",
       "      <td>Man Who Would Be King, The (1975)</td>\n",
       "      <td>Adventure|Drama</td>\n",
       "    </tr>\n",
       "    <tr>\n",
       "      <th>1002</th>\n",
       "      <td>1304</td>\n",
       "      <td>Butch Cassidy and the Sundance Kid (1969)</td>\n",
       "      <td>Action|Western</td>\n",
       "    </tr>\n",
       "    <tr>\n",
       "      <th>1003</th>\n",
       "      <td>1305</td>\n",
       "      <td>Paris, Texas (1984)</td>\n",
       "      <td>Drama|Romance</td>\n",
       "    </tr>\n",
       "    <tr>\n",
       "      <th>1004</th>\n",
       "      <td>1306</td>\n",
       "      <td>Until the End of the World (Bis ans Ende der W...</td>\n",
       "      <td>Adventure|Drama|Sci-Fi</td>\n",
       "    </tr>\n",
       "  </tbody>\n",
       "</table>\n",
       "</div>"
      ],
      "text/plain": [
       "      movieId                                              title  \\\n",
       "1000     1302                             Field of Dreams (1989)   \n",
       "1001     1303                  Man Who Would Be King, The (1975)   \n",
       "1002     1304          Butch Cassidy and the Sundance Kid (1969)   \n",
       "1003     1305                                Paris, Texas (1984)   \n",
       "1004     1306  Until the End of the World (Bis ans Ende der W...   \n",
       "\n",
       "                      genres  \n",
       "1000  Children|Drama|Fantasy  \n",
       "1001         Adventure|Drama  \n",
       "1002          Action|Western  \n",
       "1003           Drama|Romance  \n",
       "1004  Adventure|Drama|Sci-Fi  "
      ]
     },
     "execution_count": 25,
     "metadata": {},
     "output_type": "execute_result"
    }
   ],
   "source": [
    "df_movies = pd.read_csv('data/ml-latest-small/movies.csv')\n",
    "df_movies.iloc[1000:1005]"
   ]
  },
  {
   "cell_type": "markdown",
   "metadata": {},
   "source": [
    "Shorten titles by getting rid of the year:"
   ]
  },
  {
   "cell_type": "code",
   "execution_count": 26,
   "metadata": {},
   "outputs": [
    {
     "data": {
      "text/html": [
       "<div>\n",
       "<style scoped>\n",
       "    .dataframe tbody tr th:only-of-type {\n",
       "        vertical-align: middle;\n",
       "    }\n",
       "\n",
       "    .dataframe tbody tr th {\n",
       "        vertical-align: top;\n",
       "    }\n",
       "\n",
       "    .dataframe thead th {\n",
       "        text-align: right;\n",
       "    }\n",
       "</style>\n",
       "<table border=\"1\" class=\"dataframe\">\n",
       "  <thead>\n",
       "    <tr style=\"text-align: right;\">\n",
       "      <th></th>\n",
       "      <th>movieId</th>\n",
       "      <th>title</th>\n",
       "      <th>genres</th>\n",
       "    </tr>\n",
       "  </thead>\n",
       "  <tbody>\n",
       "    <tr>\n",
       "      <th>1000</th>\n",
       "      <td>1302</td>\n",
       "      <td>Field of Dreams</td>\n",
       "      <td>Children|Drama|Fantasy</td>\n",
       "    </tr>\n",
       "    <tr>\n",
       "      <th>1001</th>\n",
       "      <td>1303</td>\n",
       "      <td>Man Who Would Be King, The</td>\n",
       "      <td>Adventure|Drama</td>\n",
       "    </tr>\n",
       "    <tr>\n",
       "      <th>1002</th>\n",
       "      <td>1304</td>\n",
       "      <td>Butch Cassidy and the Sundance Kid</td>\n",
       "      <td>Action|Western</td>\n",
       "    </tr>\n",
       "    <tr>\n",
       "      <th>1003</th>\n",
       "      <td>1305</td>\n",
       "      <td>Paris, Texas</td>\n",
       "      <td>Drama|Romance</td>\n",
       "    </tr>\n",
       "    <tr>\n",
       "      <th>1004</th>\n",
       "      <td>1306</td>\n",
       "      <td>Until the End of the World (Bis ans Ende der W...</td>\n",
       "      <td>Adventure|Drama|Sci-Fi</td>\n",
       "    </tr>\n",
       "  </tbody>\n",
       "</table>\n",
       "</div>"
      ],
      "text/plain": [
       "      movieId                                              title  \\\n",
       "1000     1302                                    Field of Dreams   \n",
       "1001     1303                         Man Who Would Be King, The   \n",
       "1002     1304                 Butch Cassidy and the Sundance Kid   \n",
       "1003     1305                                       Paris, Texas   \n",
       "1004     1306  Until the End of the World (Bis ans Ende der W...   \n",
       "\n",
       "                      genres  \n",
       "1000  Children|Drama|Fantasy  \n",
       "1001         Adventure|Drama  \n",
       "1002          Action|Western  \n",
       "1003           Drama|Romance  \n",
       "1004  Adventure|Drama|Sci-Fi  "
      ]
     },
     "execution_count": 26,
     "metadata": {},
     "output_type": "execute_result"
    }
   ],
   "source": [
    "import re\n",
    "p = re.compile(r'[()0-9]+$')\n",
    "df_movies['title'] = df_movies['title'].map(lambda x: p.sub('', x).strip())\n",
    "df_movies.iloc[1000:1005]"
   ]
  },
  {
   "cell_type": "code",
   "execution_count": 27,
   "metadata": {},
   "outputs": [
    {
     "data": {
      "text/plain": [
       "349"
      ]
     },
     "execution_count": 27,
     "metadata": {},
     "output_type": "execute_result"
    }
   ],
   "source": [
    "sum(df_movies['genres']=='Drama|Romance')"
   ]
  },
  {
   "cell_type": "markdown",
   "metadata": {},
   "source": [
    "Let's filter for two different genres Sci-Fi and Romance to see if they separate in space."
   ]
  },
  {
   "cell_type": "code",
   "execution_count": 28,
   "metadata": {},
   "outputs": [
    {
     "name": "stdout",
     "output_type": "stream",
     "text": [
      "1329\n"
     ]
    }
   ],
   "source": [
    "df_movies = df_movies[(df_movies['genres'].str.contains('Sci-Fi'))|(df_movies['genres']=='Drama|Romance')]\n",
    "print(len(df_movies))"
   ]
  },
  {
   "cell_type": "markdown",
   "metadata": {},
   "source": [
    "Convert all of the movie IDs to the same compressed indexes used above:"
   ]
  },
  {
   "cell_type": "code",
   "execution_count": 29,
   "metadata": {},
   "outputs": [
    {
     "data": {
      "text/html": [
       "<div>\n",
       "<style scoped>\n",
       "    .dataframe tbody tr th:only-of-type {\n",
       "        vertical-align: middle;\n",
       "    }\n",
       "\n",
       "    .dataframe tbody tr th {\n",
       "        vertical-align: top;\n",
       "    }\n",
       "\n",
       "    .dataframe thead th {\n",
       "        text-align: right;\n",
       "    }\n",
       "</style>\n",
       "<table border=\"1\" class=\"dataframe\">\n",
       "  <thead>\n",
       "    <tr style=\"text-align: right;\">\n",
       "      <th></th>\n",
       "      <th>movieId</th>\n",
       "      <th>title</th>\n",
       "      <th>genres</th>\n",
       "    </tr>\n",
       "  </thead>\n",
       "  <tbody>\n",
       "    <tr>\n",
       "      <th>16</th>\n",
       "      <td>17</td>\n",
       "      <td>Sense and Sensibility</td>\n",
       "      <td>Drama|Romance</td>\n",
       "    </tr>\n",
       "    <tr>\n",
       "      <th>23</th>\n",
       "      <td>24</td>\n",
       "      <td>Powder</td>\n",
       "      <td>Drama|Sci-Fi</td>\n",
       "    </tr>\n",
       "    <tr>\n",
       "      <th>24</th>\n",
       "      <td>25</td>\n",
       "      <td>Leaving Las Vegas</td>\n",
       "      <td>Drama|Romance</td>\n",
       "    </tr>\n",
       "    <tr>\n",
       "      <th>27</th>\n",
       "      <td>28</td>\n",
       "      <td>Persuasion</td>\n",
       "      <td>Drama|Romance</td>\n",
       "    </tr>\n",
       "    <tr>\n",
       "      <th>28</th>\n",
       "      <td>29</td>\n",
       "      <td>City of Lost Children, The (Cité des enfants p...</td>\n",
       "      <td>Adventure|Drama|Fantasy|Mystery|Sci-Fi</td>\n",
       "    </tr>\n",
       "  </tbody>\n",
       "</table>\n",
       "</div>"
      ],
      "text/plain": [
       "    movieId                                              title  \\\n",
       "16       17                              Sense and Sensibility   \n",
       "23       24                                             Powder   \n",
       "24       25                                  Leaving Las Vegas   \n",
       "27       28                                         Persuasion   \n",
       "28       29  City of Lost Children, The (Cité des enfants p...   \n",
       "\n",
       "                                    genres  \n",
       "16                           Drama|Romance  \n",
       "23                            Drama|Sci-Fi  \n",
       "24                           Drama|Romance  \n",
       "27                           Drama|Romance  \n",
       "28  Adventure|Drama|Fantasy|Mystery|Sci-Fi  "
      ]
     },
     "execution_count": 29,
     "metadata": {},
     "output_type": "execute_result"
    }
   ],
   "source": [
    "#df_movies = df_movies.drop('genres', axis=1)\n",
    "df_movies['movieId'] = pd.Categorical(df_movies['movieId'], categories=catencoders['movieId'], ordered=True)\n",
    "df_movies['movieId'] = df_movies['movieId'].cat.codes+1\n",
    "df_movies.iloc[:5]"
   ]
  },
  {
   "cell_type": "markdown",
   "metadata": {},
   "source": [
    "We use a subsample of the entire database so drop any record whose movie ID is zero (unknown):"
   ]
  },
  {
   "cell_type": "code",
   "execution_count": 30,
   "metadata": {},
   "outputs": [],
   "source": [
    "df_movies = df_movies[df_movies['movieId']>0]"
   ]
  },
  {
   "cell_type": "code",
   "execution_count": 31,
   "metadata": {},
   "outputs": [],
   "source": [
    "from sklearn.decomposition import PCA\n",
    "\n",
    "def plot_embeddings(df_movies, movie_embeddings, n):\n",
    "    df_small = df_movies[0:n].copy()\n",
    "    plt.figure(figsize=(20,20))\n",
    "    vecs = [movie_embeddings[m] for m in df_small['movieId']]\n",
    "    genres = df_small['genres'].values\n",
    "    pca = PCA(n_components=2)\n",
    "    vecs2D = pca.fit_transform(vecs)\n",
    "    for i,t in enumerate(df_small['title']):\n",
    "#        print(t, vecs2D[i])\n",
    "        c = 'k' if 'Sci-Fi' in genres[i] else 'r'\n",
    "        plt.text(vecs2D[i,0], vecs2D[i,1], t, fontsize=6, c=c)\n",
    "    plt.xlim(-.4,.4)\n",
    "    plt.ylim(-.3,.3)\n",
    "    plt.savefig(\"/tmp/embeddings.pdf\")\n",
    "    #plt.show()"
   ]
  },
  {
   "cell_type": "code",
   "execution_count": 32,
   "metadata": {},
   "outputs": [
    {
     "data": {
      "image/png": "[encoded data removed]",
      "text/plain": [
       "<Figure size 1440x1440 with 1 Axes>"
      ]
     },
     "metadata": {},
     "output_type": "display_data"
    }
   ],
   "source": [
    "plot_embeddings(df_movies, movie_embeddings, 1500)"
   ]
  },
  {
   "cell_type": "markdown",
   "metadata": {},
   "source": [
    "## Movie+user -> rating???\n",
    "\n",
    "Ok, Let's try to map both the movie and the user to a rating. I'm not sure this makes sense but leaving it in here in case it gets me closer to collaborative filtering."
   ]
  },
  {
   "cell_type": "code",
   "execution_count": 33,
   "metadata": {},
   "outputs": [
    {
     "data": {
      "text/plain": [
       "(10000, 597, 3691)"
      ]
     },
     "execution_count": 33,
     "metadata": {},
     "output_type": "execute_result"
    }
   ],
   "source": [
    "df_ratings = load(n=10000)\n",
    "compress_cats(df_ratings, \"userId\")\n",
    "compress_cats(df_ratings, \"movieId\")\n",
    "nusers = len(df_ratings.groupby('userId').count())\n",
    "nmovies = len(df_ratings.groupby('movieId').count())\n",
    "n = len(df_ratings)\n",
    "n, nusers, nmovies"
   ]
  },
  {
   "cell_type": "code",
   "execution_count": 34,
   "metadata": {},
   "outputs": [
    {
     "data": {
      "text/plain": [
       "((10000, 4288), (10000,))"
      ]
     },
     "execution_count": 34,
     "metadata": {},
     "output_type": "execute_result"
    }
   ],
   "source": [
    "X = pd.concat([pd.get_dummies(df_ratings['movieId']),\n",
    "               pd.get_dummies(df_ratings['userId'])], axis=1)\n",
    "y = df_ratings['rating'] #pd.get_dummies(df_ratings['userId'])\n",
    "X.shape, y.shape"
   ]
  },
  {
   "cell_type": "code",
   "execution_count": 35,
   "metadata": {},
   "outputs": [
    {
     "data": {
      "application/vnd.jupyter.widget-view+json": {
       "model_id": "30d3ca7b62d34fedbddf26bca3dd3c22",
       "version_major": 2,
       "version_minor": 0
      },
      "text/plain": [
       "HBox(children=(FloatProgress(value=0.0, description='Training', layout=Layout(flex='2'), max=20.0, style=Progr…"
      ]
     },
     "metadata": {},
     "output_type": "display_data"
    },
    {
     "name": "stdout",
     "output_type": "stream",
     "text": [
      "\n"
     ]
    },
    {
     "data": {
      "image/png": "[encoded data removed]",
      "text/plain": [
       "<Figure size 432x288 with 1 Axes>"
      ]
     },
     "metadata": {},
     "output_type": "display_data"
    }
   ],
   "source": [
    "layer1 = 10\n",
    "layer2 = 100\n",
    "batch_size = 10\n",
    "model = models.Sequential()\n",
    "model.add(layers.Dense(layer1, input_dim=nmovies+nusers, activation='relu',\n",
    "                       kernel_regularizer=tf.keras.regularizers.l2(0.00001))) # input_shape=(n,nmovies)\n",
    "\n",
    "model.add(layers.Dense(layer2, activation='relu',\n",
    "                       kernel_regularizer=tf.keras.regularizers.l2(0.00001)))\n",
    "#model.add(layers.BatchNormalization())\n",
    "#model.add(layers.Dropout(0.5))\n",
    "\n",
    "model.add(layers.Dense(1))\n",
    "\n",
    "opt = optimizers.RMSprop()\n",
    "\n",
    "model.compile(loss='mean_squared_error',\n",
    "              optimizer=opt,\n",
    "              metrics=['mae'])\n",
    "#model.summary()\n",
    "\n",
    "history = model.fit(X, y,\n",
    "                    shuffle=True,\n",
    "                    epochs=20,\n",
    "                    validation_split=0.15,\n",
    "                    batch_size=batch_size,\n",
    "                    verbose=0,\n",
    "                    callbacks=[tfa.callbacks.TQDMProgressBar(show_epoch_progress=False)]\n",
    "                    )\n",
    "\n",
    "plt.ylabel(\"Rating (0..5.0) MAE\")\n",
    "plt.xlabel(\"Epochs\")\n",
    "accur = history.history['mae']\n",
    "plt.plot(accur, label='train_mae')\n",
    "val_accur = history.history['val_mae']\n",
    "plt.plot(val_accur, label='val_mae')\n",
    "# plt.xlim(0, 200)\n",
    "plt.ylim(0.4, 1.00)\n",
    "plt.legend(loc='lower right')\n",
    "plt.show()"
   ]
  }
 ],
 "metadata": {
  "kernelspec": {
   "display_name": "Python 3",
   "language": "python",
   "name": "python3"
  },
  "language_info": {
   "codemirror_mode": {
    "name": "ipython",
    "version": 3
   },
   "file_extension": ".py",
   "mimetype": "text/x-python",
   "name": "python",
   "nbconvert_exporter": "python",
   "pygments_lexer": "ipython3",
   "version": "3.6.6"
  }
 },
 "nbformat": 4,
 "nbformat_minor": 4
}
