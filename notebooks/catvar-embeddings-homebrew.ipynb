{
 "cells": [
  {
   "cell_type": "markdown",
   "metadata": {},
   "source": [
    "# Embedding sparse vectors into lower-dimensional dense space\n",
    "\n",
    "[![Open In Colab](https://colab.research.google.com/assets/colab-badge.svg)](https://colab.research.google.com/github/parrt/playdl/blob/master/notebooks/catvar-embeddings-homebrew.ipynb)\n",
    "\n",
    "One-hot vectors are simple but the vocabulary size can make word vectors extremely long; high dimensionality. And they are very sparse, mostly zeros.\n",
    "\n",
    "Word embeddings, on the other hand, embed that massive dimensional space into a smaller, dense space. For example, [GloVE](https://nlp.stanford.edu/projects/glove/) has pre-trained word embeddings of various sizes such as 50 and 300 dimensions. Unlike word vectors, we need to do some training to compute embeddings. I've used pre-trained word-to-embedding dictionaries to good effect, but we can also train and embedding specific to our task as part of our model, using an embedding layer.\n",
    "\n",
    "In this notebook, I'm going to explore creating dense vectors for categorical variables."
   ]
  },
  {
   "cell_type": "markdown",
   "metadata": {},
   "source": [
    "## Setup (for use with AWS)"
   ]
  },
  {
   "cell_type": "markdown",
   "metadata": {},
   "source": [
    "Make sure to enable this to see progress bars:\n",
    "\n",
    "```\n",
    "$ conda install nodejs\n",
    "$ jupyter nbextension enable --py widgetsnbextension\n",
    "$ jupyter labextension install @jupyter-widgets/jupyterlab-manager\n",
    "```\n",
    "\n",
    "```\n",
    "pip install -U tensorflow\n",
    "pip install tqdm\n",
    "pip install tensorflow_addons\n",
    "```\n",
    "\n",
    "Start on AWS:\n",
    "\n",
    "```\n",
    "jupyter lab --no-browser --port=8888\n",
    "```\n",
    "\n",
    "Port tunneling to access jupyter on AWS from mac:\n",
    "\n",
    "```\n",
    "ssh -i ~/Dropbox/licenses/parrt.pem -L 8000:localhost:8888 ubuntu@54.151.101.201\n",
    "```\n",
    "\n",
    "Go to [http://localhost:8000?token=1d8158157...](http://localhost:8000) in mac browser"
   ]
  },
  {
   "cell_type": "markdown",
   "metadata": {},
   "source": [
    "## Load movie/user/rating data\n",
    "\n",
    "The [fastai book chapter 8](https://github.com/fastai/fastbook/blob/master/08_collab.ipynb) has an example using user-movie-ratings from [MovieLens](https://grouplens.org/datasets/movielens/) and [Kaggle](https://www.kaggle.com/colinmorris/embedding-layers#Building-a-rating-prediction-model-in-Keras) hasA discussion of how to create embeddings for that data.  I will grab [a small subset](http://files.grouplens.org/datasets/movielens/ml-latest-small.zip) and put into `data` subdir:\n",
    "\n",
    "```\n",
    "data/ml-latest-small\n",
    "├── README.txt\n",
    "├── links.csv\n",
    "├── movies.csv\n",
    "├── ratings.csv\n",
    "└── tags.csv\n",
    "```\n",
    "\n",
    "\"*Ratings are made on a 5-star scale, with half-star increments (0.5 stars - 5.0 stars).*\" The `ratings.csv` file looks like:\n",
    "\n",
    "```\n",
    "userId,movieId,rating,timestamp\n",
    "1,1,4.0,964982703\n",
    "1,3,4.0,964981247\n",
    "1,6,4.0,964982224\n",
    "1,47,5.0,964983815\n",
    "...\n",
    "```\n",
    "\n",
    "And, in case we are curious, `movies.csv` has:\n",
    "\n",
    "```\n",
    "movieId,title,genres\n",
    "1,Toy Story (1995),Adventure|Animation|Children|Comedy|Fantasy\n",
    "2,Jumanji (1995),Adventure|Children|Fantasy\n",
    "3,Grumpier Old Men (1995),Comedy|Romance\n",
    "...\n",
    "```"
   ]
  },
  {
   "cell_type": "code",
   "execution_count": 228,
   "metadata": {},
   "outputs": [
    {
     "data": {
      "text/html": [
       "<div>\n",
       "<style scoped>\n",
       "    .dataframe tbody tr th:only-of-type {\n",
       "        vertical-align: middle;\n",
       "    }\n",
       "\n",
       "    .dataframe tbody tr th {\n",
       "        vertical-align: top;\n",
       "    }\n",
       "\n",
       "    .dataframe thead th {\n",
       "        text-align: right;\n",
       "    }\n",
       "</style>\n",
       "<table border=\"1\" class=\"dataframe\">\n",
       "  <thead>\n",
       "    <tr style=\"text-align: right;\">\n",
       "      <th></th>\n",
       "      <th>userId</th>\n",
       "      <th>movieId</th>\n",
       "      <th>rating</th>\n",
       "      <th>title</th>\n",
       "      <th>genres</th>\n",
       "    </tr>\n",
       "  </thead>\n",
       "  <tbody>\n",
       "    <tr>\n",
       "      <td>0</td>\n",
       "      <td>448</td>\n",
       "      <td>97304</td>\n",
       "      <td>4.0</td>\n",
       "      <td>Argo</td>\n",
       "      <td>Drama|Thriller</td>\n",
       "    </tr>\n",
       "    <tr>\n",
       "      <td>1</td>\n",
       "      <td>610</td>\n",
       "      <td>97304</td>\n",
       "      <td>4.0</td>\n",
       "      <td>Argo</td>\n",
       "      <td>Drama|Thriller</td>\n",
       "    </tr>\n",
       "    <tr>\n",
       "      <td>2</td>\n",
       "      <td>378</td>\n",
       "      <td>97304</td>\n",
       "      <td>3.5</td>\n",
       "      <td>Argo</td>\n",
       "      <td>Drama|Thriller</td>\n",
       "    </tr>\n",
       "    <tr>\n",
       "      <td>3</td>\n",
       "      <td>537</td>\n",
       "      <td>97304</td>\n",
       "      <td>4.5</td>\n",
       "      <td>Argo</td>\n",
       "      <td>Drama|Thriller</td>\n",
       "    </tr>\n",
       "    <tr>\n",
       "      <td>4</td>\n",
       "      <td>522</td>\n",
       "      <td>97304</td>\n",
       "      <td>2.5</td>\n",
       "      <td>Argo</td>\n",
       "      <td>Drama|Thriller</td>\n",
       "    </tr>\n",
       "  </tbody>\n",
       "</table>\n",
       "</div>"
      ],
      "text/plain": [
       "   userId  movieId  rating title          genres\n",
       "0     448    97304     4.0  Argo  Drama|Thriller\n",
       "1     610    97304     4.0  Argo  Drama|Thriller\n",
       "2     378    97304     3.5  Argo  Drama|Thriller\n",
       "3     537    97304     4.5  Argo  Drama|Thriller\n",
       "4     522    97304     2.5  Argo  Drama|Thriller"
      ]
     },
     "execution_count": 228,
     "metadata": {},
     "output_type": "execute_result"
    }
   ],
   "source": [
    "import pandas as pd\n",
    "import numpy as np\n",
    "import re\n",
    "np.set_printoptions(precision=2, suppress=True, linewidth=3000, threshold=20000)\n",
    "\n",
    "def load(n = 10):\n",
    "    df_ratings = pd.read_csv('data/ml-latest-small/ratings.csv')\n",
    "    df_ratings = df_ratings.drop('timestamp', axis=1)\n",
    "    df_ratings = df_ratings.sample(n=n).reset_index(drop=True)\n",
    "    # Merge in the title and genres\n",
    "    df_movies = pd.read_csv('data/ml-latest-small/movies.csv')\n",
    "    df = df_ratings.merge(df_movies, on='movieId')\n",
    "    # Strip the \"(1999)\" dates from the titles\n",
    "    p = re.compile(r'[()0-9]+$')\n",
    "    df['title'] = df['title'].map(lambda x: p.sub('', x).strip())\n",
    "    return df\n",
    "\n",
    "df = load(n=20_000)\n",
    "df.head(5)"
   ]
  },
  {
   "cell_type": "markdown",
   "metadata": {},
   "source": [
    "Let's limit to just comedies and dramas that should be very different semantically"
   ]
  },
  {
   "cell_type": "code",
   "execution_count": 229,
   "metadata": {},
   "outputs": [
    {
     "name": "stdout",
     "output_type": "stream",
     "text": [
      "2721 movies that are Comedy or Drama\n"
     ]
    }
   ],
   "source": [
    "df = df[(df['genres']=='Comedy')|(df['genres']=='Drama')]\n",
    "print(len(df), 'movies that are Comedy or Drama')"
   ]
  },
  {
   "cell_type": "markdown",
   "metadata": {},
   "source": [
    "Rather than deal with arbitrarily large integers representing the various IDs, let's compress that down to unique but adjacent integers. This is also how I would handle string to integer encoding. That function compresses one column at a time and modifies the data frame in place. Compare the movie IDs with the values above. We convert `[3696,  281,  592, 1293, 4446]` to `[4, 1, 2, 3, 5]`:"
   ]
  },
  {
   "cell_type": "code",
   "execution_count": 230,
   "metadata": {},
   "outputs": [
    {
     "data": {
      "text/html": [
       "<div>\n",
       "<style scoped>\n",
       "    .dataframe tbody tr th:only-of-type {\n",
       "        vertical-align: middle;\n",
       "    }\n",
       "\n",
       "    .dataframe tbody tr th {\n",
       "        vertical-align: top;\n",
       "    }\n",
       "\n",
       "    .dataframe thead th {\n",
       "        text-align: right;\n",
       "    }\n",
       "</style>\n",
       "<table border=\"1\" class=\"dataframe\">\n",
       "  <thead>\n",
       "    <tr style=\"text-align: right;\">\n",
       "      <th></th>\n",
       "      <th>userId</th>\n",
       "      <th>movieId</th>\n",
       "      <th>rating</th>\n",
       "      <th>title</th>\n",
       "      <th>genres</th>\n",
       "    </tr>\n",
       "  </thead>\n",
       "  <tbody>\n",
       "    <tr>\n",
       "      <td>102</td>\n",
       "      <td>326</td>\n",
       "      <td>100</td>\n",
       "      <td>3.0</td>\n",
       "      <td>Multiplicity</td>\n",
       "      <td>Comedy</td>\n",
       "    </tr>\n",
       "    <tr>\n",
       "      <td>103</td>\n",
       "      <td>286</td>\n",
       "      <td>100</td>\n",
       "      <td>3.0</td>\n",
       "      <td>Multiplicity</td>\n",
       "      <td>Comedy</td>\n",
       "    </tr>\n",
       "    <tr>\n",
       "      <td>104</td>\n",
       "      <td>309</td>\n",
       "      <td>100</td>\n",
       "      <td>2.0</td>\n",
       "      <td>Multiplicity</td>\n",
       "      <td>Comedy</td>\n",
       "    </tr>\n",
       "  </tbody>\n",
       "</table>\n",
       "</div>"
      ],
      "text/plain": [
       "     userId  movieId  rating         title  genres\n",
       "102     326      100     3.0  Multiplicity  Comedy\n",
       "103     286      100     3.0  Multiplicity  Comedy\n",
       "104     309      100     2.0  Multiplicity  Comedy"
      ]
     },
     "execution_count": 230,
     "metadata": {},
     "output_type": "execute_result"
    }
   ],
   "source": [
    "def compress_cats(df, colname):\n",
    "    df[colname] = df[colname].astype('category').cat.as_ordered()\n",
    "    df[colname] = df[colname].cat.codes + 1 # encode 1..n\n",
    "    \n",
    "compress_cats(df, 'movieId')\n",
    "compress_cats(df, 'userId')\n",
    "df.head(3)"
   ]
  },
  {
   "cell_type": "code",
   "execution_count": 231,
   "metadata": {},
   "outputs": [
    {
     "data": {
      "text/plain": [
       "(931, 931)"
      ]
     },
     "execution_count": 231,
     "metadata": {},
     "output_type": "execute_result"
    }
   ],
   "source": [
    "len(np.unique(df['movieId'])), max(df['movieId'])"
   ]
  },
  {
   "cell_type": "code",
   "execution_count": 232,
   "metadata": {},
   "outputs": [
    {
     "name": "stdout",
     "output_type": "stream",
     "text": [
      "(931, 3)\n"
     ]
    },
    {
     "data": {
      "text/html": [
       "<div>\n",
       "<style scoped>\n",
       "    .dataframe tbody tr th:only-of-type {\n",
       "        vertical-align: middle;\n",
       "    }\n",
       "\n",
       "    .dataframe tbody tr th {\n",
       "        vertical-align: top;\n",
       "    }\n",
       "\n",
       "    .dataframe thead th {\n",
       "        text-align: right;\n",
       "    }\n",
       "</style>\n",
       "<table border=\"1\" class=\"dataframe\">\n",
       "  <thead>\n",
       "    <tr style=\"text-align: right;\">\n",
       "      <th></th>\n",
       "      <th>movieId</th>\n",
       "      <th>title</th>\n",
       "      <th>genres</th>\n",
       "    </tr>\n",
       "  </thead>\n",
       "  <tbody>\n",
       "    <tr>\n",
       "      <td>12779</td>\n",
       "      <td>1</td>\n",
       "      <td>Father of the Bride Part II</td>\n",
       "      <td>Comedy</td>\n",
       "    </tr>\n",
       "    <tr>\n",
       "      <td>19244</td>\n",
       "      <td>2</td>\n",
       "      <td>Nixon</td>\n",
       "      <td>Drama</td>\n",
       "    </tr>\n",
       "    <tr>\n",
       "      <td>9478</td>\n",
       "      <td>3</td>\n",
       "      <td>Four Rooms</td>\n",
       "      <td>Comedy</td>\n",
       "    </tr>\n",
       "  </tbody>\n",
       "</table>\n",
       "</div>"
      ],
      "text/plain": [
       "       movieId                        title  genres\n",
       "12779        1  Father of the Bride Part II  Comedy\n",
       "19244        2                        Nixon   Drama\n",
       "9478         3                   Four Rooms  Comedy"
      ]
     },
     "execution_count": 232,
     "metadata": {},
     "output_type": "execute_result"
    }
   ],
   "source": [
    "# get unique movie ID and title and genres\n",
    "df_movies = df.sort_values('movieId')[['movieId','title','genres']]\n",
    "df_movies = df_movies.drop_duplicates()\n",
    "print(df_movies.shape)\n",
    "df_movies.head(3)"
   ]
  },
  {
   "cell_type": "markdown",
   "metadata": {},
   "source": [
    "## RF baseline using labeling coded movie/user IDs\n",
    "\n",
    " A random forest is easily able to capture the structure in the training data, but not in a general way. The out of bag and validation R^2 scores are terrible, barely better than just guessing the average."
   ]
  },
  {
   "cell_type": "code",
   "execution_count": 233,
   "metadata": {},
   "outputs": [
    {
     "name": "stdout",
     "output_type": "stream",
     "text": [
      "OOB R^2 -0.030\n",
      "Train R^2 0.857\n",
      "Valid R^2 -0.087\n"
     ]
    }
   ],
   "source": [
    "from sklearn.model_selection import train_test_split\n",
    "from sklearn.model_selection import cross_val_score\n",
    "from sklearn.ensemble import RandomForestClassifier, RandomForestRegressor\n",
    "\n",
    "def RF_baseline(df):\n",
    "    X = df[['movieId','userId']]\n",
    "    y = df['rating']\n",
    "    #X_train, X_test, y_train, y_test = train_test_split(X, y, test_size=0.2)\n",
    "\n",
    "    rf = RandomForestRegressor(n_estimators=100, n_jobs=-1, oob_score=True)\n",
    "    rf.fit(X, y)\n",
    "    scores = cross_val_score(rf, X, y, cv=5)\n",
    "    print(f\"OOB R^2 {rf.oob_score_:.3f}\")\n",
    "    print(f\"Train R^2 {rf.score(X, y):.3f}\")\n",
    "    print(f\"Valid R^2 {np.mean(scores):.3f}\")\n",
    "\n",
    "RF_baseline(df)"
   ]
  },
  {
   "cell_type": "markdown",
   "metadata": {},
   "source": [
    "## Getting movie ID dense vectors (embeddings)"
   ]
  },
  {
   "cell_type": "markdown",
   "metadata": {},
   "source": [
    "Ok, Let's try to map both the movie and the user to a rating."
   ]
  },
  {
   "cell_type": "code",
   "execution_count": 234,
   "metadata": {},
   "outputs": [
    {
     "data": {
      "text/plain": [
       "(2721, 434, 931)"
      ]
     },
     "execution_count": 234,
     "metadata": {},
     "output_type": "execute_result"
    }
   ],
   "source": [
    "n = len(df)\n",
    "nusers = len(df.groupby('userId').count())\n",
    "nmovies = len(df.groupby('movieId').count())\n",
    "n, nusers, nmovies"
   ]
  },
  {
   "cell_type": "markdown",
   "metadata": {},
   "source": [
    "The input to the neural network will be one hot encoded movie and user identifiers. The output will also be one hot encoded user IDs, but keras will handle that part for us (we can leave y as a list of integer user IDs)"
   ]
  },
  {
   "cell_type": "code",
   "execution_count": 235,
   "metadata": {},
   "outputs": [
    {
     "data": {
      "text/plain": [
       "((2721, 1365), (2721,))"
      ]
     },
     "execution_count": 235,
     "metadata": {},
     "output_type": "execute_result"
    }
   ],
   "source": [
    "X_onehot = pd.concat([pd.get_dummies(df['movieId']),\n",
    "                      pd.get_dummies(df['userId'])], axis=1)\n",
    "y = df['rating'] #pd.get_dummies(df['userId'])\n",
    "X_onehot.shape, y.shape"
   ]
  },
  {
   "cell_type": "code",
   "execution_count": 236,
   "metadata": {},
   "outputs": [
    {
     "data": {
      "text/html": [
       "<div>\n",
       "<style scoped>\n",
       "    .dataframe tbody tr th:only-of-type {\n",
       "        vertical-align: middle;\n",
       "    }\n",
       "\n",
       "    .dataframe tbody tr th {\n",
       "        vertical-align: top;\n",
       "    }\n",
       "\n",
       "    .dataframe thead th {\n",
       "        text-align: right;\n",
       "    }\n",
       "</style>\n",
       "<table border=\"1\" class=\"dataframe\">\n",
       "  <thead>\n",
       "    <tr style=\"text-align: right;\">\n",
       "      <th></th>\n",
       "      <th>1</th>\n",
       "      <th>2</th>\n",
       "      <th>3</th>\n",
       "      <th>4</th>\n",
       "      <th>5</th>\n",
       "      <th>6</th>\n",
       "      <th>7</th>\n",
       "      <th>8</th>\n",
       "      <th>9</th>\n",
       "      <th>10</th>\n",
       "      <th>...</th>\n",
       "      <th>425</th>\n",
       "      <th>426</th>\n",
       "      <th>427</th>\n",
       "      <th>428</th>\n",
       "      <th>429</th>\n",
       "      <th>430</th>\n",
       "      <th>431</th>\n",
       "      <th>432</th>\n",
       "      <th>433</th>\n",
       "      <th>434</th>\n",
       "    </tr>\n",
       "  </thead>\n",
       "  <tbody>\n",
       "    <tr>\n",
       "      <td>102</td>\n",
       "      <td>0</td>\n",
       "      <td>0</td>\n",
       "      <td>0</td>\n",
       "      <td>0</td>\n",
       "      <td>0</td>\n",
       "      <td>0</td>\n",
       "      <td>0</td>\n",
       "      <td>0</td>\n",
       "      <td>0</td>\n",
       "      <td>0</td>\n",
       "      <td>...</td>\n",
       "      <td>0</td>\n",
       "      <td>0</td>\n",
       "      <td>0</td>\n",
       "      <td>0</td>\n",
       "      <td>0</td>\n",
       "      <td>0</td>\n",
       "      <td>0</td>\n",
       "      <td>0</td>\n",
       "      <td>0</td>\n",
       "      <td>0</td>\n",
       "    </tr>\n",
       "    <tr>\n",
       "      <td>103</td>\n",
       "      <td>0</td>\n",
       "      <td>0</td>\n",
       "      <td>0</td>\n",
       "      <td>0</td>\n",
       "      <td>0</td>\n",
       "      <td>0</td>\n",
       "      <td>0</td>\n",
       "      <td>0</td>\n",
       "      <td>0</td>\n",
       "      <td>0</td>\n",
       "      <td>...</td>\n",
       "      <td>0</td>\n",
       "      <td>0</td>\n",
       "      <td>0</td>\n",
       "      <td>0</td>\n",
       "      <td>0</td>\n",
       "      <td>0</td>\n",
       "      <td>0</td>\n",
       "      <td>0</td>\n",
       "      <td>0</td>\n",
       "      <td>0</td>\n",
       "    </tr>\n",
       "    <tr>\n",
       "      <td>104</td>\n",
       "      <td>0</td>\n",
       "      <td>0</td>\n",
       "      <td>0</td>\n",
       "      <td>0</td>\n",
       "      <td>0</td>\n",
       "      <td>0</td>\n",
       "      <td>0</td>\n",
       "      <td>0</td>\n",
       "      <td>0</td>\n",
       "      <td>0</td>\n",
       "      <td>...</td>\n",
       "      <td>0</td>\n",
       "      <td>0</td>\n",
       "      <td>0</td>\n",
       "      <td>0</td>\n",
       "      <td>0</td>\n",
       "      <td>0</td>\n",
       "      <td>0</td>\n",
       "      <td>0</td>\n",
       "      <td>0</td>\n",
       "      <td>0</td>\n",
       "    </tr>\n",
       "  </tbody>\n",
       "</table>\n",
       "<p>3 rows × 1365 columns</p>\n",
       "</div>"
      ],
      "text/plain": [
       "     1    2    3    4    5    6    7    8    9    10   ...  425  426  427  \\\n",
       "102    0    0    0    0    0    0    0    0    0    0  ...    0    0    0   \n",
       "103    0    0    0    0    0    0    0    0    0    0  ...    0    0    0   \n",
       "104    0    0    0    0    0    0    0    0    0    0  ...    0    0    0   \n",
       "\n",
       "     428  429  430  431  432  433  434  \n",
       "102    0    0    0    0    0    0    0  \n",
       "103    0    0    0    0    0    0    0  \n",
       "104    0    0    0    0    0    0    0  \n",
       "\n",
       "[3 rows x 1365 columns]"
      ]
     },
     "execution_count": 236,
     "metadata": {},
     "output_type": "execute_result"
    }
   ],
   "source": [
    "X_onehot.head(3)"
   ]
  },
  {
   "cell_type": "code",
   "execution_count": 237,
   "metadata": {},
   "outputs": [
    {
     "data": {
      "text/plain": [
       "array([3. , 3. , 2. , 3. , 2. , 1. , 2.5, 3. , 3.5, 3. ])"
      ]
     },
     "execution_count": 237,
     "metadata": {},
     "output_type": "execute_result"
    }
   ],
   "source": [
    "y.values[0:10]"
   ]
  },
  {
   "cell_type": "markdown",
   "metadata": {},
   "source": [
    "### Training a simple pipeline network"
   ]
  },
  {
   "cell_type": "markdown",
   "metadata": {},
   "source": [
    "We are trying to map a sparse movie and user ID vector to a dense vector of say `dimensionality`=8, 10, or 20 dimensions. To do that, we use the first layer of a network that has `dimensionality` neurons. Each neuron will contribute a single dimension to each dense vector. The input X has, say, 10,000 rows, one for each one hot movie ID. It has nmovies columns. If there are 10 movies, there are 10 possible positions in the one hot encoding. The first layer is a transformation from nmovies+nusers space to `dimensionality` space. The key is that we want to choke that first layer into just a few neurons and then have a big layer afterwards that tries to make sense of those new compressed features. We don't care about the prediction at the end, we are just going to take the weights out of the first layer to get the embeddings."
   ]
  },
  {
   "cell_type": "code",
   "execution_count": 240,
   "metadata": {},
   "outputs": [],
   "source": [
    "from tensorflow.keras import models, layers, callbacks, optimizers\n",
    "import tensorflow_addons as tfa\n",
    "from sklearn.metrics import accuracy_score, r2_score, mean_absolute_error, mean_squared_error\n",
    "\n",
    "def train(df,\n",
    "          dimensionality = 8,\n",
    "          otherlayers = (100,),\n",
    "          batch_size = 10,\n",
    "          epochs = 20,\n",
    "          batchnorm = False,\n",
    "          dropout = 0):\n",
    "    # Everybody get one hot!\n",
    "    nusers = len(df.groupby('userId').count())\n",
    "    nmovies = len(df.groupby('movieId').count())\n",
    "    X_onehot = pd.concat([pd.get_dummies(df['movieId']),\n",
    "                          pd.get_dummies(df['userId'])], axis=1)\n",
    "    y = df['rating']\n",
    "\n",
    "    layer1 = dimensionality\n",
    "    model = models.Sequential()\n",
    "    model.add(layers.Dense(layer1, input_dim=nmovies+nusers, activation='relu',\n",
    "                           name='embedding'))\n",
    "    for n_hidden in otherlayers:\n",
    "        model.add(layers.Dense(n_hidden, activation='relu'))\n",
    "        if batchnorm:\n",
    "            model.add(layers.BatchNormalization())\n",
    "        model.add(layers.Dropout(dropout))\n",
    "\n",
    "    model.add(layers.Dense(1))\n",
    "    model.compile(loss='mean_squared_error',\n",
    "                  optimizer=optimizers.RMSprop(),\n",
    "                  metrics=['mae'])\n",
    "    #print(model.summary())\n",
    "\n",
    "    history = model.fit(X_onehot, y,\n",
    "                        shuffle=True,\n",
    "                        epochs=epochs,\n",
    "                        validation_split=0.15,\n",
    "                        batch_size=batch_size,\n",
    "                        verbose=0,\n",
    "                        callbacks=[tfa.callbacks.TQDMProgressBar(show_epoch_progress=False)]\n",
    "                        )\n",
    "    return model, history"
   ]
  },
  {
   "cell_type": "code",
   "execution_count": 241,
   "metadata": {},
   "outputs": [
    {
     "data": {
      "application/vnd.jupyter.widget-view+json": {
       "model_id": "f5121d07686146ebbaca81813fbf93b6",
       "version_major": 2,
       "version_minor": 0
      },
      "text/plain": [
       "HBox(children=(FloatProgress(value=0.0, description='Training', layout=Layout(flex='2'), max=20.0, style=Progr…"
      ]
     },
     "metadata": {},
     "output_type": "display_data"
    },
    {
     "name": "stdout",
     "output_type": "stream",
     "text": [
      "\n"
     ]
    }
   ],
   "source": [
    "model, history = train(df)"
   ]
  },
  {
   "cell_type": "code",
   "execution_count": 74,
   "metadata": {},
   "outputs": [
    {
     "data": {
      "image/png": "[encoded data removed]",
      "text/plain": [
       "<Figure size 252x216 with 1 Axes>"
      ]
     },
     "metadata": {
      "needs_background": "light"
     },
     "output_type": "display_data"
    }
   ],
   "source": [
    "import matplotlib.pyplot as plt\n",
    "def plot_history(history):\n",
    "    plt.figure(figsize=(3.5,3))\n",
    "    plt.ylabel(\"Rating (0..5.0) MAE\")\n",
    "    plt.xlabel(\"Epochs\")\n",
    "    accur = history.history['mae']\n",
    "    plt.plot(accur, label='train_mae')\n",
    "    val_accur = history.history['val_mae']\n",
    "    plt.plot(val_accur, label='val_mae')\n",
    "    # plt.xlim(0, 200)\n",
    "    plt.ylim(0.0, 1.00)\n",
    "    plt.legend(loc='lower right')\n",
    "    plt.show()\n",
    "    \n",
    "plot_history(history)"
   ]
  },
  {
   "cell_type": "markdown",
   "metadata": {},
   "source": [
    "Validation error is not good (.8 stars off out of 5), but [Oliver](http://www.zeigermann.eu/) says we care about training error for getting embeddings since we won't be using the predictions.  In his example, he only has about 10% accuracy so I'm going to consider this accuracy pretty good."
   ]
  },
  {
   "cell_type": "markdown",
   "metadata": {},
   "source": [
    "### Getting the embeddings out of the network\n",
    "\n",
    "\n",
    "[Here](https://djcordhose.github.io/ml-workshop/2019-embeddings.html#/17), Oliver explains how to get the embeddings out. These are the outputs from the first constrained layer. I'm going to simply ask for the weights and the biases then manually get the embedding vectors, rather than create a model just to get the output transformation:"
   ]
  },
  {
   "cell_type": "code",
   "execution_count": 14,
   "metadata": {},
   "outputs": [
    {
     "data": {
      "text/plain": [
       "((1376, 8), (8,))"
      ]
     },
     "execution_count": 14,
     "metadata": {},
     "output_type": "execute_result"
    }
   ],
   "source": [
    "embedding_layer = model.get_layer('embedding')\n",
    "w, b = embedding_layer.get_weights()\n",
    "w.shape, b.shape"
   ]
  },
  {
   "cell_type": "markdown",
   "metadata": {},
   "source": [
    "First, let's take a look at the shape of the matrix. The shape of the weight matrix is the transpose of what I would expect. For example, I like the convention of a row being the weights of a single neuron. Since I have `dimensionality` neurons, I would expect `dimensionality` rows, but still we can just reverse the operands of the dot product. We have a complication here in that the movie and user IDs were concatenated together. For example, we created one hot vectors for the movie and user IDs of each record.  Here is the code again and the shape of one record, `x`, from `X`:"
   ]
  },
  {
   "cell_type": "code",
   "execution_count": 15,
   "metadata": {},
   "outputs": [
    {
     "data": {
      "text/plain": [
       "(1376,)"
      ]
     },
     "execution_count": 15,
     "metadata": {},
     "output_type": "execute_result"
    }
   ],
   "source": [
    "X = pd.concat([pd.get_dummies(df['movieId']),\n",
    "               pd.get_dummies(df['userId'])], axis=1)\n",
    "x = X.iloc[99] # Grab some random record\n",
    "x.shape"
   ]
  },
  {
   "cell_type": "markdown",
   "metadata": {},
   "source": [
    "The following gives us the output of the embedding layer using the standard matrix notation for what a dense layer computes (without the ReLu activation function):"
   ]
  },
  {
   "cell_type": "code",
   "execution_count": 16,
   "metadata": {},
   "outputs": [
    {
     "data": {
      "text/plain": [
       "array([0.24, 0.13, 0.13, 0.05, 0.12, 0.08, 0.08, 0.19], dtype=float32)"
      ]
     },
     "execution_count": 16,
     "metadata": {},
     "output_type": "execute_result"
    }
   ],
   "source": [
    "np.dot(w.T,x) + b  # flip w so it is neurons x input dims (as I'm used to)\n",
    "np.dot(x,w) + b "
   ]
  },
  {
   "cell_type": "markdown",
   "metadata": {},
   "source": [
    "**Note**: The dot product is really just selecting the ith and jth row of w for one-hot turned on at positions i and j (for movie and user).  A row in w (in keras) is the set of weights across neurons for a particular feature, a (compressed) movie&user ID in our case. That gives us a vector in `dimensionality`-space where each dimension is some semantic meaning we got from a neuron. Because two of the input columns for a record will be turned on, that means the dot product is selecting two rows and adding them together. We should get the same answer by doing pulling the vectors out and adding the bias manually, which will be much faster:"
   ]
  },
  {
   "cell_type": "code",
   "execution_count": 17,
   "metadata": {},
   "outputs": [
    {
     "data": {
      "text/plain": [
       "array([306, 982])"
      ]
     },
     "execution_count": 17,
     "metadata": {},
     "output_type": "execute_result"
    }
   ],
   "source": [
    "# Where are the one hots on?  It reminds me I need to add nmovies to get to the second one hot index\n",
    "np.where(x==1)[0]"
   ]
  },
  {
   "cell_type": "code",
   "execution_count": 18,
   "metadata": {},
   "outputs": [],
   "source": [
    "mi = df.iloc[99]['movieId']\n",
    "ui = df.iloc[99]['userId']\n",
    "mi = mi-1\n",
    "ui = nmovies+ui-1"
   ]
  },
  {
   "cell_type": "markdown",
   "metadata": {},
   "source": [
    "So the following demonstrates we can get the exact same embedding vector by selecting rows and adding the bias:"
   ]
  },
  {
   "cell_type": "code",
   "execution_count": 19,
   "metadata": {},
   "outputs": [
    {
     "data": {
      "text/plain": [
       "array([0.24, 0.13, 0.13, 0.05, 0.12, 0.08, 0.08, 0.19], dtype=float32)"
      ]
     },
     "execution_count": 19,
     "metadata": {},
     "output_type": "execute_result"
    }
   ],
   "source": [
    "w[mi] + w[ui] + b"
   ]
  },
  {
   "cell_type": "markdown",
   "metadata": {},
   "source": [
    "If we want just the embedding for a movie we will have to be satisfied with `w[mi]` or perhaps I can try `w[mi]+b`. To get all of the movie embeddings we get the first nmovies rows of the weight matrix:"
   ]
  },
  {
   "cell_type": "code",
   "execution_count": 20,
   "metadata": {},
   "outputs": [
    {
     "name": "stdout",
     "output_type": "stream",
     "text": [
      "For each of 953 movies we have a vector of size 8\n",
      "Example embedding: [-0.0071590343, 0.06793967, 0.034765586, -0.08924115, -0.004593617, -0.10015657, 0.019363439, 2.7677015e-05]\n"
     ]
    }
   ],
   "source": [
    "movie_embeddings = w[0:nmovies]\n",
    "print(f\"For each of {movie_embeddings.shape[0]} movies we have a vector of size {movie_embeddings.shape[1]}\")\n",
    "print(f\"Example embedding: {list(movie_embeddings[0])}\")"
   ]
  },
  {
   "cell_type": "markdown",
   "metadata": {},
   "source": [
    "## PCA projection of comedy and drama"
   ]
  },
  {
   "cell_type": "code",
   "execution_count": 21,
   "metadata": {},
   "outputs": [],
   "source": [
    "from sklearn.decomposition import PCA\n",
    "\n",
    "def plot_embeddings(df_movies, movie_embeddings, xrange=(-.3,.3), yrange=(-.15,.15)):\n",
    "    plt.figure(figsize=(5,5))\n",
    "    movieIds = df_movies['movieId'].values\n",
    "    genres = df_movies['genres'].values\n",
    "    titles = df_movies['title'].values\n",
    "    pca = PCA(n_components=2)\n",
    "    vecs2D = pca.fit_transform(movie_embeddings)\n",
    "    c = [('k' if 'Comedy' in genres[i] else 'r') for i in range(len(vecs2D))]\n",
    "    plt.scatter(vecs2D[:,0], vecs2D[:,1], c=c, s=5)\n",
    "    plt.xlim(*xrange)\n",
    "    plt.ylim(*yrange)\n",
    "    plt.show()"
   ]
  },
  {
   "cell_type": "code",
   "execution_count": 22,
   "metadata": {},
   "outputs": [
    {
     "data": {
      "image/png": "[encoded data removed]",
      "text/plain": [
       "<Figure size 360x360 with 1 Axes>"
      ]
     },
     "metadata": {
      "needs_background": "light"
     },
     "output_type": "display_data"
    }
   ],
   "source": [
    "plot_embeddings(df_movies, movie_embeddings)"
   ]
  },
  {
   "cell_type": "markdown",
   "metadata": {},
   "source": [
    "It doesn't look super separated, but the red comedy dots are perhaps shifted to the left."
   ]
  },
  {
   "cell_type": "markdown",
   "metadata": {},
   "source": [
    "## RF accuracy with embeddings"
   ]
  },
  {
   "cell_type": "code",
   "execution_count": 23,
   "metadata": {},
   "outputs": [
    {
     "name": "stdout",
     "output_type": "stream",
     "text": [
      "OOB R^2 0.252\n",
      "Train R^2 0.896\n",
      "5-fold valid R^2 0.277\n"
     ]
    }
   ],
   "source": [
    "def RF_onehot(df, movie_embeddings):\n",
    "    X = df[['movieId','userId']]\n",
    "    y = df['rating']\n",
    "    X_emb = np.concatenate([movie_embeddings[X['movieId']-1],movie_embeddings[X['userId']-1]], axis=1)\n",
    "#     X_train, X_test, y_train, y_test = train_test_split(X_emb, y, test_size=0.2)\n",
    "\n",
    "    rf = RandomForestRegressor(n_estimators=100, n_jobs=-1, oob_score=True)\n",
    "    rf.fit(X_emb, y)\n",
    "    scores = cross_val_score(rf, X_emb, y, cv=5)\n",
    "    print(f\"OOB R^2 {rf.oob_score_:.3f}\")\n",
    "    print(f\"Train R^2 {rf.score(X_emb, y):.3f}\")\n",
    "    print(f\"5-fold valid R^2 {np.mean(scores):.3f}\")\n",
    "\n",
    "RF_onehot(df, movie_embeddings)"
   ]
  },
  {
   "cell_type": "markdown",
   "metadata": {},
   "source": [
    "Heh, Cool! The validation accuracy (R^2) has gone from guessing to something much better than random guessing."
   ]
  },
  {
   "cell_type": "markdown",
   "metadata": {},
   "source": [
    "## The effect of training on embeddings"
   ]
  },
  {
   "cell_type": "markdown",
   "metadata": {},
   "source": [
    "### Small sample\n",
    "\n",
    "Interesting. A sample of size 5000 gets about the same validation error using a random forest and these embeddings."
   ]
  },
  {
   "cell_type": "code",
   "execution_count": 24,
   "metadata": {},
   "outputs": [],
   "source": [
    "df = load(n=5_000)\n",
    "df = df[(df['genres']=='Comedy')|(df['genres']=='Drama')]\n",
    "nmovies = len(df.groupby('movieId').count())\n",
    "compress_cats(df, 'movieId')\n",
    "compress_cats(df, 'userId')"
   ]
  },
  {
   "cell_type": "code",
   "execution_count": 25,
   "metadata": {},
   "outputs": [],
   "source": [
    "# get unique movie ID and title and genres\n",
    "df_movies = df.sort_values('movieId')[['movieId','title','genres']]\n",
    "df_movies = df_movies.drop_duplicates()"
   ]
  },
  {
   "cell_type": "code",
   "execution_count": 26,
   "metadata": {},
   "outputs": [
    {
     "name": "stdout",
     "output_type": "stream",
     "text": [
      "OOB R^2 -0.030\n",
      "Train R^2 0.858\n",
      "Valid R^2 -0.067\n"
     ]
    }
   ],
   "source": [
    "RF_baseline(df)"
   ]
  },
  {
   "cell_type": "code",
   "execution_count": 27,
   "metadata": {},
   "outputs": [
    {
     "data": {
      "application/vnd.jupyter.widget-view+json": {
       "model_id": "974ad733e1644ff78a0d15a245ff569b",
       "version_major": 2,
       "version_minor": 0
      },
      "text/plain": [
       "HBox(children=(FloatProgress(value=0.0, description='Training', layout=Layout(flex='2'), max=20.0, style=Progr…"
      ]
     },
     "metadata": {},
     "output_type": "display_data"
    },
    {
     "name": "stdout",
     "output_type": "stream",
     "text": [
      "\n"
     ]
    },
    {
     "data": {
      "image/png": "[encoded data removed]",
      "text/plain": [
       "<Figure size 252x216 with 1 Axes>"
      ]
     },
     "metadata": {
      "needs_background": "light"
     },
     "output_type": "display_data"
    }
   ],
   "source": [
    "model, history = train(df)\n",
    "plot_history(history)"
   ]
  },
  {
   "cell_type": "code",
   "execution_count": 28,
   "metadata": {},
   "outputs": [],
   "source": [
    "embedding_layer = model.get_layer('embedding')\n",
    "w, b = embedding_layer.get_weights()\n",
    "movie_embeddings = w[0:nmovies]"
   ]
  },
  {
   "cell_type": "code",
   "execution_count": 29,
   "metadata": {},
   "outputs": [
    {
     "data": {
      "image/png": "[encoded data removed]",
      "text/plain": [
       "<Figure size 360x360 with 1 Axes>"
      ]
     },
     "metadata": {
      "needs_background": "light"
     },
     "output_type": "display_data"
    }
   ],
   "source": [
    "plot_embeddings(df_movies, movie_embeddings)"
   ]
  },
  {
   "cell_type": "code",
   "execution_count": 30,
   "metadata": {},
   "outputs": [],
   "source": [
    "embedding_layer = model.get_layer('embedding')\n",
    "w, b = embedding_layer.get_weights()\n",
    "movie_embeddings = w[0:nmovies]"
   ]
  },
  {
   "cell_type": "code",
   "execution_count": 31,
   "metadata": {},
   "outputs": [
    {
     "name": "stdout",
     "output_type": "stream",
     "text": [
      "OOB R^2 0.262\n",
      "Train R^2 0.896\n",
      "5-fold valid R^2 0.303\n"
     ]
    }
   ],
   "source": [
    "RF_onehot(df, movie_embeddings)"
   ]
  },
  {
   "cell_type": "markdown",
   "metadata": {},
   "source": [
    "Weird, are these a little bit better than the 20k record sample?"
   ]
  },
  {
   "cell_type": "markdown",
   "metadata": {},
   "source": [
    "### Big sample\n",
    "\n",
    "Interesting. Most of the data (100,000) gets about the same validation error using a random forest and these embeddings as the other samples but the PCA looks more separated."
   ]
  },
  {
   "cell_type": "code",
   "execution_count": 404,
   "metadata": {},
   "outputs": [],
   "source": [
    "df = load(n=100_000)\n",
    "df = df[(df['genres']=='Comedy')|(df['genres']=='Drama')]\n",
    "nmovies = len(df.groupby('movieId').count())\n",
    "compress_cats(df, 'movieId')\n",
    "compress_cats(df, 'userId')"
   ]
  },
  {
   "cell_type": "code",
   "execution_count": 405,
   "metadata": {},
   "outputs": [],
   "source": [
    "# get unique movie ID and title and genres\n",
    "df_movies = df.sort_values('movieId')[['movieId','title','genres']]\n",
    "df_movies = df_movies.drop_duplicates()"
   ]
  },
  {
   "cell_type": "code",
   "execution_count": 34,
   "metadata": {},
   "outputs": [
    {
     "name": "stdout",
     "output_type": "stream",
     "text": [
      "OOB R^2 0.049\n",
      "Train R^2 0.868\n",
      "Valid R^2 -0.064\n"
     ]
    }
   ],
   "source": [
    "RF_baseline(df)"
   ]
  },
  {
   "cell_type": "code",
   "execution_count": 406,
   "metadata": {},
   "outputs": [
    {
     "data": {
      "application/vnd.jupyter.widget-view+json": {
       "model_id": "64eb1cafc605425c8608ffba1b0c4e3b",
       "version_major": 2,
       "version_minor": 0
      },
      "text/plain": [
       "HBox(children=(FloatProgress(value=0.0, description='Training', layout=Layout(flex='2'), max=20.0, style=Progr…"
      ]
     },
     "metadata": {},
     "output_type": "display_data"
    },
    {
     "name": "stdout",
     "output_type": "stream",
     "text": [
      "\n"
     ]
    },
    {
     "data": {
      "image/png": "[encoded data removed]",
      "text/plain": [
       "<Figure size 252x216 with 1 Axes>"
      ]
     },
     "metadata": {
      "needs_background": "light"
     },
     "output_type": "display_data"
    }
   ],
   "source": [
    "model, history = train(df)\n",
    "plot_history(history)"
   ]
  },
  {
   "cell_type": "code",
   "execution_count": 407,
   "metadata": {},
   "outputs": [],
   "source": [
    "embedding_layer = model.get_layer('embedding')\n",
    "w, b = embedding_layer.get_weights()\n",
    "movie_embeddings = w[0:nmovies]"
   ]
  },
  {
   "cell_type": "code",
   "execution_count": 408,
   "metadata": {},
   "outputs": [
    {
     "data": {
      "image/png": "[encoded data removed]",
      "text/plain": [
       "<Figure size 360x360 with 1 Axes>"
      ]
     },
     "metadata": {
      "needs_background": "light"
     },
     "output_type": "display_data"
    }
   ],
   "source": [
    "plot_embeddings(df_movies, movie_embeddings, xrange=(-.7,.8), yrange=(-.2,.2))"
   ]
  },
  {
   "cell_type": "markdown",
   "metadata": {},
   "source": [
    "Now that is starting to separate!"
   ]
  },
  {
   "cell_type": "code",
   "execution_count": 409,
   "metadata": {},
   "outputs": [
    {
     "name": "stdout",
     "output_type": "stream",
     "text": [
      "OOB R^2 0.287\n",
      "Train R^2 0.902\n",
      "5-fold valid R^2 0.249\n"
     ]
    }
   ],
   "source": [
    "RF_onehot(df, movie_embeddings)"
   ]
  },
  {
   "cell_type": "markdown",
   "metadata": {},
   "source": [
    "### Add bias to movie encoding\n",
    "\n",
    "Previously we did not add the bias to the weight matrix. Let's go back to 20,000 records and see what happens if we had the bias."
   ]
  },
  {
   "cell_type": "code",
   "execution_count": 39,
   "metadata": {},
   "outputs": [],
   "source": [
    "df = load(n=20_000)\n",
    "df = df[(df['genres']=='Comedy')|(df['genres']=='Drama')]\n",
    "nmovies = len(df.groupby('movieId').count())\n",
    "compress_cats(df, 'movieId')\n",
    "compress_cats(df, 'userId')"
   ]
  },
  {
   "cell_type": "code",
   "execution_count": 40,
   "metadata": {},
   "outputs": [],
   "source": [
    "# get unique movie ID and title and genres\n",
    "df_movies = df.sort_values('movieId')[['movieId','title','genres']]\n",
    "df_movies = df_movies.drop_duplicates()"
   ]
  },
  {
   "cell_type": "code",
   "execution_count": 41,
   "metadata": {},
   "outputs": [
    {
     "name": "stdout",
     "output_type": "stream",
     "text": [
      "OOB R^2 -0.036\n",
      "Train R^2 0.857\n",
      "Valid R^2 -0.119\n"
     ]
    }
   ],
   "source": [
    "RF_baseline(df)"
   ]
  },
  {
   "cell_type": "code",
   "execution_count": 42,
   "metadata": {},
   "outputs": [
    {
     "data": {
      "application/vnd.jupyter.widget-view+json": {
       "model_id": "7526324390cf44e6b2d53da5b399d042",
       "version_major": 2,
       "version_minor": 0
      },
      "text/plain": [
       "HBox(children=(FloatProgress(value=0.0, description='Training', layout=Layout(flex='2'), max=20.0, style=Progr…"
      ]
     },
     "metadata": {},
     "output_type": "display_data"
    },
    {
     "name": "stdout",
     "output_type": "stream",
     "text": [
      "\n"
     ]
    }
   ],
   "source": [
    "model, history = train(df)"
   ]
  },
  {
   "cell_type": "code",
   "execution_count": 59,
   "metadata": {},
   "outputs": [],
   "source": [
    "embedding_layer = model.get_layer('embedding')\n",
    "w, b = embedding_layer.get_weights()\n",
    "movie_embeddings = w[0:nmovies] + b  # <------------- Here is the only difference this section (add bias)"
   ]
  },
  {
   "cell_type": "code",
   "execution_count": 60,
   "metadata": {},
   "outputs": [
    {
     "name": "stdout",
     "output_type": "stream",
     "text": [
      "OOB R^2 0.275\n",
      "Train R^2 0.901\n",
      "5-fold valid R^2 0.268\n"
     ]
    }
   ],
   "source": [
    "RF_onehot(df, movie_embeddings)"
   ]
  },
  {
   "cell_type": "markdown",
   "metadata": {},
   "source": [
    "The bias does not seem to make any difference at all, at least for this network model where I concatenated the movie and user IDs. Come to think of it, why would adding a bias change anything because we are adding the same bias to every embedding. Certainly it would affect the layers downstream in the network during training and for prediction, but I'm not sure we need to add the bias to get the embeddings."
   ]
  },
  {
   "cell_type": "markdown",
   "metadata": {},
   "source": [
    "### Increase embedding dimensionality\n",
    "\n",
    "We used dimensionality of 8 earlier, so let's try bumping that up. Bumped it up to 64 and it didn't seem to change much."
   ]
  },
  {
   "cell_type": "code",
   "execution_count": 46,
   "metadata": {},
   "outputs": [],
   "source": [
    "df = load(n=20_000)\n",
    "df = df[(df['genres']=='Comedy')|(df['genres']=='Drama')]\n",
    "nmovies = len(df.groupby('movieId').count())\n",
    "compress_cats(df, 'movieId')\n",
    "compress_cats(df, 'userId')"
   ]
  },
  {
   "cell_type": "code",
   "execution_count": 47,
   "metadata": {},
   "outputs": [],
   "source": [
    "# get unique movie ID and title and genres\n",
    "df_movies = df.sort_values('movieId')[['movieId','title','genres']]\n",
    "df_movies = df_movies.drop_duplicates()"
   ]
  },
  {
   "cell_type": "code",
   "execution_count": 48,
   "metadata": {},
   "outputs": [
    {
     "name": "stdout",
     "output_type": "stream",
     "text": [
      "OOB R^2 0.024\n",
      "Train R^2 0.865\n",
      "Valid R^2 -0.048\n"
     ]
    }
   ],
   "source": [
    "RF_baseline(df)"
   ]
  },
  {
   "cell_type": "code",
   "execution_count": 67,
   "metadata": {},
   "outputs": [
    {
     "data": {
      "application/vnd.jupyter.widget-view+json": {
       "model_id": "32f50b9fe347448a9e62291764ed0c1d",
       "version_major": 2,
       "version_minor": 0
      },
      "text/plain": [
       "HBox(children=(FloatProgress(value=0.0, description='Training', layout=Layout(flex='2'), max=20.0, style=Progr…"
      ]
     },
     "metadata": {},
     "output_type": "display_data"
    },
    {
     "name": "stdout",
     "output_type": "stream",
     "text": [
      "\n"
     ]
    }
   ],
   "source": [
    "model, history = train(df, dimensionality=16)"
   ]
  },
  {
   "cell_type": "code",
   "execution_count": 68,
   "metadata": {},
   "outputs": [],
   "source": [
    "embedding_layer = model.get_layer('embedding')\n",
    "w, b = embedding_layer.get_weights()\n",
    "movie_embeddings = w[0:nmovies]"
   ]
  },
  {
   "cell_type": "code",
   "execution_count": 73,
   "metadata": {},
   "outputs": [
    {
     "name": "stdout",
     "output_type": "stream",
     "text": [
      "OOB R^2 0.274\n",
      "Train R^2 0.899\n",
      "5-fold valid R^2 0.280\n"
     ]
    }
   ],
   "source": [
    "# These numbers seem to bounce around a lot due to cross validation selections\n",
    "RF_onehot(df, movie_embeddings)"
   ]
  },
  {
   "cell_type": "markdown",
   "metadata": {},
   "source": [
    "### Play with training and validation accuracy from network itself\n",
    "\n",
    "Training MAE only gets down to about 0.4 an validation error at 20 epochs is about 1.0, so let's try to improve that and see what effect it has.\n",
    "\n",
    "* Going to 50 epochs did not change much\n",
    "* Going to 1000 in the second layer, 50 epochs: dropped accuracy in half for 5-fold cross validation\n",
    "* 20 epochs, 100 in second layer, with batch normalization: dropped accuracy\n",
    "* 20 epochs, 100 in second layer, without batch normalization and dropout of 0.2 - 0.5: no significant change (adding batch normalization seems to hurt it at 0.3 drop out)\n",
    "* Increasing the number of epochs hurts validation score, improves training score and hurts the RF validation score using the embeddings; maybe validation score matters?\n",
    "* Above 50ish, the batch size starts to hurt RF validation scores\n",
    "* Interesting. Dropping from 100 to 32 and the hidden layer seems to slightly improve the score\n",
    "* Adding 32 and 4-sized layers after the embedding layer improves things so we are at about .3 MAE with the random forest validation; PCA looks to be separating more. Cranking up the number of epochs, starts to hurt the validation score badly and the random forest validation. 20 seems to be the right number of epochs\n",
    "* otherlayers=(32,4,4) seems to give a slight improvement\n",
    "* Wow. dimensionality=4 works well too with otherlayers=(32,4,4) and epochs=20"
   ]
  },
  {
   "cell_type": "code",
   "execution_count": 79,
   "metadata": {},
   "outputs": [],
   "source": [
    "df = load(n=20_000)\n",
    "df = df[(df['genres']=='Comedy')|(df['genres']=='Drama')]\n",
    "nmovies = len(df.groupby('movieId').count())\n",
    "compress_cats(df, 'movieId')\n",
    "compress_cats(df, 'userId')"
   ]
  },
  {
   "cell_type": "code",
   "execution_count": 80,
   "metadata": {},
   "outputs": [],
   "source": [
    "# get unique movie ID and title and genres\n",
    "df_movies = df.sort_values('movieId')[['movieId','title','genres']]\n",
    "df_movies = df_movies.drop_duplicates()"
   ]
  },
  {
   "cell_type": "code",
   "execution_count": 387,
   "metadata": {},
   "outputs": [
    {
     "data": {
      "application/vnd.jupyter.widget-view+json": {
       "model_id": "c39b65bb0d7c41eaabfd35ea17eba4c2",
       "version_major": 2,
       "version_minor": 0
      },
      "text/plain": [
       "HBox(children=(FloatProgress(value=0.0, description='Training', layout=Layout(flex='2'), max=20.0, style=Progr…"
      ]
     },
     "metadata": {},
     "output_type": "display_data"
    },
    {
     "name": "stdout",
     "output_type": "stream",
     "text": [
      "\n"
     ]
    },
    {
     "data": {
      "image/png": "[encoded data removed]",
      "text/plain": [
       "<Figure size 252x216 with 1 Axes>"
      ]
     },
     "metadata": {
      "needs_background": "light"
     },
     "output_type": "display_data"
    }
   ],
   "source": [
    "model, history = train(df, epochs=20, dimensionality=8,\n",
    "                       otherlayers=(32,4,4),\n",
    "                       batchnorm=False, dropout=0.0, batch_size=30)\n",
    "plot_history(history)"
   ]
  },
  {
   "cell_type": "code",
   "execution_count": 388,
   "metadata": {},
   "outputs": [],
   "source": [
    "embedding_layer = model.get_layer('embedding')\n",
    "w, b = embedding_layer.get_weights()\n",
    "movie_embeddings = w[0:nmovies]"
   ]
  },
  {
   "cell_type": "code",
   "execution_count": 389,
   "metadata": {},
   "outputs": [
    {
     "data": {
      "image/png": "[encoded data removed]",
      "text/plain": [
       "<Figure size 360x360 with 1 Axes>"
      ]
     },
     "metadata": {
      "needs_background": "light"
     },
     "output_type": "display_data"
    }
   ],
   "source": [
    "plot_embeddings(df_movies, movie_embeddings, xrange=(-.7,.8), yrange=(-.2,.2))"
   ]
  },
  {
   "cell_type": "code",
   "execution_count": 390,
   "metadata": {},
   "outputs": [
    {
     "name": "stdout",
     "output_type": "stream",
     "text": [
      "OOB R^2 0.302\n",
      "Train R^2 0.904\n",
      "5-fold valid R^2 0.303\n"
     ]
    }
   ],
   "source": [
    "RF_onehot(df, movie_embeddings)"
   ]
  },
  {
   "cell_type": "markdown",
   "metadata": {},
   "source": [
    "## t-SNE (t-distributed stochastic neighbor embedding)"
   ]
  },
  {
   "cell_type": "code",
   "execution_count": 402,
   "metadata": {},
   "outputs": [],
   "source": [
    "# Useful code derived from Shikhar Gupta's great discussion at\n",
    "# https://towardsdatascience.com/collaborative-filtering-and-embeddings-part-2-919da17ecefb\n",
    "\n",
    "from sklearn.manifold import TSNE\n",
    "\n",
    "def plot_embeddings_tSNE(df_movies, movie_embeddings):\n",
    "    plt.figure(figsize=(5,5))\n",
    "    movieIds = df_movies['movieId'].values\n",
    "    genres = df_movies['genres'].values\n",
    "    titles = df_movies['title'].values\n",
    "    tsne = TSNE(n_components=2, verbose=1, perplexity=30, n_iter=1000, learning_rate=10)\n",
    "    tsne_results = tsne.fit_transform(movie_embeddings)\n",
    "    plot_x = tsne_results[:,0]\n",
    "    plot_y = tsne_results[:,1]\n",
    "    c = [('k' if 'Comedy' in genres[i] else 'r') for i in range(len(tsne_results))]\n",
    "    plt.scatter(plot_x, plot_y, c=c, s=5)\n",
    "    plt.show()    "
   ]
  },
  {
   "cell_type": "code",
   "execution_count": 410,
   "metadata": {},
   "outputs": [
    {
     "name": "stdout",
     "output_type": "stream",
     "text": [
      "[t-SNE] Computing 91 nearest neighbors...\n",
      "[t-SNE] Indexed 1986 samples in 0.001s...\n",
      "[t-SNE] Computed neighbors for 1986 samples in 0.075s...\n",
      "[t-SNE] Computed conditional probabilities for sample 1000 / 1986\n",
      "[t-SNE] Computed conditional probabilities for sample 1986 / 1986\n",
      "[t-SNE] Mean sigma: 0.032011\n",
      "[t-SNE] KL divergence after 250 iterations with early exaggeration: 72.836372\n",
      "[t-SNE] KL divergence after 1000 iterations: 1.725135\n"
     ]
    },
    {
     "data": {
      "image/png": "[encoded data removed]",
      "text/plain": [
       "<Figure size 360x360 with 1 Axes>"
      ]
     },
     "metadata": {
      "needs_background": "light"
     },
     "output_type": "display_data"
    }
   ],
   "source": [
    "plot_embeddings_tSNE(df_movies, movie_embeddings)"
   ]
  }
 ],
 "metadata": {
  "kernelspec": {
   "display_name": "Python 3",
   "language": "python",
   "name": "python3"
  },
  "language_info": {
   "codemirror_mode": {
    "name": "ipython",
    "version": 3
   },
   "file_extension": ".py",
   "mimetype": "text/x-python",
   "name": "python",
   "nbconvert_exporter": "python",
   "pygments_lexer": "ipython3",
   "version": "3.7.4"
  }
 },
 "nbformat": 4,
 "nbformat_minor": 4
}
