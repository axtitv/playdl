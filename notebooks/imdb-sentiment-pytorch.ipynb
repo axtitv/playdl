{
 "cells": [
  {
   "cell_type": "markdown",
   "metadata": {},
   "source": [
    "# IMDB sentiment prediction with pytorch\n",
    "\n",
    "I'm reading the material in the keras book but implementing in pytorch.\n",
    "\n",
    "I'm using [polarity data set v2.0](https://www.cs.cornell.edu/people/pabo/movie-review-data/review_polarity.tar.gz) to predict binary: positive or negative review. The data uncompressed it looks like:\n",
    "\n",
    "```\n",
    "data/review_polarity/txt_sentoken/\n",
    "├── neg\n",
    "│   ├── cv000_29416.txt\n",
    "│   ├── cv001_19502.txt\n",
    "│   ├── cv002_17424.txt\n",
    "│   ├── cv003_12683.txt\n",
    "│   ├── cv004_12641.txt\n",
    "...\n",
    "```\n",
    "\n",
    "Instead of trying to learn the ancillary package torchtext, I'm going to use SpaCy to tokenize."
   ]
  },
  {
   "cell_type": "markdown",
   "metadata": {},
   "source": [
    "## Support code"
   ]
  },
  {
   "cell_type": "code",
   "execution_count": 20,
   "metadata": {},
   "outputs": [],
   "source": [
    "import math\n",
    "import torch\n",
    "dtype = torch.float\n",
    "device = torch.device('cuda:0' if torch.cuda.is_available() else 'cpu')"
   ]
  },
  {
   "cell_type": "code",
   "execution_count": 2,
   "metadata": {},
   "outputs": [],
   "source": [
    "import codecs\n",
    "import os\n",
    "import re\n",
    "import string\n",
    "from sklearn.feature_extraction.text import ENGLISH_STOP_WORDS\n",
    "\n",
    "def filelist(root):\n",
    "    \"\"\"Return a fully-qualified list of filenames under root directory; sort names alphabetically.\"\"\"\n",
    "    allfiles = []\n",
    "    for path, subdirs, files in os.walk(root):\n",
    "        for name in files:\n",
    "            allfiles.append(os.path.join(path, name))\n",
    "    return sorted(allfiles)\n",
    "\n",
    "def get_text(filename:str):\n",
    "    \"\"\"\n",
    "    Load and return the text of a text file, assuming latin-1 encoding as that\n",
    "    is what the BBC corpus uses.  Use codecs.open() function not open().\n",
    "    \"\"\"\n",
    "    f = codecs.open(filename, encoding='latin-1', mode='r')\n",
    "    s = f.read()\n",
    "    f.close()\n",
    "    return s\n",
    "\n",
    "def load_docs(docs_dirname:str):\n",
    "    \"\"\"\n",
    "    Load all .txt files under docs_dirname and return a list of doc strings, one per doc.\n",
    "    Ignore empty and non \".txt\" files.\n",
    "    \"\"\"\n",
    "    docs = []\n",
    "    for filename in filelist(docs_dirname):#[0:600]:\n",
    "        if not filename.endswith(\".txt\"): continue\n",
    "        # print(f\"Process {filename}\")\n",
    "        filetext = get_text(filename)\n",
    "        if len(filetext)==0: continue\n",
    "        docs.append( compress_whitespace(filetext) )\n",
    "    return docs\n",
    "\n",
    "def words(text:str):\n",
    "    \"\"\"\n",
    "    Given a string, return a list of words normalized as follows.\n",
    "    Split the string to make words first by using regex compile() function\n",
    "    and string.punctuation + '0-9\\\\r\\\\t\\\\n]' to replace all those\n",
    "    char with a space character.\n",
    "    Split on space to get word list.\n",
    "    Ignore words < 3 char long.\n",
    "    Lowercase all words\n",
    "    Remove English stop words\n",
    "    \"\"\"\n",
    "    ctrl_chars = '\\x00-\\x1f'\n",
    "    regex = re.compile(r'[' + ctrl_chars + string.punctuation + '0-9\\r\\t\\n]')\n",
    "    nopunct = regex.sub(\" \", text)  # delete stuff but leave at least a space to avoid clumping together\n",
    "    words = nopunct.split(\" \")\n",
    "    words = [w for w in words if len(w) > 2]  # ignore a, an, to, at, be, ...\n",
    "    words = [w.lower() for w in words]\n",
    "    words = [w for w in words if w not in ENGLISH_STOP_WORDS]\n",
    "    return words\n",
    "\n",
    "def compress_whitespace(s): # collapse things like \"\\n   \\t  \" with \" \"\n",
    "    return re.sub(r\"(\\s+)\", ' ', s)"
   ]
  },
  {
   "cell_type": "code",
   "execution_count": 63,
   "metadata": {},
   "outputs": [],
   "source": [
    "def train_test_split(X, y, test_size:float):\n",
    "    n = len(X)\n",
    "    shuffle_idx = np.random.permutation(range(n))\n",
    "    X = X[shuffle_idx]\n",
    "    y = y[shuffle_idx]\n",
    "    n_valid = int(n*test_size)\n",
    "    n_train = n - n_valid\n",
    "    X_train, X_valid = X[0:n_train].to(device), X[n_train:].to(device)\n",
    "    y_train, y_valid = y[0:n_train].to(device), y[n_train:].to(device)\n",
    "    return X_train, X_valid, y_train, y_valid"
   ]
  },
  {
   "cell_type": "code",
   "execution_count": 78,
   "metadata": {},
   "outputs": [],
   "source": [
    "import matplotlib.pyplot as plt\n",
    "def plot_history(history, yrange=(0.0, 5.00), figsize=(3.5,3)):\n",
    "    plt.figure(figsize=figsize)\n",
    "    plt.ylabel(\"Sentiment log loss\")\n",
    "    plt.xlabel(\"Epochs\")\n",
    "    loss = history[:,0]\n",
    "    valid_loss = history[:,1]\n",
    "    plt.plot(loss, label='train_loss')\n",
    "    plt.plot(valid_loss, label='val_loss')\n",
    "    # plt.xlim(0, 200)\n",
    "    plt.ylim(*yrange)\n",
    "    plt.legend(loc='lower right')\n",
    "    plt.show()"
   ]
  },
  {
   "cell_type": "code",
   "execution_count": 5,
   "metadata": {},
   "outputs": [],
   "source": [
    "import torch\n",
    "def pad(a, w):\n",
    "    return torch.cat([a, a.new_zeros(w - a.shape[0])])"
   ]
  },
  {
   "cell_type": "markdown",
   "metadata": {},
   "source": [
    "## Load movie reviews"
   ]
  },
  {
   "cell_type": "code",
   "execution_count": null,
   "metadata": {},
   "outputs": [],
   "source": [
    "# paperspace needs this\n",
    "!pip -q install spacy\n",
    "!python -m spacy download en_core_web_sm"
   ]
  },
  {
   "cell_type": "code",
   "execution_count": 6,
   "metadata": {},
   "outputs": [],
   "source": [
    "import spacy"
   ]
  },
  {
   "cell_type": "code",
   "execution_count": 7,
   "metadata": {},
   "outputs": [
    {
     "data": {
      "text/plain": [
       "(1000, 1000)"
      ]
     },
     "execution_count": 7,
     "metadata": {},
     "output_type": "execute_result"
    }
   ],
   "source": [
    "# paperspace needs:\n",
    "#!ln -s storage/data data\n",
    "neg_dirname = \"data/review_polarity/txt_sentoken/neg\"\n",
    "pos_dirname = \"data/review_polarity/txt_sentoken/pos\"\n",
    "negdocs = load_docs(neg_dirname)\n",
    "posdocs = load_docs(pos_dirname)\n",
    "n_negdocs = len(negdocs)\n",
    "n_posdocs = len(posdocs)\n",
    "n_negdocs, n_posdocs"
   ]
  },
  {
   "cell_type": "code",
   "execution_count": 8,
   "metadata": {},
   "outputs": [],
   "source": [
    "import en_core_web_sm\n",
    "nlp = en_core_web_sm.load()\n",
    "# The following fails on paperspace gradient platform\n",
    "#nlp = spacy.load(\"en_core_web_sm\") # When I use plain English() it doesn't seem to give POS info"
   ]
  },
  {
   "cell_type": "code",
   "execution_count": 10,
   "metadata": {},
   "outputs": [],
   "source": [
    "#neg_tokenized = [list(nlp(d)) for d in negdocs] # super slow!\n",
    "#pos_tokenized = [list(nlp(d)) for d in posdocs]\n",
    "\n",
    "neg_tokenized = [words(d) for d in negdocs] # much faster!\n",
    "pos_tokenized = [words(d) for d in posdocs]"
   ]
  },
  {
   "cell_type": "code",
   "execution_count": 13,
   "metadata": {},
   "outputs": [],
   "source": [
    "from sklearn.feature_extraction.text import CountVectorizer\n",
    "from collections import Counter\n",
    "import numpy as np\n",
    "\n",
    "ndocprefix = 20 # use first 20 words\n",
    "vocab_size = 10_000\n",
    "all = []\n",
    "for tokens in neg_tokenized + pos_tokenized:\n",
    "    all.extend([w for w in tokens])\n",
    "c = Counter(all)\n",
    "V = c.most_common(vocab_size)\n",
    "word_to_idx = {w:i for i,w in enumerate(dict(V).keys())}\n",
    "V = sorted(word_to_idx.keys())"
   ]
  },
  {
   "cell_type": "code",
   "execution_count": 14,
   "metadata": {},
   "outputs": [],
   "source": [
    "# Keep only words in V, just first 20, convert to ints in word_to_idx\n",
    "neg = []\n",
    "pos = []\n",
    "for i in range(len(neg_tokenized)):\n",
    "    d = [word_to_idx[w] for w in neg_tokenized[i] if w in V][:ndocprefix]\n",
    "    neg.append( pad(torch.tensor(d), ndocprefix) )\n",
    "for i in range(len(pos_tokenized)):\n",
    "    d = [word_to_idx[w] for w in pos_tokenized[i] if w in V][:ndocprefix]\n",
    "    pos.append( pad(torch.tensor(d), ndocprefix) )"
   ]
  },
  {
   "cell_type": "code",
   "execution_count": 15,
   "metadata": {},
   "outputs": [
    {
     "data": {
      "text/plain": [
       "(torch.Size([2000, 20]), torch.Size([2000, 1]))"
      ]
     },
     "execution_count": 15,
     "metadata": {},
     "output_type": "execute_result"
    }
   ],
   "source": [
    "X = torch.stack(neg+pos)\n",
    "X = X.long()\n",
    "y = torch.tensor([0]*n_negdocs + [1]*n_posdocs).reshape(-1,1)\n",
    "y = y.float()\n",
    "X = X.to(device)\n",
    "y = y.to(device)\n",
    "X.shape, y.shape"
   ]
  },
  {
   "cell_type": "markdown",
   "metadata": {},
   "source": [
    "## Build simple sentiment learner / predictor\n",
    "\n",
    "The keras book uses 8 dimensional embedding vectors, 20 word prefix for each document,\n",
    "10,000 most common words. They concatenate the 20 8-vectors and run that into a\n",
    "single-neuron final layer. That surprises me. I tried adding a hidden layer but \n",
    "it didn't help very much. Actually, now that I play with it, epochs=150,                      learning_rate=0.03, weight_decay=0.00001, it looks like it starts to consistently get better to about 56% accuracy."
   ]
  },
  {
   "cell_type": "code",
   "execution_count": 13,
   "metadata": {},
   "outputs": [],
   "source": [
    "import torch\n",
    "import torch.nn as nn\n",
    "\n",
    "class Sentiment(nn.Module):\n",
    "    def __init__(self, vocab_size, nfactors):\n",
    "        super(Sentiment, self).__init__()\n",
    "        self.embedding = nn.Embedding(vocab_size, nfactors)\n",
    "        self.final = nn.Linear(ndocprefix*nfactors,1)\n",
    "        \n",
    "    def forward(self, x):\n",
    "#         print(x.device)       # cuda:0 or cpu\n",
    "#         print(x.shape)      # [1600, 20]\n",
    "        output = self.embedding(x)\n",
    "#         print(output.shape) # [1600, 20, 8] = (samples, num word features, embedding dim)\n",
    "        # must cat the 20 64-vectors together\n",
    "        output = output.view((x.shape[0], -1))\n",
    "#         print(output.shape) # [1600, 160]\n",
    "        output = self.final(output)\n",
    "#         print(output.shape) # [1600, 1]\n",
    "        return torch.sigmoid(output)"
   ]
  },
  {
   "cell_type": "code",
   "execution_count": 17,
   "metadata": {},
   "outputs": [],
   "source": [
    "from sklearn.metrics import accuracy_score\n",
    "\n",
    "def train(model, X, y, epochs=350, test_size=0.20, learning_rate = 0.002, weight_decay=1.e-4, print_every=30, loss_fn=nn.BCELoss()):\n",
    "    X_train, X_valid, y_train, y_valid = train_test_split(X, y, 0.20)\n",
    "    print(f\"{len(X_train)} training and {len(X_valid)} test records\")\n",
    "\n",
    "    optimizer = torch.optim.Adam(model.parameters(), lr=learning_rate, weight_decay=weight_decay)\n",
    "\n",
    "    history = []\n",
    "    for t in range(epochs):\n",
    "        y_prob = model(X_train)\n",
    "        loss = loss_fn(y_prob, y_train)\n",
    "        #y_pred = torch.round(y_prob)\n",
    "\n",
    "        optimizer.zero_grad()\n",
    "        loss.backward() # autograd computes U.grad and M.grad\n",
    "        optimizer.step()\n",
    "        \n",
    "        with torch.no_grad():\n",
    "            loss_valid = loss_fn(model(X_valid), y_valid)\n",
    "            accur_train = accuracy_score(torch.round(model(X_train).cpu()), y_train.cpu())\n",
    "            accur_valid = accuracy_score(torch.round(model(X_valid).cpu()), y_valid.cpu())\n",
    "\n",
    "        history.append( (loss, loss_valid) )\n",
    "        if t % print_every == 0:\n",
    "            print(f\"Epoch {t:3d} log loss {loss:7.3f}, {loss_valid:7.3f}   accuracy {accur_train:4.3f}, {accur_valid:4.3f}\")        \n",
    "\n",
    "    history = torch.tensor(history)\n",
    "    return model, history"
   ]
  },
  {
   "cell_type": "code",
   "execution_count": 18,
   "metadata": {},
   "outputs": [
    {
     "name": "stdout",
     "output_type": "stream",
     "text": [
      "1600 training and 400 test records\n",
      "Epoch   0 log loss   0.730,   0.708   accuracy 0.558, 0.517\n",
      "Epoch  20 log loss   0.036,   1.273   accuracy 1.000, 0.545\n",
      "Epoch  40 log loss   0.015,   1.390   accuracy 1.000, 0.530\n",
      "Epoch  60 log loss   0.011,   1.230   accuracy 1.000, 0.535\n",
      "Epoch  80 log loss   0.009,   1.121   accuracy 1.000, 0.527\n"
     ]
    },
    {
     "data": {
      "image/png": "[encoded data removed]",
      "text/plain": [
       "<Figure size 252x216 with 1 Axes>"
      ]
     },
     "metadata": {
      "needs_background": "light"
     },
     "output_type": "display_data"
    }
   ],
   "source": [
    "nfactors = 8\n",
    "model = Sentiment(vocab_size, nfactors).to(device)\n",
    "model, history = train(model, X, y,\n",
    "                       epochs=100,\n",
    "                       learning_rate=0.03,\n",
    "                       weight_decay=0.0001,\n",
    "                       print_every=20)\n",
    "\n",
    "plot_history(history, yrange=(0,2.0))"
   ]
  },
  {
   "cell_type": "markdown",
   "metadata": {},
   "source": [
    "That's not very good. Depending on where it initializes, I've seen it get to 60% accuracy."
   ]
  },
  {
   "cell_type": "markdown",
   "metadata": {},
   "source": [
    "## Add mini-batches\n",
    "\n",
    "It sounds like many batches of around 32 are sort of the general recommendation to get stochastic gradient descent. See [stackoverflow](https://datascience.stackexchange.com/questions/16807/why-mini-batch-size-is-better-than-one-single-batch-with-all-training-data) and [Revisiting Small Batch Training for Deep Neural Networks](https://arxiv.org/abs/1804.07612).  It seems like training on the whole batch is not done for two reasons:\n",
    "\n",
    "1.  it has to all fit in GPU memory\n",
    "2.  the full batch does not add any bouncing around to the gradient descent process which gets us stuck in local minima.\n",
    "\n"
   ]
  },
  {
   "cell_type": "code",
   "execution_count": 14,
   "metadata": {},
   "outputs": [],
   "source": [
    "def train(model, X, y,\n",
    "          epochs=350,\n",
    "          test_size=0.20,\n",
    "          learning_rate = 0.002,\n",
    "          batch_size=32,\n",
    "          weight_decay=1.e-4,\n",
    "          loss_fn=nn.BCELoss(),\n",
    "          print_every=30):\n",
    "    X_train, X_valid, y_train, y_valid = train_test_split(X, y, 0.20)\n",
    "    print(f\"{len(X_train)} training and {len(X_valid)} test records\")\n",
    "\n",
    "    optimizer = torch.optim.Adam(model.parameters(), lr=learning_rate, weight_decay=weight_decay)\n",
    "\n",
    "    history = []\n",
    "\n",
    "    for t in range(epochs): # epochs\n",
    "        permutation = torch.randperm(X_train.shape[0])   # shuffle each epoch\n",
    "\n",
    "        for k in range(0, X_train.shape[0], batch_size): # mini-batch\n",
    "            batch_indices = permutation[k:k+batch_size]\n",
    "            batch_x, batch_y = X_train[batch_indices], y_train[batch_indices]\n",
    "    \n",
    "            y_prob = model(batch_x)\n",
    "            loss = loss_fn(y_prob, batch_y)\n",
    "\n",
    "            optimizer.zero_grad()\n",
    "            loss.backward() # autograd computes U.grad and M.grad\n",
    "            optimizer.step()\n",
    "        \n",
    "        with torch.no_grad():\n",
    "            loss        = loss_fn(model(X_train), y_train)\n",
    "            loss_valid  = loss_fn(model(X_valid), y_valid)\n",
    "            accur_train = accuracy_score(torch.round(model(X_train).cpu()), y_train.cpu())\n",
    "            accur_valid = accuracy_score(torch.round(model(X_valid).cpu()), y_valid.cpu())\n",
    "\n",
    "        history.append( (loss, loss_valid) )\n",
    "        if t % print_every == 0:\n",
    "            print(f\"Epoch {t:3d} log loss {loss:7.3f}, {loss_valid:7.3f}   accuracy {accur_train:4.3f}, {accur_valid:4.3f}\")        \n",
    "\n",
    "    history = torch.tensor(history)\n",
    "    return model, history"
   ]
  },
  {
   "cell_type": "code",
   "execution_count": 20,
   "metadata": {},
   "outputs": [
    {
     "name": "stderr",
     "output_type": "stream",
     "text": [
      "/home/parrt/anaconda3/lib/python3.7/site-packages/ipykernel_launcher.py:3: UserWarning: To copy construct from a tensor, it is recommended to use sourceTensor.clone().detach() or sourceTensor.clone().detach().requires_grad_(True), rather than torch.tensor(sourceTensor).\n",
      "  This is separate from the ipykernel package so we can avoid doing imports until\n"
     ]
    },
    {
     "name": "stdout",
     "output_type": "stream",
     "text": [
      "1600 training and 400 test records\n",
      "Epoch   0 log loss   0.709,   0.726   accuracy 0.524, 0.502\n",
      "Epoch  10 log loss   0.538,   0.745   accuracy 0.754, 0.535\n",
      "Epoch  20 log loss   0.319,   0.862   accuracy 0.904, 0.550\n",
      "Epoch  30 log loss   0.140,   1.019   accuracy 0.979, 0.557\n",
      "Epoch  40 log loss   0.055,   1.164   accuracy 0.997, 0.557\n"
     ]
    },
    {
     "data": {
      "image/png": "[encoded data removed]",
      "text/plain": [
       "<Figure size 252x216 with 1 Axes>"
      ]
     },
     "metadata": {
      "needs_background": "light"
     },
     "output_type": "display_data"
    }
   ],
   "source": [
    "nfactors = 8\n",
    "model = Sentiment(vocab_size, nfactors).to(device)\n",
    "model, history = train(model, torch.tensor(X), torch.tensor(y),\n",
    "                       epochs=50,\n",
    "                       learning_rate=0.001,\n",
    "                       batch_size=32,\n",
    "                       weight_decay=0.000001,\n",
    "                       print_every=10)\n",
    "\n",
    "plot_history(history, yrange=(0,1.0))"
   ]
  },
  {
   "cell_type": "markdown",
   "metadata": {},
   "source": [
    "Hmm...still can't get past 57%"
   ]
  },
  {
   "cell_type": "markdown",
   "metadata": {},
   "source": [
    "## Use pytorch for minibatching"
   ]
  },
  {
   "cell_type": "code",
   "execution_count": 51,
   "metadata": {},
   "outputs": [],
   "source": [
    "from torch.utils.data import Dataset, DataLoader, TensorDataset\n",
    "class IMBD(Dataset): # unnecessary, can use TensorDataset\n",
    "    def __init__(self, X, y):\n",
    "        self.X = X\n",
    "        self.y = y\n",
    "\n",
    "    def __len__(self):\n",
    "        return len(self.X)\n",
    "\n",
    "    def __getitem__(self, idx):\n",
    "        return self.X[idx], self.y[idx]\n",
    "    \n",
    "class IMBD(TensorDataset):\n",
    "    def __init__(self, X, y):\n",
    "        super().__init__(X, y)\n",
    "        self.X = X # track with easy to use fields\n",
    "        self.y = y"
   ]
  },
  {
   "cell_type": "code",
   "execution_count": 59,
   "metadata": {},
   "outputs": [],
   "source": [
    "from sklearn.metrics import accuracy_score\n",
    "def train(model, train_data, valid_data,\n",
    "          epochs=350,\n",
    "          test_size=0.20,\n",
    "          learning_rate = 0.002,\n",
    "          batch_size=32,\n",
    "          weight_decay=1.e-4,\n",
    "          loss_fn=nn.BCELoss(),\n",
    "          print_every=30):\n",
    "    history = []\n",
    "    train_loader = DataLoader(train_data, batch_size=batch_size)\n",
    "#     optimizer = torch.optim.Adam(model.parameters(), lr=learning_rate, weight_decay=weight_decay)\n",
    "    optimizer = torch.optim.RMSprop(model.parameters(), lr=learning_rate, weight_decay=weight_decay)\n",
    "\n",
    "    for ei in range(epochs): # epochs\n",
    "        for bi, (batch_x, batch_y) in enumerate(train_loader): # mini-batch\n",
    "#             if len(batch_x)!=batch_size:\n",
    "#                 print(f\"\\tBatch {bi:3d} len {len(batch_x)}\")\n",
    "            y_prob = model(batch_x)\n",
    "            loss = loss_fn(y_prob, batch_y)\n",
    "\n",
    "            optimizer.zero_grad()\n",
    "            loss.backward() # autograd computes U.grad and M.grad\n",
    "            optimizer.step()\n",
    "        \n",
    "        with torch.no_grad():\n",
    "            loss        = loss_fn(model(train_data.X), train_data.y)\n",
    "            loss_valid  = loss_fn(model(valid_data.X), valid_data.y)\n",
    "            accur_train = accuracy_score(torch.round(model(train_data.X).cpu()), train_data.y.cpu())\n",
    "            accur_valid = accuracy_score(torch.round(model(valid_data.X).cpu()), valid_data.y.cpu())\n",
    "\n",
    "        history.append( (loss, loss_valid) )\n",
    "        if ei % print_every == 0:\n",
    "            print(f\"Epoch {ei:3d} log loss {loss:7.3f}, {loss_valid:7.3f}   accuracy {accur_train:4.3f}, {accur_valid:4.3f}\")        \n",
    "\n",
    "    history = torch.tensor(history)\n",
    "    return model, history"
   ]
  },
  {
   "cell_type": "code",
   "execution_count": 23,
   "metadata": {},
   "outputs": [
    {
     "name": "stdout",
     "output_type": "stream",
     "text": [
      "1600 training and 400 test records\n",
      "Epoch   0 log loss   0.648,   0.722   accuracy 0.630, 0.495\n",
      "Epoch  10 log loss   0.092,   0.798   accuracy 1.000, 0.547\n",
      "Epoch  20 log loss   0.029,   0.852   accuracy 1.000, 0.560\n",
      "Epoch  30 log loss   0.028,   0.837   accuracy 1.000, 0.590\n",
      "Epoch  40 log loss   0.028,   0.839   accuracy 1.000, 0.583\n",
      "Epoch  50 log loss   0.028,   0.842   accuracy 1.000, 0.570\n",
      "Epoch  60 log loss   0.028,   0.845   accuracy 1.000, 0.570\n",
      "Epoch  70 log loss   0.028,   0.847   accuracy 1.000, 0.565\n",
      "Epoch  80 log loss   0.028,   0.849   accuracy 1.000, 0.575\n",
      "Epoch  90 log loss   0.028,   0.850   accuracy 1.000, 0.573\n"
     ]
    },
    {
     "data": {
      "image/png": "[encoded data removed]",
      "text/plain": [
       "<Figure size 252x216 with 1 Axes>"
      ]
     },
     "metadata": {
      "needs_background": "light"
     },
     "output_type": "display_data"
    }
   ],
   "source": [
    "nfactors = 8\n",
    "model = Sentiment(vocab_size, nfactors).to(device)\n",
    "\n",
    "X_train, X_valid, y_train, y_valid = train_test_split(X, y, 0.20)\n",
    "print(f\"{len(X_train)} training and {len(X_valid)} test records\")\n",
    "model, history = train(model, IMBD(X_train, y_train), IMBD(X_valid, y_valid),\n",
    "                       epochs=100,\n",
    "                       learning_rate=0.003,\n",
    "                       weight_decay=0.001,\n",
    "                       batch_size=16,\n",
    "                       print_every=10)\n",
    "\n",
    "plot_history(history, yrange=(0,1.0))"
   ]
  },
  {
   "cell_type": "markdown",
   "metadata": {},
   "source": [
    "Still can't seem to get it above about 57%.  With batch_size=16 I saw 60% one epoch.\n",
    "\n",
    "Switching to RMSProp seems to get consistently close to 60%"
   ]
  },
  {
   "cell_type": "markdown",
   "metadata": {},
   "source": [
    "## Add more layers and dropout"
   ]
  },
  {
   "cell_type": "code",
   "execution_count": 11,
   "metadata": {},
   "outputs": [],
   "source": [
    "import torch\n",
    "import torch.nn as nn\n",
    "\n",
    "layer1 = 16\n",
    "layer2 = 16\n",
    "class SentimentRegularized(nn.Module):\n",
    "    def __init__(self, vocab_size, nfactors):\n",
    "        super(SentimentRegularized, self).__init__()\n",
    "        self.embedding = nn.Embedding(vocab_size, nfactors)\n",
    "        self.layers = nn.Sequential(\n",
    "            nn.Linear(ndocprefix*nfactors,layer1), # 300 neurons\n",
    "#            nn.BatchNorm1d(layer1),\n",
    "            nn.ReLU(),\n",
    "            nn.Dropout(p=0.3),\n",
    "            nn.Linear(in_features=layer1, out_features=layer2),\n",
    "#            nn.BatchNorm1d(layer2),\n",
    "            nn.ReLU(),\n",
    "            nn.Dropout(p=0.3),\n",
    "            nn.Linear(layer2,1)\n",
    "        )\n",
    "        \n",
    "    def forward(self, x):\n",
    "        output = self.embedding(x)\n",
    "        output = output.view((x.shape[0], -1))\n",
    "        output = self.layers(output)\n",
    "        return torch.sigmoid(output)"
   ]
  },
  {
   "cell_type": "code",
   "execution_count": 10,
   "metadata": {},
   "outputs": [
    {
     "ename": "NameError",
     "evalue": "name 'SentimentRegularized' is not defined",
     "output_type": "error",
     "traceback": [
      "\u001b[0;31m---------------------------------------------------------------------------\u001b[0m",
      "\u001b[0;31mNameError\u001b[0m                                 Traceback (most recent call last)",
      "\u001b[0;32m<ipython-input-10-ac0739aef7d3>\u001b[0m in \u001b[0;36m<module>\u001b[0;34m\u001b[0m\n\u001b[1;32m      1\u001b[0m \u001b[0mnfactors\u001b[0m \u001b[0;34m=\u001b[0m \u001b[0;36m16\u001b[0m\u001b[0;34m\u001b[0m\u001b[0;34m\u001b[0m\u001b[0m\n\u001b[0;32m----> 2\u001b[0;31m \u001b[0mmodel\u001b[0m \u001b[0;34m=\u001b[0m \u001b[0mSentimentRegularized\u001b[0m\u001b[0;34m(\u001b[0m\u001b[0mvocab_size\u001b[0m\u001b[0;34m,\u001b[0m \u001b[0mnfactors\u001b[0m\u001b[0;34m)\u001b[0m\u001b[0;34m.\u001b[0m\u001b[0mto\u001b[0m\u001b[0;34m(\u001b[0m\u001b[0mdevice\u001b[0m\u001b[0;34m)\u001b[0m\u001b[0;34m\u001b[0m\u001b[0;34m\u001b[0m\u001b[0m\n\u001b[0m\u001b[1;32m      3\u001b[0m \u001b[0;34m\u001b[0m\u001b[0m\n\u001b[1;32m      4\u001b[0m \u001b[0mX_train\u001b[0m\u001b[0;34m,\u001b[0m \u001b[0mX_valid\u001b[0m\u001b[0;34m,\u001b[0m \u001b[0my_train\u001b[0m\u001b[0;34m,\u001b[0m \u001b[0my_valid\u001b[0m \u001b[0;34m=\u001b[0m \u001b[0mtrain_test_split\u001b[0m\u001b[0;34m(\u001b[0m\u001b[0mX\u001b[0m\u001b[0;34m,\u001b[0m \u001b[0my\u001b[0m\u001b[0;34m,\u001b[0m \u001b[0;36m0.20\u001b[0m\u001b[0;34m)\u001b[0m\u001b[0;34m\u001b[0m\u001b[0;34m\u001b[0m\u001b[0m\n\u001b[1;32m      5\u001b[0m \u001b[0mprint\u001b[0m\u001b[0;34m(\u001b[0m\u001b[0;34mf\"{len(X_train)} training and {len(X_valid)} test records\"\u001b[0m\u001b[0;34m)\u001b[0m\u001b[0;34m\u001b[0m\u001b[0;34m\u001b[0m\u001b[0m\n",
      "\u001b[0;31mNameError\u001b[0m: name 'SentimentRegularized' is not defined"
     ]
    }
   ],
   "source": [
    "nfactors = 16\n",
    "model = SentimentRegularized(vocab_size, nfactors).to(device)\n",
    "\n",
    "X_train, X_valid, y_train, y_valid = train_test_split(X, y, 0.20)\n",
    "print(f\"{len(X_train)} training and {len(X_valid)} test records\")\n",
    "model, history = train(model, IMBD(X_train, y_train), IMBD(X_valid, y_valid),\n",
    "                       epochs=100,\n",
    "                       learning_rate=0.001,\n",
    "                       weight_decay=0.001,\n",
    "                       batch_size=32,\n",
    "                       print_every=20)\n",
    "\n",
    "plot_history(history, yrange=(0,2.0))"
   ]
  },
  {
   "cell_type": "markdown",
   "metadata": {},
   "source": [
    "## Try RF\n",
    "\n",
    "Can't get much above 50% accurate as expected from raw text."
   ]
  },
  {
   "cell_type": "code",
   "execution_count": 26,
   "metadata": {},
   "outputs": [
    {
     "name": "stderr",
     "output_type": "stream",
     "text": [
      "/home/parrt/anaconda3/lib/python3.7/site-packages/ipykernel_launcher.py:5: DataConversionWarning: A column-vector y was passed when a 1d array was expected. Please change the shape of y to (n_samples,), for example using ravel().\n",
      "  \"\"\"\n"
     ]
    },
    {
     "name": "stdout",
     "output_type": "stream",
     "text": [
      "0.516875\n"
     ]
    },
    {
     "data": {
      "text/plain": [
       "0.475"
      ]
     },
     "execution_count": 26,
     "metadata": {},
     "output_type": "execute_result"
    }
   ],
   "source": [
    "from sklearn.ensemble import RandomForestClassifier, RandomForestRegressor\n",
    "\n",
    "X_train, X_valid, y_train, y_valid = train_test_split(X, y, 0.20)\n",
    "rf = RandomForestClassifier(n_estimators=200, oob_score=True, n_jobs=-1)\n",
    "rf.fit(X_train.cpu(), y_train.cpu())\n",
    "print(rf.oob_score_)\n",
    "accuracy_score(rf.predict(X_valid.cpu()), y_valid.cpu())"
   ]
  }
 ],
 "metadata": {
  "kernelspec": {
   "display_name": "Python 3",
   "language": "python",
   "name": "python3"
  },
  "language_info": {
   "codemirror_mode": {
    "name": "ipython",
    "version": 3
   },
   "file_extension": ".py",
   "mimetype": "text/x-python",
   "name": "python",
   "nbconvert_exporter": "python",
   "pygments_lexer": "ipython3",
   "version": "3.7.4"
  }
 },
 "nbformat": 4,
 "nbformat_minor": 4
}
