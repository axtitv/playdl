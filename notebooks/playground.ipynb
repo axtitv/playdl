{
 "cells": [
  {
   "cell_type": "code",
   "execution_count": 1,
   "metadata": {},
   "outputs": [],
   "source": [
    "import numpy as np"
   ]
  },
  {
   "cell_type": "code",
   "execution_count": 3,
   "metadata": {},
   "outputs": [
    {
     "data": {
      "text/plain": [
       "array([0, 1, 2, 3, 4])"
      ]
     },
     "execution_count": 3,
     "metadata": {},
     "output_type": "execute_result"
    }
   ],
   "source": [
    "X = np.array(range(50))\n",
    "X[:5]"
   ]
  },
  {
   "cell_type": "code",
   "execution_count": 4,
   "metadata": {},
   "outputs": [
    {
     "data": {
      "text/plain": [
       "array([[0, 1, 2, 3, 4, 5],\n",
       "       [1, 2, 3, 4, 5, 6]])"
      ]
     },
     "execution_count": 4,
     "metadata": {},
     "output_type": "execute_result"
    }
   ],
   "source": [
    "k = 5 # time steps per sample\n",
    "step = 1\n",
    "Xy = [np.array(X[i-k:i+1], dtype=np.int) for i in range(k,len(X)-1,step)]\n",
    "Xy = np.array(Xy)\n",
    "Xy[:2]"
   ]
  },
  {
   "cell_type": "code",
   "execution_count": 5,
   "metadata": {},
   "outputs": [],
   "source": [
    "X, y = Xy[:,0:k], Xy[:,k]"
   ]
  },
  {
   "cell_type": "code",
   "execution_count": 6,
   "metadata": {},
   "outputs": [],
   "source": [
    "# from http://philipperemy.github.io/keras-stateful-lstm/\n",
    "def prepare_sequences(x_train, y_train, window_length):\n",
    "    windows = []\n",
    "    windows_y = []\n",
    "    for i, sequence in enumerate(x_train):\n",
    "        len_seq = len(sequence)\n",
    "        for window_start in range(0, len_seq - window_length + 1):\n",
    "            window_end = window_start + window_length\n",
    "            window = sequence[window_start:window_end]\n",
    "            windows.append(window)\n",
    "            windows_y.append(y_train[i])\n",
    "    return np.array(windows), np.array(windows_y)"
   ]
  },
  {
   "cell_type": "code",
   "execution_count": 7,
   "metadata": {},
   "outputs": [
    {
     "data": {
      "text/plain": [
       "(array([[ 0,  1,  2,  3],\n",
       "        [ 1,  2,  3,  4],\n",
       "        [ 1,  2,  3,  4],\n",
       "        [ 2,  3,  4,  5],\n",
       "        [ 2,  3,  4,  5],\n",
       "        [ 3,  4,  5,  6],\n",
       "        [ 3,  4,  5,  6],\n",
       "        [ 4,  5,  6,  7],\n",
       "        [ 4,  5,  6,  7],\n",
       "        [ 5,  6,  7,  8],\n",
       "        [ 5,  6,  7,  8],\n",
       "        [ 6,  7,  8,  9],\n",
       "        [ 6,  7,  8,  9],\n",
       "        [ 7,  8,  9, 10],\n",
       "        [ 7,  8,  9, 10],\n",
       "        [ 8,  9, 10, 11],\n",
       "        [ 8,  9, 10, 11],\n",
       "        [ 9, 10, 11, 12],\n",
       "        [ 9, 10, 11, 12],\n",
       "        [10, 11, 12, 13],\n",
       "        [10, 11, 12, 13],\n",
       "        [11, 12, 13, 14],\n",
       "        [11, 12, 13, 14],\n",
       "        [12, 13, 14, 15],\n",
       "        [12, 13, 14, 15],\n",
       "        [13, 14, 15, 16],\n",
       "        [13, 14, 15, 16],\n",
       "        [14, 15, 16, 17],\n",
       "        [14, 15, 16, 17],\n",
       "        [15, 16, 17, 18],\n",
       "        [15, 16, 17, 18],\n",
       "        [16, 17, 18, 19],\n",
       "        [16, 17, 18, 19],\n",
       "        [17, 18, 19, 20],\n",
       "        [17, 18, 19, 20],\n",
       "        [18, 19, 20, 21],\n",
       "        [18, 19, 20, 21],\n",
       "        [19, 20, 21, 22],\n",
       "        [19, 20, 21, 22],\n",
       "        [20, 21, 22, 23],\n",
       "        [20, 21, 22, 23],\n",
       "        [21, 22, 23, 24],\n",
       "        [21, 22, 23, 24],\n",
       "        [22, 23, 24, 25],\n",
       "        [22, 23, 24, 25],\n",
       "        [23, 24, 25, 26],\n",
       "        [23, 24, 25, 26],\n",
       "        [24, 25, 26, 27],\n",
       "        [24, 25, 26, 27],\n",
       "        [25, 26, 27, 28],\n",
       "        [25, 26, 27, 28],\n",
       "        [26, 27, 28, 29],\n",
       "        [26, 27, 28, 29],\n",
       "        [27, 28, 29, 30],\n",
       "        [27, 28, 29, 30],\n",
       "        [28, 29, 30, 31],\n",
       "        [28, 29, 30, 31],\n",
       "        [29, 30, 31, 32],\n",
       "        [29, 30, 31, 32],\n",
       "        [30, 31, 32, 33],\n",
       "        [30, 31, 32, 33],\n",
       "        [31, 32, 33, 34],\n",
       "        [31, 32, 33, 34],\n",
       "        [32, 33, 34, 35],\n",
       "        [32, 33, 34, 35],\n",
       "        [33, 34, 35, 36],\n",
       "        [33, 34, 35, 36],\n",
       "        [34, 35, 36, 37],\n",
       "        [34, 35, 36, 37],\n",
       "        [35, 36, 37, 38],\n",
       "        [35, 36, 37, 38],\n",
       "        [36, 37, 38, 39],\n",
       "        [36, 37, 38, 39],\n",
       "        [37, 38, 39, 40],\n",
       "        [37, 38, 39, 40],\n",
       "        [38, 39, 40, 41],\n",
       "        [38, 39, 40, 41],\n",
       "        [39, 40, 41, 42],\n",
       "        [39, 40, 41, 42],\n",
       "        [40, 41, 42, 43],\n",
       "        [40, 41, 42, 43],\n",
       "        [41, 42, 43, 44],\n",
       "        [41, 42, 43, 44],\n",
       "        [42, 43, 44, 45],\n",
       "        [42, 43, 44, 45],\n",
       "        [43, 44, 45, 46],\n",
       "        [43, 44, 45, 46],\n",
       "        [44, 45, 46, 47]]),\n",
       " array([ 5,  5,  6,  6,  7,  7,  8,  8,  9,  9, 10, 10, 11, 11, 12, 12, 13,\n",
       "        13, 14, 14, 15, 15, 16, 16, 17, 17, 18, 18, 19, 19, 20, 20, 21, 21,\n",
       "        22, 22, 23, 23, 24, 24, 25, 25, 26, 26, 27, 27, 28, 28, 29, 29, 30,\n",
       "        30, 31, 31, 32, 32, 33, 33, 34, 34, 35, 35, 36, 36, 37, 37, 38, 38,\n",
       "        39, 39, 40, 40, 41, 41, 42, 42, 43, 43, 44, 44, 45, 45, 46, 46, 47,\n",
       "        47, 48, 48]))"
      ]
     },
     "execution_count": 7,
     "metadata": {},
     "output_type": "execute_result"
    }
   ],
   "source": [
    "prepare_sequences(X,y,window_length=4)"
   ]
  },
  {
   "cell_type": "markdown",
   "metadata": {},
   "source": [
    "# Stateful LSTM to learn one-char to one-char mapping\n",
    "\n",
    "From https://machinelearningmastery.com/understanding-stateful-lstm-recurrent-neural-networks-python-keras/"
   ]
  },
  {
   "cell_type": "code",
   "execution_count": 16,
   "metadata": {},
   "outputs": [],
   "source": [
    "import numpy\n",
    "from keras.models import Sequential\n",
    "from keras.layers import Dense\n",
    "from keras.layers import LSTM\n",
    "from keras.utils import np_utils\n",
    "# fix random seed for reproducibility\n",
    "numpy.random.seed(7)\n",
    "# define the raw dataset\n",
    "alphabet = \"ABCDEFGHIJKLMNOPQRSTUVWXYZ\"\n",
    "# create mapping of characters to integers (0-25) and the reverse\n",
    "char_to_int = dict((c, i) for i, c in enumerate(alphabet))\n",
    "int_to_char = dict((i, c) for i, c in enumerate(alphabet))\n",
    "# prepare the dataset of input to output pairs encoded as integers\n",
    "seq_length = 1\n",
    "dataX = []\n",
    "dataY = []\n",
    "for i in range(0, len(alphabet) - seq_length, 1):\n",
    "\tseq_in = alphabet[i:i + seq_length]\n",
    "\tseq_out = alphabet[i + seq_length]\n",
    "\tdataX.append([char_to_int[char] for char in seq_in])\n",
    "\tdataY.append(char_to_int[seq_out])\n",
    "\t#print(seq_in, '->', seq_out)\n",
    "dataX = np.array(dataX)\n",
    "dataY = np.array(dataY)"
   ]
  },
  {
   "cell_type": "code",
   "execution_count": 18,
   "metadata": {},
   "outputs": [
    {
     "data": {
      "text/plain": [
       "((25, 1), (25,))"
      ]
     },
     "execution_count": 18,
     "metadata": {},
     "output_type": "execute_result"
    }
   ],
   "source": [
    "dataX.shape, dataY.shape"
   ]
  },
  {
   "cell_type": "code",
   "execution_count": 20,
   "metadata": {},
   "outputs": [
    {
     "data": {
      "text/plain": [
       "(25, 1)"
      ]
     },
     "execution_count": 20,
     "metadata": {},
     "output_type": "execute_result"
    }
   ],
   "source": [
    "# reshape X to be [samples, time steps, features]\n",
    "X = dataX.reshape(len(dataX), seq_length, 1)\n",
    "dataX.shape"
   ]
  },
  {
   "cell_type": "code",
   "execution_count": 21,
   "metadata": {},
   "outputs": [
    {
     "data": {
      "text/plain": [
       "(25, 26)"
      ]
     },
     "execution_count": 21,
     "metadata": {},
     "output_type": "execute_result"
    }
   ],
   "source": [
    "# normalize\n",
    "X = X / float(len(alphabet))\n",
    "# one hot encode the output variable\n",
    "y = np_utils.to_categorical(dataY)\n",
    "y.shape"
   ]
  },
  {
   "cell_type": "code",
   "execution_count": null,
   "metadata": {},
   "outputs": [],
   "source": [
    "# create and fit the model\n",
    "batch_size = 1\n",
    "model = Sequential()\n",
    "model.add(LSTM(50, batch_input_shape=(batch_size, X.shape[1], X.shape[2]), stateful=True))\n",
    "model.add(Dense(y.shape[1], activation='softmax'))\n",
    "model.compile(loss='categorical_crossentropy', optimizer='adam', metrics=['accuracy'])\n",
    "for i in range(300):\n",
    "\tmodel.fit(X, y, epochs=1, batch_size=batch_size, verbose=2, shuffle=False)\n",
    "\tmodel.reset_states()\n",
    "# summarize performance of the model\n",
    "scores = model.evaluate(X, y, batch_size=batch_size, verbose=0)\n",
    "model.reset_states()\n",
    "print(\"Model Accuracy: %.2f%%\" % (scores[1]*100))\n",
    "# demonstrate some model predictions\n",
    "seed = [char_to_int[alphabet[0]]]\n",
    "for i in range(0, len(alphabet)-1):\n",
    "\tx = numpy.reshape(seed, (1, len(seed), 1))\n",
    "\tx = x / float(len(alphabet))\n",
    "\tprediction = model.predict(x, verbose=0)\n",
    "\tindex = numpy.argmax(prediction)\n",
    "\tprint(int_to_char[seed[0]], \"->\", int_to_char[index])\n",
    "\tseed = [index]\n",
    "model.reset_states()\n",
    "# demonstrate a random starting point\n",
    "letter = \"K\"\n",
    "seed = [char_to_int[letter]]\n",
    "print(\"New start: \", letter)\n",
    "for i in range(0, 5):\n",
    "\tx = numpy.reshape(seed, (1, len(seed), 1))\n",
    "\tx = x / float(len(alphabet))\n",
    "\tprediction = model.predict(x, verbose=0)\n",
    "\tindex = numpy.argmax(prediction)\n",
    "\tprint(int_to_char[seed[0]], \"->\", int_to_char[index])\n",
    "\tseed = [index]\n",
    "model.reset_states()"
   ]
  },
  {
   "cell_type": "code",
   "execution_count": null,
   "metadata": {},
   "outputs": [],
   "source": []
  },
  {
   "cell_type": "code",
   "execution_count": null,
   "metadata": {},
   "outputs": [],
   "source": []
  }
 ],
 "metadata": {
  "kernelspec": {
   "display_name": "Python 3",
   "language": "python",
   "name": "python3"
  },
  "language_info": {
   "codemirror_mode": {
    "name": "ipython",
    "version": 3
   },
   "file_extension": ".py",
   "mimetype": "text/x-python",
   "name": "python",
   "nbconvert_exporter": "python",
   "pygments_lexer": "ipython3",
   "version": "3.7.6"
  }
 },
 "nbformat": 4,
 "nbformat_minor": 4
}
