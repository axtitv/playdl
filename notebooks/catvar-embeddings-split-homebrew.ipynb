{
 "cells": [
  {
   "cell_type": "markdown",
   "metadata": {},
   "source": [
    "# Separate movie and user embedding into two layers\n",
    "\n",
    "Previously I manually concatenated one hot vectors for movies and users so that I could keep a simple DL pipeline architecture. This made it complicated to extract the embeddings for just the movies. I suspect I will have better luck with separate layers that I join after the embeddings. For training the network, I have adapted code from [Kaggle](https://www.kaggle.com/colinmorris/embedding-layers#Building-a-rating-prediction-model-in-Keras).\n",
    "\n",
    "Start with 20,000 records, then play with hyper parameters, then see what the full data set looks like. Once again use a random forest as a metric of how good the embeddings are."
   ]
  },
  {
   "cell_type": "code",
   "execution_count": 1,
   "metadata": {},
   "outputs": [],
   "source": [
    "import pandas as pd\n",
    "import numpy as np\n",
    "import re\n",
    "np.set_printoptions(precision=2, suppress=True, linewidth=3000, threshold=20000)\n",
    "\n",
    "def load(n = 10):\n",
    "    df_ratings = pd.read_csv('data/ml-latest-small/ratings.csv')\n",
    "    df_ratings = df_ratings.drop('timestamp', axis=1)\n",
    "    df_ratings = df_ratings.sample(n=n).reset_index(drop=True)\n",
    "    # Merge in the title and genres\n",
    "    df_movies = pd.read_csv('data/ml-latest-small/movies.csv')\n",
    "    df = df_ratings.merge(df_movies, on='movieId')\n",
    "    # Strip the \"(1999)\" dates from the titles\n",
    "    p = re.compile(r'[()0-9]+$')\n",
    "    df['title'] = df['title'].map(lambda x: p.sub('', x).strip())\n",
    "    return df\n",
    "\n",
    "def compress_cats(df, colname):\n",
    "    df[colname] = df[colname].astype('category').cat.as_ordered()\n",
    "    df[colname] = df[colname].cat.codes + 1 # encode 1..n"
   ]
  },
  {
   "cell_type": "code",
   "execution_count": 2,
   "metadata": {},
   "outputs": [
    {
     "name": "stdout",
     "output_type": "stream",
     "text": [
      "2686 movies that are Comedy or Drama\n"
     ]
    },
    {
     "data": {
      "text/html": [
       "<div>\n",
       "<style scoped>\n",
       "    .dataframe tbody tr th:only-of-type {\n",
       "        vertical-align: middle;\n",
       "    }\n",
       "\n",
       "    .dataframe tbody tr th {\n",
       "        vertical-align: top;\n",
       "    }\n",
       "\n",
       "    .dataframe thead th {\n",
       "        text-align: right;\n",
       "    }\n",
       "</style>\n",
       "<table border=\"1\" class=\"dataframe\">\n",
       "  <thead>\n",
       "    <tr style=\"text-align: right;\">\n",
       "      <th></th>\n",
       "      <th>userId</th>\n",
       "      <th>movieId</th>\n",
       "      <th>rating</th>\n",
       "      <th>title</th>\n",
       "      <th>genres</th>\n",
       "    </tr>\n",
       "  </thead>\n",
       "  <tbody>\n",
       "    <tr>\n",
       "      <td>0</td>\n",
       "      <td>203</td>\n",
       "      <td>35</td>\n",
       "      <td>1.0</td>\n",
       "      <td>Jerky Boys, The</td>\n",
       "      <td>Comedy</td>\n",
       "    </tr>\n",
       "    <tr>\n",
       "      <td>1</td>\n",
       "      <td>165</td>\n",
       "      <td>35</td>\n",
       "      <td>5.0</td>\n",
       "      <td>Jerky Boys, The</td>\n",
       "      <td>Comedy</td>\n",
       "    </tr>\n",
       "    <tr>\n",
       "      <td>2</td>\n",
       "      <td>147</td>\n",
       "      <td>489</td>\n",
       "      <td>4.0</td>\n",
       "      <td>Major League</td>\n",
       "      <td>Comedy</td>\n",
       "    </tr>\n",
       "  </tbody>\n",
       "</table>\n",
       "</div>"
      ],
      "text/plain": [
       "   userId  movieId  rating            title  genres\n",
       "0     203       35     1.0  Jerky Boys, The  Comedy\n",
       "1     165       35     5.0  Jerky Boys, The  Comedy\n",
       "2     147      489     4.0     Major League  Comedy"
      ]
     },
     "execution_count": 2,
     "metadata": {},
     "output_type": "execute_result"
    }
   ],
   "source": [
    "df = load(n=20_000)\n",
    "df = df[(df['genres']=='Comedy')|(df['genres']=='Drama')]\n",
    "nmovies = len(df.groupby('movieId').count())\n",
    "compress_cats(df, 'movieId')\n",
    "compress_cats(df, 'userId')\n",
    "print(len(df), 'movies that are Comedy or Drama')\n",
    "df.head(3)"
   ]
  },
  {
   "cell_type": "code",
   "execution_count": 3,
   "metadata": {},
   "outputs": [],
   "source": [
    "# get unique movie ID and title and genres\n",
    "df_movies = df.sort_values('movieId')[['movieId','title','genres']]\n",
    "df_movies = df_movies.drop_duplicates()"
   ]
  },
  {
   "cell_type": "markdown",
   "metadata": {},
   "source": [
    "## Training a split then joined network"
   ]
  },
  {
   "cell_type": "markdown",
   "metadata": {},
   "source": [
    "We are trying to map a sparse movie and user ID vector to a dense vector of say `dimensionality`=8, 10, or 20 dimensions. To do that, we use the first parallel layers of a network that have `dimensionality` neurons.  There is a parallel layer for movie and for user ID embedding, which are then joined and run through a pipeline for predicting ratings. Each neuron will contribute a single dimension to each dense vector. The input X has, say, 10,000 rows, one for each one hot movie ID. It has nmovies columns. If there are 10 movies, there are 10 possible positions in the one hot encoding. The first layer is a transformation from nmovies or nusers space to `dimensionality` space. The key is that we want to choke that first layers into just a few neurons and then have a big layer afterwards that tries to make sense of those new compressed features. We don't care about the prediction at the end, we are just going to take the weights out of the first parallel layers to get the embeddings."
   ]
  },
  {
   "cell_type": "code",
   "execution_count": 4,
   "metadata": {},
   "outputs": [],
   "source": [
    "# derivation of https://www.kaggle.com/colinmorris/embedding-layers#Building-a-rating-prediction-model-in-Keras\n",
    "import tensorflow as tf\n",
    "from tensorflow.keras import models, layers, callbacks, optimizers\n",
    "import tensorflow_addons as tfa\n",
    "from sklearn.metrics import accuracy_score, r2_score, mean_absolute_error, mean_squared_error\n",
    "import matplotlib.pyplot as plt\n",
    "\n",
    "def train(df,\n",
    "          dimensionality = 8,\n",
    "          otherlayers = (100,),\n",
    "          batch_size = 10,\n",
    "          epochs = 20,\n",
    "          batchnorm = False,\n",
    "          dropout = 0):\n",
    "    # Everybody get one hot!\n",
    "    nusers = len(df.groupby('userId').count())\n",
    "    nmovies = len(df.groupby('movieId').count())\n",
    "    X_movies = pd.get_dummies(df['movieId'])\n",
    "    X_users = pd.get_dummies(df['userId'])\n",
    "    y = df['rating'] - np.mean(df['rating']) # an article claimed mean centering helps\n",
    "\n",
    "    layer1 = dimensionality\n",
    "    \n",
    "    movie_id_input   = tf.keras.Input(shape=(nmovies,), name='movieId')\n",
    "    user_id_input    = tf.keras.Input(shape=(nusers,), name='userId')\n",
    "\n",
    "    movie_embeddings = layers.Dense(layer1, input_dim=nmovies, activation='relu', name='movie_embeddings')\n",
    "    user_embeddings  = layers.Dense(layer1, input_dim=nusers, activation='relu',  name='user_embeddings')\n",
    "    movie_embeddings = movie_embeddings(movie_id_input)\n",
    "    user_embeddings  = user_embeddings(user_id_input)\n",
    "\n",
    "    # Merge these layers as input to the subsequent dense layer(s)\n",
    "    output = tf.keras.layers.Concatenate()([movie_embeddings, user_embeddings])\n",
    "\n",
    "    # Add some hidden layers to feed off of these features\n",
    "    for n_hidden in otherlayers:\n",
    "        hidden = layers.Dense(n_hidden, activation='relu')\n",
    "        output = hidden(output)\n",
    "        if batchnorm:\n",
    "            norm = layers.BatchNormalization()\n",
    "            hidden = norm(output)\n",
    "        if dropout>0.0:\n",
    "            dr = layers.Dropout(dropout)\n",
    "            hidden = dr(output)\n",
    "\n",
    "    # Final layer just makes a prediction based upon the last hidden layer features\n",
    "    last_layer = layers.Dense(1)\n",
    "    output = last_layer(output)\n",
    "    \n",
    "    model = tf.keras.Model(\n",
    "        inputs = [movie_id_input, user_id_input], # two one hot vectors as input\n",
    "        outputs = output,\n",
    "    )\n",
    "#     print(model.summary())\n",
    "\n",
    "    # Per https://www.kaggle.com/colinmorris/embedding-layers#Building-a-rating-prediction-model-in-Keras\n",
    "    # \"Technical note: when using embedding layers, I highly recommend using one of the optimizers\n",
    "    # found  in tf.train: https://www.tensorflow.org/api_guides/python/train#Optimizers\n",
    "    # Passing in a string like 'adam' or 'SGD' will load one of keras's optimizers (found under \n",
    "    # tf.keras.optimizers). They seem to be much slower on problems like this, because they\n",
    "    # don't efficiently handle sparse gradient updates.\"\n",
    "#     opt = tf.optimizers.RMSprop()\n",
    "    opt = tf.optimizers.Adam(0.005)\n",
    "    model.compile(loss='mean_squared_error',\n",
    "                  optimizer=opt,\n",
    "                  metrics=['mae'])\n",
    "    \n",
    "    history = model.fit(\n",
    "        x=[X_movies, X_users],\n",
    "        y=y,\n",
    "        shuffle=True,\n",
    "        epochs=epochs,\n",
    "        validation_split=0.15,\n",
    "        batch_size=batch_size,\n",
    "        verbose=0,\n",
    "        callbacks=[tfa.callbacks.TQDMProgressBar(show_epoch_progress=False)]\n",
    "    )\n",
    "    return model, history"
   ]
  },
  {
   "cell_type": "code",
   "execution_count": 5,
   "metadata": {},
   "outputs": [],
   "source": [
    "def plot_history(history, yrange=(0.0, 5.00)):\n",
    "    plt.figure(figsize=(3.5,3))\n",
    "    plt.ylabel(\"Rating (0..5.0) MAE\")\n",
    "    plt.xlabel(\"Epochs\")\n",
    "    accur = history.history['mae']\n",
    "    plt.plot(accur, label='train_mae')\n",
    "    val_accur = history.history['val_mae']\n",
    "    plt.plot(val_accur, label='val_mae')\n",
    "    # plt.xlim(0, 200)\n",
    "    plt.ylim(*yrange)\n",
    "    plt.legend(loc='lower right')\n",
    "    plt.show()"
   ]
  },
  {
   "cell_type": "code",
   "execution_count": 6,
   "metadata": {},
   "outputs": [
    {
     "data": {
      "application/vnd.jupyter.widget-view+json": {
       "model_id": "b44d7dd1fc624cfaa663d8f4748bd7ab",
       "version_major": 2,
       "version_minor": 0
      },
      "text/plain": [
       "HBox(children=(FloatProgress(value=0.0, description='Training', layout=Layout(flex='2'), max=20.0, style=Progr…"
      ]
     },
     "metadata": {},
     "output_type": "display_data"
    },
    {
     "name": "stdout",
     "output_type": "stream",
     "text": [
      "\n"
     ]
    }
   ],
   "source": [
    "model, history = train(df)"
   ]
  },
  {
   "cell_type": "code",
   "execution_count": 7,
   "metadata": {},
   "outputs": [
    {
     "data": {
      "image/png": "[encoded data removed]",
      "text/plain": [
       "<Figure size 252x216 with 1 Axes>"
      ]
     },
     "metadata": {
      "needs_background": "light"
     },
     "output_type": "display_data"
    }
   ],
   "source": [
    "plot_history(history, yrange=(0,1.5))"
   ]
  },
  {
   "cell_type": "markdown",
   "metadata": {},
   "source": [
    "## Getting the embeddings out of the network\n",
    "\n",
    "Grab the weights and biases to use as the embeddings:"
   ]
  },
  {
   "cell_type": "code",
   "execution_count": 8,
   "metadata": {},
   "outputs": [
    {
     "data": {
      "text/plain": [
       "((964, 8), (8,))"
      ]
     },
     "execution_count": 8,
     "metadata": {},
     "output_type": "execute_result"
    }
   ],
   "source": [
    "movie_layer = model.get_layer('movie_embeddings')\n",
    "movie_weights, movie_biases = movie_layer.get_weights()\n",
    "movie_weights.shape, movie_biases.shape"
   ]
  },
  {
   "cell_type": "code",
   "execution_count": 9,
   "metadata": {},
   "outputs": [
    {
     "data": {
      "text/plain": [
       "((432, 8), (8,))"
      ]
     },
     "execution_count": 9,
     "metadata": {},
     "output_type": "execute_result"
    }
   ],
   "source": [
    "user_layer = model.get_layer('user_embeddings')\n",
    "user_weights, user_biases = user_layer.get_weights()\n",
    "user_weights.shape, user_biases.shape"
   ]
  },
  {
   "cell_type": "markdown",
   "metadata": {},
   "source": [
    "## RF accuracy with embeddings\n",
    "\n",
    "These embeddings are much better than I got when I tried to concatenate things with a single sequential pipeline. Definitely having separate embeddings makes a difference. It doesn't look like adding the bias makes a difference however to the accuracy at least with a random forest cross validation test."
   ]
  },
  {
   "cell_type": "code",
   "execution_count": 10,
   "metadata": {},
   "outputs": [],
   "source": [
    "from sklearn.model_selection import train_test_split\n",
    "from sklearn.model_selection import cross_val_score\n",
    "from sklearn.ensemble import RandomForestClassifier, RandomForestRegressor\n",
    "\n",
    "def RF_onehot(df, movie_embeddings, user_embeddings):\n",
    "    X = df[['movieId','userId']]\n",
    "    y = df['rating']\n",
    "    X_emb = np.concatenate([movie_embeddings[X['movieId']-1],user_embeddings[X['userId']-1]], axis=1)\n",
    "#     X_train, X_test, y_train, y_test = train_test_split(X_emb, y, test_size=0.2)\n",
    "\n",
    "    rf = RandomForestRegressor(n_estimators=100, n_jobs=-1, oob_score=True)\n",
    "    rf.fit(X_emb, y)\n",
    "    scores = cross_val_score(rf, X_emb, y, cv=5)\n",
    "    print(f\"OOB R^2 {rf.oob_score_:.3f}\")\n",
    "    print(f\"Train R^2 {rf.score(X_emb, y):.3f}\")\n",
    "    print(f\"5-fold valid R^2 {np.mean(scores):.3f}\")"
   ]
  },
  {
   "cell_type": "code",
   "execution_count": 11,
   "metadata": {},
   "outputs": [
    {
     "name": "stdout",
     "output_type": "stream",
     "text": [
      "OOB R^2 0.569\n",
      "Train R^2 0.940\n",
      "5-fold valid R^2 0.539\n"
     ]
    }
   ],
   "source": [
    "RF_onehot(df, movie_weights, user_weights)"
   ]
  },
  {
   "cell_type": "code",
   "execution_count": 12,
   "metadata": {},
   "outputs": [
    {
     "name": "stdout",
     "output_type": "stream",
     "text": [
      "OOB R^2 0.564\n",
      "Train R^2 0.940\n",
      "5-fold valid R^2 0.536\n"
     ]
    }
   ],
   "source": [
    "RF_onehot(df, movie_weights+movie_biases, user_weights+user_biases)"
   ]
  },
  {
   "cell_type": "markdown",
   "metadata": {},
   "source": [
    "Wow! Switching from RMSProp to Adam optimizer made a huge difference and accuracy is R^2 over 0.50."
   ]
  },
  {
   "cell_type": "markdown",
   "metadata": {},
   "source": [
    "## Try different hyper parameters\n",
    "\n",
    "The following data was with RMSProp() where I got it most .46 or .47 R^2:\n",
    "\n",
    "* Going from 8 (each for movie and user) to 16 to 32 dimensionality seems to hurt accuracy a bit\n",
    "* Dropping to four dimensionality seems not to hurt much\n",
    "* Dropping to two drops R^2 from .4 to .35, but that is still amazing for just two dimensions\n",
    "* Wow. Dropping to one dimension per movie end-user still gets .27 R^2! That is much better than using the plane categorical labeling coded values. somehow the network is finding a better labeling coding scheme!\n",
    "* Increasing batch size from 10 to 50 seems to improve accuracy slightly. 100 slightly better or the same. 200 is too much as accuracy drops.\n",
    "* 10 down from 20 epochs drops accuracy a bit.\n",
    "* Increasing from 20 to 30 epochs increases accuracy a little. 50 epochs is pretty good: .45 R^2.\n",
    "* Increasing single hidden layer from 100 to 200 doesn't seem to do much\n",
    "* With (100,4) layers from (100,) it is slightly less accurate; (100,32) still about the same; (100,32,4) as a little bit worse\n",
    "* Adding batch norm didn't seem to change much: `train(df, batch_size=50, epochs=50, otherlayers=(100,), batchnorm=True)`\n",
    "* Adding a little bit of dropout seems to help: `train(df, batch_size=50, epochs=50, otherlayers=(100,), batchnorm=True, dropout=0.1)`; got to .46 and .47. Drop out of 0.2 and 0.3 our perhaps a little bit worse but certainly no better. Same for dropout=0.5\n",
    "\n",
    "Adam() Optimizer does a better job apparently so let's replay some hyper parameter changes:\n",
    "\n",
    "* Best with RMSProp was `train(df, batch_size=50, epochs=50, otherlayers=(100,), batchnorm=True, dropout=0.1)`\n",
    "* With `train(df, batch_size=10, epochs=30, otherlayers=(100,), batchnorm=True, dropout=0.1)` I got .544\n",
    "* Getting rid of batch norm and dropout gives me about the same thing `train(df, batch_size=10, epochs=30, otherlayers=(100,))`\n",
    "* Dropping dimensionality to 4 seem to improve score slightly: `train(df, dimensionality=4, batch_size=10, epochs=30, otherlayers=(100,))`\n",
    "* Increasing the number of epochs to 50 improved score to 0.596! 60 is too many though. 40 too few.\n",
    "\n",
    "Scores bounce around a bit based upon sample taken and init conditions of network. :("
   ]
  },
  {
   "cell_type": "code",
   "execution_count": 13,
   "metadata": {},
   "outputs": [
    {
     "data": {
      "application/vnd.jupyter.widget-view+json": {
       "model_id": "8a2c79354cb94c6abada6f564e39cb4a",
       "version_major": 2,
       "version_minor": 0
      },
      "text/plain": [
       "HBox(children=(FloatProgress(value=0.0, description='Training', layout=Layout(flex='2'), max=50.0, style=Progr…"
      ]
     },
     "metadata": {},
     "output_type": "display_data"
    },
    {
     "name": "stdout",
     "output_type": "stream",
     "text": [
      "\n"
     ]
    },
    {
     "data": {
      "image/png": "[encoded data removed]",
      "text/plain": [
       "<Figure size 252x216 with 1 Axes>"
      ]
     },
     "metadata": {
      "needs_background": "light"
     },
     "output_type": "display_data"
    },
    {
     "name": "stdout",
     "output_type": "stream",
     "text": [
      "OOB R^2 0.590\n",
      "Train R^2 0.943\n",
      "5-fold valid R^2 0.557\n"
     ]
    }
   ],
   "source": [
    "model, history = train(df, dimensionality=4, batch_size=10, epochs=50, otherlayers=(100,), batchnorm=False, dropout=0.0)\n",
    "\n",
    "plot_history(history, yrange=(0,1.5))\n",
    "\n",
    "movie_layer = model.get_layer('movie_embeddings')\n",
    "movie_weights, movie_biases = movie_layer.get_weights()\n",
    "user_layer = model.get_layer('user_embeddings')\n",
    "user_weights, user_biases = user_layer.get_weights()\n",
    "\n",
    "RF_onehot(df, movie_weights, user_weights)"
   ]
  },
  {
   "cell_type": "markdown",
   "metadata": {},
   "source": [
    "## Are the movies separate in embedding space projected onto 2D?"
   ]
  },
  {
   "cell_type": "code",
   "execution_count": 14,
   "metadata": {},
   "outputs": [],
   "source": [
    "from sklearn.decomposition import PCA\n",
    "\n",
    "def plot_embeddings(df_movies, movie_embeddings, xrange=(-.3,.3), yrange=(-.15,.15)):\n",
    "    plt.figure(figsize=(5,5))\n",
    "    movieIds = df_movies['movieId'].values\n",
    "    genres = df_movies['genres'].values\n",
    "    titles = df_movies['title'].values\n",
    "    pca = PCA(n_components=2)\n",
    "    vecs2D = pca.fit_transform(movie_embeddings)\n",
    "    c = [('k' if 'Comedy' in genres[i] else 'r') for i in range(len(vecs2D))]\n",
    "    plt.scatter(vecs2D[:,0], vecs2D[:,1], c=c, s=5)\n",
    "    plt.xlim(*xrange)\n",
    "    plt.ylim(*yrange)\n",
    "    plt.show()"
   ]
  },
  {
   "cell_type": "code",
   "execution_count": 15,
   "metadata": {
    "jupyter": {
     "source_hidden": true
    }
   },
   "outputs": [
    {
     "data": {
      "image/png": "[encoded data removed]",
      "text/plain": [
       "<Figure size 360x360 with 1 Axes>"
      ]
     },
     "metadata": {
      "needs_background": "light"
     },
     "output_type": "display_data"
    }
   ],
   "source": [
    "plot_embeddings(df_movies, movie_weights)"
   ]
  },
  {
   "cell_type": "markdown",
   "metadata": {},
   "source": [
    "Well, those don't look super separated but there are more red comedies to the right and black dramas to the left."
   ]
  },
  {
   "cell_type": "markdown",
   "metadata": {},
   "source": [
    "# Try all the data"
   ]
  },
  {
   "cell_type": "code",
   "execution_count": 16,
   "metadata": {},
   "outputs": [
    {
     "name": "stdout",
     "output_type": "stream",
     "text": [
      "13384 movies that are Comedy or Drama\n"
     ]
    },
    {
     "data": {
      "text/html": [
       "<div>\n",
       "<style scoped>\n",
       "    .dataframe tbody tr th:only-of-type {\n",
       "        vertical-align: middle;\n",
       "    }\n",
       "\n",
       "    .dataframe tbody tr th {\n",
       "        vertical-align: top;\n",
       "    }\n",
       "\n",
       "    .dataframe thead th {\n",
       "        text-align: right;\n",
       "    }\n",
       "</style>\n",
       "<table border=\"1\" class=\"dataframe\">\n",
       "  <thead>\n",
       "    <tr style=\"text-align: right;\">\n",
       "      <th></th>\n",
       "      <th>userId</th>\n",
       "      <th>movieId</th>\n",
       "      <th>rating</th>\n",
       "      <th>title</th>\n",
       "      <th>genres</th>\n",
       "    </tr>\n",
       "  </thead>\n",
       "  <tbody>\n",
       "    <tr>\n",
       "      <td>707</td>\n",
       "      <td>427</td>\n",
       "      <td>454</td>\n",
       "      <td>5.0</td>\n",
       "      <td>Airplane!</td>\n",
       "      <td>Comedy</td>\n",
       "    </tr>\n",
       "    <tr>\n",
       "      <td>708</td>\n",
       "      <td>41</td>\n",
       "      <td>454</td>\n",
       "      <td>5.0</td>\n",
       "      <td>Airplane!</td>\n",
       "      <td>Comedy</td>\n",
       "    </tr>\n",
       "    <tr>\n",
       "      <td>709</td>\n",
       "      <td>61</td>\n",
       "      <td>454</td>\n",
       "      <td>4.0</td>\n",
       "      <td>Airplane!</td>\n",
       "      <td>Comedy</td>\n",
       "    </tr>\n",
       "  </tbody>\n",
       "</table>\n",
       "</div>"
      ],
      "text/plain": [
       "     userId  movieId  rating      title  genres\n",
       "707     427      454     5.0  Airplane!  Comedy\n",
       "708      41      454     5.0  Airplane!  Comedy\n",
       "709      61      454     4.0  Airplane!  Comedy"
      ]
     },
     "execution_count": 16,
     "metadata": {},
     "output_type": "execute_result"
    }
   ],
   "source": [
    "df = load(n=100_000)\n",
    "df = df[(df['genres']=='Comedy')|(df['genres']=='Drama')]\n",
    "nmovies = len(df.groupby('movieId').count())\n",
    "compress_cats(df, 'movieId')\n",
    "compress_cats(df, 'userId')\n",
    "print(len(df), 'movies that are Comedy or Drama')\n",
    "df.head(3)"
   ]
  },
  {
   "cell_type": "code",
   "execution_count": 17,
   "metadata": {},
   "outputs": [],
   "source": [
    "# get unique movie ID and title and genres\n",
    "df_movies = df.sort_values('movieId')[['movieId','title','genres']]\n",
    "df_movies = df_movies.drop_duplicates()"
   ]
  },
  {
   "cell_type": "code",
   "execution_count": 18,
   "metadata": {},
   "outputs": [
    {
     "data": {
      "application/vnd.jupyter.widget-view+json": {
       "model_id": "5a4274ebeadb44dc9ce41452d754f189",
       "version_major": 2,
       "version_minor": 0
      },
      "text/plain": [
       "HBox(children=(FloatProgress(value=0.0, description='Training', layout=Layout(flex='2'), max=50.0, style=Progr…"
      ]
     },
     "metadata": {},
     "output_type": "display_data"
    },
    {
     "name": "stdout",
     "output_type": "stream",
     "text": [
      "\n"
     ]
    },
    {
     "data": {
      "image/png": "[encoded data removed]",
      "text/plain": [
       "<Figure size 252x216 with 1 Axes>"
      ]
     },
     "metadata": {
      "needs_background": "light"
     },
     "output_type": "display_data"
    },
    {
     "name": "stdout",
     "output_type": "stream",
     "text": [
      "OOB R^2 0.413\n",
      "Train R^2 0.919\n",
      "5-fold valid R^2 0.380\n"
     ]
    }
   ],
   "source": [
    "model, history = train(df, dimensionality=16, batch_size=50, epochs=50, otherlayers=(100,), batchnorm=True, dropout=0.1)\n",
    "\n",
    "plot_history(history, yrange=(0,1.5))\n",
    "\n",
    "movie_layer = model.get_layer('movie_embeddings')\n",
    "movie_weights, movie_biases = movie_layer.get_weights()\n",
    "user_layer = model.get_layer('user_embeddings')\n",
    "user_weights, user_biases = user_layer.get_weights()\n",
    "\n",
    "RF_onehot(df, movie_weights, user_weights)"
   ]
  },
  {
   "cell_type": "code",
   "execution_count": 19,
   "metadata": {},
   "outputs": [
    {
     "data": {
      "image/png": "[encoded data removed]",
      "text/plain": [
       "<Figure size 360x360 with 1 Axes>"
      ]
     },
     "metadata": {
      "needs_background": "light"
     },
     "output_type": "display_data"
    }
   ],
   "source": [
    "plot_embeddings(df_movies, movie_weights)"
   ]
  },
  {
   "cell_type": "code",
   "execution_count": null,
   "metadata": {},
   "outputs": [],
   "source": []
  }
 ],
 "metadata": {
  "kernelspec": {
   "display_name": "Python 3",
   "language": "python",
   "name": "python3"
  },
  "language_info": {
   "codemirror_mode": {
    "name": "ipython",
    "version": 3
   },
   "file_extension": ".py",
   "mimetype": "text/x-python",
   "name": "python",
   "nbconvert_exporter": "python",
   "pygments_lexer": "ipython3",
   "version": "3.7.4"
  }
 },
 "nbformat": 4,
 "nbformat_minor": 4
}
