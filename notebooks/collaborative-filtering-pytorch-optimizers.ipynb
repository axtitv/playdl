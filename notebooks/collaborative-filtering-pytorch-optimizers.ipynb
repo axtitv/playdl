{
 "cells": [
  {
   "cell_type": "markdown",
   "metadata": {},
   "source": [
    "# Clever filtering using pytorch Module and optimizer\n",
    "\n",
    "I didn't have good luck using my own gradient descent so I'm using this as an opportunity to learn the higher level pytorch mechanisms like `torch.nn`. This [tutorial on pytorch](https://pytorch.org/tutorials/beginner/pytorch_with_examples.html) is very good.  See work by Jeremy Howard and fastai gang: [dl1/lesson5-movielens.ipynb](https://github.com/fastai/fastai/blob/master/courses/dl1/lesson5-movielens.ipynb) and [fastai book: 08_collab.ipynb](https://github.com/fastai/fastbook/blob/master/08_collab.ipynb)."
   ]
  },
  {
   "cell_type": "markdown",
   "metadata": {},
   "source": [
    "## Support code"
   ]
  },
  {
   "cell_type": "code",
   "execution_count": 1,
   "metadata": {},
   "outputs": [],
   "source": [
    "import math\n",
    "import torch\n",
    "dtype = torch.float\n",
    "device = torch.device('cuda:0' if torch.cuda.is_available() else 'cpu')"
   ]
  },
  {
   "cell_type": "code",
   "execution_count": 2,
   "metadata": {},
   "outputs": [],
   "source": [
    "import numpy as np\n",
    "from sklearn.model_selection import train_test_split\n",
    "from sklearn.model_selection import cross_val_score\n",
    "from sklearn.ensemble import RandomForestClassifier, RandomForestRegressor\n",
    "\n",
    "def RF_valid(df, movie_embeddings, user_embeddings):\n",
    "    X = df[['movieId','userId']]\n",
    "    y = df['rating']\n",
    "    X_emb = np.concatenate([movie_embeddings[X['movieId']],user_embeddings[X['userId']]], axis=1)\n",
    "\n",
    "    rf = RandomForestRegressor(n_estimators=100, n_jobs=-1, oob_score=True)\n",
    "    rf.fit(X_emb, y)\n",
    "    print(f\"OOB R^2 {rf.oob_score_:.3f}\")\n",
    "    print(f\"Train R^2 {rf.score(X_emb, y):.3f}\")"
   ]
  },
  {
   "cell_type": "code",
   "execution_count": 3,
   "metadata": {},
   "outputs": [],
   "source": [
    "import pandas as pd\n",
    "import re\n",
    "\n",
    "def load(n = 10):\n",
    "    df_ratings = pd.read_csv('data/ml-latest-small/ratings.csv')\n",
    "    df_ratings = df_ratings.drop('timestamp', axis=1)\n",
    "    df_ratings = df_ratings.sample(n=n).reset_index(drop=True)\n",
    "    # Merge in the title and genres\n",
    "    df_movies = pd.read_csv('data/ml-latest-small/movies.csv')\n",
    "    df = df_ratings.merge(df_movies, on='movieId')\n",
    "    # Strip the \"(1999)\" dates from the titles\n",
    "    p = re.compile(r'[()0-9]+$')\n",
    "    df['title'] = df['title'].map(lambda x: p.sub('', x).strip())\n",
    "    return df\n",
    "\n",
    "def compress_cats(df, colname):\n",
    "    df[colname] = df[colname].astype('category').cat.as_ordered()\n",
    "    df[colname] = df[colname].cat.codes # encode 0..n-1\n",
    "    df[colname] = df[colname].astype(int)\n",
    "    \n",
    "def normal_transform(x, mean=0.0, std=0.01):\n",
    "    \"Convert x to have mean and std\"\n",
    "    return x*std + mean\n",
    "\n",
    "def randn(n1, n2, device, dtype, mean=0.0, std=0.01, requires_grad=False):\n",
    "    x = torch.randn(n1, n2, device=device, dtype=dtype)\n",
    "    x = normal_transform(x, mean=mean, std=std)\n",
    "    x.requires_grad=requires_grad\n",
    "    return x"
   ]
  },
  {
   "cell_type": "code",
   "execution_count": 4,
   "metadata": {},
   "outputs": [],
   "source": [
    "def mae(y_pred, y):\n",
    "    return torch.mean( (y_pred - y).abs() )"
   ]
  },
  {
   "cell_type": "code",
   "execution_count": 5,
   "metadata": {},
   "outputs": [],
   "source": [
    "def train_test_split(data, test_size:float):\n",
    "    n = len(data)\n",
    "    n_valid = int(n*test_size)\n",
    "    n_train = n - n_valid\n",
    "    indices = torch.randperm(n)\n",
    "    train_idx = indices[0:n_train]\n",
    "    test_idx = indices[n_train:]\n",
    "    train, test = data[train_idx], data[test_idx] # copying data but could not get columns out of a Subset object\n",
    "    # train, valid = data, data\n",
    "    X_train = train[:,[0,1]].float()\n",
    "    X_test = test[:,[0,1]].float()\n",
    "    y_train = train[:,2].float()\n",
    "    y_test = test[:,2].float()\n",
    "    return X_train, X_test, y_train, y_test"
   ]
  },
  {
   "cell_type": "code",
   "execution_count": 6,
   "metadata": {},
   "outputs": [],
   "source": [
    "def top_movies(df, n=100):\n",
    "    df_movies = df[['movieId','title','genres']].drop_duplicates()\n",
    "    df_movies = df_movies.set_index('movieId')\n",
    "    rating_count = df.groupby('movieId').count()\n",
    "    top_movieIds = rating_count.sort_values(by='rating',ascending=False)[:n].index\n",
    "    return df_movies.loc[top_movieIds]"
   ]
  },
  {
   "cell_type": "code",
   "execution_count": 7,
   "metadata": {},
   "outputs": [],
   "source": [
    "import matplotlib.pyplot as plt\n",
    "def plot_history(history, yrange=(0.0, 5.00), figsize=(3.5,3)):\n",
    "    plt.figure(figsize=figsize)\n",
    "    plt.ylabel(\"Rating (0..5.0) MAE\")\n",
    "    plt.xlabel(\"Epochs\")\n",
    "    loss = history[:,0]\n",
    "    valid_loss = history[:,1]\n",
    "    plt.plot(loss, label='train_loss')\n",
    "    plt.plot(valid_loss, label='val_loss')\n",
    "    # plt.xlim(0, 200)\n",
    "    plt.ylim(*yrange)\n",
    "    plt.legend(loc='lower right')\n",
    "    plt.show()"
   ]
  },
  {
   "cell_type": "code",
   "execution_count": 170,
   "metadata": {},
   "outputs": [],
   "source": [
    "from sklearn.decomposition import PCA\n",
    "\n",
    "def mcolor(genre):\n",
    "    if 'Comedy' in genre: return 'green'\n",
    "    if 'Sci-Fi' in genre: return 'cyan'\n",
    "    if 'War' in genre: return 'red'\n",
    "    if 'Drama' in genre: return '#FEE08F'\n",
    "    return 'black'\n",
    "\n",
    "def plot_2D(df_movies):\n",
    "    movieIds = df_movies.index.values\n",
    "    titles = df_movies.loc[movieIds,'title']\n",
    "\n",
    "    movie_embeddings = model.M[movieIds].detach().numpy()\n",
    "    pca = PCA(n_components=2)\n",
    "    vecs2D = pca.fit_transform(movie_embeddings)\n",
    "\n",
    "    plt.figure(figsize=(12,12))\n",
    "    for i,title in enumerate(titles[:60]):\n",
    "        plt.text(vecs2D[i,0], vecs2D[i,1], title)\n",
    "\n",
    "    plt.scatter(vecs2D[:,0][:60], vecs2D[:,1][:60], s=2)\n",
    "\n",
    "    plt.xlim(-1.1,2.5)\n",
    "    plt.ylim(-1.2,1.5)\n",
    "    plt.show()\n",
    "    return vecs2D, titles"
   ]
  },
  {
   "cell_type": "markdown",
   "metadata": {},
   "source": [
    "## Load and train with no mini-batch"
   ]
  },
  {
   "cell_type": "code",
   "execution_count": 207,
   "metadata": {},
   "outputs": [
    {
     "data": {
      "text/html": [
       "<div>\n",
       "<style scoped>\n",
       "    .dataframe tbody tr th:only-of-type {\n",
       "        vertical-align: middle;\n",
       "    }\n",
       "\n",
       "    .dataframe tbody tr th {\n",
       "        vertical-align: top;\n",
       "    }\n",
       "\n",
       "    .dataframe thead th {\n",
       "        text-align: right;\n",
       "    }\n",
       "</style>\n",
       "<table border=\"1\" class=\"dataframe\">\n",
       "  <thead>\n",
       "    <tr style=\"text-align: right;\">\n",
       "      <th></th>\n",
       "      <th>userId</th>\n",
       "      <th>movieId</th>\n",
       "      <th>rating</th>\n",
       "      <th>title</th>\n",
       "      <th>genres</th>\n",
       "    </tr>\n",
       "  </thead>\n",
       "  <tbody>\n",
       "    <tr>\n",
       "      <td>0</td>\n",
       "      <td>559</td>\n",
       "      <td>6215</td>\n",
       "      <td>3.5</td>\n",
       "      <td>Little Miss Sunshine</td>\n",
       "      <td>Adventure|Comedy|Drama</td>\n",
       "    </tr>\n",
       "    <tr>\n",
       "      <td>1</td>\n",
       "      <td>226</td>\n",
       "      <td>6215</td>\n",
       "      <td>4.5</td>\n",
       "      <td>Little Miss Sunshine</td>\n",
       "      <td>Adventure|Comedy|Drama</td>\n",
       "    </tr>\n",
       "  </tbody>\n",
       "</table>\n",
       "</div>"
      ],
      "text/plain": [
       "   userId  movieId  rating                 title                  genres\n",
       "0     559     6215     3.5  Little Miss Sunshine  Adventure|Comedy|Drama\n",
       "1     226     6215     4.5  Little Miss Sunshine  Adventure|Comedy|Drama"
      ]
     },
     "execution_count": 207,
     "metadata": {},
     "output_type": "execute_result"
    }
   ],
   "source": [
    "df = load(n=100_000)\n",
    "n = len(df)\n",
    "nmovies = len(df.groupby('movieId').count())\n",
    "nusers = len(df.groupby('userId').count())\n",
    "compress_cats(df, 'movieId') # make IDs 0..nmovies-1\n",
    "compress_cats(df, 'userId')\n",
    "df.head(2)"
   ]
  },
  {
   "cell_type": "code",
   "execution_count": 11,
   "metadata": {},
   "outputs": [
    {
     "data": {
      "text/plain": [
       "3.501265"
      ]
     },
     "execution_count": 11,
     "metadata": {},
     "output_type": "execute_result"
    }
   ],
   "source": [
    "avg_rating = np.mean(df['rating'])\n",
    "avg_rating"
   ]
  },
  {
   "cell_type": "code",
   "execution_count": 12,
   "metadata": {},
   "outputs": [],
   "source": [
    "import torch.nn as nn\n",
    "\n",
    "class CollabFilter(nn.Module):\n",
    "    def __init__(self, nusers, nmovies, nfactors=10, avg_rating=3.5):\n",
    "        super(CollabFilter, self).__init__()\n",
    "        self.U = randn(nusers,  nfactors, device=device, dtype=dtype, requires_grad=True,\n",
    "                       std=0.01, mean=math.sqrt(avg_rating/nfactors))\n",
    "        self.M = randn(nmovies, nfactors, device=device, dtype=dtype, requires_grad=True,\n",
    "                       std=0.01, mean=math.sqrt(avg_rating/nfactors))\n",
    "        self.U = nn.Parameter(self.U) # notify pytorch these are model parameters\n",
    "        self.M = nn.Parameter(self.M)\n",
    "        \n",
    "    def forward(self, x):\n",
    "        userIds = x[:,0].long()\n",
    "        movieIds = x[:,1].long()\n",
    "        r_output = (self.U[userIds] * self.M[movieIds]).sum(axis=1, keepdim=False)\n",
    "        r_output = torch.sigmoid(r_output) * 5  # limit to 0..5\n",
    "        return r_output"
   ]
  },
  {
   "cell_type": "code",
   "execution_count": 53,
   "metadata": {},
   "outputs": [],
   "source": [
    "def train(df, epochs=350, learning_rate = 0.002, nfactors=10, use_bias=False, print_every=30, loss_fn=torch.nn.MSELoss()):    \n",
    "    data = torch.tensor( df[['userId','movieId','rating']].values )\n",
    "    X_train, X_valid, y_train, y_valid = train_test_split(data, 0.20)\n",
    "    print(f\"{len(X_train)} training and {len(X_valid)} test records\")\n",
    "\n",
    "    if use_bias:\n",
    "        model = CollabFilterWithBias(nusers, nmovies, nfactors=nfactors)\n",
    "    else:\n",
    "        model = CollabFilter(nusers, nmovies, nfactors=nfactors)\n",
    "\n",
    "    optimizer = torch.optim.Adam(model.parameters(), lr=learning_rate, weight_decay=0.00000002) # model.parameters is just [U,M]\n",
    "\n",
    "    history = []\n",
    "\n",
    "    # Start history with what random weights show\n",
    "    with torch.no_grad():\n",
    "        loss = loss_fn(model(X_train), y_train)\n",
    "        loss_valid = loss_fn(model(X_valid), y_valid)\n",
    "        mae_train = mae(model(X_train), y_train).detach().item()\n",
    "        mae_valid = mae(model(X_valid), y_valid).detach().item()\n",
    "    history.append( (loss, loss_valid) )\n",
    "    print(f\"Init      L2 MSE loss {loss:4.3f}, {loss_valid:4.3f}   MAE {mae_train:4.3f}, {mae_valid:4.3f}\")\n",
    "\n",
    "    for t in range(epochs):\n",
    "        r_pred = model(X_train)\n",
    "        loss = loss_fn(r_pred, y_train)\n",
    "\n",
    "        optimizer.zero_grad()\n",
    "        loss.backward() # autograd computes U.grad and M.grad\n",
    "        optimizer.step()\n",
    "\n",
    "        with torch.no_grad():\n",
    "            loss_valid = loss_fn(model(X_valid), y_valid)\n",
    "            mae_train = mae(model(X_train), y_train).detach().item()\n",
    "            mae_valid = mae(model(X_valid), y_valid).detach().item()\n",
    "\n",
    "        history.append( (loss, loss_valid) )\n",
    "        if t % print_every == 0:\n",
    "            print(f\"Epoch {t:3d} L2 MSE loss {loss:4.3f}, {loss_valid:4.3f}   MAE {mae_train:4.3f}, {mae_valid:4.3f}\")\n",
    "\n",
    "    history = torch.tensor(history)\n",
    "    return model, history"
   ]
  },
  {
   "cell_type": "code",
   "execution_count": 69,
   "metadata": {},
   "outputs": [
    {
     "name": "stdout",
     "output_type": "stream",
     "text": [
      "80000 training and 20000 test records\n",
      "Init      L2 MSE loss 2.922, 2.894   MAE 1.392, 1.386\n",
      "Epoch   0 L2 MSE loss 2.922, 2.848   MAE 1.379, 1.373\n",
      "Epoch  30 L2 MSE loss 0.930, 0.955   MAE 0.737, 0.761\n",
      "Epoch  60 L2 MSE loss 0.666, 0.785   MAE 0.617, 0.679\n",
      "Epoch  90 L2 MSE loss 0.639, 0.788   MAE 0.602, 0.680\n",
      "Epoch 120 L2 MSE loss 0.631, 0.796   MAE 0.596, 0.683\n",
      "Epoch 150 L2 MSE loss 0.621, 0.805   MAE 0.590, 0.686\n",
      "Epoch 180 L2 MSE loss 0.584, 0.812   MAE 0.572, 0.690\n",
      "Epoch 210 L2 MSE loss 0.497, 0.826   MAE 0.523, 0.695\n",
      "Epoch 240 L2 MSE loss 0.393, 0.869   MAE 0.458, 0.711\n",
      "Epoch 270 L2 MSE loss 0.325, 0.932   MAE 0.410, 0.734\n",
      "Epoch 300 L2 MSE loss 0.288, 0.989   MAE 0.381, 0.754\n",
      "Epoch 330 L2 MSE loss 0.266, 1.038   MAE 0.362, 0.771\n"
     ]
    },
    {
     "data": {
      "image/png": "[encoded data removed]",
      "text/plain": [
       "<Figure size 252x108 with 1 Axes>"
      ]
     },
     "metadata": {
      "needs_background": "light"
     },
     "output_type": "display_data"
    }
   ],
   "source": [
    "model, history = train(df, epochs=350, learning_rate=.01, nfactors=10)\n",
    "plot_history(history, yrange=(0,3), figsize=(3.5,1.5))"
   ]
  },
  {
   "cell_type": "markdown",
   "metadata": {},
   "source": [
    "## Assessing embeddings for prediction with random forest\n",
    "\n",
    "Once we have embeddings, we can try to use them as features in a random forest. The OOB error will give us an indication of how good the embeddings are. When we get a validation MAE of 0.74 from training with n=20,000 and nfactors=10, the RF OOB R^2 is about .45, which is much better than we get using label encoded categorical variables (no better than guessing the mean with about R^2 of 0.0)."
   ]
  },
  {
   "cell_type": "code",
   "execution_count": 70,
   "metadata": {},
   "outputs": [
    {
     "name": "stdout",
     "output_type": "stream",
     "text": [
      "OOB R^2 0.482\n",
      "Train R^2 0.929\n"
     ]
    }
   ],
   "source": [
    "RF_valid(df, model.M.detach().cpu(), model.U.detach().cpu())"
   ]
  },
  {
   "cell_type": "code",
   "execution_count": 16,
   "metadata": {},
   "outputs": [
    {
     "name": "stdout",
     "output_type": "stream",
     "text": [
      "80000 training and 20000 test records\n",
      "Init      L2 MSE loss 2.904, 2.959   MAE 1.388, 1.399\n",
      "Epoch   0 L2 MSE loss 2.904, 2.953   MAE 1.386, 1.398\n",
      "Epoch  50 L2 MSE loss 2.516, 2.562   MAE 1.272, 1.285\n",
      "Epoch 100 L2 MSE loss 1.912, 1.964   MAE 1.073, 1.090\n",
      "Epoch 150 L2 MSE loss 1.330, 1.399   MAE 0.852, 0.881\n",
      "Epoch 200 L2 MSE loss 0.995, 1.084   MAE 0.746, 0.784\n",
      "Epoch 250 L2 MSE loss 0.837, 0.941   MAE 0.690, 0.737\n",
      "Epoch 300 L2 MSE loss 0.756, 0.872   MAE 0.657, 0.711\n",
      "OOB R^2 0.349\n",
      "Train R^2 0.910\n"
     ]
    }
   ],
   "source": [
    "model, history = train(df, epochs=350, , learning_rate=.01, nfactors=4, print_every=50)\n",
    "RF_valid(df, model.M.detach().cpu(), model.U.detach().cpu())"
   ]
  },
  {
   "cell_type": "code",
   "execution_count": 73,
   "metadata": {},
   "outputs": [
    {
     "name": "stdout",
     "output_type": "stream",
     "text": [
      "80000 training and 20000 test records\n",
      "Init      L2 MSE loss 2.921, 2.896   MAE 1.392, 1.386\n",
      "Epoch   0 L2 MSE loss 2.921, 2.787   MAE 1.361, 1.356\n",
      "Epoch  50 L2 MSE loss 0.637, 0.829   MAE 0.601, 0.693\n",
      "Epoch 100 L2 MSE loss 0.452, 0.821   MAE 0.493, 0.689\n",
      "Epoch 150 L2 MSE loss 0.116, 0.900   MAE 0.229, 0.720\n",
      "Epoch 200 L2 MSE loss 0.047, 0.981   MAE 0.131, 0.751\n",
      "Epoch 250 L2 MSE loss 0.027, 1.048   MAE 0.091, 0.778\n",
      "Epoch 300 L2 MSE loss 0.018, 1.104   MAE 0.070, 0.798\n",
      "OOB R^2 0.466\n",
      "Train R^2 0.927\n"
     ]
    }
   ],
   "source": [
    "model, history = train(df, epochs=350, learning_rate=.01, nfactors=50, print_every=50)\n",
    "RF_valid(df, model.M.detach().cpu(), model.U.detach().cpu())"
   ]
  },
  {
   "cell_type": "markdown",
   "metadata": {},
   "source": [
    "## Interpretation"
   ]
  },
  {
   "cell_type": "markdown",
   "metadata": {},
   "source": [
    "### Compare rating vs predicted rating visually\n",
    "\n",
    "If we plot the known ratings against the predicted ratings, ideally we would see a 45° line. If true rating is 4.0 then we'd want the predicted rating to be 4.0."
   ]
  },
  {
   "cell_type": "code",
   "execution_count": 74,
   "metadata": {},
   "outputs": [
    {
     "data": {
      "image/png": "[encoded data removed]",
      "text/plain": [
       "<Figure size 302.4x288 with 1 Axes>"
      ]
     },
     "metadata": {
      "needs_background": "light"
     },
     "output_type": "display_data"
    }
   ],
   "source": [
    "data = torch.tensor( df[['userId','movieId','rating']].values )\n",
    "plt.figure(figsize=(4.2,4))\n",
    "plt.scatter(model(data).detach().cpu(), df['rating'], alpha=.05, s=3)\n",
    "plt.xticks(range(6))\n",
    "plt.yticks(range(6))\n",
    "plt.show()"
   ]
  },
  {
   "cell_type": "markdown",
   "metadata": {},
   "source": [
    "Hmm...hard to interpret, let's try a joint plot!"
   ]
  },
  {
   "cell_type": "code",
   "execution_count": 75,
   "metadata": {},
   "outputs": [
    {
     "name": "stdout",
     "output_type": "stream",
     "text": [
      "80000 training and 20000 test records\n",
      "Init      L2 MSE loss 2.918, 2.902   MAE 1.391, 1.389\n",
      "Epoch   0 L2 MSE loss 2.918, 2.793   MAE 1.360, 1.359\n",
      "Epoch  50 L2 MSE loss 0.639, 0.821   MAE 0.602, 0.692\n",
      "Epoch 100 L2 MSE loss 0.451, 0.812   MAE 0.492, 0.690\n",
      "Epoch 150 L2 MSE loss 0.115, 0.896   MAE 0.228, 0.723\n",
      "Epoch 200 L2 MSE loss 0.046, 0.978   MAE 0.130, 0.756\n",
      "Epoch 250 L2 MSE loss 0.026, 1.039   MAE 0.091, 0.779\n",
      "Epoch 300 L2 MSE loss 0.017, 1.090   MAE 0.070, 0.798\n"
     ]
    },
    {
     "data": {
      "image/png": "[encoded data removed]",
      "text/plain": [
       "<Figure size 273.6x273.6 with 3 Axes>"
      ]
     },
     "metadata": {
      "needs_background": "light"
     },
     "output_type": "display_data"
    }
   ],
   "source": [
    "# I learned this jointplot trick from https://github.com/fastai/fastai/blob/master/courses/dl1/lesson5-movielens.ipynb\n",
    "import seaborn\n",
    "\n",
    "model, history = train(df, epochs=350, learning_rate=.01, nfactors=50, print_every=50)\n",
    "seaborn.jointplot(model(data).detach().cpu(), df['rating'], kind='hex', height=3.8)\n",
    "plt.xticks(range(6))\n",
    "plt.yticks(range(6))\n",
    "plt.show()"
   ]
  },
  {
   "cell_type": "markdown",
   "metadata": {},
   "source": [
    "Try with just 10 factors"
   ]
  },
  {
   "cell_type": "code",
   "execution_count": 67,
   "metadata": {},
   "outputs": [
    {
     "name": "stdout",
     "output_type": "stream",
     "text": [
      "80000 training and 20000 test records\n",
      "Init      L2 MSE loss 2.922, 2.889   MAE 1.392, 1.382\n",
      "Epoch   0 L2 MSE loss 2.922, 2.843   MAE 1.379, 1.370\n",
      "Epoch  50 L2 MSE loss 0.697, 0.800   MAE 0.633, 0.688\n",
      "Epoch 100 L2 MSE loss 0.635, 0.805   MAE 0.598, 0.685\n",
      "Epoch 150 L2 MSE loss 0.619, 0.822   MAE 0.589, 0.692\n",
      "Epoch 200 L2 MSE loss 0.527, 0.836   MAE 0.541, 0.698\n",
      "Epoch 250 L2 MSE loss 0.360, 0.904   MAE 0.437, 0.725\n",
      "Epoch 300 L2 MSE loss 0.282, 1.002   MAE 0.379, 0.760\n"
     ]
    },
    {
     "data": {
      "image/png": "[encoded data removed]",
      "text/plain": [
       "<Figure size 273.6x273.6 with 3 Axes>"
      ]
     },
     "metadata": {
      "needs_background": "light"
     },
     "output_type": "display_data"
    }
   ],
   "source": [
    "model, history = train(df, epochs=350, learning_rate=.01, nfactors=10, print_every=50)\n",
    "seaborn.jointplot(model(data).detach().cpu(), df['rating'], kind='hex', height=3.8)\n",
    "plt.xticks(range(6))\n",
    "plt.yticks(range(6))\n",
    "plt.show()"
   ]
  },
  {
   "cell_type": "markdown",
   "metadata": {},
   "source": [
    "It looks to me like the embedding with 50 dimensions gets a tighter mapping (45° line) than 10 dimensional embedding vectors."
   ]
  },
  {
   "cell_type": "raw",
   "metadata": {},
   "source": [
    "df_movies, vecs2D = plot_comedy_drama_embeddings(df, model.M.cpu().detach().numpy(), n=1000)#, xrange=(-3,3), yrange=(-3,3))"
   ]
  },
  {
   "cell_type": "raw",
   "metadata": {},
   "source": [
    "plot_bokeh_comend_drama_embeddings(df_movies, vecs2D)"
   ]
  },
  {
   "cell_type": "markdown",
   "metadata": {},
   "source": []
  },
  {
   "cell_type": "markdown",
   "metadata": {},
   "source": [
    "## Model with biases"
   ]
  },
  {
   "cell_type": "code",
   "execution_count": 76,
   "metadata": {},
   "outputs": [],
   "source": [
    "import torch.nn as nn\n",
    "\n",
    "class CollabFilterWithBias(nn.Module):\n",
    "    def __init__(self, nusers, nmovies, nfactors=10, avg_rating=3.5):\n",
    "        super(CollabFilterWithBias, self).__init__()\n",
    "        self.U = randn(nusers,  nfactors, device=device, dtype=dtype, requires_grad=True,\n",
    "                       std=0.01, mean=math.sqrt(avg_rating/nfactors))\n",
    "        self.M = randn(nmovies, nfactors, device=device, dtype=dtype, requires_grad=True,\n",
    "                       std=0.01, mean=math.sqrt(avg_rating/nfactors))\n",
    "        self.U_bias = randn(nusers,  1,        device=device, dtype=dtype, requires_grad=True,\n",
    "                      std=0.01, mean=avg_rating/nfactors)\n",
    "        self.M_bias = randn(nmovies, 1,        device=device, dtype=dtype, requires_grad=True,\n",
    "                      std=0.01, mean=avg_rating/nfactors)\n",
    "        # Indexing is tricky; took me a while to interpret everything properly for visualization\n",
    "        # The movie and user IDs are used as indexes into the U, M, and bias tensors so they are\n",
    "        # inherently ordered by move or user ID. M_bias[13] is the bias for movie ID 13\n",
    "        self.U = nn.Parameter(self.U) # notify pytorch these are model parameters\n",
    "        self.M = nn.Parameter(self.M)\n",
    "        self.U_bias = nn.Parameter(self.U_bias)\n",
    "        self.M_bias = nn.Parameter(self.M_bias)\n",
    "        \n",
    "    def forward(self, x):\n",
    "        userIds = x[:,0].long()\n",
    "        movieIds = x[:,1].long()\n",
    "        r_output = (self.U[userIds] * self.M[movieIds]).sum(axis=1)\n",
    "        bias = (self.U_bias[userIds] + self.M_bias[movieIds]).reshape(len(x))\n",
    "        r_output = r_output\n",
    "        r_output += bias\n",
    "        r_output = torch.sigmoid(r_output) * 5  # limit to 0..5\n",
    "        return r_output"
   ]
  },
  {
   "cell_type": "code",
   "execution_count": 208,
   "metadata": {},
   "outputs": [],
   "source": [
    "model, history = train(df, epochs=400, learning_rate = 0.01, nfactors=50, use_bias=True, print_every=50)"
   ]
  },
  {
   "cell_type": "code",
   "execution_count": 215,
   "metadata": {},
   "outputs": [
    {
     "data": {
      "image/png": "[encoded data removed]",
      "text/plain": [
       "<Figure size 288x288 with 3 Axes>"
      ]
     },
     "metadata": {
      "needs_background": "light"
     },
     "output_type": "display_data"
    }
   ],
   "source": [
    "data = torch.tensor( df[['userId','movieId','rating']].values )\n",
    "r_pred = model(data).detach().cpu().numpy()\n",
    "\n",
    "g = seaborn.jointplot(r_pred, df['rating'], kind='hex', height=4)\n",
    "plt.show()"
   ]
  },
  {
   "cell_type": "code",
   "execution_count": 218,
   "metadata": {},
   "outputs": [
    {
     "name": "stdout",
     "output_type": "stream",
     "text": [
      "OOB R^2 0.456\n",
      "Train R^2 0.925\n"
     ]
    }
   ],
   "source": [
    "RF_valid(df, model.M.detach().cpu(), model.U.detach().cpu()) # NO biases"
   ]
  },
  {
   "cell_type": "code",
   "execution_count": 216,
   "metadata": {},
   "outputs": [
    {
     "data": {
      "text/plain": [
       "((9694, 50), (610, 50), (9694, 1), (610, 1))"
      ]
     },
     "execution_count": 216,
     "metadata": {},
     "output_type": "execute_result"
    }
   ],
   "source": [
    "M = model.M.detach().cpu().numpy()\n",
    "U = model.U.detach().cpu().numpy()\n",
    "M_bias = model.M_bias.detach().cpu().numpy()\n",
    "U_bias = model.U_bias.detach().cpu().numpy()\n",
    "M.shape, U.shape, M_bias.shape, U_bias.shape"
   ]
  },
  {
   "cell_type": "code",
   "execution_count": 217,
   "metadata": {},
   "outputs": [
    {
     "name": "stdout",
     "output_type": "stream",
     "text": [
      "OOB R^2 0.450\n",
      "Train R^2 0.924\n"
     ]
    }
   ],
   "source": [
    "RF_valid(df, M+M_bias, U+U_bias) # USE biases"
   ]
  },
  {
   "cell_type": "markdown",
   "metadata": {},
   "source": [
    "If anything, using bias seems to reduce RF predictive ability. weird."
   ]
  },
  {
   "cell_type": "markdown",
   "metadata": {},
   "source": [
    "### Interpretation of biases"
   ]
  },
  {
   "cell_type": "markdown",
   "metadata": {},
   "source": [
    "Another trick from fastai book is to look at biases. Each movie (and each user) has a bias value computed during training. The movie bias adjusts the rating computed from the dot product of a movie and user in the training set to get it closer to the known rating. Let's start by looking at the top movies sorted by overall rating. Note that this rating does not say how good a movie is per se. It says: of those that have (self filtered to have) seen this movie, how did they rate the movie?"
   ]
  },
  {
   "cell_type": "code",
   "execution_count": null,
   "metadata": {},
   "outputs": [],
   "source": [
    "topN = 2_000\n",
    "df_top_movies = top_movies(df, n=topN)\n",
    "df_top_movies.head(3)"
   ]
  },
  {
   "cell_type": "markdown",
   "metadata": {},
   "source": [
    "The top rated movie is Forrest Gump. The people that have seen it seemed to really like it. It doesn't say that the features of the movie would in any way overlap with anySpecific individual's interests, however."
   ]
  },
  {
   "cell_type": "code",
   "execution_count": null,
   "metadata": {},
   "outputs": [],
   "source": [
    "len(df_top_movies), model.M.shape, model.M_bias.shape"
   ]
  },
  {
   "cell_type": "code",
   "execution_count": null,
   "metadata": {},
   "outputs": [],
   "source": [
    "# M_bias at i is movie ID i\n",
    "df_top_movies['movie_bias'] = model.M_bias[df_top_movies.index.values].detach().numpy()\n",
    "df_top_movies.head(5)"
   ]
  },
  {
   "cell_type": "code",
   "execution_count": null,
   "metadata": {},
   "outputs": [],
   "source": [
    "df_top_movies.sort_values('movie_bias', ascending=True).head(8)"
   ]
  },
  {
   "cell_type": "markdown",
   "metadata": {},
   "source": [
    "\"Pride and Prejudice\" (for this run) seems to have the most negative bias, meaning that to match the ratings given by the users for this movie, the model had to downward shift the rating predicted by overlap of interests."
   ]
  },
  {
   "cell_type": "code",
   "execution_count": null,
   "metadata": {},
   "outputs": [],
   "source": [
    "df_top_movies.sort_values('movie_bias', ascending=False).head(8)"
   ]
  },
  {
   "cell_type": "markdown",
   "metadata": {},
   "source": [
    "\"The King and I\" apparently gets a boost to indicate people like it."
   ]
  },
  {
   "cell_type": "markdown",
   "metadata": {},
   "source": [
    "The fastai book points out quite nicely that movies with very negative biases mean that people don't like them, even when the movie x user dot product gives the movie a high score (a high score indicates they are likely to enjoy that movie based on the latent features).  For the really positive bias movies, such as 0.9593 bias, that indicates that even if the movie is not a good fit for you, you might like it because it gives you almost a full star boost because it is that good. Of course, it is also the case that poorly matched movies with low bias predicts a really bad experience watching the movie.  Naturally we should recommend to people movies that have both high product and high bias."
   ]
  },
  {
   "cell_type": "markdown",
   "metadata": {},
   "source": [
    "### Project 50D embeddings onto 2D"
   ]
  },
  {
   "cell_type": "code",
   "execution_count": null,
   "metadata": {},
   "outputs": [],
   "source": [
    "vecs2D, titles = plot_2D(df_top_movies[:500])"
   ]
  },
  {
   "cell_type": "markdown",
   "metadata": {},
   "source": [
    "We can see that the Lord of the rings movies are more or less right on top of each other and so are the Star Wars movies."
   ]
  },
  {
   "cell_type": "code",
   "execution_count": null,
   "metadata": {},
   "outputs": [],
   "source": [
    "movieIds = df_top_movies[:500].index.values\n",
    "titles = df_top_movies.loc[movieIds,'title']\n",
    "\n",
    "movie_embeddings = model.M[movieIds].detach().numpy()\n",
    "pca = PCA(n_components=3) # <-- 3 not 2\n",
    "vecs2D = pca.fit_transform(movie_embeddings)\n",
    "df_sort = df_top_movies[:500].copy()\n",
    "df_sort['f1'] = vecs2D[:,0]\n",
    "df_sort['f2'] = vecs2D[:,1]\n",
    "df_sort['f3'] = vecs2D[:,2]\n",
    "df_sort"
   ]
  },
  {
   "cell_type": "markdown",
   "metadata": {},
   "source": [
    "Sort movies by the projected dimension. It looks like the first dimension is a spectrum of maybe adventure on one side and crime on the other.  The second dimension might be action versus romance comedy. I don't see a pattern for the third dimension."
   ]
  },
  {
   "cell_type": "code",
   "execution_count": null,
   "metadata": {},
   "outputs": [],
   "source": [
    "df_sort.sort_values(by='f1')[['title','genres']]"
   ]
  },
  {
   "cell_type": "code",
   "execution_count": null,
   "metadata": {},
   "outputs": [],
   "source": [
    "df_sort.sort_values(by='f2')[['title','genres']]"
   ]
  },
  {
   "cell_type": "code",
   "execution_count": null,
   "metadata": {},
   "outputs": [],
   "source": [
    "df_sort.sort_values(by='f3')[['title','genres']]"
   ]
  },
  {
   "cell_type": "markdown",
   "metadata": {},
   "source": [
    "## Lessons\n",
    "\n",
    "Make sure that you have a valid way to assess your model before you start. I spent many hours chasing a bad model that in fact was simply a bad assessment.\n",
    "\n",
    "With about 10,000 movies, most of them you will not of heard of. So if you try to show a PCA projection or top bias movies or something like that, you will likely see a bunch of movies you don't know. I dropped it down to 2000 for visualization purposes but not training.\n",
    "\n",
    "It seems that driving the training score very low gives me a much tighter joint plot; this is despite the fact that the validation error was going up."
   ]
  }
 ],
 "metadata": {
  "kernelspec": {
   "display_name": "Python 3",
   "language": "python",
   "name": "python3"
  },
  "language_info": {
   "codemirror_mode": {
    "name": "ipython",
    "version": 3
   },
   "file_extension": ".py",
   "mimetype": "text/x-python",
   "name": "python",
   "nbconvert_exporter": "python",
   "pygments_lexer": "ipython3",
   "version": "3.7.4"
  }
 },
 "nbformat": 4,
 "nbformat_minor": 4
}
