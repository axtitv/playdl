{
 "cells": [
  {
   "cell_type": "markdown",
   "metadata": {},
   "source": [
    "# Clever filtering using pytorch Module and optimizer\n",
    "\n",
    "I didn't have good luck using my own gradient descent so I'm using this as an opportunity to learn the higher level pytorch mechanisms like `torch.nn`. This [tutorial on pytorch](https://pytorch.org/tutorials/beginner/pytorch_with_examples.html) is very good.  See work by Jeremy Howard and fastai gang: [dl1/lesson5-movielens.ipynb](https://github.com/fastai/fastai/blob/master/courses/dl1/lesson5-movielens.ipynb) and [fastai book: 08_collab.ipynb](https://github.com/fastai/fastbook/blob/master/08_collab.ipynb)."
   ]
  },
  {
   "cell_type": "markdown",
   "metadata": {},
   "source": [
    "## Support code"
   ]
  },
  {
   "cell_type": "code",
   "execution_count": 1,
   "metadata": {},
   "outputs": [],
   "source": [
    "import math\n",
    "import torch\n",
    "dtype = torch.float\n",
    "device = torch.device('cuda:0' if torch.cuda.is_available() else 'cpu')"
   ]
  },
  {
   "cell_type": "code",
   "execution_count": 2,
   "metadata": {},
   "outputs": [],
   "source": [
    "import numpy as np\n",
    "from sklearn.model_selection import train_test_split\n",
    "from sklearn.model_selection import cross_val_score\n",
    "from sklearn.ensemble import RandomForestClassifier, RandomForestRegressor\n",
    "\n",
    "def RF_valid(df, movie_embeddings, user_embeddings):\n",
    "    X = df[['movieId','userId']]\n",
    "    y = df['rating']\n",
    "    X_emb = np.concatenate([movie_embeddings[X['movieId']],user_embeddings[X['userId']]], axis=1)\n",
    "\n",
    "    rf = RandomForestRegressor(n_estimators=100, n_jobs=-1, oob_score=True)\n",
    "    rf.fit(X_emb, y)\n",
    "    print(f\"OOB R^2 {rf.oob_score_:.3f}\")\n",
    "    print(f\"Train R^2 {rf.score(X_emb, y):.3f}\")"
   ]
  },
  {
   "cell_type": "code",
   "execution_count": 3,
   "metadata": {},
   "outputs": [],
   "source": [
    "import pandas as pd\n",
    "import re\n",
    "\n",
    "def load(n = 10):\n",
    "    df_ratings = pd.read_csv('data/ml-latest-small/ratings.csv')\n",
    "    df_ratings = df_ratings.drop('timestamp', axis=1)\n",
    "    df_ratings = df_ratings.sample(n=n).reset_index(drop=True)\n",
    "    # Merge in the title and genres\n",
    "    df_movies = pd.read_csv('data/ml-latest-small/movies.csv')\n",
    "    df = df_ratings.merge(df_movies, on='movieId')\n",
    "    # Strip the \"(1999)\" dates from the titles\n",
    "    p = re.compile(r'[()0-9]+$')\n",
    "    df['title'] = df['title'].map(lambda x: p.sub('', x).strip())\n",
    "    return df\n",
    "\n",
    "def compress_cats(df, colname):\n",
    "    df[colname] = df[colname].astype('category').cat.as_ordered()\n",
    "    df[colname] = df[colname].cat.codes # encode 0..n-1\n",
    "    df[colname] = df[colname].astype(int)\n",
    "    \n",
    "def normal_transform(x, mean=0.0, std=0.01):\n",
    "    \"Convert x to have mean and std\"\n",
    "    return x*std + mean\n",
    "\n",
    "def randn(n1, n2, device, dtype, mean=0.0, std=0.01, requires_grad=False):\n",
    "    x = torch.randn(n1, n2, device=device, dtype=dtype)\n",
    "    x = normal_transform(x, mean=mean, std=std)\n",
    "    x.requires_grad=requires_grad\n",
    "    return x"
   ]
  },
  {
   "cell_type": "code",
   "execution_count": 4,
   "metadata": {},
   "outputs": [],
   "source": [
    "def mae(y_pred, y):\n",
    "    return torch.mean( (y_pred - y).abs() )"
   ]
  },
  {
   "cell_type": "code",
   "execution_count": 5,
   "metadata": {},
   "outputs": [],
   "source": [
    "def train_test_split(data, test_size:float):\n",
    "    n = len(data)\n",
    "    n_valid = int(n*test_size)\n",
    "    n_train = n - n_valid\n",
    "    indices = torch.randperm(n)\n",
    "    train_idx = indices[0:n_train]\n",
    "    test_idx = indices[n_train:]\n",
    "    train, test = data[train_idx], data[test_idx] # copying data but could not get columns out of a Subset object\n",
    "    # train, valid = data, data\n",
    "    X_train = train[:,[0,1]].float()\n",
    "    X_test = test[:,[0,1]].float()\n",
    "    y_train = train[:,2].float()\n",
    "    y_test = test[:,2].float()\n",
    "    return X_train, X_test, y_train, y_test"
   ]
  },
  {
   "cell_type": "code",
   "execution_count": 6,
   "metadata": {},
   "outputs": [],
   "source": [
    "def top_movies(df, n=100):\n",
    "    df_movies = df[['movieId','title','genres']].drop_duplicates()\n",
    "    df_movies = df_movies.set_index('movieId')\n",
    "    rating_count = df.groupby('movieId').count()\n",
    "    top_movieIds = rating_count.sort_values(by='rating',ascending=False)[:n].index\n",
    "    return df_movies.loc[top_movieIds]"
   ]
  },
  {
   "cell_type": "code",
   "execution_count": 7,
   "metadata": {},
   "outputs": [],
   "source": [
    "import matplotlib.pyplot as plt\n",
    "def plot_history(history, yrange=(0.0, 5.00), figsize=(3.5,3)):\n",
    "    plt.figure(figsize=figsize)\n",
    "    plt.ylabel(\"Rating (0..5.0) MAE\")\n",
    "    plt.xlabel(\"Epochs\")\n",
    "    loss = history[:,0]\n",
    "    valid_loss = history[:,1]\n",
    "    plt.plot(loss, label='train_loss')\n",
    "    plt.plot(valid_loss, label='val_loss')\n",
    "    # plt.xlim(0, 200)\n",
    "    plt.ylim(*yrange)\n",
    "    plt.legend(loc='lower right')\n",
    "    plt.show()"
   ]
  },
  {
   "cell_type": "code",
   "execution_count": 8,
   "metadata": {},
   "outputs": [],
   "source": [
    "from sklearn.decomposition import PCA\n",
    "\n",
    "def mcolor(genre):\n",
    "    if 'Comedy' in genre: return 'green'\n",
    "    if 'Sci-Fi' in genre: return 'cyan'\n",
    "    if 'War' in genre: return 'red'\n",
    "    if 'Drama' in genre: return '#FEE08F'\n",
    "    return 'black'\n",
    "\n",
    "def plot_2D(df_movies):\n",
    "    movieIds = df_movies.index.values\n",
    "    titles = df_movies.loc[movieIds,'title']\n",
    "\n",
    "    movie_embeddings = model.M[movieIds].detach().numpy()\n",
    "    pca = PCA(n_components=2)\n",
    "    vecs2D = pca.fit_transform(movie_embeddings)\n",
    "\n",
    "    plt.figure(figsize=(12,12))\n",
    "    for i,title in enumerate(titles[:60]):\n",
    "        plt.text(vecs2D[i,0], vecs2D[i,1], title)\n",
    "\n",
    "    plt.scatter(vecs2D[:,0][:60], vecs2D[:,1][:60], s=2)\n",
    "\n",
    "    plt.xlim(-1.1,2.5)\n",
    "    plt.ylim(-1.2,1.5)\n",
    "    plt.show()\n",
    "    return vecs2D, titles"
   ]
  },
  {
   "cell_type": "markdown",
   "metadata": {},
   "source": [
    "## Load and train with no mini-batch"
   ]
  },
  {
   "cell_type": "code",
   "execution_count": 9,
   "metadata": {},
   "outputs": [
    {
     "data": {
      "text/html": [
       "<div>\n",
       "<style scoped>\n",
       "    .dataframe tbody tr th:only-of-type {\n",
       "        vertical-align: middle;\n",
       "    }\n",
       "\n",
       "    .dataframe tbody tr th {\n",
       "        vertical-align: top;\n",
       "    }\n",
       "\n",
       "    .dataframe thead th {\n",
       "        text-align: right;\n",
       "    }\n",
       "</style>\n",
       "<table border=\"1\" class=\"dataframe\">\n",
       "  <thead>\n",
       "    <tr style=\"text-align: right;\">\n",
       "      <th></th>\n",
       "      <th>userId</th>\n",
       "      <th>movieId</th>\n",
       "      <th>rating</th>\n",
       "      <th>title</th>\n",
       "      <th>genres</th>\n",
       "    </tr>\n",
       "  </thead>\n",
       "  <tbody>\n",
       "    <tr>\n",
       "      <td>0</td>\n",
       "      <td>451</td>\n",
       "      <td>1644</td>\n",
       "      <td>4.0</td>\n",
       "      <td>Untouchables, The</td>\n",
       "      <td>Action|Crime|Drama</td>\n",
       "    </tr>\n",
       "    <tr>\n",
       "      <td>1</td>\n",
       "      <td>560</td>\n",
       "      <td>1644</td>\n",
       "      <td>4.5</td>\n",
       "      <td>Untouchables, The</td>\n",
       "      <td>Action|Crime|Drama</td>\n",
       "    </tr>\n",
       "  </tbody>\n",
       "</table>\n",
       "</div>"
      ],
      "text/plain": [
       "   userId  movieId  rating              title              genres\n",
       "0     451     1644     4.0  Untouchables, The  Action|Crime|Drama\n",
       "1     560     1644     4.5  Untouchables, The  Action|Crime|Drama"
      ]
     },
     "execution_count": 9,
     "metadata": {},
     "output_type": "execute_result"
    }
   ],
   "source": [
    "df = load(n=100_000)\n",
    "n = len(df)\n",
    "nmovies = len(df.groupby('movieId').count())\n",
    "nusers = len(df.groupby('userId').count())\n",
    "compress_cats(df, 'movieId') # make IDs 0..nmovies-1\n",
    "compress_cats(df, 'userId')\n",
    "df.head(2)"
   ]
  },
  {
   "cell_type": "code",
   "execution_count": 10,
   "metadata": {},
   "outputs": [
    {
     "data": {
      "text/plain": [
       "3.501345"
      ]
     },
     "execution_count": 10,
     "metadata": {},
     "output_type": "execute_result"
    }
   ],
   "source": [
    "avg_rating = np.mean(df['rating'])\n",
    "avg_rating"
   ]
  },
  {
   "cell_type": "code",
   "execution_count": 11,
   "metadata": {},
   "outputs": [],
   "source": [
    "import torch.nn as nn\n",
    "\n",
    "class CollabFilter(nn.Module):\n",
    "    def __init__(self, nusers, nmovies, nfactors=10, avg_rating=3.5):\n",
    "        super(CollabFilter, self).__init__()\n",
    "        self.U = randn(nusers,  nfactors, device=device, dtype=dtype, requires_grad=True,\n",
    "                       std=0.01, mean=math.sqrt(avg_rating/nfactors))\n",
    "        self.M = randn(nmovies, nfactors, device=device, dtype=dtype, requires_grad=True,\n",
    "                       std=0.01, mean=math.sqrt(avg_rating/nfactors))\n",
    "        self.U = nn.Parameter(self.U) # notify pytorch these are model parameters\n",
    "        self.M = nn.Parameter(self.M)\n",
    "        \n",
    "    def forward(self, x):\n",
    "        userIds = x[:,0].long()\n",
    "        movieIds = x[:,1].long()\n",
    "        r_output = (self.U[userIds] * self.M[movieIds]).sum(axis=1, keepdim=False)\n",
    "        r_output = torch.sigmoid(r_output) * 5  # limit to 0..5\n",
    "        return r_output"
   ]
  },
  {
   "cell_type": "code",
   "execution_count": 12,
   "metadata": {},
   "outputs": [],
   "source": [
    "def train(df, epochs=350, learning_rate = 0.002, nfactors=10, use_bias=False, print_every=30, loss_fn=torch.nn.MSELoss()):    \n",
    "    data = torch.tensor( df[['userId','movieId','rating']].values )\n",
    "    X_train, X_valid, y_train, y_valid = train_test_split(data, 0.20)\n",
    "    print(f\"{len(X_train)} training and {len(X_valid)} test records\")\n",
    "\n",
    "    if use_bias:\n",
    "        model = CollabFilterWithBias(nusers, nmovies, nfactors=nfactors)\n",
    "    else:\n",
    "        model = CollabFilter(nusers, nmovies, nfactors=nfactors)\n",
    "\n",
    "    optimizer = torch.optim.Adam(model.parameters(), lr=learning_rate, weight_decay=0.00000002) # model.parameters is just [U,M]\n",
    "\n",
    "    history = []\n",
    "\n",
    "    # Start history with what random weights show\n",
    "    with torch.no_grad():\n",
    "        loss = loss_fn(model(X_train), y_train)\n",
    "        loss_valid = loss_fn(model(X_valid), y_valid)\n",
    "        mae_train = mae(model(X_train), y_train).detach().item()\n",
    "        mae_valid = mae(model(X_valid), y_valid).detach().item()\n",
    "    history.append( (loss, loss_valid) )\n",
    "    print(f\"Init      L2 MSE loss {loss:4.3f}, {loss_valid:4.3f}   MAE {mae_train:4.3f}, {mae_valid:4.3f}\")\n",
    "\n",
    "    for t in range(epochs):\n",
    "        r_pred = model(X_train)\n",
    "        loss = loss_fn(r_pred, y_train)\n",
    "\n",
    "        optimizer.zero_grad()\n",
    "        loss.backward() # autograd computes U.grad and M.grad\n",
    "        optimizer.step()\n",
    "\n",
    "        with torch.no_grad():\n",
    "            loss_valid = loss_fn(model(X_valid), y_valid)\n",
    "            mae_train = mae(model(X_train), y_train).detach().item()\n",
    "            mae_valid = mae(model(X_valid), y_valid).detach().item()\n",
    "\n",
    "        history.append( (loss, loss_valid) )\n",
    "        if t % print_every == 0:\n",
    "            print(f\"Epoch {t:3d} L2 MSE loss {loss:4.3f}, {loss_valid:4.3f}   MAE {mae_train:4.3f}, {mae_valid:4.3f}\")\n",
    "\n",
    "    history = torch.tensor(history)\n",
    "    return model, history"
   ]
  },
  {
   "cell_type": "code",
   "execution_count": 13,
   "metadata": {},
   "outputs": [
    {
     "name": "stdout",
     "output_type": "stream",
     "text": [
      "80000 training and 20000 test records\n",
      "Init      L2 MSE loss 2.905, 2.957   MAE 1.387, 1.403\n",
      "Epoch   0 L2 MSE loss 2.905, 2.909   MAE 1.374, 1.390\n",
      "Epoch  30 L2 MSE loss 0.924, 0.978   MAE 0.734, 0.767\n",
      "Epoch  60 L2 MSE loss 0.663, 0.801   MAE 0.614, 0.685\n",
      "Epoch  90 L2 MSE loss 0.636, 0.810   MAE 0.600, 0.689\n",
      "Epoch 120 L2 MSE loss 0.628, 0.818   MAE 0.594, 0.692\n",
      "Epoch 150 L2 MSE loss 0.616, 0.827   MAE 0.588, 0.695\n",
      "Epoch 180 L2 MSE loss 0.577, 0.834   MAE 0.568, 0.698\n",
      "Epoch 210 L2 MSE loss 0.485, 0.844   MAE 0.516, 0.702\n",
      "Epoch 240 L2 MSE loss 0.379, 0.880   MAE 0.450, 0.715\n",
      "Epoch 270 L2 MSE loss 0.313, 0.935   MAE 0.403, 0.737\n",
      "Epoch 300 L2 MSE loss 0.278, 0.985   MAE 0.375, 0.755\n",
      "Epoch 330 L2 MSE loss 0.257, 1.030   MAE 0.357, 0.771\n"
     ]
    },
    {
     "data": {
      "image/png": "[encoded data removed]",
      "text/plain": [
       "<Figure size 252x108 with 1 Axes>"
      ]
     },
     "metadata": {
      "needs_background": "light"
     },
     "output_type": "display_data"
    }
   ],
   "source": [
    "model, history = train(df, epochs=350, learning_rate=.01, nfactors=10)\n",
    "plot_history(history, yrange=(0,3), figsize=(3.5,1.5))"
   ]
  },
  {
   "cell_type": "markdown",
   "metadata": {},
   "source": [
    "## Assessing embeddings for prediction with random forest\n",
    "\n",
    "Once we have embeddings, we can try to use them as features in a random forest. The OOB error will give us an indication of how good the embeddings are. When we get a validation MAE of 0.74 from training with n=20,000 and nfactors=10, the RF OOB R^2 is about .45, which is much better than we get using label encoded categorical variables (no better than guessing the mean with about R^2 of 0.0)."
   ]
  },
  {
   "cell_type": "code",
   "execution_count": 14,
   "metadata": {},
   "outputs": [
    {
     "name": "stdout",
     "output_type": "stream",
     "text": [
      "OOB R^2 0.493\n",
      "Train R^2 0.930\n"
     ]
    }
   ],
   "source": [
    "RF_valid(df, model.M.detach().cpu(), model.U.detach().cpu())"
   ]
  },
  {
   "cell_type": "code",
   "execution_count": 16,
   "metadata": {},
   "outputs": [
    {
     "name": "stdout",
     "output_type": "stream",
     "text": [
      "80000 training and 20000 test records\n",
      "Init      L2 MSE loss 2.909, 2.940   MAE 1.389, 1.396\n",
      "Epoch   0 L2 MSE loss 2.909, 2.911   MAE 1.381, 1.388\n",
      "Epoch  50 L2 MSE loss 0.863, 0.932   MAE 0.708, 0.748\n",
      "Epoch 100 L2 MSE loss 0.653, 0.790   MAE 0.609, 0.682\n",
      "Epoch 150 L2 MSE loss 0.634, 0.800   MAE 0.598, 0.686\n",
      "Epoch 200 L2 MSE loss 0.629, 0.813   MAE 0.594, 0.690\n",
      "Epoch 250 L2 MSE loss 0.617, 0.823   MAE 0.588, 0.694\n",
      "Epoch 300 L2 MSE loss 0.571, 0.832   MAE 0.564, 0.697\n",
      "OOB R^2 0.440\n",
      "Train R^2 0.923\n"
     ]
    }
   ],
   "source": [
    "model, history = train(df, epochs=350, learning_rate=.01, nfactors=4, print_every=50)\n",
    "RF_valid(df, model.M.detach().cpu(), model.U.detach().cpu())"
   ]
  },
  {
   "cell_type": "code",
   "execution_count": 17,
   "metadata": {},
   "outputs": [
    {
     "name": "stdout",
     "output_type": "stream",
     "text": [
      "80000 training and 20000 test records\n",
      "Init      L2 MSE loss 2.908, 2.947   MAE 1.388, 1.400\n",
      "Epoch   0 L2 MSE loss 2.908, 2.837   MAE 1.358, 1.369\n",
      "Epoch  50 L2 MSE loss 0.634, 0.841   MAE 0.600, 0.699\n",
      "Epoch 100 L2 MSE loss 0.450, 0.833   MAE 0.491, 0.696\n",
      "Epoch 150 L2 MSE loss 0.115, 0.915   MAE 0.228, 0.728\n",
      "Epoch 200 L2 MSE loss 0.046, 0.995   MAE 0.130, 0.761\n",
      "Epoch 250 L2 MSE loss 0.026, 1.059   MAE 0.090, 0.786\n",
      "Epoch 300 L2 MSE loss 0.017, 1.113   MAE 0.069, 0.806\n",
      "OOB R^2 0.469\n",
      "Train R^2 0.927\n"
     ]
    }
   ],
   "source": [
    "model, history = train(df, epochs=350, learning_rate=.01, nfactors=50, print_every=50)\n",
    "RF_valid(df, model.M.detach().cpu(), model.U.detach().cpu())"
   ]
  },
  {
   "cell_type": "markdown",
   "metadata": {},
   "source": [
    "## Interpretation"
   ]
  },
  {
   "cell_type": "markdown",
   "metadata": {},
   "source": [
    "### Compare rating vs predicted rating visually\n",
    "\n",
    "If we plot the known ratings against the predicted ratings, ideally we would see a 45° line. If true rating is 4.0 then we'd want the predicted rating to be 4.0."
   ]
  },
  {
   "cell_type": "code",
   "execution_count": 18,
   "metadata": {},
   "outputs": [
    {
     "data": {
      "image/png": "[encoded data removed]",
      "text/plain": [
       "<Figure size 302.4x288 with 1 Axes>"
      ]
     },
     "metadata": {
      "needs_background": "light"
     },
     "output_type": "display_data"
    }
   ],
   "source": [
    "data = torch.tensor( df[['userId','movieId','rating']].values )\n",
    "plt.figure(figsize=(4.2,4))\n",
    "plt.scatter(model(data).detach().cpu(), df['rating'], alpha=.05, s=3)\n",
    "plt.xticks(range(6))\n",
    "plt.yticks(range(6))\n",
    "plt.show()"
   ]
  },
  {
   "cell_type": "markdown",
   "metadata": {},
   "source": [
    "Hmm...hard to interpret, let's try a joint plot!"
   ]
  },
  {
   "cell_type": "code",
   "execution_count": 19,
   "metadata": {},
   "outputs": [
    {
     "name": "stdout",
     "output_type": "stream",
     "text": [
      "80000 training and 20000 test records\n",
      "Init      L2 MSE loss 2.915, 2.913   MAE 1.390, 1.391\n",
      "Epoch   0 L2 MSE loss 2.915, 2.804   MAE 1.359, 1.360\n",
      "Epoch  50 L2 MSE loss 0.634, 0.835   MAE 0.600, 0.695\n",
      "Epoch 100 L2 MSE loss 0.452, 0.827   MAE 0.493, 0.692\n",
      "Epoch 150 L2 MSE loss 0.117, 0.907   MAE 0.230, 0.723\n",
      "Epoch 200 L2 MSE loss 0.047, 0.989   MAE 0.131, 0.756\n",
      "Epoch 250 L2 MSE loss 0.026, 1.057   MAE 0.091, 0.781\n",
      "Epoch 300 L2 MSE loss 0.017, 1.112   MAE 0.069, 0.801\n"
     ]
    },
    {
     "data": {
      "image/png": "[encoded data removed]",
      "text/plain": [
       "<Figure size 273.6x273.6 with 3 Axes>"
      ]
     },
     "metadata": {
      "needs_background": "light"
     },
     "output_type": "display_data"
    }
   ],
   "source": [
    "# I learned this jointplot trick from https://github.com/fastai/fastai/blob/master/courses/dl1/lesson5-movielens.ipynb\n",
    "import seaborn\n",
    "\n",
    "model, history = train(df, epochs=350, learning_rate=.01, nfactors=50, print_every=50)\n",
    "seaborn.jointplot(model(data).detach().cpu(), df['rating'], kind='hex', height=3.8)\n",
    "plt.xticks(range(6))\n",
    "plt.yticks(range(6))\n",
    "plt.show()"
   ]
  },
  {
   "cell_type": "markdown",
   "metadata": {},
   "source": [
    "Try with just 10 factors"
   ]
  },
  {
   "cell_type": "code",
   "execution_count": 20,
   "metadata": {},
   "outputs": [
    {
     "name": "stdout",
     "output_type": "stream",
     "text": [
      "80000 training and 20000 test records\n",
      "Init      L2 MSE loss 2.914, 2.917   MAE 1.390, 1.392\n",
      "Epoch   0 L2 MSE loss 2.914, 2.870   MAE 1.377, 1.379\n",
      "Epoch  50 L2 MSE loss 0.696, 0.800   MAE 0.633, 0.686\n",
      "Epoch 100 L2 MSE loss 0.634, 0.805   MAE 0.598, 0.683\n",
      "Epoch 150 L2 MSE loss 0.619, 0.820   MAE 0.590, 0.689\n",
      "Epoch 200 L2 MSE loss 0.525, 0.834   MAE 0.540, 0.695\n",
      "Epoch 250 L2 MSE loss 0.358, 0.916   MAE 0.436, 0.724\n",
      "Epoch 300 L2 MSE loss 0.282, 1.017   MAE 0.378, 0.761\n"
     ]
    },
    {
     "data": {
      "image/png": "[encoded data removed]",
      "text/plain": [
       "<Figure size 273.6x273.6 with 3 Axes>"
      ]
     },
     "metadata": {
      "needs_background": "light"
     },
     "output_type": "display_data"
    }
   ],
   "source": [
    "model, history = train(df, epochs=350, learning_rate=.01, nfactors=10, print_every=50)\n",
    "seaborn.jointplot(model(data).detach().cpu(), df['rating'], kind='hex', height=3.8)\n",
    "plt.xticks(range(6))\n",
    "plt.yticks(range(6))\n",
    "plt.show()"
   ]
  },
  {
   "cell_type": "markdown",
   "metadata": {},
   "source": [
    "It looks to me like the embedding with 50 dimensions gets a tighter mapping (45° line) than 10 dimensional embedding vectors."
   ]
  },
  {
   "cell_type": "raw",
   "metadata": {},
   "source": [
    "df_movies, vecs2D = plot_comedy_drama_embeddings(df, model.M.cpu().detach().numpy(), n=1000)#, xrange=(-3,3), yrange=(-3,3))"
   ]
  },
  {
   "cell_type": "raw",
   "metadata": {},
   "source": [
    "plot_bokeh_comend_drama_embeddings(df_movies, vecs2D)"
   ]
  },
  {
   "cell_type": "markdown",
   "metadata": {},
   "source": []
  },
  {
   "cell_type": "markdown",
   "metadata": {},
   "source": [
    "## Model with biases"
   ]
  },
  {
   "cell_type": "code",
   "execution_count": 21,
   "metadata": {},
   "outputs": [],
   "source": [
    "import torch.nn as nn\n",
    "\n",
    "class CollabFilterWithBias(nn.Module):\n",
    "    def __init__(self, nusers, nmovies, nfactors=10, avg_rating=3.5):\n",
    "        super(CollabFilterWithBias, self).__init__()\n",
    "        self.U = randn(nusers,  nfactors, device=device, dtype=dtype, requires_grad=True,\n",
    "                       std=0.01, mean=math.sqrt(avg_rating/nfactors))\n",
    "        self.M = randn(nmovies, nfactors, device=device, dtype=dtype, requires_grad=True,\n",
    "                       std=0.01, mean=math.sqrt(avg_rating/nfactors))\n",
    "        self.U_bias = randn(nusers,  1,        device=device, dtype=dtype, requires_grad=True,\n",
    "                      std=0.01, mean=avg_rating/nfactors)\n",
    "        self.M_bias = randn(nmovies, 1,        device=device, dtype=dtype, requires_grad=True,\n",
    "                      std=0.01, mean=avg_rating/nfactors)\n",
    "        # Indexing is tricky; took me a while to interpret everything properly for visualization\n",
    "        # The movie and user IDs are used as indexes into the U, M, and bias tensors so they are\n",
    "        # inherently ordered by move or user ID. M_bias[13] is the bias for movie ID 13\n",
    "        self.U = nn.Parameter(self.U) # notify pytorch these are model parameters\n",
    "        self.M = nn.Parameter(self.M)\n",
    "        self.U_bias = nn.Parameter(self.U_bias)\n",
    "        self.M_bias = nn.Parameter(self.M_bias)\n",
    "        \n",
    "    def forward(self, x):\n",
    "        userIds = x[:,0].long()\n",
    "        movieIds = x[:,1].long()\n",
    "        r_output = (self.U[userIds] * self.M[movieIds]).sum(axis=1)\n",
    "        bias = (self.U_bias[userIds] + self.M_bias[movieIds]).reshape(len(x))\n",
    "        r_output = r_output\n",
    "        r_output += bias\n",
    "        r_output = torch.sigmoid(r_output) * 5  # limit to 0..5\n",
    "        return r_output"
   ]
  },
  {
   "cell_type": "code",
   "execution_count": 22,
   "metadata": {},
   "outputs": [
    {
     "name": "stdout",
     "output_type": "stream",
     "text": [
      "80000 training and 20000 test records\n",
      "Init      L2 MSE loss 2.962, 2.984   MAE 1.403, 1.412\n",
      "Epoch   0 L2 MSE loss 2.962, 2.878   MAE 1.373, 1.383\n",
      "Epoch  50 L2 MSE loss 0.607, 0.795   MAE 0.589, 0.684\n",
      "Epoch 100 L2 MSE loss 0.429, 0.775   MAE 0.481, 0.674\n",
      "Epoch 150 L2 MSE loss 0.117, 0.858   MAE 0.231, 0.704\n",
      "Epoch 200 L2 MSE loss 0.047, 0.944   MAE 0.131, 0.739\n",
      "Epoch 250 L2 MSE loss 0.026, 1.008   MAE 0.091, 0.764\n",
      "Epoch 300 L2 MSE loss 0.017, 1.059   MAE 0.070, 0.783\n",
      "Epoch 350 L2 MSE loss 0.012, 1.102   MAE 0.056, 0.799\n"
     ]
    }
   ],
   "source": [
    "model, history = train(df, epochs=400, learning_rate = 0.01, nfactors=50, use_bias=True, print_every=50)"
   ]
  },
  {
   "cell_type": "code",
   "execution_count": 23,
   "metadata": {},
   "outputs": [
    {
     "data": {
      "image/png": "[encoded data removed]",
      "text/plain": [
       "<Figure size 288x288 with 3 Axes>"
      ]
     },
     "metadata": {
      "needs_background": "light"
     },
     "output_type": "display_data"
    }
   ],
   "source": [
    "data = torch.tensor( df[['userId','movieId','rating']].values )\n",
    "r_pred = model(data).detach().cpu().numpy()\n",
    "\n",
    "g = seaborn.jointplot(r_pred, df['rating'], kind='hex', height=4)\n",
    "plt.show()"
   ]
  },
  {
   "cell_type": "code",
   "execution_count": 24,
   "metadata": {},
   "outputs": [
    {
     "name": "stdout",
     "output_type": "stream",
     "text": [
      "OOB R^2 0.453\n",
      "Train R^2 0.925\n"
     ]
    }
   ],
   "source": [
    "RF_valid(df, model.M.detach().cpu(), model.U.detach().cpu()) # NO biases"
   ]
  },
  {
   "cell_type": "code",
   "execution_count": 25,
   "metadata": {},
   "outputs": [
    {
     "data": {
      "text/plain": [
       "((9690, 50), (610, 50), (9690, 1), (610, 1))"
      ]
     },
     "execution_count": 25,
     "metadata": {},
     "output_type": "execute_result"
    }
   ],
   "source": [
    "M = model.M.detach().cpu().numpy()\n",
    "U = model.U.detach().cpu().numpy()\n",
    "M_bias = model.M_bias.detach().cpu().numpy()\n",
    "U_bias = model.U_bias.detach().cpu().numpy()\n",
    "M.shape, U.shape, M_bias.shape, U_bias.shape"
   ]
  },
  {
   "cell_type": "code",
   "execution_count": 26,
   "metadata": {},
   "outputs": [
    {
     "name": "stdout",
     "output_type": "stream",
     "text": [
      "OOB R^2 0.451\n",
      "Train R^2 0.925\n"
     ]
    }
   ],
   "source": [
    "RF_valid(df, M+M_bias, U+U_bias) # USE biases"
   ]
  },
  {
   "cell_type": "markdown",
   "metadata": {},
   "source": [
    "If anything, using bias seems to reduce RF predictive ability. weird."
   ]
  },
  {
   "cell_type": "markdown",
   "metadata": {},
   "source": [
    "### Interpretation of biases"
   ]
  },
  {
   "cell_type": "markdown",
   "metadata": {},
   "source": [
    "Another trick from fastai book is to look at biases. Each movie (and each user) has a bias value computed during training. The movie bias adjusts the rating computed from the dot product of a movie and user in the training set to get it closer to the known rating. Let's start by looking at the top movies sorted by overall rating. Note that this rating does not say how good a movie is per se. It says: of those that have (self filtered to have) seen this movie, how did they rate the movie?"
   ]
  },
  {
   "cell_type": "code",
   "execution_count": 27,
   "metadata": {},
   "outputs": [
    {
     "data": {
      "text/html": [
       "<div>\n",
       "<style scoped>\n",
       "    .dataframe tbody tr th:only-of-type {\n",
       "        vertical-align: middle;\n",
       "    }\n",
       "\n",
       "    .dataframe tbody tr th {\n",
       "        vertical-align: top;\n",
       "    }\n",
       "\n",
       "    .dataframe thead th {\n",
       "        text-align: right;\n",
       "    }\n",
       "</style>\n",
       "<table border=\"1\" class=\"dataframe\">\n",
       "  <thead>\n",
       "    <tr style=\"text-align: right;\">\n",
       "      <th></th>\n",
       "      <th>title</th>\n",
       "      <th>genres</th>\n",
       "    </tr>\n",
       "    <tr>\n",
       "      <th>movieId</th>\n",
       "      <th></th>\n",
       "      <th></th>\n",
       "    </tr>\n",
       "  </thead>\n",
       "  <tbody>\n",
       "    <tr>\n",
       "      <td>314</td>\n",
       "      <td>Forrest Gump</td>\n",
       "      <td>Comedy|Drama|Romance|War</td>\n",
       "    </tr>\n",
       "    <tr>\n",
       "      <td>277</td>\n",
       "      <td>Shawshank Redemption, The</td>\n",
       "      <td>Crime|Drama</td>\n",
       "    </tr>\n",
       "    <tr>\n",
       "      <td>257</td>\n",
       "      <td>Pulp Fiction</td>\n",
       "      <td>Comedy|Crime|Drama|Thriller</td>\n",
       "    </tr>\n",
       "  </tbody>\n",
       "</table>\n",
       "</div>"
      ],
      "text/plain": [
       "                             title                       genres\n",
       "movieId                                                        \n",
       "314                   Forrest Gump     Comedy|Drama|Romance|War\n",
       "277      Shawshank Redemption, The                  Crime|Drama\n",
       "257                   Pulp Fiction  Comedy|Crime|Drama|Thriller"
      ]
     },
     "execution_count": 27,
     "metadata": {},
     "output_type": "execute_result"
    }
   ],
   "source": [
    "topN = 2_000\n",
    "df_top_movies = top_movies(df, n=topN)\n",
    "df_top_movies.head(3)"
   ]
  },
  {
   "cell_type": "markdown",
   "metadata": {},
   "source": [
    "The top rated movie is Forrest Gump. The people that have seen it seemed to really like it. It doesn't say that the features of the movie would in any way overlap with anySpecific individual's interests, however."
   ]
  },
  {
   "cell_type": "code",
   "execution_count": 28,
   "metadata": {},
   "outputs": [
    {
     "data": {
      "text/plain": [
       "(2000, torch.Size([9690, 50]), torch.Size([9690, 1]))"
      ]
     },
     "execution_count": 28,
     "metadata": {},
     "output_type": "execute_result"
    }
   ],
   "source": [
    "len(df_top_movies), model.M.shape, model.M_bias.shape"
   ]
  },
  {
   "cell_type": "code",
   "execution_count": 29,
   "metadata": {},
   "outputs": [
    {
     "data": {
      "text/html": [
       "<div>\n",
       "<style scoped>\n",
       "    .dataframe tbody tr th:only-of-type {\n",
       "        vertical-align: middle;\n",
       "    }\n",
       "\n",
       "    .dataframe tbody tr th {\n",
       "        vertical-align: top;\n",
       "    }\n",
       "\n",
       "    .dataframe thead th {\n",
       "        text-align: right;\n",
       "    }\n",
       "</style>\n",
       "<table border=\"1\" class=\"dataframe\">\n",
       "  <thead>\n",
       "    <tr style=\"text-align: right;\">\n",
       "      <th></th>\n",
       "      <th>title</th>\n",
       "      <th>genres</th>\n",
       "      <th>movie_bias</th>\n",
       "    </tr>\n",
       "    <tr>\n",
       "      <th>movieId</th>\n",
       "      <th></th>\n",
       "      <th></th>\n",
       "      <th></th>\n",
       "    </tr>\n",
       "  </thead>\n",
       "  <tbody>\n",
       "    <tr>\n",
       "      <td>314</td>\n",
       "      <td>Forrest Gump</td>\n",
       "      <td>Comedy|Drama|Romance|War</td>\n",
       "      <td>0.289581</td>\n",
       "    </tr>\n",
       "    <tr>\n",
       "      <td>277</td>\n",
       "      <td>Shawshank Redemption, The</td>\n",
       "      <td>Crime|Drama</td>\n",
       "      <td>0.443922</td>\n",
       "    </tr>\n",
       "    <tr>\n",
       "      <td>257</td>\n",
       "      <td>Pulp Fiction</td>\n",
       "      <td>Comedy|Crime|Drama|Thriller</td>\n",
       "      <td>0.414124</td>\n",
       "    </tr>\n",
       "    <tr>\n",
       "      <td>510</td>\n",
       "      <td>Silence of the Lambs, The</td>\n",
       "      <td>Crime|Horror|Thriller</td>\n",
       "      <td>-0.055161</td>\n",
       "    </tr>\n",
       "    <tr>\n",
       "      <td>1938</td>\n",
       "      <td>Matrix, The</td>\n",
       "      <td>Action|Sci-Fi|Thriller</td>\n",
       "      <td>0.043495</td>\n",
       "    </tr>\n",
       "  </tbody>\n",
       "</table>\n",
       "</div>"
      ],
      "text/plain": [
       "                             title                       genres  movie_bias\n",
       "movieId                                                                    \n",
       "314                   Forrest Gump     Comedy|Drama|Romance|War    0.289581\n",
       "277      Shawshank Redemption, The                  Crime|Drama    0.443922\n",
       "257                   Pulp Fiction  Comedy|Crime|Drama|Thriller    0.414124\n",
       "510      Silence of the Lambs, The        Crime|Horror|Thriller   -0.055161\n",
       "1938                   Matrix, The       Action|Sci-Fi|Thriller    0.043495"
      ]
     },
     "execution_count": 29,
     "metadata": {},
     "output_type": "execute_result"
    }
   ],
   "source": [
    "# M_bias at i is movie ID i\n",
    "df_top_movies['movie_bias'] = model.M_bias[df_top_movies.index.values].detach().numpy()\n",
    "df_top_movies.head(5)"
   ]
  },
  {
   "cell_type": "code",
   "execution_count": 30,
   "metadata": {},
   "outputs": [
    {
     "data": {
      "text/html": [
       "<div>\n",
       "<style scoped>\n",
       "    .dataframe tbody tr th:only-of-type {\n",
       "        vertical-align: middle;\n",
       "    }\n",
       "\n",
       "    .dataframe tbody tr th {\n",
       "        vertical-align: top;\n",
       "    }\n",
       "\n",
       "    .dataframe thead th {\n",
       "        text-align: right;\n",
       "    }\n",
       "</style>\n",
       "<table border=\"1\" class=\"dataframe\">\n",
       "  <thead>\n",
       "    <tr style=\"text-align: right;\">\n",
       "      <th></th>\n",
       "      <th>title</th>\n",
       "      <th>genres</th>\n",
       "      <th>movie_bias</th>\n",
       "    </tr>\n",
       "    <tr>\n",
       "      <th>movieId</th>\n",
       "      <th></th>\n",
       "      <th></th>\n",
       "      <th></th>\n",
       "    </tr>\n",
       "  </thead>\n",
       "  <tbody>\n",
       "    <tr>\n",
       "      <td>637</td>\n",
       "      <td>Kazaam</td>\n",
       "      <td>Children|Comedy|Fantasy</td>\n",
       "      <td>-0.885285</td>\n",
       "    </tr>\n",
       "    <tr>\n",
       "      <td>2183</td>\n",
       "      <td>Phantasm</td>\n",
       "      <td>Horror|Sci-Fi</td>\n",
       "      <td>-0.800380</td>\n",
       "    </tr>\n",
       "    <tr>\n",
       "      <td>7151</td>\n",
       "      <td>2012</td>\n",
       "      <td>Action|Drama|Sci-Fi|Thriller</td>\n",
       "      <td>-0.747342</td>\n",
       "    </tr>\n",
       "    <tr>\n",
       "      <td>3399</td>\n",
       "      <td>Planet of the Apes</td>\n",
       "      <td>Action|Adventure|Drama|Sci-Fi</td>\n",
       "      <td>-0.745389</td>\n",
       "    </tr>\n",
       "    <tr>\n",
       "      <td>230</td>\n",
       "      <td>Major Payne</td>\n",
       "      <td>Comedy</td>\n",
       "      <td>-0.743860</td>\n",
       "    </tr>\n",
       "    <tr>\n",
       "      <td>1742</td>\n",
       "      <td>I Still Know What You Did Last Summer</td>\n",
       "      <td>Horror|Mystery|Thriller</td>\n",
       "      <td>-0.738760</td>\n",
       "    </tr>\n",
       "    <tr>\n",
       "      <td>130</td>\n",
       "      <td>Canadian Bacon</td>\n",
       "      <td>Comedy|War</td>\n",
       "      <td>-0.714237</td>\n",
       "    </tr>\n",
       "    <tr>\n",
       "      <td>454</td>\n",
       "      <td>RoboCop 3</td>\n",
       "      <td>Action|Crime|Drama|Sci-Fi|Thriller</td>\n",
       "      <td>-0.714071</td>\n",
       "    </tr>\n",
       "  </tbody>\n",
       "</table>\n",
       "</div>"
      ],
      "text/plain": [
       "                                         title  \\\n",
       "movieId                                          \n",
       "637                                     Kazaam   \n",
       "2183                                  Phantasm   \n",
       "7151                                      2012   \n",
       "3399                        Planet of the Apes   \n",
       "230                                Major Payne   \n",
       "1742     I Still Know What You Did Last Summer   \n",
       "130                             Canadian Bacon   \n",
       "454                                  RoboCop 3   \n",
       "\n",
       "                                     genres  movie_bias  \n",
       "movieId                                                  \n",
       "637                 Children|Comedy|Fantasy   -0.885285  \n",
       "2183                          Horror|Sci-Fi   -0.800380  \n",
       "7151           Action|Drama|Sci-Fi|Thriller   -0.747342  \n",
       "3399          Action|Adventure|Drama|Sci-Fi   -0.745389  \n",
       "230                                  Comedy   -0.743860  \n",
       "1742                Horror|Mystery|Thriller   -0.738760  \n",
       "130                              Comedy|War   -0.714237  \n",
       "454      Action|Crime|Drama|Sci-Fi|Thriller   -0.714071  "
      ]
     },
     "execution_count": 30,
     "metadata": {},
     "output_type": "execute_result"
    }
   ],
   "source": [
    "df_top_movies.sort_values('movie_bias', ascending=True).head(8)"
   ]
  },
  {
   "cell_type": "markdown",
   "metadata": {},
   "source": [
    "\"Kazaam\" (for this run) seems to have the most negative bias, meaning that to match the ratings given by the users for this movie, the model had to downward shift the rating predicted by overlap of interests."
   ]
  },
  {
   "cell_type": "code",
   "execution_count": 31,
   "metadata": {},
   "outputs": [
    {
     "data": {
      "text/html": [
       "<div>\n",
       "<style scoped>\n",
       "    .dataframe tbody tr th:only-of-type {\n",
       "        vertical-align: middle;\n",
       "    }\n",
       "\n",
       "    .dataframe tbody tr th {\n",
       "        vertical-align: top;\n",
       "    }\n",
       "\n",
       "    .dataframe thead th {\n",
       "        text-align: right;\n",
       "    }\n",
       "</style>\n",
       "<table border=\"1\" class=\"dataframe\">\n",
       "  <thead>\n",
       "    <tr style=\"text-align: right;\">\n",
       "      <th></th>\n",
       "      <th>title</th>\n",
       "      <th>genres</th>\n",
       "      <th>movie_bias</th>\n",
       "    </tr>\n",
       "    <tr>\n",
       "      <th>movieId</th>\n",
       "      <th></th>\n",
       "      <th></th>\n",
       "      <th></th>\n",
       "    </tr>\n",
       "  </thead>\n",
       "  <tbody>\n",
       "    <tr>\n",
       "      <td>899</td>\n",
       "      <td>Raiders of the Lost Ark (Indiana Jones and the...</td>\n",
       "      <td>Action|Adventure</td>\n",
       "      <td>0.749778</td>\n",
       "    </tr>\n",
       "    <tr>\n",
       "      <td>5924</td>\n",
       "      <td>Serenity</td>\n",
       "      <td>Action|Adventure|Sci-Fi</td>\n",
       "      <td>0.733076</td>\n",
       "    </tr>\n",
       "    <tr>\n",
       "      <td>7858</td>\n",
       "      <td>Moonrise Kingdom</td>\n",
       "      <td>Comedy|Drama|Romance</td>\n",
       "      <td>0.728449</td>\n",
       "    </tr>\n",
       "    <tr>\n",
       "      <td>4897</td>\n",
       "      <td>Hellboy</td>\n",
       "      <td>Action|Adventure|Fantasy|Horror</td>\n",
       "      <td>0.672095</td>\n",
       "    </tr>\n",
       "    <tr>\n",
       "      <td>1157</td>\n",
       "      <td>Fifth Element, The</td>\n",
       "      <td>Action|Adventure|Comedy|Sci-Fi</td>\n",
       "      <td>0.661768</td>\n",
       "    </tr>\n",
       "    <tr>\n",
       "      <td>1797</td>\n",
       "      <td>Miracle on 34th Street</td>\n",
       "      <td>Comedy|Drama</td>\n",
       "      <td>0.641954</td>\n",
       "    </tr>\n",
       "    <tr>\n",
       "      <td>7706</td>\n",
       "      <td>Hugo</td>\n",
       "      <td>Children|Drama|Mystery</td>\n",
       "      <td>0.627448</td>\n",
       "    </tr>\n",
       "    <tr>\n",
       "      <td>1396</td>\n",
       "      <td>Buffalo '66 (a.k.a. Buffalo 66)</td>\n",
       "      <td>Drama|Romance</td>\n",
       "      <td>0.611100</td>\n",
       "    </tr>\n",
       "  </tbody>\n",
       "</table>\n",
       "</div>"
      ],
      "text/plain": [
       "                                                     title  \\\n",
       "movieId                                                      \n",
       "899      Raiders of the Lost Ark (Indiana Jones and the...   \n",
       "5924                                              Serenity   \n",
       "7858                                      Moonrise Kingdom   \n",
       "4897                                               Hellboy   \n",
       "1157                                    Fifth Element, The   \n",
       "1797                                Miracle on 34th Street   \n",
       "7706                                                  Hugo   \n",
       "1396                       Buffalo '66 (a.k.a. Buffalo 66)   \n",
       "\n",
       "                                  genres  movie_bias  \n",
       "movieId                                               \n",
       "899                     Action|Adventure    0.749778  \n",
       "5924             Action|Adventure|Sci-Fi    0.733076  \n",
       "7858                Comedy|Drama|Romance    0.728449  \n",
       "4897     Action|Adventure|Fantasy|Horror    0.672095  \n",
       "1157      Action|Adventure|Comedy|Sci-Fi    0.661768  \n",
       "1797                        Comedy|Drama    0.641954  \n",
       "7706              Children|Drama|Mystery    0.627448  \n",
       "1396                       Drama|Romance    0.611100  "
      ]
     },
     "execution_count": 31,
     "metadata": {},
     "output_type": "execute_result"
    }
   ],
   "source": [
    "df_top_movies.sort_values('movie_bias', ascending=False).head(8)"
   ]
  },
  {
   "cell_type": "markdown",
   "metadata": {},
   "source": [
    "\"Raiders\" apparently gets a boost to indicate people like it."
   ]
  },
  {
   "cell_type": "markdown",
   "metadata": {},
   "source": [
    "The fastai book points out quite nicely that movies with very negative biases mean that people don't like them, even when the movie x user dot product gives the movie a high score (a high score indicates they are likely to enjoy that movie based on the latent features).  For the really positive bias movies, such as 0.9593 bias, that indicates that even if the movie is not a good fit for you, you might like it because it gives you almost a full star boost because it is that good. Of course, it is also the case that poorly matched movies with low bias predicts a really bad experience watching the movie.  Naturally we should recommend to people movies that have both high product and high bias."
   ]
  },
  {
   "cell_type": "markdown",
   "metadata": {},
   "source": [
    "### Project 50D embeddings onto 2D"
   ]
  },
  {
   "cell_type": "code",
   "execution_count": 32,
   "metadata": {},
   "outputs": [
    {
     "data": {
      "image/png": "[encoded data removed]",
      "text/plain": [
       "<Figure size 864x864 with 1 Axes>"
      ]
     },
     "metadata": {
      "needs_background": "light"
     },
     "output_type": "display_data"
    }
   ],
   "source": [
    "vecs2D, titles = plot_2D(df_top_movies[:500])"
   ]
  },
  {
   "cell_type": "markdown",
   "metadata": {},
   "source": [
    "We can see that the Lord of the rings movies are more or less right on top of each other and so are the Star Wars movies."
   ]
  },
  {
   "cell_type": "code",
   "execution_count": 33,
   "metadata": {},
   "outputs": [
    {
     "data": {
      "text/html": [
       "<div>\n",
       "<style scoped>\n",
       "    .dataframe tbody tr th:only-of-type {\n",
       "        vertical-align: middle;\n",
       "    }\n",
       "\n",
       "    .dataframe tbody tr th {\n",
       "        vertical-align: top;\n",
       "    }\n",
       "\n",
       "    .dataframe thead th {\n",
       "        text-align: right;\n",
       "    }\n",
       "</style>\n",
       "<table border=\"1\" class=\"dataframe\">\n",
       "  <thead>\n",
       "    <tr style=\"text-align: right;\">\n",
       "      <th></th>\n",
       "      <th>title</th>\n",
       "      <th>genres</th>\n",
       "      <th>movie_bias</th>\n",
       "      <th>f1</th>\n",
       "      <th>f2</th>\n",
       "      <th>f3</th>\n",
       "    </tr>\n",
       "    <tr>\n",
       "      <th>movieId</th>\n",
       "      <th></th>\n",
       "      <th></th>\n",
       "      <th></th>\n",
       "      <th></th>\n",
       "      <th></th>\n",
       "      <th></th>\n",
       "    </tr>\n",
       "  </thead>\n",
       "  <tbody>\n",
       "    <tr>\n",
       "      <td>314</td>\n",
       "      <td>Forrest Gump</td>\n",
       "      <td>Comedy|Drama|Romance|War</td>\n",
       "      <td>0.289581</td>\n",
       "      <td>-0.762053</td>\n",
       "      <td>0.578760</td>\n",
       "      <td>0.963057</td>\n",
       "    </tr>\n",
       "    <tr>\n",
       "      <td>277</td>\n",
       "      <td>Shawshank Redemption, The</td>\n",
       "      <td>Crime|Drama</td>\n",
       "      <td>0.443922</td>\n",
       "      <td>0.302226</td>\n",
       "      <td>1.656597</td>\n",
       "      <td>-0.192761</td>\n",
       "    </tr>\n",
       "    <tr>\n",
       "      <td>257</td>\n",
       "      <td>Pulp Fiction</td>\n",
       "      <td>Comedy|Crime|Drama|Thriller</td>\n",
       "      <td>0.414124</td>\n",
       "      <td>1.958501</td>\n",
       "      <td>-0.712206</td>\n",
       "      <td>0.364429</td>\n",
       "    </tr>\n",
       "    <tr>\n",
       "      <td>510</td>\n",
       "      <td>Silence of the Lambs, The</td>\n",
       "      <td>Crime|Horror|Thriller</td>\n",
       "      <td>-0.055161</td>\n",
       "      <td>1.078384</td>\n",
       "      <td>-0.244830</td>\n",
       "      <td>-0.282845</td>\n",
       "    </tr>\n",
       "    <tr>\n",
       "      <td>1938</td>\n",
       "      <td>Matrix, The</td>\n",
       "      <td>Action|Sci-Fi|Thriller</td>\n",
       "      <td>0.043495</td>\n",
       "      <td>0.959686</td>\n",
       "      <td>-0.535785</td>\n",
       "      <td>0.463830</td>\n",
       "    </tr>\n",
       "    <tr>\n",
       "      <td>...</td>\n",
       "      <td>...</td>\n",
       "      <td>...</td>\n",
       "      <td>...</td>\n",
       "      <td>...</td>\n",
       "      <td>...</td>\n",
       "      <td>...</td>\n",
       "    </tr>\n",
       "    <tr>\n",
       "      <td>4831</td>\n",
       "      <td>The Butterfly Effect</td>\n",
       "      <td>Drama|Sci-Fi|Thriller</td>\n",
       "      <td>-0.282619</td>\n",
       "      <td>-0.113282</td>\n",
       "      <td>0.358868</td>\n",
       "      <td>0.736501</td>\n",
       "    </tr>\n",
       "    <tr>\n",
       "      <td>3657</td>\n",
       "      <td>M*A*S*H (a.k.a. MASH)</td>\n",
       "      <td>Comedy|Drama|War</td>\n",
       "      <td>0.281121</td>\n",
       "      <td>0.199322</td>\n",
       "      <td>-0.136246</td>\n",
       "      <td>-0.195081</td>\n",
       "    </tr>\n",
       "    <tr>\n",
       "      <td>4002</td>\n",
       "      <td>Ring, The</td>\n",
       "      <td>Horror|Mystery|Thriller</td>\n",
       "      <td>0.100842</td>\n",
       "      <td>-0.091383</td>\n",
       "      <td>0.009919</td>\n",
       "      <td>-0.473741</td>\n",
       "    </tr>\n",
       "    <tr>\n",
       "      <td>4100</td>\n",
       "      <td>Adaptation</td>\n",
       "      <td>Comedy|Drama|Romance</td>\n",
       "      <td>0.160270</td>\n",
       "      <td>0.627811</td>\n",
       "      <td>0.202017</td>\n",
       "      <td>-0.894218</td>\n",
       "    </tr>\n",
       "    <tr>\n",
       "      <td>6227</td>\n",
       "      <td>Pursuit of Happyness, The</td>\n",
       "      <td>Drama</td>\n",
       "      <td>-0.298308</td>\n",
       "      <td>-0.284643</td>\n",
       "      <td>0.780228</td>\n",
       "      <td>0.560833</td>\n",
       "    </tr>\n",
       "  </tbody>\n",
       "</table>\n",
       "<p>500 rows × 6 columns</p>\n",
       "</div>"
      ],
      "text/plain": [
       "                             title                       genres  movie_bias  \\\n",
       "movieId                                                                       \n",
       "314                   Forrest Gump     Comedy|Drama|Romance|War    0.289581   \n",
       "277      Shawshank Redemption, The                  Crime|Drama    0.443922   \n",
       "257                   Pulp Fiction  Comedy|Crime|Drama|Thriller    0.414124   \n",
       "510      Silence of the Lambs, The        Crime|Horror|Thriller   -0.055161   \n",
       "1938                   Matrix, The       Action|Sci-Fi|Thriller    0.043495   \n",
       "...                            ...                          ...         ...   \n",
       "4831          The Butterfly Effect        Drama|Sci-Fi|Thriller   -0.282619   \n",
       "3657         M*A*S*H (a.k.a. MASH)             Comedy|Drama|War    0.281121   \n",
       "4002                     Ring, The      Horror|Mystery|Thriller    0.100842   \n",
       "4100                    Adaptation         Comedy|Drama|Romance    0.160270   \n",
       "6227     Pursuit of Happyness, The                        Drama   -0.298308   \n",
       "\n",
       "               f1        f2        f3  \n",
       "movieId                                \n",
       "314     -0.762053  0.578760  0.963057  \n",
       "277      0.302226  1.656597 -0.192761  \n",
       "257      1.958501 -0.712206  0.364429  \n",
       "510      1.078384 -0.244830 -0.282845  \n",
       "1938     0.959686 -0.535785  0.463830  \n",
       "...           ...       ...       ...  \n",
       "4831    -0.113282  0.358868  0.736501  \n",
       "3657     0.199322 -0.136246 -0.195081  \n",
       "4002    -0.091383  0.009919 -0.473741  \n",
       "4100     0.627811  0.202017 -0.894218  \n",
       "6227    -0.284643  0.780228  0.560833  \n",
       "\n",
       "[500 rows x 6 columns]"
      ]
     },
     "execution_count": 33,
     "metadata": {},
     "output_type": "execute_result"
    }
   ],
   "source": [
    "movieIds = df_top_movies[:500].index.values\n",
    "titles = df_top_movies.loc[movieIds,'title']\n",
    "\n",
    "movie_embeddings = model.M[movieIds].detach().numpy()\n",
    "pca = PCA(n_components=3) # <-- 3 not 2\n",
    "vecs2D = pca.fit_transform(movie_embeddings)\n",
    "df_sort = df_top_movies[:500].copy()\n",
    "df_sort['f1'] = vecs2D[:,0]\n",
    "df_sort['f2'] = vecs2D[:,1]\n",
    "df_sort['f3'] = vecs2D[:,2]\n",
    "df_sort"
   ]
  },
  {
   "cell_type": "markdown",
   "metadata": {},
   "source": [
    "Sort movies by the projected dimension. It looks like the first dimension is a spectrum of maybe comedy/light on one side and violence on the other.  The second dimension might be action versus romance drama. I don't see a pattern for the third dimension."
   ]
  },
  {
   "cell_type": "code",
   "execution_count": 34,
   "metadata": {},
   "outputs": [
    {
     "data": {
      "text/html": [
       "<div>\n",
       "<style scoped>\n",
       "    .dataframe tbody tr th:only-of-type {\n",
       "        vertical-align: middle;\n",
       "    }\n",
       "\n",
       "    .dataframe tbody tr th {\n",
       "        vertical-align: top;\n",
       "    }\n",
       "\n",
       "    .dataframe thead th {\n",
       "        text-align: right;\n",
       "    }\n",
       "</style>\n",
       "<table border=\"1\" class=\"dataframe\">\n",
       "  <thead>\n",
       "    <tr style=\"text-align: right;\">\n",
       "      <th></th>\n",
       "      <th>title</th>\n",
       "      <th>genres</th>\n",
       "    </tr>\n",
       "    <tr>\n",
       "      <th>movieId</th>\n",
       "      <th></th>\n",
       "      <th></th>\n",
       "    </tr>\n",
       "  </thead>\n",
       "  <tbody>\n",
       "    <tr>\n",
       "      <td>376</td>\n",
       "      <td>City Slickers II: The Legend of Curly's Gold</td>\n",
       "      <td>Adventure|Comedy|Western</td>\n",
       "    </tr>\n",
       "    <tr>\n",
       "      <td>3869</td>\n",
       "      <td>Men in Black II (a.k.a. MIIB) (a.k.a. MIB 2)</td>\n",
       "      <td>Action|Comedy|Sci-Fi</td>\n",
       "    </tr>\n",
       "    <tr>\n",
       "      <td>1939</td>\n",
       "      <td>10 Things I Hate About You</td>\n",
       "      <td>Comedy|Romance</td>\n",
       "    </tr>\n",
       "    <tr>\n",
       "      <td>3274</td>\n",
       "      <td>Legally Blonde</td>\n",
       "      <td>Comedy|Romance</td>\n",
       "    </tr>\n",
       "    <tr>\n",
       "      <td>4</td>\n",
       "      <td>Father of the Bride Part II</td>\n",
       "      <td>Comedy</td>\n",
       "    </tr>\n",
       "    <tr>\n",
       "      <td>...</td>\n",
       "      <td>...</td>\n",
       "      <td>...</td>\n",
       "    </tr>\n",
       "    <tr>\n",
       "      <td>602</td>\n",
       "      <td>Dr. Strangelove or: How I Learned to Stop Worr...</td>\n",
       "      <td>Comedy|War</td>\n",
       "    </tr>\n",
       "    <tr>\n",
       "      <td>6279</td>\n",
       "      <td>Borat: Cultural Learnings of America for Make ...</td>\n",
       "      <td>Comedy</td>\n",
       "    </tr>\n",
       "    <tr>\n",
       "      <td>900</td>\n",
       "      <td>Brazil</td>\n",
       "      <td>Fantasy|Sci-Fi</td>\n",
       "    </tr>\n",
       "    <tr>\n",
       "      <td>659</td>\n",
       "      <td>Godfather, The</td>\n",
       "      <td>Crime|Drama</td>\n",
       "    </tr>\n",
       "    <tr>\n",
       "      <td>257</td>\n",
       "      <td>Pulp Fiction</td>\n",
       "      <td>Comedy|Crime|Drama|Thriller</td>\n",
       "    </tr>\n",
       "  </tbody>\n",
       "</table>\n",
       "<p>500 rows × 2 columns</p>\n",
       "</div>"
      ],
      "text/plain": [
       "                                                     title  \\\n",
       "movieId                                                      \n",
       "376           City Slickers II: The Legend of Curly's Gold   \n",
       "3869          Men in Black II (a.k.a. MIIB) (a.k.a. MIB 2)   \n",
       "1939                            10 Things I Hate About You   \n",
       "3274                                        Legally Blonde   \n",
       "4                              Father of the Bride Part II   \n",
       "...                                                    ...   \n",
       "602      Dr. Strangelove or: How I Learned to Stop Worr...   \n",
       "6279     Borat: Cultural Learnings of America for Make ...   \n",
       "900                                                 Brazil   \n",
       "659                                         Godfather, The   \n",
       "257                                           Pulp Fiction   \n",
       "\n",
       "                              genres  \n",
       "movieId                               \n",
       "376         Adventure|Comedy|Western  \n",
       "3869            Action|Comedy|Sci-Fi  \n",
       "1939                  Comedy|Romance  \n",
       "3274                  Comedy|Romance  \n",
       "4                             Comedy  \n",
       "...                              ...  \n",
       "602                       Comedy|War  \n",
       "6279                          Comedy  \n",
       "900                   Fantasy|Sci-Fi  \n",
       "659                      Crime|Drama  \n",
       "257      Comedy|Crime|Drama|Thriller  \n",
       "\n",
       "[500 rows x 2 columns]"
      ]
     },
     "execution_count": 34,
     "metadata": {},
     "output_type": "execute_result"
    }
   ],
   "source": [
    "df_sort.sort_values(by='f1')[['title','genres']]"
   ]
  },
  {
   "cell_type": "code",
   "execution_count": 35,
   "metadata": {},
   "outputs": [
    {
     "data": {
      "text/html": [
       "<div>\n",
       "<style scoped>\n",
       "    .dataframe tbody tr th:only-of-type {\n",
       "        vertical-align: middle;\n",
       "    }\n",
       "\n",
       "    .dataframe tbody tr th {\n",
       "        vertical-align: top;\n",
       "    }\n",
       "\n",
       "    .dataframe thead th {\n",
       "        text-align: right;\n",
       "    }\n",
       "</style>\n",
       "<table border=\"1\" class=\"dataframe\">\n",
       "  <thead>\n",
       "    <tr style=\"text-align: right;\">\n",
       "      <th></th>\n",
       "      <th>title</th>\n",
       "      <th>genres</th>\n",
       "    </tr>\n",
       "    <tr>\n",
       "      <th>movieId</th>\n",
       "      <th></th>\n",
       "      <th></th>\n",
       "    </tr>\n",
       "  </thead>\n",
       "  <tbody>\n",
       "    <tr>\n",
       "      <td>1260</td>\n",
       "      <td>Starship Troopers</td>\n",
       "      <td>Action|Sci-Fi</td>\n",
       "    </tr>\n",
       "    <tr>\n",
       "      <td>2299</td>\n",
       "      <td>Dogma</td>\n",
       "      <td>Adventure|Comedy|Fantasy</td>\n",
       "    </tr>\n",
       "    <tr>\n",
       "      <td>1622</td>\n",
       "      <td>Blade</td>\n",
       "      <td>Action|Horror|Thriller</td>\n",
       "    </tr>\n",
       "    <tr>\n",
       "      <td>2636</td>\n",
       "      <td>American Psycho</td>\n",
       "      <td>Crime|Horror|Mystery|Thriller</td>\n",
       "    </tr>\n",
       "    <tr>\n",
       "      <td>1180</td>\n",
       "      <td>Face/Off</td>\n",
       "      <td>Action|Crime|Drama|Thriller</td>\n",
       "    </tr>\n",
       "    <tr>\n",
       "      <td>...</td>\n",
       "      <td>...</td>\n",
       "      <td>...</td>\n",
       "    </tr>\n",
       "    <tr>\n",
       "      <td>692</td>\n",
       "      <td>Some Like It Hot</td>\n",
       "      <td>Comedy|Crime</td>\n",
       "    </tr>\n",
       "    <tr>\n",
       "      <td>792</td>\n",
       "      <td>Sound of Music, The</td>\n",
       "      <td>Musical|Romance</td>\n",
       "    </tr>\n",
       "    <tr>\n",
       "      <td>907</td>\n",
       "      <td>To Kill a Mockingbird</td>\n",
       "      <td>Drama</td>\n",
       "    </tr>\n",
       "    <tr>\n",
       "      <td>277</td>\n",
       "      <td>Shawshank Redemption, The</td>\n",
       "      <td>Crime|Drama</td>\n",
       "    </tr>\n",
       "    <tr>\n",
       "      <td>690</td>\n",
       "      <td>North by Northwest</td>\n",
       "      <td>Action|Adventure|Mystery|Romance|Thriller</td>\n",
       "    </tr>\n",
       "  </tbody>\n",
       "</table>\n",
       "<p>500 rows × 2 columns</p>\n",
       "</div>"
      ],
      "text/plain": [
       "                             title                                     genres\n",
       "movieId                                                                      \n",
       "1260             Starship Troopers                              Action|Sci-Fi\n",
       "2299                         Dogma                   Adventure|Comedy|Fantasy\n",
       "1622                         Blade                     Action|Horror|Thriller\n",
       "2636               American Psycho              Crime|Horror|Mystery|Thriller\n",
       "1180                      Face/Off                Action|Crime|Drama|Thriller\n",
       "...                            ...                                        ...\n",
       "692               Some Like It Hot                               Comedy|Crime\n",
       "792            Sound of Music, The                            Musical|Romance\n",
       "907          To Kill a Mockingbird                                      Drama\n",
       "277      Shawshank Redemption, The                                Crime|Drama\n",
       "690             North by Northwest  Action|Adventure|Mystery|Romance|Thriller\n",
       "\n",
       "[500 rows x 2 columns]"
      ]
     },
     "execution_count": 35,
     "metadata": {},
     "output_type": "execute_result"
    }
   ],
   "source": [
    "df_sort.sort_values(by='f2')[['title','genres']]"
   ]
  },
  {
   "cell_type": "code",
   "execution_count": 36,
   "metadata": {},
   "outputs": [
    {
     "data": {
      "text/html": [
       "<div>\n",
       "<style scoped>\n",
       "    .dataframe tbody tr th:only-of-type {\n",
       "        vertical-align: middle;\n",
       "    }\n",
       "\n",
       "    .dataframe tbody tr th {\n",
       "        vertical-align: top;\n",
       "    }\n",
       "\n",
       "    .dataframe thead th {\n",
       "        text-align: right;\n",
       "    }\n",
       "</style>\n",
       "<table border=\"1\" class=\"dataframe\">\n",
       "  <thead>\n",
       "    <tr style=\"text-align: right;\">\n",
       "      <th></th>\n",
       "      <th>title</th>\n",
       "      <th>genres</th>\n",
       "    </tr>\n",
       "    <tr>\n",
       "      <th>movieId</th>\n",
       "      <th></th>\n",
       "      <th></th>\n",
       "    </tr>\n",
       "  </thead>\n",
       "  <tbody>\n",
       "    <tr>\n",
       "      <td>4410</td>\n",
       "      <td>Pirates of the Caribbean: The Curse of the Bla...</td>\n",
       "      <td>Action|Adventure|Comedy|Fantasy</td>\n",
       "    </tr>\n",
       "    <tr>\n",
       "      <td>3623</td>\n",
       "      <td>Lord of the Rings: The Fellowship of the Ring,...</td>\n",
       "      <td>Adventure|Fantasy</td>\n",
       "    </tr>\n",
       "    <tr>\n",
       "      <td>4780</td>\n",
       "      <td>Lord of the Rings: The Return of the King, The</td>\n",
       "      <td>Action|Adventure|Drama|Fantasy</td>\n",
       "    </tr>\n",
       "    <tr>\n",
       "      <td>1430</td>\n",
       "      <td>Rocky</td>\n",
       "      <td>Drama</td>\n",
       "    </tr>\n",
       "    <tr>\n",
       "      <td>690</td>\n",
       "      <td>North by Northwest</td>\n",
       "      <td>Action|Adventure|Mystery|Romance|Thriller</td>\n",
       "    </tr>\n",
       "    <tr>\n",
       "      <td>...</td>\n",
       "      <td>...</td>\n",
       "      <td>...</td>\n",
       "    </tr>\n",
       "    <tr>\n",
       "      <td>3222</td>\n",
       "      <td>A.I. Artificial Intelligence</td>\n",
       "      <td>Adventure|Drama|Sci-Fi</td>\n",
       "    </tr>\n",
       "    <tr>\n",
       "      <td>6298</td>\n",
       "      <td>Prestige, The</td>\n",
       "      <td>Drama|Mystery|Sci-Fi|Thriller</td>\n",
       "    </tr>\n",
       "    <tr>\n",
       "      <td>1729</td>\n",
       "      <td>Life Is Beautiful (La Vita è bella)</td>\n",
       "      <td>Comedy|Drama|Romance|War</td>\n",
       "    </tr>\n",
       "    <tr>\n",
       "      <td>249</td>\n",
       "      <td>Natural Born Killers</td>\n",
       "      <td>Action|Crime|Thriller</td>\n",
       "    </tr>\n",
       "    <tr>\n",
       "      <td>1304</td>\n",
       "      <td>Dark City</td>\n",
       "      <td>Adventure|Film-Noir|Sci-Fi|Thriller</td>\n",
       "    </tr>\n",
       "  </tbody>\n",
       "</table>\n",
       "<p>500 rows × 2 columns</p>\n",
       "</div>"
      ],
      "text/plain": [
       "                                                     title  \\\n",
       "movieId                                                      \n",
       "4410     Pirates of the Caribbean: The Curse of the Bla...   \n",
       "3623     Lord of the Rings: The Fellowship of the Ring,...   \n",
       "4780        Lord of the Rings: The Return of the King, The   \n",
       "1430                                                 Rocky   \n",
       "690                                     North by Northwest   \n",
       "...                                                    ...   \n",
       "3222                          A.I. Artificial Intelligence   \n",
       "6298                                         Prestige, The   \n",
       "1729                   Life Is Beautiful (La Vita è bella)   \n",
       "249                                   Natural Born Killers   \n",
       "1304                                             Dark City   \n",
       "\n",
       "                                            genres  \n",
       "movieId                                             \n",
       "4410               Action|Adventure|Comedy|Fantasy  \n",
       "3623                             Adventure|Fantasy  \n",
       "4780                Action|Adventure|Drama|Fantasy  \n",
       "1430                                         Drama  \n",
       "690      Action|Adventure|Mystery|Romance|Thriller  \n",
       "...                                            ...  \n",
       "3222                        Adventure|Drama|Sci-Fi  \n",
       "6298                 Drama|Mystery|Sci-Fi|Thriller  \n",
       "1729                      Comedy|Drama|Romance|War  \n",
       "249                          Action|Crime|Thriller  \n",
       "1304           Adventure|Film-Noir|Sci-Fi|Thriller  \n",
       "\n",
       "[500 rows x 2 columns]"
      ]
     },
     "execution_count": 36,
     "metadata": {},
     "output_type": "execute_result"
    }
   ],
   "source": [
    "df_sort.sort_values(by='f3')[['title','genres']]"
   ]
  },
  {
   "cell_type": "markdown",
   "metadata": {},
   "source": [
    "## Lessons\n",
    "\n",
    "Make sure that you have a valid way to assess your model before you start. I spent many hours chasing a bad model that in fact was simply a bad assessment.\n",
    "\n",
    "With about 10,000 movies, most of them you will not of heard of. So if you try to show a PCA projection or top bias movies or something like that, you will likely see a bunch of movies you don't know. I dropped it down to 2000 for visualization purposes but not training.\n",
    "\n",
    "It seems that driving the training score very low gives me a much tighter joint plot; this is despite the fact that the validation error was going up."
   ]
  }
 ],
 "metadata": {
  "kernelspec": {
   "display_name": "Python 3",
   "language": "python",
   "name": "python3"
  },
  "language_info": {
   "codemirror_mode": {
    "name": "ipython",
    "version": 3
   },
   "file_extension": ".py",
   "mimetype": "text/x-python",
   "name": "python",
   "nbconvert_exporter": "python",
   "pygments_lexer": "ipython3",
   "version": "3.7.4"
  }
 },
 "nbformat": 4,
 "nbformat_minor": 4
}
