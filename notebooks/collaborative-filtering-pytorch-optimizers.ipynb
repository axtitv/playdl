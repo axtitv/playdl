{
 "cells": [
  {
   "cell_type": "markdown",
   "metadata": {},
   "source": [
    "# Clever filtering using pytorch Module and optimizer\n",
    "\n",
    "I didn't have good luck using my own gradient descent so I'm using this as an opportunity to learn the higher level pytorch mechanisms like `torch.nn`. This [tutorial on pytorch](https://pytorch.org/tutorials/beginner/pytorch_with_examples.html) is very good."
   ]
  },
  {
   "cell_type": "markdown",
   "metadata": {},
   "source": [
    "## Support code"
   ]
  },
  {
   "cell_type": "code",
   "execution_count": 1,
   "metadata": {},
   "outputs": [],
   "source": [
    "import math\n",
    "import torch\n",
    "dtype = torch.float\n",
    "device = torch.device('cuda:0' if torch.cuda.is_available() else 'cpu')"
   ]
  },
  {
   "cell_type": "code",
   "execution_count": 2,
   "metadata": {},
   "outputs": [],
   "source": [
    "import numpy as np\n",
    "from sklearn.model_selection import train_test_split\n",
    "from sklearn.model_selection import cross_val_score\n",
    "from sklearn.ensemble import RandomForestClassifier, RandomForestRegressor\n",
    "\n",
    "def RF_valid(df, movie_embeddings, user_embeddings):\n",
    "    X = df[['movieId','userId']]\n",
    "    y = df['rating']\n",
    "    X_emb = np.concatenate([movie_embeddings[X['movieId']],user_embeddings[X['userId']]], axis=1)\n",
    "\n",
    "    rf = RandomForestRegressor(n_estimators=100, n_jobs=-1, oob_score=True)\n",
    "    rf.fit(X_emb, y)\n",
    "    print(f\"OOB R^2 {rf.oob_score_:.3f}\")\n",
    "    print(f\"Train R^2 {rf.score(X_emb, y):.3f}\")"
   ]
  },
  {
   "cell_type": "code",
   "execution_count": 3,
   "metadata": {},
   "outputs": [],
   "source": [
    "import pandas as pd\n",
    "import re\n",
    "\n",
    "def load(n = 10):\n",
    "    df_ratings = pd.read_csv('data/ml-latest-small/ratings.csv')\n",
    "    df_ratings = df_ratings.drop('timestamp', axis=1)\n",
    "    df_ratings = df_ratings.sample(n=n).reset_index(drop=True)\n",
    "    # Merge in the title and genres\n",
    "    df_movies = pd.read_csv('data/ml-latest-small/movies.csv')\n",
    "    df = df_ratings.merge(df_movies, on='movieId')\n",
    "    # Strip the \"(1999)\" dates from the titles\n",
    "    p = re.compile(r'[()0-9]+$')\n",
    "    df['title'] = df['title'].map(lambda x: p.sub('', x).strip())\n",
    "    return df\n",
    "\n",
    "def compress_cats(df, colname):\n",
    "    df[colname] = df[colname].astype('category').cat.as_ordered()\n",
    "    df[colname] = df[colname].cat.codes # encode 0..n-1  NB: Different than I usually do (1..n)!!!!\n",
    "    df[colname] = df[colname].astype(int)\n",
    "    \n",
    "def normal_transform(x, mean=0.0, std=0.01):\n",
    "    \"Convert x to have mean and std\"\n",
    "    return x*std + mean\n",
    "\n",
    "def randn(n1, n2, device, dtype, mean=0.0, std=0.01, requires_grad=False):\n",
    "    x = torch.randn(n1, n2, device=device, dtype=dtype)\n",
    "    x = normal_transform(x, mean=mean, std=std)\n",
    "    x.requires_grad=requires_grad\n",
    "    return x"
   ]
  },
  {
   "cell_type": "code",
   "execution_count": 4,
   "metadata": {},
   "outputs": [],
   "source": [
    "def mae(y_pred, y):\n",
    "    return torch.mean( (y_pred - y).abs() )"
   ]
  },
  {
   "cell_type": "code",
   "execution_count": 5,
   "metadata": {},
   "outputs": [],
   "source": [
    "def train_test_split(data, test_size:float):\n",
    "    n = len(data)\n",
    "    n_valid = int(n*test_size)\n",
    "    n_train = n - n_valid\n",
    "    indices = torch.randperm(n)\n",
    "    train_idx = indices[0:n_train]\n",
    "    test_idx = indices[n_train:]\n",
    "    train, test = data[train_idx], data[test_idx] # copying data but could not get columns out of a Subset object\n",
    "    # train, valid = data, data\n",
    "    X_train = train[:,[0,1]].float()\n",
    "    X_test = test[:,[0,1]].float()\n",
    "    y_train = train[:,2].float()\n",
    "    y_test = test[:,2].float()\n",
    "    return X_train, X_test, y_train, y_test"
   ]
  },
  {
   "cell_type": "code",
   "execution_count": 6,
   "metadata": {},
   "outputs": [],
   "source": [
    "def top_movies(df, n=100):\n",
    "    rating_count = df.groupby('movieId')['rating'].count()\n",
    "    top_movieIds = rating_count.sort_values(ascending=False).index.values[:n]\n",
    "\n",
    "    df_top = df[df['movieId'].isin(top_movieIds)][['movieId','title','genres']].drop_duplicates()\n",
    "    return df_top"
   ]
  },
  {
   "cell_type": "code",
   "execution_count": 7,
   "metadata": {},
   "outputs": [],
   "source": [
    "import matplotlib.pyplot as plt\n",
    "def plot_history(history, yrange=(0.0, 5.00), figsize=(3.5,3)):\n",
    "    plt.figure(figsize=figsize)\n",
    "    plt.ylabel(\"Rating (0..5.0) MAE\")\n",
    "    plt.xlabel(\"Epochs\")\n",
    "    loss = history[:,0]\n",
    "    valid_loss = history[:,1]\n",
    "    plt.plot(loss, label='train_loss')\n",
    "    plt.plot(valid_loss, label='val_loss')\n",
    "    # plt.xlim(0, 200)\n",
    "    plt.ylim(*yrange)\n",
    "    plt.legend(loc='lower right')\n",
    "    plt.show()"
   ]
  },
  {
   "cell_type": "code",
   "execution_count": 8,
   "metadata": {},
   "outputs": [],
   "source": [
    "from sklearn.decomposition import PCA\n",
    "\n",
    "def mcolor(genre):\n",
    "    if 'Comedy' in genre: return 'green'\n",
    "    if 'Sci-Fi' in genre: return 'cyan'\n",
    "    if 'War' in genre: return 'red'\n",
    "    if 'Drama' in genre: return '#FEE08F'\n",
    "    return 'black'\n",
    "\n",
    "def plot_comedy_drama_embeddings(df, movie_embeddings, n=1000, xrange=(-1,1), yrange=(-1,1)):\n",
    "#    df_movies = df[(df['genres'].str.contains('Comedy'))|(df['genres'].str.contains('Drama'))]\n",
    "#     df_movies = top_movies(df_movies, n)\n",
    "    df_movies = top_movies(df, n)\n",
    "    movie_embeddings = movie_embeddings[df_movies['movieId'].values]\n",
    "    \n",
    "    plt.figure(figsize=(5,5))\n",
    "    movieIds = df_movies['movieId'].values\n",
    "    genres = df_movies['genres'].values\n",
    "    titles = df_movies['title'].values\n",
    "    pca = PCA(n_components=2)\n",
    "    vecs2D = pca.fit_transform(movie_embeddings)\n",
    "    c = [mcolor(genres[i]) for i in range(len(vecs2D))]\n",
    "    plt.scatter(vecs2D[:,0], vecs2D[:,1], c=c, s=5, alpha=.5)\n",
    "    plt.xlim(*xrange)\n",
    "    plt.ylim(*yrange)\n",
    "    plt.show()\n",
    "    return df_movies, vecs2D"
   ]
  },
  {
   "cell_type": "code",
   "execution_count": 9,
   "metadata": {},
   "outputs": [
    {
     "data": {
      "text/html": [
       "\n",
       "    <div class=\"bk-root\">\n",
       "        <a href=\"https://bokeh.pydata.org\" target=\"_blank\" class=\"bk-logo bk-logo-small bk-logo-notebook\"></a>\n",
       "        <span id=\"1001\">Loading BokehJS ...</span>\n",
       "    </div>"
      ]
     },
     "metadata": {},
     "output_type": "display_data"
    },
    {
     "data": {
      "application/javascript": [
       "\n",
       "(function(root) {\n",
       "  function now() {\n",
       "    return new Date();\n",
       "  }\n",
       "\n",
       "  var force = true;\n",
       "\n",
       "  if (typeof root._bokeh_onload_callbacks === \"undefined\" || force === true) {\n",
       "    root._bokeh_onload_callbacks = [];\n",
       "    root._bokeh_is_loading = undefined;\n",
       "  }\n",
       "\n",
       "  var JS_MIME_TYPE = 'application/javascript';\n",
       "  var HTML_MIME_TYPE = 'text/html';\n",
       "  var EXEC_MIME_TYPE = 'application/vnd.bokehjs_exec.v0+json';\n",
       "  var CLASS_NAME = 'output_bokeh rendered_html';\n",
       "\n",
       "  /**\n",
       "   * Render data to the DOM node\n",
       "   */\n",
       "  function render(props, node) {\n",
       "    var script = document.createElement(\"script\");\n",
       "    node.appendChild(script);\n",
       "  }\n",
       "\n",
       "  /**\n",
       "   * Handle when an output is cleared or removed\n",
       "   */\n",
       "  function handleClearOutput(event, handle) {\n",
       "    var cell = handle.cell;\n",
       "\n",
       "    var id = cell.output_area._bokeh_element_id;\n",
       "    var server_id = cell.output_area._bokeh_server_id;\n",
       "    // Clean up Bokeh references\n",
       "    if (id != null && id in Bokeh.index) {\n",
       "      Bokeh.index[id].model.document.clear();\n",
       "      delete Bokeh.index[id];\n",
       "    }\n",
       "\n",
       "    if (server_id !== undefined) {\n",
       "      // Clean up Bokeh references\n",
       "      var cmd = \"from bokeh.io.state import curstate; print(curstate().uuid_to_server['\" + server_id + \"'].get_sessions()[0].document.roots[0]._id)\";\n",
       "      cell.notebook.kernel.execute(cmd, {\n",
       "        iopub: {\n",
       "          output: function(msg) {\n",
       "            var id = msg.content.text.trim();\n",
       "            if (id in Bokeh.index) {\n",
       "              Bokeh.index[id].model.document.clear();\n",
       "              delete Bokeh.index[id];\n",
       "            }\n",
       "          }\n",
       "        }\n",
       "      });\n",
       "      // Destroy server and session\n",
       "      var cmd = \"import bokeh.io.notebook as ion; ion.destroy_server('\" + server_id + \"')\";\n",
       "      cell.notebook.kernel.execute(cmd);\n",
       "    }\n",
       "  }\n",
       "\n",
       "  /**\n",
       "   * Handle when a new output is added\n",
       "   */\n",
       "  function handleAddOutput(event, handle) {\n",
       "    var output_area = handle.output_area;\n",
       "    var output = handle.output;\n",
       "\n",
       "    // limit handleAddOutput to display_data with EXEC_MIME_TYPE content only\n",
       "    if ((output.output_type != \"display_data\") || (!output.data.hasOwnProperty(EXEC_MIME_TYPE))) {\n",
       "      return\n",
       "    }\n",
       "\n",
       "    var toinsert = output_area.element.find(\".\" + CLASS_NAME.split(' ')[0]);\n",
       "\n",
       "    if (output.metadata[EXEC_MIME_TYPE][\"id\"] !== undefined) {\n",
       "      toinsert[toinsert.length - 1].firstChild.textContent = output.data[JS_MIME_TYPE];\n",
       "      // store reference to embed id on output_area\n",
       "      output_area._bokeh_element_id = output.metadata[EXEC_MIME_TYPE][\"id\"];\n",
       "    }\n",
       "    if (output.metadata[EXEC_MIME_TYPE][\"server_id\"] !== undefined) {\n",
       "      var bk_div = document.createElement(\"div\");\n",
       "      bk_div.innerHTML = output.data[HTML_MIME_TYPE];\n",
       "      var script_attrs = bk_div.children[0].attributes;\n",
       "      for (var i = 0; i < script_attrs.length; i++) {\n",
       "        toinsert[toinsert.length - 1].firstChild.setAttribute(script_attrs[i].name, script_attrs[i].value);\n",
       "      }\n",
       "      // store reference to server id on output_area\n",
       "      output_area._bokeh_server_id = output.metadata[EXEC_MIME_TYPE][\"server_id\"];\n",
       "    }\n",
       "  }\n",
       "\n",
       "  function register_renderer(events, OutputArea) {\n",
       "\n",
       "    function append_mime(data, metadata, element) {\n",
       "      // create a DOM node to render to\n",
       "      var toinsert = this.create_output_subarea(\n",
       "        metadata,\n",
       "        CLASS_NAME,\n",
       "        EXEC_MIME_TYPE\n",
       "      );\n",
       "      this.keyboard_manager.register_events(toinsert);\n",
       "      // Render to node\n",
       "      var props = {data: data, metadata: metadata[EXEC_MIME_TYPE]};\n",
       "      render(props, toinsert[toinsert.length - 1]);\n",
       "      element.append(toinsert);\n",
       "      return toinsert\n",
       "    }\n",
       "\n",
       "    /* Handle when an output is cleared or removed */\n",
       "    events.on('clear_output.CodeCell', handleClearOutput);\n",
       "    events.on('delete.Cell', handleClearOutput);\n",
       "\n",
       "    /* Handle when a new output is added */\n",
       "    events.on('output_added.OutputArea', handleAddOutput);\n",
       "\n",
       "    /**\n",
       "     * Register the mime type and append_mime function with output_area\n",
       "     */\n",
       "    OutputArea.prototype.register_mime_type(EXEC_MIME_TYPE, append_mime, {\n",
       "      /* Is output safe? */\n",
       "      safe: true,\n",
       "      /* Index of renderer in `output_area.display_order` */\n",
       "      index: 0\n",
       "    });\n",
       "  }\n",
       "\n",
       "  // register the mime type if in Jupyter Notebook environment and previously unregistered\n",
       "  if (root.Jupyter !== undefined) {\n",
       "    var events = require('base/js/events');\n",
       "    var OutputArea = require('notebook/js/outputarea').OutputArea;\n",
       "\n",
       "    if (OutputArea.prototype.mime_types().indexOf(EXEC_MIME_TYPE) == -1) {\n",
       "      register_renderer(events, OutputArea);\n",
       "    }\n",
       "  }\n",
       "\n",
       "  \n",
       "  if (typeof (root._bokeh_timeout) === \"undefined\" || force === true) {\n",
       "    root._bokeh_timeout = Date.now() + 5000;\n",
       "    root._bokeh_failed_load = false;\n",
       "  }\n",
       "\n",
       "  var NB_LOAD_WARNING = {'data': {'text/html':\n",
       "     \"<div style='background-color: #fdd'>\\n\"+\n",
       "     \"<p>\\n\"+\n",
       "     \"BokehJS does not appear to have successfully loaded. If loading BokehJS from CDN, this \\n\"+\n",
       "     \"may be due to a slow or bad network connection. Possible fixes:\\n\"+\n",
       "     \"</p>\\n\"+\n",
       "     \"<ul>\\n\"+\n",
       "     \"<li>re-rerun `output_notebook()` to attempt to load from CDN again, or</li>\\n\"+\n",
       "     \"<li>use INLINE resources instead, as so:</li>\\n\"+\n",
       "     \"</ul>\\n\"+\n",
       "     \"<code>\\n\"+\n",
       "     \"from bokeh.resources import INLINE\\n\"+\n",
       "     \"output_notebook(resources=INLINE)\\n\"+\n",
       "     \"</code>\\n\"+\n",
       "     \"</div>\"}};\n",
       "\n",
       "  function display_loaded() {\n",
       "    var el = document.getElementById(\"1001\");\n",
       "    if (el != null) {\n",
       "      el.textContent = \"BokehJS is loading...\";\n",
       "    }\n",
       "    if (root.Bokeh !== undefined) {\n",
       "      if (el != null) {\n",
       "        el.textContent = \"BokehJS \" + root.Bokeh.version + \" successfully loaded.\";\n",
       "      }\n",
       "    } else if (Date.now() < root._bokeh_timeout) {\n",
       "      setTimeout(display_loaded, 100)\n",
       "    }\n",
       "  }\n",
       "\n",
       "\n",
       "  function run_callbacks() {\n",
       "    try {\n",
       "      root._bokeh_onload_callbacks.forEach(function(callback) {\n",
       "        if (callback != null)\n",
       "          callback();\n",
       "      });\n",
       "    } finally {\n",
       "      delete root._bokeh_onload_callbacks\n",
       "    }\n",
       "    console.debug(\"Bokeh: all callbacks have finished\");\n",
       "  }\n",
       "\n",
       "  function load_libs(css_urls, js_urls, callback) {\n",
       "    if (css_urls == null) css_urls = [];\n",
       "    if (js_urls == null) js_urls = [];\n",
       "\n",
       "    root._bokeh_onload_callbacks.push(callback);\n",
       "    if (root._bokeh_is_loading > 0) {\n",
       "      console.debug(\"Bokeh: BokehJS is being loaded, scheduling callback at\", now());\n",
       "      return null;\n",
       "    }\n",
       "    if (js_urls == null || js_urls.length === 0) {\n",
       "      run_callbacks();\n",
       "      return null;\n",
       "    }\n",
       "    console.debug(\"Bokeh: BokehJS not loaded, scheduling load and callback at\", now());\n",
       "    root._bokeh_is_loading = css_urls.length + js_urls.length;\n",
       "\n",
       "    function on_load() {\n",
       "      root._bokeh_is_loading--;\n",
       "      if (root._bokeh_is_loading === 0) {\n",
       "        console.debug(\"Bokeh: all BokehJS libraries/stylesheets loaded\");\n",
       "        run_callbacks()\n",
       "      }\n",
       "    }\n",
       "\n",
       "    function on_error() {\n",
       "      console.error(\"failed to load \" + url);\n",
       "    }\n",
       "\n",
       "    for (var i = 0; i < css_urls.length; i++) {\n",
       "      var url = css_urls[i];\n",
       "      const element = document.createElement(\"link\");\n",
       "      element.onload = on_load;\n",
       "      element.onerror = on_error;\n",
       "      element.rel = \"stylesheet\";\n",
       "      element.type = \"text/css\";\n",
       "      element.href = url;\n",
       "      console.debug(\"Bokeh: injecting link tag for BokehJS stylesheet: \", url);\n",
       "      document.body.appendChild(element);\n",
       "    }\n",
       "\n",
       "    for (var i = 0; i < js_urls.length; i++) {\n",
       "      var url = js_urls[i];\n",
       "      var element = document.createElement('script');\n",
       "      element.onload = on_load;\n",
       "      element.onerror = on_error;\n",
       "      element.async = false;\n",
       "      element.src = url;\n",
       "      console.debug(\"Bokeh: injecting script tag for BokehJS library: \", url);\n",
       "      document.head.appendChild(element);\n",
       "    }\n",
       "  };var element = document.getElementById(\"1001\");\n",
       "  if (element == null) {\n",
       "    console.error(\"Bokeh: ERROR: autoload.js configured with elementid '1001' but no matching script tag was found. \")\n",
       "    return false;\n",
       "  }\n",
       "\n",
       "  function inject_raw_css(css) {\n",
       "    const element = document.createElement(\"style\");\n",
       "    element.appendChild(document.createTextNode(css));\n",
       "    document.body.appendChild(element);\n",
       "  }\n",
       "\n",
       "  var js_urls = [\"https://cdn.pydata.org/bokeh/release/bokeh-1.3.4.min.js\", \"https://cdn.pydata.org/bokeh/release/bokeh-widgets-1.3.4.min.js\", \"https://cdn.pydata.org/bokeh/release/bokeh-tables-1.3.4.min.js\", \"https://cdn.pydata.org/bokeh/release/bokeh-gl-1.3.4.min.js\"];\n",
       "  var css_urls = [];\n",
       "\n",
       "  var inline_js = [\n",
       "    function(Bokeh) {\n",
       "      Bokeh.set_log_level(\"info\");\n",
       "    },\n",
       "    \n",
       "    function(Bokeh) {\n",
       "      \n",
       "    },\n",
       "    function(Bokeh) {} // ensure no trailing comma for IE\n",
       "  ];\n",
       "\n",
       "  function run_inline_js() {\n",
       "    \n",
       "    if ((root.Bokeh !== undefined) || (force === true)) {\n",
       "      for (var i = 0; i < inline_js.length; i++) {\n",
       "        inline_js[i].call(root, root.Bokeh);\n",
       "      }if (force === true) {\n",
       "        display_loaded();\n",
       "      }} else if (Date.now() < root._bokeh_timeout) {\n",
       "      setTimeout(run_inline_js, 100);\n",
       "    } else if (!root._bokeh_failed_load) {\n",
       "      console.log(\"Bokeh: BokehJS failed to load within specified timeout.\");\n",
       "      root._bokeh_failed_load = true;\n",
       "    } else if (force !== true) {\n",
       "      var cell = $(document.getElementById(\"1001\")).parents('.cell').data().cell;\n",
       "      cell.output_area.append_execute_result(NB_LOAD_WARNING)\n",
       "    }\n",
       "\n",
       "  }\n",
       "\n",
       "  if (root._bokeh_is_loading === 0) {\n",
       "    console.debug(\"Bokeh: BokehJS loaded, going straight to plotting\");\n",
       "    run_inline_js();\n",
       "  } else {\n",
       "    load_libs(css_urls, js_urls, function() {\n",
       "      console.debug(\"Bokeh: BokehJS plotting callback run at\", now());\n",
       "      run_inline_js();\n",
       "    });\n",
       "  }\n",
       "}(window));"
      ],
      "application/vnd.bokehjs_load.v0+json": "\n(function(root) {\n  function now() {\n    return new Date();\n  }\n\n  var force = true;\n\n  if (typeof root._bokeh_onload_callbacks === \"undefined\" || force === true) {\n    root._bokeh_onload_callbacks = [];\n    root._bokeh_is_loading = undefined;\n  }\n\n  \n\n  \n  if (typeof (root._bokeh_timeout) === \"undefined\" || force === true) {\n    root._bokeh_timeout = Date.now() + 5000;\n    root._bokeh_failed_load = false;\n  }\n\n  var NB_LOAD_WARNING = {'data': {'text/html':\n     \"<div style='background-color: #fdd'>\\n\"+\n     \"<p>\\n\"+\n     \"BokehJS does not appear to have successfully loaded. If loading BokehJS from CDN, this \\n\"+\n     \"may be due to a slow or bad network connection. Possible fixes:\\n\"+\n     \"</p>\\n\"+\n     \"<ul>\\n\"+\n     \"<li>re-rerun `output_notebook()` to attempt to load from CDN again, or</li>\\n\"+\n     \"<li>use INLINE resources instead, as so:</li>\\n\"+\n     \"</ul>\\n\"+\n     \"<code>\\n\"+\n     \"from bokeh.resources import INLINE\\n\"+\n     \"output_notebook(resources=INLINE)\\n\"+\n     \"</code>\\n\"+\n     \"</div>\"}};\n\n  function display_loaded() {\n    var el = document.getElementById(\"1001\");\n    if (el != null) {\n      el.textContent = \"BokehJS is loading...\";\n    }\n    if (root.Bokeh !== undefined) {\n      if (el != null) {\n        el.textContent = \"BokehJS \" + root.Bokeh.version + \" successfully loaded.\";\n      }\n    } else if (Date.now() < root._bokeh_timeout) {\n      setTimeout(display_loaded, 100)\n    }\n  }\n\n\n  function run_callbacks() {\n    try {\n      root._bokeh_onload_callbacks.forEach(function(callback) {\n        if (callback != null)\n          callback();\n      });\n    } finally {\n      delete root._bokeh_onload_callbacks\n    }\n    console.debug(\"Bokeh: all callbacks have finished\");\n  }\n\n  function load_libs(css_urls, js_urls, callback) {\n    if (css_urls == null) css_urls = [];\n    if (js_urls == null) js_urls = [];\n\n    root._bokeh_onload_callbacks.push(callback);\n    if (root._bokeh_is_loading > 0) {\n      console.debug(\"Bokeh: BokehJS is being loaded, scheduling callback at\", now());\n      return null;\n    }\n    if (js_urls == null || js_urls.length === 0) {\n      run_callbacks();\n      return null;\n    }\n    console.debug(\"Bokeh: BokehJS not loaded, scheduling load and callback at\", now());\n    root._bokeh_is_loading = css_urls.length + js_urls.length;\n\n    function on_load() {\n      root._bokeh_is_loading--;\n      if (root._bokeh_is_loading === 0) {\n        console.debug(\"Bokeh: all BokehJS libraries/stylesheets loaded\");\n        run_callbacks()\n      }\n    }\n\n    function on_error() {\n      console.error(\"failed to load \" + url);\n    }\n\n    for (var i = 0; i < css_urls.length; i++) {\n      var url = css_urls[i];\n      const element = document.createElement(\"link\");\n      element.onload = on_load;\n      element.onerror = on_error;\n      element.rel = \"stylesheet\";\n      element.type = \"text/css\";\n      element.href = url;\n      console.debug(\"Bokeh: injecting link tag for BokehJS stylesheet: \", url);\n      document.body.appendChild(element);\n    }\n\n    for (var i = 0; i < js_urls.length; i++) {\n      var url = js_urls[i];\n      var element = document.createElement('script');\n      element.onload = on_load;\n      element.onerror = on_error;\n      element.async = false;\n      element.src = url;\n      console.debug(\"Bokeh: injecting script tag for BokehJS library: \", url);\n      document.head.appendChild(element);\n    }\n  };var element = document.getElementById(\"1001\");\n  if (element == null) {\n    console.error(\"Bokeh: ERROR: autoload.js configured with elementid '1001' but no matching script tag was found. \")\n    return false;\n  }\n\n  function inject_raw_css(css) {\n    const element = document.createElement(\"style\");\n    element.appendChild(document.createTextNode(css));\n    document.body.appendChild(element);\n  }\n\n  var js_urls = [\"https://cdn.pydata.org/bokeh/release/bokeh-1.3.4.min.js\", \"https://cdn.pydata.org/bokeh/release/bokeh-widgets-1.3.4.min.js\", \"https://cdn.pydata.org/bokeh/release/bokeh-tables-1.3.4.min.js\", \"https://cdn.pydata.org/bokeh/release/bokeh-gl-1.3.4.min.js\"];\n  var css_urls = [];\n\n  var inline_js = [\n    function(Bokeh) {\n      Bokeh.set_log_level(\"info\");\n    },\n    \n    function(Bokeh) {\n      \n    },\n    function(Bokeh) {} // ensure no trailing comma for IE\n  ];\n\n  function run_inline_js() {\n    \n    if ((root.Bokeh !== undefined) || (force === true)) {\n      for (var i = 0; i < inline_js.length; i++) {\n        inline_js[i].call(root, root.Bokeh);\n      }if (force === true) {\n        display_loaded();\n      }} else if (Date.now() < root._bokeh_timeout) {\n      setTimeout(run_inline_js, 100);\n    } else if (!root._bokeh_failed_load) {\n      console.log(\"Bokeh: BokehJS failed to load within specified timeout.\");\n      root._bokeh_failed_load = true;\n    } else if (force !== true) {\n      var cell = $(document.getElementById(\"1001\")).parents('.cell').data().cell;\n      cell.output_area.append_execute_result(NB_LOAD_WARNING)\n    }\n\n  }\n\n  if (root._bokeh_is_loading === 0) {\n    console.debug(\"Bokeh: BokehJS loaded, going straight to plotting\");\n    run_inline_js();\n  } else {\n    load_libs(css_urls, js_urls, function() {\n      console.debug(\"Bokeh: BokehJS plotting callback run at\", now());\n      run_inline_js();\n    });\n  }\n}(window));"
     },
     "metadata": {},
     "output_type": "display_data"
    }
   ],
   "source": [
    "from bokeh.plotting import figure, show, output_notebook, save\n",
    "from bokeh.models import HoverTool, value, LabelSet, Legend, ColumnDataSource\n",
    "\n",
    "output_notebook() # send to notebook not tab\n",
    "\n",
    "def plot_bokeh_comend_drama_embeddings(df_movies, vecs2D):\n",
    "    data = dict(\n",
    "        x=vecs2D[:,0],\n",
    "        y=vecs2D[:,1],\n",
    "        title = df_movies['title'],\n",
    "        genre = df_movies['genres'],\n",
    "        colors = [mcolor(df_movies['genres'].iloc[i]) for i in range(len(vecs2D))]\n",
    "    )\n",
    "    source = ColumnDataSource(data)\n",
    "    fig = figure(plot_width=500, plot_height=300,\n",
    "                 title='Movie embeddings projected with PCA',\n",
    "                 tools='pan,wheel_zoom,zoom_in,box_zoom,reset,hover',\n",
    "                 x_axis_type=None, y_axis_type=None, min_border=1)\n",
    "    fig.scatter(x='x', y='y',source=source, fill_alpha=0.7, size=5, fill_color='colors')\n",
    "    # hover tools,\n",
    "    hover = fig.select(dict(type=HoverTool))\n",
    "    hover.tooltips = {'content': '@title'}\n",
    "    show(fig)"
   ]
  },
  {
   "cell_type": "markdown",
   "metadata": {},
   "source": [
    "## Load and train with no mini-batch"
   ]
  },
  {
   "cell_type": "code",
   "execution_count": 75,
   "metadata": {},
   "outputs": [
    {
     "data": {
      "text/html": [
       "<div>\n",
       "<style scoped>\n",
       "    .dataframe tbody tr th:only-of-type {\n",
       "        vertical-align: middle;\n",
       "    }\n",
       "\n",
       "    .dataframe tbody tr th {\n",
       "        vertical-align: top;\n",
       "    }\n",
       "\n",
       "    .dataframe thead th {\n",
       "        text-align: right;\n",
       "    }\n",
       "</style>\n",
       "<table border=\"1\" class=\"dataframe\">\n",
       "  <thead>\n",
       "    <tr style=\"text-align: right;\">\n",
       "      <th></th>\n",
       "      <th>userId</th>\n",
       "      <th>movieId</th>\n",
       "      <th>rating</th>\n",
       "      <th>title</th>\n",
       "      <th>genres</th>\n",
       "    </tr>\n",
       "  </thead>\n",
       "  <tbody>\n",
       "    <tr>\n",
       "      <td>0</td>\n",
       "      <td>598</td>\n",
       "      <td>4692</td>\n",
       "      <td>2.0</td>\n",
       "      <td>Project X</td>\n",
       "      <td>Comedy|Drama</td>\n",
       "    </tr>\n",
       "    <tr>\n",
       "      <td>1</td>\n",
       "      <td>473</td>\n",
       "      <td>4692</td>\n",
       "      <td>3.5</td>\n",
       "      <td>Project X</td>\n",
       "      <td>Comedy|Drama</td>\n",
       "    </tr>\n",
       "  </tbody>\n",
       "</table>\n",
       "</div>"
      ],
      "text/plain": [
       "   userId  movieId  rating      title        genres\n",
       "0     598     4692     2.0  Project X  Comedy|Drama\n",
       "1     473     4692     3.5  Project X  Comedy|Drama"
      ]
     },
     "execution_count": 75,
     "metadata": {},
     "output_type": "execute_result"
    }
   ],
   "source": [
    "df = load(n=100_000)\n",
    "n = len(df)\n",
    "nmovies = len(df.groupby('movieId').count())\n",
    "nusers = len(df.groupby('userId').count())\n",
    "compress_cats(df, 'movieId') # make IDs 0..nmovies-1\n",
    "compress_cats(df, 'userId')\n",
    "df.head(2)"
   ]
  },
  {
   "cell_type": "code",
   "execution_count": 76,
   "metadata": {},
   "outputs": [
    {
     "data": {
      "text/plain": [
       "3.50172"
      ]
     },
     "execution_count": 76,
     "metadata": {},
     "output_type": "execute_result"
    }
   ],
   "source": [
    "avg_rating = np.mean(df['rating'])\n",
    "avg_rating"
   ]
  },
  {
   "cell_type": "code",
   "execution_count": 77,
   "metadata": {},
   "outputs": [],
   "source": [
    "import torch.nn as nn\n",
    "\n",
    "class CollabFilter(nn.Module):\n",
    "    def __init__(self, nusers, nmovies, nfactors=10, avg_rating=3.5):\n",
    "        super(CollabFilter, self).__init__()\n",
    "        self.U = randn(nusers,  nfactors, device=device, dtype=dtype, requires_grad=True,\n",
    "                       std=0.01, mean=math.sqrt(avg_rating/nfactors))\n",
    "        self.M = randn(nmovies, nfactors, device=device, dtype=dtype, requires_grad=True,\n",
    "                       std=0.01, mean=math.sqrt(avg_rating/nfactors))\n",
    "        self.U = nn.Parameter(self.U) # notify pytorch these are model parameters\n",
    "        self.M = nn.Parameter(self.M)\n",
    "        \n",
    "    def forward(self, x):\n",
    "        userIds = x[:,0].long()\n",
    "        movieIds = x[:,1].long()\n",
    "        r_output = (self.U[userIds] * self.M[movieIds]).sum(axis=1, keepdim=False)\n",
    "        r_output = torch.sigmoid(r_output) * 5  # limit to 0..5\n",
    "        return r_output"
   ]
  },
  {
   "cell_type": "code",
   "execution_count": 52,
   "metadata": {},
   "outputs": [],
   "source": [
    "def train(df, epochs=350, nfactors=10, print_every=30):\n",
    "    data = torch.tensor( df[['userId','movieId','rating']].values )\n",
    "    X_train, X_valid, y_train, y_valid = train_test_split(data, 0.20)\n",
    "    print(f\"{len(X_train)} training and {len(X_valid)} test records\")\n",
    "\n",
    "    model = CollabFilter(nusers, nmovies, nfactors=nfactors)\n",
    "    loss_fn = torch.nn.MSELoss()\n",
    "\n",
    "    learning_rate = 0.002\n",
    "    optimizer = torch.optim.Adam(model.parameters(), lr=learning_rate, weight_decay=0.00000002) # model.parameters is just [U,M]\n",
    "\n",
    "    history = []\n",
    "\n",
    "    # Start history with what random weights show\n",
    "    with torch.no_grad():\n",
    "        loss = loss_fn(model(X_train), y_train)\n",
    "        loss_valid = loss_fn(model(X_valid), y_valid)\n",
    "        mae_train = mae(model(X_train), y_train).detach().item()\n",
    "        mae_valid = mae(model(X_valid), y_valid).detach().item()\n",
    "    history.append( (loss, loss_valid) )\n",
    "    print(f\"Init      L2 MSE loss {loss:4.3f}, {loss_valid:4.3f}   MAE {mae_train:4.3f}, {mae_valid:4.3f}\")\n",
    "\n",
    "    for t in range(epochs):\n",
    "        r_pred = model(X_train)\n",
    "        loss = loss_fn(r_pred, y_train)\n",
    "\n",
    "        optimizer.zero_grad()\n",
    "        loss.backward() # autograd computes U.grad and M.grad\n",
    "        optimizer.step()\n",
    "\n",
    "        with torch.no_grad():\n",
    "            loss_valid = loss_fn(model(X_valid), y_valid)\n",
    "            mae_train = mae(model(X_train), y_train).detach().item()\n",
    "            mae_valid = mae(model(X_valid), y_valid).detach().item()\n",
    "\n",
    "        history.append( (loss, loss_valid) )\n",
    "        if t % print_every == 0:\n",
    "            print(f\"Epoch {t:3d} L2 MSE loss {loss:4.3f}, {loss_valid:4.3f}   MAE {mae_train:4.3f}, {mae_valid:4.3f}\")\n",
    "\n",
    "    history = torch.tensor(history)\n",
    "    return model, history"
   ]
  },
  {
   "cell_type": "code",
   "execution_count": 78,
   "metadata": {},
   "outputs": [
    {
     "name": "stdout",
     "output_type": "stream",
     "text": [
      "80000 training and 20000 test records\n",
      "Init      L2 MSE loss 2.919, 2.899   MAE 1.390, 1.390\n",
      "Epoch   0 L2 MSE loss 2.919, 2.890   MAE 1.388, 1.387\n",
      "Epoch  30 L2 MSE loss 2.563, 2.534   MAE 1.283, 1.284\n",
      "Epoch  60 L2 MSE loss 2.020, 1.999   MAE 1.102, 1.108\n",
      "Epoch  90 L2 MSE loss 1.442, 1.445   MAE 0.896, 0.908\n",
      "Epoch 120 L2 MSE loss 1.064, 1.097   MAE 0.768, 0.788\n",
      "Epoch 150 L2 MSE loss 0.877, 0.933   MAE 0.706, 0.734\n",
      "Epoch 180 L2 MSE loss 0.783, 0.855   MAE 0.670, 0.706\n",
      "Epoch 210 L2 MSE loss 0.730, 0.814   MAE 0.645, 0.688\n",
      "Epoch 240 L2 MSE loss 0.698, 0.792   MAE 0.630, 0.679\n",
      "Epoch 270 L2 MSE loss 0.677, 0.781   MAE 0.620, 0.674\n",
      "Epoch 300 L2 MSE loss 0.663, 0.776   MAE 0.614, 0.673\n",
      "Epoch 330 L2 MSE loss 0.654, 0.775   MAE 0.609, 0.673\n"
     ]
    },
    {
     "data": {
      "image/png": "[encoded data removed]",
      "text/plain": [
       "<Figure size 252x108 with 1 Axes>"
      ]
     },
     "metadata": {
      "needs_background": "light"
     },
     "output_type": "display_data"
    }
   ],
   "source": [
    "model, history = train(df, epochs=350, nfactors=10)\n",
    "plot_history(history, yrange=(0,3), figsize=(3.5,1.5))"
   ]
  },
  {
   "cell_type": "markdown",
   "metadata": {},
   "source": [
    "## Interpretation"
   ]
  },
  {
   "cell_type": "markdown",
   "metadata": {},
   "source": [
    "### Using embeddings for prediction with random forest\n",
    "\n",
    "Once we have embeddings, we can try to use them as features in a random forest. The OOB error will give us an indication of how good the embeddings are. When we get a validation MAE of 0.74 from training with n=20,000 and nfactors=10, the RF OOB R^2 is about .45, which is much better than we get using label encoded categorical variables (no better than guessing the mean with about R^2 of 0.0)."
   ]
  },
  {
   "cell_type": "code",
   "execution_count": 79,
   "metadata": {},
   "outputs": [
    {
     "name": "stdout",
     "output_type": "stream",
     "text": [
      "OOB R^2 0.389\n",
      "Train R^2 0.916\n"
     ]
    }
   ],
   "source": [
    "RF_valid(df, model.M.detach().cpu(), model.U.detach().cpu())"
   ]
  },
  {
   "cell_type": "code",
   "execution_count": 80,
   "metadata": {},
   "outputs": [
    {
     "name": "stdout",
     "output_type": "stream",
     "text": [
      "80000 training and 20000 test records\n",
      "Init      L2 MSE loss 2.927, 2.867   MAE 1.393, 1.378\n",
      "Epoch   0 L2 MSE loss 2.927, 2.861   MAE 1.392, 1.377\n",
      "Epoch  50 L2 MSE loss 2.539, 2.479   MAE 1.278, 1.264\n",
      "Epoch 100 L2 MSE loss 1.933, 1.893   MAE 1.079, 1.071\n",
      "Epoch 150 L2 MSE loss 1.345, 1.343   MAE 0.857, 0.861\n",
      "Epoch 200 L2 MSE loss 1.006, 1.038   MAE 0.751, 0.767\n",
      "Epoch 250 L2 MSE loss 0.846, 0.901   MAE 0.694, 0.722\n",
      "Epoch 300 L2 MSE loss 0.764, 0.835   MAE 0.661, 0.698\n",
      "OOB R^2 0.348\n",
      "Train R^2 0.911\n"
     ]
    }
   ],
   "source": [
    "model, history = train(df, epochs=350, nfactors=4, print_every=50)\n",
    "RF_valid(df, model.M.detach().cpu(), model.U.detach().cpu())"
   ]
  },
  {
   "cell_type": "code",
   "execution_count": 81,
   "metadata": {},
   "outputs": [
    {
     "name": "stdout",
     "output_type": "stream",
     "text": [
      "80000 training and 20000 test records\n",
      "Init      L2 MSE loss 2.912, 2.921   MAE 1.389, 1.393\n",
      "Epoch   0 L2 MSE loss 2.912, 2.901   MAE 1.384, 1.387\n",
      "Epoch  50 L2 MSE loss 1.183, 1.215   MAE 0.799, 0.823\n",
      "Epoch 100 L2 MSE loss 0.709, 0.818   MAE 0.636, 0.690\n",
      "Epoch 150 L2 MSE loss 0.648, 0.794   MAE 0.607, 0.680\n",
      "Epoch 200 L2 MSE loss 0.631, 0.800   MAE 0.598, 0.683\n",
      "Epoch 250 L2 MSE loss 0.616, 0.805   MAE 0.589, 0.685\n",
      "Epoch 300 L2 MSE loss 0.582, 0.808   MAE 0.571, 0.687\n",
      "OOB R^2 0.492\n",
      "Train R^2 0.930\n"
     ]
    }
   ],
   "source": [
    "model, history = train(df, epochs=350, nfactors=50, print_every=50)\n",
    "RF_valid(df, model.M.detach().cpu(), model.U.detach().cpu())"
   ]
  },
  {
   "cell_type": "markdown",
   "metadata": {},
   "source": [
    "## Compare rating vs predicted rating visually\n",
    "\n",
    "If we plot the known ratings against the predicted ratings, ideally we would see a 45° line. If true rating is 4.0 then we'd want the predicted rating to be 4.0."
   ]
  },
  {
   "cell_type": "code",
   "execution_count": 84,
   "metadata": {},
   "outputs": [
    {
     "data": {
      "image/png": "[encoded data removed]",
      "text/plain": [
       "<Figure size 302.4x288 with 1 Axes>"
      ]
     },
     "metadata": {
      "needs_background": "light"
     },
     "output_type": "display_data"
    }
   ],
   "source": [
    "data = torch.tensor( df[['userId','movieId','rating']].values )\n",
    "plt.figure(figsize=(4.2,4))\n",
    "plt.scatter(model(data).detach().cpu(), df['rating'], alpha=.05, s=3)\n",
    "plt.xticks(range(6))\n",
    "plt.yticks(range(6))\n",
    "plt.show()"
   ]
  },
  {
   "cell_type": "markdown",
   "metadata": {},
   "source": [
    "Hmm...hard to interpret, let's try a joint plot!"
   ]
  },
  {
   "cell_type": "code",
   "execution_count": 101,
   "metadata": {},
   "outputs": [
    {
     "name": "stdout",
     "output_type": "stream",
     "text": [
      "80000 training and 20000 test records\n",
      "Init      L2 MSE loss 2.916, 2.906   MAE 1.391, 1.388\n",
      "Epoch   0 L2 MSE loss 2.916, 2.886   MAE 1.385, 1.382\n",
      "Epoch  50 L2 MSE loss 1.185, 1.207   MAE 0.800, 0.819\n",
      "Epoch 100 L2 MSE loss 0.709, 0.814   MAE 0.636, 0.690\n",
      "Epoch 150 L2 MSE loss 0.649, 0.788   MAE 0.607, 0.680\n",
      "Epoch 200 L2 MSE loss 0.632, 0.793   MAE 0.598, 0.682\n",
      "Epoch 250 L2 MSE loss 0.617, 0.799   MAE 0.589, 0.685\n",
      "Epoch 300 L2 MSE loss 0.581, 0.802   MAE 0.571, 0.687\n"
     ]
    },
    {
     "data": {
      "image/png": "[encoded data removed]",
      "text/plain": [
       "<Figure size 273.6x273.6 with 3 Axes>"
      ]
     },
     "metadata": {
      "needs_background": "light"
     },
     "output_type": "display_data"
    }
   ],
   "source": [
    "# I learned this jointplot trick from https://github.com/fastai/fastai/blob/master/courses/dl1/lesson5-movielens.ipynb\n",
    "import seaborn\n",
    "\n",
    "model, history = train(df, epochs=350, nfactors=50, print_every=50)\n",
    "seaborn.jointplot(model(data).detach().cpu(), df['rating'], kind='hex', height=3.8)\n",
    "plt.xticks(range(6))\n",
    "plt.yticks(range(6))\n",
    "plt.show()"
   ]
  },
  {
   "cell_type": "code",
   "execution_count": 100,
   "metadata": {},
   "outputs": [
    {
     "name": "stdout",
     "output_type": "stream",
     "text": [
      "80000 training and 20000 test records\n",
      "Init      L2 MSE loss 2.904, 2.952   MAE 1.388, 1.398\n",
      "Epoch   0 L2 MSE loss 2.904, 2.943   MAE 1.386, 1.395\n",
      "Epoch  50 L2 MSE loss 2.204, 2.242   MAE 1.167, 1.182\n",
      "Epoch 100 L2 MSE loss 1.278, 1.344   MAE 0.826, 0.857\n",
      "Epoch 150 L2 MSE loss 0.868, 0.968   MAE 0.702, 0.747\n",
      "Epoch 200 L2 MSE loss 0.737, 0.856   MAE 0.649, 0.705\n",
      "Epoch 250 L2 MSE loss 0.682, 0.816   MAE 0.623, 0.688\n",
      "Epoch 300 L2 MSE loss 0.657, 0.803   MAE 0.611, 0.683\n"
     ]
    },
    {
     "data": {
      "image/png": "[encoded data removed]",
      "text/plain": [
       "<Figure size 273.6x273.6 with 3 Axes>"
      ]
     },
     "metadata": {
      "needs_background": "light"
     },
     "output_type": "display_data"
    }
   ],
   "source": [
    "model, history = train(df, epochs=350, nfactors=10, print_every=50)\n",
    "seaborn.jointplot(model(data).detach().cpu(), df['rating'], kind='hex', height=3.8)\n",
    "plt.xticks(range(6))\n",
    "plt.yticks(range(6))\n",
    "plt.show()"
   ]
  },
  {
   "cell_type": "markdown",
   "metadata": {},
   "source": [
    "It looks to me like the embedding with 50 dimensions gets a tighter mapping (45° line) than 10 dimensional embedding vectors."
   ]
  },
  {
   "cell_type": "code",
   "execution_count": 13,
   "metadata": {},
   "outputs": [
    {
     "data": {
      "image/png": "[encoded data removed]",
      "text/plain": [
       "<Figure size 360x360 with 1 Axes>"
      ]
     },
     "metadata": {
      "needs_background": "light"
     },
     "output_type": "display_data"
    }
   ],
   "source": [
    "df_movies, vecs2D = plot_comedy_drama_embeddings(df, M.cpu().detach().numpy(), n=1000)#, xrange=(-3,3), yrange=(-3,3))"
   ]
  },
  {
   "cell_type": "code",
   "execution_count": 14,
   "metadata": {},
   "outputs": [
    {
     "data": {
      "text/html": [
       "\n",
       "\n",
       "\n",
       "\n",
       "\n",
       "\n",
       "  <div class=\"bk-root\" id=\"3083c2c8-2f89-43de-95ad-3141ac0e1670\" data-root-id=\"1003\"></div>\n"
      ]
     },
     "metadata": {},
     "output_type": "display_data"
    },
    {
     "data": {
      "application/javascript": [
       "(function(root) {\n",
       "  function embed_document(root) {\n",
       "    \n",
       "  var docs_json = {\"6d6aecda-2123-42a5-8a88-c7be9bb7b802\":{\"roots\":{\"references\":[{\"attributes\":{\"min_border\":1,\"plot_height\":300,\"plot_width\":500,\"renderers\":[{\"id\":\"1030\",\"type\":\"GlyphRenderer\"}],\"title\":{\"id\":\"1004\",\"type\":\"Title\"},\"toolbar\":{\"id\":\"1020\",\"type\":\"Toolbar\"},\"x_range\":{\"id\":\"1006\",\"type\":\"DataRange1d\"},\"x_scale\":{\"id\":\"1010\",\"type\":\"LinearScale\"},\"y_range\":{\"id\":\"1008\",\"type\":\"DataRange1d\"},\"y_scale\":{\"id\":\"1012\",\"type\":\"LinearScale\"}},\"id\":\"1003\",\"subtype\":\"Figure\",\"type\":\"Plot\"},{\"attributes\":{\"callback\":null},\"id\":\"1006\",\"type\":\"DataRange1d\"},{\"attributes\":{},\"id\":\"1018\",\"type\":\"ResetTool\"},{\"attributes\":{\"text\":\"Movie embeddings projected with PCA\"},\"id\":\"1004\",\"type\":\"Title\"},{\"attributes\":{\"data_source\":{\"id\":\"1002\",\"type\":\"ColumnDataSource\"},\"glyph\":{\"id\":\"1028\",\"type\":\"Scatter\"},\"hover_glyph\":null,\"muted_glyph\":null,\"nonselection_glyph\":{\"id\":\"1029\",\"type\":\"Scatter\"},\"selection_glyph\":null,\"view\":{\"id\":\"1031\",\"type\":\"CDSView\"}},\"id\":\"1030\",\"type\":\"GlyphRenderer\"},{\"attributes\":{\"callback\":null},\"id\":\"1008\",\"type\":\"DataRange1d\"},{\"attributes\":{\"fill_alpha\":{\"value\":0.1},\"fill_color\":{\"value\":\"#1f77b4\"},\"line_alpha\":{\"value\":0.1},\"line_color\":{\"value\":\"#1f77b4\"},\"size\":{\"units\":\"screen\",\"value\":5},\"x\":{\"field\":\"x\"},\"y\":{\"field\":\"y\"}},\"id\":\"1029\",\"type\":\"Scatter\"},{\"attributes\":{\"source\":{\"id\":\"1002\",\"type\":\"ColumnDataSource\"}},\"id\":\"1031\",\"type\":\"CDSView\"},{\"attributes\":{},\"id\":\"1035\",\"type\":\"Selection\"},{\"attributes\":{},\"id\":\"1015\",\"type\":\"WheelZoomTool\"},{\"attributes\":{\"callback\":null,\"data\":{\"colors\":[\"red\",\"#FEE08F\",\"#FEE08F\",\"black\",\"green\",\"cyan\",\"#FEE08F\",\"#FEE08F\",\"#FEE08F\",\"#FEE08F\",\"green\",\"cyan\",\"black\",\"#FEE08F\",\"black\",\"#FEE08F\",\"green\",\"black\",\"green\",\"cyan\",\"black\",\"#FEE08F\",\"cyan\",\"black\",\"green\",\"green\",\"black\",\"green\",\"red\",\"green\",\"green\",\"cyan\",\"#FEE08F\",\"#FEE08F\",\"green\",\"cyan\",\"cyan\",\"green\",\"green\",\"cyan\",\"green\",\"green\",\"#FEE08F\",\"black\",\"black\",\"black\",\"cyan\",\"#FEE08F\",\"#FEE08F\",\"green\",\"green\",\"black\",\"cyan\",\"green\",\"green\",\"green\",\"green\",\"green\",\"black\",\"green\",\"green\",\"red\",\"red\",\"black\",\"cyan\",\"black\",\"green\",\"black\",\"#FEE08F\",\"green\",\"black\",\"green\",\"green\",\"#FEE08F\",\"black\",\"green\",\"red\",\"#FEE08F\",\"green\",\"black\",\"#FEE08F\",\"black\",\"black\",\"cyan\",\"green\",\"black\",\"green\",\"green\",\"#FEE08F\",\"green\",\"cyan\",\"black\",\"black\",\"#FEE08F\",\"green\",\"black\",\"green\",\"green\",\"green\",\"#FEE08F\",\"green\",\"black\",\"#FEE08F\",\"green\",\"#FEE08F\",\"green\",\"cyan\",\"green\",\"green\",\"black\",\"cyan\",\"#FEE08F\",\"green\",\"cyan\",\"green\",\"green\",\"green\",\"green\",\"cyan\",\"#FEE08F\",\"red\",\"black\",\"green\",\"green\",\"green\",\"green\",\"green\",\"green\",\"green\",\"black\",\"green\",\"green\",\"#FEE08F\",\"green\",\"#FEE08F\",\"green\",\"cyan\",\"black\",\"#FEE08F\",\"#FEE08F\",\"green\",\"green\",\"red\",\"green\",\"#FEE08F\",\"cyan\",\"green\",\"#FEE08F\",\"#FEE08F\",\"green\",\"green\",\"green\",\"green\",\"green\",\"green\",\"#FEE08F\",\"#FEE08F\",\"cyan\",\"#FEE08F\",\"#FEE08F\",\"#FEE08F\",\"green\",\"#FEE08F\",\"green\",\"green\",\"cyan\",\"green\",\"#FEE08F\",\"green\",\"cyan\",\"green\",\"black\",\"#FEE08F\",\"#FEE08F\",\"green\",\"#FEE08F\",\"black\",\"green\",\"green\",\"green\",\"cyan\",\"#FEE08F\",\"green\",\"black\",\"green\",\"cyan\",\"cyan\",\"#FEE08F\",\"green\",\"green\",\"black\",\"cyan\",\"green\",\"green\",\"cyan\",\"#FEE08F\",\"#FEE08F\",\"green\",\"black\",\"cyan\",\"green\",\"black\",\"cyan\",\"green\",\"#FEE08F\",\"green\",\"#FEE08F\",\"#FEE08F\",\"green\",\"green\",\"green\",\"green\",\"#FEE08F\",\"green\",\"green\",\"black\",\"green\",\"green\",\"black\",\"black\",\"#FEE08F\",\"cyan\",\"black\",\"#FEE08F\",\"black\",\"green\",\"green\",\"green\",\"#FEE08F\",\"#FEE08F\",\"green\",\"green\",\"red\",\"cyan\",\"black\",\"cyan\",\"cyan\",\"#FEE08F\",\"green\",\"cyan\",\"black\",\"red\",\"cyan\",\"green\",\"#FEE08F\",\"green\",\"#FEE08F\",\"red\",\"green\",\"cyan\",\"#FEE08F\",\"green\",\"cyan\",\"green\",\"green\",\"#FEE08F\",\"green\",\"green\",\"green\",\"green\",\"cyan\",\"green\",\"green\",\"green\",\"#FEE08F\",\"#FEE08F\",\"#FEE08F\",\"cyan\",\"green\",\"green\",\"green\",\"green\",\"#FEE08F\",\"green\",\"green\",\"green\",\"green\",\"green\",\"#FEE08F\",\"black\",\"green\",\"cyan\",\"#FEE08F\",\"cyan\",\"black\",\"cyan\",\"green\",\"green\",\"green\",\"green\",\"green\",\"green\",\"black\",\"cyan\",\"#FEE08F\",\"#FEE08F\",\"green\",\"green\",\"green\",\"green\",\"#FEE08F\",\"red\",\"#FEE08F\",\"cyan\",\"black\",\"green\",\"green\",\"black\",\"black\",\"#FEE08F\",\"#FEE08F\",\"green\",\"green\",\"green\",\"red\",\"black\",\"green\",\"#FEE08F\",\"green\",\"cyan\",\"cyan\",\"green\",\"green\",\"black\",\"green\",\"green\",\"green\",\"red\",\"#FEE08F\",\"green\",\"black\",\"green\",\"green\",\"cyan\",\"#FEE08F\",\"black\",\"#FEE08F\",\"green\",\"black\",\"black\",\"#FEE08F\",\"#FEE08F\",\"green\",\"cyan\",\"#FEE08F\",\"#FEE08F\",\"#FEE08F\",\"red\",\"#FEE08F\",\"cyan\",\"#FEE08F\",\"cyan\",\"green\",\"cyan\",\"green\",\"cyan\",\"green\",\"#FEE08F\",\"#FEE08F\",\"#FEE08F\",\"cyan\",\"black\",\"green\",\"#FEE08F\",\"green\",\"cyan\",\"green\",\"red\",\"green\",\"#FEE08F\",\"black\",\"green\",\"green\",\"green\",\"cyan\",\"black\",\"cyan\",\"red\",\"#FEE08F\",\"#FEE08F\",\"cyan\",\"black\",\"green\",\"green\",\"green\",\"green\",\"#FEE08F\",\"cyan\",\"green\",\"green\",\"green\",\"#FEE08F\",\"#FEE08F\",\"cyan\",\"green\",\"#FEE08F\",\"green\",\"black\",\"#FEE08F\",\"green\",\"green\",\"black\",\"cyan\",\"green\",\"#FEE08F\",\"green\",\"green\",\"#FEE08F\",\"green\",\"green\",\"black\",\"green\",\"cyan\",\"cyan\",\"green\",\"black\",\"cyan\",\"green\",\"black\",\"black\",\"red\",\"#FEE08F\",\"cyan\",\"green\",\"cyan\",\"cyan\",\"black\",\"#FEE08F\",\"cyan\",\"#FEE08F\",\"green\",\"#FEE08F\",\"green\",\"black\",\"#FEE08F\",\"green\",\"#FEE08F\",\"green\",\"cyan\",\"black\",\"green\",\"green\",\"green\",\"cyan\",\"cyan\",\"#FEE08F\",\"black\",\"black\",\"#FEE08F\",\"cyan\",\"#FEE08F\",\"black\",\"#FEE08F\",\"#FEE08F\",\"green\",\"cyan\",\"red\",\"black\",\"green\",\"black\",\"black\",\"#FEE08F\",\"green\",\"#FEE08F\",\"green\",\"#FEE08F\",\"green\",\"red\",\"green\",\"black\",\"green\",\"#FEE08F\",\"green\",\"black\",\"cyan\",\"black\",\"cyan\",\"black\",\"#FEE08F\",\"green\",\"green\",\"#FEE08F\",\"black\",\"#FEE08F\",\"green\",\"green\",\"red\",\"black\",\"#FEE08F\",\"black\",\"green\",\"#FEE08F\",\"cyan\",\"#FEE08F\",\"black\",\"cyan\",\"#FEE08F\",\"green\",\"green\",\"#FEE08F\",\"#FEE08F\",\"black\",\"green\",\"black\",\"black\",\"black\",\"green\",\"black\",\"black\",\"#FEE08F\",\"#FEE08F\",\"cyan\",\"green\",\"#FEE08F\",\"cyan\",\"cyan\",\"black\",\"green\",\"red\",\"red\",\"cyan\",\"green\",\"green\",\"#FEE08F\",\"green\",\"cyan\",\"green\",\"cyan\",\"green\",\"#FEE08F\",\"black\",\"cyan\",\"cyan\",\"black\",\"green\",\"black\",\"cyan\",\"cyan\",\"green\",\"black\",\"#FEE08F\",\"#FEE08F\",\"green\",\"red\",\"#FEE08F\",\"green\",\"green\",\"black\",\"green\",\"green\",\"black\",\"cyan\",\"green\",\"black\",\"#FEE08F\",\"#FEE08F\",\"green\",\"cyan\",\"black\",\"green\",\"green\",\"cyan\",\"red\",\"#FEE08F\",\"green\",\"green\",\"green\",\"green\",\"green\",\"#FEE08F\",\"green\",\"green\",\"green\",\"#FEE08F\",\"green\",\"black\",\"green\",\"cyan\",\"black\",\"green\",\"#FEE08F\",\"#FEE08F\",\"#FEE08F\",\"#FEE08F\",\"green\",\"green\",\"black\",\"green\",\"green\",\"cyan\",\"green\",\"black\",\"green\",\"black\",\"green\",\"green\",\"cyan\",\"green\",\"#FEE08F\",\"#FEE08F\",\"black\",\"#FEE08F\",\"cyan\",\"cyan\",\"green\",\"cyan\",\"cyan\",\"green\",\"#FEE08F\",\"cyan\",\"green\",\"black\",\"#FEE08F\",\"green\",\"green\",\"black\",\"cyan\",\"#FEE08F\",\"#FEE08F\",\"cyan\",\"cyan\",\"green\",\"#FEE08F\",\"green\",\"green\",\"cyan\",\"green\",\"green\",\"black\",\"green\",\"cyan\",\"#FEE08F\",\"green\",\"green\",\"black\",\"#FEE08F\",\"green\",\"#FEE08F\",\"green\",\"green\",\"green\",\"green\",\"red\",\"green\",\"#FEE08F\",\"cyan\",\"black\",\"#FEE08F\",\"green\",\"#FEE08F\",\"#FEE08F\",\"#FEE08F\",\"cyan\",\"green\",\"#FEE08F\",\"cyan\",\"green\",\"black\",\"green\",\"red\",\"cyan\",\"green\",\"black\",\"black\",\"green\",\"#FEE08F\",\"black\",\"black\",\"green\",\"green\",\"green\",\"cyan\",\"#FEE08F\",\"cyan\",\"#FEE08F\",\"cyan\",\"#FEE08F\",\"#FEE08F\",\"green\",\"#FEE08F\",\"#FEE08F\",\"#FEE08F\",\"red\",\"#FEE08F\",\"#FEE08F\",\"black\",\"red\",\"green\",\"green\",\"cyan\",\"green\",\"green\",\"#FEE08F\",\"cyan\",\"#FEE08F\",\"#FEE08F\",\"black\",\"black\",\"green\",\"green\",\"green\",\"green\",\"cyan\",\"cyan\",\"black\",\"cyan\",\"black\",\"#FEE08F\",\"green\",\"black\",\"cyan\",\"cyan\",\"green\",\"green\",\"red\",\"#FEE08F\",\"green\",\"#FEE08F\",\"red\",\"black\",\"cyan\",\"#FEE08F\",\"green\",\"green\",\"green\",\"green\",\"green\",\"#FEE08F\",\"green\",\"black\",\"green\",\"green\",\"#FEE08F\",\"#FEE08F\",\"green\",\"black\",\"#FEE08F\",\"#FEE08F\",\"black\",\"#FEE08F\",\"cyan\",\"#FEE08F\",\"green\",\"green\",\"green\",\"green\",\"green\",\"#FEE08F\",\"green\",\"#FEE08F\",\"green\",\"#FEE08F\",\"black\",\"black\",\"black\",\"green\",\"green\",\"cyan\",\"cyan\",\"black\",\"#FEE08F\",\"black\",\"#FEE08F\",\"#FEE08F\",\"green\",\"green\",\"cyan\",\"green\",\"#FEE08F\",\"black\",\"cyan\",\"green\",\"#FEE08F\",\"green\",\"green\",\"black\",\"green\",\"green\",\"#FEE08F\",\"cyan\",\"green\",\"green\",\"green\",\"green\",\"green\",\"#FEE08F\",\"black\",\"green\",\"cyan\",\"cyan\",\"green\",\"#FEE08F\",\"black\",\"black\",\"cyan\",\"green\",\"green\",\"#FEE08F\",\"black\",\"black\",\"#FEE08F\",\"black\",\"cyan\",\"#FEE08F\",\"cyan\",\"green\",\"green\",\"#FEE08F\",\"green\",\"green\",\"cyan\",\"red\",\"cyan\",\"cyan\",\"green\",\"red\",\"green\",\"green\",\"#FEE08F\",\"green\",\"green\",\"green\",\"black\",\"#FEE08F\",\"green\",\"cyan\",\"green\",\"#FEE08F\",\"cyan\",\"#FEE08F\",\"red\",\"black\",\"black\",\"green\",\"green\",\"green\",\"green\",\"#FEE08F\",\"cyan\",\"cyan\",\"black\",\"cyan\",\"green\",\"black\",\"black\",\"green\",\"green\",\"black\",\"black\",\"green\",\"green\",\"green\",\"green\",\"black\",\"#FEE08F\",\"green\",\"green\",\"cyan\",\"green\",\"green\",\"#FEE08F\",\"green\",\"green\",\"cyan\",\"red\",\"green\",\"cyan\",\"#FEE08F\",\"black\",\"black\",\"#FEE08F\",\"#FEE08F\",\"black\",\"cyan\",\"#FEE08F\",\"black\",\"black\",\"red\",\"#FEE08F\",\"#FEE08F\",\"#FEE08F\",\"green\",\"cyan\",\"#FEE08F\",\"green\",\"#FEE08F\",\"green\",\"cyan\",\"green\",\"#FEE08F\",\"green\",\"green\",\"green\",\"green\",\"green\",\"#FEE08F\",\"cyan\",\"green\",\"green\",\"#FEE08F\",\"black\",\"green\",\"green\",\"black\",\"green\",\"green\",\"green\",\"green\",\"green\",\"green\",\"cyan\",\"green\",\"green\",\"black\",\"green\",\"cyan\",\"green\",\"cyan\",\"green\",\"black\",\"#FEE08F\",\"green\",\"green\",\"red\",\"#FEE08F\",\"red\",\"green\",\"green\",\"#FEE08F\",\"#FEE08F\",\"green\",\"#FEE08F\",\"green\",\"cyan\",\"green\",\"black\",\"green\",\"black\",\"cyan\",\"#FEE08F\",\"green\",\"#FEE08F\",\"green\",\"green\",\"red\",\"green\",\"cyan\",\"black\",\"#FEE08F\",\"#FEE08F\",\"black\",\"cyan\",\"green\",\"black\",\"#FEE08F\",\"green\",\"cyan\",\"cyan\",\"red\",\"black\",\"green\",\"cyan\",\"green\",\"green\",\"black\",\"red\",\"#FEE08F\",\"green\",\"#FEE08F\",\"green\",\"green\",\"green\",\"#FEE08F\",\"green\",\"#FEE08F\",\"#FEE08F\",\"green\",\"#FEE08F\",\"cyan\",\"#FEE08F\",\"black\",\"cyan\",\"green\",\"green\",\"cyan\",\"green\",\"green\",\"cyan\",\"#FEE08F\",\"#FEE08F\",\"red\",\"black\",\"green\",\"green\",\"green\",\"cyan\",\"black\",\"#FEE08F\",\"black\",\"cyan\"],\"genre\":[\"Action|Drama|War\",\"Crime|Drama\",\"Drama|Mystery\",\"Action|Adventure|Thriller\",\"Comedy|Drama|Romance\",\"Adventure|Animation|Children|Sci-Fi\",\"Drama|Romance\",\"Action|Adventure|Animation|Drama|Fantasy\",\"Drama|Thriller\",\"Drama|Horror\",\"Comedy|Musical|War\",\"Action|Adventure|Sci-Fi\",\"Crime|Horror\",\"Crime|Drama\",\"Action|Horror\",\"Drama|Thriller\",\"Comedy|Fantasy\",\"Adventure|Fantasy\",\"Comedy|Documentary|Drama\",\"Action|Sci-Fi|Thriller\",\"Action|Adventure\",\"Crime|Drama|Thriller\",\"Adventure|Sci-Fi\",\"Thriller\",\"Comedy|Crime|Mystery\",\"Comedy\",\"Adventure|Fantasy|Mystery|Romance|IMAX\",\"Animation|Children|Comedy|Romance\",\"Action|Drama|War\",\"Adventure|Comedy|Sci-Fi\",\"Action|Adventure|Comedy|Romance|Thriller\",\"Drama|Sci-Fi\",\"Action|Crime|Drama|IMAX\",\"Drama|Thriller\",\"Comedy|Drama\",\"Action|Adventure|Sci-Fi\",\"Action|Adventure|Sci-Fi\",\"Comedy|Drama|War\",\"Comedy\",\"Action|Adventure|Sci-Fi|Thriller\",\"Comedy|Drama|Thriller\",\"Adventure|Animation|Children|Comedy\",\"Adventure|Drama|IMAX\",\"Action|Adventure|Western\",\"Mystery|Thriller\",\"Action|Romance|Western\",\"Action|Crime|Drama|Sci-Fi|Thriller\",\"Crime|Drama\",\"Crime|Drama\",\"Comedy|Crime|Drama|Thriller\",\"Adventure|Animation|Children|Comedy|Fantasy|Romance\",\"Crime|Mystery|Thriller\",\"Drama|Sci-Fi|Thriller\",\"Comedy|Crime\",\"Comedy|Drama|Sci-Fi\",\"Action|Comedy|Romance\",\"Comedy|Mystery|Thriller\",\"Comedy|Drama|Fantasy\",\"Action|Adventure|Fantasy\",\"Comedy|Drama|Romance\",\"Action|Comedy|Crime|Drama|Thriller\",\"Action|Adventure|Crime|Drama|Thriller|War\",\"Drama|Romance|War\",\"Action|Adventure\",\"Action|Adventure|Sci-Fi\",\"Action|Romance|Thriller\",\"Action|Comedy|Crime|Fantasy\",\"Action|Adventure|Thriller\",\"Drama|Romance\",\"Comedy|Crime\",\"Action|Adventure|Thriller|IMAX\",\"Adventure|Animation|Children|Comedy|Drama|Fantasy\",\"Comedy|Romance\",\"Drama\",\"Thriller\",\"Comedy\",\"Drama|Romance|War|Western\",\"Drama\",\"Action|Comedy|Crime|Thriller\",\"Adventure|Fantasy\",\"Drama|Western\",\"Action|Crime|Thriller\",\"Crime|Thriller\",\"Action|Crime|Drama|Mystery|Sci-Fi|Thriller|IMAX\",\"Action|Comedy|Horror\",\"Action|Adventure|Thriller\",\"Comedy|Drama|Romance\",\"Action|Adventure|Comedy|Fantasy\",\"Drama\",\"Adventure|Comedy\",\"Action|Adventure|Sci-Fi\",\"Action|Adventure|Mystery|Thriller\",\"Documentary\",\"Crime|Drama\",\"Comedy|Romance\",\"Action|Crime|Thriller\",\"Comedy\",\"Children|Comedy|Fantasy\",\"Adventure|Animation|Children|Comedy\",\"Action|Adventure|Drama|Fantasy\",\"Comedy\",\"Action|Adventure|Fantasy\",\"Drama|Fantasy\",\"Comedy|Romance\",\"Drama|Horror|Mystery\",\"Comedy\",\"Drama|Mystery|Sci-Fi|Thriller\",\"Comedy\",\"Comedy\",\"Action|Crime\",\"Crime|Drama|Sci-Fi|Thriller\",\"Adventure|Animation|Children|Drama\",\"Comedy\",\"Action|Adventure|Sci-Fi|IMAX\",\"Adventure|Animation|Children|Comedy|Crime|Fantasy|Mystery\",\"Comedy|Drama|Romance\",\"Comedy|Drama\",\"Comedy\",\"Action|Horror|Sci-Fi|Thriller\",\"Crime|Drama\",\"Action|Drama|War\",\"Crime|Horror|Mystery|Thriller\",\"Action|Adventure|Comedy|Fantasy|Horror\",\"Animation|Comedy\",\"Comedy\",\"Adventure|Comedy|Crime|Romance\",\"Children|Comedy\",\"Comedy|Romance\",\"Comedy|Drama|Romance\",\"Action|Adventure|Thriller\",\"Comedy|Romance\",\"Comedy\",\"Crime|Drama\",\"Children|Comedy|Sci-Fi\",\"Action|Crime|Drama\",\"Adventure|Comedy|Sci-Fi\",\"Action|Sci-Fi|Thriller\",\"Action|Crime|Thriller\",\"Action|Crime|Drama|Thriller\",\"Action|Adventure|Drama|Fantasy\",\"Comedy\",\"Animation|Children|Comedy\",\"Drama|Thriller|War\",\"Adventure|Comedy|Western\",\"Crime|Drama|Thriller\",\"Action|Adventure|Sci-Fi\",\"Action|Comedy|Sci-Fi\",\"Drama|Romance\",\"Drama\",\"Adventure|Comedy|Sci-Fi\",\"Comedy|Drama|Romance\",\"Action|Adventure|Comedy|Crime\",\"Comedy|Romance\",\"Comedy|Drama|Fantasy\",\"Adventure|Comedy|Sci-Fi\",\"Action|Adventure|Drama\",\"Crime|Drama\",\"Action|Adventure|Drama|Sci-Fi|Thriller\",\"Crime|Drama|Thriller\",\"Crime|Drama|Thriller\",\"Action|Adventure|Drama\",\"Adventure|Animation|Children|Comedy|Fantasy\",\"Children|Drama\",\"Comedy|Romance\",\"Comedy|Sci-Fi\",\"Action|Sci-Fi\",\"Comedy\",\"Crime|Drama\",\"Adventure|Animation|Children|Comedy\",\"Drama|Sci-Fi|Thriller\",\"Adventure|Comedy|Fantasy\",\"Action|Western\",\"Drama|Romance\",\"Drama\",\"Action|Adventure|Comedy|Fantasy\",\"Drama|Fantasy|Romance\",\"Horror|Mystery|Thriller\",\"Comedy\",\"Action|Adventure|Comedy|Sci-Fi\",\"Comedy|Drama\",\"Children|Drama|Sci-Fi\",\"Drama\",\"Adventure|Animation|Children|Comedy|Fantasy\",\"Mystery|Thriller\",\"Action|Adventure|Comedy|War\",\"Horror|Sci-Fi|Thriller\",\"Drama|Sci-Fi|Thriller\",\"Action|Drama|Thriller\",\"Comedy|Romance\",\"Comedy|Drama|Romance\",\"Action|Adventure|Fantasy\",\"Action|Adventure|Sci-Fi|IMAX\",\"Action|Adventure|Comedy|Romance\",\"Comedy\",\"Drama|Sci-Fi|Thriller\",\"Drama|Horror|Thriller\",\"Action|Drama|Romance\",\"Comedy|Horror|Mystery|Thriller\",\"Action|Thriller\",\"Action|Adventure|Sci-Fi|IMAX\",\"Children|Comedy|Romance\",\"Adventure|Fantasy|Thriller|IMAX\",\"Adventure|Drama|Sci-Fi\",\"Action|Comedy|Musical\",\"Drama|Mystery|Thriller\",\"Comedy|Drama|Romance\",\"Adventure|Crime|Drama\",\"Crime|Drama\",\"Comedy\",\"Action|Adventure|Comedy|Drama|War\",\"Adventure|Animation|Children|Comedy|Musical\",\"Comedy|Romance\",\"Drama\",\"Comedy\",\"Action|Adventure|Children|Comedy|Fantasy\",\"Crime|Horror|Thriller\",\"Adventure|Comedy|Fantasy\",\"Comedy\",\"Thriller\",\"Action|Adventure|Mystery|Romance|Thriller\",\"Drama|Mystery|Thriller\",\"Action|Adventure|Sci-Fi|IMAX\",\"Adventure|Fantasy\",\"Action|Drama|Western\",\"Action|Mystery|Thriller\",\"Action|Comedy|Romance\",\"Comedy\",\"Action|Comedy|Sci-Fi\",\"Adventure|Drama|Western\",\"Drama|Romance\",\"Comedy|Crime|Drama|Romance|Thriller\",\"Comedy|Drama|Fantasy|Romance\",\"Adventure|Drama|War\",\"Action|Adventure|Sci-Fi\",\"Action|Crime|Thriller\",\"Mystery|Sci-Fi|Thriller\",\"Action|Adventure|Sci-Fi|Thriller\",\"Adventure|Animation|Children|Drama|Musical|IMAX\",\"Comedy\",\"Action|Adventure|Sci-Fi|Thriller\",\"Animation|Children|Fantasy|Musical\",\"Drama|War\",\"Action|Drama|Sci-Fi|Thriller\",\"Adventure|Animation|Children|Comedy|Fantasy\",\"Adventure|Drama\",\"Comedy|Drama|Romance\",\"Adventure|Drama\",\"Drama|War\",\"Children|Comedy|Fantasy\",\"Action|Horror|Sci-Fi|Thriller\",\"Drama|Thriller\",\"Comedy|Crime\",\"Action|Adventure|Sci-Fi\",\"Comedy\",\"Action|Comedy|Horror\",\"Crime|Drama\",\"Comedy|Crime|Thriller\",\"Comedy\",\"Comedy|Fantasy|Romance\",\"Comedy\",\"Action|Sci-Fi|Thriller|IMAX\",\"Comedy|Drama|Romance|War\",\"Comedy\",\"Action|Comedy|Crime|Drama\",\"Drama\",\"Action|Crime|Drama|Thriller\",\"Drama\",\"Action|Horror|Sci-Fi|Thriller|IMAX\",\"Comedy|Sci-Fi\",\"Comedy\",\"Comedy\",\"Adventure|Children|Comedy\",\"Drama\",\"Comedy\",\"Children|Comedy|Fantasy|Horror\",\"Comedy|Crime|Drama\",\"Comedy|Drama\",\"Comedy\",\"Action|Adventure|Drama|Fantasy|Thriller\",\"Action|Adventure|Fantasy\",\"Comedy|Crime\",\"Action|Sci-Fi|Thriller\",\"Crime|Drama\",\"Action|Adventure|Sci-Fi|Thriller\",\"Action|Adventure|Fantasy\",\"Adventure|Film-Noir|Sci-Fi|Thriller\",\"Comedy\",\"Comedy|Romance\",\"Comedy|Drama|Romance\",\"Comedy\",\"Comedy|Crime|Drama|Thriller\",\"Action|Adventure|Comedy|Sci-Fi\",\"Action|Adventure|Fantasy\",\"Horror|Sci-Fi\",\"Drama|Thriller\",\"Drama|Romance\",\"Comedy|Crime\",\"Comedy|Drama\",\"Comedy|Drama|Fantasy|Romance|Thriller\",\"Action|Comedy|Fantasy\",\"Drama\",\"Drama|War\",\"Crime|Drama\",\"Action|Adventure|Sci-Fi\",\"Action|Adventure|Fantasy|Thriller\",\"Comedy|Drama\",\"Action|Comedy\",\"Action|Adventure|Fantasy\",\"Action|Crime|IMAX\",\"Action|Drama|Romance\",\"Drama\",\"Comedy|Drama|Romance\",\"Action|Adventure|Comedy|Sci-Fi\",\"Action|Comedy|Fantasy|Musical|Romance\",\"Drama|War\",\"Documentary\",\"Action|Adventure|Animation|Children|Comedy\",\"Action|Crime|Drama|Thriller\",\"Comedy|Drama\",\"Action|Mystery|Sci-Fi\",\"Horror|Sci-Fi\",\"Comedy|Drama|Fantasy\",\"Comedy\",\"Action|Crime|Thriller\",\"Animation|Children|Comedy|Musical|Romance\",\"Comedy|Drama\",\"Action|Adventure|Comedy|Fantasy\",\"Action|Drama|War\",\"Drama\",\"Comedy|Drama\",\"Action|Adventure|Thriller\",\"Comedy|Romance\",\"Comedy|Romance\",\"Action|Horror|Sci-Fi\",\"Action|Crime|Drama|Thriller\",\"Adventure|Animation|Children|Fantasy|Musical\",\"Drama\",\"Comedy|Drama\",\"Action|Crime\",\"Animation|Children|Musical\",\"Action|Crime|Drama|Thriller\",\"Drama\",\"Action|Adventure|Animation|Children|Comedy\",\"Horror|Sci-Fi|Thriller\",\"Drama|Mystery|Thriller\",\"Drama|Romance\",\"Crime|Drama|Mystery|Thriller\",\"Adventure|Drama|War\",\"Drama|Musical|Romance\",\"Action|Fantasy|Sci-Fi\",\"Adventure|Drama\",\"Action|Sci-Fi|Thriller|IMAX\",\"Action|Comedy|Romance|War\",\"Adventure|Drama|Sci-Fi\",\"Comedy|Drama\",\"Action|Crime|Mystery|Sci-Fi|Thriller\",\"Comedy\",\"Drama|Romance\",\"Crime|Drama\",\"Adventure|Drama|Fantasy|IMAX\",\"Action|Drama|Mystery|Sci-Fi|Thriller|IMAX\",\"Mystery|Thriller\",\"Comedy|Horror\",\"Drama\",\"Comedy|Romance\",\"Action|Adventure|Sci-Fi|IMAX\",\"Comedy\",\"Action|Adventure|Drama|War\",\"Comedy\",\"Drama|Thriller\",\"Action|Adventure|Thriller\",\"Animation|Comedy\",\"Adventure|Comedy|Sci-Fi|Western\",\"Comedy|Horror\",\"Action|Adventure|Sci-Fi|Thriller\",\"Adventure|Children|Fantasy\",\"Action|Adventure|Sci-Fi\",\"Action|Drama|War\",\"Animation|Children|Drama|Fantasy\",\"Drama\",\"Action|Adventure|Sci-Fi\",\"Action|Horror|Thriller\",\"Comedy\",\"Adventure|Comedy|Crime\",\"Comedy|Romance\",\"Comedy|Crime|Drama\",\"Drama|Romance\",\"Action|Adventure|Sci-Fi\",\"Action|Comedy|Fantasy|IMAX\",\"Comedy|Romance\",\"Comedy\",\"Drama\",\"Action|Crime|Drama|Thriller\",\"Action|Drama|Sci-Fi\",\"Comedy\",\"Drama|Mystery|Western\",\"Comedy\",\"Adventure|Children|Fantasy\",\"Action|Crime|Drama|Thriller\",\"Action|Comedy\",\"Comedy|Drama|Romance\",\"Action|Adventure|Thriller\",\"Action|Adventure|Sci-Fi|Thriller|IMAX\",\"Action|Adventure|Comedy|Crime\",\"Drama|Romance\",\"Comedy|Drama|Romance\",\"Action|Comedy|Crime|Thriller\",\"Action|Drama|Western\",\"Action|Adventure|Children|Comedy|Fantasy\",\"Adventure|Animation|Children|Comedy|Fantasy\",\"Action|Crime|Thriller\",\"Comedy|Drama\",\"Drama|Sci-Fi|Thriller\",\"Action|Adventure|Sci-Fi\",\"Comedy\",\"Action|Western\",\"Action|Sci-Fi|Thriller|IMAX\",\"Comedy\",\"Horror|Mystery|Thriller\",\"Action|Thriller\",\"Drama|War\",\"Drama|Mystery|Thriller\",\"Action|Adventure|Sci-Fi|Thriller|IMAX\",\"Comedy|Fantasy\",\"Action|Mystery|Sci-Fi\",\"Action|Adventure|Drama|Sci-Fi\",\"Thriller\",\"Drama|Mystery|Thriller\",\"Action|Sci-Fi\",\"Action|Drama\",\"Comedy|Drama|Romance\",\"Drama\",\"Comedy\",\"Horror|Thriller\",\"Crime|Drama|Film-Noir|Thriller\",\"Children|Comedy\",\"Drama|Thriller\",\"Adventure|Comedy|Sci-Fi\",\"Action|Adventure|Sci-Fi|Thriller\",\"Horror\",\"Comedy|Crime|Romance\",\"Comedy\",\"Comedy|Crime|Thriller\",\"Action|Adventure|Horror|Sci-Fi\",\"Drama|Horror|Sci-Fi|Thriller\",\"Drama|Thriller\",\"Adventure|Fantasy\",\"Action|Adventure|Thriller\",\"Action|Adventure|Crime|Drama|Thriller\",\"Action|Adventure|Sci-Fi|Thriller\",\"Drama\",\"Adventure|Children|Fantasy\",\"Drama\",\"Crime|Drama|Mystery\",\"Action|Comedy|Crime|Thriller\",\"Action|Sci-Fi|Thriller\",\"Drama|Romance|War\",\"Horror|Mystery\",\"Comedy|Crime\",\"Animation|Children|Fantasy|Musical\",\"Action|Adventure|Thriller\",\"Drama\",\"Comedy\",\"Action|Drama|Thriller\",\"Comedy\",\"Crime|Drama|Thriller\",\"Comedy|Romance\",\"Adventure|Drama|War\",\"Comedy|Crime|Drama\",\"Crime|Film-Noir|Mystery|Thriller\",\"Comedy\",\"Drama\",\"Action|Adventure|Comedy|Western\",\"Action|Thriller\",\"Drama|Romance|Sci-Fi\",\"Crime|Thriller\",\"Drama|Sci-Fi|Thriller\",\"Film-Noir|Mystery\",\"Drama\",\"Comedy|Fantasy|Romance\",\"Comedy|Crime|Drama\",\"Drama\",\"Adventure|Animation|Children|Fantasy\",\"Drama\",\"Children|Comedy|Fantasy|Musical\",\"Comedy|Fantasy|Sci-Fi\",\"Action|Crime|Drama|Thriller|War\",\"Animation|Children|Fantasy|Musical\",\"Action|Drama|Thriller\",\"Crime|Thriller\",\"Comedy\",\"Drama|Fantasy|Horror|Thriller\",\"Action|Sci-Fi|Thriller\",\"Drama|Romance\",\"Crime|Mystery|Thriller\",\"Adventure|Drama|Fantasy|Mystery|Sci-Fi\",\"Drama\",\"Adventure|Children|Comedy|Fantasy|Sci-Fi\",\"Comedy\",\"Action|Crime|Drama|Thriller\",\"Crime|Drama|Mystery\",\"Mystery|Thriller\",\"Adventure|Comedy\",\"Action|Mystery\",\"Animation|Children|Fantasy|Musical\",\"Horror|Thriller\",\"Adventure|Animation|Children|Comedy|Drama|Musical|Romance\",\"Action|Crime|Thriller\",\"Animation|Fantasy|Thriller\",\"Drama\",\"Action|Drama|Thriller\",\"Action|Sci-Fi|IMAX\",\"Comedy\",\"Crime|Drama\",\"Adventure|Animation|Children|Romance|Sci-Fi\",\"Action|Crime|Mystery|Sci-Fi|Thriller\",\"Crime|Film-Noir|Mystery|Thriller\",\"Comedy\",\"Drama|War\",\"Action|Adventure|Drama|War\",\"Action|Adventure|Sci-Fi\",\"Animation|Children|Comedy\",\"Comedy|Drama|Romance\",\"Crime|Drama|Film-Noir|Mystery|Thriller\",\"Comedy|War\",\"Sci-Fi|IMAX\",\"Comedy\",\"Action|Sci-Fi|Thriller\",\"Comedy\",\"Drama|Thriller\",\"Adventure|Fantasy|IMAX\",\"Action|Adventure|Sci-Fi|Thriller\",\"Action|Adventure|Sci-Fi\",\"Adventure|Animation|Children|Fantasy|IMAX\",\"Comedy|Drama\",\"Adventure|Fantasy|Musical\",\"Action|Adventure|Sci-Fi|Thriller\",\"Adventure|Drama|Sci-Fi\",\"Comedy|Drama|Romance\",\"Crime|Thriller\",\"Drama\",\"Drama\",\"Comedy|Drama|Romance\",\"Drama|War\",\"Animation|Children|Drama\",\"Animation|Children|Comedy\",\"Comedy|Romance\",\"Crime|Film-Noir|Mystery|Thriller\",\"Comedy\",\"Comedy|Musical|Romance\",\"Animation|Children\",\"Action|Adventure|Sci-Fi\",\"Comedy\",\"Action|Crime|Thriller\",\"Crime|Drama|Romance\",\"Crime|Drama\",\"Animation|Comedy|Musical\",\"Action|Adventure|Sci-Fi\",\"Thriller\",\"Comedy|Drama|Romance\",\"Comedy|Horror|Musical|Sci-Fi\",\"Action|Adventure|Drama|Sci-Fi|Thriller\",\"Action|Thriller|War\",\"Adventure|Drama|Thriller|IMAX\",\"Comedy|Romance\",\"Action|Animation|Comedy\",\"Children|Comedy|Fantasy|Musical\",\"Comedy\",\"Comedy|Drama|Romance|War\",\"Drama\",\"Adventure|Comedy\",\"Comedy\",\"Comedy|Romance\",\"Action|Adventure|Drama\",\"Comedy|Drama|Fantasy|Romance\",\"Action|Thriller\",\"Comedy|Drama|Mystery\",\"Fantasy|Sci-Fi\",\"Action|Adventure|Thriller\",\"Action|Comedy|Crime|Mystery\",\"Animation|Children|Drama|Musical|Romance\",\"Adventure|Children|Drama\",\"Action|Crime|Drama\",\"Drama|Fantasy|Romance\",\"Comedy|Horror|Thriller\",\"Comedy|Drama|Romance\",\"Action|Romance\",\"Adventure|Comedy|Sci-Fi|Thriller\",\"Comedy|Drama\",\"Action|Romance|Sci-Fi|Thriller\",\"Comedy|Drama|Fantasy|Romance\",\"Action|Adventure|Thriller\",\"Comedy|Horror\",\"Fantasy|Horror|Mystery|Romance\",\"Comedy|Crime\",\"Action|Comedy|Crime|Drama\",\"Mystery|Sci-Fi|Thriller\",\"Comedy\",\"Action|Crime|Drama|Mystery|Thriller\",\"Crime|Drama|Mystery|Thriller\",\"Action|Crime|Thriller\",\"Drama|Mystery|Romance|Thriller\",\"Action|Crime|Sci-Fi\",\"Action|Adventure|Sci-Fi|Thriller\",\"Comedy|Drama\",\"Horror|Mystery|Sci-Fi|Thriller\",\"Action|Sci-Fi|Thriller\",\"Action|Adventure|Comedy|Romance\",\"Drama|Romance\",\"Action|Adventure|Sci-Fi|Thriller\",\"Comedy\",\"Action|Crime\",\"Drama\",\"Action|Comedy|Crime\",\"Comedy|Crime|Drama|Mystery|Thriller\",\"Action|Crime|Film-Noir|Mystery|Thriller\",\"Action|Adventure|Sci-Fi\",\"Drama\",\"Drama|Fantasy|Mystery|Romance\",\"Action|Adventure|Sci-Fi|Thriller\",\"Action|Adventure|Fantasy|Sci-Fi\",\"Children|Comedy|Fantasy\",\"Drama|Romance\",\"Action|Adventure|Comedy|Fantasy|Romance\",\"Comedy\",\"Action|Drama|Sci-Fi\",\"Action|Comedy|War\",\"Action|Comedy|Sci-Fi\",\"Adventure|Children|Musical\",\"Comedy\",\"Horror|Sci-Fi\",\"Drama\",\"Comedy|Fantasy|Horror|Thriller\",\"Adventure|Animation|Children|Comedy|Musical|Romance\",\"Animation|Children|Fantasy|Musical|Romance|IMAX\",\"Drama\",\"Comedy|Sci-Fi\",\"Drama|Romance|Thriller\",\"Comedy|Romance\",\"Comedy\",\"Adventure|Comedy|Sci-Fi\",\"Adventure|Animation|Children|Comedy|Fantasy|IMAX\",\"Action|Drama|War\",\"Comedy|Drama|Romance\",\"Crime|Drama|Horror|Mystery|Thriller\",\"Action|Crime|Sci-Fi\",\"Adventure|Animation|Fantasy\",\"Action|Adventure|Drama|Thriller\",\"Comedy\",\"Children|Drama|Fantasy\",\"Drama|Musical|Romance\",\"Animation|Children|Drama|Fantasy|Musical\",\"Action|Sci-Fi\",\"Children|Comedy\",\"Drama|Horror|Thriller\",\"Drama|Mystery|Sci-Fi|Thriller\",\"Comedy|Drama\",\"Adventure|Fantasy|IMAX\",\"Action|Adventure|Comedy\",\"Action|Fantasy|War|IMAX\",\"Action|Adventure|Sci-Fi\",\"Action|Comedy|Fantasy|Horror\",\"Action|Thriller\",\"Western\",\"Comedy|Romance\",\"Drama\",\"Horror|Mystery\",\"Action|Adventure|Thriller\",\"Comedy\",\"Action|Comedy|Romance\",\"Comedy\",\"Action|Drama|Romance|Sci-Fi\",\"Drama|Thriller\",\"Action|Sci-Fi|Thriller\",\"Drama|Romance\",\"Adventure|Drama|Sci-Fi\",\"Drama|Musical|Romance\",\"Crime|Drama|Thriller\",\"Action|Comedy\",\"Drama|Romance\",\"Animation|Children|Drama|Musical\",\"Drama|Mystery|Thriller\",\"Crime|Thriller|War\",\"Drama\",\"Drama|Fantasy|Horror|Thriller\",\"Horror\",\"Drama|War\",\"Comedy\",\"Children|Comedy|Musical\",\"Action|Animation|Sci-Fi|Thriller\",\"Comedy|Crime\",\"Comedy|Drama|Fantasy|Romance\",\"Drama\",\"Action|Adventure|Sci-Fi\",\"Drama\",\"Action|Adventure|Drama\",\"Crime|Mystery|Thriller\",\"Action|Adventure|Thriller\",\"Comedy|Drama|Romance\",\"Comedy\",\"Comedy|Drama|Romance\",\"Comedy|Drama|Romance\",\"Action|Adventure|Sci-Fi\",\"Sci-Fi|Thriller\",\"Crime|Mystery|Thriller\",\"Action|Adventure|Fantasy|Sci-Fi|IMAX\",\"Action|Crime\",\"Adventure|Drama\",\"Animation|Comedy|Fantasy|Musical|Romance\",\"Action|Fantasy|Horror\",\"Action|Sci-Fi\",\"Action|Adventure|Sci-Fi\",\"Adventure|Children|Comedy|Fantasy|IMAX\",\"Comedy|Drama|Romance\",\"Drama|War\",\"Drama|Mystery|Thriller\",\"Comedy|Drama|War\",\"Drama|Romance\",\"Action|Adventure|Drama|War\",\"Action|Crime|Thriller\",\"Action|Sci-Fi\",\"Drama|Mystery|Thriller\",\"Action|Comedy|Sci-Fi\",\"Comedy|Drama|Romance\",\"Comedy|Horror|Mystery|Thriller\",\"Action|Adventure|Comedy|Crime|Fantasy\",\"Comedy\",\"Action|Adventure|Drama|Mystery|Thriller\",\"Adventure|Animation|Children|Comedy|Musical\",\"Action|Thriller\",\"Action|Comedy|Horror|Thriller\",\"Action|Adventure|Comedy\",\"Drama|Romance\",\"Adventure|Drama|IMAX\",\"Action|Adventure|Comedy|Fantasy|Horror|Thriller\",\"Action|Thriller|Western\",\"Drama\",\"Animation|Children|Drama\",\"Action|Crime|Thriller\",\"Crime|Drama\",\"Animation|Drama|Mystery|Sci-Fi|Thriller\",\"Children|Drama|Fantasy|Romance\",\"Comedy|Drama|Romance\",\"Comedy|Horror|Mystery|Thriller\",\"Comedy|Fantasy|Romance|Sci-Fi\",\"Comedy|Romance\",\"Comedy|Western\",\"Crime|Drama|Mystery\",\"Comedy|Drama|Romance\",\"Drama|Romance|Thriller\",\"Action|Comedy|Crime|Thriller\",\"Action|Drama|Thriller|Western\",\"Action|Adventure|Crime|IMAX\",\"Action|Adventure|Fantasy|Horror\",\"Animation|Children|Fantasy|Musical|Romance\",\"Comedy|Romance\",\"Adventure|Animation|Comedy|Crime\",\"Action|Adventure|Sci-Fi|Thriller\",\"Action|Adventure|Animation|Sci-Fi\",\"Action|Adventure|Thriller\",\"Animation|Children|Drama|Musical|Romance\",\"Action|Crime|Mystery|Thriller\",\"Drama\",\"Drama|Fantasy|Mystery|Romance\",\"Animation|Children|Comedy|Crime\",\"Comedy|Romance\",\"Horror|Sci-Fi|Thriller\",\"Comedy|Musical|Romance\",\"Drama|Mystery\",\"Adventure|Children|Fantasy\",\"Action|Adventure|Sci-Fi|Thriller|IMAX\",\"Comedy|Drama\",\"Drama|Horror|Thriller\",\"Adventure|Animation|Children|Comedy|Fantasy|Sci-Fi\",\"Comedy|Drama|Romance\",\"Action|Crime\",\"Comedy|Sci-Fi\",\"Action|Comedy\",\"Drama|Film-Noir|Romance\",\"Action|Adventure|Sci-Fi|Thriller|IMAX\",\"Comedy|Horror\",\"Comedy|Romance|Thriller\",\"Adventure|Comedy|Fantasy|Sci-Fi\",\"Children|Comedy|Fantasy\",\"Adventure|Comedy|Fantasy\",\"Drama\",\"Action|Adventure|Thriller\",\"Comedy|Drama|Romance\",\"Drama|Sci-Fi\",\"Drama|Sci-Fi|Thriller\",\"Comedy|Drama\",\"Drama\",\"Action|Adventure|Thriller\",\"Action|Crime|Romance|Thriller\",\"Action|Adventure|Sci-Fi|Thriller\",\"Comedy|Crime|Drama|Musical\",\"Comedy|Drama|Romance\",\"Crime|Drama|Thriller\",\"Adventure|Animation|Children|Fantasy|Musical\",\"Action|Crime|Thriller\",\"Action|Adventure|Drama|Fantasy|Mystery|IMAX\",\"Thriller\",\"Sci-Fi|Thriller\",\"Drama\",\"Action|Adventure|Mystery|Sci-Fi\",\"Action|Adventure|Comedy|Romance\",\"Action|Adventure|Comedy|Crime|Thriller\",\"Adventure|Drama\",\"Action|Comedy|Crime|Drama\",\"Action|Comedy|Sci-Fi|Western\",\"Action|Horror|Sci-Fi|Thriller\",\"Drama|War\",\"Action|Adventure|Sci-Fi\",\"Action|Crime|Drama|Mystery|Sci-Fi|Thriller\",\"Comedy|Crime|Thriller\",\"Drama|War\",\"Comedy|Drama|Musical|Romance\",\"Comedy\",\"Drama\",\"Comedy|Horror|Sci-Fi|Thriller\",\"Comedy|Fantasy|Romance\",\"Adventure|Comedy\",\"Romance\",\"Drama|Fantasy|Thriller\",\"Comedy\",\"Action|Horror|Sci-Fi\",\"Comedy|Drama|Romance\",\"Drama|Mystery|Thriller\",\"Mystery|Romance|Sci-Fi|Thriller\",\"Drama|Mystery|Thriller\",\"Action|Drama|War\",\"Crime|Thriller\",\"Action|Adventure|Romance|Thriller\",\"Adventure|Animation|Children|Comedy\",\"Comedy|Drama|Romance\",\"Comedy|Musical\",\"Action|Adventure|Animation|Comedy\",\"Action|Crime|Drama|Thriller\",\"Action|Adventure|Sci-Fi|IMAX\",\"Action|Romance|Sci-Fi|Thriller\",\"Action|Adventure\",\"Action|Adventure|Sci-Fi\",\"Comedy|Romance\",\"Action|Fantasy|Horror|Thriller\",\"Adventure|Children|Fantasy|Musical\",\"Adventure|Children|Comedy|Fantasy\",\"Comedy|Romance\",\"Action|Adventure|Animation|Children\",\"Musical|Romance\",\"Action|Comedy|Crime|Thriller\",\"Comedy\",\"Comedy|Crime\",\"Comedy|Horror|Musical\",\"Mystery|Thriller\",\"Action|Adventure|Drama|Fantasy|IMAX\",\"Children|Comedy|Fantasy\",\"Comedy|Horror\",\"Drama|Romance|Sci-Fi\",\"Comedy\",\"Comedy|Romance\",\"Crime|Drama\",\"Adventure|Comedy|Drama\",\"Comedy\",\"Adventure|Animation|Drama|Fantasy|Sci-Fi\",\"Adventure|Drama|War\",\"Adventure|Comedy|Drama\",\"Adventure|Animation|Children|Drama|Sci-Fi\",\"Crime|Drama|Thriller\",\"Action|Adventure|Fantasy|IMAX\",\"Fantasy|Horror|Romance|Thriller\",\"Drama\",\"Action|Adventure|Drama\",\"Adventure|Children\",\"Adventure|Drama|Sci-Fi\",\"Action|Drama|Horror|Thriller\",\"Action|Adventure|Thriller\",\"Animation|Children|Fantasy|Musical\",\"Action|Crime|Drama|War\",\"Crime|Drama\",\"Drama\",\"Drama\",\"Comedy|Drama\",\"Action|Adventure|Sci-Fi|Thriller\",\"Drama\",\"Adventure|Animation|Children|Comedy\",\"Drama|Romance\",\"Comedy|Horror\",\"Drama|Sci-Fi\",\"Action|Animation|Children|Comedy|IMAX\",\"Action|Crime|Drama|Western\",\"Action|Adventure|Comedy\",\"Comedy|Romance\",\"Action|Comedy|Crime\",\"Action|Adventure|Animation|Children|Comedy|Fantasy\",\"Action|Comedy|Thriller\",\"Crime|Drama|Mystery|Romance|Thriller\",\"Adventure|Sci-Fi\",\"Comedy|Drama|War\",\"Action|Comedy|Sci-Fi\",\"Action|Drama|Thriller\",\"Adventure|Animation|Children\",\"Comedy|Romance\",\"Comedy\",\"Action|Adventure|Thriller\",\"Children|Comedy|Fantasy\",\"Action|Comedy|Crime|Drama\",\"Comedy|Romance\",\"Comedy|Drama\",\"Action|Adventure|Comedy|Crime\",\"Comedy|Romance\",\"Action|Sci-Fi\",\"Comedy\",\"Comedy\",\"Action|Adventure|Thriller\",\"Comedy|Crime|Drama\",\"Action|Adventure|Sci-Fi|Thriller\",\"Animation|Children|Comedy|Crime\",\"Adventure|Drama|Sci-Fi\",\"Comedy|Romance\",\"Action|Adventure|Fantasy|Horror\",\"Drama\",\"Comedy|Musical\",\"Comedy\",\"Action|Drama|War\",\"Drama|Romance\",\"Action|Thriller|War\",\"Action|Comedy\",\"Action|Adventure|Comedy|Romance\",\"Drama|Thriller\",\"Crime|Drama\",\"Action|Comedy|Sci-Fi\",\"Drama|Mystery|Thriller\",\"Action|Adventure|Comedy|Thriller\",\"Animation|Sci-Fi\",\"Comedy|Romance\",\"Action|Adventure|Fantasy\",\"Adventure|Animation|Children|Comedy\",\"Documentary\",\"Drama|Mystery|Sci-Fi|Thriller\",\"Drama\",\"Action|Comedy|Crime|Romance\",\"Action|Crime|Drama|Thriller\",\"Comedy|Musical|Romance\",\"Comedy|Romance\",\"Action|Drama|War\",\"Comedy|Thriller\",\"Action|Sci-Fi|Thriller\",\"Action|Thriller\",\"Drama\",\"Crime|Drama\",\"Action|Animation|Children|Crime\",\"Action|Sci-Fi\",\"Comedy\",\"Horror|Thriller\",\"Drama|Horror|Mystery|Thriller\",\"Comedy|Crime|Drama|Thriller\",\"Action|Adventure|Drama|Sci-Fi|Thriller\",\"Sci-Fi\",\"Drama|Thriller|War\",\"Adventure|Children|Fantasy\",\"Comedy|Romance\",\"Action|Sci-Fi|IMAX\",\"Adventure|Comedy|Western\",\"Action|Adventure|Comedy|Crime|Mystery|Thriller\",\"Action|Adventure|Crime|Thriller\",\"Action|Drama|War\",\"Action|Adventure|Drama\",\"Comedy|Sci-Fi\",\"Drama\",\"Animation|Children|Comedy|Fantasy|Musical|Romance|IMAX\",\"Comedy|Crime\",\"Children|Comedy\",\"Drama\",\"Comedy|Romance\",\"Action|Crime|Drama|Thriller\",\"Drama|Romance\",\"Adventure|Comedy|Drama|Fantasy|Romance\",\"Drama|Horror|Musical|Thriller\",\"Drama|Romance|Sci-Fi\",\"Action|Crime|Drama|Mystery|Thriller\",\"Thriller\",\"Action|Sci-Fi\",\"Adventure|Comedy|Mystery|Romance\",\"Adventure|Animation|Children|Comedy|Fantasy\",\"Action|Adventure|Drama|Sci-Fi|Thriller\",\"Comedy|Romance\",\"Comedy|Drama|Romance\",\"Horror|Sci-Fi|Thriller\",\"Drama|Thriller\",\"Drama|Thriller\",\"Drama|War\",\"Action|Adventure|Crime|Horror|Thriller\",\"Comedy|Drama|Romance\",\"Comedy\",\"Comedy|Drama\",\"Action|Adventure|Sci-Fi|IMAX\",\"Action|Crime|Fantasy|Thriller\",\"Drama|Romance\",\"Action|Adventure|Fantasy|IMAX\",\"Action|Sci-Fi\"],\"title\":[\"Braveheart\",\"Goodfellas\",\"Citizen Kane\",\"Hunt for Red October, The\",\"(500) Days of Summer\",\"Lilo & Stitch\",\"Virgin Suicides, The\",\"Princess Mononoke (Mononoke-hime)\",\"Insider, The\",\"Interview with the Vampire: The Vampire Chronicles\",\"Duck Soup\",\"Tron\",\"Psycho\",\"Carlito's Way\",\"Jaws\",\"Girl with the Dragon Tattoo, The\",\"Beetlejuice\",\"Lord of the Rings: The Two Towers, The\",\"Super Size Me\",\"Matrix, The\",\"Raiders of the Lost Ark (Indiana Jones and the Raiders of the Lost Ark)\",\"Inside Man\",\"Star Trek: The Motion Picture\",\"Fugitive, The\",\"Super Troopers\",\"Bowfinger\",\"Harry Potter and the Half-Blood Prince\",\"Lady and the Tramp\",\"Dirty Dozen, The\",\"Back to the Future\",\"True Lies\",\"Unbreakable\",\"Dark Knight, The\",\"Disclosure\",\"Swingers\",\"Avengers: Age of Ultron\",\"Star Wars: Episode VI - Return of the Jedi\",\"Great Dictator, The\",\"Airplane II: The Sequel\",\"Independence Day (a.k.a. ID4)\",\"To Die For\",\"Finding Nemo\",\"Apollo 13\",\"Good, the Bad and the Ugly, The (Buono, il brutto, il cattivo, Il)\",\"Secret Window\",\"Desperado\",\"RoboCop\",\"No Country for Old Men\",\"Donnie Brasco\",\"Pulp Fiction\",\"Shrek\",\"Basic Instinct\",\"Gattaca\",\"Sting, The\",\"Truman Show, The\",\"French Kiss\",\"Arsenic and Old Lace\",\"Being John Malkovich\",\"Indiana Jones and the Temple of Doom\",\"Pretty in Pink\",\"Bad Boys\",\"Blood Diamond\",\"English Patient, The\",\"Indiana Jones and the Last Crusade\",\"Star Trek III: The Search for Spock\",\"Speed\",\"Mask, The\",\"Goldfinger\",\"Good Will Hunting\",\"Go\",\"Skyfall\",\"Inside Out\",\"Notting Hill\",\"Wrestler, The\",\"Sleepers\",\"Hudsucker Proxy, The\",\"Legends of the Fall\",\"Searching for Bobby Fischer\",\"Starsky & Hutch\",\"Harry Potter and the Chamber of Secrets\",\"Unforgiven\",\"Natural Born Killers\",\"Ocean's Eleven\",\"Inception\",\"Buffy the Vampire Slayer\",\"Mission: Impossible II\",\"High Fidelity\",\"Pirates of the Caribbean: At World's End\",\"Philadelphia\",\"Dumb & Dumber (Dumb and Dumber)\",\"Guardians of the Galaxy\",\"Mission: Impossible\",\"Bowling for Columbine\",\"Catch Me If You Can\",\"Four Weddings and a Funeral\",\"Heat\",\"Risky Business\",\"Elf\",\"Ice Age\",\"Lord of the Rings: The Return of the King, The\",\"Old School\",\"Mortal Kombat\",\"Imaginarium of Doctor Parnassus, The\",\"Clueless\",\"Sixth Sense, The\",\"Sister Act 2: Back in the Habit\",\"Donnie Darko\",\"Austin Powers in Goldmember\",\"My Cousin Vinny\",\"Transporter, The\",\"Clockwork Orange, A\",\"Up\",\"Ferris Bueller's Day Off\",\"Avatar\",\"Who Framed Roger Rabbit?\",\"Terminal, The\",\"People vs. Larry Flynt, The\",\"Meet the Parents\",\"Thing, The\",\"Crash\",\"Apocalypse Now\",\"American Psycho\",\"Army of Darkness\",\"Wreck-It Ralph\",\"Big Daddy\",\"Bottle Rocket\",\"Christmas Story, A\",\"Amelie (Fabuleux destin d'Am\\u00e9lie Poulain, Le)\",\"Bridget Jones's Diary\",\"Rock, The\",\"Pretty Woman\",\"Down Periscope\",\"Godfather: Part II, The\",\"Honey, I Blew Up the Kid\",\"Scarface\",\"Galaxy Quest\",\"Terminator, The\",\"Die Hard\",\"Last Man Standing\",\"Clash of the Titans\",\"Ace Ventura: When Nature Calls\",\"Chicken Run\",\"Crimson Tide\",\"Maverick\",\"Jackie Brown\",\"Star Wars: Episode V - The Empire Strikes Back\",\"Mars Attacks!\",\"Brokeback Mountain\",\"Requiem for a Dream\",\"Back to the Future Part II\",\"American President, The\",\"Batman Forever\",\"There's Something About Mary\",\"Santa Clause, The\",\"Hitchhiker's Guide to the Galaxy, The\",\"Hero (Ying xiong)\",\"Capote\",\"The Hunger Games\",\"Traffic\",\"Few Good Men, A\",\"Gladiator\",\"Toy Story 2\",\"Babe\",\"40-Year-Old Virgin, The\",\"Sleeper\",\"Terminator 2: Judgment Day\",\"Bullets Over Broadway\",\"Bonnie and Clyde\",\"Bug's Life, A\",\"Day the Earth Stood Still, The\",\"Monty Python and the Holy Grail\",\"Fistful of Dollars, A (Per un pugno di dollari)\",\"St. Elmo's Fire\",\"Boogie Nights\",\"Pirates of the Caribbean: The Curse of the Black Pearl\",\"Edward Scissorhands\",\"Ring, The\",\"Monty Python's The Meaning of Life\",\"Indiana Jones and the Kingdom of the Crystal Skull\",\"That Thing You Do!\",\"E.T. the Extra-Terrestrial\",\"Quiz Show\",\"Toy Story\",\"Seven (a.k.a. Se7en)\",\"Tropic Thunder\",\"Hollow Man\",\"WarGames\",\"Shooter\",\"10 Things I Hate About You\",\"Punch-Drunk Love\",\"Willow\",\"Star Trek\",\"Romancing the Stone\",\"Airplane!\",\"The Butterfly Effect\",\"Misery\",\"First Knight\",\"Scream\",\"In the Line of Fire\",\"Star Wars: Episode II - Attack of the Clones\",\"Princess Diaries, The\",\"Harry Potter and the Goblet of Fire\",\"The Martian\",\"Blues Brothers, The\",\"Village, The\",\"Delicatessen\",\"Thelma & Louise\",\"Dead Man Walking\",\"Napoleon Dynamite\",\"Three Kings\",\"Aladdin\",\"Wedding Singer, The\",\"Of Mice and Men\",\"Tommy Boy\",\"Goonies, The\",\"Silence of the Lambs, The\",\"Hook\",\"Muriel's Wedding\",\"Arlington Road\",\"North by Northwest\",\"Shutter Island\",\"Avengers, The\",\"Lord of the Rings: The Fellowship of the Ring, The\",\"Tombstone\",\"Bourne Identity, The\",\"Mask of Zorro, The\",\"Clerks\",\"Men in Black (a.k.a. MIB)\",\"Dances with Wolves\",\"Sense and Sensibility\",\"Out of Sight\",\"Big\",\"Seven Years in Tibet\",\"Iron Man\",\"Ronin\",\"District 9\",\"Lost World: Jurassic Park, The\",\"Lion King, The\",\"Borat: Cultural Learnings of America for Make Benefit Glorious Nation of Kazakhstan\",\"Abyss, The\",\"Sword in the Stone, The\",\"Deer Hunter, The\",\"Outbreak\",\"Monsters, Inc.\",\"Straight Story, The\",\"Juno\",\"Robin Hood: Prince of Thieves\",\"Full Metal Jacket\",\"Flintstones, The\",\"Alien\\u00b3 (a.k.a. Alien 3)\",\"Final Destination\",\"Big Lebowski, The\",\"Star Wars: Episode III - Revenge of the Sith\",\"Monty Python's Life of Brian\",\"Zombieland\",\"Gran Torino\",\"Snatch\",\"This Is Spinal Tap\",\"Groundhog Day\",\"Dr. Dolittle\",\"Iron Man 3\",\"Forrest Gump\",\"Liar Liar\",\"Beverly Hills Cop\",\"Nell\",\"L\\u00e9on: The Professional (a.k.a. The Professional) (L\\u00e9on)\",\"Karate Kid, The\",\"I Am Legend\",\"Coneheads\",\"Animal House\",\"Naked Gun 2 1/2: The Smell of Fear, The\",\"101 Dalmatians\",\"Cool Hand Luke\",\"Scary Movie 2\",\"Hocus Pocus\",\"Wolf of Wall Street, The\",\"Grand Budapest Hotel, The\",\"Pushing Tin\",\"King Kong\",\"Highlander\",\"Sister Act\",\"X-Men: The Last Stand\",\"Green Mile, The\",\"Jurassic Park\",\"Dragonheart\",\"Dark City\",\"Anchorman: The Legend of Ron Burgundy\",\"American Pie\",\"Don Juan DeMarco\",\"Happy Gilmore\",\"Fargo\",\"Deadpool\",\"Pirates of the Caribbean: Dead Man's Chest\",\"Species\",\"Gone Girl\",\"Titanic\",\"Office Space\",\"Mrs. Doubtfire\",\"Ghost\",\"Mystery Men\",\"Mr. Holland's Opus\",\"Enemy at the Gates\",\"Shawshank Redemption, The\",\"Demolition Man\",\"Batman & Robin\",\"League of Their Own, A\",\"Kick-Ass\",\"13th Warrior, The\",\"Batman Begins\",\"Crouching Tiger, Hidden Dragon (Wo hu cang long)\",\"One Flew Over the Cuckoo's Nest\",\"Shakespeare in Love\",\"Fifth Element, The\",\"Scott Pilgrim vs. the World\",\"Schindler's List\",\"Fahrenheit 9/11\",\"Incredibles, The\",\"Fight Club\",\"American Graffiti\",\"Maze Runner, The\",\"Alien\",\"Pleasantville\",\"Black Sheep\",\"Batman\",\"Little Mermaid, The\",\"Full Monty, The\",\"Last Action Hero\",\"Saving Private Ryan\",\"To Kill a Mockingbird\",\"Parenthood\",\"Cliffhanger\",\"Easy A\",\"Grumpier Old Men\",\"28 Days Later\",\"Munich\",\"James and the Giant Peach\",\"Erin Brockovich\",\"Devil Wears Prada, The\",\"Batman Returns\",\"Sleeping Beauty\",\"Face/Off\",\"Boys Don't Cry\",\"Zootopia\",\"Pitch Black\",\"Da Vinci Code, The\",\"Piano, The\",\"Primal Fear\",\"Lawrence of Arabia\",\"Moulin Rouge\",\"League of Extraordinary Gentlemen, The (a.k.a. LXG)\",\"Stand by Me\",\"Transformers\",\"Hot Shots!\",\"A.I. Artificial Intelligence\",\"Breakfast Club, The\",\"X-Files: Fight the Future, The\",\"Raising Arizona\",\"American Beauty\",\"American History X\",\"Harry Potter and the Order of the Phoenix\",\"Watchmen\",\"Memento\",\"Shaun of the Dead\",\"King's Speech, The\",\"What Women Want\",\"Spider-Man 2\",\"Animal, The\",\"Last Samurai, The\",\"Bring It On\",\"Phone Booth\",\"Broken Arrow\",\"Simpsons Movie, The\",\"Back to the Future Part III\",\"Tucker & Dale vs Evil\",\"War of the Worlds\",\"Chronicles of Narnia: The Lion, the Witch and the Wardrobe, The\",\"Waterworld\",\"Inglourious Basterds\",\"My Neighbor Totoro (Tonari no Totoro)\",\"Summer of Sam\",\"Star Wars: Episode IV - A New Hope\",\"Blade\",\"Dazed and Confused\",\"O Brother, Where Art Thou?\",\"Sixteen Candles\",\"Trainspotting\",\"William Shakespeare's Romeo + Juliet\",\"Guardians of the Galaxy 2\",\"Night at the Museum\",\"My Big Fat Greek Wedding\",\"Yes Man\",\"Dead Poets Society\",\"Clear and Present Danger\",\"Snowpiercer\",\"Producers, The\",\"Lone Star\",\"Dodgeball: A True Underdog Story\",\"Indian in the Cupboard, The\",\"Collateral\",\"Charlie's Angels\",\"Chasing Amy\",\"GoldenEye\",\"Spider-Man 3\",\"Rumble in the Bronx (Hont faan kui)\",\"Beautiful Mind, A\",\"As Good as It Gets\",\"Lethal Weapon 4\",\"Django Unchained\",\"Teenage Mutant Ninja Turtles III\",\"Emperor's New Groove, The\",\"Net, The\",\"Royal Tenenbaums, The\",\"Deep Impact\",\"Stargate\",\"Bridesmaids\",\"Butch Cassidy and the Sundance Kid\",\"V for Vendetta\",\"Wayne's World\",\"I Know What You Did Last Summer\",\"Payback\",\"Downfall (Untergang, Der)\",\"JFK\",\"Matrix Reloaded, The\",\"Young Frankenstein\",\"Star Trek VI: The Undiscovered Country\",\"Planet of the Apes\",\"Panic Room\",\"Client, The\",\"Starship Troopers\",\"Rocky IV\",\"Graduate, The\",\"Amadeus\",\"Birdcage, The\",\"Poltergeist\",\"Drive\",\"Mighty Ducks, The\",\"Firm, The\",\"Bill & Ted's Excellent Adventure\",\"Road Warrior, The (Mad Max 2)\",\"Shining, The\",\"Grosse Pointe Blank\",\"Major League\",\"Lock, Stock & Two Smoking Barrels\",\"Aliens\",\"Fly, The\",\"Argo\",\"Excalibur\",\"Casino Royale\",\"City of God (Cidade de Deus)\",\"Spider-Man\",\"Cast Away\",\"Jumanji\",\"Rocky\",\"Gone Baby Gone\",\"Ocean's Twelve\",\"Blade Runner\",\"Gone with the Wind\",\"Jacob's Ladder\",\"Some Like It Hot\",\"Fantasia\",\"Quantum of Solace\",\"What's Eating Gilbert Grape\",\"Father of the Bride Part II\",\"Eraser\",\"Waterboy, The\",\"Departed, The\",\"Forgetting Sarah Marshall\",\"Master and Commander: The Far Side of the World\",\"Matchstick Men\",\"L.A. Confidential\",\"What About Bob?\",\"12 Angry Men\",\"Shanghai Noon\",\"Drop Zone\",\"Eternal Sunshine of the Spotless Mind\",\"Ransom\",\"Pi\",\"Maltese Falcon, The\",\"Boyhood\",\"Scrooged\",\"Player, The\",\"Sling Blade\",\"Atlantis: The Lost Empire\",\"Almost Famous\",\"Mary Poppins\",\"Ghostbusters II\",\"Lord of War\",\"Peter Pan\",\"Kill Bill: Vol. 2\",\"True Romance\",\"Meet the Fockers\",\"Carrie\",\"Predator\",\"Leaving Las Vegas\",\"Reservoir Dogs\",\"City of Lost Children, The (Cit\\u00e9 des enfants perdus, La)\",\"River Runs Through It, A\",\"Honey, I Shrunk the Kids\",\"American Pie 2\",\"Taken\",\"Mystic River\",\"Rear Window\",\"Gods Must Be Crazy, The\",\"Thomas Crown Affair, The\",\"Nightmare Before Christmas, The\",\"Birds, The\",\"Mulan\",\"xXx\",\"Coraline\",\"Magnolia\",\"Specialist, The\",\"Edge of Tomorrow\",\"Ref, The\",\"American Hustle\",\"WALL\\u00b7E\",\"Minority Report\",\"Chinatown\",\"Anger Management\",\"Richard III\",\"Troy\",\"Serenity\",\"Wallace & Gromit: A Close Shave\",\"Moonrise Kingdom\",\"Mulholland Drive\",\"Dr. Strangelove or: How I Learned to Stop Worrying and Love the Bomb\",\"Interstellar\",\"Romy and Michele's High School Reunion\",\"X-Men Origins: Wolverine\",\"Billy Madison\",\"Black Swan\",\"Harry Potter and the Prisoner of Azkaban\",\"Star Trek: First Contact\",\"X-Men\",\"How to Train Your Dragon\",\"White Men Can't Jump\",\"Labyrinth\",\"X2: X-Men United\",\"2001: A Space Odyssey\",\"Bull Durham\",\"Entrapment\",\"Finding Neverland\",\"Doors, The\",\"Crazy, Stupid, Love.\",\"Platoon\",\"Bambi\",\"Cars\",\"While You Were Sleeping\",\"Devil in a Blue Dress\",\"Multiplicity\",\"Grease 2\",\"Aristocats, The\",\"Terminator 3: Rise of the Machines\",\"Kingpin\",\"Kill Bill: Vol. 1\",\"Slumdog Millionaire\",\"Casino\",\"South Park: Bigger, Longer and Uncut\",\"Superman\",\"Cape Fear\",\"Tin Cup\",\"Rocky Horror Picture Show, The\",\"Children of Men\",\"Peacemaker, The\",\"Captain Phillips\",\"I.Q.\",\"Big Hero 6\",\"Willy Wonka & the Chocolate Factory\",\"Ace Ventura: Pet Detective\",\"Life Is Beautiful (La Vita \\u00e8 bella)\",\"Ray\",\"Crocodile Dundee\",\"In & Out\",\"Wedding Crashers\",\"Poseidon Adventure, The\",\"Fisher King, The\",\"Air Force One\",\"Gosford Park\",\"Brazil\",\"Con Air\",\"Hot Fuzz\",\"Pocahontas\",\"Free Willy\",\"Untouchables, The\",\"Big Fish\",\"American Werewolf in London, An\",\"Apartment, The\",\"Top Gun\",\"Idiocracy\",\"Private Parts\",\"Armageddon\",\"Bruce Almighty\",\"Die Hard 2\",\"Arachnophobia\",\"Sleepy Hollow\",\"Fish Called Wanda, A\",\"Lethal Weapon 2\",\"Twelve Monkeys (a.k.a. 12 Monkeys)\",\"Election\",\"Negotiator, The\",\"Wild Things\",\"Die Hard: With a Vengeance\",\"Vertigo\",\"Judge Dredd\",\"Total Recall\",\"Big Night\",\"Cube\",\"Timecop\",\"Three Musketeers, The\",\"Jerry Maguire\",\"I, Robot\",\"Analyze This\",\"Italian Job, The\",\"Cinema Paradiso (Nuovo cinema Paradiso)\",\"21 Jump Street\",\"Suicide Kings\",\"Sin City\",\"X-Men: Days of Future Past\",\"Showgirls\",\"Illusionist, The\",\"Mad Max: Fury Road\",\"Hellboy II: The Golden Army\",\"Addams Family Values\",\"Casablanca\",\"Princess Bride, The\",\"Wag the Dog\",\"Planet of the Apes\",\"Hot Shots! Part Deux\",\"Ghostbusters (a.k.a. Ghost Busters)\",\"Bedknobs and Broomsticks\",\"Superbad\",\"Mist, The\",\"Social Network, The\",\"Brothers Grimm, The\",\"Shrek 2\",\"Beauty and the Beast\",\"Big Short, The\",\"Evolution\",\"Lives of Others, The (Das leben der Anderen)\",\"Hitch\",\"Grumpy Old Men\",\"Star Trek IV: The Voyage Home\",\"Toy Story 3\",\"Thin Red Line, The\",\"Adaptation\",\"Copycat\",\"Looper\",\"Spirited Away (Sen to Chihiro no kamikakushi)\",\"The Count of Monte Cristo\",\"Caddyshack\",\"Field of Dreams\",\"Walk the Line\",\"Snow White and the Seven Dwarfs\",\"Running Man, The\",\"Home Alone\",\"Cell, The\",\"Prestige, The\",\"Ed Wood\",\"Hobbit: An Unexpected Journey, The\",\"Austin Powers: The Spy Who Shagged Me\",\"300\",\"Fantastic Four\",\"Evil Dead II (Dead by Dawn)\",\"River Wild, The\",\"The Hateful Eight\",\"Legally Blonde\",\"Dangerous Minds\",\"Exorcist, The\",\"Dr. No\",\"Robin Hood: Men in Tights\",\"Knight's Tale, A\",\"Mean Girls\",\"Star Trek: Insurrection\",\"Frequency\",\"Johnny Mnemonic\",\"Hoosiers (a.k.a. Best Shot)\",\"Star Trek: Generations\",\"West Side Story\",\"Taxi Driver\",\"Talladega Nights: The Ballad of Ricky Bobby\",\"Cinderella Man\",\"Dumbo\",\"Blue Velvet\",\"Manchurian Candidate, The\",\"Three Colors: Blue (Trois couleurs: Bleu)\",\"Craft, The\",\"Halloween\",\"Pianist, The\",\"Zoolander\",\"Muppet Christmas Carol, The\",\"Cowboy Bebop: The Movie (Cowboy Bebop: Tengoku no Tobira)\",\"Striptease\",\"Stranger than Fiction\",\"Great Gatsby, The\",\"Mad Max Beyond Thunderdome\",\"Right Stuff, The\",\"Seven Samurai (Shichinin no samurai)\",\"Usual Suspects, The\",\"World Is Not Enough, The\",\"Mighty Aphrodite\",\"Best in Show\",\"Coyote Ugly\",\"Lost in Translation\",\"Mad Max\",\"Island of Dr. Moreau, The\",\"Red Dragon\",\"Star Wars: Episode VII - The Force Awakens\",\"Gone in 60 Seconds\",\"The Revenant\",\"Corpse Bride\",\"Underworld\",\"Logan\",\"Rocketeer, The\",\"Charlie and the Chocolate Factory\",\"Secretary\",\"Hotel Rwanda\",\"Talented Mr. Ripley, The\",\"M*A*S*H (a.k.a. MASH)\",\"How to Make an American Quilt\",\"Great Escape, The\",\"Bourne Supremacy, The\",\"Star Trek V: The Final Frontier\",\"Game, The\",\"Men in Black II (a.k.a. MIIB) (a.k.a. MIB 2)\",\"Sleepless in Seattle\",\"Scream 3\",\"Hancock\",\"Road Trip\",\"National Treasure\",\"Robin Hood\",\"Enemy of the State\",\"From Dusk Till Dawn\",\"Austin Powers: International Man of Mystery\",\"Breakfast at Tiffany's\",\"Life of Pi\",\"Mummy, The\",\"Quick and the Dead, The\",\"Cider House Rules, The\",\"Ratatouille\",\"Bourne Ultimatum, The\",\"Godfather, The\",\"Scanner Darkly, A\",\"It's a Wonderful Life\",\"Love Actually\",\"Scream 2\",\"Nutty Professor, The\",\"When Harry Met Sally...\",\"Blazing Saddles\",\"Lucky Number Slevin\",\"Knocked Up\",\"Crying Game, The\",\"Beverly Hills Cop III\",\"For a Few Dollars More (Per qualche dollaro in pi\\u00f9)\",\"Dark Knight Rises, The\",\"Van Helsing\",\"Cinderella\",\"Truth About Cats & Dogs, The\",\"Beavis and Butt-Head Do America\",\"Star Trek II: The Wrath of Khan\",\"Akira\",\"Expendables, The\",\"Hunchback of Notre Dame, The\",\"Sherlock Holmes\",\"Footloose\",\"Curious Case of Benjamin Button, The\",\"Wallace & Gromit: The Wrong Trousers\",\"Much Ado About Nothing\",\"Signs\",\"Singin' in the Rain\",\"Red Violin, The (Violon rouge, Le)\",\"Harry Potter and the Sorcerer's Stone (a.k.a. Harry Potter and the Philosopher's Stone)\",\"Iron Man 2\",\"Rushmore\",\"Blair Witch Project, The\",\"Space Jam\",\"Zack and Miri Make a Porno\",\"Run Lola Run (Lola rennt)\",\"Spaceballs\",\"Rush Hour 2\",\"Sunset Blvd. (a.k.a. Sunset Boulevard)\",\"Matrix Revolutions, The\",\"Gremlins\",\"So I Married an Axe Murderer\",\"Time Bandits\",\"How the Grinch Stole Christmas (a.k.a. The Grinch)\",\"Dogma\",\"Million Dollar Baby\",\"From Russia with Love\",\"Garden State\",\"Powder\",\"Ex Machina\",\"Silver Linings Playbook\",\"Rain Man\",\"Executive Decision\",\"Femme Nikita, La (Nikita)\",\"Moonraker\",\"Chicago\",\"Broadcast News\",\"American Gangster\",\"Alice in Wonderland\",\"French Connection, The\",\"Harry Potter and the Deathly Hallows: Part 2\",\"Bone Collector, The\",\"Sphere\",\"Little Women\",\"Congo\",\"Jewel of the Nile, The\",\"Charlie's Angels: Full Throttle\",\"Edge, The\",\"Lethal Weapon\",\"Wild Wild West\",\"AVP: Alien vs. Predator\",\"Patton\",\"Hulk\",\"Strange Days\",\"Get Shorty\",\"Glory\",\"My Fair Lady\",\"Brady Bunch Movie, The\",\"Bicycle Thieves (a.k.a. The Bicycle Thief) (a.k.a. The Bicycle Thieves) (Ladri di biciclette)\",\"Cabin in the Woods, The\",\"Splash\",\"Me, Myself & Irene\",\"Meet Joe Black\",\"Pan's Labyrinth (Laberinto del fauno, El)\",\"Revenge of the Nerds\",\"Alien: Resurrection\",\"Say Anything...\",\"The Devil's Advocate\",\"Vanilla Sky\",\"The Machinist\",\"Patriot, The\",\"Ocean's Thirteen\",\"Twister\",\"Madagascar\",\"Fast Times at Ridgemont High\",\"Pitch Perfect\",\"Team America: World Police\",\"Boondock Saints, The\",\"Superman Returns\",\"Saint, The\",\"Lara Croft: Tomb Raider\",\"Star Wars: Episode I - The Phantom Menace\",\"Nine Months\",\"Constantine\",\"Wizard of Oz, The\",\"Lemony Snicket's A Series of Unfortunate Events\",\"Sabrina\",\"Brave\",\"Sound of Music, The\",\"Rush Hour\",\"Dirty Rotten Scoundrels\",\"Hangover, The\",\"Little Shop of Horrors\",\"Old Boy\",\"Thor\",\"Addams Family, The\",\"Dracula: Dead and Loving It\",\"Bicentennial Man\",\"Beverly Hillbillies, The\",\"Wedding Planner, The\",\"Blow\",\"Little Miss Sunshine\",\"Role Models\",\"Nausica\\u00e4 of the Valley of the Wind (Kaze no tani no Naushika)\",\"Bridge on the River Kwai, The\",\"Fear and Loathing in Las Vegas\",\"Iron Giant, The\",\"Training Day\",\"Harry Potter and the Deathly Hallows: Part 1\",\"Dracula (Bram Stoker's Dracula)\",\"Driving Miss Daisy\",\"Into the Wild\",\"Casper\",\"Close Encounters of the Third Kind\",\"Battle Royale (Batoru rowaiaru)\",\"Live and Let Die\",\"Pinocchio\",\"Courage Under Fire\",\"Road to Perdition\",\"Pursuit of Happyness, The\",\"Finding Forrester\",\"Birdman: Or (The Unexpected Virtue of Ignorance)\",\"Escape from New York\",\"Rudy\",\"Ice Age 2: The Meltdown\",\"Phenomenon\",\"Scary Movie\",\"Contact\",\"Kung Fu Panda\",\"3:10 to Yuma\",\"Crocodile Dundee II\",\"Mallrats\",\"Pineapple Express\",\"The Lego Movie\",\"A-Team, The\",\"21 Grams\",\"Dune\",\"Good Morning, Vietnam\",\"Tank Girl\",\"Volcano\",\"101 Dalmatians (One Hundred and One Dalmatians)\",\"Never Been Kissed\",\"Heathers\",\"Tomorrow Never Dies\",\"Matilda\",\"Lethal Weapon 3\",\"Runaway Bride\",\"Adventures of Priscilla, Queen of the Desert, The\",\"Kingsman: The Secret Service\",\"My Best Friend's Wedding\",\"Aeon Flux\",\"Waking Ned Devine (a.k.a. Waking Ned)\",\"Cool Runnings\",\"Mission: Impossible III\",\"Burn After Reading\",\"Escape from L.A.\",\"Despicable Me\",\"20,000 Leagues Under the Sea\",\"Dave\",\"Hellboy\",\"This Is 40\",\"School of Rock\",\"Spy Hard\",\"Black Hawk Down\",\"Dangerous Liaisons\",\"U-571\",\"Naked Gun 33 1/3: The Final Insult\",\"Mr. & Mrs. Smith\",\"Babel\",\"Gangs of New York\",\"World's End, The\",\"Eyes Wide Shut\",\"Mummy Returns, The\",\"Ghost in the Shell (K\\u00f4kaku kid\\u00f4tai)\",\"Annie Hall\",\"Conan the Barbarian\",\"Wallace & Gromit in The Curse of the Were-Rabbit\",\"Roger & Me\",\"Moon\",\"Raging Bull\",\"Naked Gun: From the Files of Police Squad!, The\",\"Smokin' Aces\",\"Grease\",\"50 First Dates\",\"Boot, Das (Boat, The)\",\"Cable Guy, The\",\"Equilibrium\",\"John Wick\",\"Rounders\",\"Dog Day Afternoon\",\"Great Mouse Detective, The\",\"Superman II\",\"Trading Places\",\"Hannibal\",\"Others, The\",\"In Bruges\",\"Day After Tomorrow, The\",\"Arrival\",\"The Imitation Game\",\"NeverEnding Story, The\",\"Sweet Home Alabama\",\"Gravity\",\"City Slickers II: The Legend of Curly's Gold\",\"Sherlock Holmes: A Game of Shadows\",\"Hackers\",\"Behind Enemy Lines\",\"Ben-Hur\",\"Short Circuit\",\"Celebration, The (Festen)\",\"Tangled\",\"Miss Congeniality\",\"Angels in the Outfield\",\"In the Name of the Father\",\"Better Off Dead...\",\"Spy Game\",\"Pride & Prejudice\",\"Click\",\"Sweeney Todd: The Demon Barber of Fleet Street\",\"Her\",\"Insomnia\",\"15 Minutes\",\"Incredible Hulk, The\",\"Joe Dirt\",\"Antz\",\"Jumper\",\"Sabrina\",\"Emma\",\"Night of the Living Dead\",\"Perfect Storm, The\",\"One Hour Photo\",\"Killing Fields, The\",\"Death Proof\",\"Manhattan\",\"Deuce Bigalow: Male Gigolo\",\"Patch Adams\",\"Amazing Spider-Man, The\",\"Crow, The\",\"Up in the Air\",\"Pirates of the Caribbean: On Stranger Tides\",\"Barb Wire\"],\"x\":{\"__ndarray__\":\"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\",\"dtype\":\"float32\",\"shape\":[1000]},\"y\":{\"__ndarray__\":\"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\",\"dtype\":\"float32\",\"shape\":[1000]}},\"selected\":{\"id\":\"1035\",\"type\":\"Selection\"},\"selection_policy\":{\"id\":\"1034\",\"type\":\"UnionRenderers\"}},\"id\":\"1002\",\"type\":\"ColumnDataSource\"},{\"attributes\":{\"active_drag\":\"auto\",\"active_inspect\":\"auto\",\"active_multi\":null,\"active_scroll\":\"auto\",\"active_tap\":\"auto\",\"tools\":[{\"id\":\"1014\",\"type\":\"PanTool\"},{\"id\":\"1015\",\"type\":\"WheelZoomTool\"},{\"id\":\"1016\",\"type\":\"ZoomInTool\"},{\"id\":\"1017\",\"type\":\"BoxZoomTool\"},{\"id\":\"1018\",\"type\":\"ResetTool\"},{\"id\":\"1019\",\"type\":\"HoverTool\"}]},\"id\":\"1020\",\"type\":\"Toolbar\"},{\"attributes\":{},\"id\":\"1010\",\"type\":\"LinearScale\"},{\"attributes\":{},\"id\":\"1016\",\"type\":\"ZoomInTool\"},{\"attributes\":{\"bottom_units\":\"screen\",\"fill_alpha\":{\"value\":0.5},\"fill_color\":{\"value\":\"lightgrey\"},\"left_units\":\"screen\",\"level\":\"overlay\",\"line_alpha\":{\"value\":1.0},\"line_color\":{\"value\":\"black\"},\"line_dash\":[4,4],\"line_width\":{\"value\":2},\"render_mode\":\"css\",\"right_units\":\"screen\",\"top_units\":\"screen\"},\"id\":\"1033\",\"type\":\"BoxAnnotation\"},{\"attributes\":{},\"id\":\"1014\",\"type\":\"PanTool\"},{\"attributes\":{\"fill_alpha\":{\"value\":0.7},\"fill_color\":{\"field\":\"colors\"},\"line_color\":{\"value\":\"#1f77b4\"},\"size\":{\"units\":\"screen\",\"value\":5},\"x\":{\"field\":\"x\"},\"y\":{\"field\":\"y\"}},\"id\":\"1028\",\"type\":\"Scatter\"},{\"attributes\":{},\"id\":\"1012\",\"type\":\"LinearScale\"},{\"attributes\":{\"overlay\":{\"id\":\"1033\",\"type\":\"BoxAnnotation\"}},\"id\":\"1017\",\"type\":\"BoxZoomTool\"},{\"attributes\":{},\"id\":\"1034\",\"type\":\"UnionRenderers\"},{\"attributes\":{\"callback\":null,\"tooltips\":[[\"content\",\"@title\"]]},\"id\":\"1019\",\"type\":\"HoverTool\"}],\"root_ids\":[\"1003\"]},\"title\":\"Bokeh Application\",\"version\":\"1.3.4\"}};\n",
       "  var render_items = [{\"docid\":\"6d6aecda-2123-42a5-8a88-c7be9bb7b802\",\"roots\":{\"1003\":\"3083c2c8-2f89-43de-95ad-3141ac0e1670\"}}];\n",
       "  root.Bokeh.embed.embed_items_notebook(docs_json, render_items);\n",
       "\n",
       "  }\n",
       "  if (root.Bokeh !== undefined) {\n",
       "    embed_document(root);\n",
       "  } else {\n",
       "    var attempts = 0;\n",
       "    var timer = setInterval(function(root) {\n",
       "      if (root.Bokeh !== undefined) {\n",
       "        embed_document(root);\n",
       "        clearInterval(timer);\n",
       "      }\n",
       "      attempts++;\n",
       "      if (attempts > 100) {\n",
       "        console.log(\"Bokeh: ERROR: Unable to run BokehJS code because BokehJS library is missing\");\n",
       "        clearInterval(timer);\n",
       "      }\n",
       "    }, 10, root)\n",
       "  }\n",
       "})(window);"
      ],
      "application/vnd.bokehjs_exec.v0+json": ""
     },
     "metadata": {
      "application/vnd.bokehjs_exec.v0+json": {
       "id": "1003"
      }
     },
     "output_type": "display_data"
    }
   ],
   "source": [
    "plot_bokeh_comend_drama_embeddings(df_movies, vecs2D)"
   ]
  },
  {
   "cell_type": "markdown",
   "metadata": {},
   "source": []
  },
  {
   "cell_type": "code",
   "execution_count": null,
   "metadata": {},
   "outputs": [],
   "source": []
  }
 ],
 "metadata": {
  "kernelspec": {
   "display_name": "Python 3",
   "language": "python",
   "name": "python3"
  },
  "language_info": {
   "codemirror_mode": {
    "name": "ipython",
    "version": 3
   },
   "file_extension": ".py",
   "mimetype": "text/x-python",
   "name": "python",
   "nbconvert_exporter": "python",
   "pygments_lexer": "ipython3",
   "version": "3.7.4"
  }
 },
 "nbformat": 4,
 "nbformat_minor": 4
}
