{
 "cells": [
  {
   "cell_type": "markdown",
   "metadata": {},
   "source": [
    "# IMDB with pytorch but using keras data\n",
    "\n",
    "I just realized that I was using a mere 2000 records and the keras book and examples were using a much larger 25000 (train and also test) data set. So I'm going to use keras to pull that data and but process it using PyTorch."
   ]
  },
  {
   "cell_type": "code",
   "execution_count": 3,
   "metadata": {},
   "outputs": [],
   "source": [
    "import math\n",
    "import torch\n",
    "dtype = torch.float\n",
    "device = torch.device('cuda:0' if torch.cuda.is_available() else 'cpu')"
   ]
  },
  {
   "cell_type": "code",
   "execution_count": 4,
   "metadata": {},
   "outputs": [],
   "source": [
    "def train_test_split(X, y, test_size:float):\n",
    "    n = len(X)\n",
    "    shuffle_idx = np.random.permutation(range(n))\n",
    "    X = X[shuffle_idx]\n",
    "    y = y[shuffle_idx]\n",
    "    n_valid = int(n*test_size)\n",
    "    n_train = n - n_valid\n",
    "    X_train, X_valid = X[0:n_train].to(device), X[n_train:].to(device)\n",
    "    y_train, y_valid = y[0:n_train].to(device), y[n_train:].to(device)\n",
    "    return X_train, X_valid, y_train, y_valid"
   ]
  },
  {
   "cell_type": "code",
   "execution_count": 5,
   "metadata": {},
   "outputs": [],
   "source": [
    "import matplotlib.pyplot as plt\n",
    "def plot_history(history, yrange=(0.0, 5.00), figsize=(3.5,3)):\n",
    "    plt.figure(figsize=figsize)\n",
    "    plt.ylabel(\"Sentiment log loss\")\n",
    "    plt.xlabel(\"Epochs\")\n",
    "    loss = history[:,0]\n",
    "    valid_loss = history[:,1]\n",
    "    plt.plot(loss, label='train_loss')\n",
    "    plt.plot(valid_loss, label='val_loss')\n",
    "    # plt.xlim(0, 200)\n",
    "    plt.ylim(*yrange)\n",
    "    plt.legend(loc='lower right')\n",
    "    plt.show()"
   ]
  },
  {
   "cell_type": "markdown",
   "metadata": {},
   "source": [
    "## Load IMDb from keras"
   ]
  },
  {
   "cell_type": "code",
   "execution_count": 6,
   "metadata": {},
   "outputs": [
    {
     "name": "stderr",
     "output_type": "stream",
     "text": [
      "Using TensorFlow backend.\n"
     ]
    }
   ],
   "source": [
    "import numpy as np\n",
    "import tensorflow as tf\n",
    "from keras.datasets import imdb\n",
    "from keras import preprocessing"
   ]
  },
  {
   "cell_type": "code",
   "execution_count": 7,
   "metadata": {},
   "outputs": [],
   "source": [
    "max_features = vocab_size = 10_000\n",
    "maxlen = ndocprefix = 20\n",
    "(X_train, y_train), (X_test, y_test) = imdb.load_data(num_words=max_features)"
   ]
  },
  {
   "cell_type": "code",
   "execution_count": 8,
   "metadata": {},
   "outputs": [],
   "source": [
    "X_train = preprocessing.sequence.pad_sequences(X_train, maxlen=maxlen)\n",
    "X_test = preprocessing.sequence.pad_sequences(X_test, maxlen=maxlen)"
   ]
  },
  {
   "cell_type": "code",
   "execution_count": 9,
   "metadata": {},
   "outputs": [],
   "source": [
    "X_train = torch.tensor(X_train).long().to(device)\n",
    "X_test = torch.tensor(X_test).long().to(device)\n",
    "y_train = torch.tensor(y_train).float().reshape(-1,1).to(device)\n",
    "y_test = torch.tensor(y_test).float().reshape(-1,1).to(device)"
   ]
  },
  {
   "cell_type": "code",
   "execution_count": 10,
   "metadata": {},
   "outputs": [],
   "source": [
    "X_train, X_valid, y_train, y_valid = train_test_split(X_train, y_train, 0.20)"
   ]
  },
  {
   "cell_type": "markdown",
   "metadata": {},
   "source": [
    "## Train"
   ]
  },
  {
   "cell_type": "code",
   "execution_count": 11,
   "metadata": {},
   "outputs": [],
   "source": [
    "import torch\n",
    "import torch.nn as nn\n",
    "from torch.utils.data import Dataset, DataLoader, TensorDataset"
   ]
  },
  {
   "cell_type": "code",
   "execution_count": 12,
   "metadata": {},
   "outputs": [],
   "source": [
    "class IMBD(TensorDataset):\n",
    "    def __init__(self, X, y):\n",
    "        super().__init__(X, y)\n",
    "        self.X = X # track with easy to use fields\n",
    "        self.y = y"
   ]
  },
  {
   "cell_type": "code",
   "execution_count": 13,
   "metadata": {},
   "outputs": [],
   "source": [
    "from sklearn.metrics import accuracy_score\n",
    "def train(model, train_data, valid_data,\n",
    "          epochs=350,\n",
    "          test_size=0.20,\n",
    "          learning_rate = 0.002,\n",
    "          batch_size=32,\n",
    "          weight_decay=1.e-4,\n",
    "          loss_fn=nn.BCELoss(),\n",
    "          print_every=30):\n",
    "    history = []\n",
    "    train_loader = DataLoader(train_data, batch_size=batch_size)\n",
    "#     optimizer = torch.optim.Adam(model.parameters(), lr=learning_rate, weight_decay=weight_decay)\n",
    "    optimizer = torch.optim.RMSprop(model.parameters(), lr=learning_rate, weight_decay=weight_decay)\n",
    "\n",
    "    for ei in range(epochs): # epochs\n",
    "        for bi, (batch_x, batch_y) in enumerate(train_loader): # mini-batch\n",
    "#             if len(batch_x)!=batch_size:\n",
    "#                 print(f\"\\tBatch {bi:3d} len {len(batch_x)}\")\n",
    "            y_prob = model(batch_x)\n",
    "            loss = loss_fn(y_prob, batch_y) \n",
    "\n",
    "            optimizer.zero_grad()\n",
    "            loss.backward() # autograd computes U.grad and M.grad\n",
    "            optimizer.step()\n",
    "        \n",
    "        with torch.no_grad():\n",
    "            loss        = loss_fn(model(train_data.X), train_data.y)\n",
    "            loss_valid  = loss_fn(model(valid_data.X), valid_data.y)\n",
    "            accur_train = accuracy_score(torch.round(model(train_data.X).cpu()), train_data.y.cpu())\n",
    "            accur_valid = accuracy_score(torch.round(model(valid_data.X).cpu()), valid_data.y.cpu())\n",
    "\n",
    "        history.append( (loss, loss_valid) )\n",
    "        if ei % print_every == 0:\n",
    "            print(f\"Epoch {ei:3d} log loss {loss:7.3f}, {loss_valid:7.3f}   accuracy {accur_train:4.3f}, {accur_valid:4.3f}\")        \n",
    "\n",
    "    history = torch.tensor(history)\n",
    "    return model, history"
   ]
  },
  {
   "cell_type": "code",
   "execution_count": 14,
   "metadata": {},
   "outputs": [],
   "source": [
    "class Sentiment(nn.Module):\n",
    "    def __init__(self, vocab_size, nfactors):\n",
    "        super(Sentiment, self).__init__()\n",
    "        self.embedding = nn.Embedding(vocab_size, nfactors)\n",
    "        self.final = nn.Linear(ndocprefix*nfactors,1)\n",
    "        \n",
    "    def forward(self, x):\n",
    "#         print(x.device)       # cuda:0 or cpu\n",
    "#         print(x.shape)      # [1600, 20]\n",
    "        output = self.embedding(x)\n",
    "#         print(output.shape) # [1600, 20, 8] = (samples, num word features, embedding dim)\n",
    "        # must cat the 20 64-vectors together\n",
    "        output = output.view((x.shape[0], -1))\n",
    "#         print(output.shape) # [1600, 160]\n",
    "        output = self.final(output)\n",
    "#         print(output.shape) # [1600, 1]\n",
    "        return torch.sigmoid(output)"
   ]
  },
  {
   "cell_type": "code",
   "execution_count": 21,
   "metadata": {},
   "outputs": [
    {
     "name": "stdout",
     "output_type": "stream",
     "text": [
      "20000 training and 5000 test records\n",
      "Epoch   0 log loss   0.476,   0.519   accuracy 0.773, 0.735\n",
      "Epoch   1 log loss   0.456,   0.517   accuracy 0.786, 0.733\n",
      "Epoch   2 log loss   0.440,   0.513   accuracy 0.796, 0.737\n",
      "Epoch   3 log loss   0.426,   0.507   accuracy 0.806, 0.741\n",
      "Epoch   4 log loss   0.423,   0.505   accuracy 0.808, 0.743\n",
      "Epoch   5 log loss   0.423,   0.506   accuracy 0.807, 0.741\n",
      "Epoch   6 log loss   0.422,   0.507   accuracy 0.807, 0.745\n",
      "Epoch   7 log loss   0.423,   0.509   accuracy 0.806, 0.744\n",
      "Epoch   8 log loss   0.425,   0.510   accuracy 0.806, 0.743\n",
      "Epoch   9 log loss   0.426,   0.511   accuracy 0.805, 0.741\n"
     ]
    },
    {
     "data": {
      "image/png": "[encoded data removed]",
      "text/plain": [
       "<Figure size 252x216 with 1 Axes>"
      ]
     },
     "metadata": {
      "needs_background": "light"
     },
     "output_type": "display_data"
    }
   ],
   "source": [
    "nfactors = 6\n",
    "model = Sentiment(vocab_size, nfactors).to(device)\n",
    "\n",
    "print(f\"{len(X_train)} training and {len(X_valid)} test records\")\n",
    "model, history = train(model, IMBD(X_train, y_train), IMBD(X_valid, y_valid),\n",
    "                       epochs=10,\n",
    "                       learning_rate=.03,\n",
    "                       weight_decay=0.0001,\n",
    "                       batch_size=32,\n",
    "                       print_every=1)\n",
    "\n",
    "plot_history(history, yrange=(0,1.5))"
   ]
  },
  {
   "cell_type": "markdown",
   "metadata": {},
   "source": [
    "Whew! Ok,Getting the same rough accuracy that those guys do from the book. They said about 76% accurate."
   ]
  },
  {
   "cell_type": "markdown",
   "metadata": {},
   "source": [
    "## Add more layers and dropout"
   ]
  },
  {
   "cell_type": "code",
   "execution_count": 37,
   "metadata": {},
   "outputs": [],
   "source": [
    "import torch\n",
    "import torch.nn as nn\n",
    "\n",
    "layer1 = 64\n",
    "layer2 = 32\n",
    "class SentimentRegularized(nn.Module):\n",
    "    def __init__(self, vocab_size, nfactors):\n",
    "        super(SentimentRegularized, self).__init__()\n",
    "        self.embedding = nn.Embedding(vocab_size, nfactors)\n",
    "        self.layers = nn.Sequential(\n",
    "            nn.Linear(ndocprefix*nfactors,layer1), # 300 neurons\n",
    "#            nn.BatchNorm1d(layer1),\n",
    "            nn.ReLU(),\n",
    "            nn.Dropout(p=0.3),\n",
    "            nn.Linear(in_features=layer1, out_features=layer2),\n",
    "#            nn.BatchNorm1d(layer2),\n",
    "            nn.ReLU(),\n",
    "            nn.Dropout(p=0.3),\n",
    "            nn.Linear(layer2,1)\n",
    "        )\n",
    "        \n",
    "    def forward(self, x):\n",
    "        output = self.embedding(x)\n",
    "        output = output.view((x.shape[0], -1))\n",
    "        output = self.layers(output)\n",
    "        return torch.sigmoid(output)"
   ]
  },
  {
   "cell_type": "code",
   "execution_count": 39,
   "metadata": {},
   "outputs": [
    {
     "name": "stdout",
     "output_type": "stream",
     "text": [
      "20000 training and 5000 test records\n",
      "Epoch   0 log loss   0.690,   0.694   accuracy 0.524, 0.511\n",
      "Epoch   1 log loss   0.630,   0.646   accuracy 0.640, 0.608\n",
      "Epoch   2 log loss   0.548,   0.602   accuracy 0.726, 0.694\n",
      "Epoch   3 log loss   0.517,   0.587   accuracy 0.733, 0.668\n",
      "Epoch   4 log loss   0.465,   0.653   accuracy 0.785, 0.720\n",
      "Epoch   5 log loss   0.427,   0.624   accuracy 0.810, 0.720\n",
      "Epoch   6 log loss   0.373,   0.660   accuracy 0.820, 0.714\n",
      "Epoch   7 log loss   0.334,   0.769   accuracy 0.843, 0.725\n",
      "Epoch   8 log loss   0.326,   0.954   accuracy 0.857, 0.723\n",
      "Epoch   9 log loss   0.283,   1.151   accuracy 0.867, 0.720\n",
      "Epoch  10 log loss   0.242,   1.421   accuracy 0.886, 0.727\n",
      "Epoch  11 log loss   0.219,   1.803   accuracy 0.896, 0.716\n",
      "Epoch  12 log loss   0.195,   2.610   accuracy 0.913, 0.723\n",
      "Epoch  13 log loss   0.200,   3.164   accuracy 0.918, 0.711\n",
      "Epoch  14 log loss   0.155,   2.739   accuracy 0.927, 0.713\n"
     ]
    },
    {
     "data": {
      "image/png": "[encoded data removed]",
      "text/plain": [
       "<Figure size 252x216 with 1 Axes>"
      ]
     },
     "metadata": {
      "needs_background": "light"
     },
     "output_type": "display_data"
    }
   ],
   "source": [
    "nfactors = 8\n",
    "model = SentimentRegularized(vocab_size, nfactors).to(device)\n",
    "\n",
    "print(f\"{len(X_train)} training and {len(X_valid)} test records\")\n",
    "model, history = train(model, IMBD(X_train, y_train), IMBD(X_valid, y_valid),\n",
    "                       epochs=15,\n",
    "                       learning_rate=.01,\n",
    "                       weight_decay=0.0,#0001,\n",
    "                       batch_size=16,\n",
    "                       print_every=1)\n",
    "\n",
    "plot_history(history, yrange=(0,1.0))"
   ]
  },
  {
   "cell_type": "code",
   "execution_count": null,
   "metadata": {},
   "outputs": [],
   "source": []
  },
  {
   "cell_type": "code",
   "execution_count": null,
   "metadata": {},
   "outputs": [],
   "source": []
  }
 ],
 "metadata": {
  "kernelspec": {
   "display_name": "Python 3",
   "language": "python",
   "name": "python3"
  },
  "language_info": {
   "codemirror_mode": {
    "name": "ipython",
    "version": 3
   },
   "file_extension": ".py",
   "mimetype": "text/x-python",
   "name": "python",
   "nbconvert_exporter": "python",
   "pygments_lexer": "ipython3",
   "version": "3.7.4"
  }
 },
 "nbformat": 4,
 "nbformat_minor": 4
}
