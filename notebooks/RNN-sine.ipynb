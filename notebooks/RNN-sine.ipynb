{
 "cells": [
  {
   "cell_type": "markdown",
   "metadata": {},
   "source": [
    "## Recurrent neural networks\n",
    "\n",
    "The place to start seems to be [The Unreasonable Effectiveness of Recurrent Neural Networks](http://karpathy.github.io/2015/05/21/rnn-effectiveness/). I'm also following the excellent Keras book p197 on RNNs."
   ]
  },
  {
   "cell_type": "markdown",
   "metadata": {},
   "source": [
    "## Setup code"
   ]
  },
  {
   "cell_type": "code",
   "execution_count": 1,
   "metadata": {},
   "outputs": [],
   "source": [
    "import numpy as np\n",
    "import math\n",
    "import torch\n",
    "import torch.nn as nn\n",
    "from torch.utils.data import Dataset, DataLoader, TensorDataset\n",
    "import torch.functional as F\n",
    "from sklearn.metrics import accuracy_score\n",
    "import matplotlib.pyplot as plt\n",
    "\n",
    "dtype = torch.float\n",
    "device = torch.device('cuda:0' if torch.cuda.is_available() else 'cpu')"
   ]
  },
  {
   "cell_type": "code",
   "execution_count": 2,
   "metadata": {},
   "outputs": [],
   "source": [
    "def train_test_split(X, y, test_size:float):\n",
    "    n = len(X)\n",
    "    shuffle_idx = np.random.permutation(range(n))\n",
    "    X = X[shuffle_idx]\n",
    "    y = y[shuffle_idx]\n",
    "    n_valid = int(n*test_size)\n",
    "    n_train = n - n_valid\n",
    "    X_train, X_valid = X[0:n_train].to(device), X[n_train:].to(device)\n",
    "    y_train, y_valid = y[0:n_train].to(device), y[n_train:].to(device)\n",
    "    return X_train, X_valid, y_train, y_valid"
   ]
  },
  {
   "cell_type": "code",
   "execution_count": 3,
   "metadata": {},
   "outputs": [],
   "source": [
    "import matplotlib.pyplot as plt\n",
    "def plot_history(history, yrange=(0.0, 5.00), figsize=(3.5,3)):\n",
    "    plt.figure(figsize=figsize)\n",
    "    plt.ylabel(\"Sentiment log loss\")\n",
    "    plt.xlabel(\"Epochs\")\n",
    "    loss = history[:,0]\n",
    "    valid_loss = history[:,1]\n",
    "    plt.plot(loss, label='train_loss')\n",
    "    plt.plot(valid_loss, label='val_loss')\n",
    "    # plt.xlim(0, 200)\n",
    "    plt.ylim(*yrange)\n",
    "    plt.legend(loc='lower right')\n",
    "    plt.show()"
   ]
  },
  {
   "cell_type": "code",
   "execution_count": 4,
   "metadata": {},
   "outputs": [],
   "source": [
    "def normal_transform(x, mean=0.0, std=0.01):\n",
    "    \"Convert x to have mean and std\"\n",
    "    return x*std + mean\n",
    "\n",
    "def randn(n1, n2,\n",
    "          device=torch.device('cuda:0' if torch.cuda.is_available() else 'cpu'),\n",
    "          dtype=torch.float,\n",
    "          mean=0.0, std=0.01, requires_grad=False):\n",
    "    x = torch.randn(n1, n2, device=device, dtype=dtype)\n",
    "    x = normal_transform(x, mean=mean, std=std)\n",
    "    x.requires_grad=requires_grad\n",
    "    return x"
   ]
  },
  {
   "cell_type": "code",
   "execution_count": 5,
   "metadata": {},
   "outputs": [],
   "source": [
    "def rtrain(model:nn.Module, train_data:TensorDataset, valid_data:TensorDataset,\n",
    "           epochs=350,\n",
    "           test_size=0.20,\n",
    "           learning_rate = 0.002,\n",
    "           batch_size=32,\n",
    "           weight_decay=1.e-4,\n",
    "           loss_fn=nn.MSELoss(),\n",
    "           metric=nn.MSELoss(),\n",
    "           print_every=30):\n",
    "    \"Train a regressor\"\n",
    "    history = []\n",
    "    train_loader = DataLoader(train_data, batch_size=batch_size)\n",
    "    optimizer = torch.optim.Adam(model.parameters(), lr=learning_rate, weight_decay=weight_decay)\n",
    "#     optimizer = torch.optim.RMSprop(model.parameters(), lr=learning_rate, weight_decay=weight_decay)\n",
    "\n",
    "    for ei in range(epochs): # epochs\n",
    "        for bi, (batch_x, batch_y) in enumerate(train_loader): # mini-batch\n",
    "#             if len(batch_x)!=batch_size:\n",
    "#                 print(f\"\\tBatch {bi:3d} len {len(batch_x)}\")\n",
    "            y_prob = model(batch_x)\n",
    "            loss = loss_fn(y_prob, batch_y)\n",
    "\n",
    "            optimizer.zero_grad()\n",
    "            loss.backward() # autograd computes U.grad and M.grad\n",
    "            optimizer.step()\n",
    "\n",
    "        with torch.no_grad():\n",
    "            loss        = loss_fn(model(train_data.tensors[0]), train_data.tensors[1])\n",
    "            loss_valid  = loss_fn(model(valid_data.tensors[0]), valid_data.tensors[1])\n",
    "            y_pred = model(train_data.tensors[0])\n",
    "            metric_train = metric(torch.round(y_pred).cpu(), train_data.tensors[1].cpu())\n",
    "            y_pred = model(valid_data.tensors[0])\n",
    "            metric_valid = metric(torch.round(y_pred).cpu(), valid_data.tensors[1].cpu())\n",
    "\n",
    "        history.append( (loss, loss_valid) )\n",
    "        if ei % print_every == 0:\n",
    "            print(f\"Epoch {ei:3d} loss {loss:7.3f}, {loss_valid:7.3f}   {metric.__class__.__name__} {metric_train:4.3f}, {metric_valid:4.3f}\")\n",
    "\n",
    "    history = torch.tensor(history)\n",
    "    return model, history"
   ]
  },
  {
   "cell_type": "markdown",
   "metadata": {},
   "source": [
    "## Toy RNN that doesn't actually learn\n",
    "\n",
    "Let's build an RNN for a known and obvious signal like a sine wave so we don't have to worry about text at first. Predict ith value of signal from previous k values."
   ]
  },
  {
   "cell_type": "markdown",
   "metadata": {},
   "source": [
    "### Create some fake data"
   ]
  },
  {
   "cell_type": "code",
   "execution_count": 6,
   "metadata": {},
   "outputs": [
    {
     "data": {
      "text/plain": [
       "[<matplotlib.lines.Line2D at 0x1a2a558bd0>]"
      ]
     },
     "execution_count": 6,
     "metadata": {},
     "output_type": "execute_result"
    },
    {
     "data": {
      "image/png": "[encoded data removed]",
      "text/plain": [
       "<Figure size 432x288 with 1 Axes>"
      ]
     },
     "metadata": {
      "needs_background": "light"
     },
     "output_type": "display_data"
    }
   ],
   "source": [
    "timesteps = 200\n",
    "ncycles=5\n",
    "\n",
    "x = np.linspace(0,ncycles*np.pi,timesteps)\n",
    "siny = np.sin(2*x)\n",
    "plt.plot(x,siny)"
   ]
  },
  {
   "cell_type": "markdown",
   "metadata": {},
   "source": [
    "Now take slide window to get training data. ith value is predicted from previous k values"
   ]
  },
  {
   "cell_type": "code",
   "execution_count": 7,
   "metadata": {},
   "outputs": [
    {
     "data": {
      "text/plain": [
       "(torch.Size([195, 5]), torch.Size([195, 1]))"
      ]
     },
     "execution_count": 7,
     "metadata": {},
     "output_type": "execute_result"
    }
   ],
   "source": [
    "k = 5\n",
    "X = []\n",
    "y = []\n",
    "for i in range(k,len(siny)):\n",
    "    X.append(siny[i-k:i])\n",
    "    y.append(siny[i])\n",
    "X = torch.tensor(X).to(device)\n",
    "y = torch.tensor(y).reshape(-1,1).to(device)\n",
    "X.shape, y.shape"
   ]
  },
  {
   "cell_type": "code",
   "execution_count": 8,
   "metadata": {},
   "outputs": [
    {
     "data": {
      "text/plain": [
       "type"
      ]
     },
     "execution_count": 8,
     "metadata": {},
     "output_type": "execute_result"
    }
   ],
   "source": [
    "type(nn.MSELoss)"
   ]
  },
  {
   "cell_type": "markdown",
   "metadata": {},
   "source": [
    "## Training a simple RNN model\n",
    "\n",
    "I read [gist from karpathy](https://gist.github.com/karpathy/d4dee566867f8291f086) in addition to Karpathy's blog post. Using his notation, there are W_hh, W_xh, W_hy that transform the hidden state h to the next hidden state, transform's the input variable to next hidden state, and transform the hidden state to output. This [blog](https://pytorch.org/tutorials/intermediate/char_rnn_generation_tutorial.html#Creating-the-Network) was also useful but most useful was [fastai deep dive chapter](https://github.com/fastai/fastbook/blob/master/12_nlp_dive.ipynb).\n",
    "\n",
    "Note, I think fastai book does:\n",
    "\n",
    "```\n",
    "h = h + self.i_h(x[:,t])\n",
    "h = F.relu(self.h_h(h))\n",
    "```\n",
    "\n",
    "which is $W_{hh} (h^{(t-1)} + W_{xh} x^{(t)})$ but literature does $W_{hh} h^{(t-1)} + W_{xh} x^{(t)}$ so I'll stick with that."
   ]
  },
  {
   "cell_type": "code",
   "execution_count": 9,
   "metadata": {},
   "outputs": [],
   "source": [
    "X_train, X_valid, y_train, y_valid = train_test_split(X, y, 0.20)"
   ]
  },
  {
   "cell_type": "markdown",
   "metadata": {},
   "source": [
    "### Record-by-record (slow)\n",
    "\n",
    "It's much easier to understand the mechanism for RNNs if we look at one record at a time. This is definitely much slower but easier to understand than doing a single time step for all batch records at once. Easier to think about doing a single record it once because we just have a loop that computes a hidden state vector, one per record."
   ]
  },
  {
   "cell_type": "code",
   "execution_count": 10,
   "metadata": {},
   "outputs": [],
   "source": [
    "class RNN_slow(nn.Module):\n",
    "    def __init__(self, input_features=4, output_features=1, hidden_size=10):\n",
    "        super(RNN_slow, self).__init__()\n",
    "        self.output_features = output_features\n",
    "        self.hidden_size = hidden_size\n",
    "        self.W_xh  = randn(hidden_size, 1, std=0.01).double()\n",
    "        self.W_hh  = randn(hidden_size, hidden_size, std=0.01).double()\n",
    "        self.W_hy  = randn(output_features, hidden_size, std=0.01).double()\n",
    "        self.W_xh  = nn.Parameter(self.W_xh)\n",
    "        self.W_hh  = nn.Parameter(self.W_hh)\n",
    "        self.W_hy  = nn.Parameter(self.W_hy)\n",
    "\n",
    "    def forward(self, x):\n",
    "#         print(\"x\", x.shape)\n",
    "        batch_size = x.shape[0]\n",
    "        nfeatures = x.shape[1]\n",
    "        o = torch.zeros((batch_size, 1)).double()\n",
    "        for i in range(batch_size):\n",
    "            # Reset hidden state (history) at start of every record\n",
    "            # Use same W_hh and W_xh matrices for all records until SGD update step\n",
    "            h = torch.zeros((self.hidden_size, 1)).double()\n",
    "            for j in range(nfeatures):  # for all input_features\n",
    "                h = self.W_hh.mm(h) + self.W_xh * x[i, j]\n",
    "                h = torch.relu(h)  # better than sigmoid for vanishing gradient\n",
    "            # we now have an h vector that is the embedding for the ith record\n",
    "            # we have encoded/embedded the x[i] record into h\n",
    "            o[i] = self.W_hy.mm(h) # compute an output value, one per record\n",
    "        return o.reshape(batch_size, self.output_features)"
   ]
  },
  {
   "cell_type": "code",
   "execution_count": 11,
   "metadata": {},
   "outputs": [
    {
     "name": "stderr",
     "output_type": "stream",
     "text": [
      "/Users/parrt/opt/anaconda3/lib/python3.7/site-packages/ipykernel_launcher.py:3: UserWarning: To copy construct from a tensor, it is recommended to use sourceTensor.clone().detach() or sourceTensor.clone().detach().requires_grad_(True), rather than torch.tensor(sourceTensor).\n",
      "  This is separate from the ipykernel package so we can avoid doing imports until\n"
     ]
    }
   ],
   "source": [
    "# test model\n",
    "rnn = RNN_slow(input_features=k).to(device)\n",
    "y_pred = rnn(torch.tensor(X,device=device)).detach().cpu()"
   ]
  },
  {
   "cell_type": "code",
   "execution_count": 12,
   "metadata": {},
   "outputs": [
    {
     "name": "stdout",
     "output_type": "stream",
     "text": [
      "156 training and 39 test records\n"
     ]
    }
   ],
   "source": [
    "print(f\"{len(X_train)} training and {len(X_valid)} test records\")"
   ]
  },
  {
   "cell_type": "code",
   "execution_count": 14,
   "metadata": {},
   "outputs": [
    {
     "name": "stdout",
     "output_type": "stream",
     "text": [
      "Epoch   0 loss   0.512,   0.457   L1Loss 0.652, 0.600\n",
      "Epoch  20 loss   0.003,   0.004   L1Loss 0.198, 0.218\n",
      "Epoch  40 loss   0.000,   0.000   L1Loss 0.195, 0.211\n",
      "Epoch  60 loss   0.000,   0.000   L1Loss 0.195, 0.211\n",
      "Epoch  80 loss   0.000,   0.000   L1Loss 0.195, 0.210\n"
     ]
    },
    {
     "data": {
      "image/png": "[encoded data removed]",
      "text/plain": [
       "<Figure size 252x216 with 1 Axes>"
      ]
     },
     "metadata": {
      "needs_background": "light"
     },
     "output_type": "display_data"
    }
   ],
   "source": [
    "rnn = RNN_slow(input_features=k, hidden_size=10).to(device)\n",
    "model, history = rtrain(rnn, TensorDataset(X_train, y_train), TensorDataset(X_valid, y_valid),\n",
    "                        loss_fn=torch.nn.MSELoss(),\n",
    "                        metric=torch.nn.L1Loss(),\n",
    "                        epochs=100,\n",
    "                        learning_rate=.015,\n",
    "                        weight_decay=0.00001,\n",
    "                        batch_size=32,\n",
    "                        print_every=20)\n",
    "\n",
    "plot_history(history, yrange=(0,.1))"
   ]
  },
  {
   "cell_type": "code",
   "execution_count": 15,
   "metadata": {},
   "outputs": [
    {
     "data": {
      "text/plain": [
       "(-1.5, 1.5)"
      ]
     },
     "execution_count": 15,
     "metadata": {},
     "output_type": "execute_result"
    },
    {
     "data": {
      "image/png": "[encoded data removed]",
      "text/plain": [
       "<Figure size 432x288 with 1 Axes>"
      ]
     },
     "metadata": {
      "needs_background": "light"
     },
     "output_type": "display_data"
    }
   ],
   "source": [
    "x = np.linspace(0,ncycles*np.pi,timesteps)\n",
    "siny = np.sin(2*x)\n",
    "\n",
    "n_output = timesteps\n",
    "output = np.zeros(shape=(n_output,))\n",
    "output[0:k] = siny[0:k] # seed with first k values from true data\n",
    "for i in range(k,n_output):\n",
    "    y_pred = rnn(torch.tensor(output[i-k:i]).reshape(1,k)).item()\n",
    "#     print(i-k, \":\", i-1, i, \"->\", y_pred)\n",
    "    output[i] = y_pred\n",
    "\n",
    "plt.scatter(x[0:n_output], output, s=3)\n",
    "plt.ylim(-1.5,1.5)"
   ]
  },
  {
   "cell_type": "markdown",
   "metadata": {},
   "source": [
    "**The effect of the nonlinearity**. In this particular case, as I suspected, the nonlinearity is not required. For example we could use a linear model probably to compute the coefficients to predict next steps locally.\n",
    "\n",
    "If we take out the nonlinearity, then we are just computing\n",
    "\n",
    "$$\n",
    "h^{(t)} = W_{hh} h^{(t-1)} + W_{xh} x_t\n",
    "$$\n",
    "\n",
    "or:\n",
    "\n",
    "$$\n",
    "h = \\sum_{j=1}^{p} W_{hh}^{n-p}W_{xh} x_j\n",
    "$$"
   ]
  },
  {
   "cell_type": "markdown",
   "metadata": {},
   "source": [
    "### Feature-by-feature (fast)"
   ]
  },
  {
   "cell_type": "code",
   "execution_count": null,
   "metadata": {},
   "outputs": [],
   "source": [
    "class RNN(nn.Module):\n",
    "    def __init__(self, input_features=4, output_features=1, hidden_size=10):\n",
    "        super(RNN, self).__init__()\n",
    "        self.output_features = output_features\n",
    "        self.hidden_size = hidden_size\n",
    "        self.W_xh  = randn(hidden_size, 1, std=0.01).double()\n",
    "        self.W_hh  = randn(hidden_size, hidden_size, std=0.01).double()\n",
    "        self.W_hy  = randn(output_features, hidden_size, std=0.01).double()\n",
    "        self.W_xh  = nn.Parameter(self.W_xh)\n",
    "        self.W_hh  = nn.Parameter(self.W_hh)\n",
    "        self.W_hy  = nn.Parameter(self.W_hy)\n",
    "#         self.W_xh  = nn.Linear(1, hidden_size).double()\n",
    "#         self.W_hh  = nn.Linear(hidden_size,    hidden_size).double()\n",
    "#         self.W_hy  = nn.Linear(hidden_size,    output_features).double()\n",
    "#         self.bh =   torch.zeros(hidden_size, 1, dtype=torch.float) \n",
    "#         self.by =   torch.zeros(hidden_size, 1, dtype=torch.float) \n",
    "        \n",
    "    def forward(self, x):\n",
    "#         print(\"x\", x.shape)\n",
    "        batch_size = x.shape[0]\n",
    "        nfeatures = x.shape[1]\n",
    "        h = torch.zeros((self.hidden_size,1)).double() # or h=0 placeholder: it's actually going to have shape len(x) by hidden_size\n",
    "        for i in range(nfeatures): # for all input_features\n",
    "#             print(h.shape)\n",
    "            xi = x[:,i].reshape(1,-1)\n",
    "            h = self.W_hh.mm(h) + self.W_xh.mm(xi)\n",
    "            h = torch.relu(h) # better than sigmoid for vanishing gradient\n",
    "        o = self.W_hy.mm(h)\n",
    "        return o.reshape(batch_size, self.output_features)"
   ]
  },
  {
   "cell_type": "code",
   "execution_count": null,
   "metadata": {},
   "outputs": [],
   "source": [
    "# test model\n",
    "rnn = RNN(input_features=k).to(device)\n",
    "y_pred = rnn(torch.tensor(X,device=device)).detach().cpu()"
   ]
  },
  {
   "cell_type": "code",
   "execution_count": null,
   "metadata": {},
   "outputs": [],
   "source": [
    "print(f\"{len(X_train)} training and {len(X_valid)} test records\")"
   ]
  },
  {
   "cell_type": "code",
   "execution_count": null,
   "metadata": {},
   "outputs": [],
   "source": [
    "rnn = RNN(input_features=k, hidden_size=10).to(device)\n",
    "model, history = rtrain(rnn, TensorDataset(X_train, y_train), TensorDataset(X_valid, y_valid),\n",
    "                        loss_fn=torch.nn.MSELoss(),\n",
    "                        metric=torch.nn.L1Loss(),\n",
    "                        epochs=100,\n",
    "                        learning_rate=.015,\n",
    "                        weight_decay=0.00001,\n",
    "                        batch_size=32,\n",
    "                        print_every=20)\n",
    "\n",
    "plot_history(history, yrange=(0,.1))"
   ]
  },
  {
   "cell_type": "code",
   "execution_count": null,
   "metadata": {},
   "outputs": [],
   "source": [
    "x = np.linspace(0,ncycles*np.pi,timesteps)\n",
    "siny = np.sin(2*x)\n",
    "\n",
    "n_output = timesteps\n",
    "output = np.zeros(shape=(n_output,))\n",
    "output[0:k] = siny[0:k] # seed with first k values from true data\n",
    "for i in range(k,n_output):\n",
    "    y_pred = rnn(torch.tensor(output[i-k:i]).reshape(1,k)).item()\n",
    "#     print(i-k, \":\", i-1, i, \"->\", y_pred)\n",
    "    output[i] = y_pred\n",
    "\n",
    "plt.scatter(x[0:n_output], output, s=3)\n",
    "plt.ylim(-1.5,1.5)"
   ]
  },
  {
   "cell_type": "markdown",
   "metadata": {},
   "source": [
    "**BIG LESSON**: make sure you are reinit'ing your model or creating new one. I was optimizing same model again and again, getting worse and worse results. Gotta create fresh RNN() each run.\n",
    "\n",
    "batch_size=32 seems to be much better than 1, 2, 4, 8.  Converges too slowly.\n",
    "\n",
    "Increasing epochs seems to get consistently decent results. \n",
    "\n",
    "hidden_size=50 from 10 doesn't seem to help.\n",
    "\n",
    "hidden_size=4 is bad."
   ]
  },
  {
   "cell_type": "code",
   "execution_count": null,
   "metadata": {},
   "outputs": [],
   "source": []
  }
 ],
 "metadata": {
  "kernelspec": {
   "display_name": "Python 3",
   "language": "python",
   "name": "python3"
  },
  "language_info": {
   "codemirror_mode": {
    "name": "ipython",
    "version": 3
   },
   "file_extension": ".py",
   "mimetype": "text/x-python",
   "name": "python",
   "nbconvert_exporter": "python",
   "pygments_lexer": "ipython3",
   "version": "3.7.4"
  }
 },
 "nbformat": 4,
 "nbformat_minor": 4
}
